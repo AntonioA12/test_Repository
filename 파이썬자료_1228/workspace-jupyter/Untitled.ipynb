{
 "cells": [
  {
   "cell_type": "code",
   "execution_count": 3,
   "metadata": {},
   "outputs": [],
   "source": [
    "from IPython.core.interactiveshell import InteractiveShell\n",
    "InteractiveShell.ast_node_interactivity = \"all\""
   ]
  },
  {
   "cell_type": "code",
   "execution_count": 4,
   "metadata": {},
   "outputs": [
    {
     "name": "stdout",
     "output_type": "stream",
     "text": [
      "[o] 1번째 손님 운행 시간 : 30분 , 수입 : 15000원 ,남은 시간: 470분 )\n",
      "[ ] 2번째 손님과는 매칭되지 않았습니다.\n",
      "[o] 3번째 손님 운행 시간 : 13분 , 수입 : 6500원 ,남은 시간: 447분 )\n",
      "[ ] 4번째 손님과는 매칭되지 않았습니다.\n",
      "[ ] 5번째 손님과는 매칭되지 않았습니다.\n",
      "[ ] 6번째 손님과는 매칭되지 않았습니다.\n",
      "[o] 7번째 손님 운행 시간 : 24분 , 수입 : 12000원 ,남은 시간: 413분 )\n",
      "[ ] 8번째 손님과는 매칭되지 않았습니다.\n",
      "[ ] 9번째 손님과는 매칭되지 않았습니다.\n",
      "[o] 10번째 손님 운행 시간 : 21분 , 수입 : 10500원 ,남은 시간: 382분 )\n",
      "[ ] 11번째 손님과는 매칭되지 않았습니다.\n",
      "[ ] 12번째 손님과는 매칭되지 않았습니다.\n",
      "[ ] 13번째 손님과는 매칭되지 않았습니다.\n",
      "[ ] 14번째 손님과는 매칭되지 않았습니다.\n",
      "[o] 15번째 손님 운행 시간 : 16분 , 수입 : 8000원 ,남은 시간: 356분 )\n",
      "[o] 16번째 손님 운행 시간 : 28분 , 수입 : 14000원 ,남은 시간: 318분 )\n",
      "[o] 17번째 손님 운행 시간 : 21분 , 수입 : 10500원 ,남은 시간: 287분 )\n",
      "[o] 18번째 손님 운행 시간 : 25분 , 수입 : 12500원 ,남은 시간: 252분 )\n",
      "[o] 19번째 손님 운행 시간 : 21분 , 수입 : 10500원 ,남은 시간: 221분 )\n",
      "[ ] 20번째 손님과는 매칭되지 않았습니다.\n",
      "[ ] 21번째 손님과는 매칭되지 않았습니다.\n",
      "[ ] 22번째 손님과는 매칭되지 않았습니다.\n",
      "[o] 23번째 손님 운행 시간 : 19분 , 수입 : 9500원 ,남은 시간: 192분 )\n",
      "[ ] 24번째 손님과는 매칭되지 않았습니다.\n",
      "[o] 25번째 손님 운행 시간 : 30분 , 수입 : 15000원 ,남은 시간: 152분 )\n",
      "[ ] 26번째 손님과는 매칭되지 않았습니다.\n",
      "[ ] 27번째 손님과는 매칭되지 않았습니다.\n",
      "[o] 28번째 손님 운행 시간 : 13분 , 수입 : 6500원 ,남은 시간: 129분 )\n",
      "[o] 29번째 손님 운행 시간 : 26분 , 수입 : 13000원 ,남은 시간: 93분 )\n",
      "[o] 30번째 손님 운행 시간 : 29분 , 수입 : 14500원 ,남은 시간: 54분 )\n",
      "[o] 31번째 손님 운행 시간 : 20분 , 수입 : 10000원 ,남은 시간: 24분 )\n",
      "[o] 32번째 손님 운행 시간 : 23분 , 수입 : 11500원 ,남은 시간: -9분 )\n",
      "오늘 운행은 종료되었습니다.\n",
      "당신은 오늘 하루 동안 총33명의 승객 중 16명의 승객과 매칭하여 17.95만원의 수익을 얻었습니다. 오늘하루 수고하셨습니다.\n"
     ]
    }
   ],
   "source": [
    "from random import *\n",
    "\n",
    "count=0  #  손님 수\n",
    "money=0  # 수입\n",
    "atime=500 # 남은시간\n",
    "mtime=10 # 매칭시간\n",
    "\n",
    "for i in range(1,70):\n",
    "    time=randrange(5, 55)\n",
    "    if 10<=atime:\n",
    "        \n",
    "        if 10<=time<=30:\n",
    "            print(\"[o] {0}번째 손님 운행 시간 : {1}분 , 수입 : {2}원 ,남은 시간: {3}분 )\".format(i, time, time*500,atime-time))\n",
    "            atime=atime-(mtime+time)\n",
    "            count+=1\n",
    "            money+=time*500\n",
    "            \n",
    "        else:\n",
    "            print(\"[ ] {0}번째 손님과는 매칭되지 않았습니다.\".format(i))\n",
    "            \n",
    "        \n",
    "       \n",
    "        \n",
    "\n",
    "    else:\n",
    "        print(\"오늘 운행은 종료되었습니다.\")\n",
    "        break\n",
    "        \n",
    "print(\"당신은 오늘 하루 동안 총{0}명의 승객 중 {1}명의 승객과 매칭하여 {2}만원의 수익을 얻었습니다. 오늘하루 수고하셨습니다.\".format(i,count,money/10000))    \n",
    "        "
   ]
  },
  {
   "cell_type": "code",
   "execution_count": null,
   "metadata": {},
   "outputs": [],
   "source": []
  }
 ],
 "metadata": {
  "kernelspec": {
   "display_name": "Python 3",
   "language": "python",
   "name": "python3"
  },
  "language_info": {
   "codemirror_mode": {
    "name": "ipython",
    "version": 3
   },
   "file_extension": ".py",
   "mimetype": "text/x-python",
   "name": "python",
   "nbconvert_exporter": "python",
   "pygments_lexer": "ipython3",
   "version": "3.7.6"
  }
 },
 "nbformat": 4,
 "nbformat_minor": 4
}
