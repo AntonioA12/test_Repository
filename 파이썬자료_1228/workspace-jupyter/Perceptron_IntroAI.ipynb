{
 "cells": [
  {
   "cell_type": "markdown",
   "metadata": {},
   "source": [
    "# Single-layer neural network"
   ]
  },
  {
   "cell_type": "code",
   "execution_count": 38,
   "metadata": {},
   "outputs": [],
   "source": [
    "from IPython.display import Image\n",
    "import matplotlib as plt\n",
    "%matplotlib inline"
   ]
  },
  {
   "cell_type": "markdown",
   "metadata": {},
   "source": []
  },
  {
   "cell_type": "code",
   "execution_count": 22,
   "metadata": {},
   "outputs": [],
   "source": [
    "# 붓꽃 자료 가져오기 \n",
    "\n",
    "import pandas as pd\n",
    "df=pd.read_csv('https://archive.ics.uci.edu/ml/machine-learning-databases/iris/iris.data', header=None)"
   ]
  },
  {
   "cell_type": "code",
   "execution_count": 23,
   "metadata": {},
   "outputs": [
    {
     "data": {
      "text/html": [
       "<div>\n",
       "<style scoped>\n",
       "    .dataframe tbody tr th:only-of-type {\n",
       "        vertical-align: middle;\n",
       "    }\n",
       "\n",
       "    .dataframe tbody tr th {\n",
       "        vertical-align: top;\n",
       "    }\n",
       "\n",
       "    .dataframe thead th {\n",
       "        text-align: right;\n",
       "    }\n",
       "</style>\n",
       "<table border=\"1\" class=\"dataframe\">\n",
       "  <thead>\n",
       "    <tr style=\"text-align: right;\">\n",
       "      <th></th>\n",
       "      <th>0</th>\n",
       "      <th>1</th>\n",
       "      <th>2</th>\n",
       "      <th>3</th>\n",
       "      <th>4</th>\n",
       "    </tr>\n",
       "  </thead>\n",
       "  <tbody>\n",
       "    <tr>\n",
       "      <th>0</th>\n",
       "      <td>5.1</td>\n",
       "      <td>3.5</td>\n",
       "      <td>1.4</td>\n",
       "      <td>0.2</td>\n",
       "      <td>Iris-setosa</td>\n",
       "    </tr>\n",
       "    <tr>\n",
       "      <th>1</th>\n",
       "      <td>4.9</td>\n",
       "      <td>3.0</td>\n",
       "      <td>1.4</td>\n",
       "      <td>0.2</td>\n",
       "      <td>Iris-setosa</td>\n",
       "    </tr>\n",
       "    <tr>\n",
       "      <th>2</th>\n",
       "      <td>4.7</td>\n",
       "      <td>3.2</td>\n",
       "      <td>1.3</td>\n",
       "      <td>0.2</td>\n",
       "      <td>Iris-setosa</td>\n",
       "    </tr>\n",
       "    <tr>\n",
       "      <th>3</th>\n",
       "      <td>4.6</td>\n",
       "      <td>3.1</td>\n",
       "      <td>1.5</td>\n",
       "      <td>0.2</td>\n",
       "      <td>Iris-setosa</td>\n",
       "    </tr>\n",
       "    <tr>\n",
       "      <th>4</th>\n",
       "      <td>5.0</td>\n",
       "      <td>3.6</td>\n",
       "      <td>1.4</td>\n",
       "      <td>0.2</td>\n",
       "      <td>Iris-setosa</td>\n",
       "    </tr>\n",
       "  </tbody>\n",
       "</table>\n",
       "</div>"
      ],
      "text/plain": [
       "     0    1    2    3            4\n",
       "0  5.1  3.5  1.4  0.2  Iris-setosa\n",
       "1  4.9  3.0  1.4  0.2  Iris-setosa\n",
       "2  4.7  3.2  1.3  0.2  Iris-setosa\n",
       "3  4.6  3.1  1.5  0.2  Iris-setosa\n",
       "4  5.0  3.6  1.4  0.2  Iris-setosa"
      ]
     },
     "execution_count": 23,
     "metadata": {},
     "output_type": "execute_result"
    }
   ],
   "source": [
    "# 0: 꽃받침 길이(SepalLength), 1: 꽃받침의 폭(SepalWidth), 2: 꽃잎의 길이(PetalLength), 3: 꽃잎의 너비(PetalWidth), 4: 꽃 이름\n",
    "# 첫 50개: Iris-setosa, 중간 50개: Iris-vericolor, 마지막 50개: Iris-virginica\n",
    "\n",
    "df.head()"
   ]
  },
  {
   "cell_type": "code",
   "execution_count": 24,
   "metadata": {},
   "outputs": [
    {
     "data": {
      "text/plain": [
       "Int64Index([0, 1, 2, 3, 4], dtype='int64')"
      ]
     },
     "execution_count": 24,
     "metadata": {},
     "output_type": "execute_result"
    }
   ],
   "source": [
    "df.columns"
   ]
  },
  {
   "cell_type": "code",
   "execution_count": 25,
   "metadata": {},
   "outputs": [
    {
     "data": {
      "image/png": "[encoded data removed]",
      "text/plain": [
       "<Figure size 432x288 with 1 Axes>"
      ]
     },
     "metadata": {
      "needs_background": "light"
     },
     "output_type": "display_data"
    }
   ],
   "source": [
    "import matplotlib.pyplot as plt\n",
    "import numpy as np\n",
    "y=df.iloc[0:100, 4].values\n",
    "y=np.where(y=='Iris-setosa', -1, 1)\n",
    "X=df.iloc[0:100, [0,2]].values\n",
    "plt.scatter(X[:50, 0], X[:50, 1], color='red', marker='o', label='setosa')\n",
    "plt.scatter(X[50:100, 0], X[50:100, 1], color='blue', marker='x', label='versicolor')\n",
    "plt.xlabel('petal length')\n",
    "plt.ylabel('sepal length')\n",
    "plt.legend(loc='lower right')\n",
    "plt.show()"
   ]
  },
  {
   "cell_type": "markdown",
   "metadata": {},
   "source": [
    "**Perceptron**\n",
    "\n",
    "\n",
    "McCullock and Walter Pitts (MCP) neuron (*A Logical Calculus of the Ideas Immanent in Nervous Activity*, 1943, *The bulletin of mathematical biophysics* ,5(4), 115-133)\n",
    "\n",
    "Frank Rosenblatt(*The Perceptron, a Perceiving and Recognizing Automation*, 1957)\n",
    "\n",
    "Activation function: Heaviside step function\n",
    "$$\\phi(z)=\\left\\{\\begin{array}{cc}1, &if \\; z\\geq \\theta,\\\\-1,& otherwise.\\end{array}\\right.$$\n",
    "\n",
    "Perceptron rule is summarized by the following steps\n",
    "\n",
    "Step 1. Initialize the weights to 0 or small random numbers\n",
    "\n",
    "Step 2. For each training sample $x^{(i)}$ perform the following steps:\n",
    "    \n",
    "   1. Compute the output value $\\hat{y}$.\n",
    "        \n",
    "   2. Update the weights.\n",
    "        \n",
    "        $$w_j:=w_j+\\Delta w_j,$$\n",
    "        where\n",
    "        $$\\Delta w_j=\\eta\\left(y^{(i)}-\\hat{y}^{(i)}\\right)x_j^{(i)}.$$\n",
    "        \n",
    " Note that all weights in the weight vector are being updated simultaneously. Moreover, the convergence of the perceptron is only guaranteed if the two classes are linearly separable and learning rate is sufficiently small.\n"
   ]
  },
  {
   "cell_type": "code",
   "execution_count": 26,
   "metadata": {},
   "outputs": [],
   "source": [
    "# perceptron class \n",
    "\n",
    "import numpy as np\n",
    "\n",
    "class Perceptron(object):\n",
    "    \n",
    "    def __init__(self, eta=0.01, n_iter=10) :\n",
    "        self.eta=eta\n",
    "        self.n_iter=n_iter\n",
    "        \n",
    "    def fit(self, X, y) :  # X, y는 각각 100 행을 갖는 array (100개 샘플)\n",
    "        \"\"\"\n",
    "        Fitting training data\n",
    "        \n",
    "        Parameters\n",
    "        X: shape=[n_sample, n_features] training vectors\n",
    "        Y: Target values\n",
    "        \n",
    "        Return\n",
    "        self: object\n",
    "        \"\"\"\n",
    "        \n",
    "        self.w_=np.zeros(1+X.shape[1]) # 1은 편향(bias), X.shape[1] 은 feature의 개수\n",
    "        self.errors_=[]\n",
    "        \n",
    "        for _ in range(self.n_iter):\n",
    "            errors=0\n",
    "            for xi, target in zip(X,y):\n",
    "                update=self.eta*(target-self.predict(xi))\n",
    "                self.w_[1:] += update*xi  # 하나의 feature 에 대한 가중치 업데이트\n",
    "                self.w_[0] += update      # 편향에 대한 가중치 업데이트\n",
    "                errors += int(update !=0.0)\n",
    "            self.errors_.append(errors)\n",
    "        return self\n",
    "            \n",
    "        \n",
    "    def net_input(self, X):\n",
    "        \"calculate net input\"\n",
    "        return np.dot(X, self.w_[1:])+self.w_[0]\n",
    "    \n",
    "    def predict(self, X):\n",
    "        \"return class label after unit step\"\n",
    "        return np.where(self.net_input(X) >=0, 1, -1)"
   ]
  },
  {
   "cell_type": "code",
   "execution_count": 27,
   "metadata": {},
   "outputs": [],
   "source": [
    "# 붓꽃 데이터를 퍼셉트론으로 분류하기\n",
    "\n",
    "import pandas as pd\n",
    "df=pd.read_csv('https://archive.ics.uci.edu/ml/machine-learning-databases/iris/iris.data', header=None)\n",
    "\n",
    "y=df.iloc[0:100, 4].values\n",
    "y=np.where(y=='Iris-setosa', -1, 1)\n",
    "X=df.iloc[0:100, [0,2]].values"
   ]
  },
  {
   "cell_type": "code",
   "execution_count": 28,
   "metadata": {},
   "outputs": [
    {
     "data": {
      "text/plain": [
       "<__main__.Perceptron at 0x2b175122508>"
      ]
     },
     "execution_count": 28,
     "metadata": {},
     "output_type": "execute_result"
    }
   ],
   "source": [
    "ppn=Perceptron(eta=0.1, n_iter=10)\n",
    "ppn.fit(X,y)\n"
   ]
  },
  {
   "cell_type": "code",
   "execution_count": 29,
   "metadata": {},
   "outputs": [
    {
     "data": {
      "image/png": "[encoded data removed]",
      "text/plain": [
       "<Figure size 432x288 with 1 Axes>"
      ]
     },
     "metadata": {
      "needs_background": "light"
     },
     "output_type": "display_data"
    }
   ],
   "source": [
    "# 분류 확인하기\n",
    "\n",
    "plt.plot(range(1,len(ppn.errors_) + 1), ppn.errors_,marker='o')\n",
    "plt.xlabel('Epochs')\n",
    "plt.ylabel('Number of misclassifcations')\n",
    "plt.show()"
   ]
  },
  {
   "cell_type": "code",
   "execution_count": 30,
   "metadata": {},
   "outputs": [],
   "source": [
    "from matplotlib.colors import ListedColormap\n",
    "def plot_decision_regions(X,y,classifier, resolution=0.02):\n",
    "    #setup marker generater and color map\n",
    "    markers=('s','x','o','^','v')\n",
    "    colors =('red','blue','lightgreen','gray','cyan')\n",
    "    cmap=ListedColormap(colors[:len(np.unique(y))])\n",
    "    \n",
    "    #plot the decision surface\n",
    "    x1_min, x1_max=X[:,0].min()-1,X[:,0].max()+1\n",
    "    x2_min, x2_max=X[:,1].min()-1,X[:,1].max()+1\n",
    "    xx1, xx2 = np.meshgrid(np.arange(x1_min, x1_max, resolution), \n",
    "                           np.arange(x2_min, x2_max, resolution))\n",
    "    z=classifier.predict(np.array([xx1.ravel(), xx2.ravel()]).T)\n",
    "    z=z.reshape(xx1.shape)\n",
    "    plt.contourf(xx1,xx2,z,alpha=0.4, cmap=cmap)\n",
    "    plt.xlim(xx1.min(), xx1.max())\n",
    "    plt.ylim(xx2.min(), xx2.max())\n",
    "    \n",
    "    #plot class samples\n",
    "    for idx, cl in enumerate(np.unique(y)):\n",
    "        plt.scatter(x=X[y ==cl, 0], y=X[y==cl, 1],\n",
    "                   alpha=0.8, c=cmap(idx),\n",
    "                   marker=markers[idx], label=cl)"
   ]
  },
  {
   "cell_type": "code",
   "execution_count": 31,
   "metadata": {},
   "outputs": [
    {
     "name": "stderr",
     "output_type": "stream",
     "text": [
      "'c' argument looks like a single numeric RGB or RGBA sequence, which should be avoided as value-mapping will have precedence in case its length matches with 'x' & 'y'.  Please use a 2-D array with a single row if you really want to specify the same RGB or RGBA value for all points.\n",
      "'c' argument looks like a single numeric RGB or RGBA sequence, which should be avoided as value-mapping will have precedence in case its length matches with 'x' & 'y'.  Please use a 2-D array with a single row if you really want to specify the same RGB or RGBA value for all points.\n"
     ]
    },
    {
     "data": {
      "image/png": "[encoded data removed]",
      "text/plain": [
       "<Figure size 432x288 with 1 Axes>"
      ]
     },
     "metadata": {
      "needs_background": "light"
     },
     "output_type": "display_data"
    }
   ],
   "source": [
    "plot_decision_regions(X,y,classifier=ppn)\n",
    "plt.xlabel('sepal length [cm]')\n",
    "plt.ylabel('petal length [cm]')\n",
    "plt.legend(loc='upper left')\n",
    "plt.show()"
   ]
  },
  {
   "cell_type": "code",
   "execution_count": null,
   "metadata": {},
   "outputs": [],
   "source": []
  },
  {
   "cell_type": "code",
   "execution_count": null,
   "metadata": {},
   "outputs": [],
   "source": []
  }
 ],
 "metadata": {
  "kernelspec": {
   "display_name": "Python 3",
   "language": "python",
   "name": "python3"
  },
  "language_info": {
   "codemirror_mode": {
    "name": "ipython",
    "version": 3
   },
   "file_extension": ".py",
   "mimetype": "text/x-python",
   "name": "python",
   "nbconvert_exporter": "python",
   "pygments_lexer": "ipython3",
   "version": "3.7.6"
  }
 },
 "nbformat": 4,
 "nbformat_minor": 2
}
