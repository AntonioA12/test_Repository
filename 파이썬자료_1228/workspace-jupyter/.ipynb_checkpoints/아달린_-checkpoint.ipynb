{
 "cells": [
  {
   "cell_type": "code",
   "execution_count": 3,
   "metadata": {},
   "outputs": [],
   "source": [
    "from IPython.core.interactiveshell import InteractiveShell\n",
    "InteractiveShell.ast_node_interactivity = \"all\"\n",
    "\n",
    "import numpy as np\n",
    "import pandas as pd\n",
    "import matplotlib\n",
    "import matplotlib.pyplot as plt\n",
    "from matplotlib import style\n",
    "import sys\n",
    "%matplotlib inline\n"
   ]
  },
  {
   "cell_type": "markdown",
   "metadata": {},
   "source": [
    "## 경사하강법 아달린"
   ]
  },
  {
   "cell_type": "markdown",
   "metadata": {},
   "source": [
    "## 매개변수 :\n",
    "\n",
    "    eta : float = 학습률 (0.0 ~ 1.0)\n",
    "    n_iter : int = 훈련 데이터셋 반복 횟수\n",
    "    random_state =  가중치 무작위 초기화를 위한 난수 생성기 시드\n",
    "    \n",
    "\n",
    "    X : {array-like}, shape = {n_samples, n_features}\n",
    "    (n_samples 개의 샘플과 n_features개의 특성으로 이루어진 훈련데이터)\n",
    "\n",
    "    # 꽃받침 0 , 꽃받침 길이 2  호출\n",
    "      \n",
    "    y : array-like, shape = [n_samples](타깃값) =   부채붓꽃이라면 -1, 아니면 1 로 출력\n",
    "    \n",
    "## 속성\n",
    "\n",
    "    w_ : 1d-array = 학습된 가중치\n",
    "    \n",
    "    cost_ : list / 에포크마다 누적된 비용 함수의 제곱합\n",
    "\n",
    "    log(cost_) = 그레디언트 ( 편미분된 비용함수 )\n",
    "    \n",
    "### 코멘트    \n",
    "    \n",
    "    1.가중치 w_ 는 \n",
    "    \n",
    "    무작위 난수초기화 후,\n",
    "    y - output = error , \n",
    "    \n",
    "    w_ ( 최종값의 정답의 차 ( eta * error.sum()) / X * 에러 ) \n",
    "    \n",
    "    2.최종값의 루트 = X * ( X * 에러) +  error.sum() \n",
    "    \n",
    "    3. 최종값의 루트가 양수면 1 , 음수면 -1 ( 계단함수) 이 값을 a 라고 가정하면\n",
    "        return a \n",
    "    \n",
    "### 확률적 경사하강법 ( 학습률을 찾아라 ) \n",
    "\n",
    "     학습률이 0.1 이면 비용함수는 증가함 = 경사하강법의 최적의 비용함수를 찾을수 없음\n",
    "     반대로 학습률이 0.0001 일경우 비용함수 작아짐 ( 미분됨) 비용함수의 최솟값을 ( 우리가 원하는 답 ) 을 찾을 수 있다.\n",
    "     우리는 비용함수 argmin 의 학습률이 몃번해야하는지 알아야한다.\n",
    "\n",
    "### 최적의 학습률을 찾고 eta_final = 최적의 학습률 \n",
    "    \n",
    "    eta_final 과 다시 fit() 하여 predict() 에 net_input() 대입"
   ]
  },
  {
   "cell_type": "markdown",
   "metadata": {},
   "source": [
    "## 확률적 경사하강법 아달린"
   ]
  },
  {
   "cell_type": "markdown",
   "metadata": {},
   "source": [
    "퍼셉트론 / 아달린 / 로지스틱 / ?? / << 범위만 중간까지 \n",
    "\n",
    "다층신경망 / 순전파 / 경사하강법 / 오차역전파 ~ 14W = 기말 \n",
    "\n"
   ]
  },
  {
   "cell_type": "code",
   "execution_count": 40,
   "metadata": {},
   "outputs": [],
   "source": [
    "class AdalineGD(object):\n",
    "    \n",
    "    def __init__(self, eta=0.01, n_iter=50, random_state=1):\n",
    "        self.eta = eta\n",
    "        self.n_iter = n_iter\n",
    "        self.random_state = random_state\n",
    "        \n",
    "    def fit(self, X, y):\n",
    "        rgen = np.random.RandomState(self.random_state) \n",
    "        \n",
    "        \n",
    "        self.w_ = rgen.normal(loc=0.0, scale=0.01, size=1+X.shape[1])\n",
    "        self.cost_ = []\n",
    "        \n",
    "        for i in range(self.n_iter):\n",
    "            \n",
    "            net_input = self.net_input(X) # -> X \n",
    "            output = self.activation(net_input) \n",
    "            errors = (y - output)\n",
    "            \n",
    "            self.w_[1:] += self.eta * X.T.dot(errors)\n",
    "            self.w_[0] += self.eta * errors.sum()\n",
    "            \n",
    "            cost = (errors**2).sum() / 2.0\n",
    "            \n",
    "            self.cost_.append(cost)\n",
    "            \n",
    "        return self\n",
    "\n",
    "    def net_input(self, X):\n",
    "        return np.dot(X, self.w_[1:]) + self.w_[0]\n",
    "    \n",
    "    def activation(self, X):\n",
    "        return X\n",
    "    \n",
    "    def predict(self, X):\n",
    "        return np.where(self.activation(self.net_input(X)) >= 0.0, 1, -1)"
   ]
  },
  {
   "cell_type": "markdown",
   "metadata": {},
   "source": [
    "## 아달린 \n",
    "\n"
   ]
  },
  {
   "cell_type": "code",
   "execution_count": 54,
   "metadata": {},
   "outputs": [
    {
     "data": {
      "text/plain": [
       "[<matplotlib.lines.Line2D at 0x13e672e3ec8>]"
      ]
     },
     "execution_count": 54,
     "metadata": {},
     "output_type": "execute_result"
    },
    {
     "data": {
      "text/plain": [
       "Text(0.5, 0, 'Epochs')"
      ]
     },
     "execution_count": 54,
     "metadata": {},
     "output_type": "execute_result"
    },
    {
     "data": {
      "text/plain": [
       "Text(0, 0.5, 'log(SQE)')"
      ]
     },
     "execution_count": 54,
     "metadata": {},
     "output_type": "execute_result"
    },
    {
     "data": {
      "text/plain": [
       "Text(0.5, 1.0, ' Adaline eta = 0.01')"
      ]
     },
     "execution_count": 54,
     "metadata": {},
     "output_type": "execute_result"
    },
    {
     "data": {
      "text/plain": [
       "[<matplotlib.lines.Line2D at 0x13e66279748>]"
      ]
     },
     "execution_count": 54,
     "metadata": {},
     "output_type": "execute_result"
    },
    {
     "data": {
      "text/plain": [
       "Text(0.5, 0, 'Epochs')"
      ]
     },
     "execution_count": 54,
     "metadata": {},
     "output_type": "execute_result"
    },
    {
     "data": {
      "text/plain": [
       "Text(0, 0.5, 'log(SQE)')"
      ]
     },
     "execution_count": 54,
     "metadata": {},
     "output_type": "execute_result"
    },
    {
     "data": {
      "text/plain": [
       "Text(0.5, 1.0, ' Adaline eta = 0.001')"
      ]
     },
     "execution_count": 54,
     "metadata": {},
     "output_type": "execute_result"
    },
    {
     "data": {
      "image/png": "[encoded data removed]",
      "text/plain": [
       "<Figure size 576x288 with 2 Axes>"
      ]
     },
     "metadata": {
      "needs_background": "light"
     },
     "output_type": "display_data"
    }
   ],
   "source": [
    "\n",
    "if __name__ == '__main__':\n",
    "    \n",
    "    df = pd.read_csv('https://archive.ics.uci.edu/ml/machine-learning-databases/iris/iris.data' , header = None)\n",
    "    y = df.iloc[0:100, 4].values\n",
    "    y = np.where( y == 'Iris-setosa', -1 , 1 )\n",
    "    X = df.iloc[0:100 , [0,2] ].values \n",
    "    \n",
    "    fig , ax = plt.subplots( nrows = 1 , ncols = 2 , figsize=(8,4))\n",
    "    \n",
    "    adal = AdalineGD( eta=0.01 , n_iter=10).fit(X,y)\n",
    "    ax[0].plot( range(1, len(adal.cost_) +1 ) , np.log10(adal.cost_) , marker='o')\n",
    "    # len(adal.cost_) +1  = 비용함수 /  np.log10(adal.cost_) = 그레디언트 \n",
    "    ax[0].set_xlabel('Epochs')\n",
    "    ax[0].set_ylabel('log(SQE)')\n",
    "    ax[0].set_title(' Adaline eta = 0.01')\n",
    "    \n",
    "    adal_2 = AdalineGD( eta=0.0001 , n_iter=10).fit(X,y)\n",
    "    ax[1].plot( range(1, len(adal_2.cost_) +1 ) , np.log10(adal_2.cost_) , marker='o')\n",
    "    ax[1].set_xlabel('Epochs')\n",
    "    ax[1].set_ylabel('log(SQE)')\n",
    "    ax[1].set_title(' Adaline eta = 0.001')\n",
    "\n",
    "    \n",
    "    # eta = 100 , n_tier = 100  , J(w) 을 찾음. "
   ]
  },
  {
   "cell_type": "markdown",
   "metadata": {},
   "source": [
    "### 코멘트 \n",
    "\n",
    "#### net_input  - X 에 대한 X,W 내적\n",
    "\n",
    "    - errors 곱셉을 가능하게 해줌 \n",
    "    \n",
    "#### 활성화함수 : 반환의 기준 수치 X 그대로 리턴 \n",
    "\n",
    "    \n",
    "\n",
    "#### predict 계단함수 : X 가 양수면 1 , 음수면 -1\n",
    "\n",
    "#### fit()  \n",
    "\n",
    "가중치를 표준분포 랜덤 초기화 하고, 학습 데이터를 사용하여, activation까지 진행한 output값으로, 정답과의 차를 구하여, 방향을 정한 후, 그 방향과 학습률에 맞게 가중치를 재정의 합니다.(모든 계산에 있어, 이렇듯 단순하게 그라이던트를 알아내어 일정하게 가중치를 변경하는 방식을 배치 경사 하강법이라 합니다.)\n",
    "            \n",
    "####  학습률이 0.1 이면 비용함수는 증가함 = 경사하강법의 최적의 비용함수를 찾을수 없음\n",
    "#### 반대로 학습률이 0.0001 일경우 비용함수 작아짐 ( 미분됨) 비용함수의 최솟값을 ( 우리가 원하는 답 ) 을 찾을 수 있다.\n",
    "#### 우리는 편미분(그레디언트)  argmin 의 학습률이 몃번해야하는지 알아야한다.\n",
    "\n",
    "= J(W) 이거를 찾는게 경사하강법의 목표 "
   ]
  },
  {
   "cell_type": "code",
   "execution_count": 34,
   "metadata": {},
   "outputs": [],
   "source": [
    "# class AdalineGD_2(object):\n",
    "\n",
    "#     def __init__(self, eta=0.01, n_iter=50, shuffle = True, random_state=None): #생성자\n",
    "#         self.eta = eta\n",
    "#         self.n_iter = n_iter\n",
    "#         self.w_initialized = False\n",
    "#         self.shuffle = shuffle\n",
    "#         self.random_state = random_state\n",
    "        \n",
    "#     def fit(self, X, y): #가중치 초기화를 하고 학습\n",
    "#         self._initialize_weights(X.shape[1])\n",
    "#         self.cost_ = []\n",
    "#         for i in range(self.n_iter):\n",
    "#             if self.shuffle:\n",
    "#                 X, y = self._shuffle(X,y)\n",
    "#             cost = []\n",
    "#             for xi, target in zip(X, y):\n",
    "#                 cost.append(self._update_weights(xi, target))\n",
    "#             avg_cost = sum(cost) / len(y)\n",
    "#             self.cost_.append(avg_cost)\n",
    "#         return self\n",
    "        \n",
    "#     def partial_fit(self, X, y): #가중치 초기화를 안하고 학습\n",
    "#         if not self.w_initialized:\n",
    "#             self._initialize_weights(S.shape[1])\n",
    "#         if y.ravel().shape[0] > 1:\n",
    "#             for xi, target in zip(X, y):\n",
    "#                 self._update_weights(xi, target)\n",
    "#         else:\n",
    "#             self._update_weights(X, y)\n",
    "#         return self\n",
    "        \n",
    "#     def _shuffle(self, X, y): #훈련 데이터를 섞습니다.\n",
    "#         r = self.rgen.permutation(len(y))\n",
    "#         return X[r], y[r]\n",
    "        \n",
    "#     def _initialize_weights(self, m): #랜덤하게 가중치 초기화\n",
    "#         self.rgen = np.random.RandomState(self.random_state)\n",
    "#         self.w_ = self.rgen.normal(loc=0.0, scale=0.01, size=1+m)\n",
    "#         self.w_initialized = True\n",
    "        \n",
    "#     def _update_weights(self, xi, target): #가중치 재설정\n",
    "#         output = self.activation(self.net_input(xi))\n",
    "#         error = (target - output)\n",
    "#         self.w_[1:] += self.eta * xi.dot(error)\n",
    "#         self.w_[0] += self.eta * error\n",
    "#         cost = 0.5 * error **2\n",
    "#         return cost\n",
    "        \n",
    "#     def net_input(self, X): #최종 입력값 계산\n",
    "#         return np.dot(X, self.w_[1:])+ self.w_[0]\n",
    "        \n",
    "#     def activation(self, X): #선형 활성화 함수\n",
    "#         return X\n",
    "        \n",
    "#     def predict(self, X): #단위 계단 함수를 이용하여 레이블을 반환합니다.\n",
    "#         return np.where(self.activation(self.net_input(X)) >= 0.0, 1, -1)"
   ]
  },
  {
   "cell_type": "markdown",
   "metadata": {},
   "source": [
    "출처 - https://wiserloner.tistory.com/574"
   ]
  },
  {
   "cell_type": "code",
   "execution_count": null,
   "metadata": {},
   "outputs": [],
   "source": []
  }
 ],
 "metadata": {
  "kernelspec": {
   "display_name": "Python 3",
   "language": "python",
   "name": "python3"
  },
  "language_info": {
   "codemirror_mode": {
    "name": "ipython",
    "version": 3
   },
   "file_extension": ".py",
   "mimetype": "text/x-python",
   "name": "python",
   "nbconvert_exporter": "python",
   "pygments_lexer": "ipython3",
   "version": "3.7.6"
  }
 },
 "nbformat": 4,
 "nbformat_minor": 4
}
