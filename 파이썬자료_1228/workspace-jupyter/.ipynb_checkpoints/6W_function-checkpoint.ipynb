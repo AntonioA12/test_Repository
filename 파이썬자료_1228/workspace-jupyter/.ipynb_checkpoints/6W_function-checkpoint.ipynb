{
 "cells": [
  {
   "cell_type": "code",
   "execution_count": 4,
   "metadata": {},
   "outputs": [],
   "source": [
    "from IPython.core.interactiveshell import InteractiveShell\n",
    "InteractiveShell.ast_node_interactivity = \"all\""
   ]
  },
  {
   "cell_type": "markdown",
   "metadata": {},
   "source": [
    "# 함수 ( Function ) \n",
    "\n",
    "\n",
    "- 함수를 이용하기 위해서는 먼저 함수를 정의해야 한다.\n",
    "- 함수를 정의한 후에는 함수를 호출할 수 있다.\n",
    "- 함수를 한번 정의하면 몇 번이고 호출가능 \n",
    "- 함수의 기본 구조 \n",
    "\n",
    "```python \n",
    "\n",
    "def 함수명( 인자1 , 인자 2 , 인자 3 ... 인자 n ):\n",
    "    < 코드블럭>\n",
    "    return<반환값> \n",
    "```"
   ]
  },
  {
   "cell_type": "code",
   "execution_count": 52,
   "metadata": {},
   "outputs": [
    {
     "name": "stdout",
     "output_type": "stream",
     "text": [
      " 새로운계좌가 개설 되었습니다.\n"
     ]
    }
   ],
   "source": [
    "def open_account():\n",
    "    print(\" 새로운계좌가 개설 되었습니다.\")\n",
    "    \n",
    "i = open_account()\n",
    "i"
   ]
  },
  {
   "cell_type": "markdown",
   "metadata": {},
   "source": [
    "## 인자 , 반환값( return) \n",
    "\n",
    "- return 이란? \n",
    "- return <변수A>  설정시 <변수A> 를 재실행 할때, <변수A> 가 초기화 되지않고 \n",
    "- 저장된 후 , 반환된 다는 의미"
   ]
  },
  {
   "cell_type": "code",
   "execution_count": 53,
   "metadata": {},
   "outputs": [
    {
     "name": "stdout",
     "output_type": "stream",
     "text": [
      " 입금이 완료 되었습니다. 잔액은 10000 입니다.\n"
     ]
    }
   ],
   "source": [
    "def desposit(balance , money): # 입금 함수 \n",
    "    print( \" 입금이 완료 되었습니다. 잔액은 {0} 입니다.\".format(balance+money))\n",
    "    return balance+money\n",
    "\n",
    "balance =0\n",
    "money=0\n",
    "balance = desposit(balance , 10000)"
   ]
  },
  {
   "cell_type": "code",
   "execution_count": 54,
   "metadata": {},
   "outputs": [
    {
     "name": "stdout",
     "output_type": "stream",
     "text": [
      "출금이 완료되었습니다 잔액은 5000 입니다.\n"
     ]
    }
   ],
   "source": [
    "def withdraw( balance , money): # 출금 함수 \n",
    "    if balance >= money :\n",
    "        print(\"출금이 완료되었습니다 잔액은 {0} 입니다.\".format(balance-money))\n",
    "        return balance-money\n",
    "    else:\n",
    "        print(\" 잔액이 부족합니다 현재잔액은 {0}원 입니다.\".format(balance))\n",
    "\n",
    "balance = withdraw(balance,5000)"
   ]
  },
  {
   "cell_type": "code",
   "execution_count": 55,
   "metadata": {},
   "outputs": [
    {
     "name": "stdout",
     "output_type": "stream",
     "text": [
      "출금이 완료되었습니다 잔액은 3000 입니다.\n",
      " 수수료는 1000원 이며, 잔액은 3000원 입니다.\n"
     ]
    }
   ],
   "source": [
    "def withdraw_night( balance , money): # 출금 함수 \n",
    "    commission=1000 # 수수료 \n",
    "    \n",
    "    if balance >= money+commission :\n",
    "        print(\"출금이 완료되었습니다 잔액은 {0} 입니다.\".format(balance-money-commission))\n",
    "        return commission, balance-money-commission # tuple \n",
    "    else:\n",
    "        print(\" 잔액이 부족합니다 현재잔액은 {0}원 입니다.\".format(balance))\n",
    "        return commission , balance\n",
    "\n",
    "commission, balance = withdraw_night( balance , 1000)\n",
    "print(\" 수수료는 {0}원 이며, 잔액은 {1}원 입니다.\".format(commission,balance))"
   ]
  },
  {
   "cell_type": "markdown",
   "metadata": {},
   "source": [
    "### 기본값\n",
    "\n",
    "- 하나의 함수에 대해 여러 인스턴스를 만들 때, 공통적으로 들어가는 값(속성)이 많은 경우 \n",
    "- 인자() 항에 기본설정을 추가할 수 있다. "
   ]
  },
  {
   "cell_type": "code",
   "execution_count": 58,
   "metadata": {},
   "outputs": [
    {
     "name": "stdout",
     "output_type": "stream",
     "text": [
      " 이름 =안효빈\t 나이 = 26 \t 사는지역 = 수원\n",
      " 이름 =왓슨\t 나이 = 24 \t 사는지역 = 서울\n"
     ]
    }
   ],
   "source": [
    "def profile( name, age , location):\n",
    "    print(\" 이름 ={0}\\t 나이 = {1} \\t 사는지역 = {2}\".format(name , age , location))\n",
    "\n",
    "profile('안효빈',26,'수원')\n",
    "profile('왓슨',24,'서울')"
   ]
  },
  {
   "cell_type": "code",
   "execution_count": 61,
   "metadata": {},
   "outputs": [
    {
     "name": "stdout",
     "output_type": "stream",
     "text": [
      " 이름 =안효빈\t 나이 = 18 \t 사는지역 = 경기도\n",
      " 이름 =왓슨\t 나이 = 18 \t 사는지역 = 경기도\n"
     ]
    }
   ],
   "source": [
    "# 같은학교 , 같은 반의 경우 \n",
    "\n",
    "def profile( name, age=18 , location='경기도'): # 기본값 적용 \n",
    "    print(\" 이름 ={0}\\t 나이 = {1} \\t 사는지역 = {2}\".format(name , age , location))\n",
    "\n",
    "profile('안효빈')\n",
    "profile('왓슨')"
   ]
  },
  {
   "cell_type": "markdown",
   "metadata": {},
   "source": [
    "### 키워드 값 \n",
    "\n",
    "- 기본값과 유사 \n",
    "- 함수 내 인자를 속성변수와 함께 정의 "
   ]
  },
  {
   "cell_type": "code",
   "execution_count": 68,
   "metadata": {},
   "outputs": [
    {
     "name": "stdout",
     "output_type": "stream",
     "text": [
      "제이콥 22 경기도\n",
      "제이콥 22 경기도\n"
     ]
    }
   ],
   "source": [
    "def profile_2( name , age , location ):\n",
    "    print( name , age , location)\n",
    "    \n",
    "profile_2(name=\"제이콥\", age = 22 , location='경기도')\n",
    "profile_2(name=\"제이콥\", location='경기도', age = 22 ) # 순서 변경가능 "
   ]
  },
  {
   "cell_type": "markdown",
   "metadata": {},
   "source": [
    "###  가변인자 \n",
    "\n",
    "- 얼마든지 속성이 바뀔수 있음 ( 데이터 타입 , 키워드 값 등등 ) "
   ]
  },
  {
   "cell_type": "code",
   "execution_count": 71,
   "metadata": {},
   "outputs": [
    {
     "name": "stdout",
     "output_type": "stream",
     "text": [
      " 이름 = 제이콥 \t 나이 = 18 \t c c++ python\n"
     ]
    }
   ],
   "source": [
    "def profile_3( name, age , lang1 , lang2 , lang3 ):\n",
    "    print( \" 이름 = {0} \\t 나이 = {1} \\t \".format(name,age), end=\"\")\n",
    "    print( lang1 , lang2 , lang3 )\n",
    "    \n",
    "profile_3('제이콥','18','c','c++','python')"
   ]
  },
  {
   "cell_type": "code",
   "execution_count": 72,
   "metadata": {},
   "outputs": [
    {
     "name": "stdout",
     "output_type": "stream",
     "text": [
      " 이름 = 왓슨 \t 나이 = 20 \t python  \n"
     ]
    }
   ],
   "source": [
    "profile_3('왓슨',20 , \"python\",\"\",\"\")"
   ]
  },
  {
   "cell_type": "code",
   "execution_count": 79,
   "metadata": {},
   "outputs": [
    {
     "name": "stdout",
     "output_type": "stream",
     "text": [
      " 이름 = 제이콥 \t 나이 = 18 \t    c   c++   python   R   c#   \n",
      " 이름 = 왓슨 \t 나이 = 20 \t    python   \n"
     ]
    }
   ],
   "source": [
    "def profile_3( name, age , *language ):\n",
    "    print( \" 이름 = {0} \\t 나이 = {1} \\t \".format(name,age), end=\"   \")\n",
    "    for lang in language:\n",
    "        print(lang, end=\"   \")\n",
    "    print()\n",
    "    \n",
    "profile_3('제이콥',18,'c','c++','python','R',\"c#\")\n",
    "profile_3('왓슨',20,'python')"
   ]
  },
  {
   "cell_type": "markdown",
   "metadata": {},
   "source": [
    "### 지역변수 와 전역변수"
   ]
  },
  {
   "cell_type": "code",
   "execution_count": 83,
   "metadata": {},
   "outputs": [
    {
     "name": "stdout",
     "output_type": "stream",
     "text": [
      " 전체 총 = 10\n",
      "[ 함수 내 ] 남은 총 = 18\n",
      " 남은 총 = 10\n"
     ]
    }
   ],
   "source": [
    "gun=10\n",
    "\n",
    "def checkpoint(soldiers): # 경계근무 \n",
    "    gun = 20\n",
    "    gun = gun - soldiers\n",
    "    print(\"[ 함수 내 ] 남은 총 = {0}\".format(gun))\n",
    "    \n",
    "print(\" 전체 총 = {0}\".format(gun))\n",
    "checkpoint(2)\n",
    "print(\" 남은 총 = {0}\".format(gun))"
   ]
  },
  {
   "cell_type": "code",
   "execution_count": 86,
   "metadata": {},
   "outputs": [
    {
     "name": "stdout",
     "output_type": "stream",
     "text": [
      " 전체 총 = 10\n",
      "[ 함수 내 ] 남은 총 = 8\n",
      " 남은 총 = 8\n"
     ]
    }
   ],
   "source": [
    "gun=10\n",
    "\n",
    "def checkpoint(soldiers): # 경계근무 \n",
    "    global gun # 지역변수를 전역변수화 추천X \n",
    "    gun = gun - soldiers\n",
    "    print(\"[ 함수 내 ] 남은 총 = {0}\".format(gun))\n",
    "    \n",
    "print(\" 전체 총 = {0}\".format(gun))\n",
    "checkpoint(2)\n",
    "print(\" 남은 총 = {0}\".format(gun))"
   ]
  },
  {
   "cell_type": "code",
   "execution_count": 88,
   "metadata": {},
   "outputs": [
    {
     "name": "stdout",
     "output_type": "stream",
     "text": [
      " 전체 총 = 10\n",
      "[ 함수 내 ] 남은 총 = 8\n",
      " 남은 총 = 10\n"
     ]
    }
   ],
   "source": [
    "gun = 10 \n",
    "\n",
    "def checkpoint_2( gun , soldiers):\n",
    "    gun = gun - soldiers\n",
    "    print(\"[ 함수 내 ] 남은 총 = {0}\".format(gun))\n",
    "    \n",
    "\n",
    "print(\" 전체 총 = {0}\".format(gun))\n",
    "checkpoint_2(gun,2)\n",
    "print(\" 남은 총 = {0}\".format(gun))"
   ]
  },
  {
   "cell_type": "markdown",
   "metadata": {},
   "source": [
    "### Quiz ) 표준 체중을 구하는 프로그램을 작성하시오.\n",
    "\n",
    "( 성별에 따른 공식 )\n",
    "\n",
    "남자 = 키(m) * 키(m) * 22 \n",
    "\n",
    "여자 = 키(m) * 키(m) * 21 \n",
    "\n",
    "조건1 = 표준체중은 소수점 둘째짜리 까지표시\n",
    "    - 함수명 std_weight\n",
    "    - 전달값 키(height) , 성별 (gender)\n",
    "\n",
    "조건2 = 표준체중은 소수점 둘째짜리 까지 표시 \n",
    "\n",
    "(출력예시) 키 175cm 남자의 표준 체중은 67.38kg 이다. "
   ]
  },
  {
   "cell_type": "code",
   "execution_count": 101,
   "metadata": {},
   "outputs": [
    {
     "name": "stdout",
     "output_type": "stream",
     "text": [
      "당신의 성별은 = 남자 이고 .  당신의 표준체중은 =62.09279999999999kg입니다\n"
     ]
    },
    {
     "data": {
      "text/plain": [
       "62.09"
      ]
     },
     "execution_count": 101,
     "metadata": {},
     "output_type": "execute_result"
    }
   ],
   "source": [
    "def std_weight(height, gender):\n",
    "    if gender == \"남자\":\n",
    "        print('당신의 성별은 = {0} 이고 .  당신의 표준체중은 ={1}kg입니다'.format(gender , height*height * 22) )\n",
    "        return height**2*22\n",
    "    else:\n",
    "        print('당신의 성별은 = {0} 이고 .당신의 표준체중은 ={1}kg입니다'.format(gender , height*height * 21) )\n",
    "        return height**2*21\n",
    "        \n",
    "        \n",
    "height = 168\n",
    "gender = '남자'\n",
    "weight = std_weight(height/100,gender)\n",
    "round(weight,2)"
   ]
  },
  {
   "cell_type": "code",
   "execution_count": null,
   "metadata": {},
   "outputs": [],
   "source": []
  }
 ],
 "metadata": {
  "kernelspec": {
   "display_name": "Python 3",
   "language": "python",
   "name": "python3"
  },
  "language_info": {
   "codemirror_mode": {
    "name": "ipython",
    "version": 3
   },
   "file_extension": ".py",
   "mimetype": "text/x-python",
   "name": "python",
   "nbconvert_exporter": "python",
   "pygments_lexer": "ipython3",
   "version": "3.7.6"
  }
 },
 "nbformat": 4,
 "nbformat_minor": 4
}
