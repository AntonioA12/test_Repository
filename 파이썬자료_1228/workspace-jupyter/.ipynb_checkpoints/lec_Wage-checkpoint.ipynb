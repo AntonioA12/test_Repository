{
 "cells": [
  {
   "cell_type": "code",
   "execution_count": 1,
   "metadata": {},
   "outputs": [],
   "source": [
    "from IPython.core.interactiveshell import InteractiveShell\n",
    "InteractiveShell.ast_node_interactivity = \"all\""
   ]
  },
  {
   "cell_type": "code",
   "execution_count": 15,
   "metadata": {},
   "outputs": [],
   "source": [
    "import numpy as np\n",
    "import pandas as pd\n",
    "import statsmodels.api as sm\n",
    "%matplotlib inline"
   ]
  },
  {
   "cell_type": "markdown",
   "metadata": {},
   "source": [
    "## Y(wage) = B1 + B2D2 + B3D3 + B4D4 + B5Edu + B6Exp + U"
   ]
  },
  {
   "cell_type": "code",
   "execution_count": 22,
   "metadata": {
    "scrolled": true
   },
   "outputs": [
    {
     "name": "stdout",
     "output_type": "stream",
     "text": [
      "                            OLS Regression Results                            \n",
      "==============================================================================\n",
      "Dep. Variable:                   wage   R-squared:                       0.323\n",
      "Model:                            OLS   Adj. R-squared:                  0.321\n",
      "Method:                 Least Squares   F-statistic:                     122.6\n",
      "Date:                Thu, 04 Jun 2020   Prob (F-statistic):          3.45e-106\n",
      "Time:                        20:58:56   Log-Likelihood:                -4240.4\n",
      "No. Observations:                1289   AIC:                             8493.\n",
      "Df Residuals:                    1283   BIC:                             8524.\n",
      "Df Model:                           5                                         \n",
      "Covariance Type:            nonrobust                                         \n",
      "==============================================================================\n",
      "                 coef    std err          t      P>|t|      [0.025      0.975]\n",
      "------------------------------------------------------------------------------\n",
      "const         -7.1833      1.016     -7.072      0.000      -9.176      -5.191\n",
      "female        -3.0749      0.365     -8.433      0.000      -3.790      -2.360\n",
      "nonwhite      -1.5653      0.509     -3.074      0.002      -2.564      -0.566\n",
      "union          1.0960      0.506      2.166      0.031       0.103       2.089\n",
      "education      1.3703      0.066     20.792      0.000       1.241       1.500\n",
      "exper          0.1666      0.016     10.382      0.000       0.135       0.198\n",
      "==============================================================================\n",
      "Omnibus:                      525.319   Durbin-Watson:                   1.898\n",
      "Prob(Omnibus):                  0.000   Jarque-Bera (JB):             3519.893\n",
      "Skew:                           1.747   Prob(JB):                         0.00\n",
      "Kurtosis:                      10.303   Cond. No.                         141.\n",
      "==============================================================================\n",
      "\n",
      "Warnings:\n",
      "[1] Standard Errors assume that the covariance matrix of the errors is correctly specified.\n"
     ]
    }
   ],
   "source": [
    "df = pd.read_excel('wage.xlsx' , index_col =0)\n",
    "\n",
    "df['const']=1\n",
    "\n",
    "X1 = ['const','female','nonwhite','union','education','exper'] # [ B1 , B2 D2, B3D3 , B4D4 , B5Edu , B6Exp]\n",
    "\n",
    "reg= sm.OLS ( df['wage'] , df[X1] , missing='drop').fit() # Y = df['wage']\n",
    "print(reg.summary())"
   ]
  },
  {
   "cell_type": "markdown",
   "metadata": {},
   "source": [
    "##  코멘트 \n",
    "\n",
    "    - 상단의 OLS 을 통해 wage.xlsx 데이터에 따르면, \n",
    "    \n",
    "        여성일 경우 임금이 남성과 비교할 때 -3.0749 낮고 \n",
    "        nonWhite 일 경우 -1.5653 정도의 낮은 임금을 받을것 이라 추정할 수 있다.\n",
    "        \n",
    "        반면에 노조에 가입되었다면 임금이 통계적으로 +1.096 ,\n",
    "        교육수준이 1년단위로 높으면 +1.3703 ,\n",
    "        그리고 1년단위 경력은 +0.1666 정도 높은 임금을 받을 것이라 추정 할 수 있다.\n",
    "        \n",
    "        추정한 B2D2, B3D3 , B4D4 , B5Edu , B6Exp 에 대해 \n",
    "        P-value 가 0.1 보다 작음으로 적어도 90% 신뢰수준을 가졌으며\n",
    "        통계적으로 유의함을 나타낸다. \n",
    "        \n",
    "        따라서 추정치 ^Y 과 실제값 Y 는 결과값이 매우 낮을것이다...."
   ]
  },
  {
   "cell_type": "markdown",
   "metadata": {},
   "source": [
    "## LOG-LIN 를 사용해 탄력성 알아보기"
   ]
  },
  {
   "cell_type": "code",
   "execution_count": 21,
   "metadata": {},
   "outputs": [
    {
     "name": "stdout",
     "output_type": "stream",
     "text": [
      "                            OLS Regression Results                            \n",
      "==============================================================================\n",
      "Dep. Variable:                 lnwage   R-squared:                       0.347\n",
      "Model:                            OLS   Adj. R-squared:                  0.344\n",
      "Method:                 Least Squares   F-statistic:                     113.4\n",
      "Date:                Thu, 04 Jun 2020   Prob (F-statistic):          7.90e-115\n",
      "Time:                        20:55:25   Log-Likelihood:                -866.06\n",
      "No. Observations:                1289   AIC:                             1746.\n",
      "Df Residuals:                    1282   BIC:                             1782.\n",
      "Df Model:                           6                                         \n",
      "Covariance Type:            nonrobust                                         \n",
      "==============================================================================\n",
      "                 coef    std err          t      P>|t|      [0.025      0.975]\n",
      "------------------------------------------------------------------------------\n",
      "const          0.9145      0.074     12.289      0.000       0.769       1.061\n",
      "female        -0.2649      0.029     -9.180      0.000      -0.322      -0.208\n",
      "nonwhite      -0.1901      0.055     -3.480      0.001      -0.297      -0.083\n",
      "union          0.1820      0.037      4.924      0.000       0.110       0.255\n",
      "education      0.0999      0.005     20.757      0.000       0.090       0.109\n",
      "exper          0.0127      0.001     10.822      0.000       0.010       0.015\n",
      "femalenonw     0.1045      0.074      1.414      0.158      -0.041       0.250\n",
      "==============================================================================\n",
      "Omnibus:                       93.532   Durbin-Watson:                   1.942\n",
      "Prob(Omnibus):                  0.000   Jarque-Bera (JB):              253.063\n",
      "Skew:                          -0.379   Prob(JB):                     1.12e-55\n",
      "Kurtosis:                       5.034   Cond. No.                         167.\n",
      "==============================================================================\n",
      "\n",
      "Warnings:\n",
      "[1] Standard Errors assume that the covariance matrix of the errors is correctly specified.\n"
     ]
    }
   ],
   "source": [
    "X2 = ['const','female','nonwhite','union','education','exper','femalenonw']\n",
    "\n",
    "reg2 = sm.OLS( df['lnwage'] , df[X2] , missing= 'drop').fit()\n",
    "print(reg2.summary())"
   ]
  },
  {
   "cell_type": "markdown",
   "metadata": {},
   "source": [
    "## 코멘트\n",
    "\n",
    "    - log.lin 모델임으로 \n",
    "    - 하단의 coef 는 한 단위가 바뀔때의 임금의 증가율을 뜻함. \n",
    "    \n",
    "        따라서, wage.xlsx 데이터에 따르면, \n",
    "        여성일 경우 임금이 -0.2649 하락 (마이너스 증가)\n",
    "        nonWhite 일 경우 -0.1901 하락하는 증가율을 추정 할 수 있고\n",
    "        \n",
    "        추가로 노조에 가입되었다면 임금이 통계적으로 +0.182 ,\n",
    "        교육수준이 1년단위로 높으면 +0.012,\n",
    "        경력분야 에서는 +0.0127 증가하는 임금의 증가율을 추정할 수 있다.\n",
    "        \n",
    "        교차항 'femalenonw' 의 경우 여성일 경우와 nonwhite 일 경우의 차이가 있느냐 를 뜻하는 상수항 이다.\n",
    "        \n",
    "        마찬가지로 P-value 가 0 과 가까움으로 신뢰수준이 90% 이상임을 알 수있으나\n",
    "        \n",
    "        교차항 'femalenonw' P-value 값이 0.158 로 낮은 유의도를 보여주기 때문에 \\\n",
    "        여성과 nonwhite 는 서로 차이가 없거나, \n",
    "        'femalenonw' 데이터는 신뢰할수 없음을 보여준다"
   ]
  },
  {
   "cell_type": "code",
   "execution_count": null,
   "metadata": {},
   "outputs": [],
   "source": []
  }
 ],
 "metadata": {
  "kernelspec": {
   "display_name": "Python 3",
   "language": "python",
   "name": "python3"
  },
  "language_info": {
   "codemirror_mode": {
    "name": "ipython",
    "version": 3
   },
   "file_extension": ".py",
   "mimetype": "text/x-python",
   "name": "python",
   "nbconvert_exporter": "python",
   "pygments_lexer": "ipython3",
   "version": "3.7.6"
  }
 },
 "nbformat": 4,
 "nbformat_minor": 4
}
