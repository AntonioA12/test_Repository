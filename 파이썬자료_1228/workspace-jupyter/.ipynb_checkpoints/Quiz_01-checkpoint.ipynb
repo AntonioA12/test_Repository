{
 "cells": [
  {
   "cell_type": "code",
   "execution_count": 1,
   "metadata": {},
   "outputs": [],
   "source": [
    "from IPython.core.interactiveshell import InteractiveShell\n",
    "InteractiveShell.ast_node_interactivity = \"all\""
   ]
  },
  {
   "cell_type": "markdown",
   "metadata": {},
   "source": [
    "(문제)\n",
    "\n",
    "본교 학교 포탈 사이트(http:/portal.suwon.ac.kr/)에 대해 문자열, 리스트의 메소드를 이용하여 다음의 규칙을 갖는 본인만의 비밀번호를 만들어 주는 프로그램을 작성하시오.\n",
    "\n",
    "(a) ‘portal.suwon.ac.kr’의 문자열에서 점(.)을 제외한 문자열 중 임의로 3개를 선택 (random 모듈의 shuffle과 sample을 활용)\n",
    "(b) 본인이 사는 지역의 영어 이름의 뒤에서 4번째부터 6번째의 문자열 선택 (list slicing)\n",
    "(c) 본인이 사는 지역의 영어 이름에서 알파벳 ‘n’이 처음으로 나오는 위치, ‘n’이 없으면 -1 반환\n",
    "(d) 본인의 영어이름(성 제외)의 글자 수\n",
    " \n",
    "\n",
    "비밀번호 구성하기: ‘(a)의 결과(소문자)’ + ‘(d)-(c)의 값’ + ‘(b)의 결과(대문자)’ + '@'\n",
    " \n",
    "\n",
    "예)\n",
    "\n",
    "(a) p,o,r,t,a,l,s,u,w,o,n,a,c,k,r  -> s, a, k\n",
    "\n",
    "(b) bondameup -> d,a,m\n",
    "\n",
    "(c) ‘n’은 3번째에 있으므로 2\n",
    "\n",
    "(d) ‘gildong’의 글자 수: 7\n",
    "\n",
    " \n",
    "\n",
    "생성 비밀번호: sak5DAM@\n",
    "\n",
    " \n",
    "\n",
    "출력 값: http://portal.suwon.ac.kr의 비밀번호는 sak5DAM@ 입니다."
   ]
  },
  {
   "cell_type": "code",
   "execution_count": 71,
   "metadata": {},
   "outputs": [
    {
     "data": {
      "text/plain": [
       "['l', 'a', 'o']"
      ]
     },
     "execution_count": 71,
     "metadata": {},
     "output_type": "execute_result"
    }
   ],
   "source": [
    "#A\n",
    "ur1 = \"http:/portal.suwon.ac.kr/\" \n",
    "ur2 = ur1.replace('http:','') # http: 제거\n",
    "ur3 = ur2.replace('.','') #  .제거 \n",
    "\n",
    "suwon =list(ur3.replace('/','')) # / 제거 후 list 형변환 동시에 suwon 변수 생성 \n",
    "\n",
    "\n",
    "from random import *\n",
    "\n",
    "shuffle(suwon) # list(suwon) 을 셔플 \n",
    "\n",
    "pw_a =sample(suwon,3) # 셔플 된 suwon list 값에서  랜덤 3개 추출 \n",
    "pw_a"
   ]
  },
  {
   "cell_type": "code",
   "execution_count": 48,
   "metadata": {},
   "outputs": [
    {
     "data": {
      "text/plain": [
       "['n', 'g']"
      ]
     },
     "execution_count": 48,
     "metadata": {},
     "output_type": "execute_result"
    }
   ],
   "source": [
    "# B \n",
    "\n",
    "my_house = 'gwanggyo'\n",
    "list_my_house = list(my_house) # list 형변환 \n",
    "\n",
    "pw_b = list_my_house[3:5]  # index 슬라이싱 \n",
    "pw_b"
   ]
  },
  {
   "cell_type": "code",
   "execution_count": 51,
   "metadata": {},
   "outputs": [
    {
     "data": {
      "text/plain": [
       "int"
      ]
     },
     "execution_count": 51,
     "metadata": {},
     "output_type": "execute_result"
    },
    {
     "data": {
      "text/plain": [
       "3"
      ]
     },
     "execution_count": 51,
     "metadata": {},
     "output_type": "execute_result"
    }
   ],
   "source": [
    "# C \n",
    "\n",
    "pw_c = list_my_house.index('n') # index 로 ('n') 위치 찾기 \n",
    "type(pw_c)\n",
    "pw_c"
   ]
  },
  {
   "cell_type": "code",
   "execution_count": 52,
   "metadata": {},
   "outputs": [
    {
     "data": {
      "text/plain": [
       "int"
      ]
     },
     "execution_count": 52,
     "metadata": {},
     "output_type": "execute_result"
    },
    {
     "data": {
      "text/plain": [
       "6"
      ]
     },
     "execution_count": 52,
     "metadata": {},
     "output_type": "execute_result"
    }
   ],
   "source": [
    "# d \n",
    "\n",
    "my_name = 'hyobin'\n",
    "\n",
    "pw_d = len(my_name) # len() 길이 가 int 로 자동형변환 \n",
    "\n",
    "type(pw_d)\n",
    "pw_d"
   ]
  },
  {
   "cell_type": "code",
   "execution_count": 72,
   "metadata": {},
   "outputs": [
    {
     "data": {
      "text/plain": [
       "str"
      ]
     },
     "execution_count": 72,
     "metadata": {},
     "output_type": "execute_result"
    },
    {
     "data": {
      "text/plain": [
       "'=============================='"
      ]
     },
     "execution_count": 72,
     "metadata": {},
     "output_type": "execute_result"
    },
    {
     "data": {
      "text/plain": [
       "\"출력값 http://portal.suwon.ac.kr의 비밀번호는  ['l', 'a', 'o']3['N', 'G']@ 입니다.\""
      ]
     },
     "execution_count": 72,
     "metadata": {},
     "output_type": "execute_result"
    },
    {
     "data": {
      "text/plain": [
       "'=============================='"
      ]
     },
     "execution_count": 72,
     "metadata": {},
     "output_type": "execute_result"
    }
   ],
   "source": [
    "pw_e = pw_d - pw_c \n",
    "\n",
    "passward = str(pw_a).lower() + str(pw_e) + str(pw_b).upper() + '@'\n",
    "\n",
    "type(passward)\n",
    "\n",
    "'='*30 \n",
    "\n",
    "'출력값 http://portal.suwon.ac.kr의 비밀번호는  {} 입니다.'.format(passward)\n",
    "\n",
    "'='*30 "
   ]
  },
  {
   "cell_type": "markdown",
   "metadata": {},
   "source": [
    "## 질문 : 최종결과값 [ '?' , '?' , '?'] 3 [ 'N' , 'G']@ 에서\n",
    "## [] 를 지울수 있는 방법이 있나요? \n",
    "\n",
    "## pw_a , pw_b 를 str 으로 형변환해도 [] 가 함께 출력이 되서.. 다른방법이 있는지 궁금합니다.\n",
    "## [] 없이 출력되는 방법을 알고싶습니다 "
   ]
  },
  {
   "cell_type": "code",
   "execution_count": null,
   "metadata": {},
   "outputs": [],
   "source": []
  }
 ],
 "metadata": {
  "kernelspec": {
   "display_name": "Python 3",
   "language": "python",
   "name": "python3"
  },
  "language_info": {
   "codemirror_mode": {
    "name": "ipython",
    "version": 3
   },
   "file_extension": ".py",
   "mimetype": "text/x-python",
   "name": "python",
   "nbconvert_exporter": "python",
   "pygments_lexer": "ipython3",
   "version": "3.7.6"
  }
 },
 "nbformat": 4,
 "nbformat_minor": 4
}
