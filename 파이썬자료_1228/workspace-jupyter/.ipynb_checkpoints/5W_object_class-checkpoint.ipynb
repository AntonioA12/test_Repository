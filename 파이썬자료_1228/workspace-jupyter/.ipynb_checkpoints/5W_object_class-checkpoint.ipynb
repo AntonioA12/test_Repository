{
 "cells": [
  {
   "cell_type": "code",
   "execution_count": 10,
   "metadata": {},
   "outputs": [],
   "source": [
    "from IPython.core.interactiveshell import InteractiveShell\n",
    "InteractiveShell.ast_node_interactivity = \"all\""
   ]
  },
  {
   "cell_type": "markdown",
   "metadata": {},
   "source": [
    "# 객체 ( Object ) 와 클래스 ( Class) \n",
    "\n",
    "## 클래스 선언 과 객체생성 \n",
    "\n",
    "## 객체 \n",
    "\n",
    "- 객체는 속성( 상태 , 특징 ) 과  행위 ( 행동 동작 기능 ) 으로 구성된 대상을 의미\n",
    "- 객체는 자동차나 로봇 같은 사물 일 수도 있고, 사람이나 동물일 수 있으며 어떤 개념일 수 있음\n",
    "- 프로그래밍 언어에서 객체를 만들 떄는 주로 현실세계를 반영\n",
    "    - 객체의 특징인 속성은 변수로 , 객체가 할 수있는 일인 행동은 함수로 구현\n",
    "    - 즉, 객체는 변수 + 함수 이다.\n",
    "    - 객체가 사람이라면, [ 이름 키 몸무게 ] 는 객체 , [걷기 , 뛰기 , 앉기 ]는 함수 로 구현\n",
    "    - 객체 = [ 자전거 ] 함수 = [ 전진 후진 커브 ] \n",
    "- 객체를 만들고 이용할 수 있는 기능을 제공하는 프로그래밍 언어를 객체지향 프로그래밍 ( OOP) 언어, 객체지향 언어라고 함 ( = 파이썬 ) \n",
    "\n",
    "## 클래스 \n",
    "\n",
    "- 객체를 만들려면 먼저 클래스를 선언해야한다.\n",
    "- 클래스는 객체의 공통된 속성과 행위를 변수와 함수로 정의한것.\n",
    "    - 클래스는 객체의 기본 틀. 객체또한 기본 틀을 바탕으로 만들어진 것\n",
    "    - 객체는 클래스에서 생성함으로 , 객체를 클래스의 인스턴스(instance) 라고함\n",
    "    \n",
    "    \n",
    "    - 클래스 선언\n",
    "~~~python\n",
    "\n",
    "    class 클래스 명 ():\n",
    "    \n",
    "        [변수1] \n",
    "        [변수2]\n",
    "        ...\n",
    "        def 함수 1 (self , [ 인자 1 ] , [ 인자 2 ] , ... , [ 인자 n ]):\n",
    "            < 인자 1 코드 > \n",
    "            < 인자 2 코드 > \n",
    "            \n",
    "        def 함수 2 (self , [ 인자 1 ] , [ 인자 2 ] , ... , [ 인자 n ]):\n",
    "            < 인자 1 코드 > \n",
    "            < 인자 2 코드 >\n",
    "~~~        \n",
    "          \n",
    "    - self 는 초기화값 = 객체 생성 후 자신을 참조하는데 사용 \n",
    "    \n",
    "    - 함수와 메서드 ( function 과 Method 의 차이 ? - 딱히 없다 ) \n",
    "        - 클래스에서 정의한 함수를 객체를 생성한 후에 이용할 때는 메소드(method) 라고함.\n",
    "        - 하지만 객체 생성 과 상관없이 클래스에서 정의한 함수를 메소드 라고함\n",
    "        - 클래스 와 객체에서 함수나 메소드라는 용어는 구분 없이 사용하지만 둘 다 클래스 에서 정의한 함수이다. \n",
    "          \n",
    "     \n",
    "       "
   ]
  },
  {
   "cell_type": "markdown",
   "metadata": {},
   "source": [
    "## 객체 생성 및 활용\n",
    "\n",
    "- 예제) 자전거 클래스\n",
    "    - 자전거의 속성 : 바퀴 크기 ( wheel_size ) , 색상 ( color ) \n",
    "    - 자전거의 동작 : 이동 ( move )  좌/우 회전 ( turn) , 정지 ( stop ) \n",
    "    "
   ]
  },
  {
   "cell_type": "code",
   "execution_count": 18,
   "metadata": {},
   "outputs": [
    {
     "data": {
      "text/plain": [
       "100"
      ]
     },
     "execution_count": 18,
     "metadata": {},
     "output_type": "execute_result"
    },
    {
     "data": {
      "text/plain": [
       "'Blue'"
      ]
     },
     "execution_count": 18,
     "metadata": {},
     "output_type": "execute_result"
    },
    {
     "name": "stdout",
     "output_type": "stream",
     "text": [
      " 자전거 이동 : 시속 100km 으로 전진 \n",
      " 자전거 : right 으로 방향전환 \n",
      " 자전거 : 100 , Blue = 정지\n"
     ]
    }
   ],
   "source": [
    "class Bicyle ():\n",
    "    \n",
    "    def __init__ ( self, wheelsize , color):\n",
    "        \n",
    "        self.wheelsize = wheelsize\n",
    "        self.color = color \n",
    "        \n",
    "    def move (self , speed):\n",
    "        print(\" 자전거 이동 : 시속 {}km 으로 전진 \".format(speed))\n",
    "        \n",
    "    def turn (self , direction):\n",
    "        print(\" 자전거 : {0} 으로 방향전환 \".format(direction))\n",
    "        \n",
    "    def stop (self):\n",
    "        print ( ' 자전거 : {0} , {1} = 정지'.format(self.wheelsize , self.color))\n",
    "        \n",
    "        \n",
    "b1 = Bicyle(100,'Blue')\n",
    "b1.wheelsize\n",
    "b1.color\n",
    "\n",
    "b1.move(100)\n",
    "b1.turn('right')\n",
    "b1.stop()\n"
   ]
  },
  {
   "cell_type": "markdown",
   "metadata": {},
   "source": [
    "### 객체 초기화\n",
    "\n",
    "- 초기화 함수  `__init__()`"
   ]
  },
  {
   "cell_type": "code",
   "execution_count": 9,
   "metadata": {},
   "outputs": [
    {
     "name": "stdout",
     "output_type": "stream",
     "text": [
      " 자전거 이동 : 시속 100km 으로 전진 \n",
      " 자전거 : right 으로 방향전환 \n",
      " 자전거 : (100 , black) = 정지\n"
     ]
    }
   ],
   "source": [
    "class Bicyle ():\n",
    "    \n",
    "    def __init__ ( self, wheelsize , color):\n",
    "        \n",
    "        self.wheelsize = wheelsize\n",
    "        self.color = color \n",
    "        \n",
    "    def move (self , speed):\n",
    "        print(\" 자전거 이동 : 시속 {}km 으로 전진 \".format(speed))\n",
    "        \n",
    "    def turn (self , direction):\n",
    "        print(\" 자전거 : {0} 으로 방향전환 \".format(direction))\n",
    "        \n",
    "    def stop (self):\n",
    "        print ( ' 자전거 : ({0} , {1}) = 정지'.format(self.wheelsize , self.color))\n",
    "        \n",
    "b1 = Bicyle(100,'black')\n",
    "b1.move(100)\n",
    "b1.turn('right')\n",
    "b1.stop()"
   ]
  },
  {
   "cell_type": "markdown",
   "metadata": {},
   "source": [
    "### 클래스 변수 , 인스턴스 변수 \n",
    "\n",
    "- 클래스 변수 = 클래스 공통변수 \n",
    "- 인스턴스 변수 = 인스턴스 마다 바뀌는 변수 "
   ]
  },
  {
   "cell_type": "code",
   "execution_count": 23,
   "metadata": {},
   "outputs": [
    {
     "name": "stdout",
     "output_type": "stream",
     "text": [
      " 자동차 객체의 수 = 1\n",
      " 자동차 객체의 수 = 2\n",
      "Car()  클래스의 총 인스턴스 갯수 = 2 개 입니다.\n",
      "Car()  클래스의 총 인스턴스 갯수 = 2 개 입니다.\n",
      "Car()  클래스의 총 인스턴스 갯수 = 2 개 입니다.\n",
      " Car() 의 클래스 변수는 c1 c2 둘다 공통으로 가지고 있지만, 인스턴스 변수는 사용자가 각각 다르게 넣었기때문에 서로 다르다.\n",
      "자동차 ( small & white 이(가) 움직입니다.)\n",
      "자동차 ( big & black 이(가) 움직입니다.)\n"
     ]
    }
   ],
   "source": [
    "class Car():\n",
    "    \n",
    "    instance_count=0 # 클래스 변수 및 초기화 \n",
    "    \n",
    "    def __init__(self, size , color):\n",
    "        self.size = size \n",
    "        self.color = color\n",
    "        Car.instance_count = Car.instance_count+1 # 클래스 변수 / Car(): 의 변수 \n",
    "        print(\" 자동차 객체의 수 = {0}\".format(Car.instance_count))\n",
    "        \n",
    "    def move (self):\n",
    "        print('자동차 ( {0} & {1} 이(가) 움직입니다.)'.format(self.size , self.color))\n",
    "        \n",
    "c1 = Car('small','white')\n",
    "\n",
    "c2 = Car('big','black')\n",
    "\n",
    "print( 'Car()  클래스의 총 인스턴스 갯수 = {0} 개 입니다.'.format(Car.instance_count))\n",
    "print( 'Car()  클래스의 총 인스턴스 갯수 = {0} 개 입니다.'.format(c1.instance_count))\n",
    "print( 'Car()  클래스의 총 인스턴스 갯수 = {0} 개 입니다.'.format(c2.instance_count))\n",
    "\n",
    "\n",
    "print(' Car() 의 클래스 변수는 c1 c2 둘다 공통으로 가지고 있지만, 인스턴스 변수는 사용자가 각각 다르게 넣었기때문에 서로 다르다.')\n",
    "c1.move()\n",
    "c2.move()"
   ]
  },
  {
   "cell_type": "markdown",
   "metadata": {},
   "source": [
    "- 클래스 변수와 인스턴스 변수명을 같은 이름으로 해도 될까? \n",
    "- 클래스 변수가 공통 ( 우의 ) "
   ]
  },
  {
   "cell_type": "code",
   "execution_count": 26,
   "metadata": {},
   "outputs": [
    {
     "name": "stdout",
     "output_type": "stream",
     "text": [
      " 자동차 객체의 수( Car2.count) = 1\n",
      " 인스턴스 변수 초기화 = self.count=1\n",
      " 자동차 객체의 수( Car2.count) = 2\n",
      " 인스턴스 변수 초기화 = self.count=2\n",
      "자동차 ( big & 2 이(가) 움직입니다.)\n",
      "자동차 ( small & 2 이(가) 움직입니다.)\n"
     ]
    }
   ],
   "source": [
    "class Car2():\n",
    "    \n",
    "    count=0 # 클래스 변수 및 초기화 \n",
    "    \n",
    "    def __init__(self, size , num):\n",
    "        self.size = size \n",
    "        self.num = num # 인스턴스 변수 \n",
    "        Car2.count = Car2.count+1 # 클래스 변수 / Car(): 의 변수 \n",
    "        print(\" 자동차 객체의 수( Car2.count) = {0}\".format(Car2.count)) # 클래스변수 \n",
    "        print(' 인스턴스 변수 초기화 = self.count={0}'.format(self.count)) # 인스턴스 변수 \n",
    "        \n",
    "    def move (self):\n",
    "        print('자동차 ( {0} & {1} 이(가) 움직입니다.)'.format(self.size , self.count))\n",
    "        \n",
    "Car1 = Car2('big',20)\n",
    "\n",
    "Car2 = Car2('small',30)\n",
    "\n",
    "Car1.move()\n",
    "Car2.move()"
   ]
  },
  {
   "cell_type": "markdown",
   "metadata": {},
   "source": [
    "## 클래스 와 객체 를 사용 하는 이유 \n",
    "\n",
    "\n",
    "- 1. 간편한 코드 \n",
    "- 2. 하나로 다양한 활용이 가능 "
   ]
  },
  {
   "cell_type": "code",
   "execution_count": 33,
   "metadata": {},
   "outputs": [
    {
     "name": "stdout",
     "output_type": "stream",
     "text": [
      " R1 position = 1\n",
      " R2 position = 11\n"
     ]
    }
   ],
   "source": [
    "# 로봇은 위로만 이동할 수 있다.\n",
    "# 로봇의 속성 . 이름 위치\n",
    "# 로봇의 동작 . 한칸이동 \n",
    "\n",
    "\n",
    "# 클래스를 사용 X  함수지정 계속해야함 \n",
    "\n",
    "robot_name = 'R1' # 로봇1이름 \n",
    "robot_posi = 0 # 로봇1 초기 위치 \n",
    "\n",
    "def robot_move():\n",
    "    global robot_posi\n",
    "    robot_posi = robot_posi + 1 \n",
    "    print(\" {0} position = {1}\".format(robot_name , robot_posi))\n",
    "\n",
    "robot_move()\n",
    "\n",
    "robot2_name = 'R2' # 로봇2 이름 \n",
    "robot2_posi = 10 # 로봇2 초기 위치 \n",
    "\n",
    "def robot2_move():\n",
    "    global robot2_posi\n",
    "    robot2_posi = robot2_posi + 1 \n",
    "    print(\" {0} position = {1}\".format(robot2_name , robot2_posi))\n",
    "    \n",
    "robot2_move()"
   ]
  },
  {
   "cell_type": "code",
   "execution_count": 36,
   "metadata": {},
   "outputs": [
    {
     "name": "stdout",
     "output_type": "stream",
     "text": [
      "R1 position = 1 \n",
      "R2 position = 11 \n"
     ]
    }
   ],
   "source": [
    "# 클래스를  사용 O  # 함수지정 1개만 \n",
    "\n",
    "class Robot():\n",
    "    \n",
    "    def __init__ (self, name , posi):\n",
    "        self.name = name  # 로봇 객체의 이름 \n",
    "        self.posi = posi  # 로봇의 객체의 의미\n",
    "        \n",
    "    def move(self):\n",
    "        self.posi = self.posi+1\n",
    "        print('{0} position = {1} '.format(self.name , self.posi))\n",
    "        \n",
    "robot_1 = Robot('R1',0)\n",
    "robot_2 = Robot('R2',10)\n",
    "\n",
    "robot_1.move()\n",
    "robot_2.move()"
   ]
  },
  {
   "cell_type": "markdown",
   "metadata": {},
   "source": [
    "## 클래스 상속 ( 부모클래스 자식 클래스 )\n",
    "\n",
    "- 이미 만들어진 클래스의 변수와 함수를 그대로 이어받고 내용만 추가해서 클래스 선언 \n",
    "\n",
    "```python \n",
    "\n",
    "class 자식클래스 이름 ( 부모클래스 ) :\n",
    "    < 코드블럭 >\n",
    "    \n",
    "```\n"
   ]
  },
  {
   "cell_type": "code",
   "execution_count": 47,
   "metadata": {},
   "outputs": [
    {
     "name": "stdout",
     "output_type": "stream",
     "text": [
      " 자전거 이동 : 시속 20km 으로 전진 \n",
      " 자전거 : right 으로 방향전환 \n",
      " 자전거 : (100 , white) = 정지\n",
      " 자전거 = 접기 , state= Folding\n",
      " 자전거 = 펼치기 , state= UnFolding\n"
     ]
    }
   ],
   "source": [
    "class FoldingBicycle(Bicyle):\n",
    "    \n",
    "    def __init__( self, wheelsize , color, state ) : # init 인자는 그대로 받아와야한다 ( 보통그럼 , 추가는 가능 )\n",
    "        Bicyle.__init__(self, wheelsize , color) # 부모클래스의 재사용 사용하겠다는 의미 \n",
    "        self.state = state # 자식클래스의 새로운 변수 \n",
    "        \n",
    "    def fold ( self):\n",
    "        self.state = \" Folding\"\n",
    "        print( \" 자전거 = 접기 , state={0}\".format(self.state))\n",
    "        \n",
    "    def unfold (self):\n",
    "        self.state = ' UnFolding'\n",
    "        print( ' 자전거 = 펼치기 , state={0}'.format(self.state))\n",
    "        \n",
    "fb_1 = FoldingBicycle(100,'white','unFolding')\n",
    "fb_1.move(20)\n",
    "fb_1.turn('right')\n",
    "fb_1.stop()\n",
    "fb_1.fold()\n",
    "fb_1.unfold()"
   ]
  },
  {
   "cell_type": "code",
   "execution_count": null,
   "metadata": {},
   "outputs": [],
   "source": []
  }
 ],
 "metadata": {
  "kernelspec": {
   "display_name": "Python 3",
   "language": "python",
   "name": "python3"
  },
  "language_info": {
   "codemirror_mode": {
    "name": "ipython",
    "version": 3
   },
   "file_extension": ".py",
   "mimetype": "text/x-python",
   "name": "python",
   "nbconvert_exporter": "python",
   "pygments_lexer": "ipython3",
   "version": "3.7.6"
  }
 },
 "nbformat": 4,
 "nbformat_minor": 4
}
