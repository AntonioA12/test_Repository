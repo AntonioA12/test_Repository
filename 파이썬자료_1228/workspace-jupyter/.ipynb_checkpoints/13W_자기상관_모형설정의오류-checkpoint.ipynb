{
 "cells": [
  {
   "cell_type": "code",
   "execution_count": 54,
   "metadata": {},
   "outputs": [],
   "source": [
    "from IPython.core.interactiveshell import InteractiveShell\n",
    "InteractiveShell.ast_node_interactivity = 'all'\n",
    "\n",
    "import numpy as np\n",
    "import pandas as pd\n",
    "import matplotlib.pyplot as plt\n",
    "%matplotlib inline\n",
    "\n",
    "import statsmodels.api as sm\n",
    "from statsmodels.iolib.summary2 import summary_col\n",
    "\n",
    "# OLS \n",
    "import statsmodels.formula.api as smf\n",
    "# VIF\n",
    "from patsy import dmatrices\n",
    "import statsmodels.api as sm\n",
    "from statsmodels.stats.outliers_influence import variance_inflation_factor\n",
    "# Q-Q plot\n",
    "from scipy import stats\n",
    "# Jarque-Bera\n",
    "import statsmodels.stats.api as sms\n",
    "from statsmodels.compat import lzip\n",
    "# Durbin-Watson\n",
    "import statsmodels.stats.stattools as tools\n",
    "# Breusch - Godfrey tset\n",
    "import statsmodels.stats.diagnostic as sm_diagnostic\n",
    "# 강건표준오차(자기상관)\n",
    "import statsmodels.stats as sm_stats\n",
    "# 램지테스트 (모형설정의오류)\n",
    "import statsmodels.stats.outliers_influence as oi"
   ]
  },
  {
   "cell_type": "markdown",
   "metadata": {},
   "source": [
    "## 다중공산성 / 오차항의 정규성 / 이분산 / 자기상관 / 모형설정의 오류 "
   ]
  },
  {
   "cell_type": "markdown",
   "metadata": {},
   "source": [
    "## 자기상관 가정에 대한 탐지 및 치료"
   ]
  },
  {
   "cell_type": "code",
   "execution_count": 10,
   "metadata": {},
   "outputs": [
    {
     "data": {
      "text/plain": [
       "Index(['year', 'consumption', 'income', 'wealth', 'interest', 'lnconsump',\n",
       "       'lndpi', 'lnwealth', 'dlnconsump', 'dlndpi', 'dlnwealth', 'dinterest',\n",
       "       'rlnconsump', 'rlndpi', 'rlnwealth', 'rinterest', 'dconsump', 'dincome',\n",
       "       'dwealth', 'rconsump', 'rincome', 'rwealth', 'rinterest2', 'time'],\n",
       "      dtype='object')"
      ]
     },
     "execution_count": 10,
     "metadata": {},
     "output_type": "execute_result"
    }
   ],
   "source": [
    "df = pd.read_csv('consumption.txt' , sep='\\t')\n",
    "\n",
    "df.columns"
   ]
  },
  {
   "cell_type": "markdown",
   "metadata": {},
   "source": [
    "### 실질소비량 = 실질가처분소득 , 실질재산 , 실질 이자율\n",
    "#### log(c) = log(DPI) + log(W) + log(r) + u "
   ]
  },
  {
   "cell_type": "code",
   "execution_count": 14,
   "metadata": {},
   "outputs": [
    {
     "name": "stdout",
     "output_type": "stream",
     "text": [
      "                            OLS Regression Results                            \n",
      "==============================================================================\n",
      "Dep. Variable:              lnconsump   R-squared:                       1.000\n",
      "Model:                            OLS   Adj. R-squared:                  1.000\n",
      "Method:                 Least Squares   F-statistic:                 3.783e+04\n",
      "Date:                Mon, 22 Jun 2020   Prob (F-statistic):           7.12e-84\n",
      "Time:                        00:10:48   Log-Likelihood:                 164.59\n",
      "No. Observations:                  54   AIC:                            -321.2\n",
      "Df Residuals:                      50   BIC:                            -313.2\n",
      "Df Model:                           3                                         \n",
      "Covariance Type:            nonrobust                                         \n",
      "==============================================================================\n",
      "                 coef    std err          t      P>|t|      [0.025      0.975]\n",
      "------------------------------------------------------------------------------\n",
      "Intercept     -0.4677      0.043    -10.934      0.000      -0.554      -0.382\n",
      "lndpi          0.8049      0.017     45.999      0.000       0.770       0.840\n",
      "lnwealth       0.2013      0.018     11.441      0.000       0.166       0.237\n",
      "interest      -0.0027      0.001     -3.529      0.001      -0.004      -0.001\n",
      "==============================================================================\n",
      "Omnibus:                        1.995   Durbin-Watson:                   1.289\n",
      "Prob(Omnibus):                  0.369   Jarque-Bera (JB):                1.805\n",
      "Skew:                           0.438   Prob(JB):                        0.405\n",
      "Kurtosis:                       2.811   Cond. No.                         357.\n",
      "==============================================================================\n",
      "\n",
      "Warnings:\n",
      "[1] Standard Errors assume that the covariance matrix of the errors is correctly specified.\n"
     ]
    }
   ],
   "source": [
    "reg1 = smf.ols('lnconsump ~ lndpi + lnwealth + interest' , missing='drop' , data=df).fit()\n",
    "\n",
    "print(reg1.summary())"
   ]
  },
  {
   "cell_type": "markdown",
   "metadata": {},
   "source": [
    "### 코멘트 \n",
    "   \n",
    "    - OLS.summary 하는것 으로 Durbin-Watson 의 수치를 알 수 있다. \n",
    "    - Durbin-Waston 의 수치가 2에 가까우면 자기상관이 X  ( 기준 = 1.5~2.5 )\n",
    "    - 상단의 OLS 에선 1.289 임으로 자기상관이 있다고 할수도 없다고 할 수있는 상황이다 ( Waston 의 기준수치가 명확하지않기 때문.)\n",
    "    \n",
    "    - 따라서 Durin-Waston 을 구체적으로 파악해보자 "
   ]
  },
  {
   "cell_type": "markdown",
   "metadata": {},
   "source": [
    "## Durbin-Watson 1 : AR(1) "
   ]
  },
  {
   "cell_type": "code",
   "execution_count": 18,
   "metadata": {},
   "outputs": [
    {
     "name": "stdout",
     "output_type": "stream",
     "text": [
      "1.2892472895549987\n"
     ]
    }
   ],
   "source": [
    "residulas = reg1.resid\n",
    "\n",
    "import statsmodels.stats.stattools as tools\n",
    "\n",
    "dw = tools.durbin_watson(residulas)\n",
    "\n",
    "print(dw)"
   ]
  },
  {
   "cell_type": "markdown",
   "metadata": {},
   "source": [
    "### 코멘트 \n",
    "\n",
    "    - statsmodels.stats.stattools 사용해 AR(1) 방법으로 \n",
    "    - Durbin-Waston 의 수치를 구하는 방법. 허나 이 방법은 OLS summary 와 수치값이 같다 "
   ]
  },
  {
   "cell_type": "markdown",
   "metadata": {},
   "source": [
    "## Breusch - Godfrey test : up to 3 lags"
   ]
  },
  {
   "cell_type": "code",
   "execution_count": 24,
   "metadata": {},
   "outputs": [
    {
     "name": "stdout",
     "output_type": "stream",
     "text": [
      "              0         1\n",
      "0       LM-stat  6.447028\n",
      "1  LM : P-value  0.039815\n",
      "2       F-value  3.253817\n",
      "3   F : P-value  0.047295\n"
     ]
    }
   ],
   "source": [
    "import statsmodels.stats.diagnostic as sm_diagnostic\n",
    "# lzip \n",
    "\n",
    "# \n",
    "name =['LM-stat', 'LM : P-value' , 'F-value' , ' F : P-value']\n",
    "bg_t = sm_diagnostic.acorr_breusch_godfrey(reg1 , nlags=2 ) \n",
    "print( pd.DataFrame( lzip(name , bg_t) ) )"
   ]
  },
  {
   "cell_type": "markdown",
   "metadata": {},
   "source": [
    "### 코멘트\n",
    "    \n",
    "    - Breusch-Godfrey 방법을 통해 \n",
    "    - 'LM-stat', 'LM : P-value' , 'F-value' , ' F : P-value' 을 구하고 \n",
    "    - LM-stat 의 p-값, F-value의 p-값을 구한다 \n",
    "    \n",
    "    - 만약 p-값이 reject 에 가까운 수치를 보여준다면 ( p값이 0.05보다 작다면 ) \n",
    "    - 자기상관이 O 라는 뜻이며 , 이는 자기상관 문제의 해결이 필요함을 알 수 있다. "
   ]
  },
  {
   "cell_type": "markdown",
   "metadata": {},
   "source": [
    "## 자기상관 해결법 1 :first - difference model\n",
    "\n"
   ]
  },
  {
   "cell_type": "code",
   "execution_count": 30,
   "metadata": {},
   "outputs": [
    {
     "name": "stdout",
     "output_type": "stream",
     "text": [
      "                                 OLS Regression Results                                \n",
      "=======================================================================================\n",
      "Dep. Variable:             dlnconsump   R-squared (uncentered):                   0.924\n",
      "Model:                            OLS   Adj. R-squared (uncentered):              0.919\n",
      "Method:                 Least Squares   F-statistic:                              205.7\n",
      "Date:                Mon, 22 Jun 2020   Prob (F-statistic):                    1.81e-28\n",
      "Time:                        00:27:21   Log-Likelihood:                          168.34\n",
      "No. Observations:                  54   AIC:                                     -330.7\n",
      "Df Residuals:                      51   BIC:                                     -324.7\n",
      "Df Model:                           3                                                  \n",
      "Covariance Type:            nonrobust                                                  \n",
      "==============================================================================\n",
      "                 coef    std err          t      P>|t|      [0.025      0.975]\n",
      "------------------------------------------------------------------------------\n",
      "dlndpi         0.8490      0.051     16.637      0.000       0.747       0.951\n",
      "dlnwealth      0.1064      0.036      2.915      0.005       0.033       0.180\n",
      "dinterest      0.0007      0.001      0.798      0.428      -0.001       0.002\n",
      "==============================================================================\n",
      "Omnibus:                        0.354   Durbin-Watson:                   2.151\n",
      "Prob(Omnibus):                  0.838   Jarque-Bera (JB):                0.456\n",
      "Skew:                          -0.176   Prob(JB):                        0.796\n",
      "Kurtosis:                       2.719   Cond. No.                         71.8\n",
      "==============================================================================\n",
      "\n",
      "Warnings:\n",
      "[1] Standard Errors assume that the covariance matrix of the errors is correctly specified.\n"
     ]
    }
   ],
   "source": [
    "# reg2 = smf.ols('dlnconsump ~ dlndpi + dlnwealth + dinterest' , data=df , missing='drop')\n",
    "#  interest 를 없애야 하는데 interest 를 포함함으로 사용하지 않는다 \n",
    "\n",
    "\n",
    "Y = df['dlnconsump']\n",
    "X = df[['dlndpi' , 'dlnwealth' , 'dinterest']]\n",
    "reg2 = sm.OLS(Y,X , missing='drop').fit()\n",
    "print(reg2.summary())"
   ]
  },
  {
   "cell_type": "markdown",
   "metadata": {},
   "source": [
    "### 코멘트 \n",
    "    \n",
    "    reg1.OLS 표에서는 interest 의 t-값이 유의하게 나왔으나.\n",
    "    first - difference model 방법을 통해 구한 dlinterest 의 t-값을 볼 때, 유의하지 않음을 찾을 수 있었다."
   ]
  },
  {
   "cell_type": "markdown",
   "metadata": {},
   "source": [
    "## 자기상관 해결법 2 : 강건표준오차 "
   ]
  },
  {
   "cell_type": "code",
   "execution_count": 33,
   "metadata": {},
   "outputs": [
    {
     "name": "stdout",
     "output_type": "stream",
     "text": [
      "[[ 2.59204931e-03  2.73991741e-04 -5.05818036e-04  2.74189368e-05]\n",
      " [ 2.73991741e-04  3.39938381e-04 -3.13569826e-04 -3.38585924e-06]\n",
      " [-5.05818036e-04 -3.13569826e-04  3.16306973e-04 -1.79943636e-07]\n",
      " [ 2.74189368e-05 -3.38585924e-06 -1.79943636e-07  8.80267343e-07]]\n"
     ]
    }
   ],
   "source": [
    "import statsmodels.stats as sm_stats\n",
    "\n",
    "V_HAC = sm.stats.sandwich_covariance.cov_hac_simple( reg1 , nlags = 1)\n",
    "print(V_HAC)"
   ]
  },
  {
   "cell_type": "code",
   "execution_count": 34,
   "metadata": {},
   "outputs": [
    {
     "name": "stdout",
     "output_type": "stream",
     "text": [
      "                            OLS Regression Results                            \n",
      "==============================================================================\n",
      "Dep. Variable:              lnconsump   R-squared:                       1.000\n",
      "Model:                            OLS   Adj. R-squared:                  1.000\n",
      "Method:                 Least Squares   F-statistic:                 2.433e+04\n",
      "Date:                Mon, 22 Jun 2020   Prob (F-statistic):           4.40e-79\n",
      "Time:                        00:31:30   Log-Likelihood:                 164.59\n",
      "No. Observations:                  54   AIC:                            -321.2\n",
      "Df Residuals:                      50   BIC:                            -313.2\n",
      "Df Model:                           3                                         \n",
      "Covariance Type:                  HAC                                         \n",
      "==============================================================================\n",
      "                 coef    std err          t      P>|t|      [0.025      0.975]\n",
      "------------------------------------------------------------------------------\n",
      "Intercept     -0.4677      0.049     -9.547      0.000      -0.566      -0.369\n",
      "lndpi          0.8049      0.018     45.367      0.000       0.769       0.841\n",
      "lnwealth       0.2013      0.017     11.761      0.000       0.167       0.236\n",
      "interest      -0.0027      0.001     -2.979      0.004      -0.005      -0.001\n",
      "==============================================================================\n",
      "Omnibus:                        1.995   Durbin-Watson:                   1.289\n",
      "Prob(Omnibus):                  0.369   Jarque-Bera (JB):                1.805\n",
      "Skew:                           0.438   Prob(JB):                        0.405\n",
      "Kurtosis:                       2.811   Cond. No.                         357.\n",
      "==============================================================================\n",
      "\n",
      "Warnings:\n",
      "[1] Standard Errors are heteroscedasticity and autocorrelation robust (HAC) using 1 lags and without small sample correction\n"
     ]
    }
   ],
   "source": [
    "reg3 = reg1.get_robustcov_results( cov_type ='HAC' , maxlags =1 )\n",
    "print(reg3.summary())"
   ]
  },
  {
   "cell_type": "markdown",
   "metadata": {},
   "source": [
    "### 코멘트 \n",
    "\n",
    "    - 강건표준오차 방법을 통해 t-값의 변화를 찾으려해도 , t-값의 변화를 찾을 수없다.\n",
    "    - 다만 , Warnings 코멘트를 확인한다면, \n",
    "    \n",
    "    = [1] 표준 오차는 1 지연을 사용하고 작은 샘플 보정없이 이분산성 및 자기 상관 강건 (HAC)입니다\n",
    "    \n",
    "    - 이 뜻은 자기상관을 넣었더니 , 이분산과 자기상관에 대해서 강건한 표준오차 를 갖는다를 알 수 있다."
   ]
  },
  {
   "cell_type": "code",
   "execution_count": 35,
   "metadata": {},
   "outputs": [
    {
     "name": "stdout",
     "output_type": "stream",
     "text": [
      "                            OLS Regression Results                            \n",
      "==============================================================================\n",
      "Dep. Variable:              lnconsump   R-squared:                       1.000\n",
      "Model:                            OLS   Adj. R-squared:                  1.000\n",
      "Method:                 Least Squares   F-statistic:                 3.783e+04\n",
      "Date:                Mon, 22 Jun 2020   Prob (F-statistic):           7.12e-84\n",
      "Time:                        00:33:56   Log-Likelihood:                 164.59\n",
      "No. Observations:                  54   AIC:                            -321.2\n",
      "Df Residuals:                      50   BIC:                            -313.2\n",
      "Df Model:                           3                                         \n",
      "Covariance Type:            nonrobust                                         \n",
      "==============================================================================\n",
      "                 coef    std err          t      P>|t|      [0.025      0.975]\n",
      "------------------------------------------------------------------------------\n",
      "Intercept     -0.4677      0.043    -10.934      0.000      -0.554      -0.382\n",
      "lndpi          0.8049      0.017     45.999      0.000       0.770       0.840\n",
      "lnwealth       0.2013      0.018     11.441      0.000       0.166       0.237\n",
      "interest      -0.0027      0.001     -3.529      0.001      -0.004      -0.001\n",
      "==============================================================================\n",
      "Omnibus:                        1.995   Durbin-Watson:                   1.289\n",
      "Prob(Omnibus):                  0.369   Jarque-Bera (JB):                1.805\n",
      "Skew:                           0.438   Prob(JB):                        0.405\n",
      "Kurtosis:                       2.811   Cond. No.                         357.\n",
      "==============================================================================\n",
      "\n",
      "Warnings:\n",
      "[1] Standard Errors assume that the covariance matrix of the errors is correctly specified.\n"
     ]
    }
   ],
   "source": [
    "print(reg1.summary())"
   ]
  },
  {
   "cell_type": "markdown",
   "metadata": {},
   "source": [
    "## Feasible GLS - Cochrane-Orcutt ( CORC ) "
   ]
  },
  {
   "cell_type": "code",
   "execution_count": 39,
   "metadata": {},
   "outputs": [
    {
     "name": "stdout",
     "output_type": "stream",
     "text": [
      "                           GLSAR Regression Results                           \n",
      "==============================================================================\n",
      "Dep. Variable:                      y   R-squared:                       0.998\n",
      "Model:                          GLSAR   Adj. R-squared:                  0.998\n",
      "Method:                 Least Squares   F-statistic:                     8883.\n",
      "Date:                Mon, 22 Jun 2020   Prob (F-statistic):           5.19e-67\n",
      "Time:                        00:41:54   Log-Likelihood:                 171.71\n",
      "No. Observations:                  53   AIC:                            -335.4\n",
      "Df Residuals:                      49   BIC:                            -327.5\n",
      "Df Model:                           3                                         \n",
      "Covariance Type:            nonrobust                                         \n",
      "==============================================================================\n",
      "                 coef    std err          t      P>|t|      [0.025      0.975]\n",
      "------------------------------------------------------------------------------\n",
      "const         -0.3986      0.064     -6.193      0.000      -0.528      -0.269\n",
      "x1             0.8423      0.027     31.215      0.000       0.788       0.896\n",
      "x2             0.1620      0.026      6.208      0.000       0.110       0.214\n",
      "x3             0.0012      0.001      1.264      0.212      -0.001       0.003\n",
      "==============================================================================\n",
      "Omnibus:                        0.490   Durbin-Watson:                   1.835\n",
      "Prob(Omnibus):                  0.783   Jarque-Bera (JB):                0.565\n",
      "Skew:                           0.211   Prob(JB):                        0.754\n",
      "Kurtosis:                       2.721   Cond. No.                         263.\n",
      "==============================================================================\n",
      "\n",
      "Warnings:\n",
      "[1] Standard Errors assume that the covariance matrix of the errors is correctly specified.\n"
     ]
    }
   ],
   "source": [
    "reg1_model = smf.ols('lnconsump ~ lndpi + lnwealth + interest' , missing='drop' , data=df)\n",
    "reg1_CORC = sm.GLSAR(reg1_model.endog, reg1_model.exog)\n",
    "\n",
    "reg1_CORC_fit = reg1_CORC.iterative_fit(maxiter=100) # OLS fit() \n",
    "print(reg1_CORC_fit.summary())"
   ]
  },
  {
   "cell_type": "markdown",
   "metadata": {},
   "source": [
    "### 코멘트\n",
    "\n",
    "    - CORC 의 방법은 ? \n",
    "    - 자기상관이 있다고 가정을 하고, rho 를 추정을 한다. \n",
    "    \n",
    "    - 기존의 변수를\n",
    "    - rho_hat 값을 새롭게 만들어 낸다. \n",
    "    \n",
    "    - 그후 기존의 데이터와 CORC 데이터를 차감하여 \n",
    "    - 불필요한 데이터가 무엇인지 확인한다.\n",
    "    \n",
    "### 출력후 어떤걸 봐야하는가 \n",
    "\n",
    "    - x1 = lndpi \n",
    "    - x2 = lnwealth\n",
    "    - x3 = interest \n",
    "    \n",
    "    - t-값을 볼때, \n",
    "    - x3 인 interest 의 변수가 불필요 한 데이터임을 알 수있다.\n",
    "    - Durin-Watson 수치 또한 1.835 로 자기상관 X 에 가까워졌다."
   ]
  },
  {
   "cell_type": "code",
   "execution_count": 40,
   "metadata": {},
   "outputs": [
    {
     "name": "stdout",
     "output_type": "stream",
     "text": [
      "[0.58755422]\n"
     ]
    }
   ],
   "source": [
    "print(reg1_CORC.rho)"
   ]
  },
  {
   "cell_type": "markdown",
   "metadata": {},
   "source": [
    "## 모형설정오류 탐지 : 램지 테스트\n",
    "    - Ramsey regression specification error test ( RESET) \n",
    "    \n",
    "    - 잘못된 함수 형태 또는 누락변수 들을 찾는데 유용한 테스트 \n",
    "    - 기존의 변수에서 제곱 하거나 , 교차항으로 곱함으로 누락된 형태를 찾는다\n",
    "    \n",
    "    - 또, 제곱이 빠졌거나 ( 제곱이 없어서 비선형이거나 )\n",
    "    - 교차항이 빠졋거나 를 찾는다 ( 비선형의 원인들 )\n",
    "    \n",
    "    - 만약 null hypothesis , P-값이 충분히 작으면 원래 있던 변수들이 잘못 됨을 나타낸다.\n",
    "    \n",
    "   "
   ]
  },
  {
   "cell_type": "code",
   "execution_count": 44,
   "metadata": {},
   "outputs": [
    {
     "name": "stdout",
     "output_type": "stream",
     "text": [
      "<F test: F=array([[31.11085009]]), p=1.0395422986943174e-06, df_denom=49, df_num=1>\n"
     ]
    }
   ],
   "source": [
    "import statsmodels.stats.outliers_influence as oi\n",
    "\n",
    "print(oi.reset_ramsey(reg1 , degree=2)) # 차수는 = 2"
   ]
  },
  {
   "cell_type": "markdown",
   "metadata": {},
   "source": [
    "### 코멘트 \n",
    "\n",
    "    - P-값의 1.0395422986943174e-06 은 거의 0에 가깝다.\n",
    "    \n",
    "    - 이뜻은 상당히 reject 이고 , 모형설정오류가 있음을 보여준다\n",
    "    \n",
    "    - 누락변수가 있거나, 제곱이 빠졋거나 , 교차항이 빠졋거나를 알수있다."
   ]
  },
  {
   "cell_type": "code",
   "execution_count": null,
   "metadata": {},
   "outputs": [],
   "source": []
  }
 ],
 "metadata": {
  "kernelspec": {
   "display_name": "Python 3",
   "language": "python",
   "name": "python3"
  },
  "language_info": {
   "codemirror_mode": {
    "name": "ipython",
    "version": 3
   },
   "file_extension": ".py",
   "mimetype": "text/x-python",
   "name": "python",
   "nbconvert_exporter": "python",
   "pygments_lexer": "ipython3",
   "version": "3.7.6"
  }
 },
 "nbformat": 4,
 "nbformat_minor": 4
}
