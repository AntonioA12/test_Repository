{
 "cells": [
  {
   "cell_type": "code",
   "execution_count": 2,
   "metadata": {},
   "outputs": [],
   "source": [
    "from IPython.core.interactiveshell import InteractiveShell\n",
    "InteractiveShell.ast_node_interactivity = 'all'\n",
    "\n",
    "import numpy as np\n",
    "import pandas as pd\n",
    "import matplotlib.pyplot as plt\n",
    "%matplotlib inline\n",
    "\n",
    "import statsmodels.api as sm\n",
    "from statsmodels.iolib.summary2 import summary_col"
   ]
  },
  {
   "cell_type": "code",
   "execution_count": 3,
   "metadata": {
    "scrolled": true
   },
   "outputs": [
    {
     "data": {
      "text/plain": [
       "Index(['wage', 'female', 'nonwhite', 'union', 'education', 'exper', 'age',\n",
       "       'wind', 'femalenonw', 'lnwage'],\n",
       "      dtype='object')"
      ]
     },
     "execution_count": 3,
     "metadata": {},
     "output_type": "execute_result"
    }
   ],
   "source": [
    "# read data \n",
    "#df = pd.read_excel('wage.xlsx', index_col =0)\n",
    "df = pd.read_excel('C:\\\\Users\\\\Hyobin An\\\\workspace-jupyter\\\\wage.xlsx', index_col =0)\n",
    "df.columns"
   ]
  },
  {
   "cell_type": "markdown",
   "metadata": {},
   "source": [
    "## 기초통계량 / 상관계수"
   ]
  },
  {
   "cell_type": "code",
   "execution_count": 4,
   "metadata": {},
   "outputs": [
    {
     "data": {
      "text/html": [
       "<div>\n",
       "<style scoped>\n",
       "    .dataframe tbody tr th:only-of-type {\n",
       "        vertical-align: middle;\n",
       "    }\n",
       "\n",
       "    .dataframe tbody tr th {\n",
       "        vertical-align: top;\n",
       "    }\n",
       "\n",
       "    .dataframe thead th {\n",
       "        text-align: right;\n",
       "    }\n",
       "</style>\n",
       "<table border=\"1\" class=\"dataframe\">\n",
       "  <thead>\n",
       "    <tr style=\"text-align: right;\">\n",
       "      <th></th>\n",
       "      <th>wage</th>\n",
       "      <th>female</th>\n",
       "      <th>nonwhite</th>\n",
       "      <th>union</th>\n",
       "      <th>education</th>\n",
       "      <th>exper</th>\n",
       "      <th>age</th>\n",
       "      <th>wind</th>\n",
       "      <th>femalenonw</th>\n",
       "      <th>lnwage</th>\n",
       "    </tr>\n",
       "  </thead>\n",
       "  <tbody>\n",
       "    <tr>\n",
       "      <th>count</th>\n",
       "      <td>1289.00</td>\n",
       "      <td>1289.0</td>\n",
       "      <td>1289.00</td>\n",
       "      <td>1289.00</td>\n",
       "      <td>1289.00</td>\n",
       "      <td>1289.00</td>\n",
       "      <td>1289.00</td>\n",
       "      <td>1289.00</td>\n",
       "      <td>1289.00</td>\n",
       "      <td>1289.00</td>\n",
       "    </tr>\n",
       "    <tr>\n",
       "      <th>mean</th>\n",
       "      <td>12.37</td>\n",
       "      <td>0.5</td>\n",
       "      <td>0.15</td>\n",
       "      <td>0.16</td>\n",
       "      <td>13.15</td>\n",
       "      <td>18.79</td>\n",
       "      <td>37.93</td>\n",
       "      <td>0.41</td>\n",
       "      <td>0.08</td>\n",
       "      <td>2.34</td>\n",
       "    </tr>\n",
       "    <tr>\n",
       "      <th>std</th>\n",
       "      <td>7.90</td>\n",
       "      <td>0.5</td>\n",
       "      <td>0.36</td>\n",
       "      <td>0.37</td>\n",
       "      <td>2.81</td>\n",
       "      <td>11.66</td>\n",
       "      <td>11.49</td>\n",
       "      <td>0.49</td>\n",
       "      <td>0.28</td>\n",
       "      <td>0.59</td>\n",
       "    </tr>\n",
       "    <tr>\n",
       "      <th>min</th>\n",
       "      <td>0.84</td>\n",
       "      <td>0.0</td>\n",
       "      <td>0.00</td>\n",
       "      <td>0.00</td>\n",
       "      <td>0.00</td>\n",
       "      <td>0.00</td>\n",
       "      <td>18.00</td>\n",
       "      <td>0.00</td>\n",
       "      <td>0.00</td>\n",
       "      <td>-0.17</td>\n",
       "    </tr>\n",
       "    <tr>\n",
       "      <th>25%</th>\n",
       "      <td>6.92</td>\n",
       "      <td>0.0</td>\n",
       "      <td>0.00</td>\n",
       "      <td>0.00</td>\n",
       "      <td>12.00</td>\n",
       "      <td>9.00</td>\n",
       "      <td>29.00</td>\n",
       "      <td>0.00</td>\n",
       "      <td>0.00</td>\n",
       "      <td>1.93</td>\n",
       "    </tr>\n",
       "    <tr>\n",
       "      <th>50%</th>\n",
       "      <td>10.08</td>\n",
       "      <td>0.0</td>\n",
       "      <td>0.00</td>\n",
       "      <td>0.00</td>\n",
       "      <td>12.00</td>\n",
       "      <td>18.00</td>\n",
       "      <td>37.00</td>\n",
       "      <td>0.00</td>\n",
       "      <td>0.00</td>\n",
       "      <td>2.31</td>\n",
       "    </tr>\n",
       "    <tr>\n",
       "      <th>75%</th>\n",
       "      <td>15.63</td>\n",
       "      <td>1.0</td>\n",
       "      <td>0.00</td>\n",
       "      <td>0.00</td>\n",
       "      <td>16.00</td>\n",
       "      <td>27.00</td>\n",
       "      <td>47.00</td>\n",
       "      <td>1.00</td>\n",
       "      <td>0.00</td>\n",
       "      <td>2.75</td>\n",
       "    </tr>\n",
       "    <tr>\n",
       "      <th>max</th>\n",
       "      <td>64.08</td>\n",
       "      <td>1.0</td>\n",
       "      <td>1.00</td>\n",
       "      <td>1.00</td>\n",
       "      <td>20.00</td>\n",
       "      <td>56.00</td>\n",
       "      <td>65.00</td>\n",
       "      <td>1.00</td>\n",
       "      <td>1.00</td>\n",
       "      <td>4.16</td>\n",
       "    </tr>\n",
       "  </tbody>\n",
       "</table>\n",
       "</div>"
      ],
      "text/plain": [
       "          wage  female  nonwhite    union  education    exper      age  \\\n",
       "count  1289.00  1289.0   1289.00  1289.00    1289.00  1289.00  1289.00   \n",
       "mean     12.37     0.5      0.15     0.16      13.15    18.79    37.93   \n",
       "std       7.90     0.5      0.36     0.37       2.81    11.66    11.49   \n",
       "min       0.84     0.0      0.00     0.00       0.00     0.00    18.00   \n",
       "25%       6.92     0.0      0.00     0.00      12.00     9.00    29.00   \n",
       "50%      10.08     0.0      0.00     0.00      12.00    18.00    37.00   \n",
       "75%      15.63     1.0      0.00     0.00      16.00    27.00    47.00   \n",
       "max      64.08     1.0      1.00     1.00      20.00    56.00    65.00   \n",
       "\n",
       "          wind  femalenonw   lnwage  \n",
       "count  1289.00     1289.00  1289.00  \n",
       "mean      0.41        0.08     2.34  \n",
       "std       0.49        0.28     0.59  \n",
       "min       0.00        0.00    -0.17  \n",
       "25%       0.00        0.00     1.93  \n",
       "50%       0.00        0.00     2.31  \n",
       "75%       1.00        0.00     2.75  \n",
       "max       1.00        1.00     4.16  "
      ]
     },
     "execution_count": 4,
     "metadata": {},
     "output_type": "execute_result"
    },
    {
     "data": {
      "text/html": [
       "<div>\n",
       "<style scoped>\n",
       "    .dataframe tbody tr th:only-of-type {\n",
       "        vertical-align: middle;\n",
       "    }\n",
       "\n",
       "    .dataframe tbody tr th {\n",
       "        vertical-align: top;\n",
       "    }\n",
       "\n",
       "    .dataframe thead th {\n",
       "        text-align: right;\n",
       "    }\n",
       "</style>\n",
       "<table border=\"1\" class=\"dataframe\">\n",
       "  <thead>\n",
       "    <tr style=\"text-align: right;\">\n",
       "      <th></th>\n",
       "      <th>wage</th>\n",
       "      <th>female</th>\n",
       "      <th>nonwhite</th>\n",
       "      <th>union</th>\n",
       "      <th>education</th>\n",
       "      <th>exper</th>\n",
       "      <th>age</th>\n",
       "      <th>wind</th>\n",
       "      <th>femalenonw</th>\n",
       "      <th>lnwage</th>\n",
       "    </tr>\n",
       "  </thead>\n",
       "  <tbody>\n",
       "    <tr>\n",
       "      <th>wage</th>\n",
       "      <td>1.00</td>\n",
       "      <td>-0.22</td>\n",
       "      <td>-0.13</td>\n",
       "      <td>0.10</td>\n",
       "      <td>0.46</td>\n",
       "      <td>0.17</td>\n",
       "      <td>0.29</td>\n",
       "      <td>0.39</td>\n",
       "      <td>-0.13</td>\n",
       "      <td>0.92</td>\n",
       "    </tr>\n",
       "    <tr>\n",
       "      <th>female</th>\n",
       "      <td>-0.22</td>\n",
       "      <td>1.00</td>\n",
       "      <td>0.04</td>\n",
       "      <td>-0.09</td>\n",
       "      <td>-0.03</td>\n",
       "      <td>-0.02</td>\n",
       "      <td>-0.03</td>\n",
       "      <td>-0.07</td>\n",
       "      <td>0.30</td>\n",
       "      <td>-0.25</td>\n",
       "    </tr>\n",
       "    <tr>\n",
       "      <th>nonwhite</th>\n",
       "      <td>-0.13</td>\n",
       "      <td>0.04</td>\n",
       "      <td>1.00</td>\n",
       "      <td>0.08</td>\n",
       "      <td>-0.09</td>\n",
       "      <td>-0.04</td>\n",
       "      <td>-0.06</td>\n",
       "      <td>-0.08</td>\n",
       "      <td>0.71</td>\n",
       "      <td>-0.13</td>\n",
       "    </tr>\n",
       "    <tr>\n",
       "      <th>union</th>\n",
       "      <td>0.10</td>\n",
       "      <td>-0.09</td>\n",
       "      <td>0.08</td>\n",
       "      <td>1.00</td>\n",
       "      <td>0.00</td>\n",
       "      <td>0.15</td>\n",
       "      <td>0.16</td>\n",
       "      <td>-0.06</td>\n",
       "      <td>0.01</td>\n",
       "      <td>0.17</td>\n",
       "    </tr>\n",
       "    <tr>\n",
       "      <th>education</th>\n",
       "      <td>0.46</td>\n",
       "      <td>-0.03</td>\n",
       "      <td>-0.09</td>\n",
       "      <td>0.00</td>\n",
       "      <td>1.00</td>\n",
       "      <td>-0.18</td>\n",
       "      <td>0.06</td>\n",
       "      <td>0.37</td>\n",
       "      <td>-0.07</td>\n",
       "      <td>0.45</td>\n",
       "    </tr>\n",
       "    <tr>\n",
       "      <th>exper</th>\n",
       "      <td>0.17</td>\n",
       "      <td>-0.02</td>\n",
       "      <td>-0.04</td>\n",
       "      <td>0.15</td>\n",
       "      <td>-0.18</td>\n",
       "      <td>1.00</td>\n",
       "      <td>0.97</td>\n",
       "      <td>0.08</td>\n",
       "      <td>-0.01</td>\n",
       "      <td>0.19</td>\n",
       "    </tr>\n",
       "    <tr>\n",
       "      <th>age</th>\n",
       "      <td>0.29</td>\n",
       "      <td>-0.03</td>\n",
       "      <td>-0.06</td>\n",
       "      <td>0.16</td>\n",
       "      <td>0.06</td>\n",
       "      <td>0.97</td>\n",
       "      <td>1.00</td>\n",
       "      <td>0.18</td>\n",
       "      <td>-0.03</td>\n",
       "      <td>0.31</td>\n",
       "    </tr>\n",
       "    <tr>\n",
       "      <th>wind</th>\n",
       "      <td>0.39</td>\n",
       "      <td>-0.07</td>\n",
       "      <td>-0.08</td>\n",
       "      <td>-0.06</td>\n",
       "      <td>0.37</td>\n",
       "      <td>0.08</td>\n",
       "      <td>0.18</td>\n",
       "      <td>1.00</td>\n",
       "      <td>-0.08</td>\n",
       "      <td>0.37</td>\n",
       "    </tr>\n",
       "    <tr>\n",
       "      <th>femalenonw</th>\n",
       "      <td>-0.13</td>\n",
       "      <td>0.30</td>\n",
       "      <td>0.71</td>\n",
       "      <td>0.01</td>\n",
       "      <td>-0.07</td>\n",
       "      <td>-0.01</td>\n",
       "      <td>-0.03</td>\n",
       "      <td>-0.08</td>\n",
       "      <td>1.00</td>\n",
       "      <td>-0.14</td>\n",
       "    </tr>\n",
       "    <tr>\n",
       "      <th>lnwage</th>\n",
       "      <td>0.92</td>\n",
       "      <td>-0.25</td>\n",
       "      <td>-0.13</td>\n",
       "      <td>0.17</td>\n",
       "      <td>0.45</td>\n",
       "      <td>0.19</td>\n",
       "      <td>0.31</td>\n",
       "      <td>0.37</td>\n",
       "      <td>-0.14</td>\n",
       "      <td>1.00</td>\n",
       "    </tr>\n",
       "  </tbody>\n",
       "</table>\n",
       "</div>"
      ],
      "text/plain": [
       "            wage  female  nonwhite  union  education  exper   age  wind  \\\n",
       "wage        1.00   -0.22     -0.13   0.10       0.46   0.17  0.29  0.39   \n",
       "female     -0.22    1.00      0.04  -0.09      -0.03  -0.02 -0.03 -0.07   \n",
       "nonwhite   -0.13    0.04      1.00   0.08      -0.09  -0.04 -0.06 -0.08   \n",
       "union       0.10   -0.09      0.08   1.00       0.00   0.15  0.16 -0.06   \n",
       "education   0.46   -0.03     -0.09   0.00       1.00  -0.18  0.06  0.37   \n",
       "exper       0.17   -0.02     -0.04   0.15      -0.18   1.00  0.97  0.08   \n",
       "age         0.29   -0.03     -0.06   0.16       0.06   0.97  1.00  0.18   \n",
       "wind        0.39   -0.07     -0.08  -0.06       0.37   0.08  0.18  1.00   \n",
       "femalenonw -0.13    0.30      0.71   0.01      -0.07  -0.01 -0.03 -0.08   \n",
       "lnwage      0.92   -0.25     -0.13   0.17       0.45   0.19  0.31  0.37   \n",
       "\n",
       "            femalenonw  lnwage  \n",
       "wage             -0.13    0.92  \n",
       "female            0.30   -0.25  \n",
       "nonwhite          0.71   -0.13  \n",
       "union             0.01    0.17  \n",
       "education        -0.07    0.45  \n",
       "exper            -0.01    0.19  \n",
       "age              -0.03    0.31  \n",
       "wind             -0.08    0.37  \n",
       "femalenonw        1.00   -0.14  \n",
       "lnwage           -0.14    1.00  "
      ]
     },
     "execution_count": 4,
     "metadata": {},
     "output_type": "execute_result"
    }
   ],
   "source": [
    "df.describe(include='all').round(2)\n",
    "df.corr().round(2)"
   ]
  },
  {
   "cell_type": "markdown",
   "metadata": {},
   "source": [
    "## lnwage column 을 제거하고 OLS 계산"
   ]
  },
  {
   "cell_type": "code",
   "execution_count": 5,
   "metadata": {},
   "outputs": [
    {
     "name": "stdout",
     "output_type": "stream",
     "text": [
      "                            OLS Regression Results                            \n",
      "==============================================================================\n",
      "Dep. Variable:                   wage   R-squared:                       0.324\n",
      "Model:                            OLS   Adj. R-squared:                  0.321\n",
      "Method:                 Least Squares   F-statistic:                     102.4\n",
      "Date:                Thu, 11 Jun 2020   Prob (F-statistic):          2.25e-105\n",
      "Time:                        22:49:35   Log-Likelihood:                -4239.8\n",
      "No. Observations:                1289   AIC:                             8494.\n",
      "Df Residuals:                    1282   BIC:                             8530.\n",
      "Df Model:                           6                                         \n",
      "Covariance Type:            nonrobust                                         \n",
      "==============================================================================\n",
      "                 coef    std err          t      P>|t|      [0.025      0.975]\n",
      "------------------------------------------------------------------------------\n",
      "Intercept     -7.0887      1.019     -6.953      0.000      -9.089      -5.089\n",
      "female        -3.2401      0.395     -8.196      0.000      -4.016      -2.465\n",
      "nonwhite      -2.1585      0.748     -2.884      0.004      -3.627      -0.690\n",
      "union          1.1150      0.506      2.202      0.028       0.122       2.108\n",
      "education      1.3701      0.066     20.791      0.000       1.241       1.499\n",
      "exper          0.1659      0.016     10.326      0.000       0.134       0.197\n",
      "femalenonw     1.0954      1.013      1.081      0.280      -0.892       3.082\n",
      "==============================================================================\n",
      "Omnibus:                      527.606   Durbin-Watson:                   1.899\n",
      "Prob(Omnibus):                  0.000   Jarque-Bera (JB):             3564.893\n",
      "Skew:                           1.753   Prob(JB):                         0.00\n",
      "Kurtosis:                      10.354   Cond. No.                         167.\n",
      "==============================================================================\n",
      "\n",
      "Warnings:\n",
      "[1] Standard Errors assume that the covariance matrix of the errors is correctly specified.\n"
     ]
    }
   ],
   "source": [
    "import statsmodels.formula.api as smf\n",
    "\n",
    "reg1 = smf.ols('wage ~ female + nonwhite + union + education + exper + femalenonw' , missing='drop' , data=df).fit()\n",
    "print(reg1.summary())"
   ]
  },
  {
   "cell_type": "markdown",
   "metadata": {},
   "source": [
    "## 다중공산성 진단  / VIF"
   ]
  },
  {
   "cell_type": "code",
   "execution_count": 6,
   "metadata": {},
   "outputs": [],
   "source": [
    "# VIF \n",
    "from patsy import dmatrices\n",
    "import statsmodels.api as sm\n",
    "from statsmodels.stats.outliers_influence import variance_inflation_factor\n",
    "\n",
    "# gather feature 어떤 변수들의 f 를 볼 것인가.\n",
    "features ='female + nonwhite + union + education + exper + femalenonw'\n",
    "#features ='+'.join(df.columns - ['wage + lnwage'])"
   ]
  },
  {
   "cell_type": "code",
   "execution_count": 7,
   "metadata": {},
   "outputs": [],
   "source": [
    "# get Y and X DataFrame based on the regression \n",
    "y , X = dmatrices('wage ~' + features , df , return_type='dataframe')"
   ]
  },
  {
   "cell_type": "code",
   "execution_count": 8,
   "metadata": {},
   "outputs": [
    {
     "name": "stdout",
     "output_type": "stream",
     "text": [
      "   VIF Factors    features\n",
      "0         31.6   Intercept\n",
      "1          1.2      female\n",
      "2          2.2    nonwhite\n",
      "3          1.0       union\n",
      "4          1.0   education\n",
      "5          1.1       exper\n",
      "6          2.4  femalenonw\n"
     ]
    }
   ],
   "source": [
    "# VIF factors 계산 \n",
    "\n",
    "vif = pd.DataFrame()\n",
    "vif['VIF Factors'] = [ variance_inflation_factor(X.values , i) for i in range(X.shape[1])]\n",
    "vif['features']=X.columns\n",
    "\n",
    "print(vif.round(1))"
   ]
  },
  {
   "cell_type": "markdown",
   "metadata": {},
   "source": [
    "## VIF 10이 넘으면 다중 공산성 있다고 의심.\n",
    "\n",
    "    - 만약 다중공산성의 위험이 있으면 Warnings :  에 코멘트가 추가 될것. ( 아래의 데이터에는 현재 없음.) \n",
    "    \n",
    "    -[1] Standard Errors assume that the covariance matrix of the errors is correctly specified.\n",
    "        이분산의 문제가 있음을 알림. "
   ]
  },
  {
   "cell_type": "code",
   "execution_count": 9,
   "metadata": {},
   "outputs": [
    {
     "name": "stdout",
     "output_type": "stream",
     "text": [
      "                            OLS Regression Results                            \n",
      "==============================================================================\n",
      "Dep. Variable:                   wage   R-squared:                       0.324\n",
      "Model:                            OLS   Adj. R-squared:                  0.321\n",
      "Method:                 Least Squares   F-statistic:                     102.4\n",
      "Date:                Thu, 11 Jun 2020   Prob (F-statistic):          2.25e-105\n",
      "Time:                        22:49:36   Log-Likelihood:                -4239.8\n",
      "No. Observations:                1289   AIC:                             8494.\n",
      "Df Residuals:                    1282   BIC:                             8530.\n",
      "Df Model:                           6                                         \n",
      "Covariance Type:            nonrobust                                         \n",
      "==============================================================================\n",
      "                 coef    std err          t      P>|t|      [0.025      0.975]\n",
      "------------------------------------------------------------------------------\n",
      "Intercept     -7.0887      1.019     -6.953      0.000      -9.089      -5.089\n",
      "female        -3.2401      0.395     -8.196      0.000      -4.016      -2.465\n",
      "nonwhite      -2.1585      0.748     -2.884      0.004      -3.627      -0.690\n",
      "union          1.1150      0.506      2.202      0.028       0.122       2.108\n",
      "education      1.3701      0.066     20.791      0.000       1.241       1.499\n",
      "exper          0.1659      0.016     10.326      0.000       0.134       0.197\n",
      "femalenonw     1.0954      1.013      1.081      0.280      -0.892       3.082\n",
      "==============================================================================\n",
      "Omnibus:                      527.606   Durbin-Watson:                   1.899\n",
      "Prob(Omnibus):                  0.000   Jarque-Bera (JB):             3564.893\n",
      "Skew:                           1.753   Prob(JB):                         0.00\n",
      "Kurtosis:                      10.354   Cond. No.                         167.\n",
      "==============================================================================\n",
      "\n",
      "Warnings:\n",
      "[1] Standard Errors assume that the covariance matrix of the errors is correctly specified.\n"
     ]
    }
   ],
   "source": [
    "results =sm.OLS( y , X).fit()\n",
    "print(results.summary())"
   ]
  },
  {
   "cell_type": "markdown",
   "metadata": {},
   "source": [
    "## 정규성 진단 = Histogram / Q-Q plot / Jarque-Bera Test "
   ]
  },
  {
   "cell_type": "code",
   "execution_count": 10,
   "metadata": {},
   "outputs": [
    {
     "data": {
      "text/plain": [
       "<matplotlib.axes._subplots.AxesSubplot at 0x1cf09cedf08>"
      ]
     },
     "execution_count": 10,
     "metadata": {},
     "output_type": "execute_result"
    },
    {
     "data": {
      "image/png": "[encoded data removed]",
      "text/plain": [
       "<Figure size 432x288 with 1 Axes>"
      ]
     },
     "metadata": {
      "needs_background": "light"
     },
     "output_type": "display_data"
    }
   ],
   "source": [
    "# Histogram \n",
    "\n",
    "df['wage'].plot(kind='hist' , title='Wage')"
   ]
  },
  {
   "cell_type": "code",
   "execution_count": 11,
   "metadata": {},
   "outputs": [
    {
     "data": {
      "text/plain": [
       "((array([-3.27007457, -3.01030999, -2.86569395, ...,  2.86569395,\n",
       "          3.01030999,  3.27007457]),\n",
       "  array([-20.84435087, -16.71127281, -15.33443812, ...,  37.2460727 ,\n",
       "          40.656928  ,  50.49679285])),\n",
       " (6.1283010322994915, -2.521322688110445e-14, 0.942166818756293))"
      ]
     },
     "execution_count": 11,
     "metadata": {},
     "output_type": "execute_result"
    },
    {
     "data": {
      "text/plain": [
       "Text(0.5, 1.0, 'Residual Q-Q plot')"
      ]
     },
     "execution_count": 11,
     "metadata": {},
     "output_type": "execute_result"
    },
    {
     "data": {
      "image/png": "[encoded data removed]",
      "text/plain": [
       "<Figure size 432x288 with 1 Axes>"
      ]
     },
     "metadata": {
      "needs_background": "light"
     },
     "output_type": "display_data"
    }
   ],
   "source": [
    "# Q-Q plot  정규성을 띄면 빨간선과 유사한 형태이여야 한다. \n",
    "\n",
    "from scipy import stats\n",
    "stats.probplot(reg1.resid , dist='norm' , plot=plt)\n",
    "plt.title('Residual Q-Q plot')"
   ]
  },
  {
   "cell_type": "code",
   "execution_count": 12,
   "metadata": {},
   "outputs": [
    {
     "data": {
      "text/plain": [
       "[('Jarque-Bera', 3564.8925510696718),\n",
       " ('Chi^2 two-tail prob.', 0.0),\n",
       " ('Skew', 1.7529447015244097),\n",
       " ('Kurtosis', 10.354167210177103)]"
      ]
     },
     "execution_count": 12,
     "metadata": {},
     "output_type": "execute_result"
    }
   ],
   "source": [
    "# Jarque-Bera \n",
    "\n",
    "import statsmodels.stats.api as sms\n",
    "from statsmodels.compat import lzip\n",
    "\n",
    "name = ['Jarque-Bera','Chi^2 two-tail prob.' , 'Skew' , 'Kurtosis']\n",
    "jarque = sms.jarque_bera(reg1.resid)\n",
    "lzip( name , jarque)"
   ]
  },
  {
   "cell_type": "markdown",
   "metadata": {},
   "source": [
    "     - [('Jarque-Bera', 3564.8925510696718),   =  높으면 X \n",
    "     ('Chi^2 two-tail prob.', 0.0),            =  rejected  \n",
    "     ('Skew', 1.7529447015244097),\n",
    "     ('Kurtosis', 10.354167210177103)]"
   ]
  },
  {
   "cell_type": "markdown",
   "metadata": {},
   "source": [
    "## 정규성 감지를 통해 모형 수정 \n",
    "    - dependent variable 에 log 를 취해준다"
   ]
  },
  {
   "cell_type": "code",
   "execution_count": 13,
   "metadata": {},
   "outputs": [
    {
     "name": "stdout",
     "output_type": "stream",
     "text": [
      "                            OLS Regression Results                            \n",
      "==============================================================================\n",
      "Dep. Variable:                 lnwage   R-squared:                       0.347\n",
      "Model:                            OLS   Adj. R-squared:                  0.344\n",
      "Method:                 Least Squares   F-statistic:                     113.4\n",
      "Date:                Thu, 11 Jun 2020   Prob (F-statistic):          7.90e-115\n",
      "Time:                        22:49:37   Log-Likelihood:                -866.06\n",
      "No. Observations:                1289   AIC:                             1746.\n",
      "Df Residuals:                    1282   BIC:                             1782.\n",
      "Df Model:                           6                                         \n",
      "Covariance Type:            nonrobust                                         \n",
      "==============================================================================\n",
      "                 coef    std err          t      P>|t|      [0.025      0.975]\n",
      "------------------------------------------------------------------------------\n",
      "Intercept      0.9145      0.074     12.289      0.000       0.769       1.061\n",
      "female        -0.2649      0.029     -9.180      0.000      -0.322      -0.208\n",
      "nonwhite      -0.1901      0.055     -3.480      0.001      -0.297      -0.083\n",
      "union          0.1820      0.037      4.924      0.000       0.110       0.255\n",
      "education      0.0999      0.005     20.757      0.000       0.090       0.109\n",
      "exper          0.0127      0.001     10.822      0.000       0.010       0.015\n",
      "femalenonw     0.1045      0.074      1.414      0.158      -0.041       0.250\n",
      "==============================================================================\n",
      "Omnibus:                       93.532   Durbin-Watson:                   1.942\n",
      "Prob(Omnibus):                  0.000   Jarque-Bera (JB):              253.063\n",
      "Skew:                          -0.379   Prob(JB):                     1.12e-55\n",
      "Kurtosis:                       5.034   Cond. No.                         167.\n",
      "==============================================================================\n",
      "\n",
      "Warnings:\n",
      "[1] Standard Errors assume that the covariance matrix of the errors is correctly specified.\n"
     ]
    }
   ],
   "source": [
    "reg2 = smf.ols('lnwage ~ female + nonwhite + union + education + exper + femalenonw' , missing='drop' , data=df).fit()\n",
    "print(reg2.summary())"
   ]
  },
  {
   "cell_type": "code",
   "execution_count": 14,
   "metadata": {},
   "outputs": [
    {
     "data": {
      "text/plain": [
       "<matplotlib.axes._subplots.AxesSubplot at 0x1cf09eb2dc8>"
      ]
     },
     "execution_count": 14,
     "metadata": {},
     "output_type": "execute_result"
    },
    {
     "data": {
      "image/png": "[encoded data removed]",
      "text/plain": [
       "<Figure size 432x288 with 1 Axes>"
      ]
     },
     "metadata": {
      "needs_background": "light"
     },
     "output_type": "display_data"
    }
   ],
   "source": [
    "df['lnwage'].plot(kind='hist' , title='log of Wage') "
   ]
  },
  {
   "cell_type": "code",
   "execution_count": 15,
   "metadata": {},
   "outputs": [
    {
     "data": {
      "text/plain": [
       "((array([-3.27007457, -3.01030999, -2.86569395, ...,  2.86569395,\n",
       "          3.01030999,  3.27007457]),\n",
       "  array([-2.51860276, -2.26658054, -2.12623103, ...,  1.5759588 ,\n",
       "          1.76062545,  1.80710739])),\n",
       " (0.46995625122832313, -2.9572728025331976e-15, 0.9897634500488944))"
      ]
     },
     "execution_count": 15,
     "metadata": {},
     "output_type": "execute_result"
    },
    {
     "data": {
      "text/plain": [
       "Text(0.5, 1.0, 'Residual Q-Q plot')"
      ]
     },
     "execution_count": 15,
     "metadata": {},
     "output_type": "execute_result"
    },
    {
     "data": {
      "image/png": "[encoded data removed]",
      "text/plain": [
       "<Figure size 432x288 with 1 Axes>"
      ]
     },
     "metadata": {
      "needs_background": "light"
     },
     "output_type": "display_data"
    }
   ],
   "source": [
    "stats.probplot(reg2.resid , dist='norm' , plot=plt)\n",
    "plt.title('Residual Q-Q plot')"
   ]
  },
  {
   "cell_type": "code",
   "execution_count": 16,
   "metadata": {},
   "outputs": [
    {
     "data": {
      "text/plain": [
       "[('Jarque-Bera', 253.0628558063804),\n",
       " ('Chi^2 two-tail prob.', 1.117118063527526e-55),\n",
       " ('Skew', -0.3792823443212981),\n",
       " ('Kurtosis', 5.03380882209285)]"
      ]
     },
     "execution_count": 16,
     "metadata": {},
     "output_type": "execute_result"
    }
   ],
   "source": [
    "name = ['Jarque-Bera','Chi^2 two-tail prob.' , 'Skew' , 'Kurtosis']\n",
    "jarque = sms.jarque_bera(reg2.resid)\n",
    "lzip( name , jarque)"
   ]
  },
  {
   "cell_type": "markdown",
   "metadata": {},
   "source": [
    "## 이분산성  = BP Test / White general Test"
   ]
  },
  {
   "cell_type": "code",
   "execution_count": 17,
   "metadata": {},
   "outputs": [
    {
     "data": {
      "text/plain": [
       "[('Lagrange_multiplier static', 32.30966355782754),\n",
       " ('P-value', 1.4231867037158166e-05),\n",
       " ('F-value', 5.493396354958099),\n",
       " ('F_P-value', 1.2548174067370212e-05)]"
      ]
     },
     "execution_count": 17,
     "metadata": {},
     "output_type": "execute_result"
    }
   ],
   "source": [
    "# BP Test\n",
    "\n",
    "name = [ 'Lagrange_multiplier static','P-value','F-value','F_P-value']\n",
    "BPtest = sms.het_breuschpagan(reg2.resid , reg2.model.exog)\n",
    "lzip(name , BPtest)"
   ]
  },
  {
   "cell_type": "code",
   "execution_count": 18,
   "metadata": {},
   "outputs": [
    {
     "data": {
      "text/plain": [
       "[('Lagrange_multiplier static', 45.7851450117016),\n",
       " ('P-value', 0.0008625650109927492),\n",
       " ('F-value', 2.3348966448516277),\n",
       " ('F_P-value', 0.0007607795395750044)]"
      ]
     },
     "execution_count": 18,
     "metadata": {},
     "output_type": "execute_result"
    }
   ],
   "source": [
    "# White Test \n",
    "\n",
    "name = [ 'Lagrange_multiplier static','P-value','F-value','F_P-value']\n",
    "WhiteTest = sms.het_white( reg2.resid , reg2.model.exog  ) # retres = False\n",
    "lzip(name , WhiteTest)"
   ]
  },
  {
   "cell_type": "markdown",
   "metadata": {},
   "source": [
    "## 이분산의 해결법 - 화이트 강건 표준오차\n",
    "\n",
    "    - reg 변수를 지정할 때, smf.OLS 명령어 option 에서 .fit(cov_types='HC3') 추가 만 하면 해결 \n",
    "    - standard Errors are heteroscedasticit.robust(HC3) 이 나오면 된다 \n",
    "    - std err 가 많이 작아짐을 알 수 있다."
   ]
  },
  {
   "cell_type": "code",
   "execution_count": 19,
   "metadata": {},
   "outputs": [
    {
     "name": "stdout",
     "output_type": "stream",
     "text": [
      "                            OLS Regression Results                            \n",
      "==============================================================================\n",
      "Dep. Variable:                 lnwage   R-squared:                       0.347\n",
      "Model:                            OLS   Adj. R-squared:                  0.344\n",
      "Method:                 Least Squares   F-statistic:                     113.4\n",
      "Date:                Thu, 11 Jun 2020   Prob (F-statistic):          7.90e-115\n",
      "Time:                        22:49:39   Log-Likelihood:                -866.06\n",
      "No. Observations:                1289   AIC:                             1746.\n",
      "Df Residuals:                    1282   BIC:                             1782.\n",
      "Df Model:                           6                                         \n",
      "Covariance Type:            nonrobust                                         \n",
      "==============================================================================\n",
      "                 coef    std err          t      P>|t|      [0.025      0.975]\n",
      "------------------------------------------------------------------------------\n",
      "Intercept      0.9145      0.074     12.289      0.000       0.769       1.061\n",
      "female        -0.2649      0.029     -9.180      0.000      -0.322      -0.208\n",
      "nonwhite      -0.1901      0.055     -3.480      0.001      -0.297      -0.083\n",
      "union          0.1820      0.037      4.924      0.000       0.110       0.255\n",
      "education      0.0999      0.005     20.757      0.000       0.090       0.109\n",
      "exper          0.0127      0.001     10.822      0.000       0.010       0.015\n",
      "femalenonw     0.1045      0.074      1.414      0.158      -0.041       0.250\n",
      "==============================================================================\n",
      "Omnibus:                       93.532   Durbin-Watson:                   1.942\n",
      "Prob(Omnibus):                  0.000   Jarque-Bera (JB):              253.063\n",
      "Skew:                          -0.379   Prob(JB):                     1.12e-55\n",
      "Kurtosis:                       5.034   Cond. No.                         167.\n",
      "==============================================================================\n",
      "\n",
      "Warnings:\n",
      "[1] Standard Errors assume that the covariance matrix of the errors is correctly specified.\n"
     ]
    }
   ],
   "source": [
    "reg3 = smf.ols('lnwage ~ female + nonwhite + union + education + exper + femalenonw' , missing='drop' , data=df).fit(cov_types='HC3')\n",
    "print(reg3.summary())"
   ]
  },
  {
   "cell_type": "markdown",
   "metadata": {},
   "source": [
    "### 화이트 이분산의 선택 \n",
    "    \n",
    "    - 샘플 수 가 작으면 HC2 , HC3 를 사용 ( 보통은 HC3 ) 를 사용하라. "
   ]
  },
  {
   "cell_type": "markdown",
   "metadata": {},
   "source": [
    "- 기초통계량 / 공분산 진단 / OLS 추청 / VIF / 정규성 확인 / Jarque-Bera / 이분산의 BPtest 와  WhiteTest 그리고 화이트 강건 표준오차 "
   ]
  },
  {
   "cell_type": "code",
   "execution_count": null,
   "metadata": {},
   "outputs": [],
   "source": []
  }
 ],
 "metadata": {
  "kernelspec": {
   "display_name": "Python 3",
   "language": "python",
   "name": "python3"
  },
  "language_info": {
   "codemirror_mode": {
    "name": "ipython",
    "version": 3
   },
   "file_extension": ".py",
   "mimetype": "text/x-python",
   "name": "python",
   "nbconvert_exporter": "python",
   "pygments_lexer": "ipython3",
   "version": "3.7.6"
  }
 },
 "nbformat": 4,
 "nbformat_minor": 4
}
