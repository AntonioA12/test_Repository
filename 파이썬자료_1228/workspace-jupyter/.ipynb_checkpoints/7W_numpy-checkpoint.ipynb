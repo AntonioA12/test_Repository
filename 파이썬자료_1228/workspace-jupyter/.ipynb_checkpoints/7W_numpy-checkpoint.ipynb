{
 "cells": [
  {
   "cell_type": "code",
   "execution_count": 1,
   "metadata": {},
   "outputs": [],
   "source": [
    "from IPython.core.interactiveshell import InteractiveShell\n",
    "InteractiveShell.ast_node_interactivity = \"all\""
   ]
  },
  {
   "cell_type": "markdown",
   "metadata": {},
   "source": [
    "## 패키지 ( numpy , pandas )\n",
    "\n",
    "- 여러 모듈을 체계적으로 모아서 꾸러미로 관리하면 편한 경우가 많은데 이 꾸러미를 패키지 라고함\n",
    "- 파이썬의 경우 , 여러 모듈을 폴더로 묶어서 계층적으로 관리 \n",
    "- 배열의 numpy , 데이터 구조 처리 pandas 가 있다."
   ]
  },
  {
   "cell_type": "markdown",
   "metadata": {},
   "source": [
    "### numpy\n",
    "\n",
    "- 과학 연산을 쉽고 빠르게하는 패키지\n",
    "- 다차원 배열 데이터 효과적으로 처리 가능\n"
   ]
  },
  {
   "cell_type": "code",
   "execution_count": 41,
   "metadata": {},
   "outputs": [],
   "source": [
    "import numpy as np\n",
    "import random"
   ]
  },
  {
   "cell_type": "code",
   "execution_count": 9,
   "metadata": {},
   "outputs": [
    {
     "data": {
      "text/plain": [
       "array([0, 1, 2, 3, 4, 5])"
      ]
     },
     "execution_count": 9,
     "metadata": {},
     "output_type": "execute_result"
    },
    {
     "data": {
      "text/plain": [
       "numpy.ndarray"
      ]
     },
     "execution_count": 9,
     "metadata": {},
     "output_type": "execute_result"
    }
   ],
   "source": [
    "data_1 = [ 0 , 1, 2 , 3,4, 5 ]\n",
    "a1 = np.array(data_1)\n",
    "\n",
    "a1\n",
    "type(a1)"
   ]
  },
  {
   "cell_type": "code",
   "execution_count": 10,
   "metadata": {},
   "outputs": [
    {
     "data": {
      "text/plain": [
       "array([0.1, 3. , 5. , 0.7])"
      ]
     },
     "execution_count": 10,
     "metadata": {},
     "output_type": "execute_result"
    }
   ],
   "source": [
    "data_2 = [ 0.1 , 3 , 5 , 0.7]\n",
    "\n",
    "a2 = np.array(data_2)\n",
    "\n",
    "a2"
   ]
  },
  {
   "cell_type": "code",
   "execution_count": 15,
   "metadata": {},
   "outputs": [
    {
     "data": {
      "text/plain": [
       "array([[[0, 1, 2, 3, 4, 5]],\n",
       "\n",
       "       [[0, 1, 2, 3, 4, 5]],\n",
       "\n",
       "       [[0, 1, 2, 3, 4, 5]]])"
      ]
     },
     "execution_count": 15,
     "metadata": {},
     "output_type": "execute_result"
    }
   ],
   "source": [
    "arr_obj = np.array([[data_1],[data_1],[data_1]])\n",
    "\n",
    "arr_obj"
   ]
  },
  {
   "cell_type": "code",
   "execution_count": 16,
   "metadata": {},
   "outputs": [
    {
     "data": {
      "text/plain": [
       "array([0, 1, 2, 3, 4, 5, 6, 7, 8, 9])"
      ]
     },
     "execution_count": 16,
     "metadata": {},
     "output_type": "execute_result"
    }
   ],
   "source": [
    "np.arange(10)"
   ]
  },
  {
   "cell_type": "code",
   "execution_count": 18,
   "metadata": {},
   "outputs": [
    {
     "data": {
      "text/plain": [
       "array([ 1.,  2.,  3.,  4.,  5.,  6.,  7.,  8.,  9., 10.])"
      ]
     },
     "execution_count": 18,
     "metadata": {},
     "output_type": "execute_result"
    }
   ],
   "source": [
    "np.linspace(1,10,10) # ( 시작 , 끝 , 데이터수 ) # veteor 전용 "
   ]
  },
  {
   "cell_type": "code",
   "execution_count": 20,
   "metadata": {},
   "outputs": [
    {
     "data": {
      "text/plain": [
       "array([1.        , 1.1127154 , 1.22543081, 1.33814621, 1.45086161,\n",
       "       1.56357701, 1.67629242, 1.78900782, 1.90172322, 2.01443863,\n",
       "       2.12715403, 2.23986943, 2.35258483, 2.46530024, 2.57801564,\n",
       "       2.69073104, 2.80344645, 2.91616185, 3.02887725, 3.14159265])"
      ]
     },
     "execution_count": 20,
     "metadata": {},
     "output_type": "execute_result"
    }
   ],
   "source": [
    "np.linspace(1,np.pi, 20) # ( 시작 , 끝 , 데이터수 )"
   ]
  },
  {
   "cell_type": "markdown",
   "metadata": {},
   "source": [
    "### zeros() , ones() \n",
    "\n",
    "- zeros() = 배열에  0 만 들어감\n",
    "- ones() = 배열에 1 만들어감 "
   ]
  },
  {
   "cell_type": "code",
   "execution_count": 24,
   "metadata": {},
   "outputs": [
    {
     "data": {
      "text/plain": [
       "array([[0., 0., 0., 0.],\n",
       "       [0., 0., 0., 0.],\n",
       "       [0., 0., 0., 0.]])"
      ]
     },
     "execution_count": 24,
     "metadata": {},
     "output_type": "execute_result"
    },
    {
     "data": {
      "text/plain": [
       "array([[1., 1.],\n",
       "       [1., 1.]])"
      ]
     },
     "execution_count": 24,
     "metadata": {},
     "output_type": "execute_result"
    }
   ],
   "source": [
    "np.zeros((3,4))\n",
    "np.ones((2,2))"
   ]
  },
  {
   "cell_type": "code",
   "execution_count": 30,
   "metadata": {},
   "outputs": [
    {
     "data": {
      "text/plain": [
       "array([[1., 0., 0.],\n",
       "       [0., 1., 0.],\n",
       "       [0., 0., 1.]])"
      ]
     },
     "execution_count": 30,
     "metadata": {},
     "output_type": "execute_result"
    }
   ],
   "source": [
    "# 단위행렬 # 대각선 \n",
    "\n",
    "np.eye(3)"
   ]
  },
  {
   "cell_type": "markdown",
   "metadata": {},
   "source": [
    "### 배열의 데이터 타입 변환 \n",
    "\n",
    "```python\n",
    "\n",
    "num_arr = str.arr.astype(dtype)\n",
    "\n",
    "```"
   ]
  },
  {
   "cell_type": "code",
   "execution_count": 37,
   "metadata": {},
   "outputs": [],
   "source": [
    "str1 = np.array( [ '1.5' , ' 0.34 ' , ' 2' , '3.14 ' , '28.93 '])"
   ]
  },
  {
   "cell_type": "code",
   "execution_count": 39,
   "metadata": {},
   "outputs": [
    {
     "data": {
      "text/plain": [
       "array([ 1.5 ,  0.34,  2.  ,  3.14, 28.93])"
      ]
     },
     "execution_count": 39,
     "metadata": {},
     "output_type": "execute_result"
    }
   ],
   "source": [
    "num1 = str1.astype(float) # STR -> floast \n",
    "\n",
    "num1"
   ]
  },
  {
   "cell_type": "code",
   "execution_count": 40,
   "metadata": {},
   "outputs": [
    {
     "data": {
      "text/plain": [
       "array([ 1,  0,  2,  3, 28])"
      ]
     },
     "execution_count": 40,
     "metadata": {},
     "output_type": "execute_result"
    }
   ],
   "source": [
    "int1 = num1.astype(int) # float -> int \n",
    "\n",
    "int1"
   ]
  },
  {
   "cell_type": "markdown",
   "metadata": {},
   "source": [
    "### 난수 생성 "
   ]
  },
  {
   "cell_type": "code",
   "execution_count": 43,
   "metadata": {},
   "outputs": [
    {
     "data": {
      "text/plain": [
       "array([[[0.30002032, 0.86392987, 0.02272101],\n",
       "        [0.4506136 , 0.34130917, 0.09740088]],\n",
       "\n",
       "       [[0.03736373, 0.56788085, 0.44128263],\n",
       "        [0.58466262, 0.73735017, 0.87479213]],\n",
       "\n",
       "       [[0.58982382, 0.27910423, 0.85441392],\n",
       "        [0.93485955, 0.14977127, 0.64245817]],\n",
       "\n",
       "       [[0.67493479, 0.00344653, 0.60137073],\n",
       "        [0.4196846 , 0.92633227, 0.9256506 ]]])"
      ]
     },
     "execution_count": 43,
     "metadata": {},
     "output_type": "execute_result"
    }
   ],
   "source": [
    "\n",
    "np.random.rand(4,2,3)"
   ]
  },
  {
   "cell_type": "code",
   "execution_count": 44,
   "metadata": {},
   "outputs": [
    {
     "data": {
      "text/plain": [
       "array([[2, 7, 9, 4],\n",
       "       [6, 4, 2, 6],\n",
       "       [2, 8, 9, 5]])"
      ]
     },
     "execution_count": 44,
     "metadata": {},
     "output_type": "execute_result"
    }
   ],
   "source": [
    "np.random.randint(10 , size = (3,4))"
   ]
  },
  {
   "cell_type": "markdown",
   "metadata": {},
   "source": [
    "### 배열의 연산"
   ]
  },
  {
   "cell_type": "code",
   "execution_count": 48,
   "metadata": {},
   "outputs": [
    {
     "data": {
      "text/plain": [
       "array([10, 20, 30, 40])"
      ]
     },
     "execution_count": 48,
     "metadata": {},
     "output_type": "execute_result"
    },
    {
     "data": {
      "text/plain": [
       "array([1, 2, 3, 4])"
      ]
     },
     "execution_count": 48,
     "metadata": {},
     "output_type": "execute_result"
    },
    {
     "data": {
      "text/plain": [
       "array([11, 22, 33, 44])"
      ]
     },
     "execution_count": 48,
     "metadata": {},
     "output_type": "execute_result"
    },
    {
     "data": {
      "text/plain": [
       "array([ 10,  40,  90, 160])"
      ]
     },
     "execution_count": 48,
     "metadata": {},
     "output_type": "execute_result"
    }
   ],
   "source": [
    "ar1 = np.array([10,20,30,40])\n",
    "ar2 = np.array([1,2,3,4])\n",
    "\n",
    "ar1\n",
    "ar2\n",
    "\n",
    "# 사칙연산\n",
    "ar1+ar2\n",
    "ar1*ar2 # 같은 위치의 element 끼리만 곱함\n"
   ]
  },
  {
   "cell_type": "markdown",
   "metadata": {},
   "source": [
    "### 배열의 연산 2 \n",
    "\n",
    "- sum()\n",
    "    - 합계 구하기\n",
    "- mean()\n",
    "    - 평균\n",
    "- median()\n",
    "    - 중앙값\n",
    "- std()\n",
    "    - 표준편차 \n",
    "- var()\n",
    "    - 분산\n"
   ]
  },
  {
   "cell_type": "markdown",
   "metadata": {},
   "source": [
    "### 행렬의 연산 \n",
    "\n",
    "- 행렬곱 \n",
    "    - A.dot(b) or np.dot(A,B)\n",
    "- 전치행렬\n",
    "    - np.transpose()\n",
    "- 역행렬\n",
    "    - np.linalg.inv(A)\n",
    "- 행렬식\n",
    "    - np.linalg.det(A)\n"
   ]
  },
  {
   "cell_type": "code",
   "execution_count": 58,
   "metadata": {},
   "outputs": [
    {
     "name": "stdout",
     "output_type": "stream",
     "text": [
      "### np.A ###\n"
     ]
    },
    {
     "data": {
      "text/plain": [
       "array([[0, 1],\n",
       "       [2, 3]])"
      ]
     },
     "execution_count": 58,
     "metadata": {},
     "output_type": "execute_result"
    },
    {
     "name": "stdout",
     "output_type": "stream",
     "text": [
      "### np.B ###\n"
     ]
    },
    {
     "data": {
      "text/plain": [
       "array([[3, 2],\n",
       "       [1, 0]])"
      ]
     },
     "execution_count": 58,
     "metadata": {},
     "output_type": "execute_result"
    },
    {
     "name": "stdout",
     "output_type": "stream",
     "text": [
      "### dot() 내적 ###\n"
     ]
    },
    {
     "data": {
      "text/plain": [
       "array([[1, 0],\n",
       "       [9, 4]])"
      ]
     },
     "execution_count": 58,
     "metadata": {},
     "output_type": "execute_result"
    },
    {
     "data": {
      "text/plain": [
       "array([[1, 0],\n",
       "       [9, 4]])"
      ]
     },
     "execution_count": 58,
     "metadata": {},
     "output_type": "execute_result"
    },
    {
     "name": "stdout",
     "output_type": "stream",
     "text": [
      "### 전치행렬 transpose ###\n"
     ]
    },
    {
     "data": {
      "text/plain": [
       "array([[0, 2],\n",
       "       [1, 3]])"
      ]
     },
     "execution_count": 58,
     "metadata": {},
     "output_type": "execute_result"
    },
    {
     "name": "stdout",
     "output_type": "stream",
     "text": [
      "###  역행렬  ###\n"
     ]
    },
    {
     "data": {
      "text/plain": [
       "array([[-1.5,  0.5],\n",
       "       [ 1. ,  0. ]])"
      ]
     },
     "execution_count": 58,
     "metadata": {},
     "output_type": "execute_result"
    },
    {
     "name": "stdout",
     "output_type": "stream",
     "text": [
      "### 행렬식  ###\n"
     ]
    },
    {
     "data": {
      "text/plain": [
       "-2.0"
      ]
     },
     "execution_count": 58,
     "metadata": {},
     "output_type": "execute_result"
    }
   ],
   "source": [
    "A = np.array([0,1,2,3]).reshape(2,2)\n",
    "B = np.array([3,2,1,0]).reshape(2,2)\n",
    "print('### np.A ###')\n",
    "A\n",
    "print('### np.B ###')\n",
    "B\n",
    "\n",
    "print('### dot() 내적 ###')\n",
    "A.dot(B)\n",
    "np.dot(A,B)\n",
    "\n",
    "print('### 전치행렬 transpose ###')\n",
    "np.transpose(A)\n",
    "\n",
    "print('###  역행렬  ###')\n",
    "np.linalg.inv(A)\n",
    "\n",
    "print('### 행렬식  ###')\n",
    "np.linalg.det(A)"
   ]
  },
  {
   "cell_type": "markdown",
   "metadata": {},
   "source": [
    "## 배열의 인덱싱과 슬라이싱 \n",
    "\n",
    "\n"
   ]
  },
  {
   "cell_type": "code",
   "execution_count": 61,
   "metadata": {},
   "outputs": [
    {
     "data": {
      "text/plain": [
       "30"
      ]
     },
     "execution_count": 61,
     "metadata": {},
     "output_type": "execute_result"
    },
    {
     "data": {
      "text/plain": [
       "array([ 0, 10, 20, 30, 80, 50])"
      ]
     },
     "execution_count": 61,
     "metadata": {},
     "output_type": "execute_result"
    }
   ],
   "source": [
    "a1  = np.array([0,10,20,30,40,50,])\n",
    "\n",
    "a1[3]\n",
    "a1[4]=80\n",
    "a1"
   ]
  },
  {
   "cell_type": "code",
   "execution_count": 67,
   "metadata": {},
   "outputs": [
    {
     "data": {
      "text/plain": [
       "array([[10, 20, 30],\n",
       "       [40, 50, 60],\n",
       "       [70, 80, 90]])"
      ]
     },
     "execution_count": 67,
     "metadata": {},
     "output_type": "execute_result"
    },
    {
     "data": {
      "text/plain": [
       "array([[  10,   20,   30],\n",
       "       [  40,   50,   60],\n",
       "       [  70,   80, 1000]])"
      ]
     },
     "execution_count": 67,
     "metadata": {},
     "output_type": "execute_result"
    },
    {
     "data": {
      "text/plain": [
       "array([[  45,   55,   65],\n",
       "       [  40,   50,   60],\n",
       "       [  70,   80, 1000]])"
      ]
     },
     "execution_count": 67,
     "metadata": {},
     "output_type": "execute_result"
    },
    {
     "data": {
      "text/plain": [
       "array([  65, 1000])"
      ]
     },
     "execution_count": 67,
     "metadata": {},
     "output_type": "execute_result"
    }
   ],
   "source": [
    "a2 = np.arange(10,100,10).reshape(3,3)\n",
    "\n",
    "a2\n",
    "a2[2,2]=1000 # element 변경 \n",
    "a2\n",
    "\n",
    "a2[0]=np.array([45,55,65]) # 열 전체를 변경\n",
    "a2\n",
    "\n",
    "a2[[0,2],[2,2]] # 일부만 호출 "
   ]
  },
  {
   "cell_type": "code",
   "execution_count": 69,
   "metadata": {},
   "outputs": [
    {
     "data": {
      "text/plain": [
       "array([ 0, 10, 20, 30, 40, 50])"
      ]
     },
     "execution_count": 69,
     "metadata": {},
     "output_type": "execute_result"
    },
    {
     "data": {
      "text/plain": [
       "array([10, 20, 30])"
      ]
     },
     "execution_count": 69,
     "metadata": {},
     "output_type": "execute_result"
    }
   ],
   "source": [
    "b1 = np.array([0,10,20,30,40,50])\n",
    "b1\n",
    "\n",
    "b1[1:4]"
   ]
  },
  {
   "cell_type": "code",
   "execution_count": 70,
   "metadata": {},
   "outputs": [
    {
     "data": {
      "text/plain": [
       "array([ 0, 10, 25, 35, 45, 50])"
      ]
     },
     "execution_count": 70,
     "metadata": {},
     "output_type": "execute_result"
    }
   ],
   "source": [
    "\n",
    "b1[2:5] = np.array([25,35,45]) #슬라이싱 통째로 변형 \n",
    "b1"
   ]
  },
  {
   "cell_type": "code",
   "execution_count": 72,
   "metadata": {},
   "outputs": [
    {
     "data": {
      "text/plain": [
       "array([[10, 20, 30],\n",
       "       [40, 50, 60],\n",
       "       [70, 80, 90]])"
      ]
     },
     "execution_count": 72,
     "metadata": {},
     "output_type": "execute_result"
    },
    {
     "data": {
      "text/plain": [
       "array([[50, 60],\n",
       "       [80, 90]])"
      ]
     },
     "execution_count": 72,
     "metadata": {},
     "output_type": "execute_result"
    }
   ],
   "source": [
    "b2 = np.arange(10,100,10).reshape(3,3)\n",
    "\n",
    "b2\n",
    "\n",
    "b2[1:3 , 1:3]"
   ]
  },
  {
   "cell_type": "code",
   "execution_count": 76,
   "metadata": {},
   "outputs": [
    {
     "data": {
      "text/plain": [
       "array([[25, 35],\n",
       "       [55, 65]])"
      ]
     },
     "execution_count": 76,
     "metadata": {},
     "output_type": "execute_result"
    },
    {
     "data": {
      "text/plain": [
       "array([[10, 25, 35],\n",
       "       [40, 55, 65],\n",
       "       [70, 80, 90]])"
      ]
     },
     "execution_count": 76,
     "metadata": {},
     "output_type": "execute_result"
    }
   ],
   "source": [
    "b2[ 0:2 , 1:3 ]\n",
    "\n",
    "b2[ 0:2 , 1:3 ] = np.array([[25,35,],[55,65]])\n",
    "\n",
    "b2"
   ]
  },
  {
   "cell_type": "code",
   "execution_count": null,
   "metadata": {},
   "outputs": [],
   "source": []
  }
 ],
 "metadata": {
  "kernelspec": {
   "display_name": "Python 3",
   "language": "python",
   "name": "python3"
  },
  "language_info": {
   "codemirror_mode": {
    "name": "ipython",
    "version": 3
   },
   "file_extension": ".py",
   "mimetype": "text/x-python",
   "name": "python",
   "nbconvert_exporter": "python",
   "pygments_lexer": "ipython3",
   "version": "3.7.6"
  }
 },
 "nbformat": 4,
 "nbformat_minor": 4
}
