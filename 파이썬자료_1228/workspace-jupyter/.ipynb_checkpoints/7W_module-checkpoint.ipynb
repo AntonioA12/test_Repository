{
 "cells": [
  {
   "cell_type": "code",
   "execution_count": 1,
   "metadata": {},
   "outputs": [],
   "source": [
    "from IPython.core.interactiveshell import InteractiveShell\n",
    "InteractiveShell.ast_node_interactivity = \"all\""
   ]
  },
  {
   "cell_type": "markdown",
   "metadata": {},
   "source": [
    "## 모듈( Module)\n",
    "\n",
    "- 파이썬코드를 작성한 후 저장하면 다른코드 에서도 이 파일의 변수 , 함수 , 클래스를 불러와 이용할 수 있음.\n",
    "- 장점\n",
    "    - 모듈로나누면 코드 작성과 관리가 편함\n",
    "    - 이미 작성한 코드 재사용 가능\n",
    "    - 공동 작업이 편리해짐"
   ]
  },
  {
   "cell_type": "code",
   "execution_count": 15,
   "metadata": {},
   "outputs": [
    {
     "name": "stdout",
     "output_type": "stream",
     "text": [
      "Writing my_first_module.py\n"
     ]
    }
   ],
   "source": [
    "%%writefile my_first_module.py\n",
    "#파일명 = my_first_module\n",
    "\n",
    "def my_function():\n",
    "    print('This is my first module')"
   ]
  },
  {
   "cell_type": "code",
   "execution_count": null,
   "metadata": {},
   "outputs": [],
   "source": [
    "# %load my_first_module.py\n",
    "#파일명 = my_first_module\n",
    "\n",
    "def my_function():\n",
    "    print('This is my first module')\n"
   ]
  },
  {
   "cell_type": "markdown",
   "metadata": {},
   "source": [
    "### 모듈 불러오기 (import)\n",
    " ```python\n",
    "    import 모듈명\n",
    "    ```"
   ]
  },
  {
   "cell_type": "code",
   "execution_count": 17,
   "metadata": {},
   "outputs": [],
   "source": [
    "import my_first_module"
   ]
  },
  {
   "cell_type": "code",
   "execution_count": 18,
   "metadata": {},
   "outputs": [
    {
     "name": "stdout",
     "output_type": "stream",
     "text": [
      "This is my first module\n"
     ]
    }
   ],
   "source": [
    "my_function()"
   ]
  },
  {
   "cell_type": "markdown",
   "metadata": {},
   "source": [
    "### 한변의 길이를 받아 정사각형의 넓이를 반환 또는 반지름을 입력받아 원의 넓이를 반환"
   ]
  },
  {
   "cell_type": "code",
   "execution_count": 19,
   "metadata": {},
   "outputs": [
    {
     "name": "stdout",
     "output_type": "stream",
     "text": [
      "Writing my_area.py\n"
     ]
    }
   ],
   "source": [
    "%%writefile my_area.py\n",
    "\n",
    "PI=3.14\n",
    "\n",
    "def squar_area(a):\n",
    "    return a**2\n",
    "\n",
    "def circle_area(r):\n",
    "    return PI*r**2\n",
    "\n"
   ]
  },
  {
   "cell_type": "code",
   "execution_count": 22,
   "metadata": {},
   "outputs": [],
   "source": [
    "# %load my_area.py\n",
    "\n",
    "PI=3.14\n",
    "\n",
    "def squar_area(a):\n",
    "    return a**2\n",
    "\n",
    "def circle_area(r):\n",
    "    return PI*r**2\n",
    "\n"
   ]
  },
  {
   "cell_type": "code",
   "execution_count": 30,
   "metadata": {},
   "outputs": [
    {
     "name": "stdout",
     "output_type": "stream",
     "text": [
      "pi= 3.14\n",
      "정사각형의 넓이= 25\n",
      "원의 지름 = 78.5\n"
     ]
    }
   ],
   "source": [
    "import my_area\n",
    "\n",
    "print('pi=', my_area.PI) \n",
    "print('정사각형의 넓이=', squar_area(5) ) #  한변의 길이가 5인 정사각형의 넓이 반환\n",
    "print('원의 지름 =', circle_area(5) ) # 지름의 길이 5인 원의 넓이"
   ]
  },
  {
   "cell_type": "markdown",
   "metadata": {},
   "source": [
    "### 모듈을 불러오는 방식 ( from ~ import )\n",
    "\n",
    "모듈의 내용을 바로 선언 \n",
    "```python \n",
    "from 모듈명 import 변수명\n",
    "from 모듈명 import 함수명\n",
    "from 모듈명 import 클래스명\n",
    "\n",
    "```"
   ]
  },
  {
   "cell_type": "code",
   "execution_count": 32,
   "metadata": {},
   "outputs": [
    {
     "name": "stdout",
     "output_type": "stream",
     "text": [
      "pi= 3.14\n"
     ]
    }
   ],
   "source": [
    "from my_area import PI\n",
    "\n",
    "print('pi=', PI)"
   ]
  },
  {
   "cell_type": "code",
   "execution_count": 34,
   "metadata": {},
   "outputs": [
    {
     "name": "stdout",
     "output_type": "stream",
     "text": [
      "정사각형의 넓이= 25\n",
      "원의 지름 = 78.5\n"
     ]
    }
   ],
   "source": [
    "from my_area import squar_area\n",
    "from my_area import circle_area\n",
    "\n",
    "print('정사각형의 넓이=', squar_area(5) ) #  한변의 길이가 5인 정사각형의 넓이 반환\n",
    "print('원의 지름 =', circle_area(5) ) # 지름의 길이 5인 원의 넓이"
   ]
  },
  {
   "cell_type": "code",
   "execution_count": 37,
   "metadata": {},
   "outputs": [
    {
     "name": "stdout",
     "output_type": "stream",
     "text": [
      "정사각형의 넓이= 25\n",
      "원의 지름 = 78.5\n",
      "pi= 3.14\n"
     ]
    }
   ],
   "source": [
    "from my_area import PI, squar_area , circle_area\n",
    "\n",
    "print('정사각형의 넓이=', squar_area(5) ) #  한변의 길이가 5인 정사각형의 넓이 반환\n",
    "print('원의 지름 =', circle_area(5) ) # 지름의 길이 5인 원의 넓이\n",
    "print('pi=', PI)"
   ]
  },
  {
   "cell_type": "code",
   "execution_count": 38,
   "metadata": {},
   "outputs": [
    {
     "name": "stdout",
     "output_type": "stream",
     "text": [
      "정사각형의 넓이= 25\n",
      "원의 지름 = 78.5\n",
      "pi= 3.14\n"
     ]
    }
   ],
   "source": [
    "from my_area  import * # my_area 안에 있는 모든것을 가져온다\n",
    "\n",
    "print('정사각형의 넓이=', squar_area(5) ) #  한변의 길이가 5인 정사각형의 넓이 반환\n",
    "print('원의 지름 =', circle_area(5) ) # 지름의 길이 5인 원의 넓이\n",
    "print('pi=', PI)"
   ]
  },
  {
   "cell_type": "markdown",
   "metadata": {},
   "source": [
    "### 모듈명을 별명으로 선언 ( as )\n",
    "```python\n",
    "import 모듈명 as 별명\n",
    "```\n",
    "\n",
    "모듈뿐 만 아니라 변수명 , 함수명 , 클래스명 대신 별명으로 사용가능\n",
    "\n",
    "```python \n",
    "\n",
    "from 모듈명 import 변수명 as 별명 \n",
    "from 모듈명 import 함수명 as 별명 \n",
    "from 모듈명 import 클래스명 as 별명 \n",
    "```"
   ]
  },
  {
   "cell_type": "code",
   "execution_count": 42,
   "metadata": {},
   "outputs": [
    {
     "name": "stdout",
     "output_type": "stream",
     "text": [
      "pi= 3.14\n",
      "정사각형의 넓이= 25\n",
      "원의 지름 = 78.5\n"
     ]
    }
   ],
   "source": [
    "import my_area as area\n",
    "\n",
    "print('pi=', area.PI)\n",
    "print('정사각형의 넓이=', area.squar_area(5) ) #  한변의 길이가 5인 정사각형의 넓이 반환\n",
    "print('원의 지름 =', area.circle_area(5) ) # 지름의 길이 5인 원의 넓이\n"
   ]
  },
  {
   "cell_type": "code",
   "execution_count": 43,
   "metadata": {},
   "outputs": [
    {
     "name": "stdout",
     "output_type": "stream",
     "text": [
      "pi= 3.14\n",
      "정사각형의 넓이= 25\n",
      "원의 지름 = 78.5\n"
     ]
    }
   ],
   "source": [
    "from my_area import PI as pi\n",
    "from my_area import squar_area as sq\n",
    "from my_area import circle_area as ci\n",
    "\n",
    "print('pi=', pi)\n",
    "print('정사각형의 넓이=', sq(5) ) #  한변의 길이가 5인 정사각형의 넓이 반환\n",
    "print('원의 지름 =', ci(5) ) # 지름의 길이 5인 원의 넓이\n"
   ]
  },
  {
   "cell_type": "markdown",
   "metadata": {},
   "source": [
    "## 내장모듈 ( 파이썬 기본 모듈)\n",
    "\n",
    "***random 난수발생 모듈***\n",
    "\n",
    "```python \n",
    "\n",
    "import random\n",
    "```\n",
    "- random 모듈 함수 - \n",
    "\n",
    "        -random.random()\n",
    "        \n",
    "        -random.randint(start , end )\n",
    "        \n",
    "        -random.randrange(start , end , step )\n",
    "        \n",
    "        -random.choice(seq) # random.choice([1,2,3])\n",
    "        \n",
    "        -random.sample(poulation , k ) #  중복을 허락하지않고  k 개 선택 random.sample([1,2,3,4,5],2)\n",
    "\n"
   ]
  },
  {
   "cell_type": "code",
   "execution_count": 47,
   "metadata": {},
   "outputs": [
    {
     "data": {
      "text/plain": [
       "0.1159317001113247"
      ]
     },
     "execution_count": 47,
     "metadata": {},
     "output_type": "execute_result"
    },
    {
     "data": {
      "text/plain": [
       "15"
      ]
     },
     "execution_count": 47,
     "metadata": {},
     "output_type": "execute_result"
    }
   ],
   "source": [
    "import random\n",
    "\n",
    "random.random()\n",
    "random.randint(1,45)"
   ]
  },
  {
   "cell_type": "code",
   "execution_count": 53,
   "metadata": {},
   "outputs": [
    {
     "name": "stdout",
     "output_type": "stream",
     "text": [
      " 주사위 두개의 숫자는 : 6 6 \n"
     ]
    },
    {
     "data": {
      "text/plain": [
       "int"
      ]
     },
     "execution_count": 53,
     "metadata": {},
     "output_type": "execute_result"
    },
    {
     "data": {
      "text/plain": [
       "int"
      ]
     },
     "execution_count": 53,
     "metadata": {},
     "output_type": "execute_result"
    }
   ],
   "source": [
    "dice1 = random.randint(1,6)\n",
    "dice2 = random.randrange(1,7)\n",
    "\n",
    "print(' 주사위 두개의 숫자는 : {0} {1} '.format(dice1 ,dice2))\n"
   ]
  },
  {
   "cell_type": "code",
   "execution_count": 56,
   "metadata": {},
   "outputs": [
    {
     "data": {
      "text/plain": [
       "'비빔밥'"
      ]
     },
     "execution_count": 56,
     "metadata": {},
     "output_type": "execute_result"
    }
   ],
   "source": [
    "menu = ['비빔밥', '된장찌개','김치찌개','볶음밥','불고기']\n",
    "\n",
    "choice = random.choice(menu)\n",
    "\n",
    "choice"
   ]
  },
  {
   "cell_type": "code",
   "execution_count": 57,
   "metadata": {},
   "outputs": [
    {
     "data": {
      "text/plain": [
       "['된장찌개', '김치찌개']"
      ]
     },
     "execution_count": 57,
     "metadata": {},
     "output_type": "execute_result"
    }
   ],
   "source": [
    "random.sample(menu,2)"
   ]
  },
  {
   "cell_type": "markdown",
   "metadata": {},
   "source": [
    "### 날짜 및 시간 관련 처리 모듈 \n",
    "\n",
    "- datetime 모듈 \n",
    "- 날짜를 표현하는 date 클래스 , 시간을 표현하는 time 클래스 , 날짜와 시간을 표현하는 datetime 클래스 등이 있다.\n",
    "\n",
    "```python\n",
    "\n",
    "import datetime \n",
    "\n",
    "date_obj = datetime.date( year, month ,day )\n",
    "time_obj = datetime.time( hour , minute , second )\n",
    "datetime_obj = datetime.datetime( year , month , day , hour , minute , second )\n",
    "```"
   ]
  },
  {
   "cell_type": "code",
   "execution_count": 61,
   "metadata": {},
   "outputs": [
    {
     "name": "stdout",
     "output_type": "stream",
     "text": [
      "2020-05-12\n"
     ]
    }
   ],
   "source": [
    "import datetime\n",
    "\n",
    "set_day = datetime.date(2020,5,12)\n",
    "\n",
    "print(set_day)"
   ]
  },
  {
   "cell_type": "markdown",
   "metadata": {},
   "source": [
    "### 년 월 일 을 따로따로 불러내기 ( 클래스 안의 변수 )"
   ]
  },
  {
   "cell_type": "code",
   "execution_count": 63,
   "metadata": {},
   "outputs": [
    {
     "name": "stdout",
     "output_type": "stream",
     "text": [
      "2020/5/12\n"
     ]
    }
   ],
   "source": [
    "print(\"{0}/{1}/{2}\".format(set_day.year , set_day.month , set_day.day))"
   ]
  },
  {
   "cell_type": "code",
   "execution_count": 69,
   "metadata": {},
   "outputs": [
    {
     "name": "stdout",
     "output_type": "stream",
     "text": [
      "74 days, 0:00:00\n"
     ]
    },
    {
     "data": {
      "text/plain": [
       "datetime.date"
      ]
     },
     "execution_count": 69,
     "metadata": {},
     "output_type": "execute_result"
    },
    {
     "data": {
      "text/plain": [
       "datetime.timedelta"
      ]
     },
     "execution_count": 69,
     "metadata": {},
     "output_type": "execute_result"
    }
   ],
   "source": [
    "day1 = datetime.date(2020,5,12)\n",
    "day2 = datetime.date(2020,7,25)\n",
    "\n",
    "diff_day = day2-day1\n",
    "\n",
    "print(diff_day)\n",
    "type(day1)\n",
    "type(diff_day)"
   ]
  },
  {
   "cell_type": "code",
   "execution_count": 73,
   "metadata": {},
   "outputs": [
    {
     "name": "stdout",
     "output_type": "stream",
     "text": [
      "2020-05-18\n"
     ]
    }
   ],
   "source": [
    "print(datetime.date.today())"
   ]
  },
  {
   "cell_type": "code",
   "execution_count": 76,
   "metadata": {},
   "outputs": [
    {
     "name": "stdout",
     "output_type": "stream",
     "text": [
      "15:30:45\n",
      "15/30/45\n"
     ]
    }
   ],
   "source": [
    "set_time = datetime.time(15,30,45)\n",
    "\n",
    "print(set_time)\n",
    "print(\"{0}/{1}/{2}\".format(set_time.hour , set_time.minute , set_time.second))"
   ]
  },
  {
   "cell_type": "code",
   "execution_count": 80,
   "metadata": {},
   "outputs": [
    {
     "name": "stdout",
     "output_type": "stream",
     "text": [
      "2020-05-18 23:06:43.815825\n"
     ]
    }
   ],
   "source": [
    "print(datetime.datetime.now())"
   ]
  },
  {
   "cell_type": "markdown",
   "metadata": {},
   "source": [
    "### format 문자열과 now() \n",
    "{:%Y-%m-%d , %H:%M:%S}"
   ]
  },
  {
   "cell_type": "code",
   "execution_count": 85,
   "metadata": {},
   "outputs": [
    {
     "name": "stdout",
     "output_type": "stream",
     "text": [
      " Date & Time  = 2020-05-18 , 23:09:17 \n",
      " Date = 2020-05\n",
      " Time = 09:17\n"
     ]
    }
   ],
   "source": [
    "now = datetime.datetime.now()\n",
    "print(\" Date & Time  = {:%Y-%m-%d , %H:%M:%S} \".format(now))\n",
    "print(\" Date = {:%Y-%m}\".format(now))\n",
    "print(\" Time = {:%M:%S}\".format(now))"
   ]
  },
  {
   "cell_type": "markdown",
   "metadata": {},
   "source": [
    "## 날짜 모듈 ( Calendar )"
   ]
  },
  {
   "cell_type": "code",
   "execution_count": 88,
   "metadata": {},
   "outputs": [
    {
     "name": "stdout",
     "output_type": "stream",
     "text": [
      "                                  2020\n",
      "\n",
      "      January                   February                   March\n",
      "Mo Tu We Th Fr Sa Su      Mo Tu We Th Fr Sa Su      Mo Tu We Th Fr Sa Su\n",
      "       1  2  3  4  5                      1  2                         1\n",
      " 6  7  8  9 10 11 12       3  4  5  6  7  8  9       2  3  4  5  6  7  8\n",
      "13 14 15 16 17 18 19      10 11 12 13 14 15 16       9 10 11 12 13 14 15\n",
      "20 21 22 23 24 25 26      17 18 19 20 21 22 23      16 17 18 19 20 21 22\n",
      "27 28 29 30 31            24 25 26 27 28 29         23 24 25 26 27 28 29\n",
      "                                                    30 31\n",
      "\n",
      "       April                      May                       June\n",
      "Mo Tu We Th Fr Sa Su      Mo Tu We Th Fr Sa Su      Mo Tu We Th Fr Sa Su\n",
      "       1  2  3  4  5                   1  2  3       1  2  3  4  5  6  7\n",
      " 6  7  8  9 10 11 12       4  5  6  7  8  9 10       8  9 10 11 12 13 14\n",
      "13 14 15 16 17 18 19      11 12 13 14 15 16 17      15 16 17 18 19 20 21\n",
      "20 21 22 23 24 25 26      18 19 20 21 22 23 24      22 23 24 25 26 27 28\n",
      "27 28 29 30               25 26 27 28 29 30 31      29 30\n",
      "\n",
      "        July                     August                  September\n",
      "Mo Tu We Th Fr Sa Su      Mo Tu We Th Fr Sa Su      Mo Tu We Th Fr Sa Su\n",
      "       1  2  3  4  5                      1  2          1  2  3  4  5  6\n",
      " 6  7  8  9 10 11 12       3  4  5  6  7  8  9       7  8  9 10 11 12 13\n",
      "13 14 15 16 17 18 19      10 11 12 13 14 15 16      14 15 16 17 18 19 20\n",
      "20 21 22 23 24 25 26      17 18 19 20 21 22 23      21 22 23 24 25 26 27\n",
      "27 28 29 30 31            24 25 26 27 28 29 30      28 29 30\n",
      "                          31\n",
      "\n",
      "      October                   November                  December\n",
      "Mo Tu We Th Fr Sa Su      Mo Tu We Th Fr Sa Su      Mo Tu We Th Fr Sa Su\n",
      "          1  2  3  4                         1          1  2  3  4  5  6\n",
      " 5  6  7  8  9 10 11       2  3  4  5  6  7  8       7  8  9 10 11 12 13\n",
      "12 13 14 15 16 17 18       9 10 11 12 13 14 15      14 15 16 17 18 19 20\n",
      "19 20 21 22 23 24 25      16 17 18 19 20 21 22      21 22 23 24 25 26 27\n",
      "26 27 28 29 30 31         23 24 25 26 27 28 29      28 29 30 31\n",
      "                          30\n",
      "\n"
     ]
    }
   ],
   "source": [
    "import calendar\n",
    "\n",
    "print(calendar.calendar(2020))"
   ]
  },
  {
   "cell_type": "code",
   "execution_count": 90,
   "metadata": {},
   "outputs": [
    {
     "name": "stdout",
     "output_type": "stream",
     "text": [
      "                                               2020\n",
      "\n",
      "      January                   February                   March                     April\n",
      "Mo Tu We Th Fr Sa Su      Mo Tu We Th Fr Sa Su      Mo Tu We Th Fr Sa Su      Mo Tu We Th Fr Sa Su\n",
      "       1  2  3  4  5                      1  2                         1             1  2  3  4  5\n",
      " 6  7  8  9 10 11 12       3  4  5  6  7  8  9       2  3  4  5  6  7  8       6  7  8  9 10 11 12\n",
      "13 14 15 16 17 18 19      10 11 12 13 14 15 16       9 10 11 12 13 14 15      13 14 15 16 17 18 19\n",
      "20 21 22 23 24 25 26      17 18 19 20 21 22 23      16 17 18 19 20 21 22      20 21 22 23 24 25 26\n",
      "27 28 29 30 31            24 25 26 27 28 29         23 24 25 26 27 28 29      27 28 29 30\n",
      "                                                    30 31\n",
      "\n",
      "        May                       June                      July                     August\n",
      "Mo Tu We Th Fr Sa Su      Mo Tu We Th Fr Sa Su      Mo Tu We Th Fr Sa Su      Mo Tu We Th Fr Sa Su\n",
      "             1  2  3       1  2  3  4  5  6  7             1  2  3  4  5                      1  2\n",
      " 4  5  6  7  8  9 10       8  9 10 11 12 13 14       6  7  8  9 10 11 12       3  4  5  6  7  8  9\n",
      "11 12 13 14 15 16 17      15 16 17 18 19 20 21      13 14 15 16 17 18 19      10 11 12 13 14 15 16\n",
      "18 19 20 21 22 23 24      22 23 24 25 26 27 28      20 21 22 23 24 25 26      17 18 19 20 21 22 23\n",
      "25 26 27 28 29 30 31      29 30                     27 28 29 30 31            24 25 26 27 28 29 30\n",
      "                                                                              31\n",
      "\n",
      "     September                  October                   November                  December\n",
      "Mo Tu We Th Fr Sa Su      Mo Tu We Th Fr Sa Su      Mo Tu We Th Fr Sa Su      Mo Tu We Th Fr Sa Su\n",
      "    1  2  3  4  5  6                1  2  3  4                         1          1  2  3  4  5  6\n",
      " 7  8  9 10 11 12 13       5  6  7  8  9 10 11       2  3  4  5  6  7  8       7  8  9 10 11 12 13\n",
      "14 15 16 17 18 19 20      12 13 14 15 16 17 18       9 10 11 12 13 14 15      14 15 16 17 18 19 20\n",
      "21 22 23 24 25 26 27      19 20 21 22 23 24 25      16 17 18 19 20 21 22      21 22 23 24 25 26 27\n",
      "28 29 30                  26 27 28 29 30 31         23 24 25 26 27 28 29      28 29 30 31\n",
      "                                                    30\n",
      "\n"
     ]
    }
   ],
   "source": [
    "print(calendar.calendar(2020, m=4))"
   ]
  },
  {
   "cell_type": "code",
   "execution_count": 94,
   "metadata": {},
   "outputs": [
    {
     "name": "stdout",
     "output_type": "stream",
     "text": [
      "      May 2020\n",
      "Mo Tu We Th Fr Sa Su\n",
      "             1  2  3\n",
      " 4  5  6  7  8  9 10\n",
      "11 12 13 14 15 16 17\n",
      "18 19 20 21 22 23 24\n",
      "25 26 27 28 29 30 31\n",
      "\n"
     ]
    }
   ],
   "source": [
    "print(calendar.month(2020, 5))"
   ]
  },
  {
   "cell_type": "code",
   "execution_count": null,
   "metadata": {},
   "outputs": [],
   "source": []
  }
 ],
 "metadata": {
  "kernelspec": {
   "display_name": "Python 3",
   "language": "python",
   "name": "python3"
  },
  "language_info": {
   "codemirror_mode": {
    "name": "ipython",
    "version": 3
   },
   "file_extension": ".py",
   "mimetype": "text/x-python",
   "name": "python",
   "nbconvert_exporter": "python",
   "pygments_lexer": "ipython3",
   "version": "3.7.6"
  }
 },
 "nbformat": 4,
 "nbformat_minor": 4
}
