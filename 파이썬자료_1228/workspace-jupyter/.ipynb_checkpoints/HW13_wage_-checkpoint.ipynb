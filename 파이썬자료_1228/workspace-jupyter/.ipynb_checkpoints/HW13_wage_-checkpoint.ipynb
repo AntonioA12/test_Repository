{
 "cells": [
  {
   "cell_type": "code",
   "execution_count": 30,
   "metadata": {},
   "outputs": [],
   "source": [
    "from IPython.core.interactiveshell import InteractiveShell\n",
    "InteractiveShell.ast_node_interactivity = 'all'\n",
    "\n",
    "import numpy as np\n",
    "import pandas as pd\n",
    "import matplotlib.pyplot as plt\n",
    "%matplotlib inline\n",
    "\n",
    "import statsmodels.api as sm\n",
    "from statsmodels.iolib.summary2 import summary_col\n",
    "\n",
    "# OLS \n",
    "import statsmodels.formula.api as smf\n",
    "# VIF\n",
    "from patsy import dmatrices\n",
    "import statsmodels.api as sm\n",
    "from statsmodels.stats.outliers_influence import variance_inflation_factor\n",
    "# Q-Q plot\n",
    "from scipy import stats\n",
    "# Jarque-Bera\n",
    "import statsmodels.stats.api as sms\n",
    "from statsmodels.compat import lzip\n",
    "# Durbin-Watson\n",
    "import statsmodels.stats.stattools as tools\n",
    "# Breusch - Godfrey tset\n",
    "import statsmodels.stats.diagnostic as sm_diagnostic\n",
    "# 강건표준오차(자기상관)\n",
    "import statsmodels.stats as sm_stats\n",
    "# 램지테스트 (모형설정의오류)\n",
    "import statsmodels.stats.outliers_influence as oi"
   ]
  },
  {
   "cell_type": "markdown",
   "metadata": {},
   "source": [
    "## 1. 데이터 호출 "
   ]
  },
  {
   "cell_type": "code",
   "execution_count": 31,
   "metadata": {},
   "outputs": [
    {
     "data": {
      "text/html": [
       "<div>\n",
       "<style scoped>\n",
       "    .dataframe tbody tr th:only-of-type {\n",
       "        vertical-align: middle;\n",
       "    }\n",
       "\n",
       "    .dataframe tbody tr th {\n",
       "        vertical-align: top;\n",
       "    }\n",
       "\n",
       "    .dataframe thead th {\n",
       "        text-align: right;\n",
       "    }\n",
       "</style>\n",
       "<table border=\"1\" class=\"dataframe\">\n",
       "  <thead>\n",
       "    <tr style=\"text-align: right;\">\n",
       "      <th></th>\n",
       "      <th>wage</th>\n",
       "      <th>female</th>\n",
       "      <th>nonwhite</th>\n",
       "      <th>union</th>\n",
       "      <th>education</th>\n",
       "      <th>exper</th>\n",
       "      <th>age</th>\n",
       "      <th>wind</th>\n",
       "      <th>femalenonw</th>\n",
       "      <th>lnwage</th>\n",
       "    </tr>\n",
       "    <tr>\n",
       "      <th>obs</th>\n",
       "      <th></th>\n",
       "      <th></th>\n",
       "      <th></th>\n",
       "      <th></th>\n",
       "      <th></th>\n",
       "      <th></th>\n",
       "      <th></th>\n",
       "      <th></th>\n",
       "      <th></th>\n",
       "      <th></th>\n",
       "    </tr>\n",
       "  </thead>\n",
       "  <tbody>\n",
       "    <tr>\n",
       "      <th>1</th>\n",
       "      <td>11.55</td>\n",
       "      <td>1</td>\n",
       "      <td>0</td>\n",
       "      <td>0</td>\n",
       "      <td>12</td>\n",
       "      <td>20</td>\n",
       "      <td>38</td>\n",
       "      <td>1</td>\n",
       "      <td>0</td>\n",
       "      <td>2.446686</td>\n",
       "    </tr>\n",
       "  </tbody>\n",
       "</table>\n",
       "</div>"
      ],
      "text/plain": [
       "      wage  female  nonwhite  union  education  exper  age  wind  femalenonw  \\\n",
       "obs                                                                            \n",
       "1    11.55       1         0      0         12     20   38     1           0   \n",
       "\n",
       "       lnwage  \n",
       "obs            \n",
       "1    2.446686  "
      ]
     },
     "execution_count": 31,
     "metadata": {},
     "output_type": "execute_result"
    }
   ],
   "source": [
    "df1 = pd.read_excel('wage.xlsx' , index_col=0, sep='\\t')\n",
    "\n",
    "df1.head(1)"
   ]
  },
  {
   "cell_type": "markdown",
   "metadata": {},
   "source": [
    "## 2. 1차 OLS 추정"
   ]
  },
  {
   "cell_type": "code",
   "execution_count": 32,
   "metadata": {},
   "outputs": [
    {
     "name": "stdout",
     "output_type": "stream",
     "text": [
      "                            OLS Regression Results                            \n",
      "==============================================================================\n",
      "Dep. Variable:                   wage   R-squared:                       0.359\n",
      "Model:                            OLS   Adj. R-squared:                  0.356\n",
      "Method:                 Least Squares   F-statistic:                     102.6\n",
      "Date:                Mon, 22 Jun 2020   Prob (F-statistic):          3.81e-119\n",
      "Time:                        19:37:57   Log-Likelihood:                -4205.2\n",
      "No. Observations:                1289   AIC:                             8426.\n",
      "Df Residuals:                    1281   BIC:                             8468.\n",
      "Df Model:                           7                                         \n",
      "Covariance Type:            nonrobust                                         \n",
      "==============================================================================\n",
      "                 coef    std err          t      P>|t|      [0.025      0.975]\n",
      "------------------------------------------------------------------------------\n",
      "Intercept     -0.5942      0.089     -6.647      0.000      -0.770      -0.419\n",
      "female        -3.0509      0.386     -7.910      0.000      -3.808      -2.294\n",
      "nonwhite      -2.0878      0.729     -2.864      0.004      -3.518      -0.658\n",
      "union          1.5131      0.495      3.054      0.002       0.541       2.485\n",
      "education      1.9011      0.220      8.632      0.000       1.469       2.333\n",
      "exper          0.9032      0.163      5.537      0.000       0.583       1.223\n",
      "age           -0.7607      0.155     -4.909      0.000      -1.065      -0.457\n",
      "wind           3.3182      0.395      8.398      0.000       2.543       4.093\n",
      "femalenonw     1.2083      0.987      1.225      0.221      -0.727       3.144\n",
      "==============================================================================\n",
      "Omnibus:                      529.087   Durbin-Watson:                   1.939\n",
      "Prob(Omnibus):                  0.000   Jarque-Bera (JB):             3897.697\n",
      "Skew:                           1.727   Prob(JB):                         0.00\n",
      "Kurtosis:                      10.787   Cond. No.                     4.96e+16\n",
      "==============================================================================\n",
      "\n",
      "Warnings:\n",
      "[1] Standard Errors assume that the covariance matrix of the errors is correctly specified.\n",
      "[2] The smallest eigenvalue is 1.14e-27. This might indicate that there are\n",
      "strong multicollinearity problems or that the design matrix is singular.\n"
     ]
    }
   ],
   "source": [
    "# lnwage 변수는 불필요 하니 , lnwage 변수를 제외한 나머지 데이터를 reg1 으로 설정 \n",
    "\n",
    "reg1 = smf.ols('wage ~ female + nonwhite + union + education + exper + age + wind + femalenonw',\n",
    "              missing = 'drop', data = df1).fit()\n",
    "print(reg1.summary())"
   ]
  },
  {
   "cell_type": "markdown",
   "metadata": {},
   "source": [
    "### 코멘트 \n",
    "\n",
    "    - 상단의 1차 OLS 추정을 통해,\n",
    "    - Wage 라는 종속변수에 독립변수들이 얼마나 유의한지 알려주는 P-값은 전체적으로 낮은값을 보인다.\n",
    "    - 하지만 우리는 P-값 도 낮추고 , 결정계수인 R-squared 값을 높히고 싶기에 \n",
    "    - 독립변수들이 다중공산성의 문제가 있는지 탐지 할 필요가 있다.\n",
    "    \n",
    "    - Warnings [2] 코멘트를 보면\n",
    "    - 다중공산성의 문제 / 모형설정의오류가 의심되었다고 코멘트 되어있다. \n",
    "    - 즉, 다중공산성의 문제가 있다는 뜻이다.\n",
    "  "
   ]
  },
  {
   "cell_type": "markdown",
   "metadata": {},
   "source": [
    "## 3-1 다중공산성 문제 탐지 : 상관계수"
   ]
  },
  {
   "cell_type": "code",
   "execution_count": 33,
   "metadata": {
    "scrolled": true
   },
   "outputs": [
    {
     "data": {
      "text/html": [
       "<div>\n",
       "<style scoped>\n",
       "    .dataframe tbody tr th:only-of-type {\n",
       "        vertical-align: middle;\n",
       "    }\n",
       "\n",
       "    .dataframe tbody tr th {\n",
       "        vertical-align: top;\n",
       "    }\n",
       "\n",
       "    .dataframe thead th {\n",
       "        text-align: right;\n",
       "    }\n",
       "</style>\n",
       "<table border=\"1\" class=\"dataframe\">\n",
       "  <thead>\n",
       "    <tr style=\"text-align: right;\">\n",
       "      <th></th>\n",
       "      <th>wage</th>\n",
       "      <th>female</th>\n",
       "      <th>nonwhite</th>\n",
       "      <th>union</th>\n",
       "      <th>education</th>\n",
       "      <th>exper</th>\n",
       "      <th>age</th>\n",
       "      <th>wind</th>\n",
       "      <th>femalenonw</th>\n",
       "      <th>lnwage</th>\n",
       "    </tr>\n",
       "  </thead>\n",
       "  <tbody>\n",
       "    <tr>\n",
       "      <th>wage</th>\n",
       "      <td>1.00</td>\n",
       "      <td>-0.22</td>\n",
       "      <td>-0.13</td>\n",
       "      <td>0.10</td>\n",
       "      <td>0.46</td>\n",
       "      <td>0.17</td>\n",
       "      <td>0.29</td>\n",
       "      <td>0.39</td>\n",
       "      <td>-0.13</td>\n",
       "      <td>0.92</td>\n",
       "    </tr>\n",
       "    <tr>\n",
       "      <th>female</th>\n",
       "      <td>-0.22</td>\n",
       "      <td>1.00</td>\n",
       "      <td>0.04</td>\n",
       "      <td>-0.09</td>\n",
       "      <td>-0.03</td>\n",
       "      <td>-0.02</td>\n",
       "      <td>-0.03</td>\n",
       "      <td>-0.07</td>\n",
       "      <td>0.30</td>\n",
       "      <td>-0.25</td>\n",
       "    </tr>\n",
       "    <tr>\n",
       "      <th>nonwhite</th>\n",
       "      <td>-0.13</td>\n",
       "      <td>0.04</td>\n",
       "      <td>1.00</td>\n",
       "      <td>0.08</td>\n",
       "      <td>-0.09</td>\n",
       "      <td>-0.04</td>\n",
       "      <td>-0.06</td>\n",
       "      <td>-0.08</td>\n",
       "      <td>0.71</td>\n",
       "      <td>-0.13</td>\n",
       "    </tr>\n",
       "    <tr>\n",
       "      <th>union</th>\n",
       "      <td>0.10</td>\n",
       "      <td>-0.09</td>\n",
       "      <td>0.08</td>\n",
       "      <td>1.00</td>\n",
       "      <td>0.00</td>\n",
       "      <td>0.15</td>\n",
       "      <td>0.16</td>\n",
       "      <td>-0.06</td>\n",
       "      <td>0.01</td>\n",
       "      <td>0.17</td>\n",
       "    </tr>\n",
       "    <tr>\n",
       "      <th>education</th>\n",
       "      <td>0.46</td>\n",
       "      <td>-0.03</td>\n",
       "      <td>-0.09</td>\n",
       "      <td>0.00</td>\n",
       "      <td>1.00</td>\n",
       "      <td>-0.18</td>\n",
       "      <td>0.06</td>\n",
       "      <td>0.37</td>\n",
       "      <td>-0.07</td>\n",
       "      <td>0.45</td>\n",
       "    </tr>\n",
       "    <tr>\n",
       "      <th>exper</th>\n",
       "      <td>0.17</td>\n",
       "      <td>-0.02</td>\n",
       "      <td>-0.04</td>\n",
       "      <td>0.15</td>\n",
       "      <td>-0.18</td>\n",
       "      <td>1.00</td>\n",
       "      <td>0.97</td>\n",
       "      <td>0.08</td>\n",
       "      <td>-0.01</td>\n",
       "      <td>0.19</td>\n",
       "    </tr>\n",
       "    <tr>\n",
       "      <th>age</th>\n",
       "      <td>0.29</td>\n",
       "      <td>-0.03</td>\n",
       "      <td>-0.06</td>\n",
       "      <td>0.16</td>\n",
       "      <td>0.06</td>\n",
       "      <td>0.97</td>\n",
       "      <td>1.00</td>\n",
       "      <td>0.18</td>\n",
       "      <td>-0.03</td>\n",
       "      <td>0.31</td>\n",
       "    </tr>\n",
       "    <tr>\n",
       "      <th>wind</th>\n",
       "      <td>0.39</td>\n",
       "      <td>-0.07</td>\n",
       "      <td>-0.08</td>\n",
       "      <td>-0.06</td>\n",
       "      <td>0.37</td>\n",
       "      <td>0.08</td>\n",
       "      <td>0.18</td>\n",
       "      <td>1.00</td>\n",
       "      <td>-0.08</td>\n",
       "      <td>0.37</td>\n",
       "    </tr>\n",
       "    <tr>\n",
       "      <th>femalenonw</th>\n",
       "      <td>-0.13</td>\n",
       "      <td>0.30</td>\n",
       "      <td>0.71</td>\n",
       "      <td>0.01</td>\n",
       "      <td>-0.07</td>\n",
       "      <td>-0.01</td>\n",
       "      <td>-0.03</td>\n",
       "      <td>-0.08</td>\n",
       "      <td>1.00</td>\n",
       "      <td>-0.14</td>\n",
       "    </tr>\n",
       "    <tr>\n",
       "      <th>lnwage</th>\n",
       "      <td>0.92</td>\n",
       "      <td>-0.25</td>\n",
       "      <td>-0.13</td>\n",
       "      <td>0.17</td>\n",
       "      <td>0.45</td>\n",
       "      <td>0.19</td>\n",
       "      <td>0.31</td>\n",
       "      <td>0.37</td>\n",
       "      <td>-0.14</td>\n",
       "      <td>1.00</td>\n",
       "    </tr>\n",
       "  </tbody>\n",
       "</table>\n",
       "</div>"
      ],
      "text/plain": [
       "            wage  female  nonwhite  union  education  exper   age  wind  \\\n",
       "wage        1.00   -0.22     -0.13   0.10       0.46   0.17  0.29  0.39   \n",
       "female     -0.22    1.00      0.04  -0.09      -0.03  -0.02 -0.03 -0.07   \n",
       "nonwhite   -0.13    0.04      1.00   0.08      -0.09  -0.04 -0.06 -0.08   \n",
       "union       0.10   -0.09      0.08   1.00       0.00   0.15  0.16 -0.06   \n",
       "education   0.46   -0.03     -0.09   0.00       1.00  -0.18  0.06  0.37   \n",
       "exper       0.17   -0.02     -0.04   0.15      -0.18   1.00  0.97  0.08   \n",
       "age         0.29   -0.03     -0.06   0.16       0.06   0.97  1.00  0.18   \n",
       "wind        0.39   -0.07     -0.08  -0.06       0.37   0.08  0.18  1.00   \n",
       "femalenonw -0.13    0.30      0.71   0.01      -0.07  -0.01 -0.03 -0.08   \n",
       "lnwage      0.92   -0.25     -0.13   0.17       0.45   0.19  0.31  0.37   \n",
       "\n",
       "            femalenonw  lnwage  \n",
       "wage             -0.13    0.92  \n",
       "female            0.30   -0.25  \n",
       "nonwhite          0.71   -0.13  \n",
       "union             0.01    0.17  \n",
       "education        -0.07    0.45  \n",
       "exper            -0.01    0.19  \n",
       "age              -0.03    0.31  \n",
       "wind             -0.08    0.37  \n",
       "femalenonw        1.00   -0.14  \n",
       "lnwage           -0.14    1.00  "
      ]
     },
     "execution_count": 33,
     "metadata": {},
     "output_type": "execute_result"
    }
   ],
   "source": [
    "# numpy 의 corr() 함수를 통해 모든 변수의 상관계수를 계산한다.\n",
    "df1.corr().round(2)"
   ]
  },
  {
   "cell_type": "markdown",
   "metadata": {},
   "source": [
    "### 코멘트\n",
    "   \n",
    "    - 간단한 상관계수 계산 에서 상관계수가 양수이든 음수이든 0.5 에 근접한다면, 다중공산성의 문제를 포함할 지도 모른다. \n",
    "    - 상단의 상관계수표 에서 wage , lnwage 제외하고\n",
    "    \n",
    "    - exper 와 age / nonwhite 와 femalenonw 의 상관계수가 0.5 를 넘는 수치를 보인다.\n",
    "    "
   ]
  },
  {
   "cell_type": "markdown",
   "metadata": {},
   "source": [
    "## 3-2 다중공산성 문제 탐지 : VIF\n",
    "\n",
    "    - VIF 계산 코드를 통해 종속변수 Wage 를 제외한 나머지 독립변수의 VIF 수치 추출\n",
    "    - VIF 수치는 10에 가까울수록 ( 높을수록 ) 다중공산성의 문제가 있음을 추정한다. "
   ]
  },
  {
   "cell_type": "code",
   "execution_count": 34,
   "metadata": {},
   "outputs": [
    {
     "name": "stdout",
     "output_type": "stream",
     "text": [
      "   VIF Factors    features\n",
      "0          0.0   Intercept\n",
      "1          1.2      female\n",
      "2          2.2    nonwhite\n",
      "3          1.1       union\n",
      "4          inf   education\n",
      "5          inf       exper\n",
      "6          inf         age\n",
      "7          1.2        wind\n",
      "8          2.4  femalenonw\n"
     ]
    },
    {
     "name": "stderr",
     "output_type": "stream",
     "text": [
      "C:\\Users\\Hyobin An\\anaconda3\\lib\\site-packages\\statsmodels\\regression\\linear_model.py:1685: RuntimeWarning: divide by zero encountered in double_scalars\n",
      "  return 1 - self.ssr/self.centered_tss\n",
      "C:\\Users\\Hyobin An\\anaconda3\\lib\\site-packages\\statsmodels\\stats\\outliers_influence.py:193: RuntimeWarning: divide by zero encountered in double_scalars\n",
      "  vif = 1. / (1. - r_squared_i)\n"
     ]
    }
   ],
   "source": [
    "# VIF 검사 대상 지정 / reg1 과 마찬가지로 lnwage 제외한 모든변수 를 추가.\n",
    "features ='female + nonwhite + union + education + exper + age + wind + femalenonw'\n",
    "y , X = dmatrices('wage ~' + features , df1 , return_type='dataframe')\n",
    "\n",
    "# VIF 검사 시작 \n",
    "vif = pd.DataFrame()\n",
    "vif['VIF Factors'] = [ variance_inflation_factor(X.values , i) for i in range(X.shape[1])]\n",
    "vif['features']=X.columns\n",
    "\n",
    "print(vif.round(1))"
   ]
  },
  {
   "cell_type": "markdown",
   "metadata": {},
   "source": [
    "### 코멘트 \n",
    "    \n",
    "    - nonwhite , femalenow 변수가 상관계수도 높고 , VIF 수치도 높기 때문에 \n",
    "    둘 중 하나를 제거해야함을 보이고 \n",
    "    \n",
    "    - exper 와 age 는 inf (완전독립) 의 형태를 보이나 \n",
    "    - 상관계수에서 높은 수치임으로 둘 중 하나를 제거해야한다. "
   ]
  },
  {
   "cell_type": "code",
   "execution_count": 35,
   "metadata": {},
   "outputs": [
    {
     "name": "stdout",
     "output_type": "stream",
     "text": [
      "                            OLS Regression Results                            \n",
      "==============================================================================\n",
      "Dep. Variable:                   wage   R-squared:                       0.358\n",
      "Model:                            OLS   Adj. R-squared:                  0.355\n",
      "Method:                 Least Squares   F-statistic:                     119.4\n",
      "Date:                Mon, 22 Jun 2020   Prob (F-statistic):          7.04e-120\n",
      "Time:                        19:37:58   Log-Likelihood:                -4206.0\n",
      "No. Observations:                1289   AIC:                             8426.\n",
      "Df Residuals:                    1282   BIC:                             8462.\n",
      "Df Model:                           6                                         \n",
      "Covariance Type:            nonrobust                                         \n",
      "==============================================================================\n",
      "                 coef    std err          t      P>|t|      [0.025      0.975]\n",
      "------------------------------------------------------------------------------\n",
      "Intercept     -6.1267      1.064     -5.758      0.000      -8.214      -4.039\n",
      "female        -2.8690      0.356     -8.059      0.000      -3.567      -2.171\n",
      "nonwhite      -1.4337      0.496     -2.889      0.004      -2.407      -0.460\n",
      "union          1.4913      0.495      3.011      0.003       0.520       2.463\n",
      "education      0.9977      0.068     14.726      0.000       0.865       1.131\n",
      "age            0.1433      0.016      9.028      0.000       0.112       0.174\n",
      "wind           3.3116      0.395      8.380      0.000       2.536       4.087\n",
      "==============================================================================\n",
      "Omnibus:                      526.687   Durbin-Watson:                   1.936\n",
      "Prob(Omnibus):                  0.000   Jarque-Bera (JB):             3841.618\n",
      "Skew:                           1.721   Prob(JB):                         0.00\n",
      "Kurtosis:                      10.725   Cond. No.                         254.\n",
      "==============================================================================\n",
      "\n",
      "Warnings:\n",
      "[1] Standard Errors assume that the covariance matrix of the errors is correctly specified.\n"
     ]
    }
   ],
   "source": [
    "reg2 = smf.ols('wage ~ female + nonwhite + union + education+ age + wind ',\n",
    "              missing = 'drop', data = df1).fit()\n",
    "print(reg2.summary())"
   ]
  },
  {
   "cell_type": "markdown",
   "metadata": {},
   "source": [
    "### 코멘트 \n",
    "\n",
    "    - 상관계수 와 VIF 의 정보를 통해 \n",
    "    - exper , femalenonw 를 제거한 후 , OLS 추정표에서 \n",
    "    \n",
    "    - R 결정계수가 0.001 줄어들었지만 , t-값이 매우 낮아졌고, Warnings 메세지도 삭제된 것을 알 수 있다. "
   ]
  },
  {
   "cell_type": "markdown",
   "metadata": {},
   "source": [
    "## 4. 정규성\n",
    "\n",
    "    - 정규성, 즉 오차항이 정규분포를 따르지 않는다면, \n",
    "    - OLS 추정의 근거인 t 검정 , f 검정의 신뢰도가 없음을 나타냄으로\n",
    "    \n",
    "    - 각 변수들이 정규성을 가지고 있는지 반드시 확인해야한다."
   ]
  },
  {
   "cell_type": "markdown",
   "metadata": {},
   "source": [
    "## 4-1 정규성 문제 탐지 : 히스토그램"
   ]
  },
  {
   "cell_type": "code",
   "execution_count": 36,
   "metadata": {},
   "outputs": [
    {
     "data": {
      "text/plain": [
       "<matplotlib.axes._subplots.AxesSubplot at 0x1b97d1f4848>"
      ]
     },
     "execution_count": 36,
     "metadata": {},
     "output_type": "execute_result"
    },
    {
     "data": {
      "image/png": "[encoded data removed]",
      "text/plain": [
       "<Figure size 432x288 with 1 Axes>"
      ]
     },
     "metadata": {
      "needs_background": "light"
     },
     "output_type": "display_data"
    }
   ],
   "source": [
    "df1['wage'].plot(kind='hist' , title='Wage')"
   ]
  },
  {
   "cell_type": "markdown",
   "metadata": {},
   "source": [
    "### 코멘트\n",
    "\n",
    "    - 히스토그램 과 Jarque-bera 를 통해 wage 종속변수가 정규성을 가지는지 파악할 수 있다.\n",
    "    - 히스토그램에서는 그래프로 충분히 알 수 있듯이, 정규분포를 따르지 않음을 알 수 있다.\n",
    "    \n",
    "    - 정규성의 문제해결 방법 중에는  표본크기 추가 or log 씌운 종속변수 사용 ,이 두가지 방법을 사용해야한다.\n",
    "    - reg2 의 표본크기는 1289 개 임으로 표본크기 를 늘리는 방법 보다는 종속변수에 log 를 씌우는것이 해결법임을 알 수 있다.\n",
    "    \n",
    "    - 아래는 log(wage) 를 사용한 히스토그램이며, 눈으로 쉽게 정규분포 모양을 확인할 수있다."
   ]
  },
  {
   "cell_type": "code",
   "execution_count": 37,
   "metadata": {},
   "outputs": [
    {
     "data": {
      "text/plain": [
       "<matplotlib.axes._subplots.AxesSubplot at 0x1b97ec25808>"
      ]
     },
     "execution_count": 37,
     "metadata": {},
     "output_type": "execute_result"
    },
    {
     "data": {
      "image/png": "[encoded data removed]",
      "text/plain": [
       "<Figure size 432x288 with 1 Axes>"
      ]
     },
     "metadata": {
      "needs_background": "light"
     },
     "output_type": "display_data"
    }
   ],
   "source": [
    "df1['lnwage'].plot(kind='hist' , title='Log(wage)')"
   ]
  },
  {
   "cell_type": "markdown",
   "metadata": {},
   "source": [
    "## 4-2 정규성 문제 탐지 2 : Jarque-Bera\n",
    "\n",
    "    - Jarque - bera 는 정규성의 문제 탐지에 매우 효과적인 방법이다.\n",
    "    - 먼저, 기존 reg2 데이터의 첫번째 Jarque-Bera 와\n",
    "    - 표본크기를 늘린 , 혹은 종속변수에 log를 씌운 두번째 Jarque-Bera 를 만들고,\n",
    "    \n",
    "    - 두개의 Jarque-Bera 수치 변화를 확인하여 정규성의 문제를 탐지한다\n",
    "    \n",
    "    "
   ]
  },
  {
   "cell_type": "code",
   "execution_count": 38,
   "metadata": {
    "scrolled": true
   },
   "outputs": [
    {
     "name": "stdout",
     "output_type": "stream",
     "text": [
      "#################### 1.wage Jarque-bera ####################\n"
     ]
    },
    {
     "data": {
      "text/plain": [
       "[('Jarque-Bera', 3841.6176571559004)]"
      ]
     },
     "execution_count": 38,
     "metadata": {},
     "output_type": "execute_result"
    },
    {
     "name": "stdout",
     "output_type": "stream",
     "text": [
      "#################### 2.log(wage) Jarque-bera ####################\n"
     ]
    },
    {
     "data": {
      "text/plain": [
       "[('Jarque-Bera', 431.25445652042254)]"
      ]
     },
     "execution_count": 38,
     "metadata": {},
     "output_type": "execute_result"
    }
   ],
   "source": [
    "print('#'*20,'1.wage Jarque-bera','#'*20)\n",
    "name = ['Jarque-Bera']\n",
    "jarque = sms.jarque_bera(reg2.resid)\n",
    "lzip( name , jarque)\n",
    "\n",
    "# lnwage 종속변수인 reg3 \n",
    "\n",
    "reg3 = smf.ols('lnwage ~ female + nonwhite + union + education+ age + wind ',\n",
    "              missing = 'drop', data = df1).fit()\n",
    "\n",
    "print('#'*20,'2.log(wage) Jarque-bera','#'*20)\n",
    "name = ['Jarque-Bera']\n",
    "jarque = sms.jarque_bera(reg3.resid)\n",
    "lzip( name , jarque)"
   ]
  },
  {
   "cell_type": "markdown",
   "metadata": {},
   "source": [
    "### 코멘트\n",
    "\n",
    "    - Jarque - bera 의 수치가 3841 -> 431 으로 매우 줄어든것을 알 수 있다.\n",
    "    - 이는, 'wage' 종속변수 사용이 오차항이 정규성을 따르지 않았다는 것을 의미한다."
   ]
  },
  {
   "cell_type": "markdown",
   "metadata": {},
   "source": [
    "## 5  이분산 \n",
    "\n",
    "    - 이분산 탐지의 목적은 OLS is BLUE 의 '동분산을 가진다' 조건을 확인함 과 동시에\n",
    "    - OLS 추정치에서 t-통계량이 신뢰 할 수 있는지, 신뢰 할 수 없는지를 확인하는 작업이다."
   ]
  },
  {
   "cell_type": "markdown",
   "metadata": {},
   "source": [
    "## 5-1 이분산 탐지 : BP test , White test"
   ]
  },
  {
   "cell_type": "code",
   "execution_count": 39,
   "metadata": {},
   "outputs": [
    {
     "name": "stdout",
     "output_type": "stream",
     "text": [
      "#################### 1.BP-Test ####################\n"
     ]
    },
    {
     "data": {
      "text/plain": [
       "[('Lagrange_multiplier static', 33.889020169488994),\n",
       " ('P-value', 7.067610635610337e-06)]"
      ]
     },
     "execution_count": 39,
     "metadata": {},
     "output_type": "execute_result"
    },
    {
     "name": "stdout",
     "output_type": "stream",
     "text": [
      "#################### 2.White-Test ####################\n"
     ]
    },
    {
     "data": {
      "text/plain": [
       "[('Lagrange_multiplier static', 55.88100087538898),\n",
       " ('P-value', 0.00014706234976647934)]"
      ]
     },
     "execution_count": 39,
     "metadata": {},
     "output_type": "execute_result"
    }
   ],
   "source": [
    "# BP Test\n",
    "print('#'*20,'1.BP-Test','#'*20)\n",
    "name = [ 'Lagrange_multiplier static','P-value']\n",
    "BPtest = sms.het_breuschpagan(reg3.resid , reg3.model.exog)\n",
    "lzip(name , BPtest)\n",
    "\n",
    "# White Test \n",
    "print('#'*20,'2.White-Test','#'*20)\n",
    "name = [ 'Lagrange_multiplier static','P-value']\n",
    "WhiteTest = sms.het_white( reg3.resid , reg3.model.exog  ) # retres = False\n",
    "lzip(name , WhiteTest)\n"
   ]
  },
  {
   "cell_type": "markdown",
   "metadata": {},
   "source": [
    "### 코멘트\n",
    "\n",
    "    - BP test 와 White test 를통해 \n",
    "    - P-값이 매우 낮음을 보이고,\n",
    "    - P-값이 매우 낮다는것은 이분산의 문제가 없다는 뜻이다."
   ]
  },
  {
   "cell_type": "markdown",
   "metadata": {},
   "source": [
    "## 5-2 이분산 문제 해걸 : 화이트 강건오차\n",
    "\n",
    "    - fit() 함수에 cov_type='HC1' 를 추가해 손쉽게 이분산의 문제를 해결할 수있다.\n",
    "    - ( 독립변수 들이 매우 많기 때문에 HC1 사용 )"
   ]
  },
  {
   "cell_type": "code",
   "execution_count": 50,
   "metadata": {},
   "outputs": [
    {
     "name": "stdout",
     "output_type": "stream",
     "text": [
      "                            OLS Regression Results                            \n",
      "==============================================================================\n",
      "Dep. Variable:                 lnwage   R-squared:                       0.376\n",
      "Model:                            OLS   Adj. R-squared:                  0.373\n",
      "Method:                 Least Squares   F-statistic:                     128.8\n",
      "Date:                Mon, 22 Jun 2020   Prob (F-statistic):          1.44e-127\n",
      "Time:                        19:43:06   Log-Likelihood:                -836.40\n",
      "No. Observations:                1289   AIC:                             1687.\n",
      "Df Residuals:                    1282   BIC:                             1723.\n",
      "Df Model:                           6                                         \n",
      "Covariance Type:            nonrobust                                         \n",
      "==============================================================================\n",
      "                 coef    std err          t      P>|t|      [0.025      0.975]\n",
      "------------------------------------------------------------------------------\n",
      "Intercept      0.9710      0.078     12.462      0.000       0.818       1.124\n",
      "female        -0.2349      0.026     -9.011      0.000      -0.286      -0.184\n",
      "nonwhite      -0.1244      0.036     -3.424      0.001      -0.196      -0.053\n",
      "union          0.2075      0.036      5.722      0.000       0.136       0.279\n",
      "education      0.0729      0.005     14.689      0.000       0.063       0.083\n",
      "age            0.0112      0.001      9.592      0.000       0.009       0.013\n",
      "wind           0.2287      0.029      7.904      0.000       0.172       0.285\n",
      "==============================================================================\n",
      "Omnibus:                      139.079   Durbin-Watson:                   1.977\n",
      "Prob(Omnibus):                  0.000   Jarque-Bera (JB):              431.254\n",
      "Skew:                          -0.535   Prob(JB):                     2.26e-94\n",
      "Kurtosis:                       5.624   Cond. No.                         254.\n",
      "==============================================================================\n",
      "\n",
      "Warnings:\n",
      "[1] Standard Errors assume that the covariance matrix of the errors is correctly specified.\n",
      "                            OLS Regression Results                            \n",
      "==============================================================================\n",
      "Dep. Variable:                 lnwage   R-squared:                       0.376\n",
      "Model:                            OLS   Adj. R-squared:                  0.373\n",
      "Method:                 Least Squares   F-statistic:                     146.7\n",
      "Date:                Mon, 22 Jun 2020   Prob (F-statistic):          1.06e-141\n",
      "Time:                        19:43:06   Log-Likelihood:                -836.40\n",
      "No. Observations:                1289   AIC:                             1687.\n",
      "Df Residuals:                    1282   BIC:                             1723.\n",
      "Df Model:                           6                                         \n",
      "Covariance Type:                  HC1                                         \n",
      "==============================================================================\n",
      "                 coef    std err          z      P>|z|      [0.025      0.975]\n",
      "------------------------------------------------------------------------------\n",
      "Intercept      0.9710      0.078     12.434      0.000       0.818       1.124\n",
      "female        -0.2349      0.026     -9.011      0.000      -0.286      -0.184\n",
      "nonwhite      -0.1244      0.034     -3.627      0.000      -0.192      -0.057\n",
      "union          0.2075      0.031      6.676      0.000       0.147       0.268\n",
      "education      0.0729      0.006     12.878      0.000       0.062       0.084\n",
      "age            0.0112      0.001      9.085      0.000       0.009       0.014\n",
      "wind           0.2287      0.032      7.198      0.000       0.166       0.291\n",
      "==============================================================================\n",
      "Omnibus:                      139.079   Durbin-Watson:                   1.977\n",
      "Prob(Omnibus):                  0.000   Jarque-Bera (JB):              431.254\n",
      "Skew:                          -0.535   Prob(JB):                     2.26e-94\n",
      "Kurtosis:                       5.624   Cond. No.                         254.\n",
      "==============================================================================\n",
      "\n",
      "Warnings:\n",
      "[1] Standard Errors are heteroscedasticity robust (HC1)\n"
     ]
    }
   ],
   "source": [
    "reg4 = smf.ols('lnwage ~ female + nonwhite + union + education+ age + wind ' , missing='drop' , data=df1).fit(cov_type='HC1')\n",
    "print(reg3.summary())\n",
    "print(reg4.summary())"
   ]
  },
  {
   "cell_type": "markdown",
   "metadata": {},
   "source": [
    "### 코멘트\n",
    "\n",
    "    - 표준오차( std err) 는 조금 상승함을 보이나 , P-값이 모두 0 으로 되는 모습을 볼 수있다."
   ]
  },
  {
   "cell_type": "markdown",
   "metadata": {},
   "source": [
    "## 6 자기상관 : Durbin-Waston"
   ]
  },
  {
   "cell_type": "code",
   "execution_count": 51,
   "metadata": {},
   "outputs": [
    {
     "name": "stdout",
     "output_type": "stream",
     "text": [
      "                            OLS Regression Results                            \n",
      "==============================================================================\n",
      "Dep. Variable:                 lnwage   R-squared:                       0.376\n",
      "Model:                            OLS   Adj. R-squared:                  0.373\n",
      "Method:                 Least Squares   F-statistic:                     146.7\n",
      "Date:                Mon, 22 Jun 2020   Prob (F-statistic):          1.06e-141\n",
      "Time:                        19:43:13   Log-Likelihood:                -836.40\n",
      "No. Observations:                1289   AIC:                             1687.\n",
      "Df Residuals:                    1282   BIC:                             1723.\n",
      "Df Model:                           6                                         \n",
      "Covariance Type:                  HC1                                         \n",
      "==============================================================================\n",
      "                 coef    std err          z      P>|z|      [0.025      0.975]\n",
      "------------------------------------------------------------------------------\n",
      "Intercept      0.9710      0.078     12.434      0.000       0.818       1.124\n",
      "female        -0.2349      0.026     -9.011      0.000      -0.286      -0.184\n",
      "nonwhite      -0.1244      0.034     -3.627      0.000      -0.192      -0.057\n",
      "union          0.2075      0.031      6.676      0.000       0.147       0.268\n",
      "education      0.0729      0.006     12.878      0.000       0.062       0.084\n",
      "age            0.0112      0.001      9.085      0.000       0.009       0.014\n",
      "wind           0.2287      0.032      7.198      0.000       0.166       0.291\n",
      "==============================================================================\n",
      "Omnibus:                      139.079   Durbin-Watson:                   1.977\n",
      "Prob(Omnibus):                  0.000   Jarque-Bera (JB):              431.254\n",
      "Skew:                          -0.535   Prob(JB):                     2.26e-94\n",
      "Kurtosis:                       5.624   Cond. No.                         254.\n",
      "==============================================================================\n",
      "\n",
      "Warnings:\n",
      "[1] Standard Errors are heteroscedasticity robust (HC1)\n"
     ]
    }
   ],
   "source": [
    "print(reg4.summary())"
   ]
  },
  {
   "cell_type": "markdown",
   "metadata": {},
   "source": [
    "### 코멘트 \n",
    "\n",
    "    - 친절하게도 , OLS 추정 표에서 'Durbin-Watson' 의 수치를 확인할 수 있다.\n",
    "    - 'Durbin-Watson' 의 수치가 2 에 가까우면 자기상관 유무가 X 이고\n",
    "    - 0 또는 4 에 가까우면 자기상관의 유무가 O 을 뜻한다.\n"
   ]
  },
  {
   "cell_type": "markdown",
   "metadata": {},
   "source": [
    "## 6-1 자기상관 탐지 : Breusch - Godfrey\n",
    "\n",
    "    - 다중공산성,정규성,이분산의 문제를 제거한 reg3 의 Durbin-Waston 수치가 1.977 로,\n",
    "    - 2에 가까운 수치이지만 그래도 Durbin-Waston 의 기준수치의 불투명함 때문에\n",
    "    \n",
    "    - Breusch-Godfrey 방법을 통해 자기상관 문제를 정밀 탐지 할 필요가 있다."
   ]
  },
  {
   "cell_type": "code",
   "execution_count": 42,
   "metadata": {},
   "outputs": [
    {
     "name": "stdout",
     "output_type": "stream",
     "text": [
      "              0         1\n",
      "0       LM-stat  1.102142\n",
      "1  LM : P-value  0.576332\n",
      "2       F-value  0.547692\n",
      "3   F : P-value  0.578419\n"
     ]
    }
   ],
   "source": [
    "# Breusch-Godfrey\n",
    "name =['LM-stat', 'LM : P-value' , 'F-value' , ' F : P-value']\n",
    "bg_t = sm_diagnostic.acorr_breusch_godfrey(reg4 , nlags=2 ) \n",
    "print( pd.DataFrame( lzip(name , bg_t) ) )"
   ]
  },
  {
   "cell_type": "markdown",
   "metadata": {},
   "source": [
    "### 코멘트 \n",
    "    \n",
    "    - Breusch-Godfrey 에서,\n",
    "    - LM 의 P-값, F 검정의 P-값, 이 모두 0.05 을 넘는 수치임으로 \n",
    "    - 이는, 자기상관 X 에 reject 하는것이 아닌 Accept 을 의미한다.\n",
    "    \n",
    "    - 즉, reg4 에서 자기상관 문제는 없다."
   ]
  },
  {
   "cell_type": "markdown",
   "metadata": {},
   "source": [
    "## 6-2 자기상관탐지 :  Feasible GLS - Cochrane-Orcutt ( CORC )"
   ]
  },
  {
   "cell_type": "code",
   "execution_count": 52,
   "metadata": {
    "scrolled": false
   },
   "outputs": [
    {
     "name": "stdout",
     "output_type": "stream",
     "text": [
      "                           GLSAR Regression Results                           \n",
      "==============================================================================\n",
      "Dep. Variable:                      y   R-squared:                       0.376\n",
      "Model:                          GLSAR   Adj. R-squared:                  0.373\n",
      "Method:                 Least Squares   F-statistic:                     128.4\n",
      "Date:                Mon, 22 Jun 2020   Prob (F-statistic):          2.82e-127\n",
      "Time:                        19:43:47   Log-Likelihood:                -836.09\n",
      "No. Observations:                1288   AIC:                             1686.\n",
      "Df Residuals:                    1281   BIC:                             1722.\n",
      "Df Model:                           6                                         \n",
      "Covariance Type:            nonrobust                                         \n",
      "==============================================================================\n",
      "                 coef    std err          t      P>|t|      [0.025      0.975]\n",
      "------------------------------------------------------------------------------\n",
      "const          0.9720      0.078     12.460      0.000       0.819       1.125\n",
      "x1            -0.2356      0.026     -9.031      0.000      -0.287      -0.184\n",
      "x2            -0.1250      0.036     -3.430      0.001      -0.197      -0.053\n",
      "x3             0.2067      0.036      5.702      0.000       0.136       0.278\n",
      "x4             0.0729      0.005     14.667      0.000       0.063       0.083\n",
      "x5             0.0112      0.001      9.594      0.000       0.009       0.013\n",
      "x6             0.2273      0.029      7.844      0.000       0.170       0.284\n",
      "==============================================================================\n",
      "Omnibus:                      138.956   Durbin-Watson:                   1.998\n",
      "Prob(Omnibus):                  0.000   Jarque-Bera (JB):              430.464\n",
      "Skew:                          -0.535   Prob(JB):                     3.36e-94\n",
      "Kurtosis:                       5.622   Cond. No.                         251.\n",
      "==============================================================================\n",
      "\n",
      "Warnings:\n",
      "[1] Standard Errors assume that the covariance matrix of the errors is correctly specified.\n"
     ]
    }
   ],
   "source": [
    "reg4_model = smf.ols('lnwage ~ female + nonwhite + union + education+ age + wind ' , missing='drop' , data=df1)\n",
    "reg4_CORC = sm.GLSAR(reg4_model.endog, reg4_model.exog)\n",
    "\n",
    "reg4_CORC_fit = reg4_CORC.iterative_fit(maxiter=100) # OLS fit() \n",
    "print(reg4_CORC_fit.summary())"
   ]
  },
  {
   "cell_type": "markdown",
   "metadata": {},
   "source": [
    "### 코멘트 \n",
    "\n",
    "    - Durbin-Watson 과 Breusch - Godfrey 통해\n",
    "    - 자기상관 문제는 없음을 확인 하였지만,\n",
    "    \n",
    "    - 자기상관 문제가 있다고 가정을 하는, CORC 방법을 통해 \n",
    "    - reg4 변화를 확인해보았다.\n",
    "    \n",
    "    - x2 ('nonwhite') 변수의 t값이 소폭 증가하였지만,\n",
    "    - Durin-Watson 수치또한 그만큼 증가 하였음을 알 수 있다.\n",
    "    \n",
    "    - 즉, reg4 는 자기상관이 없다는 것이 명확해 졌다."
   ]
  },
  {
   "cell_type": "markdown",
   "metadata": {},
   "source": [
    "## 7 모형설정오류 탐지 : 램지 테스트\n",
    " \n",
    "    \n",
    "    - 램지테스트는 잘못된 함수 형태 또는 누락변수 들을 찾는데 유용한 테스트 이다.\n",
    "    - 기존의 변수에서 제곱 하거나 , 교차항으로 곱함으로 누락된 형태를 찾는 방법이다.\n",
    "    \n",
    "    - 또는, 제곱이 빠졌거나 ( 제곱이 없어서 비선형이거나 )\n",
    "    - 교차항이 빠졋거나 를 찾는다 ( 비선형의 원인들 )\n",
    "    \n",
    "    - 램지테스트 에서, P-값이 0.05 보다 작으면, \n",
    "    - 모형설정오류 가 없음 을 reject 한다는 의미이다."
   ]
  },
  {
   "cell_type": "code",
   "execution_count": 58,
   "metadata": {},
   "outputs": [
    {
     "name": "stdout",
     "output_type": "stream",
     "text": [
      "first = <F test: F=array([[30.64096862]]), p=3.762499222442148e-08, df_denom=1.28e+03, df_num=1>\n",
      "final = <F test: F=array([[0.23400247]]), p=0.6286544846510611, df_denom=1.28e+03, df_num=1>\n"
     ]
    }
   ],
   "source": [
    "# 램지테스트\n",
    "print('first =' , oi.reset_ramsey(reg1 , degree=2))\n",
    "print('final =',  oi.reset_ramsey(reg4 , degree=2))"
   ]
  },
  {
   "cell_type": "markdown",
   "metadata": {},
   "source": [
    "### 코멘트\n",
    "\n",
    "    - 램지 테스트 를 통해 초기모형 그리고 최종모형 의 램지테스트를 비교해보면,\n",
    "    \n",
    "    - 초기모형은 p-값이 매우 작은 수치로 , 함수의 형태가 잘못되었거나 , 누락변수가 있었음을 알 수 있다.\n",
    "    반면에, 마지막모형에서의 p-값은 0.62 로 모형설정오류 없음을 Accept 하니, \n",
    "    \n",
    "    - 즉, 최종모형 reg4 에서, 모형설정의 오류 ( 누락변수 , 함수형태의 오류 ) 는 없음을 알 수 있다."
   ]
  },
  {
   "cell_type": "markdown",
   "metadata": {},
   "source": [
    "# 결론\n",
    "\n",
    "\n",
    "#### 다중공산성\n",
    "\n",
    "    - 상관계수와 VIF 을 통해 \n",
    "    다중공산성 문제가 있었음을 알 수있엇다.\n",
    "    \n",
    "    상관계수가 높았던 ( age 와 exper ) \n",
    "    VIF 수치가 높았던 ( nonwhite 와 femalenow ) 에서 \n",
    "    exper 와 femalenonw 를 제거하였더니, \n",
    "    \n",
    "    다중공산성의 문제가 해결되었다.\n",
    "    \n",
    "#### 정규성 \n",
    "\n",
    "    - 히스토그램 과 Jarque-Bera 를 통해\n",
    "    종속변수 wage 가 정규성의 문제를 가졌음을 확인 하였고\n",
    "    \n",
    "    표본크기 는 1298 로 매우 크니, log 를 씌우는 방법을 통해\n",
    "    정규성의 문제를 해결 하였다.\n",
    "\n",
    "#### 이분산\n",
    "\n",
    "    - BP test 와 White test 를 통해\n",
    "    이분산의 문제가 없음을 알 수있었다.\n",
    "    \n",
    "    그러나 fit(cov_type='HC1') 이라는 간단한 코드를 통해\n",
    "    모든 변수의 p-값을 0 으로 만들 수 있었다. \n",
    "    \n",
    "#### 자기상관\n",
    "    \n",
    "    - OLS 표 에서 Durin-Watson , 그리고 Breusch-Godfrey 방법 을 통해\n",
    "    자기상관 문제는 없었다 .\n",
    "    \n",
    "    혹시 모르는 마음으로, 자기상관이 있다고 가정하는 CORC 방법 을 사용하였지만,\n",
    "    CORC 방법을 통해서도 Durin-Watson 수치는 2와 매우 가까웠다. \n",
    "    \n",
    "#### 모형설정의 오류 \n",
    "\n",
    "    - 램지 테스트를 통해 모형설정의 오류 를 확인해 보았지만,\n",
    "    다중공산성,정규성,이분산, 그리고 자기상관 문제를 해결한 reg4 에서는 \n",
    "    모형설정의 오류는 없음을 확인 할 수있었다.\n",
    "    \n",
    "    초기 모형인 reg1 을 램지테스트 한 결과 , \n",
    "    reg1 에서는 누락변수 또는 함수의 형태가 잘못 되었음을 알 수 있다."
   ]
  },
  {
   "cell_type": "code",
   "execution_count": null,
   "metadata": {},
   "outputs": [],
   "source": []
  }
 ],
 "metadata": {
  "kernelspec": {
   "display_name": "Python 3",
   "language": "python",
   "name": "python3"
  },
  "language_info": {
   "codemirror_mode": {
    "name": "ipython",
    "version": 3
   },
   "file_extension": ".py",
   "mimetype": "text/x-python",
   "name": "python",
   "nbconvert_exporter": "python",
   "pygments_lexer": "ipython3",
   "version": "3.7.6"
  }
 },
 "nbformat": 4,
 "nbformat_minor": 4
}
