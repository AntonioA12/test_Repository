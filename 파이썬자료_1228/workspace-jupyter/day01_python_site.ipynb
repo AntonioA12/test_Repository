{
 "cells": [
  {
   "cell_type": "markdown",
   "metadata": {},
   "source": [
    "(2020.04.01) 파이썬 실습\n",
    "\n",
    "# I. Introduction\n",
    "\n",
    "\n",
    "# 쥬피터 노트북 실행\n",
    "\n",
    "-Anaconda 설치후 Navigator 실행 , 그리고 jupyter notebook launch\n",
    "\n",
    "# 참고 사이트 \n",
    "\n",
    "## 파이썬 스킬 \n",
    "\n",
    "- [김왼손의 미운코딩새끼](https://www.inflearn.com/course/%ED%8C%8C%EC%9D%B4%EC%8D%AC-%EA%B8%B0%EC%B4%88-%EA%B0%95%EC%A2%8C)\n",
    "- [모두를 위한 Python 전문분야](https://ko.coursera.org/specializations/python)\n",
    "\n",
    "## 파이썬 머신러닝\n",
    "\n",
    " -[ Four step to master machine learning with python](npython.de/four-steps-to-master-machine-learning-with-python-including-free-books-resources)\n",
    " \n",
    " -[ 7 steps to mastering machine learning with python](https://www.kdnuggets.com/2015/11/seven-steps-machine-learning-python.html)\n"
   ]
  },
  {
   "cell_type": "markdown",
   "metadata": {},
   "source": [
    "# II. Python basic\n",
    "\n",
    "## 1. 계산기 처럼 사용하기\n",
    "\n",
    "- [ 사칙연산  ] + , - , * , /   = 사칙연산\n",
    "\n",
    "- [ 몫 구하기 ] //\n",
    "\n",
    "- [   제곱    ] x **3 = x의 3 제곱  \n",
    "\n",
    "- [  제곱근   ] x **(1/2) = 1/2 x제곱 , 제곱근 \n",
    ".\n",
    "\n",
    "-[ 10단위 제곱 ] 'e' 사용하여  \n",
    "ex) 3x10x6  = 3ex6  과 같다"
   ]
  },
  {
   "cell_type": "code",
   "execution_count": 11,
   "metadata": {},
   "outputs": [
    {
     "data": {
      "text/plain": [
       "300.0"
      ]
     },
     "execution_count": 11,
     "metadata": {},
     "output_type": "execute_result"
    }
   ],
   "source": [
    "3e2"
   ]
  },
  {
   "cell_type": "code",
   "execution_count": 9,
   "metadata": {},
   "outputs": [
    {
     "data": {
      "text/plain": [
       "3e-06"
      ]
     },
     "execution_count": 9,
     "metadata": {},
     "output_type": "execute_result"
    }
   ],
   "source": [
    "3*10**(-6)"
   ]
  },
  {
   "cell_type": "markdown",
   "metadata": {},
   "source": [
    "## 2. 논리 연산자 비교연산자\n",
    "\n",
    "##  논리 연산자 ( Boolean operator)\n",
    "\n",
    "- 참 (true ) 그리고 거짓 (False)\n",
    "\n",
    "- A and B = A 와 B 둘  다 [참] 이여야 [참]\n",
    "- A or B = A 와 B 둘  중 [하나라도 참] 이면 [참] \n",
    "- not A = A 가 [참] 이면 [거짓] , A 가 [거짓] 이면 [참] "
   ]
  },
  {
   "cell_type": "code",
   "execution_count": 13,
   "metadata": {},
   "outputs": [
    {
     "name": "stdout",
     "output_type": "stream",
     "text": [
      "False\n"
     ]
    }
   ],
   "source": [
    "print(True and False)"
   ]
  },
  {
   "cell_type": "code",
   "execution_count": 14,
   "metadata": {},
   "outputs": [
    {
     "name": "stdout",
     "output_type": "stream",
     "text": [
      "True\n"
     ]
    }
   ],
   "source": [
    "print ( True or False)"
   ]
  },
  {
   "cell_type": "code",
   "execution_count": 16,
   "metadata": {},
   "outputs": [
    {
     "name": "stdout",
     "output_type": "stream",
     "text": [
      "True\n"
     ]
    }
   ],
   "source": [
    "print ( not False)"
   ]
  },
  {
   "cell_type": "markdown",
   "metadata": {},
   "source": [
    "## 비교 연산자 \n",
    "\n",
    "- a == b : 같다\n",
    "- a !=b : 다르다 \n",
    "- 크기비교 < , > , <= , >= "
   ]
  },
  {
   "cell_type": "code",
   "execution_count": 17,
   "metadata": {},
   "outputs": [
    {
     "name": "stdout",
     "output_type": "stream",
     "text": [
      "False\n"
     ]
    }
   ],
   "source": [
    "print (5>7)"
   ]
  },
  {
   "cell_type": "code",
   "execution_count": 19,
   "metadata": {},
   "outputs": [
    {
     "name": "stdout",
     "output_type": "stream",
     "text": [
      "True\n"
     ]
    }
   ],
   "source": [
    "print ( 1>0 and -2<0)"
   ]
  }
 ],
 "metadata": {
  "kernelspec": {
   "display_name": "Python 3",
   "language": "python",
   "name": "python3"
  },
  "language_info": {
   "codemirror_mode": {
    "name": "ipython",
    "version": 3
   },
   "file_extension": ".py",
   "mimetype": "text/x-python",
   "name": "python",
   "nbconvert_exporter": "python",
   "pygments_lexer": "ipython3",
   "version": "3.7.6"
  }
 },
 "nbformat": 4,
 "nbformat_minor": 4
}
