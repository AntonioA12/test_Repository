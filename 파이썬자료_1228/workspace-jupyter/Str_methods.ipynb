{
 "cells": [
  {
   "cell_type": "markdown",
   "metadata": {},
   "source": [
    "[0] len(str) 길이를 알고 싶을때, \n",
    "\tlen(str)\n",
    "\n",
    "[1] .split() 문자열 나누기\n",
    "\tdafault 값  = \\n\n",
    "\tstr 를 \\n 이나 \\t 로 나누면\n",
    "\t결과값이 list 로 자동형변환 됨.\n",
    "\n",
    "[2] .join() 합치기\t\t\t\n",
    "\t\" 합칠 데이터\".join(str)\n",
    "\t\" 합칠 데이터 \" + ( str ) \n",
    "\n",
    "[3] .lower() 소문자로 변경\n",
    "\tstr.lower()\n",
    "\n",
    "[4] .upper() 대문자로 변경\n",
    "\tstr.upper()\n",
    "\n",
    "[5] .count() 갯수 세기\n",
    "\tstr.count('a')\n",
    "\ta 가 몇개인지\n",
    "\n",
    "[6] .find() 찾기\n",
    "\tstr.find('a')\n",
    "\ta 가 str 에 있는지? \n",
    "\t없으면 -1 로 출력 \n",
    "\n",
    "[7] .replace( '대상문자' , '바꿀문자' ) \n",
    "\tstr.replace( ' ,'  , ' ' )\n",
    "\t, 을 -> 공백으로 \n",
    "[8] .index(\" n\" )\n",
    "\tn 의 위치 가 어디인지 알려주는 인덱스 "
   ]
  },
  {
   "cell_type": "code",
   "execution_count": 35,
   "metadata": {},
   "outputs": [
    {
     "data": {
      "text/plain": [
       "'nav51!'"
      ]
     },
     "execution_count": 35,
     "metadata": {},
     "output_type": "execute_result"
    }
   ],
   "source": [
    "ur1 = \"https://naver.com\"\n",
    "\n",
    "my_str = ur1.replace(\"https://\",'')\n",
    "my_str = my_str[:my_str.index(\".\")]\n",
    "passward = my_str[:3]+str(len(my_str))+str(my_str.count('e'))+\"!\"\n",
    "\n",
    "passward"
   ]
  },
  {
   "cell_type": "code",
   "execution_count": 2,
   "metadata": {},
   "outputs": [
    {
     "name": "stdout",
     "output_type": "stream",
     "text": [
      "숫자3447\n"
     ]
    },
    {
     "ename": "TypeError",
     "evalue": "'int' object is not subscriptable",
     "output_type": "error",
     "traceback": [
      "\u001b[1;31m---------------------------------------------------------------------------\u001b[0m",
      "\u001b[1;31mTypeError\u001b[0m                                 Traceback (most recent call last)",
      "\u001b[1;32m<ipython-input-2-4aa83ddd5a9b>\u001b[0m in \u001b[0;36m<module>\u001b[1;34m\u001b[0m\n\u001b[0;32m      1\u001b[0m \u001b[0mint_a\u001b[0m \u001b[1;33m=\u001b[0m \u001b[0mint\u001b[0m\u001b[1;33m(\u001b[0m\u001b[0minput\u001b[0m\u001b[1;33m(\u001b[0m\u001b[1;34m'숫자'\u001b[0m\u001b[1;33m)\u001b[0m\u001b[1;33m)\u001b[0m\u001b[1;33m\u001b[0m\u001b[1;33m\u001b[0m\u001b[0m\n\u001b[0;32m      2\u001b[0m \u001b[1;33m\u001b[0m\u001b[0m\n\u001b[1;32m----> 3\u001b[1;33m \u001b[0mtype\u001b[0m\u001b[1;33m(\u001b[0m\u001b[0mint_a\u001b[0m\u001b[1;33m[\u001b[0m\u001b[1;36m0\u001b[0m\u001b[1;33m]\u001b[0m\u001b[1;33m)\u001b[0m\u001b[1;33m\u001b[0m\u001b[1;33m\u001b[0m\u001b[0m\n\u001b[0m",
      "\u001b[1;31mTypeError\u001b[0m: 'int' object is not subscriptable"
     ]
    }
   ],
   "source": [
    "int_a = int(input('숫자'))\n",
    "\n",
    "type(int_a[0])"
   ]
  },
  {
   "cell_type": "code",
   "execution_count": null,
   "metadata": {},
   "outputs": [],
   "source": []
  }
 ],
 "metadata": {
  "kernelspec": {
   "display_name": "Python 3 (ipykernel)",
   "language": "python",
   "name": "python3"
  },
  "language_info": {
   "codemirror_mode": {
    "name": "ipython",
    "version": 3
   },
   "file_extension": ".py",
   "mimetype": "text/x-python",
   "name": "python",
   "nbconvert_exporter": "python",
   "pygments_lexer": "ipython3",
   "version": "3.9.13"
  }
 },
 "nbformat": 4,
 "nbformat_minor": 4
}
