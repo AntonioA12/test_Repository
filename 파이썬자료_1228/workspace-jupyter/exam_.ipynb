{
 "cells": [
  {
   "cell_type": "code",
   "execution_count": 5,
   "metadata": {},
   "outputs": [],
   "source": [
    "from IPython.core.interactiveshell import InteractiveShell\n",
    "InteractiveShell.ast_node_interactivity = \"all\""
   ]
  },
  {
   "cell_type": "code",
   "execution_count": 6,
   "metadata": {},
   "outputs": [],
   "source": [
    "import numpy as np\n",
    "import random"
   ]
  },
  {
   "cell_type": "markdown",
   "metadata": {},
   "source": [
    "### 문제 10\n",
    "\n",
    "- 규칙 random, numpy 모듈을 사용하여 , 정규분포 ( 평균 0 , 분산 1 ) 를 따르는 입력값 10개를 각각 임의로 생성\n",
    "- 선형결합 , 활성화 함수,  그리고 임계활수 대한 함수를 각각 생성\n",
    "- 초기 가중치는 정규분포 ( 평균 0 , 분산 0.01) 을 따르는 ( w0 ~w 6) 생성 # 상수항에 대항 가중치는 없음\n",
    "\n",
    "- 출력예시\n",
    "    - (0.03 , 0.02 , 0.1, -0.04 , 0.05 , 0.2 , -0.15 ) 는 로지스틱 회귀를 통해 다음과 같이 업데이트 되었습니다\n",
    "    - 업데이트 된 가중치 = ( 0.015 , 0.03 , -0.2 , 0.01 , 0.21, 0.1 , -0.10) "
   ]
  },
  {
   "cell_type": "code",
   "execution_count": 142,
   "metadata": {},
   "outputs": [
    {
     "name": "stdout",
     "output_type": "stream",
     "text": [
      "[-1.33018006 -0.51364654  0.16970635  0.0097068  -0.31753847 -0.44722141\n",
      "  3.61875433]\n"
     ]
    },
    {
     "data": {
      "text/plain": [
       "array([-1.33018006, -0.51364654,  0.16970635,  0.0097068 , -0.31753847,\n",
       "       -0.44722141,  3.61875433])"
      ]
     },
     "execution_count": 142,
     "metadata": {},
     "output_type": "execute_result"
    }
   ],
   "source": [
    "x1 = np.random.normal(0,1 , size=(10))\n",
    "y1 = np.random.normal(0,1 , size=(10))\n",
    "w1 = np.random.normal(0,1 , size=(7))\n",
    "\n",
    "x2 = x1[0:7]\n",
    "\n",
    "\n",
    "class logit_function():\n",
    "\n",
    "    \n",
    "    def linear_function ( self , a , b  ):\n",
    "        self.linear = a*b\n",
    "        print(self.linear)\n",
    "        return self.linear\n",
    "    \n",
    "   # def activation_function ( self , activate ): \n",
    "    \n",
    "    \n",
    "    \n",
    "li = logit_function()\n",
    "\n",
    "li.linear_function(x2,w1) # 선형함수 "
   ]
  },
  {
   "cell_type": "markdown",
   "metadata": {},
   "source": [
    "```python\n",
    "    def activation_function ( self ,  ): \n",
    "        \n",
    "    def critical_function (self ,):\n",
    "```"
   ]
  },
  {
   "cell_type": "code",
   "execution_count": null,
   "metadata": {},
   "outputs": [],
   "source": []
  }
 ],
 "metadata": {
  "kernelspec": {
   "display_name": "Python 3 (ipykernel)",
   "language": "python",
   "name": "python3"
  },
  "language_info": {
   "codemirror_mode": {
    "name": "ipython",
    "version": 3
   },
   "file_extension": ".py",
   "mimetype": "text/x-python",
   "name": "python",
   "nbconvert_exporter": "python",
   "pygments_lexer": "ipython3",
   "version": "3.9.13"
  }
 },
 "nbformat": 4,
 "nbformat_minor": 4
}
