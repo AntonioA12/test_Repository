{
 "cells": [
  {
   "cell_type": "code",
   "execution_count": 5,
   "metadata": {},
   "outputs": [],
   "source": [
    "from IPython.core.interactiveshell import InteractiveShell\n",
    "InteractiveShell.ast_node_interactivity = 'all'\n",
    "\n",
    "import numpy as np\n",
    "import pandas as pd\n",
    "import matplotlib.pyplot as plt\n",
    "%matplotlib inline\n",
    "\n",
    "import statsmodels.api as sm\n",
    "from statsmodels.iolib.summary2 import summary_col\n",
    "\n",
    "# OLS \n",
    "import statsmodels.formula.api as smf\n",
    "# VIF\n",
    "from patsy import dmatrices\n",
    "import statsmodels.api as sm\n",
    "from statsmodels.stats.outliers_influence import variance_inflation_factor\n",
    "# Q-Q plot\n",
    "from scipy import stats\n",
    "# Jarque-Bera\n",
    "import statsmodels.stats.api as sms\n",
    "from statsmodels.compat import lzip\n",
    "# Durbin-Watson\n",
    "import statsmodels.stats.stattools as tools\n",
    "# Breusch - Godfrey tset\n",
    "import statsmodels.stats.diagnostic as sm_diagnostic\n",
    "# 강건표준오차(자기상관)\n",
    "import statsmodels.stats as sm_stats\n",
    "# 램지테스트 (모형설정의오류)\n",
    "import statsmodels.stats.outliers_influence as oi"
   ]
  },
  {
   "cell_type": "code",
   "execution_count": 95,
   "metadata": {},
   "outputs": [],
   "source": [
    "# cap = pd.read_excel('PER.xlsx')\n",
    "# emp = pd.read_excel('emp.xlsx')\n",
    "# wti = pd.read_csv('wti-month.csv')\n",
    "# kosdaq = pd.read_excel('kosdaq.xls')\n",
    "# kospi = pd.read_excel('kospi.xlsx')\n",
    "\n",
    "# ce = pd.merge(cap, emp )\n",
    "# cew = pd.merge( ce , wti , left_index=True , right_index=True )\n",
    "# cew_final =pd.merge ( cew , kosdaq , left_index=True , right_index=True)\n",
    "# cew_final_2 = pd.merge( cew_final , kospi , left_index=True , right_index=True )\n",
    "# cew_2 = pd.merge( ce , wti , left_index=True , right_index=True )\n",
    "# # wti.describe()\n",
    "# # wti.var()\n",
    "# # emp.describe()\n",
    "# # emp.var()\n",
    "# # cap.describe()\n",
    "# # cap.var()\n",
    "\n",
    "\n",
    "# cew_final_2.corr()\n",
    "\n"
   ]
  },
  {
   "cell_type": "code",
   "execution_count": 181,
   "metadata": {},
   "outputs": [
    {
     "data": {
      "text/html": [
       "<div>\n",
       "<style scoped>\n",
       "    .dataframe tbody tr th:only-of-type {\n",
       "        vertical-align: middle;\n",
       "    }\n",
       "\n",
       "    .dataframe tbody tr th {\n",
       "        vertical-align: top;\n",
       "    }\n",
       "\n",
       "    .dataframe thead th {\n",
       "        text-align: right;\n",
       "    }\n",
       "</style>\n",
       "<table border=\"1\" class=\"dataframe\">\n",
       "  <thead>\n",
       "    <tr style=\"text-align: right;\">\n",
       "      <th></th>\n",
       "      <th>Hiring</th>\n",
       "      <th>kosdaq</th>\n",
       "      <th>Price</th>\n",
       "      <th>Stock</th>\n",
       "      <th>PER</th>\n",
       "    </tr>\n",
       "  </thead>\n",
       "  <tbody>\n",
       "    <tr>\n",
       "      <th>Hiring</th>\n",
       "      <td>1.000000</td>\n",
       "      <td>0.525851</td>\n",
       "      <td>0.584439</td>\n",
       "      <td>-0.060519</td>\n",
       "      <td>-0.500530</td>\n",
       "    </tr>\n",
       "    <tr>\n",
       "      <th>kosdaq</th>\n",
       "      <td>0.525851</td>\n",
       "      <td>1.000000</td>\n",
       "      <td>0.604034</td>\n",
       "      <td>0.141982</td>\n",
       "      <td>-0.466846</td>\n",
       "    </tr>\n",
       "    <tr>\n",
       "      <th>Price</th>\n",
       "      <td>0.584439</td>\n",
       "      <td>0.604034</td>\n",
       "      <td>1.000000</td>\n",
       "      <td>-0.217127</td>\n",
       "      <td>-0.504940</td>\n",
       "    </tr>\n",
       "    <tr>\n",
       "      <th>Stock</th>\n",
       "      <td>-0.060519</td>\n",
       "      <td>0.141982</td>\n",
       "      <td>-0.217127</td>\n",
       "      <td>1.000000</td>\n",
       "      <td>0.122584</td>\n",
       "    </tr>\n",
       "    <tr>\n",
       "      <th>PER</th>\n",
       "      <td>-0.500530</td>\n",
       "      <td>-0.466846</td>\n",
       "      <td>-0.504940</td>\n",
       "      <td>0.122584</td>\n",
       "      <td>1.000000</td>\n",
       "    </tr>\n",
       "  </tbody>\n",
       "</table>\n",
       "</div>"
      ],
      "text/plain": [
       "          Hiring    kosdaq     Price     Stock       PER\n",
       "Hiring  1.000000  0.525851  0.584439 -0.060519 -0.500530\n",
       "kosdaq  0.525851  1.000000  0.604034  0.141982 -0.466846\n",
       "Price   0.584439  0.604034  1.000000 -0.217127 -0.504940\n",
       "Stock  -0.060519  0.141982 -0.217127  1.000000  0.122584\n",
       "PER    -0.500530 -0.466846 -0.504940  0.122584  1.000000"
      ]
     },
     "execution_count": 181,
     "metadata": {},
     "output_type": "execute_result"
    }
   ],
   "source": [
    "cew = pd.read_excel('emp_data3.xlsx')\n",
    "kospi = pd.read_excel('kospi.xlsx')\n",
    "# cew['lnHiring']= np.log(cew['Hiring'])\n",
    "# cew['Price_exper_']=cew['Price']**2\n",
    "\n",
    "# cew.head(3)\n",
    "# cew.describe().round(3)\n",
    "# cew.corr().round(3)\n",
    "\n",
    "cew.corr()"
   ]
  },
  {
   "cell_type": "code",
   "execution_count": 182,
   "metadata": {},
   "outputs": [
    {
     "data": {
      "text/html": [
       "<div>\n",
       "<style scoped>\n",
       "    .dataframe tbody tr th:only-of-type {\n",
       "        vertical-align: middle;\n",
       "    }\n",
       "\n",
       "    .dataframe tbody tr th {\n",
       "        vertical-align: top;\n",
       "    }\n",
       "\n",
       "    .dataframe thead th {\n",
       "        text-align: right;\n",
       "    }\n",
       "</style>\n",
       "<table border=\"1\" class=\"dataframe\">\n",
       "  <thead>\n",
       "    <tr style=\"text-align: right;\">\n",
       "      <th></th>\n",
       "      <th>Month</th>\n",
       "      <th>Hiring</th>\n",
       "      <th>kosdaq</th>\n",
       "      <th>Price</th>\n",
       "      <th>Stock</th>\n",
       "      <th>PER</th>\n",
       "      <th>lnHiring</th>\n",
       "      <th>Price_exper_</th>\n",
       "    </tr>\n",
       "  </thead>\n",
       "  <tbody>\n",
       "    <tr>\n",
       "      <th>0</th>\n",
       "      <td>2017. 01</td>\n",
       "      <td>90216</td>\n",
       "      <td>616.13</td>\n",
       "      <td>52.50</td>\n",
       "      <td>-3.7</td>\n",
       "      <td>15.27</td>\n",
       "      <td>11.409962</td>\n",
       "      <td>2756.2500</td>\n",
       "    </tr>\n",
       "    <tr>\n",
       "      <th>1</th>\n",
       "      <td>2017. 02</td>\n",
       "      <td>102475</td>\n",
       "      <td>612.20</td>\n",
       "      <td>53.47</td>\n",
       "      <td>-0.2</td>\n",
       "      <td>15.33</td>\n",
       "      <td>11.537374</td>\n",
       "      <td>2859.0409</td>\n",
       "    </tr>\n",
       "    <tr>\n",
       "      <th>2</th>\n",
       "      <td>2017. 03</td>\n",
       "      <td>113843</td>\n",
       "      <td>619.28</td>\n",
       "      <td>49.33</td>\n",
       "      <td>0.1</td>\n",
       "      <td>15.67</td>\n",
       "      <td>11.642576</td>\n",
       "      <td>2433.4489</td>\n",
       "    </tr>\n",
       "    <tr>\n",
       "      <th>3</th>\n",
       "      <td>2017. 04</td>\n",
       "      <td>105639</td>\n",
       "      <td>628.24</td>\n",
       "      <td>51.06</td>\n",
       "      <td>3.3</td>\n",
       "      <td>16.00</td>\n",
       "      <td>11.567783</td>\n",
       "      <td>2607.1236</td>\n",
       "    </tr>\n",
       "    <tr>\n",
       "      <th>4</th>\n",
       "      <td>2017. 05</td>\n",
       "      <td>101125</td>\n",
       "      <td>652.04</td>\n",
       "      <td>48.48</td>\n",
       "      <td>4.4</td>\n",
       "      <td>15.29</td>\n",
       "      <td>11.524113</td>\n",
       "      <td>2350.3104</td>\n",
       "    </tr>\n",
       "    <tr>\n",
       "      <th>5</th>\n",
       "      <td>2017. 06</td>\n",
       "      <td>92117</td>\n",
       "      <td>669.04</td>\n",
       "      <td>45.18</td>\n",
       "      <td>3.2</td>\n",
       "      <td>14.26</td>\n",
       "      <td>11.430815</td>\n",
       "      <td>2041.2324</td>\n",
       "    </tr>\n",
       "    <tr>\n",
       "      <th>6</th>\n",
       "      <td>2017. 07</td>\n",
       "      <td>97043</td>\n",
       "      <td>650.47</td>\n",
       "      <td>46.63</td>\n",
       "      <td>-2.7</td>\n",
       "      <td>14.21</td>\n",
       "      <td>11.482909</td>\n",
       "      <td>2174.3569</td>\n",
       "    </tr>\n",
       "    <tr>\n",
       "      <th>7</th>\n",
       "      <td>2017. 08</td>\n",
       "      <td>99090</td>\n",
       "      <td>657.83</td>\n",
       "      <td>48.04</td>\n",
       "      <td>2.0</td>\n",
       "      <td>14.12</td>\n",
       "      <td>11.503784</td>\n",
       "      <td>2307.8416</td>\n",
       "    </tr>\n",
       "    <tr>\n",
       "      <th>8</th>\n",
       "      <td>2017. 09</td>\n",
       "      <td>108499</td>\n",
       "      <td>652.82</td>\n",
       "      <td>49.82</td>\n",
       "      <td>-0.1</td>\n",
       "      <td>12.98</td>\n",
       "      <td>11.594496</td>\n",
       "      <td>2482.0324</td>\n",
       "    </tr>\n",
       "    <tr>\n",
       "      <th>9</th>\n",
       "      <td>2017. 10</td>\n",
       "      <td>91162</td>\n",
       "      <td>694.20</td>\n",
       "      <td>51.58</td>\n",
       "      <td>8.3</td>\n",
       "      <td>13.78</td>\n",
       "      <td>11.420393</td>\n",
       "      <td>2660.4964</td>\n",
       "    </tr>\n",
       "  </tbody>\n",
       "</table>\n",
       "</div>"
      ],
      "text/plain": [
       "      Month  Hiring  kosdaq  Price  Stock    PER   lnHiring  Price_exper_\n",
       "0  2017. 01   90216  616.13  52.50   -3.7  15.27  11.409962     2756.2500\n",
       "1  2017. 02  102475  612.20  53.47   -0.2  15.33  11.537374     2859.0409\n",
       "2  2017. 03  113843  619.28  49.33    0.1  15.67  11.642576     2433.4489\n",
       "3  2017. 04  105639  628.24  51.06    3.3  16.00  11.567783     2607.1236\n",
       "4  2017. 05  101125  652.04  48.48    4.4  15.29  11.524113     2350.3104\n",
       "5  2017. 06   92117  669.04  45.18    3.2  14.26  11.430815     2041.2324\n",
       "6  2017. 07   97043  650.47  46.63   -2.7  14.21  11.482909     2174.3569\n",
       "7  2017. 08   99090  657.83  48.04    2.0  14.12  11.503784     2307.8416\n",
       "8  2017. 09  108499  652.82  49.82   -0.1  12.98  11.594496     2482.0324\n",
       "9  2017. 10   91162  694.20  51.58    8.3  13.78  11.420393     2660.4964"
      ]
     },
     "execution_count": 182,
     "metadata": {},
     "output_type": "execute_result"
    }
   ],
   "source": [
    "cew['lnHiring']= np.log(cew['Hiring'])\n",
    "cew['Price_exper_']=cew['Price']**2\n",
    "\n",
    "cew.head(10)"
   ]
  },
  {
   "cell_type": "code",
   "execution_count": 193,
   "metadata": {},
   "outputs": [
    {
     "name": "stdout",
     "output_type": "stream",
     "text": [
      "                            OLS Regression Results                            \n",
      "==============================================================================\n",
      "Dep. Variable:                 Hiring   R-squared:                       0.365\n",
      "Model:                            OLS   Adj. R-squared:                  0.313\n",
      "Method:                 Least Squares   F-statistic:                     6.912\n",
      "Date:                Mon, 13 Jul 2020   Prob (F-statistic):           0.000857\n",
      "Time:                        22:20:34   Log-Likelihood:                -421.24\n",
      "No. Observations:                  40   AIC:                             850.5\n",
      "Df Residuals:                      36   BIC:                             857.2\n",
      "Df Model:                           3                                         \n",
      "Covariance Type:            nonrobust                                         \n",
      "==============================================================================\n",
      "                 coef    std err          t      P>|t|      [0.025      0.975]\n",
      "------------------------------------------------------------------------------\n",
      "Intercept   8.898e+04   1.88e+04      4.729      0.000    5.08e+04    1.27e+05\n",
      "kosdaq        49.7263     19.471      2.554      0.015      10.237      89.215\n",
      "Stock       -105.1486    183.355     -0.573      0.570    -477.010     266.713\n",
      "PER        -1155.2447    578.374     -1.997      0.053   -2328.241      17.752\n",
      "==============================================================================\n",
      "Omnibus:                        1.560   Durbin-Watson:                   1.742\n",
      "Prob(Omnibus):                  0.458   Jarque-Bera (JB):                1.476\n",
      "Skew:                          -0.369   Prob(JB):                        0.478\n",
      "Kurtosis:                       2.416   Cond. No.                     8.89e+03\n",
      "==============================================================================\n",
      "\n",
      "Warnings:\n",
      "[1] Standard Errors assume that the covariance matrix of the errors is correctly specified.\n",
      "[2] The condition number is large, 8.89e+03. This might indicate that there are\n",
      "strong multicollinearity or other numerical problems.\n"
     ]
    }
   ],
   "source": [
    "reg1 = smf.ols('Hiring ~ kosdaq + Stock + PER  ', missing = 'drop', data = cew).fit()\n",
    "print(reg1.summary())"
   ]
  },
  {
   "cell_type": "markdown",
   "metadata": {},
   "source": [
    "## 다중공산성"
   ]
  },
  {
   "cell_type": "code",
   "execution_count": 194,
   "metadata": {},
   "outputs": [
    {
     "name": "stdout",
     "output_type": "stream",
     "text": [
      "   VIF Factors   features\n",
      "0       163.90  Intercept\n",
      "1         1.92     kosdaq\n",
      "2         1.98      Price\n",
      "3         1.44        PER\n",
      "4         1.21      Stock\n"
     ]
    }
   ],
   "source": [
    "feature = 'kosdaq + Price + PER + Stock'\n",
    "y , X = dmatrices('Hiring~'+ feature , cew , return_type='dataframe')\n",
    "\n",
    "vif = pd.DataFrame()\n",
    "vif['VIF Factors'] = [ variance_inflation_factor(X.values , i) for i in range(X.shape[1])]\n",
    "vif['features']=X.columns\n",
    "\n",
    "print(vif.round(2))"
   ]
  },
  {
   "cell_type": "markdown",
   "metadata": {},
   "source": [
    "## 정규성"
   ]
  },
  {
   "cell_type": "code",
   "execution_count": 195,
   "metadata": {},
   "outputs": [
    {
     "data": {
      "text/plain": [
       "<matplotlib.axes._subplots.AxesSubplot at 0x2248aa448c8>"
      ]
     },
     "execution_count": 195,
     "metadata": {},
     "output_type": "execute_result"
    },
    {
     "data": {
      "image/png": "[encoded data removed]",
      "text/plain": [
       "<Figure size 432x288 with 1 Axes>"
      ]
     },
     "metadata": {
      "needs_background": "light"
     },
     "output_type": "display_data"
    }
   ],
   "source": [
    "cew['Hiring'].plot(kind='hist' , title='Hiring')"
   ]
  },
  {
   "cell_type": "code",
   "execution_count": 196,
   "metadata": {},
   "outputs": [
    {
     "data": {
      "text/plain": [
       "<matplotlib.axes._subplots.AxesSubplot at 0x224892dcb48>"
      ]
     },
     "execution_count": 196,
     "metadata": {},
     "output_type": "execute_result"
    },
    {
     "data": {
      "image/png": "[encoded data removed]",
      "text/plain": [
       "<Figure size 432x288 with 1 Axes>"
      ]
     },
     "metadata": {
      "needs_background": "light"
     },
     "output_type": "display_data"
    }
   ],
   "source": [
    "cew['lnHiring'].plot(kind='hist' , title='lnHiring')"
   ]
  },
  {
   "cell_type": "code",
   "execution_count": 197,
   "metadata": {},
   "outputs": [
    {
     "name": "stdout",
     "output_type": "stream",
     "text": [
      "#################### 1.Hiring Jarque-bera ####################\n"
     ]
    },
    {
     "data": {
      "text/plain": [
       "[('Jarque-Bera', 1.4755029780211752)]"
      ]
     },
     "execution_count": 197,
     "metadata": {},
     "output_type": "execute_result"
    },
    {
     "name": "stdout",
     "output_type": "stream",
     "text": [
      "#################### 2.log(Hiring) Jarque-bera ####################\n"
     ]
    },
    {
     "data": {
      "text/plain": [
       "[('Jarque-Bera', 2.1533787600364103)]"
      ]
     },
     "execution_count": 197,
     "metadata": {},
     "output_type": "execute_result"
    },
    {
     "name": "stdout",
     "output_type": "stream",
     "text": [
      "                            OLS Regression Results                            \n",
      "==============================================================================\n",
      "Dep. Variable:               lnHiring   R-squared:                       0.354\n",
      "Model:                            OLS   Adj. R-squared:                  0.300\n",
      "Method:                 Least Squares   F-statistic:                     6.577\n",
      "Date:                Mon, 13 Jul 2020   Prob (F-statistic):            0.00117\n",
      "Time:                        22:20:57   Log-Likelihood:                 42.473\n",
      "No. Observations:                  40   AIC:                            -76.95\n",
      "Df Residuals:                      36   BIC:                            -70.19\n",
      "Df Model:                           3                                         \n",
      "Covariance Type:            nonrobust                                         \n",
      "==============================================================================\n",
      "                 coef    std err          t      P>|t|      [0.025      0.975]\n",
      "------------------------------------------------------------------------------\n",
      "Intercept     11.4258      0.174     65.772      0.000      11.073      11.778\n",
      "kosdaq         0.0004      0.000      2.428      0.020    7.19e-05       0.001\n",
      "Stock         -0.0010      0.002     -0.587      0.561      -0.004       0.002\n",
      "PER           -0.0107      0.005     -2.011      0.052      -0.022    9.07e-05\n",
      "==============================================================================\n",
      "Omnibus:                        2.406   Durbin-Watson:                   1.737\n",
      "Prob(Omnibus):                  0.300   Jarque-Bera (JB):                2.153\n",
      "Skew:                          -0.473   Prob(JB):                        0.341\n",
      "Kurtosis:                       2.371   Cond. No.                     8.89e+03\n",
      "==============================================================================\n",
      "\n",
      "Warnings:\n",
      "[1] Standard Errors assume that the covariance matrix of the errors is correctly specified.\n",
      "[2] The condition number is large, 8.89e+03. This might indicate that there are\n",
      "strong multicollinearity or other numerical problems.\n"
     ]
    }
   ],
   "source": [
    "print('#'*20,'1.Hiring Jarque-bera','#'*20)\n",
    "name = ['Jarque-Bera']\n",
    "jarque = sms.jarque_bera(reg1.resid)\n",
    "lzip( name , jarque)\n",
    "\n",
    "# lnwage 종속변수인 reg3 \n",
    "\n",
    "reg2 = smf.ols('lnHiring ~ kosdaq + Stock + PER ',missing = 'drop', data = cew).fit()\n",
    "\n",
    "print('#'*20,'2.log(Hiring) Jarque-bera','#'*20)\n",
    "name = ['Jarque-Bera']\n",
    "jarque = sms.jarque_bera(reg2.resid)\n",
    "lzip( name , jarque)\n",
    "\n",
    "print(reg2.summary())"
   ]
  },
  {
   "cell_type": "markdown",
   "metadata": {},
   "source": [
    "## 이분산"
   ]
  },
  {
   "cell_type": "code",
   "execution_count": 189,
   "metadata": {},
   "outputs": [
    {
     "name": "stdout",
     "output_type": "stream",
     "text": [
      "#################### 1.BP-Test ####################\n"
     ]
    },
    {
     "data": {
      "text/plain": [
       "[('Lagrange_multiplier static', 4.193303961610431),\n",
       " ('P-value', 0.24133314119978896)]"
      ]
     },
     "execution_count": 189,
     "metadata": {},
     "output_type": "execute_result"
    },
    {
     "name": "stdout",
     "output_type": "stream",
     "text": [
      "#################### 2.White-Test ####################\n"
     ]
    },
    {
     "data": {
      "text/plain": [
       "[('Lagrange_multiplier static', 8.267816775404873),\n",
       " ('P-value', 0.5073984281646733)]"
      ]
     },
     "execution_count": 189,
     "metadata": {},
     "output_type": "execute_result"
    }
   ],
   "source": [
    "# BP Test\n",
    "print('#'*20,'1.BP-Test','#'*20)\n",
    "name = [ 'Lagrange_multiplier static','P-value']\n",
    "BPtest = sms.het_breuschpagan(reg2.resid , reg2.model.exog)\n",
    "lzip(name , BPtest)\n",
    "\n",
    "# White Test \n",
    "print('#'*20,'2.White-Test','#'*20)\n",
    "name = [ 'Lagrange_multiplier static','P-value']\n",
    "WhiteTest = sms.het_white( reg2.resid , reg2.model.exog  ) # retres = False\n",
    "lzip(name , WhiteTest)\n"
   ]
  },
  {
   "cell_type": "markdown",
   "metadata": {},
   "source": [
    "## 문제는 이분산이였다. "
   ]
  },
  {
   "cell_type": "code",
   "execution_count": 200,
   "metadata": {},
   "outputs": [
    {
     "name": "stdout",
     "output_type": "stream",
     "text": [
      "                            OLS Regression Results                            \n",
      "==============================================================================\n",
      "Dep. Variable:               lnHiring   R-squared:                       0.421\n",
      "Model:                            OLS   Adj. R-squared:                  0.355\n",
      "Method:                 Least Squares   F-statistic:                     5.711\n",
      "Date:                Mon, 13 Jul 2020   Prob (F-statistic):            0.00120\n",
      "Time:                        22:23:29   Log-Likelihood:                 44.674\n",
      "No. Observations:                  40   AIC:                            -79.35\n",
      "Df Residuals:                      35   BIC:                            -70.90\n",
      "Df Model:                           4                                         \n",
      "Covariance Type:                  HC1                                         \n",
      "==============================================================================\n",
      "                 coef    std err          z      P>|z|      [0.025      0.975]\n",
      "------------------------------------------------------------------------------\n",
      "Intercept     11.3459      0.173     65.664      0.000      11.007      11.685\n",
      "kosdaq         0.0002      0.000      0.920      0.358      -0.000       0.001\n",
      "Stock          0.0002      0.002      0.089      0.929      -0.004       0.004\n",
      "PER           -0.0080      0.005     -1.753      0.080      -0.017       0.001\n",
      "Price          0.0037      0.002      1.947      0.052   -2.46e-05       0.007\n",
      "==============================================================================\n",
      "Omnibus:                        0.226   Durbin-Watson:                   1.702\n",
      "Prob(Omnibus):                  0.893   Jarque-Bera (JB):                0.407\n",
      "Skew:                          -0.128   Prob(JB):                        0.816\n",
      "Kurtosis:                       2.577   Cond. No.                     9.16e+03\n",
      "==============================================================================\n",
      "\n",
      "Warnings:\n",
      "[1] Standard Errors are heteroscedasticity robust (HC1)\n",
      "[2] The condition number is large, 9.16e+03. This might indicate that there are\n",
      "strong multicollinearity or other numerical problems.\n",
      "                            OLS Regression Results                            \n",
      "==============================================================================\n",
      "Dep. Variable:                 Hiring   R-squared:                       0.426\n",
      "Model:                            OLS   Adj. R-squared:                  0.360\n",
      "Method:                 Least Squares   F-statistic:                     5.828\n",
      "Date:                Mon, 13 Jul 2020   Prob (F-statistic):            0.00106\n",
      "Time:                        22:23:29   Log-Likelihood:                -419.24\n",
      "No. Observations:                  40   AIC:                             848.5\n",
      "Df Residuals:                      35   BIC:                             856.9\n",
      "Df Model:                           4                                         \n",
      "Covariance Type:                  HC1                                         \n",
      "==============================================================================\n",
      "                 coef    std err          z      P>|z|      [0.025      0.975]\n",
      "------------------------------------------------------------------------------\n",
      "Intercept   8.072e+04   1.92e+04      4.194      0.000     4.3e+04    1.18e+05\n",
      "kosdaq        26.2182     26.046      1.007      0.314     -24.832      77.268\n",
      "Stock         17.7578    250.272      0.071      0.943    -472.767     508.283\n",
      "PER         -868.4903    493.532     -1.760      0.078   -1835.794      98.814\n",
      "Price        377.5905    203.401      1.856      0.063     -21.067     776.248\n",
      "==============================================================================\n",
      "Omnibus:                        0.204   Durbin-Watson:                   1.696\n",
      "Prob(Omnibus):                  0.903   Jarque-Bera (JB):                0.408\n",
      "Skew:                          -0.043   Prob(JB):                        0.815\n",
      "Kurtosis:                       2.513   Cond. No.                     9.16e+03\n",
      "==============================================================================\n",
      "\n",
      "Warnings:\n",
      "[1] Standard Errors are heteroscedasticity robust (HC1)\n",
      "[2] The condition number is large, 9.16e+03. This might indicate that there are\n",
      "strong multicollinearity or other numerical problems.\n",
      "                            OLS Regression Results                            \n",
      "==============================================================================\n",
      "Dep. Variable:                 Hiring   R-squared:                       0.426\n",
      "Model:                            OLS   Adj. R-squared:                  0.360\n",
      "Method:                 Least Squares   F-statistic:                     6.487\n",
      "Date:                Mon, 13 Jul 2020   Prob (F-statistic):           0.000514\n",
      "Time:                        22:23:29   Log-Likelihood:                -419.24\n",
      "No. Observations:                  40   AIC:                             848.5\n",
      "Df Residuals:                      35   BIC:                             856.9\n",
      "Df Model:                           4                                         \n",
      "Covariance Type:            nonrobust                                         \n",
      "==============================================================================\n",
      "                 coef    std err          t      P>|t|      [0.025      0.975]\n",
      "------------------------------------------------------------------------------\n",
      "Intercept   8.072e+04   1.87e+04      4.326      0.000    4.28e+04    1.19e+05\n",
      "kosdaq        26.2182     22.436      1.169      0.250     -19.329      71.766\n",
      "Stock         17.7578    188.170      0.094      0.925    -364.249     399.764\n",
      "PER         -868.4903    577.739     -1.503      0.142   -2041.364     304.383\n",
      "Price        377.5905    197.021      1.917      0.063     -22.383     777.564\n",
      "==============================================================================\n",
      "Omnibus:                        0.204   Durbin-Watson:                   1.696\n",
      "Prob(Omnibus):                  0.903   Jarque-Bera (JB):                0.408\n",
      "Skew:                          -0.043   Prob(JB):                        0.815\n",
      "Kurtosis:                       2.513   Cond. No.                     9.16e+03\n",
      "==============================================================================\n",
      "\n",
      "Warnings:\n",
      "[1] Standard Errors assume that the covariance matrix of the errors is correctly specified.\n",
      "[2] The condition number is large, 9.16e+03. This might indicate that there are\n",
      "strong multicollinearity or other numerical problems.\n"
     ]
    }
   ],
   "source": [
    "reg3 = smf.ols('lnHiring ~ kosdaq + Stock + PER + Price',missing = 'drop', data = cew).fit(cov_type='HC1')\n",
    "reg4 = smf.ols('Hiring ~  kosdaq + Stock + PER + Price' , missing = 'drop', data= cew).fit(cov_type='HC1')\n",
    "reg7 = smf.ols('Hiring ~  kosdaq + Stock+  PER + Price' , missing = 'drop', data= cew).fit()\n",
    "print(reg3.summary())\n",
    "print(reg4.summary())\n",
    "print(reg7.summary())"
   ]
  },
  {
   "cell_type": "markdown",
   "metadata": {},
   "source": [
    "## 자기상관"
   ]
  },
  {
   "cell_type": "code",
   "execution_count": 191,
   "metadata": {},
   "outputs": [
    {
     "name": "stdout",
     "output_type": "stream",
     "text": [
      "              0         1\n",
      "0       LM-stat  1.386920\n",
      "1  LM : P-value  0.499844\n",
      "2       F-value  0.610613\n",
      "3   F : P-value  0.548865\n"
     ]
    }
   ],
   "source": [
    "name =['LM-stat', 'LM : P-value' , 'F-value' , ' F : P-value']\n",
    "bg_t = sm_diagnostic.acorr_breusch_godfrey(reg3 , nlags=2 ) \n",
    "print( pd.DataFrame( lzip(name , bg_t) ) )"
   ]
  },
  {
   "cell_type": "code",
   "execution_count": 201,
   "metadata": {},
   "outputs": [
    {
     "name": "stdout",
     "output_type": "stream",
     "text": [
      "                           GLSAR Regression Results                           \n",
      "==============================================================================\n",
      "Dep. Variable:                      y   R-squared:                       0.278\n",
      "Model:                          GLSAR   Adj. R-squared:                  0.216\n",
      "Method:                 Least Squares   F-statistic:                     4.495\n",
      "Date:                Mon, 13 Jul 2020   Prob (F-statistic):            0.00904\n",
      "Time:                        22:23:43   Log-Likelihood:                 42.311\n",
      "No. Observations:                  39   AIC:                            -76.62\n",
      "Df Residuals:                      35   BIC:                            -69.97\n",
      "Df Model:                           3                                         \n",
      "Covariance Type:            nonrobust                                         \n",
      "==============================================================================\n",
      "                 coef    std err          t      P>|t|      [0.025      0.975]\n",
      "------------------------------------------------------------------------------\n",
      "const         11.4854      0.190     60.358      0.000      11.099      11.872\n",
      "x1             0.0004      0.000      1.855      0.072   -3.49e-05       0.001\n",
      "x2            -0.0003      0.002     -0.164      0.870      -0.004       0.003\n",
      "x3            -0.0114      0.006     -1.951      0.059      -0.023       0.000\n",
      "==============================================================================\n",
      "Omnibus:                        1.750   Durbin-Watson:                   1.968\n",
      "Prob(Omnibus):                  0.417   Jarque-Bera (JB):                1.609\n",
      "Skew:                          -0.468   Prob(JB):                        0.447\n",
      "Kurtosis:                       2.661   Cond. No.                     8.51e+03\n",
      "==============================================================================\n",
      "\n",
      "Warnings:\n",
      "[1] Standard Errors assume that the covariance matrix of the errors is correctly specified.\n",
      "[2] The condition number is large, 8.51e+03. This might indicate that there are\n",
      "strong multicollinearity or other numerical problems.\n"
     ]
    }
   ],
   "source": [
    "reg4_model = smf.ols('lnHiring ~ kosdaq  + Stock + PER' , missing='drop' , data=cew)\n",
    "reg4_CORC = sm.GLSAR(reg4_model.endog, reg4_model.exog)\n",
    "\n",
    "reg4_CORC_fit = reg4_CORC.iterative_fit(maxiter=100) # OLS fit() \n",
    "print(reg4_CORC_fit.summary())"
   ]
  },
  {
   "cell_type": "code",
   "execution_count": 202,
   "metadata": {
    "scrolled": true
   },
   "outputs": [
    {
     "name": "stdout",
     "output_type": "stream",
     "text": [
      "모형설정오류  <F test: F=array([[6.19390962]]), p=0.017724189885302513, df_denom=35, df_num=1>\n",
      "모형설정오류  <F test: F=array([[7.12578477]]), p=0.011564638833877898, df_denom=34, df_num=1>\n"
     ]
    }
   ],
   "source": [
    "reg5 = smf.ols('lnHiring ~ kosdaq +  Stock + PER',missing = 'drop', data = cew).fit(cov_type='HC1')\n",
    "print('모형설정오류 ',  oi.reset_ramsey(reg5 , degree=2))\n",
    "print('모형설정오류 ',  oi.reset_ramsey(reg3 , degree=2))"
   ]
  },
  {
   "cell_type": "code",
   "execution_count": 175,
   "metadata": {},
   "outputs": [
    {
     "data": {
      "text/plain": [
       "6.907755278982137"
      ]
     },
     "execution_count": 175,
     "metadata": {},
     "output_type": "execute_result"
    }
   ],
   "source": [
    "np.log(1000)"
   ]
  },
  {
   "cell_type": "code",
   "execution_count": null,
   "metadata": {},
   "outputs": [],
   "source": []
  }
 ],
 "metadata": {
  "kernelspec": {
   "display_name": "Python 3 (ipykernel)",
   "language": "python",
   "name": "python3"
  },
  "language_info": {
   "codemirror_mode": {
    "name": "ipython",
    "version": 3
   },
   "file_extension": ".py",
   "mimetype": "text/x-python",
   "name": "python",
   "nbconvert_exporter": "python",
   "pygments_lexer": "ipython3",
   "version": "3.9.13"
  }
 },
 "nbformat": 4,
 "nbformat_minor": 4
}
