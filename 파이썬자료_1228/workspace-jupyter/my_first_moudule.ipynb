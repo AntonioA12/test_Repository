#파일명 = my_first_module

def my_function():
    print('This is my first module')
