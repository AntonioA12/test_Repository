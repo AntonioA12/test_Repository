{
 "cells": [
  {
   "cell_type": "code",
   "execution_count": 1,
   "metadata": {},
   "outputs": [],
   "source": [
    "from IPython.core.interactiveshell import InteractiveShell\n",
    "InteractiveShell.ast_node_interactivity = \"all\""
   ]
  },
  {
   "cell_type": "markdown",
   "metadata": {},
   "source": [
    "본교 학교 메일 사이트(http://mail.suwon.ac.kr/)에 대해 문자열, 리스트의 메소드를 이용하여 다음의 규칙을 갖는 본인만의 비밀번호를 만들어 주는 프로그램을 작성하시오.\n",
    "\n",
    "(a) ‘mail.suwon.ac.kr’의 문자열에서 점(.)을 제외한 문자열 중 임의로 3개를 선택 (random 모듈의 shuffle과 sample을 활용)\n",
    "(b) 본인의 영어이름(성 제외)의 뒤 3개의 문자열 선택 (list slicing)\n",
    "(c) 본인의 영어이름(성 제외)에서 알파벳 ‘e’가 처음으로 나오는 위치, ‘e’가 없으면  -1 반환\n",
    "(d) 본인의 영어이름(성 제외)의 글자 수\n",
    " \n",
    "\n",
    "비밀번호 구성하기: ‘(a)의 결과(소문자)’ + ‘(d)-(c)의 값’ + ‘(b)의 결과(대문자)’ + '!'\n",
    " \n",
    "\n",
    "예)\n",
    "\n",
    "(a) m,a,i,l,s,u,w,o,n,a,c,k,r  -> s, a, k\n",
    "\n",
    "(b) gildong -> o, n, g\n",
    "\n",
    "(c) ‘e’가 없으므로 -1\n",
    "\n",
    "(d) ‘gildong’의 글자 수: 7\n",
    "\n",
    " \n",
    "\n",
    "생성 비밀번호: sak8ONG!"
   ]
  },
  {
   "cell_type": "code",
   "execution_count": 2,
   "metadata": {},
   "outputs": [
    {
     "data": {
      "text/plain": [
       "['m', 'a', 'i', 'l', 's', 'u', 'w', 'o', 'n', 'a', 'c', 'k', 'r']"
      ]
     },
     "execution_count": 2,
     "metadata": {},
     "output_type": "execute_result"
    },
    {
     "data": {
      "text/plain": [
       "['o', 'u', 'r']"
      ]
     },
     "execution_count": 2,
     "metadata": {},
     "output_type": "execute_result"
    }
   ],
   "source": [
    "#A\n",
    "ur1 = \"http://mail.suwon.ac.kr/\" \n",
    "ur2 = ur1.replace('http:','') # http: 제거\n",
    "ur3 = ur2.replace('.','') #  .제거 \n",
    "\n",
    "suwon =list(ur3.replace('/','')) # / 제거 후 list 형변환 동시에 suwon 변수 생성 \n",
    "\n",
    "suwon\n",
    "\n",
    "from random import *\n",
    "\n",
    "shuffle(suwon) # list(suwon) 을 셔플 \n",
    "\n",
    "pw_a =sample(suwon,3) # 셔플 된 suwon list 값에서  랜덤 3개 추출 \n",
    "pw_a"
   ]
  },
  {
   "cell_type": "code",
   "execution_count": 3,
   "metadata": {},
   "outputs": [
    {
     "data": {
      "text/plain": [
       "['b', 'i', 'n']"
      ]
     },
     "execution_count": 3,
     "metadata": {},
     "output_type": "execute_result"
    }
   ],
   "source": [
    "# B \n",
    "\n",
    "my_name = 'hyobin'\n",
    "list_my_name = list(my_name) # list 형변환 \n",
    "\n",
    "pw_b = list_my_name[-3:]  # index 슬라이싱 \n",
    "pw_b"
   ]
  },
  {
   "cell_type": "code",
   "execution_count": 4,
   "metadata": {},
   "outputs": [
    {
     "ename": "ValueError",
     "evalue": "'e' is not in list",
     "output_type": "error",
     "traceback": [
      "\u001b[1;31m---------------------------------------------------------------------------\u001b[0m",
      "\u001b[1;31mValueError\u001b[0m                                Traceback (most recent call last)",
      "\u001b[1;32m<ipython-input-4-2f1025b7020e>\u001b[0m in \u001b[0;36m<module>\u001b[1;34m\u001b[0m\n\u001b[0;32m      1\u001b[0m \u001b[1;31m# C\u001b[0m\u001b[1;33m\u001b[0m\u001b[1;33m\u001b[0m\u001b[1;33m\u001b[0m\u001b[0m\n\u001b[0;32m      2\u001b[0m \u001b[1;33m\u001b[0m\u001b[0m\n\u001b[1;32m----> 3\u001b[1;33m \u001b[0mpw_c\u001b[0m \u001b[1;33m=\u001b[0m \u001b[0mlist_my_name\u001b[0m\u001b[1;33m.\u001b[0m\u001b[0mindex\u001b[0m\u001b[1;33m(\u001b[0m\u001b[1;34m'e'\u001b[0m\u001b[1;33m)\u001b[0m \u001b[1;31m# index 로 ('n') 위치 찾기\u001b[0m\u001b[1;33m\u001b[0m\u001b[1;33m\u001b[0m\u001b[0m\n\u001b[0m",
      "\u001b[1;31mValueError\u001b[0m: 'e' is not in list"
     ]
    }
   ],
   "source": [
    "# C \n",
    "\n",
    "pw_c = list_my_name.index('e') # index 로 ('n') 위치 찾기 "
   ]
  },
  {
   "cell_type": "code",
   "execution_count": 5,
   "metadata": {},
   "outputs": [
    {
     "data": {
      "text/plain": [
       "int"
      ]
     },
     "execution_count": 5,
     "metadata": {},
     "output_type": "execute_result"
    },
    {
     "data": {
      "text/plain": [
       "6"
      ]
     },
     "execution_count": 5,
     "metadata": {},
     "output_type": "execute_result"
    }
   ],
   "source": [
    "# d \n",
    "\n",
    "my_name = 'hyobin'\n",
    "\n",
    "pw_d = len(my_name) # len() 길이 가 int 로 자동형변환 \n",
    "\n",
    "type(pw_d)\n",
    "pw_d"
   ]
  },
  {
   "cell_type": "code",
   "execution_count": 8,
   "metadata": {},
   "outputs": [
    {
     "data": {
      "text/plain": [
       "5"
      ]
     },
     "execution_count": 8,
     "metadata": {},
     "output_type": "execute_result"
    },
    {
     "data": {
      "text/plain": [
       "'=============================='"
      ]
     },
     "execution_count": 8,
     "metadata": {},
     "output_type": "execute_result"
    },
    {
     "name": "stdout",
     "output_type": "stream",
     "text": [
      "출력값 http://portal.suwon.ac.kr의 비밀번호는  ['o', 'u', 'r']5['B', 'I', 'N']! 입니다.\n"
     ]
    },
    {
     "data": {
      "text/plain": [
       "'=============================='"
      ]
     },
     "execution_count": 8,
     "metadata": {},
     "output_type": "execute_result"
    }
   ],
   "source": [
    "pw_e = pw_d -1 \n",
    "\n",
    "pw_e\n",
    "\n",
    "passward = str(pw_a).lower() + str(pw_e) + str(pw_b).upper() + '!'\n",
    "\n",
    "\n",
    "\n",
    "'='*30 \n",
    "\n",
    "'출력값 http://portal.suwon.ac.kr의 비밀번호는  {} 입니다.'.format(passward)\n",
    "\n",
    "'='*30 "
   ]
  },
  {
   "cell_type": "markdown",
   "metadata": {},
   "source": [
    "## 문제 에서 [ 'e’가 없으면  -1 반환 ] 를 이해하지 못해서 그냥 pw_c =  -1 로 했습니다... \n",
    "## 만약 잘못되었다면 풀이과정에서 답변 부탁드립니다 !! "
   ]
  },
  {
   "cell_type": "code",
   "execution_count": null,
   "metadata": {},
   "outputs": [],
   "source": []
  },
  {
   "cell_type": "code",
   "execution_count": null,
   "metadata": {},
   "outputs": [],
   "source": []
  }
 ],
 "metadata": {
  "kernelspec": {
   "display_name": "Python 3",
   "language": "python",
   "name": "python3"
  },
  "language_info": {
   "codemirror_mode": {
    "name": "ipython",
    "version": 3
   },
   "file_extension": ".py",
   "mimetype": "text/x-python",
   "name": "python",
   "nbconvert_exporter": "python",
   "pygments_lexer": "ipython3",
   "version": "3.7.6"
  }
 },
 "nbformat": 4,
 "nbformat_minor": 4
}
