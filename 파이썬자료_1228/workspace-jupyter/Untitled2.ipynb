{
 "cells": [
  {
   "cell_type": "code",
   "execution_count": 37,
   "metadata": {},
   "outputs": [],
   "source": [
    "from IPython.core.interactiveshell import InteractiveShell\n",
    "InteractiveShell.ast_node_interactivity = \"all\"\n",
    "\n",
    "import numpy as np\n",
    "import pandas as pd\n",
    "import matplotlib\n",
    "import matplotlib.pyplot as plt\n",
    "import sys\n",
    "%matplotlib inline"
   ]
  },
  {
   "cell_type": "code",
   "execution_count": 38,
   "metadata": {},
   "outputs": [
    {
     "name": "stderr",
     "output_type": "stream",
     "text": [
      "C:\\Users\\Hyobin An\\anaconda3\\lib\\site-packages\\ipykernel_launcher.py:5: FutureWarning: elementwise comparison failed; returning scalar instead, but in the future will perform elementwise comparison\n",
      "  \"\"\"\n"
     ]
    }
   ],
   "source": [
    "df = pd.read_csv('https://archive.ics.uci.edu/ml/machine-learning-databases/iris/iris.data' , header = None)\n",
    "\n",
    "X = df.iloc[0:100 , [0,2] ].values \n",
    "Y = df.iloc[0:100, 4].values\n",
    "Y = np.where( y == 'Iris-setosa', -1 , 1 )"
   ]
  },
  {
   "cell_type": "markdown",
   "metadata": {},
   "source": [
    "## 비용함수 , 경사하강법 아달린"
   ]
  },
  {
   "cell_type": "code",
   "execution_count": 33,
   "metadata": {
    "scrolled": true
   },
   "outputs": [
    {
     "ename": "SyntaxError",
     "evalue": "invalid syntax (<ipython-input-33-261f3e159003>, line 7)",
     "output_type": "error",
     "traceback": [
      "\u001b[1;36m  File \u001b[1;32m\"<ipython-input-33-261f3e159003>\"\u001b[1;36m, line \u001b[1;32m7\u001b[0m\n\u001b[1;33m    def fit(self , X ,y)\u001b[0m\n\u001b[1;37m                        ^\u001b[0m\n\u001b[1;31mSyntaxError\u001b[0m\u001b[1;31m:\u001b[0m invalid syntax\n"
     ]
    }
   ],
   "source": [
    "class Adline():\n",
    "    \n",
    "    def __init__ (self, eta=0.01 , n_iter=10 ):\n",
    "        self.eta = eta\n",
    "        self.n_iter = n_iter\n",
    "   \n",
    "    def fit(self , X ,y)\n",
    "        \n",
    "        self.w_ = np.zeros(1+X.shape[1])\n",
    "        self.cost = []\n",
    "        \n",
    "        for _ in range(self.n_iter):\n",
    "            \n",
    "            out_input = self.net_input(X)\n",
    "            error = ( y - output) \n",
    "            . \n",
    "            self.w_[1:] += self.eta * X.T.dot(error)\n",
    "            self.w_[0] += self.eta * error.sum() \n",
    "            \n",
    "            cost = (error**2).sum()/2.0\n",
    "            self.cost_.append(cost)\n",
    "            \n",
    "        return self\n",
    "    \n",
    "    def net_input ( self , X  ): # x*w 내적 \n",
    "        return np.dot(X,self.w_[1:]+self.w_[0]) # w_[0] 은 편향 \n",
    "    \n",
    "    def predict(self , X): # \n",
    "        return np.where(self.activation(X) >=0.0 , 1 , -1)"
   ]
  },
  {
   "cell_type": "markdown",
   "metadata": {},
   "source": [
    "## 확률적 경사하강법 아달린"
   ]
  },
  {
   "cell_type": "code",
   "execution_count": 34,
   "metadata": {},
   "outputs": [],
   "source": [
    "class Adaline(object):\n",
    "\n",
    "    def __init__ (self, eta=0.01 , n_iter=10 , random_state = 1):\n",
    "        self.eta = eta\n",
    "        self.n_iter = n_iter\n",
    "        self.random_state = random_state\n",
    "        \n",
    "    def fit(self , X ,y): # X , y 는 각각 100행을 갖는 array (= 100개의 샘플 )\n",
    "        \n",
    "        rgen = np.random.RandomState(self.random_state) # 일반화 ( self.random_state 값을 받음)\n",
    "        # 평균이 0이고 분산이 0.01 인 가중치 초기화. \n",
    "        self.w_ = rgen.normal( loc=0.0 , scale = 0.01 , size = 1+X.shape[1] )\n",
    "        self.cost_ = []\n",
    "        \n",
    "        for _ in range(self.n_iter): # 10번 돌리고 에러를 찾고 에러를 찾는다면 그 에러를 업데이트 함\n",
    "            \n",
    "            net_input = self.net_input(X)\n",
    "            output = self.activation(net_input)\n",
    "            error = ( y - output) \n",
    "            # 모든 샘플의 에러 와 모든샘플의 첫번째 feature 와 내적함. \n",
    "            self.w_[1:] += self.eta * X.T.dot(error) # self.eta * np.dot(X.T , error)\n",
    "            self.w_[0] += self.eta * error.sum() \n",
    "            \n",
    "            cost = (error**2).sum()/2.0\n",
    "            self.cost_.append(cost)\n",
    "            \n",
    "        return self\n",
    "\n",
    "            \n",
    "    def net_input ( self , X  ): # x*w 내적 \n",
    "        \" calculate net input\"\n",
    "        return np.dot(X,self.w_[1:]+self.w_[0]) # w_[0] 은 편향 \n",
    "    \n",
    "    def activation( self , X):\n",
    "        \" 선형 activation X입력하면 X 리턴\"\n",
    "        return X\n",
    "    \n",
    "    def predict(self , X): # \n",
    "        \"return class label after unit step\"\n",
    "        return np.where(self.activation(X) >=0.0 , 1 , -1)"
   ]
  },
  {
   "cell_type": "code",
   "execution_count": 40,
   "metadata": {},
   "outputs": [
    {
     "name": "stderr",
     "output_type": "stream",
     "text": [
      "C:\\Users\\Hyobin An\\anaconda3\\lib\\site-packages\\ipykernel_launcher.py:7: FutureWarning: elementwise comparison failed; returning scalar instead, but in the future will perform elementwise comparison\n",
      "  import sys\n"
     ]
    },
    {
     "ename": "TypeError",
     "evalue": "__init__() got an unexpected keyword argument 'n_tier'",
     "output_type": "error",
     "traceback": [
      "\u001b[1;31m---------------------------------------------------------------------------\u001b[0m",
      "\u001b[1;31mTypeError\u001b[0m                                 Traceback (most recent call last)",
      "\u001b[1;32m<ipython-input-40-d1f3e1f5e281>\u001b[0m in \u001b[0;36m<module>\u001b[1;34m\u001b[0m\n\u001b[0;32m     10\u001b[0m     \u001b[0mfig\u001b[0m \u001b[1;33m,\u001b[0m \u001b[0max\u001b[0m \u001b[1;33m=\u001b[0m \u001b[0mplt\u001b[0m\u001b[1;33m.\u001b[0m\u001b[0msubplots\u001b[0m\u001b[1;33m(\u001b[0m \u001b[0mnrows\u001b[0m \u001b[1;33m=\u001b[0m \u001b[1;36m1\u001b[0m \u001b[1;33m,\u001b[0m \u001b[0mncols\u001b[0m \u001b[1;33m=\u001b[0m \u001b[1;36m2\u001b[0m \u001b[1;33m,\u001b[0m \u001b[0mfigsize\u001b[0m\u001b[1;33m=\u001b[0m\u001b[1;33m(\u001b[0m\u001b[1;36m8\u001b[0m\u001b[1;33m,\u001b[0m\u001b[1;36m4\u001b[0m\u001b[1;33m)\u001b[0m\u001b[1;33m)\u001b[0m\u001b[1;33m\u001b[0m\u001b[1;33m\u001b[0m\u001b[0m\n\u001b[0;32m     11\u001b[0m \u001b[1;33m\u001b[0m\u001b[0m\n\u001b[1;32m---> 12\u001b[1;33m     \u001b[0madal\u001b[0m \u001b[1;33m=\u001b[0m \u001b[0mAdaline\u001b[0m\u001b[1;33m(\u001b[0m\u001b[0meta\u001b[0m\u001b[1;33m=\u001b[0m\u001b[1;36m0.01\u001b[0m \u001b[1;33m,\u001b[0m \u001b[0mn_tier\u001b[0m\u001b[1;33m=\u001b[0m\u001b[1;36m10\u001b[0m \u001b[1;33m)\u001b[0m\u001b[1;33m.\u001b[0m\u001b[0mfit\u001b[0m\u001b[1;33m(\u001b[0m\u001b[0mX\u001b[0m\u001b[1;33m,\u001b[0m\u001b[0my\u001b[0m\u001b[1;33m)\u001b[0m\u001b[1;33m\u001b[0m\u001b[1;33m\u001b[0m\u001b[0m\n\u001b[0m",
      "\u001b[1;31mTypeError\u001b[0m: __init__() got an unexpected keyword argument 'n_tier'"
     ]
    },
    {
     "data": {
      "image/png": "[encoded data removed]",
      "text/plain": [
       "<Figure size 576x288 with 2 Axes>"
      ]
     },
     "metadata": {
      "needs_background": "light"
     },
     "output_type": "display_data"
    }
   ],
   "source": [
    "from matplotlib import style\n",
    "\n",
    "if __name__ == '__main__':\n",
    "    \n",
    "    df = pd.read_csv('https://archive.ics.uci.edu/ml/machine-learning-databases/iris/iris.data' , header = None)\n",
    "    Y = df.iloc[0:100, 4].values\n",
    "    Y = np.where( y == 'Iris-setosa', -1 , 1 )\n",
    "    X = df.iloc[0:100 , [0,2] ].values \n",
    "    \n",
    "    fig , ax = plt.subplots( nrows = 1 , ncols = 2 , figsize=(8,4))\n",
    "    \n",
    "    adal = Adaline(eta=0.01 , n_tier=10 ).fit(X,y)"
   ]
  },
  {
   "cell_type": "code",
   "execution_count": null,
   "metadata": {},
   "outputs": [],
   "source": []
  }
 ],
 "metadata": {
  "kernelspec": {
   "display_name": "Python 3",
   "language": "python",
   "name": "python3"
  },
  "language_info": {
   "codemirror_mode": {
    "name": "ipython",
    "version": 3
   },
   "file_extension": ".py",
   "mimetype": "text/x-python",
   "name": "python",
   "nbconvert_exporter": "python",
   "pygments_lexer": "ipython3",
   "version": "3.7.6"
  }
 },
 "nbformat": 4,
 "nbformat_minor": 4
}
