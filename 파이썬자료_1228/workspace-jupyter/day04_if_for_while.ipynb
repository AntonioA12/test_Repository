{
 "cells": [
  {
   "cell_type": "markdown",
   "metadata": {},
   "source": [
    "# 제어문\n",
    "\n",
    "## 1 . If 문  ( 조건에 따라 분기하는 if문 ) \n",
    "\n",
    "- 단일조건일 때 ( 결과값이 True 또는 False 이여야 함 ) \n",
    "\n",
    "if <조건문>:\n",
    "\n",
    "    <코드블럭>\n",
    "    \n",
    " ex ) if 문을 이용해 변수 x 의 값이 90 보다 크거나 같으면 'Pass' 를 출력하는 코드 \n",
    "    \n"
   ]
  },
  {
   "cell_type": "code",
   "execution_count": null,
   "metadata": {},
   "outputs": [],
   "source": [
    "x=90\n",
    "if x>=90:\n",
    "    print('Pass')"
   ]
  },
  {
   "cell_type": "markdown",
   "metadata": {},
   "source": [
    "# 단일 조건 및 그 외 조건에 따른 분기 (if ~ else)\n",
    "\n",
    "if <조건문>:\n",
    "\n",
    "    <코드블럭1>\n",
    "    \n",
    "else \n",
    "    \n",
    "    <코드블럭2>\n",
    "\n",
    "예) 변수 x 데이터가 90보다 크거나 같으면 PASS , 90 보다 작으면 Fail 출력 "
   ]
  },
  {
   "cell_type": "code",
   "execution_count": 1,
   "metadata": {},
   "outputs": [
    {
     "name": "stdout",
     "output_type": "stream",
     "text": [
      "Fail\n"
     ]
    }
   ],
   "source": [
    "x=85\n",
    "if x>=90:\n",
    "    print('Pass')\n",
    "else:\n",
    "    print('Fail')\n",
    "    \n"
   ]
  },
  {
   "cell_type": "markdown",
   "metadata": {},
   "source": [
    "## 여러 조건 에 따른 분기 ( if ~ elif ~ else )\n",
    "\n",
    "if <조건문>:\n",
    "\n",
    "    <코드블럭1>\n",
    "    \n",
    "elif < 조건문>:\n",
    "\n",
    "    <코드블럭 2>\n",
    " \n",
    " else:\n",
    "     \n",
    "     <코드블럭3>"
   ]
  },
  {
   "cell_type": "markdown",
   "metadata": {},
   "source": [
    "- 변수 x 값이 90보다 크거나 같으면 A , 90 ~ 80 이면 B, 80 ~70 이면 C , 70 이하면 F 를 출력하시오 . \n",
    "- 숫자에 맞게 출력하라는 경고메세지를 추가하시오 "
   ]
  },
  {
   "cell_type": "code",
   "execution_count": null,
   "metadata": {},
   "outputs": [],
   "source": [
    "x=int(input('점수를 입력하십시오.'))\n",
    "\n",
    "if x >=90 :\n",
    "    print('A')\n",
    "elif 80 <= x <= 90 :\n",
    "    print('B')\n",
    "elif x >=70 :\n",
    "    print('C')\n",
    "else:\n",
    "    print('숫자를 정확히 입력하십시오.')\n",
    "    "
   ]
  },
  {
   "cell_type": "markdown",
   "metadata": {},
   "source": [
    "## 지정된 범위만큼 반복하는 for 문 \n",
    "\n",
    "- for ~ in 구조 \n",
    "\n",
    "for < 반복변수 > in < 반복횟수, 범위 >  : \n",
    "\n",
    "    < 코드블럭 > "
   ]
  },
  {
   "cell_type": "code",
   "execution_count": 1,
   "metadata": {},
   "outputs": [
    {
     "name": "stdout",
     "output_type": "stream",
     "text": [
      "0\n",
      "10\n",
      "1\n",
      "11\n",
      "2\n",
      "12\n",
      "3\n",
      "13\n",
      "4\n",
      "14\n",
      "5\n",
      "15\n"
     ]
    }
   ],
   "source": [
    "for a in [0,1,2,3,4,5]:\n",
    "    print(a)\n",
    "    print(a+10)"
   ]
  },
  {
   "cell_type": "code",
   "execution_count": 2,
   "metadata": {},
   "outputs": [
    {
     "name": "stdout",
     "output_type": "stream",
     "text": [
      "James\n",
      "Robert\n",
      "Lisa\n",
      "Mary\n"
     ]
    }
   ],
   "source": [
    "myFriends = ['James','Robert','Lisa','Mary']\n",
    "\n",
    "for myFriend in myFriends:\n",
    "    print(myFriend)"
   ]
  },
  {
   "cell_type": "markdown",
   "metadata": {},
   "source": [
    "## range  함수 \n",
    "\n",
    "- for x in range ( start 지점 , end 지점  , step 수 ) \n"
   ]
  },
  {
   "cell_type": "code",
   "execution_count": 3,
   "metadata": {},
   "outputs": [
    {
     "name": "stdout",
     "output_type": "stream",
     "text": [
      "0\n",
      "2\n",
      "4\n",
      "6\n",
      "8\n",
      "10\n",
      "12\n",
      "14\n",
      "16\n",
      "18\n"
     ]
    }
   ],
   "source": [
    "for x in range(0,20,2):\n",
    "    print(x)"
   ]
  },
  {
   "cell_type": "code",
   "execution_count": 6,
   "metadata": {
    "scrolled": true
   },
   "outputs": [
    {
     "name": "stdout",
     "output_type": "stream",
     "text": [
      "x, y\n",
      "x1 y1\n",
      "x1 y2\n",
      "x2 y1\n",
      "x2 y2\n"
     ]
    }
   ],
   "source": [
    "list_x = ['x1','x2']\n",
    "list_y = ['y1','y2']\n",
    "\n",
    "print(\"x, y\")\n",
    "\n",
    "for x in list_x:\n",
    "    for y in list_y:\n",
    "        print(x,y)"
   ]
  },
  {
   "cell_type": "code",
   "execution_count": 7,
   "metadata": {},
   "outputs": [],
   "source": [
    "names_a=['James','Robert','Lisa','Mary']\n",
    "score_a = [ 95 , 90 , 89 , 93 ]\n"
   ]
  },
  {
   "cell_type": "code",
   "execution_count": 11,
   "metadata": {},
   "outputs": [
    {
     "name": "stdout",
     "output_type": "stream",
     "text": [
      "James 95\n",
      "Robert 90\n",
      "Lisa 89\n",
      "Mary 93\n"
     ]
    }
   ],
   "source": [
    "for k in range(len(names_a)):\n",
    "    print(names_a[k],score_a[k])"
   ]
  },
  {
   "cell_type": "markdown",
   "metadata": {},
   "source": [
    "## 조건에 따라 반복하는 While문 \n",
    "\n",
    "- 반복 범위가 정해진 반복을 수행할 경우에는 for 문을 사용.\n",
    "\n",
    "- 반복 범위 없이 , 조건에 따라서 반복 수행여부를 하는 경우 while 문 사용 \n",
    "- break 필요 "
   ]
  },
  {
   "cell_type": "code",
   "execution_count": 1,
   "metadata": {},
   "outputs": [
    {
     "name": "stdout",
     "output_type": "stream",
     "text": [
      "우산 챙기지 마세요.\n"
     ]
    }
   ],
   "source": [
    "weather = \"맑음\"\n",
    "\n",
    "if weather == \"비\":\n",
    "    print(\"우산을 챙기세요\")\n",
    "else:\n",
    "    print(\"우산 챙기지 마세요.\")\n",
    "    "
   ]
  },
  {
   "cell_type": "code",
   "execution_count": 8,
   "metadata": {},
   "outputs": [
    {
     "name": "stdout",
     "output_type": "stream",
     "text": [
      "대기번호= 0\n",
      "대기번호= 1\n",
      "대기번호= 2\n"
     ]
    }
   ],
   "source": [
    "\n",
    "for waiting_no in range(3):\n",
    "    print(\"대기번호= {0}\".format(waiting_no))"
   ]
  },
  {
   "cell_type": "code",
   "execution_count": 12,
   "metadata": {},
   "outputs": [
    {
     "name": "stdout",
     "output_type": "stream",
     "text": [
      "재범 님, 커피가 준비되었습니다. 5 잔 남았습니다\n",
      "재범 님, 커피가 준비되었습니다. 4 잔 남았습니다\n",
      "재범 님, 커피가 준비되었습니다. 3 잔 남았습니다\n",
      "재범 님, 커피가 준비되었습니다. 2 잔 남았습니다\n",
      "재범 님, 커피가 준비되었습니다. 1 잔 남았습니다\n",
      " 커피 매진 \n"
     ]
    }
   ],
   "source": [
    "customer = \"재범\"\n",
    "index =5 \n",
    "\n",
    "while index >= 1 :\n",
    "    print( \"{0} 님, 커피가 준비되었습니다. {1} 잔 남았습니다\".format(customer,index))\n",
    "    index -= 1 \n",
    "    if index ==0 : \n",
    "        print( \" 커피 매진 \")\n",
    "        break"
   ]
  },
  {
   "cell_type": "markdown",
   "metadata": {},
   "source": [
    "## 컴프리헨션 \n",
    "\n",
    "- < 반복 실행문 > for < 반복변수 > in < 반복범위 > if < 조건문 > : "
   ]
  },
  {
   "cell_type": "code",
   "execution_count": 14,
   "metadata": {},
   "outputs": [
    {
     "name": "stdout",
     "output_type": "stream",
     "text": [
      "[1, 4, 9, 16, 25]\n"
     ]
    }
   ],
   "source": [
    "numbers = [1,2,3,4,5]\n",
    "square = [] \n",
    "\n",
    "for i in numbers:\n",
    "    square.append(i**2)\n",
    "    \n",
    "print(square)"
   ]
  },
  {
   "cell_type": "code",
   "execution_count": 15,
   "metadata": {},
   "outputs": [
    {
     "name": "stdout",
     "output_type": "stream",
     "text": [
      "[1, 4, 9, 16, 25]\n"
     ]
    }
   ],
   "source": [
    "numbers = [1,2,3,4,5]\n",
    "\n",
    "square2 = [ i **2 for i in numbers]\n",
    "    \n",
    "    \n",
    "print(square2)"
   ]
  },
  {
   "cell_type": "code",
   "execution_count": 16,
   "metadata": {},
   "outputs": [
    {
     "name": "stdout",
     "output_type": "stream",
     "text": [
      "[9, 16, 25]\n"
     ]
    }
   ],
   "source": [
    "numbers = [1,2,3,4,5]\n",
    "\n",
    "square2 = [ i **2 for i in numbers if i>=3 ] # i 가 3 이상인  numbers 만  i 에 들어가서 i **2  를 실행하라 \n",
    "                                               # 조건문 + 반복문 \n",
    "    \n",
    "    \n",
    "print(square2)"
   ]
  },
  {
   "cell_type": "markdown",
   "metadata": {},
   "source": [
    "## Quiz ) 당신은 kakao 서비스를 이용하는 택시 기사이다. \n",
    "-50명의 승객과 매칭 기회가 있을 때, 총 탑승 승객 수 를 구하는 프로그램을 작성하시오. \n",
    "\n",
    "-조건 1 - 승객별 운행 소요시간은 5~50분 사이의 난수 \n",
    "\n",
    "-조건 2 - 당신의 소요시간은 5 ~ 15분 사이의 승객만 매칭해야함 \n",
    "\n",
    "출력문 예제) \n",
    "\n",
    "[0] 1 번째 손님 ( 소요시간 15분)\n",
    "[0] 2 번째 손님 ( 소요시간 30 분 ) \n",
    "...\n",
    "[0] 50번쨰 손님 ( 소요시간 10분) \n",
    "총 탑승 승객 ; 2분 "
   ]
  },
  {
   "cell_type": "code",
   "execution_count": 22,
   "metadata": {},
   "outputs": [
    {
     "name": "stdout",
     "output_type": "stream",
     "text": [
      "[0] 1번째 손님 ( 소요시간 7분)\n",
      " [1] 2 번째 손님 (소요시간 50분)\n",
      "[0] 3번째 손님 ( 소요시간 12분)\n",
      " [1] 4 번째 손님 (소요시간 30분)\n",
      " [1] 5 번째 손님 (소요시간 31분)\n",
      " [1] 6 번째 손님 (소요시간 24분)\n",
      " [1] 7 번째 손님 (소요시간 44분)\n",
      " [1] 8 번째 손님 (소요시간 36분)\n",
      " [1] 9 번째 손님 (소요시간 44분)\n",
      "[0] 10번째 손님 ( 소요시간 5분)\n",
      "[0] 11번째 손님 ( 소요시간 13분)\n",
      " [1] 12 번째 손님 (소요시간 35분)\n",
      " [1] 13 번째 손님 (소요시간 29분)\n",
      " [1] 14 번째 손님 (소요시간 34분)\n",
      " [1] 15 번째 손님 (소요시간 35분)\n",
      " [1] 16 번째 손님 (소요시간 16분)\n",
      " [1] 17 번째 손님 (소요시간 43분)\n",
      "[0] 18번째 손님 ( 소요시간 10분)\n",
      " [1] 19 번째 손님 (소요시간 20분)\n",
      "[0] 20번째 손님 ( 소요시간 14분)\n",
      " [1] 21 번째 손님 (소요시간 48분)\n",
      "[0] 22번째 손님 ( 소요시간 5분)\n",
      " [1] 23 번째 손님 (소요시간 42분)\n",
      " [1] 24 번째 손님 (소요시간 19분)\n",
      " [1] 25 번째 손님 (소요시간 38분)\n",
      " [1] 26 번째 손님 (소요시간 42분)\n",
      "[0] 27번째 손님 ( 소요시간 5분)\n",
      " [1] 28 번째 손님 (소요시간 49분)\n",
      " [1] 29 번째 손님 (소요시간 45분)\n",
      "[0] 30번째 손님 ( 소요시간 15분)\n",
      " [1] 31 번째 손님 (소요시간 26분)\n",
      " [1] 32 번째 손님 (소요시간 47분)\n",
      " [1] 33 번째 손님 (소요시간 50분)\n",
      " [1] 34 번째 손님 (소요시간 34분)\n",
      " [1] 35 번째 손님 (소요시간 25분)\n",
      "[0] 36번째 손님 ( 소요시간 6분)\n",
      " [1] 37 번째 손님 (소요시간 20분)\n",
      " [1] 38 번째 손님 (소요시간 44분)\n",
      "[0] 39번째 손님 ( 소요시간 5분)\n",
      " [1] 40 번째 손님 (소요시간 37분)\n",
      " [1] 41 번째 손님 (소요시간 25분)\n",
      " [1] 42 번째 손님 (소요시간 19분)\n",
      " [1] 43 번째 손님 (소요시간 50분)\n",
      "[0] 44번째 손님 ( 소요시간 10분)\n",
      " [1] 45 번째 손님 (소요시간 48분)\n",
      " [1] 46 번째 손님 (소요시간 35분)\n",
      " [1] 47 번째 손님 (소요시간 32분)\n",
      " [1] 48 번째 손님 (소요시간 46분)\n",
      " [1] 49 번째 손님 (소요시간 49분)\n",
      " [1] 50 번째 손님 (소요시간 39분)\n",
      " 총 탑승 승객: 12분\n"
     ]
    }
   ],
   "source": [
    "from random import *\n",
    "\n",
    "count = 0 \n",
    "\n",
    "for i in range (1,51): # range(1,51) = 승객의 수 \n",
    "    time = randrange(5,51) # 5분 ~ 50분 소요시간 \n",
    "    if 5<= time <=15:\n",
    "        print(\"[0] {0}번째 손님 ( 소요시간 {1}분)\".format(i , time ))\n",
    "        count += 1 \n",
    "    else : \n",
    "        print(\" [1] {0} 번째 손님 (소요시간 {1}분)\".format(i , time))\n",
    "        \n",
    "print(' 총 탑승 승객: {0}분'.format(count))"
   ]
  },
  {
   "cell_type": "code",
   "execution_count": null,
   "metadata": {},
   "outputs": [],
   "source": []
  }
 ],
 "metadata": {
  "kernelspec": {
   "display_name": "Python 3",
   "language": "python",
   "name": "python3"
  },
  "language_info": {
   "codemirror_mode": {
    "name": "ipython",
    "version": 3
   },
   "file_extension": ".py",
   "mimetype": "text/x-python",
   "name": "python",
   "nbconvert_exporter": "python",
   "pygments_lexer": "ipython3",
   "version": "3.8.3"
  }
 },
 "nbformat": 4,
 "nbformat_minor": 4
}
