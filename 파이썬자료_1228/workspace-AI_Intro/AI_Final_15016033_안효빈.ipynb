{
 "cells": [
  {
   "cell_type": "code",
   "execution_count": 3,
   "metadata": {},
   "outputs": [],
   "source": [
    "from IPython.core.interactiveshell import InteractiveShell\n",
    "InteractiveShell.ast_node_interactivity = 'all'\n",
    "from collections import OrderedDict\n"
   ]
  },
  {
   "cell_type": "code",
   "execution_count": 4,
   "metadata": {},
   "outputs": [],
   "source": [
    "import sys, os\n",
    "import numpy as np\n",
    "import pandas as pd\n",
    "import seaborn as sn\n",
    "import matplotlib.pyplot as plt\n",
    "%matplotlib inline\n",
    "import matplotlib as mpl\n",
    "sn.set()\n",
    "\n",
    "import matplotlib.font_manager as fm\n",
    "fl = fm.FontProperties(fname =\"C:\\Windows\\Fonts\\malgun.ttf\").get_name()\n",
    "plt.rc('font',family=fl)\n",
    "\n",
    "from patsy import dmatrices\n",
    "import statsmodels.api as sm\n",
    "\n",
    "from statsmodels.stats.outliers_influence import variance_inflation_factor\n",
    "import statsmodels.formula.api as smf\n",
    "\n",
    "from mnist import load_mnist\n",
    "from PIL import Image\n",
    "import pickle\n"
   ]
  },
  {
   "cell_type": "markdown",
   "metadata": {},
   "source": [
    "## 인공지능 기말 프로젝트\n",
    "\n",
    "   1) output layer는 softmax 함수 값으로 정의\n",
    "\n",
    "  2) hidden layer는 최소 3개 이상, 각 layer의 neuron 개수는 임의로 설정\n",
    "\n",
    "  3) activation 함수는 Relu와 Sigmoid 에서 선택(혼합 가능)\n",
    "\n",
    "  4) 가중치 기울기(dw)는 오차역전파(backpropagation)를 이용해서 구함\n",
    "\n",
    "  5) 신경망 모형 학습 개선을 위한 보정 추가\n",
    "\n",
    "     - Regularization, dropout, optimizer(momentum, RMSprop, Adam), weight-initialization(He or Xavier), batch-normalization 등\n",
    "\n",
    "  6) Accuracy 결과 보고"
   ]
  },
  {
   "cell_type": "markdown",
   "metadata": {},
   "source": [
    "## 노말 - 오차역전파 "
   ]
  },
  {
   "cell_type": "code",
   "execution_count": 5,
   "metadata": {},
   "outputs": [],
   "source": [
    "from layers import *\n",
    "from gradient import numerical_gradient\n",
    "from collections import OrderedDict \n",
    "\n",
    "class FourLayerNet():    \n",
    "    def __init__(self, input_size, hidden_size_1,hidden_size_2, hidden_size_3  ,output_size, weight_init_std = 0.01):\n",
    "        \n",
    "        # 가중치 초기화 \n",
    "        self.params = {} \n",
    "        self.params['W1']=weight_init_std * np.random.randn(input_size, hidden_size_1)\n",
    "        self.params['b1']=np.zeros(hidden_size_1)\n",
    "        self.params['W2']=weight_init_std * np.random.randn(hidden_size_1, hidden_size_2)\n",
    "        self.params['b2']=np.zeros(hidden_size_2)\n",
    "        self.params['W3']=weight_init_std * np.random.randn(hidden_size_2, hidden_size_3)\n",
    "        self.params['b3']=np.zeros(hidden_size_3)      \n",
    "        self.params['W4']=weight_init_std * np.random.randn(hidden_size_3, output_size)\n",
    "        self.params['b4']=np.zeros(output_size)\n",
    "        \n",
    "        self.layers = OrderedDict()\n",
    "        self.layers['Affine1']=Affine(self.params['W1'],self.params['b1'])\n",
    "        self.layers['Relu']=Relu() \n",
    "        self.layers['Affine2']=Affine(self.params['W2'],self.params['b2'])\n",
    "        self.layers['Relu']=Relu()\n",
    "        self.layers['Affine3']=Affine(self.params['W3'],self.params['b3'])\n",
    "        self.layers['Relu']=Relu()    \n",
    "        self.layers['Affine4']=Affine(self.params['W4'],self.params['b4'])\n",
    "        self.layers['Relu']=Relu()\n",
    "        \n",
    "        self.lastlayer = SoftmaxWithLoss()   \n",
    "        \n",
    "    def predict(self,x):\n",
    "        for layer in self.layers.values():\n",
    "            x = layer.forward(x)           \n",
    "        return x    \n",
    "    \n",
    "    def loss(self, x, t):\n",
    "    \n",
    "        y = self.predict(x)\n",
    "        return self.lastlayer.forward(y,t)    \n",
    "    \n",
    "    def accuracy(self,x,t):\n",
    "        \n",
    "        y = self.predict(x)\n",
    "        y = np.argmax(y, axis = 1) # y값 중에서 가장큰 값의 위치를 찍게 됨.\n",
    "        if t.ndim != 1 : t=np.argmax(t,axis =1) # 타겟 벨류가 1이 아니면 , t=np.argmax(t,axis =1)\n",
    "        accuracy = np.sum(y == t)/float(x.shape[0])\n",
    "        return accuracy\n",
    "    \n",
    "    # 경사하강법 (dw) \n",
    "    def numerical_gradient(self, x, t):\n",
    "        \n",
    "        loss_W = lambda W : self.loss(x,t)\n",
    "        grads = {}\n",
    "        grads['W1'] = numerical_gradient(loss_W, self.params['W1'])\n",
    "        grads['b1'] = numerical_gradient(loss_W, self.params['b1'])\n",
    "        grads['W2'] = numerical_gradient(loss_W, self.params['W2'])\n",
    "        grads['b2'] = numerical_gradient(loss_W, self.params['b2'])\n",
    "        grads['W3'] = numerical_gradient(loss_W, self.params['W3'])\n",
    "        grads['b3'] = numerical_gradient(loss_W, self.params['b3'])\n",
    "        grads['W4'] = numerical_gradient(loss_W, self.params['W4'])\n",
    "        grads['b4'] = numerical_gradient(loss_W, self.params['b4'])  \n",
    "        return grads\n",
    "    \n",
    "    # 오차역전파 \n",
    "    def gradient(self, x, t):\n",
    "        \n",
    "            self.loss(x,t)\n",
    "            dout = 1\n",
    "            dout = self.lastlayer.backward(dout)            \n",
    "            layers = list(self.layers.values())\n",
    "            layers.reverse()\n",
    "            for layer in layers:\n",
    "                dout = layer.backward(dout)        \n",
    "            grads = {}\n",
    "            grads['W1'], grads['b1'] = self.layers['Affine1'].dW, self.layers['Affine1'].db\n",
    "            grads['W2'], grads['b2'] = self.layers['Affine2'].dW, self.layers['Affine2'].db\n",
    "            grads['W3'], grads['b3'] = self.layers['Affine3'].dW, self.layers['Affine3'].db\n",
    "            grads['W4'], grads['b4'] = self.layers['Affine4'].dW, self.layers['Affine4'].db  \n",
    "            return grads"
   ]
  },
  {
   "cell_type": "markdown",
   "metadata": {},
   "source": [
    "## 매개변수 갱신"
   ]
  },
  {
   "cell_type": "code",
   "execution_count": 6,
   "metadata": {},
   "outputs": [
    {
     "name": "stderr",
     "output_type": "stream",
     "text": [
      "C:\\Users\\Hyobin An\\anaconda3\\lib\\site-packages\\matplotlib\\backends\\backend_agg.py:211: RuntimeWarning: Glyph 8722 missing from current font.\n",
      "  font.set_text(s, 0.0, flags=flags)\n",
      "C:\\Users\\Hyobin An\\anaconda3\\lib\\site-packages\\matplotlib\\backends\\backend_agg.py:180: RuntimeWarning: Glyph 8722 missing from current font.\n",
      "  font.set_text(s, 0, flags=flags)\n"
     ]
    },
    {
     "data": {
      "image/png": "[encoded data removed]",
      "text/plain": [
       "<Figure size 432x288 with 4 Axes>"
      ]
     },
     "metadata": {},
     "output_type": "display_data"
    }
   ],
   "source": [
    "from collections import OrderedDict\n",
    "from optimizer import *\n",
    "\n",
    "\n",
    "class parameter(FourLayerNet):\n",
    "\n",
    "    def f(x, y):\n",
    "        return x**2 / 20.0 + y**2\n",
    "\n",
    "\n",
    "    def df(x, y):\n",
    "        return x / 10.0, 2.0*y\n",
    "\n",
    "    init_pos = (-7.0, 2.0)\n",
    "    params = {}\n",
    "    params['x'], params['y'] = init_pos[0], init_pos[1]\n",
    "    grads = {}\n",
    "    grads['x'], grads['y'] = 0, 0\n",
    "\n",
    "\n",
    "    optimizers = OrderedDict()\n",
    "    optimizers[\"SGD\"] = SGD(lr=0.95)\n",
    "    optimizers[\"Momentum\"] = Momentum(lr=0.1)\n",
    "    optimizers[\"AdaGrad\"] = AdaGrad(lr=1.5)\n",
    "    optimizers[\"Adam\"] = Adam(lr=0.3)\n",
    "\n",
    "    idx = 1\n",
    "\n",
    "    for key in optimizers:\n",
    "        optimizer = optimizers[key]\n",
    "        x_history = []\n",
    "        y_history = []\n",
    "        params['x'], params['y'] = init_pos[0], init_pos[1]\n",
    "\n",
    "        for i in range(30):\n",
    "            x_history.append(params['x'])\n",
    "            y_history.append(params['y'])\n",
    "\n",
    "            grads['x'], grads['y'] = df(params['x'], params['y'])\n",
    "            optimizer.update(params, grads)\n",
    "\n",
    "\n",
    "        x = np.arange(-10, 10, 0.01)\n",
    "        y = np.arange(-5, 5, 0.01)\n",
    "\n",
    "        X, Y = np.meshgrid(x, y) \n",
    "        Z = f(X, Y)\n",
    "\n",
    "        # 외곽선 단순화\n",
    "        mask = Z > 7\n",
    "        Z[mask] = 0\n",
    "\n",
    "        # 그래프 그리기\n",
    "        plt.subplot(2, 2, idx)\n",
    "        idx += 1\n",
    "        plt.plot(x_history, y_history, 'o-', color=\"red\")\n",
    "        plt.contour(X, Y, Z)\n",
    "        plt.ylim(-10, 10)\n",
    "        plt.xlim(-10, 10)\n",
    "        plt.plot(0, 0, '+')\n",
    "        #colorbar()\n",
    "        #spring()\n",
    "        plt.title(key)\n",
    "        plt.xlabel(\"x\")\n",
    "        plt.ylabel(\"y\")\n",
    "\n",
    "    plt.show()"
   ]
  },
  {
   "cell_type": "code",
   "execution_count": 75,
   "metadata": {},
   "outputs": [
    {
     "name": "stdout",
     "output_type": "stream",
     "text": [
      "(array([[0., 0., 0., ..., 0., 0., 0.],\n",
      "       [0., 0., 0., ..., 0., 0., 0.],\n",
      "       [0., 0., 0., ..., 0., 0., 0.],\n",
      "       ...,\n",
      "       [0., 0., 0., ..., 0., 0., 0.],\n",
      "       [0., 0., 0., ..., 0., 0., 0.],\n",
      "       [0., 0., 0., ..., 0., 0., 0.]], dtype=float32), array([[0., 0., 0., ..., 0., 0., 0.],\n",
      "       [1., 0., 0., ..., 0., 0., 0.],\n",
      "       [0., 0., 0., ..., 0., 0., 0.],\n",
      "       ...,\n",
      "       [0., 0., 0., ..., 0., 0., 0.],\n",
      "       [0., 0., 0., ..., 0., 0., 0.],\n",
      "       [0., 0., 0., ..., 0., 1., 0.]])) (array([[0., 0., 0., ..., 0., 0., 0.],\n",
      "       [0., 0., 0., ..., 0., 0., 0.],\n",
      "       [0., 0., 0., ..., 0., 0., 0.],\n",
      "       ...,\n",
      "       [0., 0., 0., ..., 0., 0., 0.],\n",
      "       [0., 0., 0., ..., 0., 0., 0.],\n",
      "       [0., 0., 0., ..., 0., 0., 0.]], dtype=float32), array([[0., 0., 0., ..., 1., 0., 0.],\n",
      "       [0., 0., 1., ..., 0., 0., 0.],\n",
      "       [0., 1., 0., ..., 0., 0., 0.],\n",
      "       ...,\n",
      "       [0., 0., 0., ..., 0., 0., 0.],\n",
      "       [0., 0., 0., ..., 0., 0., 0.],\n",
      "       [0., 0., 0., ..., 0., 0., 0.]]))\n"
     ]
    }
   ],
   "source": [
    "(x_train, t_train), (x_test, t_test) = load_mnist(normalize=True, one_hot_label=True)\n",
    "print((x_train, t_train), (x_test, t_test))"
   ]
  },
  {
   "cell_type": "markdown",
   "metadata": {},
   "source": [
    "## Mnist "
   ]
  },
  {
   "cell_type": "code",
   "execution_count": 20,
   "metadata": {},
   "outputs": [
    {
     "name": "stdout",
     "output_type": "stream",
     "text": [
      "Accuracy:0.9352\n"
     ]
    }
   ],
   "source": [
    "from functions import sigmoid, softmax\n",
    "\n",
    "def get_data():\n",
    "    (x_train, t_train), (x_test, t_test) = load_mnist(normalize=True, flatten=True, one_hot_label=False)\n",
    "    return x_test, t_test\n",
    "\n",
    "\n",
    "def init_network():\n",
    "    with open(\"sample_weight.pkl\", 'rb') as f:\n",
    "        network = pickle.load(f)\n",
    "    return network\n",
    "\n",
    "\n",
    "def predict(network, x):\n",
    "    w1, w2, w3 = network['W1'], network['W2'], network['W3']\n",
    "    b1, b2, b3 = network['b1'], network['b2'], network['b3']\n",
    "\n",
    "    a1 = np.dot(x, w1) + b1\n",
    "    z1 = sigmoid(a1)\n",
    "    a2 = np.dot(z1, w2) + b2\n",
    "    z2 = sigmoid(a2)\n",
    "    a3 = np.dot(z2, w3) + b3\n",
    "    y = softmax(a3)\n",
    "\n",
    "    return y\n",
    "\n",
    "\n",
    "x, t = get_data()\n",
    "network = init_network()\n",
    "\n",
    "batch_size = 100 # 배치 크기\n",
    "accuracy_cnt = 0\n",
    "\n",
    "for i in range(0, len(x), batch_size):\n",
    "    x_batch = x[i:i+batch_size]\n",
    "    y_batch = predict(network, x_batch)\n",
    "    p = np.argmax(y_batch, axis=1)\n",
    "    accuracy_cnt += np.sum(p == t[i:i+batch_size])\n",
    "\n",
    "print(\"Accuracy:\" + str(float(accuracy_cnt) / len(x)))"
   ]
  },
  {
   "cell_type": "markdown",
   "metadata": {},
   "source": [
    "## 드랍아웃"
   ]
  },
  {
   "cell_type": "code",
   "execution_count": null,
   "metadata": {},
   "outputs": [],
   "source": [
    "class Dropout:\n",
    "    \"\"\"\n",
    "    http://arxiv.org/abs/1207.0580\n",
    "    \"\"\"\n",
    "    def __init__(self, dropout_ratio=0.5):\n",
    "        self.dropout_ratio = dropout_ratio\n",
    "        self.mask = None\n",
    "\n",
    "    def forward(self, x, train_flg=True):\n",
    "        if train_flg:\n",
    "            self.mask = np.random.rand(*x.shape) > self.dropout_ratio\n",
    "            return x * self.mask\n",
    "        else:\n",
    "            return x * (1.0 - self.dropout_ratio)\n",
    "\n",
    "    def backward(self, dout):\n",
    "        return dout * self.mask"
   ]
  },
  {
   "cell_type": "code",
   "execution_count": 86,
   "metadata": {},
   "outputs": [
    {
     "name": "stdout",
     "output_type": "stream",
     "text": [
      "===========iteration:0===========\n",
      "SGD:2.400800831845862\n",
      "Momentum:2.408882935190614\n",
      "AdaGrad:1.9426886124364429\n",
      "Adam:2.2535763743087234\n",
      "===========iteration:100===========\n",
      "SGD:1.5527659475795517\n",
      "Momentum:0.5569801247657845\n",
      "AdaGrad:0.2677174109859749\n",
      "Adam:0.5091392494810931\n",
      "===========iteration:200===========\n",
      "SGD:0.8035687945739659\n",
      "Momentum:0.21367153784043275\n",
      "AdaGrad:0.07065634520897843\n",
      "Adam:0.13587865267370006\n",
      "===========iteration:300===========\n",
      "SGD:0.5518104607549176\n",
      "Momentum:0.24873913922388474\n",
      "AdaGrad:0.10530705909360705\n",
      "Adam:0.2240997282077867\n",
      "===========iteration:400===========\n",
      "SGD:0.4347615299242704\n",
      "Momentum:0.19728386391782593\n",
      "AdaGrad:0.10393937287792712\n",
      "Adam:0.10714881181655206\n",
      "===========iteration:500===========\n",
      "SGD:0.3698249366569321\n",
      "Momentum:0.18163563035642152\n",
      "AdaGrad:0.06312906492861128\n",
      "Adam:0.09435930793855671\n",
      "===========iteration:600===========\n",
      "SGD:0.32617399296240945\n",
      "Momentum:0.11400494356461163\n",
      "AdaGrad:0.04926964305704734\n",
      "Adam:0.06782263706415409\n",
      "===========iteration:700===========\n",
      "SGD:0.33651086361596905\n",
      "Momentum:0.15652790751859108\n",
      "AdaGrad:0.05674754530958699\n",
      "Adam:0.13247270184426477\n",
      "===========iteration:800===========\n",
      "SGD:0.46772930747209984\n",
      "Momentum:0.15894949248302812\n",
      "AdaGrad:0.08363111519213008\n",
      "Adam:0.10763052155106774\n",
      "===========iteration:900===========\n",
      "SGD:0.3298231150859392\n",
      "Momentum:0.09768144614522876\n",
      "AdaGrad:0.04633727053638267\n",
      "Adam:0.07918701678022999\n",
      "===========iteration:1000===========\n",
      "SGD:0.2745156373208225\n",
      "Momentum:0.08432372719450215\n",
      "AdaGrad:0.03585352508561426\n",
      "Adam:0.06872448769318737\n",
      "===========iteration:1100===========\n",
      "SGD:0.18035740103252937\n",
      "Momentum:0.029429450111614398\n",
      "AdaGrad:0.012319319468020364\n",
      "Adam:0.024865535848183764\n",
      "===========iteration:1200===========\n",
      "SGD:0.29866613802530473\n",
      "Momentum:0.09512323950021534\n",
      "AdaGrad:0.07020547265353481\n",
      "Adam:0.06283100513708623\n",
      "===========iteration:1300===========\n",
      "SGD:0.12751386083729965\n",
      "Momentum:0.04023941181917282\n",
      "AdaGrad:0.01311689664816019\n",
      "Adam:0.02936397087008271\n",
      "===========iteration:1400===========\n",
      "SGD:0.33330496475859256\n",
      "Momentum:0.09919094779679723\n",
      "AdaGrad:0.028352674878403504\n",
      "Adam:0.07446246098529521\n",
      "===========iteration:1500===========\n",
      "SGD:0.23198243280204034\n",
      "Momentum:0.06997200831955154\n",
      "AdaGrad:0.03809407752515312\n",
      "Adam:0.03625952123634395\n",
      "===========iteration:1600===========\n",
      "SGD:0.17762843469253334\n",
      "Momentum:0.054691940148733256\n",
      "AdaGrad:0.025642744417479983\n",
      "Adam:0.020274818863053445\n",
      "===========iteration:1700===========\n",
      "SGD:0.2030250409369777\n",
      "Momentum:0.0622163042431238\n",
      "AdaGrad:0.029415713126409872\n",
      "Adam:0.018947762571776747\n",
      "===========iteration:1800===========\n",
      "SGD:0.23205879594141712\n",
      "Momentum:0.07731681784413034\n",
      "AdaGrad:0.02908978155850878\n",
      "Adam:0.04111055895553873\n",
      "===========iteration:1900===========\n",
      "SGD:0.18226080342715306\n",
      "Momentum:0.07097593842803165\n",
      "AdaGrad:0.03144212547589713\n",
      "Adam:0.04298310277909271\n"
     ]
    },
    {
     "data": {
      "text/plain": [
       "[<matplotlib.lines.Line2D at 0x208376b4448>]"
      ]
     },
     "execution_count": 86,
     "metadata": {},
     "output_type": "execute_result"
    },
    {
     "data": {
      "text/plain": [
       "[<matplotlib.lines.Line2D at 0x208068a59c8>]"
      ]
     },
     "execution_count": 86,
     "metadata": {},
     "output_type": "execute_result"
    },
    {
     "data": {
      "text/plain": [
       "[<matplotlib.lines.Line2D at 0x208374e0d48>]"
      ]
     },
     "execution_count": 86,
     "metadata": {},
     "output_type": "execute_result"
    },
    {
     "data": {
      "text/plain": [
       "[<matplotlib.lines.Line2D at 0x20806b66dc8>]"
      ]
     },
     "execution_count": 86,
     "metadata": {},
     "output_type": "execute_result"
    },
    {
     "data": {
      "text/plain": [
       "Text(0.5, 0, 'iterations')"
      ]
     },
     "execution_count": 86,
     "metadata": {},
     "output_type": "execute_result"
    },
    {
     "data": {
      "text/plain": [
       "Text(0, 0.5, 'loss')"
      ]
     },
     "execution_count": 86,
     "metadata": {},
     "output_type": "execute_result"
    },
    {
     "data": {
      "text/plain": [
       "(0, 1)"
      ]
     },
     "execution_count": 86,
     "metadata": {},
     "output_type": "execute_result"
    },
    {
     "data": {
      "text/plain": [
       "<matplotlib.legend.Legend at 0x20806b668c8>"
      ]
     },
     "execution_count": 86,
     "metadata": {},
     "output_type": "execute_result"
    },
    {
     "data": {
      "image/png": "[encoded data removed]",
      "text/plain": [
       "<Figure size 432x288 with 1 Axes>"
      ]
     },
     "metadata": {},
     "output_type": "display_data"
    }
   ],
   "source": [
    "from util import smooth_curve\n",
    "from multi_layer_net import MultiLayerNet\n",
    "from optimizer import *\n",
    "\n",
    "\n",
    "# 0. MNIST 데이터 읽기==========\n",
    "(x_train, t_train), (x_test, t_test) = load_mnist(normalize=True)\n",
    "\n",
    "train_size = x_train.shape[0]\n",
    "batch_size = 128\n",
    "max_iterations = 2000\n",
    "\n",
    "\n",
    "# 1. 실험용 설정==========\n",
    "optimizers = {}\n",
    "optimizers['SGD'] = SGD()\n",
    "optimizers['Momentum'] = Momentum()\n",
    "optimizers['AdaGrad'] = AdaGrad()\n",
    "optimizers['Adam'] = Adam()\n",
    "#optimizers['RMSprop'] = RMSprop()\n",
    "\n",
    "networks = {}\n",
    "train_loss = {}\n",
    "for key in optimizers.keys():\n",
    "    networks[key] = MultiLayerNet(\n",
    "        input_size=784, hidden_size_list=[100, 100, 100, 100],\n",
    "        output_size=10)\n",
    "    train_loss[key] = []    \n",
    "\n",
    "\n",
    "# 2. 훈련 시작==========\n",
    "for i in range(max_iterations):\n",
    "    batch_mask = np.random.choice(train_size, batch_size)\n",
    "    x_batch = x_train[batch_mask]\n",
    "    t_batch = t_train[batch_mask]\n",
    "    \n",
    "    for key in optimizers.keys():\n",
    "        grads = networks[key].gradient(x_batch, t_batch)\n",
    "        optimizers[key].update(networks[key].params, grads)\n",
    "    \n",
    "        loss = networks[key].loss(x_batch, t_batch)\n",
    "        train_loss[key].append(loss)\n",
    "    \n",
    "    if i % 100 == 0:\n",
    "        print( \"===========\" + \"iteration:\" + str(i) + \"===========\")\n",
    "        for key in optimizers.keys():\n",
    "            loss = networks[key].loss(x_batch, t_batch)\n",
    "            print(key + \":\" + str(loss))\n",
    "\n",
    "\n",
    "# 3. 그래프 그리기==========\n",
    "markers = {\"SGD\": \"o\", \"Momentum\": \"x\", \"AdaGrad\": \"s\", \"Adam\": \"D\"}\n",
    "x = np.arange(max_iterations)\n",
    "for key in optimizers.keys():\n",
    "    plt.plot(x, smooth_curve(train_loss[key]), marker=markers[key], markevery=100, label=key)\n",
    "plt.xlabel(\"iterations\")\n",
    "plt.ylabel(\"loss\")\n",
    "plt.ylim(0, 1)\n",
    "plt.legend()\n",
    "plt.show()"
   ]
  },
  {
   "cell_type": "markdown",
   "metadata": {},
   "source": [
    "## 모멘텀"
   ]
  },
  {
   "cell_type": "code",
   "execution_count": null,
   "metadata": {},
   "outputs": [],
   "source": [
    "from optimizer import *\n",
    "from mnist import load_mnist\n",
    "\n",
    "(x_train, t_train), (x_test, t_test)= load_mnist(normalize =True, one_hot_label = True)\n",
    "\n",
    "# 다중신경망 클래스는 기존 오차역전파 만 사용한 클래스 로 사용한다. \n",
    "\n",
    "network = FourLayerNet(input_size = 784, hidden_size_1 = 300,hidden_size_2 = 100, hidden_size_3 = 100 , output_size = 10)\n",
    "iters_num = 2000\n",
    "train_size = x_train.shape[0]\n",
    "batch_size = 100\n",
    "learning_rate = 0.01\n",
    "momentum = 0.9\n",
    "v = None\n",
    "\n",
    "train_loss_list = []\n",
    "train_acc_list = []\n",
    "test_acc_list = []\n",
    "\n",
    "iter_per_epoch = max(train_size / batch_size , 1)\n",
    "plt_x5 = []\n",
    "plt_y5 = []\n",
    "\n",
    "# 모멘텀 \n",
    "\n",
    "for i in range(iters_num):\n",
    "    batch_mask = np.random.choice(train_size, batch_size)\n",
    "    x_batch = x_train[batch_mask]\n",
    "    t_batch = t_train[batch_mask]\n",
    "    \n",
    "    grad = network.gradient(x_batch, t_batch) \n",
    "    \n",
    "    if v is None:\n",
    "        v = {}\n",
    "        for key, val in network.params.items():\n",
    "            v[key] = np.zeros_like(val)\n",
    "    for key in ('W1','b1','W2','b2','W3','b3','W4','b4'):\n",
    "        v[key] = momentum * v[key] - learning_rate * grad[key]\n",
    "        network.params[key] += v[key]\n",
    "        \n",
    "    loss = network.loss(x_batch, t_batch)\n",
    "    train_loss_list.append(loss)\n",
    "    \n",
    "    if i % iter_per_epoch == 0:\n",
    "        train_acc = network.accuracy(x_train, t_train)\n",
    "        test_acc = network.accuracy(x_test, t_test)\n",
    "        train_acc_list.append(train_acc)\n",
    "        test_acc_list.append(test_acc)\n",
    "        plt_x5.append(train_acc)\n",
    "        plt_y5.append(test_acc)\n",
    "        print('트레이닝 결과값=', train_acc.round(3), '테스트_결과값=',test_acc.round(3))"
   ]
  },
  {
   "cell_type": "markdown",
   "metadata": {},
   "source": [
    "## 미니배치"
   ]
  },
  {
   "cell_type": "code",
   "execution_count": 87,
   "metadata": {},
   "outputs": [
    {
     "ename": "TypeError",
     "evalue": "__init__() got an unexpected keyword argument 'hidden_size'",
     "output_type": "error",
     "traceback": [
      "\u001b[1;31m---------------------------------------------------------------------------\u001b[0m",
      "\u001b[1;31mTypeError\u001b[0m                                 Traceback (most recent call last)",
      "\u001b[1;32m<ipython-input-87-8a37912ea9d7>\u001b[0m in \u001b[0;36m<module>\u001b[1;34m\u001b[0m\n\u001b[0;32m      7\u001b[0m \u001b[1;33m(\u001b[0m\u001b[0mx_train\u001b[0m\u001b[1;33m,\u001b[0m \u001b[0mt_train\u001b[0m\u001b[1;33m)\u001b[0m\u001b[1;33m,\u001b[0m \u001b[1;33m(\u001b[0m\u001b[0mx_test\u001b[0m\u001b[1;33m,\u001b[0m \u001b[0mt_test\u001b[0m\u001b[1;33m)\u001b[0m \u001b[1;33m=\u001b[0m \u001b[0mload_mnist\u001b[0m\u001b[1;33m(\u001b[0m\u001b[0mnormalize\u001b[0m\u001b[1;33m=\u001b[0m\u001b[1;32mTrue\u001b[0m\u001b[1;33m,\u001b[0m \u001b[0mone_hot_label\u001b[0m\u001b[1;33m=\u001b[0m\u001b[1;32mTrue\u001b[0m\u001b[1;33m)\u001b[0m\u001b[1;33m\u001b[0m\u001b[1;33m\u001b[0m\u001b[0m\n\u001b[0;32m      8\u001b[0m \u001b[1;33m\u001b[0m\u001b[0m\n\u001b[1;32m----> 9\u001b[1;33m \u001b[0mnetwork\u001b[0m \u001b[1;33m=\u001b[0m \u001b[0mTwoLayerNet\u001b[0m\u001b[1;33m(\u001b[0m\u001b[0minput_size\u001b[0m\u001b[1;33m=\u001b[0m\u001b[1;36m784\u001b[0m\u001b[1;33m,\u001b[0m \u001b[0mhidden_size\u001b[0m\u001b[1;33m=\u001b[0m\u001b[1;36m50\u001b[0m\u001b[1;33m,\u001b[0m \u001b[0moutput_size\u001b[0m\u001b[1;33m=\u001b[0m\u001b[1;36m10\u001b[0m\u001b[1;33m)\u001b[0m\u001b[1;33m\u001b[0m\u001b[1;33m\u001b[0m\u001b[0m\n\u001b[0m\u001b[0;32m     10\u001b[0m \u001b[1;33m\u001b[0m\u001b[0m\n\u001b[0;32m     11\u001b[0m \u001b[1;31m# 하이퍼파라미터\u001b[0m\u001b[1;33m\u001b[0m\u001b[1;33m\u001b[0m\u001b[1;33m\u001b[0m\u001b[0m\n",
      "\u001b[1;31mTypeError\u001b[0m: __init__() got an unexpected keyword argument 'hidden_size'"
     ]
    }
   ],
   "source": [
    "import sys, os\n",
    "sys.path.append(os.pardir)  # 부모 디렉터리의 파일을 가져올 수 있도록 설정\n",
    "import numpy as np\n",
    "import matplotlib.pyplot as plt\n",
    "\n",
    "# 데이터 읽기\n",
    "(x_train, t_train), (x_test, t_test) = load_mnist(normalize=True, one_hot_label=True)\n",
    "\n",
    "network = TwoLayerNet(input_size=784, hidden_size=50, output_size=10)\n",
    "\n",
    "# 하이퍼파라미터\n",
    "iters_num = 10000  # 반복 횟수를 적절히 설정한다.\n",
    "train_size = x_train.shape[0]\n",
    "batch_size = 100   # 미니배치 크기\n",
    "learning_rate = 0.1\n",
    "\n",
    "train_loss_list = []\n",
    "train_acc_list = []\n",
    "test_acc_list = []\n",
    "\n",
    "# 1에폭당 반복 수\n",
    "iter_per_epoch = max(train_size / batch_size, 1)\n",
    "\n",
    "for i in range(iters_num):\n",
    "    # 미니배치 획득\n",
    "    batch_mask = np.random.choice(train_size, batch_size)\n",
    "    x_batch = x_train[batch_mask]\n",
    "    t_batch = t_train[batch_mask]\n",
    "    \n",
    "    # 기울기 계산\n",
    "    #grad = network.numerical_gradient(x_batch, t_batch)\n",
    "    grad = network.gradient(x_batch, t_batch)\n",
    "    \n",
    "    # 매개변수 갱신\n",
    "    for key in ('W1', 'b1', 'W2', 'b2'):\n",
    "        network.params[key] -= learning_rate * grad[key]\n",
    "    \n",
    "    # 학습 경과 기록\n",
    "    loss = network.loss(x_batch, t_batch)\n",
    "    train_loss_list.append(loss)\n",
    "    \n",
    "    # 1에폭당 정확도 계산\n",
    "    if i % iter_per_epoch == 0:\n",
    "        train_acc = network.accuracy(x_train, t_train)\n",
    "        test_acc = network.accuracy(x_test, t_test)\n",
    "        train_acc_list.append(train_acc)\n",
    "        test_acc_list.append(test_acc)\n",
    "        print(\"train acc, test acc | \" + str(train_acc) + \", \" + str(test_acc))\n",
    "\n",
    "# 그래프 그리기\n",
    "markers = {'train': 'o', 'test': 's'}\n",
    "x = np.arange(len(train_acc_list))\n",
    "plt.plot(x, train_acc_list, label='train acc')\n",
    "plt.plot(x, test_acc_list, label='test acc', linestyle='--')\n",
    "plt.xlabel(\"epochs\")\n",
    "plt.ylabel(\"accuracy\")\n",
    "plt.ylim(0, 1.0)\n",
    "plt.legend(loc='lower right')\n",
    "plt.show()"
   ]
  },
  {
   "cell_type": "code",
   "execution_count": null,
   "metadata": {},
   "outputs": [],
   "source": []
  }
 ],
 "metadata": {
  "kernelspec": {
   "display_name": "Python 3 (ipykernel)",
   "language": "python",
   "name": "python3"
  },
  "language_info": {
   "codemirror_mode": {
    "name": "ipython",
    "version": 3
   },
   "file_extension": ".py",
   "mimetype": "text/x-python",
   "name": "python",
   "nbconvert_exporter": "python",
   "pygments_lexer": "ipython3",
   "version": "3.9.13"
  }
 },
 "nbformat": 4,
 "nbformat_minor": 4
}
