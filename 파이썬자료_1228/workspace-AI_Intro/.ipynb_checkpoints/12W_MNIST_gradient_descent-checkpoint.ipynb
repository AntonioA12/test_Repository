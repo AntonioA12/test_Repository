{
 "cells": [
  {
   "cell_type": "code",
   "execution_count": 142,
   "metadata": {},
   "outputs": [],
   "source": [
    "from IPython.core.interactiveshell import InteractiveShell\n",
    "InteractiveShell.ast_node_interactivity = 'all'\n",
    "\n",
    "import numpy as np\n",
    "import pandas as pd\n",
    "import matplotlib.pyplot as plt\n",
    "%matplotlib inline"
   ]
  },
  {
   "cell_type": "markdown",
   "metadata": {},
   "source": [
    "# 데이터 주도 학습\n",
    "\n",
    "- 규칙을 사람이 만드는 방식에서 기계가 데이터로부터 배우는 방식으로의 패러다임 전환\n",
    "- 딥러닝을 종단간 기계학습(end-to-end-machine learning)이라고 함\n",
    "- 범용 능력을 제대로 평가하기 위해 훈련데이터와 시험데이터를 분리(8:2)\n",
    "- 한 데이터셋에만 지나치게 최적화된 상태를 오버피팅(overfitting)이라고 함\n",
    "\n",
    "===========================================================================\n",
    "\n",
    "# 손실함수\n",
    "\n",
    "- 실제 값과 예측 값과의 차이를 이용한 함수로 평균제곱오차(RMSE)와 교차 엔트로피(cross-entropy) 오차를 주로 사용\n",
    "\n",
    "## Mean Square Error(MSE)\n",
    "$$E=\\frac{1}{2}\\sigma_k(y_k-t_k)^2$$\n",
    "$y_k$: 신경망의 출력, $t_k$: 정답 레이블, $k$: 데이터의 차원 수\n",
    "\n",
    "한 원소만 1로 하고 그 외는 0으로 나타내는 표기법은 원-핫 인코딩이라고 함"
   ]
  },
  {
   "cell_type": "code",
   "execution_count": 143,
   "metadata": {},
   "outputs": [
    {
     "data": {
      "text/plain": [
       "2.4000000000000004"
      ]
     },
     "execution_count": 143,
     "metadata": {},
     "output_type": "execute_result"
    }
   ],
   "source": [
    "y = [ 0.1 , 0.2 , 0.6 , 1.2 , 1.3 , 1.1 , 0.8 , 0.9]\n",
    "t = [ 0 , 0 , 0 , 1 , 0 , 0 , 0 , 0 ]\n",
    "\n",
    "\n",
    "def MSE(y,t):\n",
    "    return 0.5 * np.sum((y-t)**2)\n",
    "\n",
    "MSE( np.array(y) , np.array(t))"
   ]
  },
  {
   "cell_type": "markdown",
   "metadata": {},
   "source": [
    "###  교차 엔트로피 오차\n",
    "$$E =-\\Sigma_k t_k long y_k$$"
   ]
  },
  {
   "cell_type": "code",
   "execution_count": 146,
   "metadata": {},
   "outputs": [
    {
     "data": {
      "text/plain": [
       "-0.1823216401272845"
      ]
     },
     "execution_count": 146,
     "metadata": {},
     "output_type": "execute_result"
    }
   ],
   "source": [
    "def cross_entropy_error(y,t):\n",
    "    delta = 1e-7 \n",
    "    return -np.sum(t * np.log(y+delta))\n",
    "\n",
    "cross_entropy_error( np.array(y) , np.array(t))"
   ]
  },
  {
   "cell_type": "markdown",
   "metadata": {},
   "source": [
    "## 미니배치 학습 \n",
    "\n",
    "- 교차 엔트로피의 경우\n",
    "$$E =-\\frac{1}{N}\\Sigma_n\\Sigma_k t_k long y_{nk}$$\n",
    "데이터가 N개라면 $t_{nk}$는 $n$번째 데이터의 k번째 값을 의미\n",
    "- 마지막에 N을 나눠 줌으로써 평균 손실 함수 값을 구함\n",
    "- 이 일부를 미니배치라고 하고 무작위로 일부를 추출해 학습하는 것을 미니배치 학습이라고 함.\n",
    "\n",
    "```python\n",
    "np.random.choice(60000, 10)\n",
    "```"
   ]
  },
  {
   "cell_type": "code",
   "execution_count": 147,
   "metadata": {},
   "outputs": [
    {
     "name": "stdout",
     "output_type": "stream",
     "text": [
      "(60000, 784)\n",
      "(60000, 10)\n"
     ]
    }
   ],
   "source": [
    "from mnist import load_mnist\n",
    "\n",
    "(x_train , t_train) , ( x_test , t_test ) = load_mnist( normalize=False , one_hot_label=True )\n",
    "\n",
    "print(x_train.shape)\n",
    "print(t_train.shape)"
   ]
  },
  {
   "cell_type": "code",
   "execution_count": 148,
   "metadata": {},
   "outputs": [],
   "source": [
    "# 무작위로 10개 뽑기 \n",
    "\n",
    "train_size = x_train.shape[0] # 60000개 \n",
    "batch_size = 10\n",
    "\n",
    "batch_mask = np.random.choice( train_size , batch_size)\n",
    "x_batch = x_train[batch_mask]\n",
    "t_batch = t_train[batch_mask]"
   ]
  },
  {
   "cell_type": "code",
   "execution_count": 149,
   "metadata": {},
   "outputs": [
    {
     "data": {
      "text/plain": [
       "(10, 784)"
      ]
     },
     "execution_count": 149,
     "metadata": {},
     "output_type": "execute_result"
    },
    {
     "data": {
      "text/plain": [
       "array([25612,  1303, 52591, 16469, 38312, 21355,  1911,  9055, 30082,\n",
       "       36106])"
      ]
     },
     "execution_count": 149,
     "metadata": {},
     "output_type": "execute_result"
    }
   ],
   "source": [
    "x_batch.shape\n",
    "batch_mask"
   ]
  },
  {
   "cell_type": "code",
   "execution_count": 150,
   "metadata": {},
   "outputs": [],
   "source": [
    "# 배치용 교차 엔트로피 에러 \n",
    "\n",
    "def cross_entropy_error ( y, t ):\n",
    "    if y.ndim == 1:\n",
    "        t = t.reshape(1, t.size)\n",
    "        y = y.reshape(1, y.size)\n",
    "        \n",
    "    # 훈련 데이터가 원-핫 벡터라면 정답 레이블의 인덱스로 반환\n",
    "    if t.size == y.size:\n",
    "        t = t.argmax(axis=1)\n",
    "             \n",
    "    batch_size = y.shape[0]\n",
    "    return -np.sum(np.log(y[np.arange(batch_size), t] + 1e-7)) / batch_size"
   ]
  },
  {
   "cell_type": "markdown",
   "metadata": {},
   "source": [
    "## 수치 미분 \n",
    "\n",
    "    - 경사법에서는 기울기 값을 기준으로 나아갈 방향을 정함\n",
    "    - 수치미분: 아주 작은 차분으로 미분하는것\n",
    "            - 편미분(partial derivative)\n",
    "            - gradient = 함수의 모든 변수의 편미분을 벡터로 정리한 것."
   ]
  },
  {
   "cell_type": "code",
   "execution_count": 151,
   "metadata": {},
   "outputs": [
    {
     "data": {
      "text/plain": [
       "Text(0.5, 0, 'x')"
      ]
     },
     "execution_count": 151,
     "metadata": {},
     "output_type": "execute_result"
    },
    {
     "data": {
      "text/plain": [
       "Text(0, 0.5, 'y')"
      ]
     },
     "execution_count": 151,
     "metadata": {},
     "output_type": "execute_result"
    },
    {
     "name": "stdout",
     "output_type": "stream",
     "text": [
      "0.1999999999990898\n"
     ]
    },
    {
     "data": {
      "text/plain": [
       "[<matplotlib.lines.Line2D at 0x17a99b51748>]"
      ]
     },
     "execution_count": 151,
     "metadata": {},
     "output_type": "execute_result"
    },
    {
     "data": {
      "text/plain": [
       "[<matplotlib.lines.Line2D at 0x17a99b96508>]"
      ]
     },
     "execution_count": 151,
     "metadata": {},
     "output_type": "execute_result"
    },
    {
     "data": {
      "image/png": "[encoded data removed]",
      "text/plain": [
       "<Figure size 432x288 with 1 Axes>"
      ]
     },
     "metadata": {
      "needs_background": "light"
     },
     "output_type": "display_data"
    }
   ],
   "source": [
    "\n",
    "def numerical_diff( f , x ):\n",
    "    h  = 1e-4 \n",
    "    return ( f ( x+h ) - f(x-h)) / (2*h) # 중간값 미분 \n",
    "\n",
    "\n",
    "        \n",
    "def function_1 (x):\n",
    "    return 0.01 * x**2 + 0.1*x\n",
    "\n",
    "def tangent_line( f, x):\n",
    "    d = numerical_diff( f , x)\n",
    "    print(d)\n",
    "    \n",
    "    y = f(x) - d*x\n",
    "    return lambda t: d*t +y \n",
    "\n",
    "x = np.arange(0.0 , 20.0 , 0.1)\n",
    "y = function_1(x)\n",
    "\n",
    "plt.xlabel('x')\n",
    "plt.ylabel('y')\n",
    "\n",
    "tf = tangent_line( function_1 , 5)\n",
    "y2 = tf(x)\n",
    "\n",
    "plt.plot( x, y)\n",
    "plt.plot( x, y2)\n",
    "plt.show()"
   ]
  },
  {
   "cell_type": "code",
   "execution_count": 167,
   "metadata": {},
   "outputs": [
    {
     "data": {
      "text/plain": [
       "<Figure size 432x288 with 0 Axes>"
      ]
     },
     "execution_count": 167,
     "metadata": {},
     "output_type": "execute_result"
    },
    {
     "data": {
      "text/plain": [
       "<matplotlib.quiver.Quiver at 0x17a98354c48>"
      ]
     },
     "execution_count": 167,
     "metadata": {},
     "output_type": "execute_result"
    },
    {
     "data": {
      "text/plain": [
       "(-2, 2)"
      ]
     },
     "execution_count": 167,
     "metadata": {},
     "output_type": "execute_result"
    },
    {
     "data": {
      "text/plain": [
       "(-2, 2)"
      ]
     },
     "execution_count": 167,
     "metadata": {},
     "output_type": "execute_result"
    },
    {
     "data": {
      "text/plain": [
       "Text(0.5, 0, 'x0')"
      ]
     },
     "execution_count": 167,
     "metadata": {},
     "output_type": "execute_result"
    },
    {
     "data": {
      "text/plain": [
       "Text(0, 0.5, 'x1')"
      ]
     },
     "execution_count": 167,
     "metadata": {},
     "output_type": "execute_result"
    },
    {
     "data": {
      "image/png": "[encoded data removed]",
      "text/plain": [
       "<Figure size 432x288 with 1 Axes>"
      ]
     },
     "metadata": {
      "needs_background": "light"
     },
     "output_type": "display_data"
    }
   ],
   "source": [
    "from mpl_toolkits.mplot3d import Axes3D\n",
    "\n",
    "\n",
    "def _numerical_gradient_no_batch(f, x):\n",
    "    h = 1e-4 # 0.0001\n",
    "    grad = np.zeros_like(x)\n",
    "    \n",
    "    for idx in range(x.size):\n",
    "        tmp_val = x[idx]\n",
    "        x[idx] = float(tmp_val) + h\n",
    "        fxh1 = f(x) # f(x+h)\n",
    "        \n",
    "        x[idx] = tmp_val - h \n",
    "        fxh2 = f(x) # f(x-h)\n",
    "        grad[idx] = (fxh1 - fxh2) / (2*h)\n",
    "        \n",
    "        x[idx] = tmp_val \n",
    "        \n",
    "    return grad\n",
    "\n",
    "def numerical_gradient(f, X):\n",
    "    if X.ndim == 1:\n",
    "        return _numerical_gradient_no_batch(f, X)\n",
    "    else:\n",
    "        grad = np.zeros_like(X)\n",
    "        \n",
    "        for idx, x in enumerate(X):\n",
    "            grad[idx] = _numerical_gradient_no_batch(f, x)\n",
    "        \n",
    "        return grad\n",
    "\n",
    "def function_2(x):\n",
    "    if x.ndim == 1:\n",
    "        return np.sum(x**2)\n",
    "    else:\n",
    "        return np.sum(x**2, axis = 1)\n",
    "    \n",
    "def tangent_line(f, x):\n",
    "    d = numerical_gradient(f, x)\n",
    "    print(d)\n",
    "    y = f(x) - d*x\n",
    "    return lambda t : d*t + y\n",
    "    \n",
    "if __name__ == '__main__':\n",
    "    x0 = np.arange(-2, 2.5, 0.25)\n",
    "    x1 = np.arange(-2, 2.5, 0.25)\n",
    "    X, Y =np.meshgrid(x0, x1)\n",
    "    \n",
    "    X = X.flatten()\n",
    "    Y = Y.flatten()\n",
    "    \n",
    "    grad = numerical_gradient(function_2, np.array([X,Y]).T).T\n",
    "    \n",
    "    plt.figure()\n",
    "    plt.quiver(X, Y, -grad[0], -grad[1], angles = 'xy', color = '#666666')\n",
    "    plt.xlim([-2,2])\n",
    "    plt.ylim([-2,2])\n",
    "    plt.xlabel('x0')\n",
    "    plt.ylabel('x1')\n",
    "    plt.grid()\n",
    "    plt.draw()\n",
    "    plt.show()\n",
    "    "
   ]
  },
  {
   "cell_type": "markdown",
   "metadata": {},
   "source": [
    "## 경사법(경사 하강법, gradinet descent method)\n",
    "\n",
    "- 기울기를 이용해 함수의 최솟값 (또는 가능한한 작은 값)을 찾으려는 것\n",
    "- 각 지점에서 함수의 값을 낮추는 방안을 제시하는 지표가 기울기가 가리키는 곳에 함수의 최솟값이 있는 것은 아님(안장점)\n",
    "- 하지만, 적어도 그 방향으로 가야만 함수의 값을 줄일 수 있음.\n",
    "\n",
    "$$x_0=x_0-\\eta \\frac{\\partial f}{\\partial x_0}$$\n",
    "$$x_1=x_1-\\eta \\frac{\\partial f}{\\partial x_1}$$\n",
    "$\\eta$: 학습률(learning rate)\n",
    "\n",
    "- 위 단계를 반복해서 시행\n",
    "- 학습률이 너무 크면 큰 값으로 발산하고 너무 작으면 갱신디 되지 않는 문제가 발생"
   ]
  },
  {
   "cell_type": "code",
   "execution_count": 168,
   "metadata": {},
   "outputs": [],
   "source": [
    "def gradient_descent( f, init_x , lr , step_num):\n",
    "    x = init_x\n",
    "    x_history = []\n",
    "\n",
    "    for i in range(step_num):\n",
    "        x_history.append( x.copy() )\n",
    "        grad = _numerical_gradient_no_batch( f, x )\n",
    "        x -= lr*grad # 포인트 \n",
    "        \n",
    "    return x , np.array(x_history)\n",
    "\n",
    "def function_2(x):\n",
    "    return x[0]**2 + x[1]**2\n",
    "\n",
    "init_x = np.array([4.0,4.0])\n",
    "lr =0.01\n",
    "step_num = 20\n",
    "x , x_history = gradient_descent( function_2 , init_x , lr=lr,step_num=step_num)"
   ]
  },
  {
   "cell_type": "code",
   "execution_count": 154,
   "metadata": {},
   "outputs": [
    {
     "data": {
      "text/plain": [
       "array([[4.        , 4.        ],\n",
       "       [3.92      , 3.92      ],\n",
       "       [3.8416    , 3.8416    ],\n",
       "       [3.764768  , 3.764768  ],\n",
       "       [3.68947264, 3.68947264],\n",
       "       [3.61568319, 3.61568319],\n",
       "       [3.54336952, 3.54336952],\n",
       "       [3.47250213, 3.47250213],\n",
       "       [3.40305209, 3.40305209],\n",
       "       [3.33499105, 3.33499105],\n",
       "       [3.26829123, 3.26829123],\n",
       "       [3.2029254 , 3.2029254 ],\n",
       "       [3.13886689, 3.13886689],\n",
       "       [3.07608956, 3.07608956],\n",
       "       [3.01456777, 3.01456777],\n",
       "       [2.95427641, 2.95427641],\n",
       "       [2.89519088, 2.89519088],\n",
       "       [2.83728706, 2.83728706],\n",
       "       [2.78054132, 2.78054132],\n",
       "       [2.7249305 , 2.7249305 ]])"
      ]
     },
     "execution_count": 154,
     "metadata": {},
     "output_type": "execute_result"
    }
   ],
   "source": [
    "x_history"
   ]
  },
  {
   "cell_type": "code",
   "execution_count": 155,
   "metadata": {},
   "outputs": [
    {
     "data": {
      "text/plain": [
       "[<matplotlib.lines.Line2D at 0x17a9995a548>]"
      ]
     },
     "execution_count": 155,
     "metadata": {},
     "output_type": "execute_result"
    },
    {
     "data": {
      "text/plain": [
       "[<matplotlib.lines.Line2D at 0x17a99909908>]"
      ]
     },
     "execution_count": 155,
     "metadata": {},
     "output_type": "execute_result"
    },
    {
     "data": {
      "text/plain": [
       "[<matplotlib.lines.Line2D at 0x17a999de188>]"
      ]
     },
     "execution_count": 155,
     "metadata": {},
     "output_type": "execute_result"
    },
    {
     "data": {
      "text/plain": [
       "Text(0.5, 0, 'X0')"
      ]
     },
     "execution_count": 155,
     "metadata": {},
     "output_type": "execute_result"
    },
    {
     "data": {
      "text/plain": [
       "Text(0, 0.5, 'X1')"
      ]
     },
     "execution_count": 155,
     "metadata": {},
     "output_type": "execute_result"
    },
    {
     "data": {
      "image/png": "[encoded data removed]",
      "text/plain": [
       "<Figure size 432x288 with 1 Axes>"
      ]
     },
     "metadata": {
      "needs_background": "light"
     },
     "output_type": "display_data"
    }
   ],
   "source": [
    "init_x = np.array([4.0,4.0])\n",
    "lr =0.01\n",
    "step_num = 20\n",
    "x , x_history = gradient_descent( function_2 , init_x , lr=0.1,step_num=20)\n",
    "\n",
    "\n",
    "plt.plot([-5,5],[0,0], '--b')\n",
    "plt.plot([0,0],[-5,5], '--r')\n",
    "plt.plot( x_history[:,0] , x_history[:,1] , 'o' )\n",
    "plt.xlabel('X0')\n",
    "plt.ylabel('X1')"
   ]
  },
  {
   "cell_type": "markdown",
   "metadata": {},
   "source": [
    "## 신경망에서의 기울기 \n",
    "\n",
    "    - 가중치 매개변수에 대한 손실함수의 기울기를 의미\n",
    "- 예를 들어 형상이 $2\\times3$ , 가중치가 $W$ , 손실함수가 $L$ 인 신경망의 경우 경사는 $\\frac{\\partial L}{\\partial W}$ 로 표현됨\n",
    "- $\\frac{\\partial L}{\\partial W}$ 의 형상은 $W$ 와 같음"
   ]
  },
  {
   "cell_type": "code",
   "execution_count": 175,
   "metadata": {},
   "outputs": [
    {
     "name": "stdout",
     "output_type": "stream",
     "text": [
      "[[-1.02277982 -0.24763487 -0.51650705]\n",
      " [ 1.80969986  1.0272445  -0.52047917]]\n",
      "[[ 0.30710733  0.24179118 -0.54889851]\n",
      " [ 0.460661    0.36268677 -0.82334777]]\n"
     ]
    }
   ],
   "source": [
    "# SImple Net \n",
    "\n",
    "from functions import softmax, cross_entropy_error \n",
    "from gradient import numerical_gradient\n",
    "\n",
    "class simpleNet:\n",
    "    def __init__(self):\n",
    "        self.W = np.random.randn(2,3) # 가중치 정규분포 초기화 \n",
    "        \n",
    "    def predict(self, x):\n",
    "        return np.dot(x, self.W)\n",
    "    \n",
    "    def loss(self , x, t):\n",
    "        z = self.predict(x)\n",
    "        y = softmax(z)\n",
    "        loss = cross_entropy_error(y,t)\n",
    "        \n",
    "        return loss\n",
    "    \n",
    "x = np.array([0.6,0.9])\n",
    "t = np.array([0,0,1])\n",
    "\n",
    "net = simpleNet()\n",
    "\n",
    "f = lambda w: net.loss(x,t)\n",
    "dw = numerical_gradient( f , net.W )\n",
    "\n",
    "print(net.W)\n",
    "print(dw)"
   ]
  },
  {
   "cell_type": "markdown",
   "metadata": {},
   "source": [
    "## 학습 알고리즘 구현\n",
    "\n",
    "- 신경망의 절차\n",
    "\n",
    "1) 미니배치 : 훈련 데이터 중 일부를 무작위로 가져와서 선별된 데이터 셋인 미니배치의 손실 함수를 줄이기 위한 목표 설정\n",
    "2) 기울기 산출 : 미니배치의 손실 함수 값을 줄이기 위해 각 가중치 매개변수의 기울기를 구함\n",
    "3) 매개변수 갱신 : 가중치 매개벼수를 기울기 방향으로 아주 조금 갱신\n",
    "4) 1~3 단계를 반복\n",
    "-- 데이터를 미니배치로 무작위로 선정하기 때문에 이름 **확률적 경사 하강법(Stochastic gradient descent, SGD)**이라 부름\n",
    "\n",
    "    - 더이상 반복되지 않을 때 까지"
   ]
  },
  {
   "cell_type": "code",
   "execution_count": 176,
   "metadata": {},
   "outputs": [],
   "source": [
    "# 2층 신경망 클래스 구현하기\n",
    "\n",
    "from functions import *\n",
    "from gradient import numerical_gradient\n",
    "\n",
    "class TwoLayerNet:\n",
    "    def __init__(self, input_size, hidden_size, output_size, weight_init_std = 0.01):\n",
    "        self.params = {} #dictionary 로 정의 하는게 좋음\n",
    "        self.params['W1'] = weight_init_std * np.random.randn(input_size, hidden_size)\n",
    "        self.params['b1'] = np.zeros(hidden_size)\n",
    "        self.params['W2'] = weight_init_std * np.random.randn(hidden_size, output_size)\n",
    "        self.params['b2'] = np.zeros(output_size)\n",
    "    \n",
    "    def predict(self, x):\n",
    "        W1, W2 = self.params['W1'],self.params['W2']\n",
    "        b1, b2 = self.params['b1'],self.params['b2']\n",
    "        \n",
    "        a1= np.dot(x, W1)+b1\n",
    "        z1 = sigmoid(a1)\n",
    "        a2=np.dot(z1, W2) + b2\n",
    "        y = softmax(a2)\n",
    "        \n",
    "        return y\n",
    "    # x : 입력 데이터, t : 정답 레이블\n",
    "    def loss(self, x, t):\n",
    "        y = self.predict(x)\n",
    "        return cross_entropy_error(y, t)\n",
    "\n",
    "    def accuracy(self, x, t):\n",
    "        y = self.predict(x)\n",
    "        y = np.argmax(y, axis = 1 )\n",
    "        t = np.argmax(t, axis = 1 )\n",
    "        \n",
    "        accuray = np.sum(y == t ) / float(x.shape[0])\n",
    "        return accuracy # 정답률\n",
    "    def numerical_gradient(self, x, t):\n",
    "        loss_W = lambda W: self.loss(x,t) # loss(W) 함수의 정의\n",
    "        grads={} # dictionary 로 정의\n",
    "        grads['W1'] = numerical_gradient(loss_W, self.params['W1'])\n",
    "        grads['b1'] = numerical_gradient(loss_W, self.params['b1'])\n",
    "        grads['W2'] = numerical_gradient(loss_W, self.params['W2'])\n",
    "        grads['b2'] = numerical_gradient(loss_W, self.params['b2'])\n",
    "        \n",
    "        return grads"
   ]
  },
  {
   "cell_type": "code",
   "execution_count": 177,
   "metadata": {},
   "outputs": [],
   "source": [
    "net =TwoLayerNet(input_size=784 , hidden_size=100 , output_size=10)"
   ]
  },
  {
   "cell_type": "code",
   "execution_count": 178,
   "metadata": {},
   "outputs": [
    {
     "name": "stdout",
     "output_type": "stream",
     "text": [
      "(784, 100)\n",
      "(100,)\n",
      "(100, 10)\n",
      "(10,)\n"
     ]
    }
   ],
   "source": [
    "print(net.params['W1'].shape)\n",
    "print(net.params['b1'].shape)\n",
    "print(net.params['W2'].shape)\n",
    "print(net.params['b2'].shape)"
   ]
  },
  {
   "cell_type": "code",
   "execution_count": 179,
   "metadata": {},
   "outputs": [
    {
     "name": "stdout",
     "output_type": "stream",
     "text": [
      "(100, 784)\n"
     ]
    }
   ],
   "source": [
    "x = np.random.rand(100,784)\n",
    "y = net.predict(x)\n",
    "\n",
    "print(x.shape)"
   ]
  },
  {
   "cell_type": "code",
   "execution_count": 183,
   "metadata": {
    "scrolled": false
   },
   "outputs": [],
   "source": [
    "# x =np.random.rand(100,784)\n",
    "# y = np.random.rand(100,10)\n",
    "\n",
    "# grads = net.numerical_gradient(x,t)\n",
    "\n"
   ]
  },
  {
   "cell_type": "code",
   "execution_count": 184,
   "metadata": {
    "scrolled": true
   },
   "outputs": [],
   "source": [
    "# grads['W1'].shape"
   ]
  },
  {
   "cell_type": "markdown",
   "metadata": {},
   "source": [
    "## 코드가 실행되지만, interrupt 하는 과정에서 출력이 되지 않습니다.."
   ]
  },
  {
   "cell_type": "code",
   "execution_count": 182,
   "metadata": {},
   "outputs": [],
   "source": [
    "# # 미니배치 학습 구현\n",
    "\n",
    "\n",
    "# train_loss_list=[]\n",
    "\n",
    "\n",
    "# # 하이퍼파라미터\n",
    "\n",
    "# iters_num = 10000\n",
    "# train_size = x_train.shape[0]\n",
    "# batch_size = 100\n",
    "# learnnig_rate = 0.1\n",
    "\n",
    "# network =TwoLayerNet(input_size=784 , hidden_size=100 , output_size=10)\n",
    "\n",
    "# for i in range(iters_num):\n",
    "#     # 미니배치 획득\n",
    "#     batch_mask = np.random.choice( train_size , batch_size)\n",
    "#     x_batch = x_train[batch_mask]\n",
    "#     t_batch = t_train[batch_mask]\n",
    "    \n",
    "#     # 기울기 계산\n",
    "#     grad = network.numerical_gradient(x_batch, t_batch)\n",
    "    \n",
    "#     # 매개변수 갱신\n",
    "#     for key in ( 'W1' , 'W2' , 'b1' , 'b2'):\n",
    "#         network.params[key] -= learnnig_rate * grad[key]\n",
    "        \n",
    "#     # 학습경과 기록\n",
    "#     loss = network.loss(x_batch , t_batch)\n",
    "#     train_loss_list.append(loss)\n",
    " "
   ]
  },
  {
   "cell_type": "code",
   "execution_count": null,
   "metadata": {},
   "outputs": [],
   "source": [
    "# print(loss)"
   ]
  },
  {
   "cell_type": "code",
   "execution_count": null,
   "metadata": {},
   "outputs": [],
   "source": []
  }
 ],
 "metadata": {
  "kernelspec": {
   "display_name": "Python 3",
   "language": "python",
   "name": "python3"
  },
  "language_info": {
   "codemirror_mode": {
    "name": "ipython",
    "version": 3
   },
   "file_extension": ".py",
   "mimetype": "text/x-python",
   "name": "python",
   "nbconvert_exporter": "python",
   "pygments_lexer": "ipython3",
   "version": "3.7.6"
  }
 },
 "nbformat": 4,
 "nbformat_minor": 4
}
