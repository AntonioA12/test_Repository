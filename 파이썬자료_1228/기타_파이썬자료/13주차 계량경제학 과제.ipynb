{
 "cells": [
  {
   "cell_type": "code",
   "execution_count": 1,
   "metadata": {},
   "outputs": [],
   "source": [
    "import numpy as np\n",
    "import pandas as pd\n",
    "from IPython.core.interactiveshell import InteractiveShell\n",
    "InteractiveShell.ast_node_interactivity= 'all'\n",
    "import seaborn as sn\n",
    "import matplotlib.pyplot as plt\n",
    "%matplotlib inline\n",
    "import statsmodels.api as sm\n",
    "import statsmodels.formula.api as smf\n",
    "import matplotlib as mpl\n",
    "sn.set()\n",
    "import matplotlib.font_manager as fm\n",
    "fl = fm.FontProperties(fname =\"C:\\Windows\\Fonts\\malgun.ttf\").get_name()\n",
    "plt.rc('font',family=fl)"
   ]
  },
  {
   "cell_type": "code",
   "execution_count": 2,
   "metadata": {},
   "outputs": [],
   "source": [
    "from statsmodels.iolib.summary2 import summary_col\n",
    "import statsmodels.stats.stattools as tools\n",
    "import statsmodels.stats.diagnostic as sm_diagnostic\n",
    "from statsmodels.compat import lzip\n",
    "import statsmodels.stats as sm_stats\n",
    "import statsmodels.stats.outliers_influence as oi\n",
    "from patsy import dmatrices\n",
    "import statsmodels.api as sm\n",
    "from statsmodels.stats.outliers_influence import variance_inflation_factor\n",
    "import statsmodels.stats.api as sms\n",
    "from statsmodels.compat import lzip\n",
    "import statsmodels.stats.outliers_influence as oi\n",
    "import statsmodels.stats as sm_stats"
   ]
  },
  {
   "cell_type": "code",
   "execution_count": 3,
   "metadata": {
    "scrolled": true
   },
   "outputs": [
    {
     "data": {
      "text/html": [
       "<div>\n",
       "<style scoped>\n",
       "    .dataframe tbody tr th:only-of-type {\n",
       "        vertical-align: middle;\n",
       "    }\n",
       "\n",
       "    .dataframe tbody tr th {\n",
       "        vertical-align: top;\n",
       "    }\n",
       "\n",
       "    .dataframe thead th {\n",
       "        text-align: right;\n",
       "    }\n",
       "</style>\n",
       "<table border=\"1\" class=\"dataframe\">\n",
       "  <thead>\n",
       "    <tr style=\"text-align: right;\">\n",
       "      <th></th>\n",
       "      <th>wage</th>\n",
       "      <th>female</th>\n",
       "      <th>nonwhite</th>\n",
       "      <th>union</th>\n",
       "      <th>education</th>\n",
       "      <th>exper</th>\n",
       "      <th>age</th>\n",
       "      <th>wind</th>\n",
       "      <th>femalenonw</th>\n",
       "      <th>lnwage</th>\n",
       "    </tr>\n",
       "    <tr>\n",
       "      <th>obs</th>\n",
       "      <th></th>\n",
       "      <th></th>\n",
       "      <th></th>\n",
       "      <th></th>\n",
       "      <th></th>\n",
       "      <th></th>\n",
       "      <th></th>\n",
       "      <th></th>\n",
       "      <th></th>\n",
       "      <th></th>\n",
       "    </tr>\n",
       "  </thead>\n",
       "  <tbody>\n",
       "    <tr>\n",
       "      <th>1.0</th>\n",
       "      <td>11.55</td>\n",
       "      <td>1.0</td>\n",
       "      <td>0.0</td>\n",
       "      <td>0.0</td>\n",
       "      <td>12.0</td>\n",
       "      <td>20.0</td>\n",
       "      <td>38.0</td>\n",
       "      <td>1.0</td>\n",
       "      <td>0.0</td>\n",
       "      <td>2.446686</td>\n",
       "    </tr>\n",
       "    <tr>\n",
       "      <th>2.0</th>\n",
       "      <td>5.00</td>\n",
       "      <td>0.0</td>\n",
       "      <td>0.0</td>\n",
       "      <td>0.0</td>\n",
       "      <td>9.0</td>\n",
       "      <td>9.0</td>\n",
       "      <td>24.0</td>\n",
       "      <td>0.0</td>\n",
       "      <td>0.0</td>\n",
       "      <td>1.609438</td>\n",
       "    </tr>\n",
       "    <tr>\n",
       "      <th>3.0</th>\n",
       "      <td>12.00</td>\n",
       "      <td>0.0</td>\n",
       "      <td>0.0</td>\n",
       "      <td>0.0</td>\n",
       "      <td>16.0</td>\n",
       "      <td>15.0</td>\n",
       "      <td>37.0</td>\n",
       "      <td>1.0</td>\n",
       "      <td>0.0</td>\n",
       "      <td>2.484907</td>\n",
       "    </tr>\n",
       "    <tr>\n",
       "      <th>4.0</th>\n",
       "      <td>7.00</td>\n",
       "      <td>0.0</td>\n",
       "      <td>1.0</td>\n",
       "      <td>1.0</td>\n",
       "      <td>14.0</td>\n",
       "      <td>38.0</td>\n",
       "      <td>58.0</td>\n",
       "      <td>0.0</td>\n",
       "      <td>0.0</td>\n",
       "      <td>1.945910</td>\n",
       "    </tr>\n",
       "    <tr>\n",
       "      <th>5.0</th>\n",
       "      <td>21.15</td>\n",
       "      <td>1.0</td>\n",
       "      <td>1.0</td>\n",
       "      <td>0.0</td>\n",
       "      <td>16.0</td>\n",
       "      <td>19.0</td>\n",
       "      <td>41.0</td>\n",
       "      <td>1.0</td>\n",
       "      <td>1.0</td>\n",
       "      <td>3.051640</td>\n",
       "    </tr>\n",
       "  </tbody>\n",
       "</table>\n",
       "</div>"
      ],
      "text/plain": [
       "      wage  female  nonwhite  union  education  exper   age  wind  femalenonw  \\\n",
       "obs                                                                             \n",
       "1.0  11.55     1.0       0.0    0.0       12.0   20.0  38.0   1.0         0.0   \n",
       "2.0   5.00     0.0       0.0    0.0        9.0    9.0  24.0   0.0         0.0   \n",
       "3.0  12.00     0.0       0.0    0.0       16.0   15.0  37.0   1.0         0.0   \n",
       "4.0   7.00     0.0       1.0    1.0       14.0   38.0  58.0   0.0         0.0   \n",
       "5.0  21.15     1.0       1.0    0.0       16.0   19.0  41.0   1.0         1.0   \n",
       "\n",
       "       lnwage  \n",
       "obs            \n",
       "1.0  2.446686  \n",
       "2.0  1.609438  \n",
       "3.0  2.484907  \n",
       "4.0  1.945910  \n",
       "5.0  3.051640  "
      ]
     },
     "execution_count": 3,
     "metadata": {},
     "output_type": "execute_result"
    }
   ],
   "source": [
    "df = pd.read_csv('wage.csv',index_col=0 , dtype =float)\n",
    "df.head()"
   ]
  },
  {
   "cell_type": "code",
   "execution_count": 4,
   "metadata": {},
   "outputs": [
    {
     "data": {
      "text/plain": [
       "Index(['wage', 'female', 'nonwhite', 'union', 'education', 'exper', 'age',\n",
       "       'wind', 'femalenonw', 'lnwage'],\n",
       "      dtype='object')"
      ]
     },
     "execution_count": 4,
     "metadata": {},
     "output_type": "execute_result"
    }
   ],
   "source": [
    "df.columns"
   ]
  },
  {
   "cell_type": "code",
   "execution_count": 5,
   "metadata": {},
   "outputs": [
    {
     "data": {
      "text/html": [
       "<div>\n",
       "<style scoped>\n",
       "    .dataframe tbody tr th:only-of-type {\n",
       "        vertical-align: middle;\n",
       "    }\n",
       "\n",
       "    .dataframe tbody tr th {\n",
       "        vertical-align: top;\n",
       "    }\n",
       "\n",
       "    .dataframe thead th {\n",
       "        text-align: right;\n",
       "    }\n",
       "</style>\n",
       "<table border=\"1\" class=\"dataframe\">\n",
       "  <thead>\n",
       "    <tr style=\"text-align: right;\">\n",
       "      <th></th>\n",
       "      <th>wage</th>\n",
       "      <th>female</th>\n",
       "      <th>nonwhite</th>\n",
       "      <th>union</th>\n",
       "      <th>education</th>\n",
       "      <th>exper</th>\n",
       "      <th>age</th>\n",
       "      <th>wind</th>\n",
       "      <th>femalenonw</th>\n",
       "      <th>lnwage</th>\n",
       "    </tr>\n",
       "  </thead>\n",
       "  <tbody>\n",
       "    <tr>\n",
       "      <th>count</th>\n",
       "      <td>1289.00</td>\n",
       "      <td>1289.0</td>\n",
       "      <td>1289.00</td>\n",
       "      <td>1289.00</td>\n",
       "      <td>1289.00</td>\n",
       "      <td>1289.00</td>\n",
       "      <td>1289.00</td>\n",
       "      <td>1289.00</td>\n",
       "      <td>1289.00</td>\n",
       "      <td>1289.00</td>\n",
       "    </tr>\n",
       "    <tr>\n",
       "      <th>mean</th>\n",
       "      <td>12.37</td>\n",
       "      <td>0.5</td>\n",
       "      <td>0.15</td>\n",
       "      <td>0.16</td>\n",
       "      <td>13.15</td>\n",
       "      <td>18.79</td>\n",
       "      <td>37.93</td>\n",
       "      <td>0.41</td>\n",
       "      <td>0.08</td>\n",
       "      <td>2.34</td>\n",
       "    </tr>\n",
       "    <tr>\n",
       "      <th>std</th>\n",
       "      <td>7.90</td>\n",
       "      <td>0.5</td>\n",
       "      <td>0.36</td>\n",
       "      <td>0.37</td>\n",
       "      <td>2.81</td>\n",
       "      <td>11.66</td>\n",
       "      <td>11.49</td>\n",
       "      <td>0.49</td>\n",
       "      <td>0.28</td>\n",
       "      <td>0.59</td>\n",
       "    </tr>\n",
       "    <tr>\n",
       "      <th>min</th>\n",
       "      <td>0.84</td>\n",
       "      <td>0.0</td>\n",
       "      <td>0.00</td>\n",
       "      <td>0.00</td>\n",
       "      <td>0.00</td>\n",
       "      <td>0.00</td>\n",
       "      <td>18.00</td>\n",
       "      <td>0.00</td>\n",
       "      <td>0.00</td>\n",
       "      <td>-0.17</td>\n",
       "    </tr>\n",
       "    <tr>\n",
       "      <th>25%</th>\n",
       "      <td>6.92</td>\n",
       "      <td>0.0</td>\n",
       "      <td>0.00</td>\n",
       "      <td>0.00</td>\n",
       "      <td>12.00</td>\n",
       "      <td>9.00</td>\n",
       "      <td>29.00</td>\n",
       "      <td>0.00</td>\n",
       "      <td>0.00</td>\n",
       "      <td>1.93</td>\n",
       "    </tr>\n",
       "    <tr>\n",
       "      <th>50%</th>\n",
       "      <td>10.08</td>\n",
       "      <td>0.0</td>\n",
       "      <td>0.00</td>\n",
       "      <td>0.00</td>\n",
       "      <td>12.00</td>\n",
       "      <td>18.00</td>\n",
       "      <td>37.00</td>\n",
       "      <td>0.00</td>\n",
       "      <td>0.00</td>\n",
       "      <td>2.31</td>\n",
       "    </tr>\n",
       "    <tr>\n",
       "      <th>75%</th>\n",
       "      <td>15.63</td>\n",
       "      <td>1.0</td>\n",
       "      <td>0.00</td>\n",
       "      <td>0.00</td>\n",
       "      <td>16.00</td>\n",
       "      <td>27.00</td>\n",
       "      <td>47.00</td>\n",
       "      <td>1.00</td>\n",
       "      <td>0.00</td>\n",
       "      <td>2.75</td>\n",
       "    </tr>\n",
       "    <tr>\n",
       "      <th>max</th>\n",
       "      <td>64.08</td>\n",
       "      <td>1.0</td>\n",
       "      <td>1.00</td>\n",
       "      <td>1.00</td>\n",
       "      <td>20.00</td>\n",
       "      <td>56.00</td>\n",
       "      <td>65.00</td>\n",
       "      <td>1.00</td>\n",
       "      <td>1.00</td>\n",
       "      <td>4.16</td>\n",
       "    </tr>\n",
       "  </tbody>\n",
       "</table>\n",
       "</div>"
      ],
      "text/plain": [
       "          wage  female  nonwhite    union  education    exper      age  \\\n",
       "count  1289.00  1289.0   1289.00  1289.00    1289.00  1289.00  1289.00   \n",
       "mean     12.37     0.5      0.15     0.16      13.15    18.79    37.93   \n",
       "std       7.90     0.5      0.36     0.37       2.81    11.66    11.49   \n",
       "min       0.84     0.0      0.00     0.00       0.00     0.00    18.00   \n",
       "25%       6.92     0.0      0.00     0.00      12.00     9.00    29.00   \n",
       "50%      10.08     0.0      0.00     0.00      12.00    18.00    37.00   \n",
       "75%      15.63     1.0      0.00     0.00      16.00    27.00    47.00   \n",
       "max      64.08     1.0      1.00     1.00      20.00    56.00    65.00   \n",
       "\n",
       "          wind  femalenonw   lnwage  \n",
       "count  1289.00     1289.00  1289.00  \n",
       "mean      0.41        0.08     2.34  \n",
       "std       0.49        0.28     0.59  \n",
       "min       0.00        0.00    -0.17  \n",
       "25%       0.00        0.00     1.93  \n",
       "50%       0.00        0.00     2.31  \n",
       "75%       1.00        0.00     2.75  \n",
       "max       1.00        1.00     4.16  "
      ]
     },
     "execution_count": 5,
     "metadata": {},
     "output_type": "execute_result"
    },
    {
     "data": {
      "text/html": [
       "<div>\n",
       "<style scoped>\n",
       "    .dataframe tbody tr th:only-of-type {\n",
       "        vertical-align: middle;\n",
       "    }\n",
       "\n",
       "    .dataframe tbody tr th {\n",
       "        vertical-align: top;\n",
       "    }\n",
       "\n",
       "    .dataframe thead th {\n",
       "        text-align: right;\n",
       "    }\n",
       "</style>\n",
       "<table border=\"1\" class=\"dataframe\">\n",
       "  <thead>\n",
       "    <tr style=\"text-align: right;\">\n",
       "      <th></th>\n",
       "      <th>wage</th>\n",
       "      <th>female</th>\n",
       "      <th>nonwhite</th>\n",
       "      <th>union</th>\n",
       "      <th>education</th>\n",
       "      <th>exper</th>\n",
       "      <th>age</th>\n",
       "      <th>wind</th>\n",
       "      <th>femalenonw</th>\n",
       "      <th>lnwage</th>\n",
       "    </tr>\n",
       "  </thead>\n",
       "  <tbody>\n",
       "    <tr>\n",
       "      <th>wage</th>\n",
       "      <td>1.000000</td>\n",
       "      <td>-0.223302</td>\n",
       "      <td>-0.127834</td>\n",
       "      <td>0.102247</td>\n",
       "      <td>0.456518</td>\n",
       "      <td>0.173173</td>\n",
       "      <td>0.287469</td>\n",
       "      <td>0.389039</td>\n",
       "      <td>-0.131232</td>\n",
       "      <td>0.923274</td>\n",
       "    </tr>\n",
       "    <tr>\n",
       "      <th>female</th>\n",
       "      <td>-0.223302</td>\n",
       "      <td>1.000000</td>\n",
       "      <td>0.043272</td>\n",
       "      <td>-0.088857</td>\n",
       "      <td>-0.031439</td>\n",
       "      <td>-0.022657</td>\n",
       "      <td>-0.030685</td>\n",
       "      <td>-0.072869</td>\n",
       "      <td>0.304050</td>\n",
       "      <td>-0.246895</td>\n",
       "    </tr>\n",
       "    <tr>\n",
       "      <th>nonwhite</th>\n",
       "      <td>-0.127834</td>\n",
       "      <td>0.043272</td>\n",
       "      <td>1.000000</td>\n",
       "      <td>0.080588</td>\n",
       "      <td>-0.087062</td>\n",
       "      <td>-0.039129</td>\n",
       "      <td>-0.061016</td>\n",
       "      <td>-0.080025</td>\n",
       "      <td>0.711976</td>\n",
       "      <td>-0.133770</td>\n",
       "    </tr>\n",
       "    <tr>\n",
       "      <th>union</th>\n",
       "      <td>0.102247</td>\n",
       "      <td>-0.088857</td>\n",
       "      <td>0.080588</td>\n",
       "      <td>1.000000</td>\n",
       "      <td>0.003967</td>\n",
       "      <td>0.154319</td>\n",
       "      <td>0.157553</td>\n",
       "      <td>-0.058265</td>\n",
       "      <td>0.013964</td>\n",
       "      <td>0.165784</td>\n",
       "    </tr>\n",
       "    <tr>\n",
       "      <th>education</th>\n",
       "      <td>0.456518</td>\n",
       "      <td>-0.031439</td>\n",
       "      <td>-0.087062</td>\n",
       "      <td>0.003967</td>\n",
       "      <td>1.000000</td>\n",
       "      <td>-0.180103</td>\n",
       "      <td>0.062058</td>\n",
       "      <td>0.370409</td>\n",
       "      <td>-0.073335</td>\n",
       "      <td>0.447815</td>\n",
       "    </tr>\n",
       "    <tr>\n",
       "      <th>exper</th>\n",
       "      <td>0.173173</td>\n",
       "      <td>-0.022657</td>\n",
       "      <td>-0.039129</td>\n",
       "      <td>0.154319</td>\n",
       "      <td>-0.180103</td>\n",
       "      <td>1.000000</td>\n",
       "      <td>0.970575</td>\n",
       "      <td>0.084293</td>\n",
       "      <td>-0.008717</td>\n",
       "      <td>0.192861</td>\n",
       "    </tr>\n",
       "    <tr>\n",
       "      <th>age</th>\n",
       "      <td>0.287469</td>\n",
       "      <td>-0.030685</td>\n",
       "      <td>-0.061016</td>\n",
       "      <td>0.157553</td>\n",
       "      <td>0.062058</td>\n",
       "      <td>0.970575</td>\n",
       "      <td>1.000000</td>\n",
       "      <td>0.176206</td>\n",
       "      <td>-0.026797</td>\n",
       "      <td>0.305315</td>\n",
       "    </tr>\n",
       "    <tr>\n",
       "      <th>wind</th>\n",
       "      <td>0.389039</td>\n",
       "      <td>-0.072869</td>\n",
       "      <td>-0.080025</td>\n",
       "      <td>-0.058265</td>\n",
       "      <td>0.370409</td>\n",
       "      <td>0.084293</td>\n",
       "      <td>0.176206</td>\n",
       "      <td>1.000000</td>\n",
       "      <td>-0.079714</td>\n",
       "      <td>0.372983</td>\n",
       "    </tr>\n",
       "    <tr>\n",
       "      <th>femalenonw</th>\n",
       "      <td>-0.131232</td>\n",
       "      <td>0.304050</td>\n",
       "      <td>0.711976</td>\n",
       "      <td>0.013964</td>\n",
       "      <td>-0.073335</td>\n",
       "      <td>-0.008717</td>\n",
       "      <td>-0.026797</td>\n",
       "      <td>-0.079714</td>\n",
       "      <td>1.000000</td>\n",
       "      <td>-0.138166</td>\n",
       "    </tr>\n",
       "    <tr>\n",
       "      <th>lnwage</th>\n",
       "      <td>0.923274</td>\n",
       "      <td>-0.246895</td>\n",
       "      <td>-0.133770</td>\n",
       "      <td>0.165784</td>\n",
       "      <td>0.447815</td>\n",
       "      <td>0.192861</td>\n",
       "      <td>0.305315</td>\n",
       "      <td>0.372983</td>\n",
       "      <td>-0.138166</td>\n",
       "      <td>1.000000</td>\n",
       "    </tr>\n",
       "  </tbody>\n",
       "</table>\n",
       "</div>"
      ],
      "text/plain": [
       "                wage    female  nonwhite     union  education     exper  \\\n",
       "wage        1.000000 -0.223302 -0.127834  0.102247   0.456518  0.173173   \n",
       "female     -0.223302  1.000000  0.043272 -0.088857  -0.031439 -0.022657   \n",
       "nonwhite   -0.127834  0.043272  1.000000  0.080588  -0.087062 -0.039129   \n",
       "union       0.102247 -0.088857  0.080588  1.000000   0.003967  0.154319   \n",
       "education   0.456518 -0.031439 -0.087062  0.003967   1.000000 -0.180103   \n",
       "exper       0.173173 -0.022657 -0.039129  0.154319  -0.180103  1.000000   \n",
       "age         0.287469 -0.030685 -0.061016  0.157553   0.062058  0.970575   \n",
       "wind        0.389039 -0.072869 -0.080025 -0.058265   0.370409  0.084293   \n",
       "femalenonw -0.131232  0.304050  0.711976  0.013964  -0.073335 -0.008717   \n",
       "lnwage      0.923274 -0.246895 -0.133770  0.165784   0.447815  0.192861   \n",
       "\n",
       "                 age      wind  femalenonw    lnwage  \n",
       "wage        0.287469  0.389039   -0.131232  0.923274  \n",
       "female     -0.030685 -0.072869    0.304050 -0.246895  \n",
       "nonwhite   -0.061016 -0.080025    0.711976 -0.133770  \n",
       "union       0.157553 -0.058265    0.013964  0.165784  \n",
       "education   0.062058  0.370409   -0.073335  0.447815  \n",
       "exper       0.970575  0.084293   -0.008717  0.192861  \n",
       "age         1.000000  0.176206   -0.026797  0.305315  \n",
       "wind        0.176206  1.000000   -0.079714  0.372983  \n",
       "femalenonw -0.026797 -0.079714    1.000000 -0.138166  \n",
       "lnwage      0.305315  0.372983   -0.138166  1.000000  "
      ]
     },
     "execution_count": 5,
     "metadata": {},
     "output_type": "execute_result"
    }
   ],
   "source": [
    "df.describe(include = 'all').round(2)\n",
    "df.corr()"
   ]
  },
  {
   "cell_type": "markdown",
   "metadata": {},
   "source": [
    "# 히트맵\n",
    "- 히트맵으로 시각화를 해보니 색이 밝을수록 높은 상관관계를 지닌다.\n",
    "- wage와 lnwqge는 제외하고 (age와 exper), (nonwhite와 femalenonw)는 높은 상관관계를 지니므로 다중공선성의 문제를 위해서라도 둘중 하나는 변수를 뺴주는게 좋다."
   ]
  },
  {
   "cell_type": "code",
   "execution_count": 6,
   "metadata": {},
   "outputs": [
    {
     "name": "stderr",
     "output_type": "stream",
     "text": [
      "C:\\ProgramData\\Anaconda3\\lib\\site-packages\\matplotlib\\backends\\backend_agg.py:211: RuntimeWarning: Glyph 8722 missing from current font.\n",
      "  font.set_text(s, 0.0, flags=flags)\n",
      "C:\\ProgramData\\Anaconda3\\lib\\site-packages\\matplotlib\\backends\\backend_agg.py:180: RuntimeWarning: Glyph 8722 missing from current font.\n",
      "  font.set_text(s, 0, flags=flags)\n"
     ]
    },
    {
     "data": {
      "text/plain": [
       "<matplotlib.axes._subplots.AxesSubplot at 0x2b44209e088>"
      ]
     },
     "execution_count": 6,
     "metadata": {},
     "output_type": "execute_result"
    },
    {
     "data": {
      "image/png": "[encoded data removed]",
      "text/plain": [
       "<Figure size 432x288 with 2 Axes>"
      ]
     },
     "metadata": {},
     "output_type": "display_data"
    }
   ],
   "source": [
    "sn.heatmap(data = df.corr(), annot=True, linewidths = 0.5)\n",
    "plt.show()"
   ]
  },
  {
   "cell_type": "code",
   "execution_count": 29,
   "metadata": {},
   "outputs": [
    {
     "name": "stdout",
     "output_type": "stream",
     "text": [
      "                            OLS Regression Results                            \n",
      "==============================================================================\n",
      "Dep. Variable:                   wage   R-squared:                       0.359\n",
      "Model:                            OLS   Adj. R-squared:                  0.356\n",
      "Method:                 Least Squares   F-statistic:                     102.6\n",
      "Date:                Sat, 20 Jun 2020   Prob (F-statistic):          3.81e-119\n",
      "Time:                        14:10:54   Log-Likelihood:                -4205.2\n",
      "No. Observations:                1289   AIC:                             8426.\n",
      "Df Residuals:                    1281   BIC:                             8468.\n",
      "Df Model:                           7                                         \n",
      "Covariance Type:            nonrobust                                         \n",
      "==============================================================================\n",
      "                 coef    std err          t      P>|t|      [0.025      0.975]\n",
      "------------------------------------------------------------------------------\n",
      "Intercept     -0.5942      0.089     -6.647      0.000      -0.770      -0.419\n",
      "female        -3.0509      0.386     -7.910      0.000      -3.808      -2.294\n",
      "nonwhite      -2.0878      0.729     -2.864      0.004      -3.518      -0.658\n",
      "union          1.5131      0.495      3.054      0.002       0.541       2.485\n",
      "education      1.9011      0.220      8.632      0.000       1.469       2.333\n",
      "exper          0.9032      0.163      5.537      0.000       0.583       1.223\n",
      "age           -0.7607      0.155     -4.909      0.000      -1.065      -0.457\n",
      "wind           3.3182      0.395      8.398      0.000       2.543       4.093\n",
      "femalenonw     1.2083      0.987      1.225      0.221      -0.727       3.144\n",
      "==============================================================================\n",
      "Omnibus:                      529.087   Durbin-Watson:                   1.939\n",
      "Prob(Omnibus):                  0.000   Jarque-Bera (JB):             3897.697\n",
      "Skew:                           1.727   Prob(JB):                         0.00\n",
      "Kurtosis:                      10.787   Cond. No.                     2.56e+16\n",
      "==============================================================================\n",
      "\n",
      "Warnings:\n",
      "[1] Standard Errors assume that the covariance matrix of the errors is correctly specified.\n",
      "[2] The smallest eigenvalue is 4.3e-27. This might indicate that there are\n",
      "strong multicollinearity problems or that the design matrix is singular.\n"
     ]
    }
   ],
   "source": [
    "reg0= smf.ols('wage ~ female + nonwhite + union + education + exper + age + wind + femalenonw',\n",
    "              missing = 'drop', data = df).fit()\n",
    "print(reg0.summary())\n",
    "# 현재 다중공선선이 존재한다는 에러메세지가 있다."
   ]
  },
  {
   "cell_type": "markdown",
   "metadata": {},
   "source": [
    "### VIF"
   ]
  },
  {
   "cell_type": "code",
   "execution_count": 8,
   "metadata": {},
   "outputs": [],
   "source": [
    "features = 'female + nonwhite + union + education + exper + age + wind + femalenonw'\n",
    "y, X = dmatrices( 'wage~'+features, df, return_type = 'dataframe')"
   ]
  },
  {
   "cell_type": "code",
   "execution_count": 9,
   "metadata": {},
   "outputs": [
    {
     "name": "stderr",
     "output_type": "stream",
     "text": [
      "C:\\ProgramData\\Anaconda3\\lib\\site-packages\\statsmodels\\regression\\linear_model.py:1685: RuntimeWarning: divide by zero encountered in double_scalars\n",
      "  return 1 - self.ssr/self.centered_tss\n",
      "C:\\ProgramData\\Anaconda3\\lib\\site-packages\\statsmodels\\stats\\outliers_influence.py:193: RuntimeWarning: divide by zero encountered in double_scalars\n",
      "  vif = 1. / (1. - r_squared_i)\n"
     ]
    },
    {
     "data": {
      "text/html": [
       "<div>\n",
       "<style scoped>\n",
       "    .dataframe tbody tr th:only-of-type {\n",
       "        vertical-align: middle;\n",
       "    }\n",
       "\n",
       "    .dataframe tbody tr th {\n",
       "        vertical-align: top;\n",
       "    }\n",
       "\n",
       "    .dataframe thead th {\n",
       "        text-align: right;\n",
       "    }\n",
       "</style>\n",
       "<table border=\"1\" class=\"dataframe\">\n",
       "  <thead>\n",
       "    <tr style=\"text-align: right;\">\n",
       "      <th></th>\n",
       "      <th>VIF Factor</th>\n",
       "      <th>features</th>\n",
       "    </tr>\n",
       "  </thead>\n",
       "  <tbody>\n",
       "    <tr>\n",
       "      <th>0</th>\n",
       "      <td>0.000000</td>\n",
       "      <td>Intercept</td>\n",
       "    </tr>\n",
       "    <tr>\n",
       "      <th>1</th>\n",
       "      <td>1.193230</td>\n",
       "      <td>female</td>\n",
       "    </tr>\n",
       "    <tr>\n",
       "      <th>2</th>\n",
       "      <td>2.207676</td>\n",
       "      <td>nonwhite</td>\n",
       "    </tr>\n",
       "    <tr>\n",
       "      <th>3</th>\n",
       "      <td>1.053351</td>\n",
       "      <td>union</td>\n",
       "    </tr>\n",
       "    <tr>\n",
       "      <th>4</th>\n",
       "      <td>inf</td>\n",
       "      <td>education</td>\n",
       "    </tr>\n",
       "    <tr>\n",
       "      <th>5</th>\n",
       "      <td>inf</td>\n",
       "      <td>exper</td>\n",
       "    </tr>\n",
       "    <tr>\n",
       "      <th>6</th>\n",
       "      <td>inf</td>\n",
       "      <td>age</td>\n",
       "    </tr>\n",
       "    <tr>\n",
       "      <th>7</th>\n",
       "      <td>1.209359</td>\n",
       "      <td>wind</td>\n",
       "    </tr>\n",
       "    <tr>\n",
       "      <th>8</th>\n",
       "      <td>2.397595</td>\n",
       "      <td>femalenonw</td>\n",
       "    </tr>\n",
       "  </tbody>\n",
       "</table>\n",
       "</div>"
      ],
      "text/plain": [
       "   VIF Factor    features\n",
       "0    0.000000   Intercept\n",
       "1    1.193230      female\n",
       "2    2.207676    nonwhite\n",
       "3    1.053351       union\n",
       "4         inf   education\n",
       "5         inf       exper\n",
       "6         inf         age\n",
       "7    1.209359        wind\n",
       "8    2.397595  femalenonw"
      ]
     },
     "execution_count": 9,
     "metadata": {},
     "output_type": "execute_result"
    }
   ],
   "source": [
    "vif = pd.DataFrame()\n",
    "vif['VIF Factor'] = [variance_inflation_factor(X.values, i)for i in range(X.shape[1])]\n",
    "vif['features'] = X.columns\n",
    "vif"
   ]
  },
  {
   "cell_type": "code",
   "execution_count": 10,
   "metadata": {},
   "outputs": [
    {
     "name": "stdout",
     "output_type": "stream",
     "text": [
      "   VIF Factor    features\n",
      "0         0.0   Intercept\n",
      "1         1.2      female\n",
      "2         2.2    nonwhite\n",
      "3         1.1       union\n",
      "4         inf   education\n",
      "5         inf       exper\n",
      "6         inf         age\n",
      "7         1.2        wind\n",
      "8         2.4  femalenonw\n"
     ]
    }
   ],
   "source": [
    "# 교육, 경력, 나이는 다중공선성에 있어서 완전하게 무관하다.\n",
    "print(vif.round(1))"
   ]
  },
  {
   "cell_type": "markdown",
   "metadata": {},
   "source": [
    "### 다중공선성이 있고 (age와 exper), (nonwhite와 femalenonw)중 한개씩 제거를 해주어야 한다.\n",
    "### VIF가 좀더 높은 femalenonw와 age를 임의로 제거한다."
   ]
  },
  {
   "cell_type": "markdown",
   "metadata": {},
   "source": [
    "# 변수를 제거하였더니 R-squared은 약간 떨어졌지만 F-statistic는 증가하였다. \n",
    "# 또한 다중공선성의 에러메세지가 제거 되었다."
   ]
  },
  {
   "cell_type": "code",
   "execution_count": 30,
   "metadata": {},
   "outputs": [
    {
     "name": "stdout",
     "output_type": "stream",
     "text": [
      "                            OLS Regression Results                            \n",
      "==============================================================================\n",
      "Dep. Variable:                   wage   R-squared:                       0.358\n",
      "Model:                            OLS   Adj. R-squared:                  0.355\n",
      "Method:                 Least Squares   F-statistic:                     119.4\n",
      "Date:                Sat, 20 Jun 2020   Prob (F-statistic):          7.04e-120\n",
      "Time:                        14:11:01   Log-Likelihood:                -4206.0\n",
      "No. Observations:                1289   AIC:                             8426.\n",
      "Df Residuals:                    1282   BIC:                             8462.\n",
      "Df Model:                           6                                         \n",
      "Covariance Type:            nonrobust                                         \n",
      "==============================================================================\n",
      "                 coef    std err          t      P>|t|      [0.025      0.975]\n",
      "------------------------------------------------------------------------------\n",
      "Intercept     -5.2667      1.016     -5.186      0.000      -7.259      -3.274\n",
      "female        -2.8690      0.356     -8.059      0.000      -3.567      -2.171\n",
      "nonwhite      -1.4337      0.496     -2.889      0.004      -2.407      -0.460\n",
      "union          1.4913      0.495      3.011      0.003       0.520       2.463\n",
      "education      1.1411      0.070     16.352      0.000       1.004       1.278\n",
      "exper          0.1433      0.016      9.028      0.000       0.112       0.174\n",
      "wind           3.3116      0.395      8.380      0.000       2.536       4.087\n",
      "==============================================================================\n",
      "Omnibus:                      526.687   Durbin-Watson:                   1.936\n",
      "Prob(Omnibus):                  0.000   Jarque-Bera (JB):             3841.618\n",
      "Skew:                           1.721   Prob(JB):                         0.00\n",
      "Kurtosis:                      10.725   Cond. No.                         145.\n",
      "==============================================================================\n",
      "\n",
      "Warnings:\n",
      "[1] Standard Errors assume that the covariance matrix of the errors is correctly specified.\n"
     ]
    }
   ],
   "source": [
    "reg1 = smf.ols('wage ~ female + nonwhite + union + education + exper + wind ',\n",
    "              missing = 'drop', data = df).fit()\n",
    "print(reg1.summary())"
   ]
  },
  {
   "cell_type": "markdown",
   "metadata": {},
   "source": [
    "## 정규성 확인"
   ]
  },
  {
   "cell_type": "code",
   "execution_count": 12,
   "metadata": {},
   "outputs": [
    {
     "data": {
      "text/plain": [
       "<matplotlib.axes._subplots.AxesSubplot at 0x2b442325f88>"
      ]
     },
     "execution_count": 12,
     "metadata": {},
     "output_type": "execute_result"
    },
    {
     "data": {
      "image/png": "[encoded data removed]",
      "text/plain": [
       "<Figure size 432x288 with 1 Axes>"
      ]
     },
     "metadata": {},
     "output_type": "display_data"
    }
   ],
   "source": [
    "df['wage'].plot(kind = 'hist',title='wage')"
   ]
  },
  {
   "cell_type": "code",
   "execution_count": 13,
   "metadata": {},
   "outputs": [
    {
     "data": {
      "text/plain": [
       "<matplotlib.axes._subplots.AxesSubplot at 0x2b442200a48>"
      ]
     },
     "execution_count": 13,
     "metadata": {},
     "output_type": "execute_result"
    },
    {
     "data": {
      "image/png": "[encoded data removed]",
      "text/plain": [
       "<Figure size 432x288 with 1 Axes>"
      ]
     },
     "metadata": {},
     "output_type": "display_data"
    }
   ],
   "source": [
    "# wage에 로그를 취하는게 더 나아보임\n",
    "df['lnwage'].plot(kind = 'hist',title='wage')"
   ]
  },
  {
   "cell_type": "code",
   "execution_count": 14,
   "metadata": {},
   "outputs": [
    {
     "data": {
      "text/plain": [
       "((array([-3.27007457, -3.01030999, -2.86569395, ...,  2.86569395,\n",
       "          3.01030999,  3.27007457]),\n",
       "  array([-20.58590066, -16.75066899, -16.06514674, ...,  38.87540125,\n",
       "          41.56531553,  48.92719155])),\n",
       " (5.980498816387634, -4.4629757110189626e-14, 0.9438607240635343))"
      ]
     },
     "execution_count": 14,
     "metadata": {},
     "output_type": "execute_result"
    },
    {
     "data": {
      "text/plain": [
       "Text(0.5, 1.0, 'Residual Q-Q Plot')"
      ]
     },
     "execution_count": 14,
     "metadata": {},
     "output_type": "execute_result"
    },
    {
     "name": "stderr",
     "output_type": "stream",
     "text": [
      "C:\\ProgramData\\Anaconda3\\lib\\site-packages\\matplotlib\\backends\\backend_agg.py:211: RuntimeWarning: Glyph 8722 missing from current font.\n",
      "  font.set_text(s, 0.0, flags=flags)\n",
      "C:\\ProgramData\\Anaconda3\\lib\\site-packages\\matplotlib\\backends\\backend_agg.py:180: RuntimeWarning: Glyph 8722 missing from current font.\n",
      "  font.set_text(s, 0, flags=flags)\n"
     ]
    },
    {
     "data": {
      "image/png": "[encoded data removed]",
      "text/plain": [
       "<Figure size 432x288 with 1 Axes>"
      ]
     },
     "metadata": {},
     "output_type": "display_data"
    }
   ],
   "source": [
    "from scipy import stats\n",
    "stats.probplot(reg1.resid, dist = 'norm', plot = plt)\n",
    "plt.title('Residual Q-Q Plot')"
   ]
  },
  {
   "cell_type": "code",
   "execution_count": 15,
   "metadata": {},
   "outputs": [
    {
     "data": {
      "text/plain": [
       "[('Jarque-Beta', 3841.6176571559085),\n",
       " ('Chi^2 two-tail prob', 0.0),\n",
       " ('Skew', 1.7213232510254337),\n",
       " ('Kurtosis', 10.724997674700578)]"
      ]
     },
     "execution_count": 15,
     "metadata": {},
     "output_type": "execute_result"
    }
   ],
   "source": [
    "name = ['Jarque-Beta','Chi^2 two-tail prob','Skew','Kurtosis']\n",
    "jarque=sms.jarque_bera(reg1.resid)\n",
    "lzip(name,jarque)"
   ]
  },
  {
   "cell_type": "code",
   "execution_count": 16,
   "metadata": {},
   "outputs": [
    {
     "name": "stdout",
     "output_type": "stream",
     "text": [
      "                            OLS Regression Results                            \n",
      "==============================================================================\n",
      "Dep. Variable:                 lnwage   R-squared:                       0.376\n",
      "Model:                            OLS   Adj. R-squared:                  0.373\n",
      "Method:                 Least Squares   F-statistic:                     128.8\n",
      "Date:                Sat, 20 Jun 2020   Prob (F-statistic):          1.44e-127\n",
      "Time:                        13:54:02   Log-Likelihood:                -836.40\n",
      "No. Observations:                1289   AIC:                             1687.\n",
      "Df Residuals:                    1282   BIC:                             1723.\n",
      "Df Model:                           6                                         \n",
      "Covariance Type:            nonrobust                                         \n",
      "==============================================================================\n",
      "                 coef    std err          t      P>|t|      [0.025      0.975]\n",
      "------------------------------------------------------------------------------\n",
      "Intercept      1.0379      0.074     13.956      0.000       0.892       1.184\n",
      "female        -0.2349      0.026     -9.011      0.000      -0.286      -0.184\n",
      "nonwhite      -0.1244      0.036     -3.424      0.001      -0.196      -0.053\n",
      "union          0.2075      0.036      5.722      0.000       0.136       0.279\n",
      "education      0.0840      0.005     16.445      0.000       0.074       0.094\n",
      "exper          0.0112      0.001      9.592      0.000       0.009       0.013\n",
      "wind           0.2287      0.029      7.904      0.000       0.172       0.285\n",
      "==============================================================================\n",
      "Omnibus:                      139.079   Durbin-Watson:                   1.977\n",
      "Prob(Omnibus):                  0.000   Jarque-Bera (JB):              431.254\n",
      "Skew:                          -0.535   Prob(JB):                     2.26e-94\n",
      "Kurtosis:                       5.624   Cond. No.                         145.\n",
      "==============================================================================\n",
      "\n",
      "Warnings:\n",
      "[1] Standard Errors assume that the covariance matrix of the errors is correctly specified.\n"
     ]
    }
   ],
   "source": [
    "reg2 = smf.ols('lnwage ~ female + nonwhite + union + education + exper + wind',\n",
    "              missing = 'drop', data = df).fit()\n",
    "print(reg2.summary())"
   ]
  },
  {
   "cell_type": "code",
   "execution_count": 17,
   "metadata": {},
   "outputs": [
    {
     "data": {
      "text/plain": [
       "((array([-3.27007457, -3.01030999, -2.86569395, ...,  2.86569395,\n",
       "          3.01030999,  3.27007457]),\n",
       "  array([-2.61483592, -2.43672503, -2.20990121, ...,  1.65003677,\n",
       "          1.68641382,  1.86722426])),\n",
       " (0.4574684322959091, -3.7859141951318e-16, 0.985889060521301))"
      ]
     },
     "execution_count": 17,
     "metadata": {},
     "output_type": "execute_result"
    },
    {
     "data": {
      "text/plain": [
       "Text(0.5, 1.0, 'Residual Q-Q Plot')"
      ]
     },
     "execution_count": 17,
     "metadata": {},
     "output_type": "execute_result"
    },
    {
     "name": "stderr",
     "output_type": "stream",
     "text": [
      "C:\\ProgramData\\Anaconda3\\lib\\site-packages\\matplotlib\\backends\\backend_agg.py:211: RuntimeWarning: Glyph 8722 missing from current font.\n",
      "  font.set_text(s, 0.0, flags=flags)\n",
      "C:\\ProgramData\\Anaconda3\\lib\\site-packages\\matplotlib\\backends\\backend_agg.py:180: RuntimeWarning: Glyph 8722 missing from current font.\n",
      "  font.set_text(s, 0, flags=flags)\n"
     ]
    },
    {
     "data": {
      "image/png": "[encoded data removed]",
      "text/plain": [
       "<Figure size 432x288 with 1 Axes>"
      ]
     },
     "metadata": {},
     "output_type": "display_data"
    }
   ],
   "source": [
    "from scipy import stats\n",
    "stats.probplot(reg2.resid, dist = 'norm', plot = plt)\n",
    "plt.title('Residual Q-Q Plot')"
   ]
  },
  {
   "cell_type": "code",
   "execution_count": 18,
   "metadata": {},
   "outputs": [
    {
     "data": {
      "text/plain": [
       "[('Jarque-Beta', 431.2544565204378),\n",
       " ('Chi^2 two-tail prob', 2.2609169955232883e-94),\n",
       " ('Skew', -0.5347193148724797),\n",
       " ('Kurtosis', 5.6240930263164755)]"
      ]
     },
     "execution_count": 18,
     "metadata": {},
     "output_type": "execute_result"
    }
   ],
   "source": [
    "name = ['Jarque-Beta','Chi^2 two-tail prob','Skew','Kurtosis']\n",
    "jarque=sms.jarque_bera(reg2.resid)\n",
    "lzip(name,jarque)"
   ]
  },
  {
   "cell_type": "markdown",
   "metadata": {},
   "source": [
    "## 이분산성"
   ]
  },
  {
   "cell_type": "markdown",
   "metadata": {},
   "source": [
    "## 현재 P-value가 매우 높다."
   ]
  },
  {
   "cell_type": "code",
   "execution_count": 19,
   "metadata": {},
   "outputs": [
    {
     "data": {
      "text/plain": [
       "[('Lagrange multiplier static', 33.889020169491),\n",
       " ('p-value', 7.067610635604043e-06),\n",
       " ('f-value', 5.769174274288003),\n",
       " ('f p-value', 6.129911744859487e-06)]"
      ]
     },
     "execution_count": 19,
     "metadata": {},
     "output_type": "execute_result"
    }
   ],
   "source": [
    "# Breuch-Pagan test\n",
    "name = ['Lagrange multiplier static','p-value','f-value','f p-value']\n",
    "BPtest = sms.het_breuschpagan(reg2.resid, reg2.model.exog)\n",
    "lzip(name,BPtest)"
   ]
  },
  {
   "cell_type": "markdown",
   "metadata": {},
   "source": [
    "## P-value가 매우 감소하였다."
   ]
  },
  {
   "cell_type": "code",
   "execution_count": 20,
   "metadata": {},
   "outputs": [
    {
     "data": {
      "text/plain": [
       "[('Lagrange multiplier static', 55.88100087539084),\n",
       " ('p-value', 0.00014706234976639043),\n",
       " ('f-value', 2.4924237241728813),\n",
       " ('f p-value', 0.00011939320136432909)]"
      ]
     },
     "execution_count": 20,
     "metadata": {},
     "output_type": "execute_result"
    }
   ],
   "source": [
    "# White general test\n",
    "name = ['Lagrange multiplier static','p-value','f-value','f p-value']\n",
    "Whitetest=sms.het_white(reg2.resid, reg2.model.exog)\n",
    "lzip(name, Whitetest)"
   ]
  },
  {
   "cell_type": "markdown",
   "metadata": {},
   "source": [
    "# 화이트 강건 표준오차를 적용하였더니 표준오차는 약간씩 증가 하였지만 P 값이 감소 하였다. 또한 Dubin-Watson도 1.977로 안정적인 수치이므로 자기상관이 없다고 할 수 있다."
   ]
  },
  {
   "cell_type": "code",
   "execution_count": 31,
   "metadata": {},
   "outputs": [
    {
     "name": "stdout",
     "output_type": "stream",
     "text": [
      "                            OLS Regression Results                            \n",
      "==============================================================================\n",
      "Dep. Variable:                 lnwage   R-squared:                       0.376\n",
      "Model:                            OLS   Adj. R-squared:                  0.373\n",
      "Method:                 Least Squares   F-statistic:                     146.7\n",
      "Date:                Sat, 20 Jun 2020   Prob (F-statistic):          1.06e-141\n",
      "Time:                        14:11:14   Log-Likelihood:                -836.40\n",
      "No. Observations:                1289   AIC:                             1687.\n",
      "Df Residuals:                    1282   BIC:                             1723.\n",
      "Df Model:                           6                                         \n",
      "Covariance Type:                  HC1                                         \n",
      "==============================================================================\n",
      "                 coef    std err          z      P>|z|      [0.025      0.975]\n",
      "------------------------------------------------------------------------------\n",
      "Intercept      1.0379      0.075     13.827      0.000       0.891       1.185\n",
      "female        -0.2349      0.026     -9.011      0.000      -0.286      -0.184\n",
      "nonwhite      -0.1244      0.034     -3.627      0.000      -0.192      -0.057\n",
      "union          0.2075      0.031      6.676      0.000       0.147       0.268\n",
      "education      0.0840      0.006     14.736      0.000       0.073       0.095\n",
      "exper          0.0112      0.001      9.085      0.000       0.009       0.014\n",
      "wind           0.2287      0.032      7.198      0.000       0.166       0.291\n",
      "==============================================================================\n",
      "Omnibus:                      139.079   Durbin-Watson:                   1.977\n",
      "Prob(Omnibus):                  0.000   Jarque-Bera (JB):              431.254\n",
      "Skew:                          -0.535   Prob(JB):                     2.26e-94\n",
      "Kurtosis:                       5.624   Cond. No.                         145.\n",
      "==============================================================================\n",
      "\n",
      "Warnings:\n",
      "[1] Standard Errors are heteroscedasticity robust (HC1)\n"
     ]
    }
   ],
   "source": [
    "reg3 = smf.ols('lnwage ~ female + nonwhite + union + education + exper + wind',\n",
    "              missing = 'drop', data = df).fit(cov_type = 'HC1')\n",
    "print(reg3.summary())"
   ]
  },
  {
   "cell_type": "markdown",
   "metadata": {},
   "source": [
    "# Breusch-Godfrey test"
   ]
  },
  {
   "cell_type": "markdown",
   "metadata": {},
   "source": [
    "## reg0은 아무셋팅도 하지않은 초기 모델인데 초기에도 p-value가 높아 귀무가설을 reject하지는 않음. 즉 자기상관은 원래부터 없었음 그래도 Breusch-Godfrey test를 해주니 p-value가 더 커지기는 하였음"
   ]
  },
  {
   "cell_type": "code",
   "execution_count": 22,
   "metadata": {
    "scrolled": true
   },
   "outputs": [
    {
     "name": "stdout",
     "output_type": "stream",
     "text": [
      "            0         1\n",
      "0     LM-stat  2.252239\n",
      "1  LM:p-value  0.324289\n",
      "2     F-value  1.119339\n",
      "3   F:p-value  0.326815\n"
     ]
    }
   ],
   "source": [
    "name = ['LM-stat','LM:p-value','F-value','F:p-value']\n",
    "bg_t = sm_diagnostic.acorr_breusch_godfrey(reg0,nlags = 2)\n",
    "print(pd.DataFrame(lzip(name, bg_t)))"
   ]
  },
  {
   "cell_type": "code",
   "execution_count": 23,
   "metadata": {},
   "outputs": [
    {
     "name": "stdout",
     "output_type": "stream",
     "text": [
      "            0         1\n",
      "0     LM-stat  1.102142\n",
      "1  LM:p-value  0.576332\n",
      "2     F-value  0.547692\n",
      "3   F:p-value  0.578419\n"
     ]
    }
   ],
   "source": [
    "name = ['LM-stat','LM:p-value','F-value','F:p-value']\n",
    "bg_t = sm_diagnostic.acorr_breusch_godfrey(reg3,nlags = 2)\n",
    "print(pd.DataFrame(lzip(name, bg_t)))"
   ]
  },
  {
   "cell_type": "markdown",
   "metadata": {},
   "source": [
    "# FGLS\n",
    "- 자기상관이 없긴하지만 FGLS를 해주니 Durbin-Watson은 증가하지만 P도 증가해버림 굳이 올릴 필요는 없어보임"
   ]
  },
  {
   "cell_type": "code",
   "execution_count": 25,
   "metadata": {},
   "outputs": [
    {
     "name": "stdout",
     "output_type": "stream",
     "text": [
      "                           GLSAR Regression Results                           \n",
      "==============================================================================\n",
      "Dep. Variable:                      y   R-squared:                       0.376\n",
      "Model:                          GLSAR   Adj. R-squared:                  0.373\n",
      "Method:                 Least Squares   F-statistic:                     128.4\n",
      "Date:                Sat, 20 Jun 2020   Prob (F-statistic):          2.82e-127\n",
      "Time:                        14:07:13   Log-Likelihood:                -836.09\n",
      "No. Observations:                1288   AIC:                             1686.\n",
      "Df Residuals:                    1281   BIC:                             1722.\n",
      "Df Model:                           6                                         \n",
      "Covariance Type:            nonrobust                                         \n",
      "==============================================================================\n",
      "                 coef    std err          t      P>|t|      [0.025      0.975]\n",
      "------------------------------------------------------------------------------\n",
      "const          1.0389      0.074     13.952      0.000       0.893       1.185\n",
      "x1            -0.2356      0.026     -9.031      0.000      -0.287      -0.184\n",
      "x2            -0.1250      0.036     -3.430      0.001      -0.197      -0.053\n",
      "x3             0.2067      0.036      5.702      0.000       0.136       0.278\n",
      "x4             0.0840      0.005     16.424      0.000       0.074       0.094\n",
      "x5             0.0112      0.001      9.594      0.000       0.009       0.013\n",
      "x6             0.2273      0.029      7.844      0.000       0.170       0.284\n",
      "==============================================================================\n",
      "Omnibus:                      138.956   Durbin-Watson:                   1.998\n",
      "Prob(Omnibus):                  0.000   Jarque-Bera (JB):              430.464\n",
      "Skew:                          -0.535   Prob(JB):                     3.36e-94\n",
      "Kurtosis:                       5.622   Cond. No.                         144.\n",
      "==============================================================================\n",
      "\n",
      "Warnings:\n",
      "[1] Standard Errors assume that the covariance matrix of the errors is correctly specified.\n"
     ]
    }
   ],
   "source": [
    "reg1_model = smf.ols('lnwage ~ female + nonwhite + union + education + exper + wind', missing='drop',data =df)\n",
    "reg1_CORC = sm.GLSAR(reg1_model.endog, reg1_model.exog)\n",
    "reg1_CORC_fit = reg1_CORC.iterative_fit(maxiter =100)\n",
    "print(reg1_CORC_fit.summary())"
   ]
  },
  {
   "cell_type": "markdown",
   "metadata": {},
   "source": [
    "# 처음에는 모형설정의 오류가 있었지만 로그도 취해주고 불필요한 값도 제거해주니 p-value가 증가하여 모형설정의 오류가 줄어듦"
   ]
  },
  {
   "cell_type": "code",
   "execution_count": 36,
   "metadata": {},
   "outputs": [
    {
     "name": "stdout",
     "output_type": "stream",
     "text": [
      "초기모델 :  <F test: F=array([[30.64096862]]), p=3.762499222441025e-08, df_denom=1.28e+03, df_num=1>\n",
      "보정모델 :  <F test: F=array([[0.23400247]]), p=0.62865448465127, df_denom=1.28e+03, df_num=1>\n"
     ]
    }
   ],
   "source": [
    "import statsmodels.stats.outliers_influence as oi\n",
    "print('초기모델 : ',oi.reset_ramsey(reg0, degree=2))\n",
    "print('보정모델 : ',oi.reset_ramsey(reg3, degree=2))"
   ]
  },
  {
   "cell_type": "markdown",
   "metadata": {},
   "source": [
    "# 결론\n",
    "## 다중공선성\n",
    "- 초기 모델인 reg0에서 다중공선성의 오류메세지가 출력되었음\n",
    "- VIF와 히트맵을 통해 시각화를 해보니 변수 2개를 제거해주는게 바람직해 보임\n",
    "- age는 exper로 대체 가능하며 femalenonw는 애초에 의미없는 변수로 삭제\n",
    "- 다중공선성의 오류메세지가 사라짐\n",
    "\n",
    "## 정규성\n",
    "- y값이 wage가 정규성을 띄지않음\n",
    "- wage에 log를 취해주어 정규성을 띄게 하였음\n",
    "\n",
    "## 동분산\n",
    "- 표본의 개수가 250개 이상이므로 화이트강건표준오차 'HC1'모델을 이용\n",
    "- 적용모델인 reg3모델에서 표준오차는 약간씩 상승하였지만 P값이 모두 0이 되면서 매우 수치가 좋아짐\n",
    "\n",
    "## 자기상관\n",
    "- 초기 모델을 불러올 떄부터 Durbin-Watson은 1.9로 변수간 자기상관은 없었고 그 이후 여러 보정을 해주어도 크게 달라지지 않음\n",
    "- Breusch-Godfrey test로도 검증을 해보았지만 처음부터 자기상관은 없다는 결론이 나옴\n",
    "- FGLS 보정을 해주었는데 Durbin-Watson은 2에 더 가까워졌지만 P값이 상승해서 보정을 굳이 해주지 않아도 무방해보임\n",
    "\n",
    "## 모형설정의 오류\n",
    "- 테스트결과 초기 모델 reg0에서는 p값이 매우 낮게 나와 모형설정의 오류가 존재하였음\n",
    "- 여러 보정결과 p값이 상승하였고 귀무가설을 reject할 확률도 상승"
   ]
  },
  {
   "cell_type": "markdown",
   "metadata": {},
   "source": [
    "#\n",
    "- 초기에 데이터 reg0은 Durbin-Watson의 문제는 없었음 즉 자기상관은 존재하지않음\n",
    "- 하지만 다중공선성의 오류메세지가 떠서 변수간 상관관계를 히트맵을 통하여 시각화 함\n",
    "- 2개의 불필요 변수 age와 femalenonw을 제거함 (경력이 곧 나이를 대체할 수 있고 femalenow는 애초에 P값이 너무 높음)\n",
    "- 다중공선성의 에러메세지가 사라짐\n",
    "- y값에 해당하는 wage가 정규성을 띄지 않아 log를 취해주어서 정규성을 띄게 됨\n",
    "- 화이트 강건 표준오차를 적용해보니 값이 매우 잘 나왔음. 표준오차는 약간씩 증가 하였지만 모든P값은 0이되었음 (샘플이 250개 이상이라서 'HC1'모델을 사용)\n",
    "- Breusch-Godfrey test결과 자기상관은 처음부터 없었지만 FGLS모델을 이용해서 보정을 해봄\n",
    "- 보정을 하니 Durbin-Watson은 2에 더 가까워졌지만 오히려 P값은 더 증가함 굳이 보정을 하지 않아도 돼보임\n",
    "- 모형설정의 오류는 초기에 P값이 매우 작았지만 여러 보정을 해주면서 P값이 증가하면서 모형설정의 오류가 줆어들었음"
   ]
  },
  {
   "cell_type": "code",
   "execution_count": null,
   "metadata": {},
   "outputs": [],
   "source": []
  }
 ],
 "metadata": {
  "kernelspec": {
   "display_name": "Python 3 (ipykernel)",
   "language": "python",
   "name": "python3"
  },
  "language_info": {
   "codemirror_mode": {
    "name": "ipython",
    "version": 3
   },
   "file_extension": ".py",
   "mimetype": "text/x-python",
   "name": "python",
   "nbconvert_exporter": "python",
   "pygments_lexer": "ipython3",
   "version": "3.9.13"
  }
 },
 "nbformat": 4,
 "nbformat_minor": 4
}
