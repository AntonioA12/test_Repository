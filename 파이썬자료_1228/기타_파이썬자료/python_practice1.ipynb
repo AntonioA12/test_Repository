{
 "cells": [
  {
   "cell_type": "code",
   "execution_count": 45,
   "metadata": {},
   "outputs": [],
   "source": [
    "from IPython.core.interactiveshell import InteractiveShell\n",
    "InteractiveShell.ast_node_interactivity = \"all\""
   ]
  },
  {
   "cell_type": "code",
   "execution_count": 46,
   "metadata": {},
   "outputs": [],
   "source": [
    "from random import * "
   ]
  },
  {
   "cell_type": "code",
   "execution_count": 51,
   "metadata": {},
   "outputs": [
    {
     "name": "stdout",
     "output_type": "stream",
     "text": [
      " 첫번째 로또번호를 입력하세요 0\n",
      " 두번째 로또번호를 입력하세요 0\n",
      " 당첨번호는  [2, 5]  입니다.\n",
      "꽝입니다.\n"
     ]
    }
   ],
   "source": [
    "list_lotto = [2,5]\n",
    "list_player=[]\n",
    "player_num1 = int(input( ' 첫번째 로또번호를 입력하세요 '))\n",
    "player_num2 = int(input( ' 두번째 로또번호를 입력하세요 '))\n",
    "\n",
    "list_player.append(player_num1)\n",
    "list_player.append(player_num2)\n",
    "\n",
    "if list_lotto == list_player :\n",
    "    print( ' 축하합니다 !  당첨번호는 ' , list_lotto , ' 입니다.')\n",
    "    print( ' 상금은 1억원입니다.')\n",
    "    \n",
    "elif list_lotto[0] == list_player[0] and list_lotto[1] != list_player[1] :\n",
    "    print( ' 축하합니다 !  당첨번호는 ' , list_lotto , ' 입니다.')\n",
    "    print( ' 상금은 1000만원 입니다.')\n",
    "    \n",
    "elif list_lotto[0] == list_player[1] and list_lotto[1] != list_player[0] :\n",
    "    print( ' 축하합니다 !  당첨번호는 ' , list_lotto , ' 입니다.')\n",
    "    print( ' 상금은 1000만원 입니다.')\n",
    "    \n",
    "elif list_lotto[1] == list_player[1] and list_lotto[0] != list_player[0] :\n",
    "    print( ' 축하합니다 !  당첨번호는 ' , list_lotto , ' 입니다.')\n",
    "    print( ' 상금은 1000만원 입니다.')\n",
    "\n",
    "elif list_lotto[1] == list_player[0] and list_lotto[0] != list_player[0] :\n",
    "    print( ' 축하합니다 !  당첨번호는 ' , list_lotto , ' 입니다.')\n",
    "    print( ' 상금은 1000만원 입니다.')\n",
    "    \n",
    "else:\n",
    "    print(' 당첨번호는 ' , list_lotto , ' 입니다.' )\n",
    "    print('꽝입니다.')"
   ]
  },
  {
   "cell_type": "code",
   "execution_count": 45,
   "metadata": {},
   "outputs": [
    {
     "name": "stdout",
     "output_type": "stream",
     "text": [
      " 첫번째 로또번호를 입력하세요 3\n",
      " 두번째 로또번호를 입력하세요 3\n",
      " 축하합니다 !  당첨번호는  [2, 5]  입니다.\n",
      " 상금은 1000만원 입니다.\n"
     ]
    }
   ],
   "source": [
    "list_lotto = [2,5]\n",
    "list_player=[]\n",
    "player_num1 = int(input( ' 첫번째 로또번호를 입력하세요 '))\n",
    "player_num2 = int(input( ' 두번째 로또번호를 입력하세요 '))\n",
    "\n",
    "list_player.append(player_num1)\n",
    "list_player.append(player_num2)\n",
    "\n",
    "if list_lotto == list_player :\n",
    "    print( ' 축하합니다 !  당첨번호는 ' , list_lotto , ' 입니다.')\n",
    "    print( ' 상금은 1억원입니다.')\n",
    "        \n",
    "elif list_player[0] == list_lotto[0] and list_lotto[1]:\n",
    "    print( ' 축하합니다 !  당첨번호는 ' , list_lotto , ' 입니다.')\n",
    "    print( ' 상금은 1000만원 입니다.')\n",
    "    \n",
    "elif list_player[1] == list_lotto[0] or list_lotto[1]:\n",
    "    print( ' 축하합니다 !  당첨번호는 ' , list_lotto , ' 입니다.')\n",
    "    print( ' 상금은 1000만원 입니다.')\n",
    "else:\n",
    "    print(' 당첨번호는 ' , list_lotto , ' 입니다.' )\n",
    "    print('꽝입니다.')"
   ]
  },
  {
   "cell_type": "code",
   "execution_count": 52,
   "metadata": {},
   "outputs": [
    {
     "ename": "NameError",
     "evalue": "name 'a' is not defined",
     "output_type": "error",
     "traceback": [
      "\u001b[1;31m---------------------------------------------------------------------------\u001b[0m",
      "\u001b[1;31mNameError\u001b[0m                                 Traceback (most recent call last)",
      "\u001b[1;32m<ipython-input-52-770e99aea489>\u001b[0m in \u001b[0;36m<module>\u001b[1;34m\u001b[0m\n\u001b[1;32m----> 1\u001b[1;33m \u001b[0mb\u001b[0m \u001b[1;33m=\u001b[0m \u001b[0mlist\u001b[0m\u001b[1;33m(\u001b[0m\u001b[0mstr\u001b[0m\u001b[1;33m(\u001b[0m\u001b[0ma\u001b[0m\u001b[1;33m)\u001b[0m\u001b[1;33m)\u001b[0m\u001b[1;33m\u001b[0m\u001b[1;33m\u001b[0m\u001b[0m\n\u001b[0m\u001b[0;32m      2\u001b[0m \u001b[0mprint\u001b[0m\u001b[1;33m(\u001b[0m\u001b[0mb\u001b[0m\u001b[1;33m)\u001b[0m\u001b[1;33m\u001b[0m\u001b[1;33m\u001b[0m\u001b[0m\n\u001b[0;32m      3\u001b[0m \u001b[0mc\u001b[0m \u001b[1;33m=\u001b[0m \u001b[1;36m0\u001b[0m\u001b[1;33m\u001b[0m\u001b[1;33m\u001b[0m\u001b[0m\n\u001b[0;32m      4\u001b[0m \u001b[1;32mfor\u001b[0m \u001b[0mi\u001b[0m \u001b[1;32min\u001b[0m \u001b[0mrange\u001b[0m\u001b[1;33m(\u001b[0m\u001b[0mlen\u001b[0m\u001b[1;33m(\u001b[0m\u001b[0mb\u001b[0m\u001b[1;33m)\u001b[0m\u001b[1;33m)\u001b[0m\u001b[1;33m:\u001b[0m\u001b[1;33m\u001b[0m\u001b[1;33m\u001b[0m\u001b[0m\n\u001b[0;32m      5\u001b[0m     \u001b[0mc\u001b[0m \u001b[1;33m+=\u001b[0m \u001b[0mint\u001b[0m\u001b[1;33m(\u001b[0m\u001b[0mb\u001b[0m\u001b[1;33m[\u001b[0m\u001b[0mi\u001b[0m\u001b[1;33m]\u001b[0m\u001b[1;33m)\u001b[0m\u001b[1;33m\u001b[0m\u001b[1;33m\u001b[0m\u001b[0m\n",
      "\u001b[1;31mNameError\u001b[0m: name 'a' is not defined"
     ]
    }
   ],
   "source": [
    "b = list(str(a))\n",
    "print(b)\n",
    "c = 0\n",
    "for i in range(len(b)):\n",
    "    c += int(b[i])\n",
    "print('+'.join(b),'=',c)"
   ]
  },
  {
   "cell_type": "code",
   "execution_count": 53,
   "metadata": {},
   "outputs": [
    {
     "ename": "TypeError",
     "evalue": "raw_input() takes from 1 to 2 positional arguments but 5 were given",
     "output_type": "error",
     "traceback": [
      "\u001b[1;31m---------------------------------------------------------------------------\u001b[0m",
      "\u001b[1;31mTypeError\u001b[0m                                 Traceback (most recent call last)",
      "\u001b[1;32m<ipython-input-53-fdfbf995fab0>\u001b[0m in \u001b[0;36m<module>\u001b[1;34m\u001b[0m\n\u001b[0;32m      4\u001b[0m \u001b[0mgu_2\u001b[0m \u001b[1;33m=\u001b[0m \u001b[0mrandom\u001b[0m\u001b[1;33m.\u001b[0m\u001b[0mrandint\u001b[0m\u001b[1;33m(\u001b[0m\u001b[1;36m1\u001b[0m\u001b[1;33m,\u001b[0m\u001b[1;36m10\u001b[0m\u001b[1;33m)\u001b[0m\u001b[1;33m\u001b[0m\u001b[1;33m\u001b[0m\u001b[0m\n\u001b[0;32m      5\u001b[0m \u001b[1;33m\u001b[0m\u001b[0m\n\u001b[1;32m----> 6\u001b[1;33m \u001b[0mplayer\u001b[0m \u001b[1;33m=\u001b[0m \u001b[0mint\u001b[0m\u001b[1;33m(\u001b[0m\u001b[0minput\u001b[0m\u001b[1;33m(\u001b[0m \u001b[0mgu_1\u001b[0m \u001b[1;33m,\u001b[0m \u001b[1;34m'*'\u001b[0m \u001b[1;33m,\u001b[0m \u001b[0mgu_2\u001b[0m \u001b[1;33m,\u001b[0m \u001b[1;34m'=?'\u001b[0m\u001b[1;33m)\u001b[0m\u001b[1;33m)\u001b[0m\u001b[1;33m\u001b[0m\u001b[1;33m\u001b[0m\u001b[0m\n\u001b[0m",
      "\u001b[1;31mTypeError\u001b[0m: raw_input() takes from 1 to 2 positional arguments but 5 were given"
     ]
    }
   ],
   "source": [
    "import random\n",
    "\n",
    "gu_1 = random.randint(1,10)\n",
    "gu_2 = random.randint(1,10)\n",
    "\n",
    "player = int(input( gu_1 , '*' , gu_2 , '=?'))\n"
   ]
  },
  {
   "cell_type": "code",
   "execution_count": null,
   "metadata": {},
   "outputs": [],
   "source": []
  }
 ],
 "metadata": {
  "kernelspec": {
   "display_name": "Python 3",
   "language": "python",
   "name": "python3"
  },
  "language_info": {
   "codemirror_mode": {
    "name": "ipython",
    "version": 3
   },
   "file_extension": ".py",
   "mimetype": "text/x-python",
   "name": "python",
   "nbconvert_exporter": "python",
   "pygments_lexer": "ipython3",
   "version": "3.7.6"
  }
 },
 "nbformat": 4,
 "nbformat_minor": 2
}
