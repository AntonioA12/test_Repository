{
 "cells": [
  {
   "cell_type": "code",
   "execution_count": 2,
   "metadata": {},
   "outputs": [],
   "source": [
    "from IPython.core.interactiveshell import InteractiveShell\n",
    "InteractiveShell.ast_node_interactivity = \"all\""
   ]
  },
  {
   "cell_type": "code",
   "execution_count": 3,
   "metadata": {},
   "outputs": [],
   "source": [
    "import numpy as np\n",
    "import matplotlib.pyplot as plt\n",
    "import random "
   ]
  },
  {
   "cell_type": "markdown",
   "metadata": {},
   "source": [
    "## 다양한 mathematical functions ( 수학함수들 ) \n",
    "\n",
    "- np.(수학함수명)\n",
    "- np.sin , np.cos  ( 사인 , 코사인 )\n",
    "- np.log ( 로그 ) \n",
    "- np.exp ( 지수 )\n",
    "- np.sqrt(제곱근) , np.power ( 제곱 )\n",
    "- np.around ( 0.5 기준으로 올림 혹은 내림 ) around(a,N) = a 를 N소수점자리 수 까지 반올림 \n",
    "- np. mod ( 첫번째 배열에서 두번째 배열을 나눈 후 리턴한다 ) \n",
    "- 등등..\n",
    "- 기준은 각각 element "
   ]
  },
  {
   "cell_type": "code",
   "execution_count": 7,
   "metadata": {},
   "outputs": [
    {
     "data": {
      "text/plain": [
       "array([[ 1,  2,  3,  4],\n",
       "       [ 5,  6,  7,  8],\n",
       "       [ 9, 10, 11, 12]])"
      ]
     },
     "execution_count": 7,
     "metadata": {},
     "output_type": "execute_result"
    },
    {
     "data": {
      "text/plain": [
       "array([[ 0.84147098,  0.90929743,  0.14112001, -0.7568025 ],\n",
       "       [-0.95892427, -0.2794155 ,  0.6569866 ,  0.98935825],\n",
       "       [ 0.41211849, -0.54402111, -0.99999021, -0.53657292]])"
      ]
     },
     "execution_count": 7,
     "metadata": {},
     "output_type": "execute_result"
    },
    {
     "data": {
      "text/plain": [
       "-2.4492935982947064e-16"
      ]
     },
     "execution_count": 7,
     "metadata": {},
     "output_type": "execute_result"
    }
   ],
   "source": [
    "m1 = np.arange(1,13).reshape(3,4)\n",
    "m1\n",
    "\n",
    "np.sin(m1) # sin \n",
    "\n",
    "np.sin(np.pi*2) "
   ]
  },
  {
   "cell_type": "code",
   "execution_count": 9,
   "metadata": {},
   "outputs": [
    {
     "data": {
      "text/plain": [
       "array([[0.        , 0.69314718, 1.09861229, 1.38629436],\n",
       "       [1.60943791, 1.79175947, 1.94591015, 2.07944154],\n",
       "       [2.19722458, 2.30258509, 2.39789527, 2.48490665]])"
      ]
     },
     "execution_count": 9,
     "metadata": {},
     "output_type": "execute_result"
    },
    {
     "data": {
      "text/plain": [
       "2.718281828459045"
      ]
     },
     "execution_count": 9,
     "metadata": {},
     "output_type": "execute_result"
    }
   ],
   "source": [
    "np.log(m1) # 그냥 쓰면 자연로그 \n",
    "\n",
    "np.e"
   ]
  },
  {
   "cell_type": "markdown",
   "metadata": {},
   "source": [
    "## 실습 \n",
    "\n",
    "- 1 부터 5 까지 정수에서 랜덤하게 뽑은 값으로 구성된 3x4 매트릭스를 만들고 \n",
    "- 해당 매트릭스의 각 element 의 제곱근의 합을 구하시오"
   ]
  },
  {
   "cell_type": "code",
   "execution_count": 19,
   "metadata": {},
   "outputs": [
    {
     "data": {
      "text/plain": [
       "24.562672234940713"
      ]
     },
     "execution_count": 19,
     "metadata": {},
     "output_type": "execute_result"
    }
   ],
   "source": [
    "m1 = np.random.randint(1,6 , size=(3,4))\n",
    "\n",
    "m2 = np.sqrt(m1)\n",
    "m2.sum()"
   ]
  },
  {
   "cell_type": "markdown",
   "metadata": {},
   "source": [
    "## 실습 2\n",
    "\n",
    "- 1부터 5까지 정수에서 랜덤하게 뽑은 값으로 구성된 3x4 매트릭스틀 만들고\n",
    "- 각 행별로  z-score 로 normalizaion(정규화) 하시오 \n",
    "- z-score = z = x-u (샘플)-(평균)/ 시그마 (표준편차)"
   ]
  },
  {
   "cell_type": "code",
   "execution_count": 42,
   "metadata": {},
   "outputs": [
    {
     "data": {
      "text/plain": [
       "array([[4, 4, 1, 4],\n",
       "       [1, 3, 4, 1],\n",
       "       [5, 1, 5, 5]])"
      ]
     },
     "execution_count": 42,
     "metadata": {},
     "output_type": "execute_result"
    },
    {
     "data": {
      "text/plain": [
       "array([3.25, 2.25, 4.  ])"
      ]
     },
     "execution_count": 42,
     "metadata": {},
     "output_type": "execute_result"
    },
    {
     "data": {
      "text/plain": [
       "array([1.29903811, 1.29903811, 1.73205081])"
      ]
     },
     "execution_count": 42,
     "metadata": {},
     "output_type": "execute_result"
    },
    {
     "data": {
      "text/plain": [
       "array([[ 1.49814883,  1.49814883, -1.50185117,  1.49814883],\n",
       "       [-0.73205081,  1.26794919,  2.26794919, -0.73205081],\n",
       "       [ 2.69059892, -1.30940108,  2.69059892,  2.69059892]])"
      ]
     },
     "execution_count": 42,
     "metadata": {},
     "output_type": "execute_result"
    }
   ],
   "source": [
    "m1 = np.random.randint(1,6 , size=(3,4))\n",
    "\n",
    "m1 \n",
    "# 평균\n",
    "m2 = m1.mean(axis = 1) # axis = 1 각 행별로 \n",
    "# 표준편차\n",
    "s1 = m1.std( axis = 1)\n",
    "\n",
    "m2 \n",
    "s1\n",
    "m1 - m2.reshape(3,1) / s1.reshape(3,1)"
   ]
  },
  {
   "cell_type": "code",
   "execution_count": 25,
   "metadata": {},
   "outputs": [
    {
     "data": {
      "text/plain": [
       "array([1, 2, 3, 4])"
      ]
     },
     "execution_count": 25,
     "metadata": {},
     "output_type": "execute_result"
    },
    {
     "data": {
      "text/plain": [
       "array([-1.34164079, -0.4472136 ,  0.4472136 ,  1.34164079])"
      ]
     },
     "execution_count": 25,
     "metadata": {},
     "output_type": "execute_result"
    }
   ],
   "source": [
    "a1 = np.array([1,2,3,4])\n",
    "\n",
    "a1\n",
    "m1 = a1.mean() # 평균 \n",
    "s1 = a1.std() # 표준편차 \n",
    "\n",
    "( a1 - m1 )  / s1 # 1 , 2, 3, 4 의 정규화의 값"
   ]
  },
  {
   "cell_type": "markdown",
   "metadata": {},
   "source": [
    "### comparisons\n",
    "\n",
    "- 두 ar1, ar2 의 element 들의 비교하는것"
   ]
  },
  {
   "cell_type": "markdown",
   "metadata": {},
   "source": [
    "### 기본적으로 shape 이 같은 두개의 array \n",
    "\n",
    "- 기본적인 element-wise 로 비교함 \n",
    "- 비교연산자 == , > , < , >= , <= , != 사용\n",
    "- 결과값은 T,F 로 나온다"
   ]
  },
  {
   "cell_type": "code",
   "execution_count": 15,
   "metadata": {},
   "outputs": [
    {
     "data": {
      "text/plain": [
       "array([[3, 1, 9],\n",
       "       [1, 6, 8]])"
      ]
     },
     "execution_count": 15,
     "metadata": {},
     "output_type": "execute_result"
    },
    {
     "data": {
      "text/plain": [
       "array([[8, 2, 6],\n",
       "       [1, 1, 3]])"
      ]
     },
     "execution_count": 15,
     "metadata": {},
     "output_type": "execute_result"
    },
    {
     "name": "stdout",
     "output_type": "stream",
     "text": [
      "###### m1 이 더 크면 True\n"
     ]
    },
    {
     "data": {
      "text/plain": [
       "array([[False, False,  True],\n",
       "       [False,  True,  True]])"
      ]
     },
     "execution_count": 15,
     "metadata": {},
     "output_type": "execute_result"
    },
    {
     "name": "stdout",
     "output_type": "stream",
     "text": [
      "###### m1 크면 True 작거나 같으면 False\n"
     ]
    },
    {
     "data": {
      "text/plain": [
       "array([[False, False,  True],\n",
       "       [ True,  True,  True]])"
      ]
     },
     "execution_count": 15,
     "metadata": {},
     "output_type": "execute_result"
    },
    {
     "name": "stdout",
     "output_type": "stream",
     "text": [
      "###### m2 가 크면 작으면 True\n"
     ]
    },
    {
     "data": {
      "text/plain": [
       "array([[ True,  True, False],\n",
       "       [False, False, False]])"
      ]
     },
     "execution_count": 15,
     "metadata": {},
     "output_type": "execute_result"
    },
    {
     "name": "stdout",
     "output_type": "stream",
     "text": [
      "###### m1 == m2 면 True\n"
     ]
    },
    {
     "data": {
      "text/plain": [
       "array([[False, False, False],\n",
       "       [ True, False, False]])"
      ]
     },
     "execution_count": 15,
     "metadata": {},
     "output_type": "execute_result"
    },
    {
     "name": "stdout",
     "output_type": "stream",
     "text": [
      "###### m1 와 m2 가 다르면 False\n"
     ]
    },
    {
     "data": {
      "text/plain": [
       "array([[ True,  True,  True],\n",
       "       [False,  True,  True]])"
      ]
     },
     "execution_count": 15,
     "metadata": {},
     "output_type": "execute_result"
    }
   ],
   "source": [
    "m1 = np.random.randint(1,11 ,size=(2,3))\n",
    "m2 = np.random.randint(1,11 ,size=(2,3))\n",
    "\n",
    "m1\n",
    "m2\n",
    "\n",
    "print('###### m1 이 더 크면 True' )\n",
    "m1>m2 # m2 가 m1 보다 작으면 True\n",
    "print('###### m1 크면 True 작거나 같으면 False' )\n",
    "m1>=m2\n",
    "print('###### m2 가 크면 작으면 True' )\n",
    "m1<m2\n",
    "print('###### m1 == m2 면 True' )\n",
    "m1==m2\n",
    "print('###### m1 와 m2 가 다르면 False' )\n",
    "m1!=m2"
   ]
  },
  {
   "cell_type": "markdown",
   "metadata": {},
   "source": [
    "### 두 배열의 shape 이 다른경우\n",
    "\n",
    "- broacasting 이 가능하면 comparsion 수행\n",
    "- broadcasting X = 에러 "
   ]
  },
  {
   "cell_type": "code",
   "execution_count": 18,
   "metadata": {},
   "outputs": [
    {
     "data": {
      "text/plain": [
       "array([[ 1, 10,  9],\n",
       "       [ 2, 10,  7]])"
      ]
     },
     "execution_count": 18,
     "metadata": {},
     "output_type": "execute_result"
    },
    {
     "data": {
      "text/plain": [
       "array([[5],\n",
       "       [4]])"
      ]
     },
     "execution_count": 18,
     "metadata": {},
     "output_type": "execute_result"
    },
    {
     "data": {
      "text/plain": [
       "array([[False,  True,  True],\n",
       "       [False,  True,  True]])"
      ]
     },
     "execution_count": 18,
     "metadata": {},
     "output_type": "execute_result"
    }
   ],
   "source": [
    "m1 = np.random.randint(1,11 ,size=(2,3))\n",
    "m2 = np.random.randint(1,11 ,size=(2,1))\n",
    "\n",
    "m1\n",
    "m2\n",
    "\n",
    "m1 > m2 # m2 가 자동으로 broadcasting 이 되었음"
   ]
  },
  {
   "cell_type": "markdown",
   "metadata": {},
   "source": [
    "### - comparsion 의 결과 값의 형태는 Boolean 이다. \n",
    "\n",
    "\n",
    "- 만약 sum 등 수학함수를 사용한다면 \n",
    "- True = 1 False = 0 으로 변환 한후에 수학함수가 실행된다."
   ]
  },
  {
   "cell_type": "code",
   "execution_count": 22,
   "metadata": {},
   "outputs": [
    {
     "data": {
      "text/plain": [
       "array([[ 5,  5,  9],\n",
       "       [ 7, 10,  9]])"
      ]
     },
     "execution_count": 22,
     "metadata": {},
     "output_type": "execute_result"
    },
    {
     "data": {
      "text/plain": [
       "array([[3],\n",
       "       [7]])"
      ]
     },
     "execution_count": 22,
     "metadata": {},
     "output_type": "execute_result"
    },
    {
     "data": {
      "text/plain": [
       "array([[ True,  True,  True],\n",
       "       [False,  True,  True]])"
      ]
     },
     "execution_count": 22,
     "metadata": {},
     "output_type": "execute_result"
    },
    {
     "data": {
      "text/plain": [
       "5"
      ]
     },
     "execution_count": 22,
     "metadata": {},
     "output_type": "execute_result"
    }
   ],
   "source": [
    "m1 = np.random.randint(1,11 ,size=(2,3))\n",
    "m2 = np.random.randint(1,11 ,size=(2,1))\n",
    "\n",
    "m1\n",
    "m2\n",
    "\n",
    "m1>m2\n",
    "m3 = m1 > m2 # m2 가 자동으로 broadcasting 이 되었음\n",
    "m3.sum()"
   ]
  },
  {
   "cell_type": "markdown",
   "metadata": {},
   "source": [
    "## 실습\n",
    "\n",
    "- 1~10 의 정수를 랜덤하게 뽑아 3x4 매트릭스로 만들어라\n",
    "1. 그중 3의 배수 의 개수를 구하여라\n",
    "2. 각 행 별로 3의 배수의 개수를 구하여라"
   ]
  },
  {
   "cell_type": "code",
   "execution_count": 53,
   "metadata": {
    "scrolled": true
   },
   "outputs": [
    {
     "data": {
      "text/plain": [
       "array([[6, 8, 4, 1],\n",
       "       [2, 5, 9, 6],\n",
       "       [4, 1, 5, 1]])"
      ]
     },
     "execution_count": 53,
     "metadata": {},
     "output_type": "execute_result"
    },
    {
     "data": {
      "text/plain": [
       "3"
      ]
     },
     "execution_count": 53,
     "metadata": {},
     "output_type": "execute_result"
    }
   ],
   "source": [
    "m1 = np.random.randint(1,11 , size=(3,4))\n",
    "m1\n",
    "(m1%3 == 0).sum()"
   ]
  },
  {
   "cell_type": "markdown",
   "metadata": {},
   "source": [
    "2. 각 행 별로 3의 배수의 개수를 구하여라"
   ]
  },
  {
   "cell_type": "code",
   "execution_count": 54,
   "metadata": {},
   "outputs": [
    {
     "data": {
      "text/plain": [
       "array([[ 1,  9,  8,  2],\n",
       "       [ 4,  9,  9, 10],\n",
       "       [ 3, 10,  9,  8]])"
      ]
     },
     "execution_count": 54,
     "metadata": {},
     "output_type": "execute_result"
    },
    {
     "data": {
      "text/plain": [
       "array([[1, 0, 2, 2],\n",
       "       [1, 0, 0, 1],\n",
       "       [0, 1, 0, 2]], dtype=int32)"
      ]
     },
     "execution_count": 54,
     "metadata": {},
     "output_type": "execute_result"
    },
    {
     "data": {
      "text/plain": [
       "array([1, 2, 2])"
      ]
     },
     "execution_count": 54,
     "metadata": {},
     "output_type": "execute_result"
    }
   ],
   "source": [
    "m1 = np.random.randint(1,11 , size=(3,4))\n",
    "\n",
    "m1\n",
    "\n",
    "m2 = m1%3\n",
    "m2\n",
    "m3 = m2==0\n",
    "\n",
    "m3.sum(axis=1)"
   ]
  },
  {
   "cell_type": "code",
   "execution_count": null,
   "metadata": {},
   "outputs": [],
   "source": []
  }
 ],
 "metadata": {
  "kernelspec": {
   "display_name": "Python 3",
   "language": "python",
   "name": "python3"
  },
  "language_info": {
   "codemirror_mode": {
    "name": "ipython",
    "version": 3
   },
   "file_extension": ".py",
   "mimetype": "text/x-python",
   "name": "python",
   "nbconvert_exporter": "python",
   "pygments_lexer": "ipython3",
   "version": "3.7.6"
  }
 },
 "nbformat": 4,
 "nbformat_minor": 4
}
