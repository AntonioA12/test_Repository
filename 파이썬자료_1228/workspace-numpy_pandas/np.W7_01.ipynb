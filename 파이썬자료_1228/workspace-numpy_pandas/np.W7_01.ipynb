{
 "cells": [
  {
   "cell_type": "code",
   "execution_count": 1,
   "metadata": {},
   "outputs": [],
   "source": [
    "from IPython.core.interactiveshell import InteractiveShell\n",
    "InteractiveShell.ast_node_interactivity = \"all\""
   ]
  },
  {
   "cell_type": "code",
   "execution_count": 10,
   "metadata": {},
   "outputs": [],
   "source": [
    "import numpy as np\n",
    "import random"
   ]
  },
  {
   "cell_type": "code",
   "execution_count": 14,
   "metadata": {},
   "outputs": [
    {
     "data": {
      "text/plain": [
       "array([[10,  1,  8,  5],\n",
       "       [ 4,  9,  8,  1],\n",
       "       [ 6,  4,  4,  5]])"
      ]
     },
     "execution_count": 14,
     "metadata": {},
     "output_type": "execute_result"
    },
    {
     "data": {
      "text/plain": [
       "array([[1, 1, 2, 2],\n",
       "       [1, 0, 2, 1],\n",
       "       [0, 1, 1, 2]], dtype=int32)"
      ]
     },
     "execution_count": 14,
     "metadata": {},
     "output_type": "execute_result"
    },
    {
     "data": {
      "text/plain": [
       "array([[False, False, False, False],\n",
       "       [False,  True, False, False],\n",
       "       [ True, False, False, False]])"
      ]
     },
     "execution_count": 14,
     "metadata": {},
     "output_type": "execute_result"
    }
   ],
   "source": [
    "m1 = np.random.randint(1,11 , size=(3,4))\n",
    "\n",
    "m2 = m1%3\n",
    "\n",
    "m3 = (m2==0)\n",
    "\n",
    "m1\n",
    "m2\n",
    "m3"
   ]
  },
  {
   "cell_type": "markdown",
   "metadata": {},
   "source": [
    "### 위에 코드를 한줄에 쓰기"
   ]
  },
  {
   "cell_type": "code",
   "execution_count": 18,
   "metadata": {
    "scrolled": true
   },
   "outputs": [
    {
     "data": {
      "text/plain": [
       "array([0, 1, 2, 0, 1], dtype=int32)"
      ]
     },
     "execution_count": 18,
     "metadata": {},
     "output_type": "execute_result"
    },
    {
     "data": {
      "text/plain": [
       "array([ True, False, False,  True, False])"
      ]
     },
     "execution_count": 18,
     "metadata": {},
     "output_type": "execute_result"
    },
    {
     "data": {
      "text/plain": [
       "2"
      ]
     },
     "execution_count": 18,
     "metadata": {},
     "output_type": "execute_result"
    }
   ],
   "source": [
    "m1 = np.arange(5)\n",
    "\n",
    "m1%3\n",
    "m1%3 == 0 \n",
    "\n",
    "np.sum(m1%3==0) # True 는 몇개인가 "
   ]
  },
  {
   "cell_type": "markdown",
   "metadata": {},
   "source": [
    "### 두개 이상의 comparison 결과 합치기 \n",
    "\n",
    "- comparison\n",
    "    - and 둘다 T 면 T \n",
    "    - or 둘  중 하나라도 T 면 T\n",
    "    - not T 라면 F  ( 결과의 반대 , 청개구리 )"
   ]
  },
  {
   "cell_type": "code",
   "execution_count": 20,
   "metadata": {},
   "outputs": [
    {
     "data": {
      "text/plain": [
       "array([34, 74, 28, 90,  3, 50, 62, 84])"
      ]
     },
     "execution_count": 20,
     "metadata": {},
     "output_type": "execute_result"
    },
    {
     "name": "stdout",
     "output_type": "stream",
     "text": [
      "1 [False False False  True False False False  True]\n",
      "2 [ True  True False  True  True  True  True  True]\n",
      "3 [False False False  True False False False  True]\n"
     ]
    }
   ],
   "source": [
    "a1 = np.random.randint(100 , size=8)\n",
    "\n",
    "a1\n",
    "\n",
    "a2 = a1%3==0 # 3 으로나누고 0이면 True\n",
    "a3 = a1>30  # 30  보다 크면 True\n",
    "a4 = a1>80  # 80 보다 크면 True \n",
    "\n",
    "print('1', a2&a3) # and  둘다 T 면 T \n",
    "print('2', a2 | a3) # or 하나라도 T 면 T \n",
    "print('3', a2&a3&a4) # and and 셋다 T 면 T"
   ]
  },
  {
   "cell_type": "code",
   "execution_count": 23,
   "metadata": {},
   "outputs": [
    {
     "data": {
      "text/plain": [
       "array([[82, 45, 22, 68],\n",
       "       [64, 28, 88, 37],\n",
       "       [91, 72, 66, 34]])"
      ]
     },
     "execution_count": 23,
     "metadata": {},
     "output_type": "execute_result"
    },
    {
     "data": {
      "text/plain": [
       "array([[False,  True, False, False],\n",
       "       [False, False, False, False],\n",
       "       [False, False, False, False]])"
      ]
     },
     "execution_count": 23,
     "metadata": {},
     "output_type": "execute_result"
    },
    {
     "data": {
      "text/plain": [
       "array([[ True, False,  True,  True],\n",
       "       [ True,  True,  True,  True],\n",
       "       [ True,  True,  True,  True]])"
      ]
     },
     "execution_count": 23,
     "metadata": {},
     "output_type": "execute_result"
    }
   ],
   "source": [
    "a1 = np.random.randint(100, size=(3,4))\n",
    "a1\n",
    "\n",
    "a2 = ( a1%5==0)\n",
    "a2  # 5 나눠서 0 나오면 True \n",
    "~a2  # 5 나눠서 0 나오면 False"
   ]
  },
  {
   "cell_type": "markdown",
   "metadata": {},
   "source": [
    "### 실습 \n",
    "\n",
    "- 4 8 12 16 20 40 의 각각 값의 제곱들의 6의 배수 갯수는?"
   ]
  },
  {
   "cell_type": "code",
   "execution_count": 30,
   "metadata": {},
   "outputs": [
    {
     "data": {
      "text/plain": [
       "array([  16,   64,  144,  256,  400,  576,  784, 1024, 1296, 1600],\n",
       "      dtype=int32)"
      ]
     },
     "execution_count": 30,
     "metadata": {},
     "output_type": "execute_result"
    },
    {
     "data": {
      "text/plain": [
       "array([4, 4, 0, 4, 4, 0, 4, 4, 0, 4], dtype=int32)"
      ]
     },
     "execution_count": 30,
     "metadata": {},
     "output_type": "execute_result"
    },
    {
     "data": {
      "text/plain": [
       "3"
      ]
     },
     "execution_count": 30,
     "metadata": {},
     "output_type": "execute_result"
    }
   ],
   "source": [
    "a1 = np.arange(4,41,4)\n",
    "\n",
    "a2 = a1**2\n",
    "\n",
    "a2\n",
    "a2%6\n",
    "\n",
    "np.sum((a2%6)==0)"
   ]
  },
  {
   "cell_type": "markdown",
   "metadata": {},
   "source": [
    "### 실습 2\n",
    "\n",
    "- randint(1,11) 함수로 3x3 매트릭스를 만들고 6을 제외한 3의 배수의 개수를 구하시오"
   ]
  },
  {
   "cell_type": "code",
   "execution_count": 56,
   "metadata": {},
   "outputs": [
    {
     "data": {
      "text/plain": [
       "array([[8, 4, 5],\n",
       "       [1, 2, 7],\n",
       "       [9, 4, 4]])"
      ]
     },
     "execution_count": 56,
     "metadata": {},
     "output_type": "execute_result"
    },
    {
     "data": {
      "text/plain": [
       "1"
      ]
     },
     "execution_count": 56,
     "metadata": {},
     "output_type": "execute_result"
    }
   ],
   "source": [
    "a1 = np.random.randint(1,11 ,size=(3,3))\n",
    "\n",
    "a1\n",
    "\n",
    "a2=(a1!=6)\n",
    "a3=(a1%3==0)\n",
    "a4=(a2&a3)\n",
    "\n",
    "# 위 3줄을 한줄로 \n",
    "np.sum((a1!=6)&(a1%3==0))"
   ]
  },
  {
   "cell_type": "markdown",
   "metadata": {},
   "source": [
    "## np.nan\n",
    "\n",
    "### nan \n",
    "    - nan = not a number\n",
    "    - 파일을 읽을 때 비어있는 경우는 np.nan 으로 채워진다 \n",
    "    \n",
    "### np.isnan(x)\n",
    "    - nan 이면 True\n",
    "### ~np.isnan(x)\n",
    "    - nan 이면 False\n",
    "### a1 == a1 \n",
    "    - 숫자면 T , nan 이면 F"
   ]
  },
  {
   "cell_type": "code",
   "execution_count": 54,
   "metadata": {},
   "outputs": [
    {
     "data": {
      "text/plain": [
       "array([ 1., nan,  2., nan,  3.])"
      ]
     },
     "execution_count": 54,
     "metadata": {},
     "output_type": "execute_result"
    },
    {
     "data": {
      "text/plain": [
       "array([False,  True, False,  True, False])"
      ]
     },
     "execution_count": 54,
     "metadata": {},
     "output_type": "execute_result"
    },
    {
     "data": {
      "text/plain": [
       "array([ True, False,  True, False,  True])"
      ]
     },
     "execution_count": 54,
     "metadata": {},
     "output_type": "execute_result"
    },
    {
     "data": {
      "text/plain": [
       "2"
      ]
     },
     "execution_count": 54,
     "metadata": {},
     "output_type": "execute_result"
    },
    {
     "data": {
      "text/plain": [
       "array([ True, False,  True, False,  True])"
      ]
     },
     "execution_count": 54,
     "metadata": {},
     "output_type": "execute_result"
    }
   ],
   "source": [
    "a1 = np.array([1,np.nan,2,np.nan,3])\n",
    "\n",
    "a1\n",
    "\n",
    "np.isnan(a1) #  nan 인 경우 True \n",
    "~np.isnan(a1) \n",
    "np.sum(np.isnan(a1))\n",
    "a1 == a1 # nan 이면 F 숫자면 True \n"
   ]
  },
  {
   "cell_type": "markdown",
   "metadata": {},
   "source": [
    "### np.where 조건문  ( argument  3개 ) 인 경우 \n",
    "\n",
    "- np.where ( 조건식 , a , b )\n",
    "    - 각 element 가 조건식에 대해 \n",
    "    - True 면 a 출력 \n",
    "    - False 면 b 출력\n"
   ]
  },
  {
   "cell_type": "code",
   "execution_count": 63,
   "metadata": {},
   "outputs": [
    {
     "data": {
      "text/plain": [
       "array([100, 200,  -2])"
      ]
     },
     "execution_count": 63,
     "metadata": {},
     "output_type": "execute_result"
    },
    {
     "data": {
      "text/plain": [
       "array([30, 30, 40])"
      ]
     },
     "execution_count": 63,
     "metadata": {},
     "output_type": "execute_result"
    },
    {
     "data": {
      "text/plain": [
       "array([-1, -1, 10])"
      ]
     },
     "execution_count": 63,
     "metadata": {},
     "output_type": "execute_result"
    }
   ],
   "source": [
    "a1 = np.array([100,200,-2])\n",
    "\n",
    "a1\n",
    "\n",
    "np.where(a1>0,30,40) # a1 이 0보다 크면 30, 0보다 작으면 40 \n",
    "np.where(a1>50, -1 , 10 )"
   ]
  },
  {
   "cell_type": "markdown",
   "metadata": {},
   "source": [
    "### np.where ( argument 1개 ) 인 경우 [ 1차원 ]\n",
    "\n",
    "- np.where(조건문)\n",
    "    - 조건문에 True 면 index 위치 출력(반환)\n",
    "    - 타입은 튜플"
   ]
  },
  {
   "cell_type": "code",
   "execution_count": 81,
   "metadata": {},
   "outputs": [
    {
     "data": {
      "text/plain": [
       "array([ 5, 44, 80, 13, 14])"
      ]
     },
     "execution_count": 81,
     "metadata": {},
     "output_type": "execute_result"
    },
    {
     "data": {
      "text/plain": [
       "(array([2], dtype=int64),)"
      ]
     },
     "execution_count": 81,
     "metadata": {},
     "output_type": "execute_result"
    },
    {
     "data": {
      "text/plain": [
       "tuple"
      ]
     },
     "execution_count": 81,
     "metadata": {},
     "output_type": "execute_result"
    },
    {
     "data": {
      "text/plain": [
       "1"
      ]
     },
     "execution_count": 81,
     "metadata": {},
     "output_type": "execute_result"
    },
    {
     "data": {
      "text/plain": [
       "array([2], dtype=int64)"
      ]
     },
     "execution_count": 81,
     "metadata": {},
     "output_type": "execute_result"
    },
    {
     "data": {
      "text/plain": [
       "numpy.ndarray"
      ]
     },
     "execution_count": 81,
     "metadata": {},
     "output_type": "execute_result"
    }
   ],
   "source": [
    "a1 = np.random.randint(100 , size=5)\n",
    "\n",
    "a1\n",
    "\n",
    "a2 = np.where(a1>50)\n",
    "\n",
    "a2\n",
    "type(a2)\n",
    "len(a2)\n",
    "a2[0]\n",
    "\n",
    "a3=a2[0]\n",
    "\n",
    "type(a3)"
   ]
  },
  {
   "cell_type": "markdown",
   "metadata": {},
   "source": [
    "### np.where 반환값은 튜플,  튜플을 np.array 로 바꿀려면\n",
    "\n",
    "    - a2 ( 반환된 튜플 데이터 )\n",
    "    - a3 = a2[0] \n",
    "    - a3 = np.array"
   ]
  },
  {
   "cell_type": "markdown",
   "metadata": {},
   "source": [
    "### np.where (조건문) [2차원]\n",
    "\n",
    "    - 출력값이 두 개의 인덱스가 나옴 \n",
    "    - 1개는 행 , 2개는 열 임\n",
    "    - ex) [0,0,1,1] , [0,2,4,6] 이면\n",
    "    - (0,0) (0,2) (1,4) (1,6) 가 완전한 인덱스 이다."
   ]
  },
  {
   "cell_type": "code",
   "execution_count": 88,
   "metadata": {},
   "outputs": [
    {
     "data": {
      "text/plain": [
       "array([[100, 101, 102, 103, 104],\n",
       "       [105, 106, 107, 108, 109]])"
      ]
     },
     "execution_count": 88,
     "metadata": {},
     "output_type": "execute_result"
    },
    {
     "data": {
      "text/plain": [
       "(array([0, 0, 0, 1, 1], dtype=int64), array([0, 2, 4, 1, 3], dtype=int64))"
      ]
     },
     "execution_count": 88,
     "metadata": {},
     "output_type": "execute_result"
    },
    {
     "data": {
      "text/plain": [
       "tuple"
      ]
     },
     "execution_count": 88,
     "metadata": {},
     "output_type": "execute_result"
    },
    {
     "data": {
      "text/plain": [
       "array([0, 0, 0, 1, 1], dtype=int64)"
      ]
     },
     "execution_count": 88,
     "metadata": {},
     "output_type": "execute_result"
    },
    {
     "data": {
      "text/plain": [
       "numpy.ndarray"
      ]
     },
     "execution_count": 88,
     "metadata": {},
     "output_type": "execute_result"
    },
    {
     "data": {
      "text/plain": [
       "[(0, 0), (0, 2), (0, 4), (1, 1), (1, 3)]"
      ]
     },
     "execution_count": 88,
     "metadata": {},
     "output_type": "execute_result"
    }
   ],
   "source": [
    "a1 = np.arange(100,110).reshape(2,5)\n",
    "\n",
    "a1\n",
    "\n",
    "b= np.where(a1%2==0)\n",
    "\n",
    "b\n",
    "type(b)\n",
    "\n",
    "b2 =b[0] #행의 인덱스 \n",
    "b3 =b[1] #열의 인덱스\n",
    "b2\n",
    "type(b2)\n",
    "\n",
    "list(zip(b2,b3)) # 행 과 열 을 묶음 "
   ]
  },
  {
   "cell_type": "markdown",
   "metadata": {},
   "source": [
    "### 실습 3\n",
    "\n",
    "- randint (1,11) 함수로 5x5 매트릭스를 만들고\n",
    "- 1. 그 안의 7이상 숫자를 모두 더하시오\n",
    "\n",
    "- 2. 그 안의 7이상의 숫자면서 짝수를 모두 더하시오"
   ]
  },
  {
   "cell_type": "code",
   "execution_count": 117,
   "metadata": {},
   "outputs": [
    {
     "data": {
      "text/plain": [
       "array([[ 4, 10,  5, 10,  5],\n",
       "       [ 1,  7,  4,  6,  6],\n",
       "       [ 5,  4,  4,  7,  2],\n",
       "       [ 9,  8,  6,  6,  2],\n",
       "       [ 8, 10,  8,  8,  8]])"
      ]
     },
     "execution_count": 117,
     "metadata": {},
     "output_type": "execute_result"
    },
    {
     "name": "stdout",
     "output_type": "stream",
     "text": [
      "10 0 1\n",
      "10 0 3\n",
      "8 3 1\n",
      "8 4 0\n",
      "10 4 1\n",
      "8 4 2\n",
      "8 4 3\n",
      "8 4 4\n"
     ]
    },
    {
     "data": {
      "text/plain": [
       "70"
      ]
     },
     "execution_count": 117,
     "metadata": {},
     "output_type": "execute_result"
    }
   ],
   "source": [
    "m1 = np.random.randint(1,11 , size=(5,5))\n",
    "\n",
    "m1\n",
    "\n",
    "b1 = (m1>=7)&(m1%2==0)\n",
    "c1 = np.where(b1)\n",
    "\n",
    "s1 = 0\n",
    "\n",
    "for ii,jj in zip(c1[0],c1[1]):\n",
    "    s1 += m1[ii,jj]\n",
    "    print(m1[ii,jj],ii,jj)\n",
    "\n",
    "s1\n"
   ]
  },
  {
   "cell_type": "code",
   "execution_count": null,
   "metadata": {},
   "outputs": [],
   "source": []
  },
  {
   "cell_type": "code",
   "execution_count": null,
   "metadata": {},
   "outputs": [],
   "source": []
  }
 ],
 "metadata": {
  "kernelspec": {
   "display_name": "Python 3",
   "language": "python",
   "name": "python3"
  },
  "language_info": {
   "codemirror_mode": {
    "name": "ipython",
    "version": 3
   },
   "file_extension": ".py",
   "mimetype": "text/x-python",
   "name": "python",
   "nbconvert_exporter": "python",
   "pygments_lexer": "ipython3",
   "version": "3.7.6"
  }
 },
 "nbformat": 4,
 "nbformat_minor": 4
}
