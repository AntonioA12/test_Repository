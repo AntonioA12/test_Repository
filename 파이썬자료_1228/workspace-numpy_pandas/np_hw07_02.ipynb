{
 "cells": [
  {
   "cell_type": "code",
   "execution_count": 1,
   "metadata": {},
   "outputs": [],
   "source": [
    "from IPython.core.interactiveshell import InteractiveShell\n",
    "InteractiveShell.ast_node_interactivity = \"all\""
   ]
  },
  {
   "cell_type": "code",
   "execution_count": 2,
   "metadata": {},
   "outputs": [],
   "source": [
    "import numpy as np"
   ]
  },
  {
   "cell_type": "markdown",
   "metadata": {},
   "source": [
    "### 과제 2 \n",
    "\n",
    "    - 주어진 array 의 0행 = 5명의 수학점수\n",
    "    - 1행 = 영어점수\n",
    "    - 2행 = 나이  일때,\n",
    "    - 영어보다 수학점수가 큰 사람의 나이의 합은?"
   ]
  },
  {
   "cell_type": "code",
   "execution_count": 42,
   "metadata": {},
   "outputs": [
    {
     "data": {
      "text/plain": [
       "array([[5, 5, 4, 8, 2],\n",
       "       [7, 2, 8, 1, 8],\n",
       "       [1, 4, 8, 7, 0]])"
      ]
     },
     "execution_count": 42,
     "metadata": {},
     "output_type": "execute_result"
    },
    {
     "data": {
      "text/plain": [
       "array([False,  True, False,  True, False])"
      ]
     },
     "execution_count": 42,
     "metadata": {},
     "output_type": "execute_result"
    },
    {
     "data": {
      "text/plain": [
       "array([4, 7])"
      ]
     },
     "execution_count": 42,
     "metadata": {},
     "output_type": "execute_result"
    }
   ],
   "source": [
    "a1 = np.random.randint(10 , size=(3,5))\n",
    "\n",
    "a1\n",
    "math = a1[0,:] # 수학점수\n",
    "eng = a1[1,:] # 영어점수 \n",
    "age = a1[2,:] # 나이\n",
    "\n",
    "m = math>eng # 수학점수>영어점수 인 수학점수 element\n",
    "m\n",
    "age[m] # 수학점수>영어점수 인 나이 "
   ]
  }
 ],
 "metadata": {
  "kernelspec": {
   "display_name": "Python 3",
   "language": "python",
   "name": "python3"
  },
  "language_info": {
   "codemirror_mode": {
    "name": "ipython",
    "version": 3
   },
   "file_extension": ".py",
   "mimetype": "text/x-python",
   "name": "python",
   "nbconvert_exporter": "python",
   "pygments_lexer": "ipython3",
   "version": "3.7.6"
  }
 },
 "nbformat": 4,
 "nbformat_minor": 4
}
