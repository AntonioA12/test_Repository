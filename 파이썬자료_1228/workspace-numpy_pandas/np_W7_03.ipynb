{
 "cells": [
  {
   "cell_type": "code",
   "execution_count": 1,
   "metadata": {},
   "outputs": [],
   "source": [
    "from IPython.core.interactiveshell import InteractiveShell\n",
    "InteractiveShell.ast_node_interactivity = \"all\""
   ]
  },
  {
   "cell_type": "code",
   "execution_count": 2,
   "metadata": {},
   "outputs": [],
   "source": [
    "import numpy as np"
   ]
  },
  {
   "cell_type": "markdown",
   "metadata": {},
   "source": [
    "### fancy index \n",
    "\n",
    "    - index 를 사용해서 값을 추출하는 방법\n",
    "    - boolean 은 T,F \n",
    "    - a1[b] [b] 의 인덱스위치에있는 a1 를 출력하라"
   ]
  },
  {
   "cell_type": "code",
   "execution_count": 5,
   "metadata": {},
   "outputs": [
    {
     "data": {
      "text/plain": [
       "array([1, 2, 3, 4])"
      ]
     },
     "execution_count": 5,
     "metadata": {},
     "output_type": "execute_result"
    },
    {
     "data": {
      "text/plain": [
       "array([0, 0, 3, 2])"
      ]
     },
     "execution_count": 5,
     "metadata": {},
     "output_type": "execute_result"
    },
    {
     "data": {
      "text/plain": [
       "array([1, 1, 4, 3])"
      ]
     },
     "execution_count": 5,
     "metadata": {},
     "output_type": "execute_result"
    }
   ],
   "source": [
    "a1 = np.array([1,2,3,4])\n",
    "index = np.array([0,0,3,2])\n",
    "\n",
    "a1\n",
    "index\n",
    "\n",
    "a1[index]"
   ]
  },
  {
   "cell_type": "code",
   "execution_count": 11,
   "metadata": {},
   "outputs": [
    {
     "data": {
      "text/plain": [
       "array([[ 6,  4,  4,  6,  5],\n",
       "       [10,  6,  9,  2,  4],\n",
       "       [ 6,  1,  6,  6,  2],\n",
       "       [ 3,  3, 10,  9,  4],\n",
       "       [ 2,  3,  4,  7,  7]])"
      ]
     },
     "execution_count": 11,
     "metadata": {},
     "output_type": "execute_result"
    },
    {
     "data": {
      "text/plain": [
       "array([[10,  6,  9,  2,  4],\n",
       "       [ 6,  1,  6,  6,  2],\n",
       "       [ 2,  3,  4,  7,  7]])"
      ]
     },
     "execution_count": 11,
     "metadata": {},
     "output_type": "execute_result"
    },
    {
     "data": {
      "text/plain": [
       "array([[ 4,  6,  5],\n",
       "       [ 9,  2,  4],\n",
       "       [ 6,  6,  2],\n",
       "       [10,  9,  4],\n",
       "       [ 4,  7,  7]])"
      ]
     },
     "execution_count": 11,
     "metadata": {},
     "output_type": "execute_result"
    },
    {
     "data": {
      "text/plain": [
       "array([[ 6,  4,  4,  6,  5],\n",
       "       [ 6,  4,  4,  6,  5],\n",
       "       [ 6,  4,  4,  6,  5],\n",
       "       [ 6,  4,  4,  6,  5],\n",
       "       [10,  6,  9,  2,  4]])"
      ]
     },
     "execution_count": 11,
     "metadata": {},
     "output_type": "execute_result"
    },
    {
     "data": {
      "text/plain": [
       "array([[4, 4, 4, 6],\n",
       "       [6, 6, 6, 2],\n",
       "       [1, 1, 1, 6],\n",
       "       [3, 3, 3, 9],\n",
       "       [3, 3, 3, 7]])"
      ]
     },
     "execution_count": 11,
     "metadata": {},
     "output_type": "execute_result"
    }
   ],
   "source": [
    "a1 = np.random.randint(1,11 ,size=(5,5))\n",
    "a1\n",
    "a1[[1,2,4],:] # [1,2,4] 행의 전체열을 가져오겠다\n",
    "a1[:,[2,3,4]] # [2,3,4] 열의 전체 행을 가져오겠다.\n",
    "a1[[0,0,0,0,1],:] # 0 행 4번 1행 1번\n",
    "a1[:,[1,1,1,3]] # "
   ]
  },
  {
   "cell_type": "code",
   "execution_count": 13,
   "metadata": {},
   "outputs": [
    {
     "data": {
      "text/plain": [
       "array([[31, 13, 27,  3, 91],\n",
       "       [83, 80, 45, 51, 77],\n",
       "       [40, 65, 15, 78, 20],\n",
       "       [59, 74, 14, 55, 70]])"
      ]
     },
     "execution_count": 13,
     "metadata": {},
     "output_type": "execute_result"
    },
    {
     "data": {
      "text/plain": [
       "array([27, 51, 15])"
      ]
     },
     "execution_count": 13,
     "metadata": {},
     "output_type": "execute_result"
    }
   ],
   "source": [
    "# 특정 element \n",
    "\n",
    "a1 = np.random.randint(100, size=(4,5))\n",
    "a1\n",
    "\n",
    "a1[[0,1,2],[2,3,2]] # (0,1) (1,3) (2,2) 을 가져오겠다."
   ]
  },
  {
   "cell_type": "markdown",
   "metadata": {},
   "source": [
    "### fancy index 와 where"
   ]
  },
  {
   "cell_type": "code",
   "execution_count": 17,
   "metadata": {},
   "outputs": [
    {
     "data": {
      "text/plain": [
       "array([[ 9, 51, 21, 11, 38],\n",
       "       [77, 56, 14, 44, 85],\n",
       "       [89, 21,  5, 38, 57],\n",
       "       [10, 83, 18,  7, 94]])"
      ]
     },
     "execution_count": 17,
     "metadata": {},
     "output_type": "execute_result"
    },
    {
     "data": {
      "text/plain": [
       "(array([1, 1, 2, 3, 3], dtype=int64), array([0, 4, 0, 1, 4], dtype=int64))"
      ]
     },
     "execution_count": 17,
     "metadata": {},
     "output_type": "execute_result"
    },
    {
     "data": {
      "text/plain": [
       "array([77, 85, 89, 83, 94])"
      ]
     },
     "execution_count": 17,
     "metadata": {},
     "output_type": "execute_result"
    },
    {
     "data": {
      "text/plain": [
       "[77, 85, 89, 83, 94]"
      ]
     },
     "execution_count": 17,
     "metadata": {},
     "output_type": "execute_result"
    }
   ],
   "source": [
    "a1 = np.random.randint(100 , size=(4,5))\n",
    "a1\n",
    "\n",
    "b1 = np.where(a1>70)\n",
    "b1\n",
    "\n",
    "# fancy index 와 where\n",
    "li = a1[b1]\n",
    "li\n",
    "\n",
    "# where 대신 list(zip ()) 을 쓰는경우\n",
    "\n",
    "l2 =[]\n",
    "\n",
    "for ii , jj in zip(b1[0],b1[1]):\n",
    "    l2.append(a1[ii,jj])\n",
    "l2"
   ]
  },
  {
   "cell_type": "markdown",
   "metadata": {},
   "source": [
    "### 실습\n"
   ]
  },
  {
   "cell_type": "code",
   "execution_count": 34,
   "metadata": {},
   "outputs": [
    {
     "data": {
      "text/plain": [
       "array([1000, 1000, 1500, 2000, 1500, 2000, 1000])"
      ]
     },
     "execution_count": 34,
     "metadata": {},
     "output_type": "execute_result"
    },
    {
     "data": {
      "text/plain": [
       "10000"
      ]
     },
     "execution_count": 34,
     "metadata": {},
     "output_type": "execute_result"
    }
   ],
   "source": [
    "p1 = np.array([1000,2000,1500,2000])\n",
    "o1 = np.array([1,1,3,2,3,4,1])\n",
    "\n",
    "p1[o1-1]\n",
    "p1[o1-1].sum()"
   ]
  },
  {
   "cell_type": "markdown",
   "metadata": {},
   "source": [
    "### 실습2\n",
    "\n",
    "    - nan 이 없는 행들만 추출 하시오"
   ]
  },
  {
   "cell_type": "code",
   "execution_count": 58,
   "metadata": {},
   "outputs": [
    {
     "data": {
      "text/plain": [
       "array([[ 8., nan,  1.,  5.],\n",
       "       [ 0., nan, nan,  5.],\n",
       "       [ 1.,  5.,  5.,  8.],\n",
       "       [ 8.,  0.,  7., nan],\n",
       "       [ 0.,  3.,  7.,  5.],\n",
       "       [ 2.,  8.,  7.,  7.]])"
      ]
     },
     "execution_count": 58,
     "metadata": {},
     "output_type": "execute_result"
    },
    {
     "data": {
      "text/plain": [
       "array([[False,  True, False, False],\n",
       "       [False,  True,  True, False],\n",
       "       [False, False, False, False],\n",
       "       [False, False, False,  True],\n",
       "       [False, False, False, False],\n",
       "       [False, False, False, False]])"
      ]
     },
     "execution_count": 58,
     "metadata": {},
     "output_type": "execute_result"
    },
    {
     "data": {
      "text/plain": [
       "array([1, 2, 0, 1, 0, 0])"
      ]
     },
     "execution_count": 58,
     "metadata": {},
     "output_type": "execute_result"
    },
    {
     "data": {
      "text/plain": [
       "array([[1., 5., 5., 8.],\n",
       "       [0., 3., 7., 5.],\n",
       "       [2., 8., 7., 7.]])"
      ]
     },
     "execution_count": 58,
     "metadata": {},
     "output_type": "execute_result"
    }
   ],
   "source": [
    "a1 = np.random.randint(10 , size=(6,4))\n",
    "a1 = a1.astype(float)\n",
    "\n",
    "a1[[0,1,1,3],[1,1,2,3]]=np.nan\n",
    "a1\n",
    "\n",
    "np.isnan(a1)\n",
    "a2 = np.isnan(a1).sum(axis=1)\n",
    "a2\n",
    "b1 = (a2 ==0)\n",
    "\n",
    "a1[b1]"
   ]
  },
  {
   "cell_type": "code",
   "execution_count": null,
   "metadata": {},
   "outputs": [],
   "source": []
  }
 ],
 "metadata": {
  "kernelspec": {
   "display_name": "Python 3",
   "language": "python",
   "name": "python3"
  },
  "language_info": {
   "codemirror_mode": {
    "name": "ipython",
    "version": 3
   },
   "file_extension": ".py",
   "mimetype": "text/x-python",
   "name": "python",
   "nbconvert_exporter": "python",
   "pygments_lexer": "ipython3",
   "version": "3.7.6"
  }
 },
 "nbformat": 4,
 "nbformat_minor": 4
}
