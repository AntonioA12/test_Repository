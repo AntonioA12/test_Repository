{
 "cells": [
  {
   "cell_type": "code",
   "execution_count": 1,
   "metadata": {},
   "outputs": [],
   "source": [
    "from IPython.core.interactiveshell import InteractiveShell\n",
    "InteractiveShell.ast_node_interactivity = 'all'\n",
    "\n",
    "import numpy as np\n",
    "import pandas as pd"
   ]
  },
  {
   "cell_type": "markdown",
   "metadata": {},
   "source": [
    "# 8W : Series index , dtype , name "
   ]
  },
  {
   "cell_type": "markdown",
   "metadata": {},
   "source": [
    "## 실습 : missing value 의 개수를 출력하시오"
   ]
  },
  {
   "cell_type": "code",
   "execution_count": 7,
   "metadata": {},
   "outputs": [
    {
     "data": {
      "text/plain": [
       "array([1, 1, 0, 2, 0, 0, 1, 1, 1, 0, 0, 2, 0, 1, 1])"
      ]
     },
     "execution_count": 7,
     "metadata": {},
     "output_type": "execute_result"
    }
   ],
   "source": [
    "a1 =np.genfromtxt(fname= 'proj1.txt', dtype=float , delimiter='\\t')\n",
    "\n",
    "b1 = np.isnan(a1)\n",
    "\n",
    "\n",
    "b1.sum(axis=1)"
   ]
  },
  {
   "cell_type": "markdown",
   "metadata": {},
   "source": [
    "## 실습 : Series 만들기"
   ]
  },
  {
   "cell_type": "code",
   "execution_count": 8,
   "metadata": {
    "collapsed": true
   },
   "outputs": [
    {
     "data": {
      "text/plain": [
       "ds_index\n",
       "a    0.0\n",
       "1    1.0\n",
       "b    2.0\n",
       "2    3.0\n",
       "c    4.0\n",
       "3    5.0\n",
       "Name: ds, dtype: float64"
      ]
     },
     "execution_count": 8,
     "metadata": {},
     "output_type": "execute_result"
    },
    {
     "data": {
      "text/plain": [
       "ds_index\n",
       "a    0\n",
       "1    1\n",
       "b    2\n",
       "2    3\n",
       "c    4\n",
       "3    5\n",
       "Name: ds, dtype: int32"
      ]
     },
     "execution_count": 8,
     "metadata": {},
     "output_type": "execute_result"
    }
   ],
   "source": [
    "s1 = pd.Series(np.arange(6,dtype=float), index=['a','1','b','2','c','3'] , name ='ds')\n",
    "s1.index.name='ds_index'\n",
    "s1\n",
    "\n",
    "s1 = s1.astype(int)\n",
    "\n"
   ]
  },
  {
   "cell_type": "markdown",
   "metadata": {},
   "source": [
    "# 9W : Series indexing slicing iloc , loc , nonnull()"
   ]
  },
  {
   "cell_type": "markdown",
   "metadata": {},
   "source": [
    "## 실습 : values 를 활용해 3이상의 value 들의 평균을 구하시오"
   ]
  },
  {
   "cell_type": "code",
   "execution_count": 9,
   "metadata": {
    "collapsed": true
   },
   "outputs": [
    {
     "data": {
      "text/plain": [
       "1    6\n",
       "2    7\n",
       "3    9\n",
       "4    7\n",
       "5    5\n",
       "dtype: int32"
      ]
     },
     "execution_count": 9,
     "metadata": {},
     "output_type": "execute_result"
    },
    {
     "data": {
      "text/plain": [
       "array([6, 7, 9, 7, 5])"
      ]
     },
     "execution_count": 9,
     "metadata": {},
     "output_type": "execute_result"
    },
    {
     "data": {
      "text/plain": [
       "array([6, 7, 9, 7, 5])"
      ]
     },
     "execution_count": 9,
     "metadata": {},
     "output_type": "execute_result"
    },
    {
     "data": {
      "text/plain": [
       "6.8"
      ]
     },
     "execution_count": 9,
     "metadata": {},
     "output_type": "execute_result"
    }
   ],
   "source": [
    "s1=pd.Series(np.random.randint(0,10,size=5), index=range(1,6))\n",
    "s1\n",
    "a1=s1.values\n",
    "a1\n",
    "a2=a1[a1>=3]\n",
    "a2\n",
    "a2.mean()"
   ]
  },
  {
   "cell_type": "markdown",
   "metadata": {},
   "source": [
    "## 실습 : loc 과 iloc 을 이용해 indexing"
   ]
  },
  {
   "cell_type": "code",
   "execution_count": 10,
   "metadata": {
    "collapsed": true
   },
   "outputs": [
    {
     "data": {
      "text/plain": [
       "e    0\n",
       "1    1\n",
       "d    2\n",
       "2    3\n",
       "c    4\n",
       "3    5\n",
       "b    6\n",
       "4    7\n",
       "a    8\n",
       "5    9\n",
       "dtype: int32"
      ]
     },
     "execution_count": 10,
     "metadata": {},
     "output_type": "execute_result"
    },
    {
     "data": {
      "text/plain": [
       "2"
      ]
     },
     "execution_count": 10,
     "metadata": {},
     "output_type": "execute_result"
    },
    {
     "data": {
      "text/plain": [
       "5    9\n",
       "dtype: int32"
      ]
     },
     "execution_count": 10,
     "metadata": {},
     "output_type": "execute_result"
    },
    {
     "data": {
      "text/plain": [
       "d    2\n",
       "c    4\n",
       "b    6\n",
       "dtype: int32"
      ]
     },
     "execution_count": 10,
     "metadata": {},
     "output_type": "execute_result"
    },
    {
     "data": {
      "text/plain": [
       "2"
      ]
     },
     "execution_count": 10,
     "metadata": {},
     "output_type": "execute_result"
    },
    {
     "data": {
      "text/plain": [
       "5    9\n",
       "dtype: int32"
      ]
     },
     "execution_count": 10,
     "metadata": {},
     "output_type": "execute_result"
    },
    {
     "data": {
      "text/plain": [
       "d    2\n",
       "c    4\n",
       "b    6\n",
       "dtype: int32"
      ]
     },
     "execution_count": 10,
     "metadata": {},
     "output_type": "execute_result"
    }
   ],
   "source": [
    "s1=pd.Series(np.arange(10), index=list('e1d2c3b4a5'))\n",
    "s1\n",
    "s1.loc['d']\n",
    "s1.loc[['5']]\n",
    "s1.loc['d':'b':2]\n",
    "\n",
    "s1.iloc[2]\n",
    "s1.iloc[[-1]]\n",
    "s1.iloc[2:7:2]"
   ]
  },
  {
   "cell_type": "markdown",
   "metadata": {},
   "source": [
    "## 실습 : Series 에 *3 +1 이후 , 5의 배수로 나눈뒤 , np.sum() 하라"
   ]
  },
  {
   "cell_type": "code",
   "execution_count": 11,
   "metadata": {
    "collapsed": true
   },
   "outputs": [
    {
     "data": {
      "text/plain": [
       "0    1\n",
       "1    6\n",
       "2    6\n",
       "3    6\n",
       "4    9\n",
       "5    2\n",
       "6    7\n",
       "7    0\n",
       "8    8\n",
       "9    7\n",
       "dtype: int32"
      ]
     },
     "execution_count": 11,
     "metadata": {},
     "output_type": "execute_result"
    },
    {
     "data": {
      "text/plain": [
       "0     4\n",
       "1    19\n",
       "2    19\n",
       "3    19\n",
       "4    28\n",
       "5     7\n",
       "6    22\n",
       "7     1\n",
       "8    25\n",
       "9    22\n",
       "dtype: int32"
      ]
     },
     "execution_count": 11,
     "metadata": {},
     "output_type": "execute_result"
    },
    {
     "data": {
      "text/plain": [
       "8    25\n",
       "dtype: int32"
      ]
     },
     "execution_count": 11,
     "metadata": {},
     "output_type": "execute_result"
    },
    {
     "data": {
      "text/plain": [
       "8"
      ]
     },
     "execution_count": 11,
     "metadata": {},
     "output_type": "execute_result"
    }
   ],
   "source": [
    "sr1=pd.Series(np.random.randint(10,size=10))\n",
    "sr1\n",
    "sr2=sr1*3+1\n",
    "sr2\n",
    "sr3=sr2[sr2%5==0]\n",
    "sr3\n",
    "ar1=np.array(sr3.index)\n",
    "ar1.sum()"
   ]
  },
  {
   "cell_type": "markdown",
   "metadata": {},
   "source": [
    "## 실습 : Series 와 sort_values ( 가장 큰수 구하기)"
   ]
  },
  {
   "cell_type": "code",
   "execution_count": 12,
   "metadata": {},
   "outputs": [
    {
     "data": {
      "text/plain": [
       "a    92\n",
       "b    39\n",
       "c    41\n",
       "d    75\n",
       "e    63\n",
       "f    36\n",
       "dtype: int32"
      ]
     },
     "execution_count": 12,
     "metadata": {},
     "output_type": "execute_result"
    },
    {
     "data": {
      "text/plain": [
       "a    92\n",
       "d    75\n",
       "e    63\n",
       "c    41\n",
       "b    39\n",
       "f    36\n",
       "dtype: int32"
      ]
     },
     "execution_count": 12,
     "metadata": {},
     "output_type": "execute_result"
    },
    {
     "data": {
      "text/plain": [
       "Index(['a', 'd', 'e', 'c', 'b', 'f'], dtype='object')"
      ]
     },
     "execution_count": 12,
     "metadata": {},
     "output_type": "execute_result"
    },
    {
     "data": {
      "text/plain": [
       "'d'"
      ]
     },
     "execution_count": 12,
     "metadata": {},
     "output_type": "execute_result"
    }
   ],
   "source": [
    "sr1=pd.Series(np.random.randint(100,size=6), index=list('abcdef'))\n",
    "sr1\n",
    "sr1=sr1.sort_values(ascending=False)\n",
    "sr1\n",
    "sr1.index\n",
    "sr1.index[1]"
   ]
  },
  {
   "cell_type": "markdown",
   "metadata": {},
   "source": [
    "## Sr1 ,sr2 , sr3 공통적으로 있는 값 np.sum()"
   ]
  },
  {
   "cell_type": "code",
   "execution_count": 13,
   "metadata": {},
   "outputs": [
    {
     "data": {
      "text/plain": [
       "c    0\n",
       "e    2\n",
       "f    9\n",
       "g    2\n",
       "d    0\n",
       "dtype: int32"
      ]
     },
     "execution_count": 13,
     "metadata": {},
     "output_type": "execute_result"
    },
    {
     "data": {
      "text/plain": [
       "f    8\n",
       "g    0\n",
       "b    6\n",
       "e    7\n",
       "c    8\n",
       "dtype: int32"
      ]
     },
     "execution_count": 13,
     "metadata": {},
     "output_type": "execute_result"
    },
    {
     "data": {
      "text/plain": [
       "c    7\n",
       "g    9\n",
       "d    6\n",
       "h    7\n",
       "e    7\n",
       "dtype: int32"
      ]
     },
     "execution_count": 13,
     "metadata": {},
     "output_type": "execute_result"
    },
    {
     "data": {
      "text/plain": [
       "b     NaN\n",
       "c    15.0\n",
       "d     NaN\n",
       "e    16.0\n",
       "f     NaN\n",
       "g    11.0\n",
       "h     NaN\n",
       "dtype: float64"
      ]
     },
     "execution_count": 13,
     "metadata": {},
     "output_type": "execute_result"
    },
    {
     "data": {
      "text/plain": [
       "42.0"
      ]
     },
     "execution_count": 13,
     "metadata": {},
     "output_type": "execute_result"
    }
   ],
   "source": [
    "s1=pd.Series(np.random.randint(10,size=5), index=np.random.choice(list('abcdefgh'), size=5, replace=False))\n",
    "s1\n",
    "s2=pd.Series(np.random.randint(10,size=5), index=np.random.choice(list('abcdefgh'), size=5, replace=False))\n",
    "s2\n",
    "s3=pd.Series(np.random.randint(10,size=5), index=np.random.choice(list('abcdefgh'), size=5, replace=False))\n",
    "s3\n",
    "\n",
    "s4=s1+s2+s3\n",
    "s4\n",
    "s5=s4[s4.notnull()]\n",
    "s5.sum()"
   ]
  },
  {
   "cell_type": "markdown",
   "metadata": {},
   "source": [
    "## 실습 : 짝수인 data의 index 를 np.sum() 하시오"
   ]
  },
  {
   "cell_type": "code",
   "execution_count": 14,
   "metadata": {},
   "outputs": [
    {
     "name": "stdout",
     "output_type": "stream",
     "text": [
      "## sr1\n"
     ]
    },
    {
     "data": {
      "text/plain": [
       "21    95\n",
       "11    18\n",
       "74    54\n",
       "26    54\n",
       "44    56\n",
       "dtype: int32"
      ]
     },
     "execution_count": 14,
     "metadata": {},
     "output_type": "execute_result"
    },
    {
     "name": "stdout",
     "output_type": "stream",
     "text": [
      "## sr1%2==0\n"
     ]
    },
    {
     "data": {
      "text/plain": [
       "11    18\n",
       "74    54\n",
       "26    54\n",
       "44    56\n",
       "dtype: int32"
      ]
     },
     "execution_count": 14,
     "metadata": {},
     "output_type": "execute_result"
    },
    {
     "name": "stdout",
     "output_type": "stream",
     "text": [
      "## index sum\n"
     ]
    },
    {
     "data": {
      "text/plain": [
       "155"
      ]
     },
     "execution_count": 14,
     "metadata": {},
     "output_type": "execute_result"
    }
   ],
   "source": [
    "sr1=pd.Series(data=np.random.randint(100,size=5), index=np.random.randint(100,size=5))\n",
    "print(\"## sr1\")\n",
    "sr1\n",
    "print(\"## sr1%2==0\")\n",
    "sr2=sr1[sr1%2==0]\n",
    "sr2\n",
    "print(\"## index sum\")\n",
    "np.sum(sr2.index)"
   ]
  },
  {
   "cell_type": "markdown",
   "metadata": {},
   "source": [
    "## 실습 : 60보다 작은 값을 -100으로 변환하시오"
   ]
  },
  {
   "cell_type": "code",
   "execution_count": 15,
   "metadata": {},
   "outputs": [
    {
     "name": "stdout",
     "output_type": "stream",
     "text": [
      "## sr1\n"
     ]
    },
    {
     "data": {
      "text/plain": [
       "a    87\n",
       "b    44\n",
       "c    28\n",
       "d    11\n",
       "e    51\n",
       "dtype: int32"
      ]
     },
     "execution_count": 15,
     "metadata": {},
     "output_type": "execute_result"
    },
    {
     "data": {
      "text/plain": [
       "a   -100\n",
       "b     44\n",
       "c     28\n",
       "d     11\n",
       "e     51\n",
       "dtype: int32"
      ]
     },
     "execution_count": 15,
     "metadata": {},
     "output_type": "execute_result"
    }
   ],
   "source": [
    "sr1=pd.Series(data=np.random.randint(100,size=5), index=list('abcde'))\n",
    "print(\"## sr1\")\n",
    "sr1\n",
    "sr1[sr1>=60]=-100\n",
    "sr1"
   ]
  }
 ],
 "metadata": {
  "kernelspec": {
   "display_name": "Python 3",
   "language": "python",
   "name": "python3"
  },
  "language_info": {
   "codemirror_mode": {
    "name": "ipython",
    "version": 3
   },
   "file_extension": ".py",
   "mimetype": "text/x-python",
   "name": "python",
   "nbconvert_exporter": "python",
   "pygments_lexer": "ipython3",
   "version": "3.7.6"
  }
 },
 "nbformat": 4,
 "nbformat_minor": 4
}
