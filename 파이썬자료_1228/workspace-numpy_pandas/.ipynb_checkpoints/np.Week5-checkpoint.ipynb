{
 "cells": [
  {
   "cell_type": "code",
   "execution_count": 1,
   "metadata": {},
   "outputs": [],
   "source": [
    "from IPython.core.interactiveshell import InteractiveShell\n",
    "InteractiveShell.ast_node_interactivity = \"all\""
   ]
  },
  {
   "cell_type": "code",
   "execution_count": 52,
   "metadata": {},
   "outputs": [],
   "source": [
    "import numpy as np\n",
    "import matplotlib.pyplot as plt\n",
    "import random "
   ]
  },
  {
   "cell_type": "code",
   "execution_count": 12,
   "metadata": {},
   "outputs": [
    {
     "name": "stderr",
     "output_type": "stream",
     "text": [
      "C:\\Users\\Hyobin An\\anaconda3\\lib\\site-packages\\ipykernel_launcher.py:4: UserWarning: Matplotlib is currently using module://ipykernel.pylab.backend_inline, which is a non-GUI backend, so cannot show the figure.\n",
      "  after removing the cwd from sys.path.\n"
     ]
    },
    {
     "data": {
      "image/png": "[encoded data removed]",
      "text/plain": [
       "<Figure size 432x288 with 1 Axes>"
      ]
     },
     "metadata": {
      "needs_background": "light"
     },
     "output_type": "display_data"
    }
   ],
   "source": [
    "ar1 = np.random.normal(0,10,10000) # ( 평균 , 표준편차 , 최대갯수 )\n",
    "fig , ax=plt.subplots() # 액자(fig) 와 도화지 (ax) 생성 \n",
    "_ = ax.hist(ar1 , bins=50 , edgecolor='r') # ( 해당 데이터 , 막대그래프 갯수 , 색상구분 )\n",
    "fig.show()"
   ]
  },
  {
   "cell_type": "code",
   "execution_count": 19,
   "metadata": {},
   "outputs": [
    {
     "name": "stderr",
     "output_type": "stream",
     "text": [
      "C:\\Users\\Hyobin An\\anaconda3\\lib\\site-packages\\ipykernel_launcher.py:4: UserWarning: Matplotlib is currently using module://ipykernel.pylab.backend_inline, which is a non-GUI backend, so cannot show the figure.\n",
      "  after removing the cwd from sys.path.\n"
     ]
    },
    {
     "data": {
      "image/png": "[encoded data removed]",
      "text/plain": [
       "<Figure size 432x288 with 1 Axes>"
      ]
     },
     "metadata": {
      "needs_background": "light"
     },
     "output_type": "display_data"
    }
   ],
   "source": [
    "ar1 = np.random.normal(3,1,size=10) # ( 평균 , 표준편차 , 최대갯수 )\n",
    "fig , ax=plt.subplots() # 액자(fig) 와 도화지 (ax) 생성 \n",
    "_ = ax.hist(ar1 , bins=5 , edgecolor='r') # ( 해당 데이터 , 막대그래프 갯수 , 색상구분 )\n",
    "fig.show()"
   ]
  },
  {
   "cell_type": "markdown",
   "metadata": {},
   "source": [
    "### sum\n",
    "\n",
    "- v 안의 값을 모두 더함 "
   ]
  },
  {
   "cell_type": "code",
   "execution_count": 22,
   "metadata": {},
   "outputs": [
    {
     "data": {
      "text/plain": [
       "55"
      ]
     },
     "execution_count": 22,
     "metadata": {},
     "output_type": "execute_result"
    }
   ],
   "source": [
    "v1 = np.arange(1,11)\n",
    "\n",
    "v1.sum()"
   ]
  },
  {
   "cell_type": "code",
   "execution_count": 34,
   "metadata": {},
   "outputs": [
    {
     "data": {
      "text/plain": [
       "array([[ 1,  2,  3,  4],\n",
       "       [ 5,  6,  7,  8],\n",
       "       [ 9, 10, 11, 12]])"
      ]
     },
     "execution_count": 34,
     "metadata": {},
     "output_type": "execute_result"
    },
    {
     "data": {
      "text/plain": [
       "78"
      ]
     },
     "execution_count": 34,
     "metadata": {},
     "output_type": "execute_result"
    },
    {
     "data": {
      "text/plain": [
       "78"
      ]
     },
     "execution_count": 34,
     "metadata": {},
     "output_type": "execute_result"
    },
    {
     "data": {
      "text/plain": [
       "array([15, 18, 21, 24])"
      ]
     },
     "execution_count": 34,
     "metadata": {},
     "output_type": "execute_result"
    },
    {
     "data": {
      "text/plain": [
       "array([10, 26, 42])"
      ]
     },
     "execution_count": 34,
     "metadata": {},
     "output_type": "execute_result"
    }
   ],
   "source": [
    "m1 = np.arange(1,13).reshape(3,4)\n",
    "\n",
    "m1\n",
    "\n",
    "np.sum(m1)\n",
    "m1.sum()\n",
    "\n",
    "# axis = 기준이 되는 축 ( 행=0 열 = 1  ) \n",
    "\n",
    "np.sum(m1 , axis =0 ) #아래로 \n",
    "np.sum(m1 , axis = 1) # 옆으로 "
   ]
  },
  {
   "cell_type": "markdown",
   "metadata": {},
   "source": [
    "### 3차원 tensor 의 axis \n",
    "\n",
    " - axis = 0 = 장\n",
    " - axis = 1 = 행\n",
    " - axis = 2 = 열\n",
    " - 각 숫자는 인덱스를 의미함 [0]"
   ]
  },
  {
   "cell_type": "code",
   "execution_count": 42,
   "metadata": {},
   "outputs": [
    {
     "data": {
      "text/plain": [
       "array([[[ 1,  2,  3,  4],\n",
       "        [ 5,  6,  7,  8],\n",
       "        [ 9, 10, 11, 12]],\n",
       "\n",
       "       [[13, 14, 15, 16],\n",
       "        [17, 18, 19, 20],\n",
       "        [21, 22, 23, 24]]])"
      ]
     },
     "execution_count": 42,
     "metadata": {},
     "output_type": "execute_result"
    },
    {
     "data": {
      "text/plain": [
       "300"
      ]
     },
     "execution_count": 42,
     "metadata": {},
     "output_type": "execute_result"
    },
    {
     "data": {
      "text/plain": [
       "array([[14, 16, 18, 20],\n",
       "       [22, 24, 26, 28],\n",
       "       [30, 32, 34, 36]])"
      ]
     },
     "execution_count": 42,
     "metadata": {},
     "output_type": "execute_result"
    },
    {
     "data": {
      "text/plain": [
       "array([[15, 18, 21, 24],\n",
       "       [51, 54, 57, 60]])"
      ]
     },
     "execution_count": 42,
     "metadata": {},
     "output_type": "execute_result"
    },
    {
     "data": {
      "text/plain": [
       "array([[10, 26, 42],\n",
       "       [58, 74, 90]])"
      ]
     },
     "execution_count": 42,
     "metadata": {},
     "output_type": "execute_result"
    }
   ],
   "source": [
    "t1 = np.arange(1,25).reshape(2,3,4)\n",
    "\n",
    "t1\n",
    "\n",
    "np.sum(t1)\n",
    "t1.sum(axis =0)\n",
    "t1.sum(axis =1)\n",
    "t1.sum(axis =2)"
   ]
  },
  {
   "cell_type": "markdown",
   "metadata": {},
   "source": [
    "### mean \n",
    "\n",
    "- 평균구하기"
   ]
  },
  {
   "cell_type": "code",
   "execution_count": 48,
   "metadata": {},
   "outputs": [
    {
     "data": {
      "text/plain": [
       "array([[ 0,  1,  2,  3],\n",
       "       [ 4,  5,  6,  7],\n",
       "       [ 8,  9, 10, 11]])"
      ]
     },
     "execution_count": 48,
     "metadata": {},
     "output_type": "execute_result"
    },
    {
     "data": {
      "text/plain": [
       "5.5"
      ]
     },
     "execution_count": 48,
     "metadata": {},
     "output_type": "execute_result"
    },
    {
     "data": {
      "text/plain": [
       "array([1.5, 5.5, 9.5])"
      ]
     },
     "execution_count": 48,
     "metadata": {},
     "output_type": "execute_result"
    },
    {
     "data": {
      "text/plain": [
       "array([4., 5., 6., 7.])"
      ]
     },
     "execution_count": 48,
     "metadata": {},
     "output_type": "execute_result"
    }
   ],
   "source": [
    "a1 = np.arange(12).reshape(3,4)\n",
    "\n",
    "a1\n",
    "a1.mean()\n",
    "a1.mean(axis =1) # 각 행의 평균 \n",
    "a1.mean(axis = 0) # 각 열의 평균"
   ]
  },
  {
   "cell_type": "markdown",
   "metadata": {},
   "source": [
    "### median\n",
    "\n",
    "- 중앙값 구하기\n",
    "- np.median() 함수로만 사용해야함 !"
   ]
  },
  {
   "cell_type": "code",
   "execution_count": 51,
   "metadata": {},
   "outputs": [
    {
     "data": {
      "text/plain": [
       "array([[ 0,  1,  2,  3],\n",
       "       [ 4,  5,  6,  7],\n",
       "       [ 8,  9, 10, 11]])"
      ]
     },
     "execution_count": 51,
     "metadata": {},
     "output_type": "execute_result"
    },
    {
     "data": {
      "text/plain": [
       "5.5"
      ]
     },
     "execution_count": 51,
     "metadata": {},
     "output_type": "execute_result"
    },
    {
     "data": {
      "text/plain": [
       "array([4., 5., 6., 7.])"
      ]
     },
     "execution_count": 51,
     "metadata": {},
     "output_type": "execute_result"
    },
    {
     "data": {
      "text/plain": [
       "array([1.5, 5.5, 9.5])"
      ]
     },
     "execution_count": 51,
     "metadata": {},
     "output_type": "execute_result"
    }
   ],
   "source": [
    "a1 = np.arange(12).reshape(3,4)\n",
    "\n",
    "a1\n",
    "\n",
    "np.median(a1)\n",
    "np.median(a1 , axis = 0)\n",
    "np.median(a1, axis = 1) "
   ]
  },
  {
   "cell_type": "code",
   "execution_count": 55,
   "metadata": {},
   "outputs": [
    {
     "data": {
      "text/plain": [
       "46.0"
      ]
     },
     "execution_count": 55,
     "metadata": {},
     "output_type": "execute_result"
    }
   ],
   "source": [
    "a1 = np.random.randint( 100 , size=(3,4))\n",
    "\n",
    "np.median(a1)"
   ]
  },
  {
   "cell_type": "markdown",
   "metadata": {},
   "source": [
    "### std\n",
    "\n",
    "-  표준편차 구하기 "
   ]
  },
  {
   "cell_type": "code",
   "execution_count": 61,
   "metadata": {},
   "outputs": [
    {
     "data": {
      "text/plain": [
       "array([[64, 95, 98, 58],\n",
       "       [ 2, 76, 26, 28],\n",
       "       [98, 49, 25, 28]])"
      ]
     },
     "execution_count": 61,
     "metadata": {},
     "output_type": "execute_result"
    },
    {
     "data": {
      "text/plain": [
       "array([17.90774972, 26.85144316, 29.21472232])"
      ]
     },
     "execution_count": 61,
     "metadata": {},
     "output_type": "execute_result"
    }
   ],
   "source": [
    "a1 = np.random.randint( 100 , size=(3,4))\n",
    "\n",
    "a1\n",
    "np.std(a1 , axis = 1 )"
   ]
  },
  {
   "cell_type": "markdown",
   "metadata": {},
   "source": [
    "### var\n",
    "\n",
    "- 분산 구하기 "
   ]
  },
  {
   "cell_type": "code",
   "execution_count": 62,
   "metadata": {},
   "outputs": [
    {
     "data": {
      "text/plain": [
       "array([[ 9, 38, 38, 90],\n",
       "       [75, 89, 28, 22],\n",
       "       [45, 85, 88, 15]])"
      ]
     },
     "execution_count": 62,
     "metadata": {},
     "output_type": "execute_result"
    },
    {
     "data": {
      "text/plain": [
       "array([853.1875, 841.25  , 911.6875])"
      ]
     },
     "execution_count": 62,
     "metadata": {},
     "output_type": "execute_result"
    }
   ],
   "source": [
    "a1 = np.random.randint( 100 , size=(3,4))\n",
    "\n",
    "a1\n",
    "np.var(a1 , axis = 1 )"
   ]
  },
  {
   "cell_type": "markdown",
   "metadata": {},
   "source": [
    "### max , min \n",
    "\n",
    "- 최대값 , 최소값 구하기"
   ]
  },
  {
   "cell_type": "code",
   "execution_count": 66,
   "metadata": {},
   "outputs": [
    {
     "data": {
      "text/plain": [
       "array([[66, 75, 39, 99],\n",
       "       [31, 13, 55, 86],\n",
       "       [ 3, 41, 42, 65]])"
      ]
     },
     "execution_count": 66,
     "metadata": {},
     "output_type": "execute_result"
    },
    {
     "data": {
      "text/plain": [
       "99"
      ]
     },
     "execution_count": 66,
     "metadata": {},
     "output_type": "execute_result"
    },
    {
     "data": {
      "text/plain": [
       "3"
      ]
     },
     "execution_count": 66,
     "metadata": {},
     "output_type": "execute_result"
    }
   ],
   "source": [
    "m1 = np.random.randint(100 , size=(3,4))\n",
    "\n",
    "m1\n",
    "np.max(m1)\n",
    "np.min(m1)"
   ]
  },
  {
   "cell_type": "markdown",
   "metadata": {},
   "source": [
    "### argmax , argmin\n",
    "\n",
    "- 최대 값 , 최소 값의 있는곳의 인덱스 를 알고싶을때\n",
    "- ※ axis 를 지정하지 않으면 1차원으로 강제변환 후 에 값을 가져온다\n",
    "- 동일 한 값이 있으면 index 가 더 가까운 값이 나온다"
   ]
  },
  {
   "cell_type": "code",
   "execution_count": 75,
   "metadata": {},
   "outputs": [
    {
     "data": {
      "text/plain": [
       "array([[43, 54, 68, 98],\n",
       "       [57, 48, 31, 32],\n",
       "       [81, 58, 64, 12]])"
      ]
     },
     "execution_count": 75,
     "metadata": {},
     "output_type": "execute_result"
    },
    {
     "data": {
      "text/plain": [
       "(3, 4)"
      ]
     },
     "execution_count": 75,
     "metadata": {},
     "output_type": "execute_result"
    },
    {
     "data": {
      "text/plain": [
       "array([3, 0, 0], dtype=int64)"
      ]
     },
     "execution_count": 75,
     "metadata": {},
     "output_type": "execute_result"
    }
   ],
   "source": [
    "m1 = np.random.randint(100 , size=(3,4))\n",
    "\n",
    "m1\n",
    "m1.shape\n",
    "np.argmax(m1, axis =1) "
   ]
  },
  {
   "cell_type": "code",
   "execution_count": 81,
   "metadata": {},
   "outputs": [
    {
     "data": {
      "text/plain": [
       "array([[[ 5,  7, 19,  8],\n",
       "        [21,  5, 11, 17]],\n",
       "\n",
       "       [[ 9, 10, 20, 13],\n",
       "        [14,  5, 11, 21]],\n",
       "\n",
       "       [[ 0, 15, 11,  7],\n",
       "        [19, 18,  4,  1]]])"
      ]
     },
     "execution_count": 81,
     "metadata": {},
     "output_type": "execute_result"
    },
    {
     "data": {
      "text/plain": [
       "array([[0, 1, 1, 0],\n",
       "       [0, 1, 1, 0],\n",
       "       [0, 0, 1, 1]], dtype=int64)"
      ]
     },
     "execution_count": 81,
     "metadata": {},
     "output_type": "execute_result"
    },
    {
     "data": {
      "text/plain": [
       "array([[19, 21],\n",
       "       [20, 21],\n",
       "       [15, 19]])"
      ]
     },
     "execution_count": 81,
     "metadata": {},
     "output_type": "execute_result"
    }
   ],
   "source": [
    "t1 = np.random.randint(24 , size=(3,2,4))\n",
    "\n",
    "\n",
    "t1 \n",
    "t1.argmin( axis = 1)\n",
    "t1.max(axis = 2)"
   ]
  },
  {
   "cell_type": "markdown",
   "metadata": {},
   "source": [
    "### 실습1\n",
    "\n",
    "- 아래와 같은 matrix 를 만들고\n",
    "- 전체 합 , 각 행 들의 합 , 각 열들의 합 을 구하시오 "
   ]
  },
  {
   "cell_type": "code",
   "execution_count": 88,
   "metadata": {},
   "outputs": [
    {
     "data": {
      "text/plain": [
       "array([[ 0,  3,  6,  9, 12],\n",
       "       [15, 18, 21, 24, 27],\n",
       "       [30, 33, 36, 39, 42],\n",
       "       [45, 48, 51, 54, 57]])"
      ]
     },
     "execution_count": 88,
     "metadata": {},
     "output_type": "execute_result"
    },
    {
     "data": {
      "text/plain": [
       "570"
      ]
     },
     "execution_count": 88,
     "metadata": {},
     "output_type": "execute_result"
    },
    {
     "data": {
      "text/plain": [
       "array([ 30, 105, 180, 255])"
      ]
     },
     "execution_count": 88,
     "metadata": {},
     "output_type": "execute_result"
    },
    {
     "data": {
      "text/plain": [
       "array([ 90, 102, 114, 126, 138])"
      ]
     },
     "execution_count": 88,
     "metadata": {},
     "output_type": "execute_result"
    },
    {
     "data": {
      "text/plain": [
       "array([22.5, 25.5, 28.5, 31.5, 34.5])"
      ]
     },
     "execution_count": 88,
     "metadata": {},
     "output_type": "execute_result"
    }
   ],
   "source": [
    "m1 = np.arange(0,58,3).reshape(4,5)\n",
    "\n",
    "m1\n",
    "\n",
    "m1.sum() # 전체 합\n",
    "\n",
    "m1.sum(axis=1) # 각 행들의 합 \n",
    "m1.sum(axis=0) # 각 열들의 합\n",
    "m1.mean(axis=0) # 열들의 평균"
   ]
  },
  {
   "cell_type": "markdown",
   "metadata": {},
   "source": [
    "### 실습 2 \n",
    "\n",
    "- randint(100) 함수를 만들고 원하는 부분은 녹색으로 만들고 \n",
    "- 각 과목 1등의 학생번호를 구하시오 "
   ]
  },
  {
   "cell_type": "code",
   "execution_count": 95,
   "metadata": {},
   "outputs": [
    {
     "data": {
      "text/plain": [
       "array([[98,  5, 35, 16, 38],\n",
       "       [74, 32, 14, 31, 15],\n",
       "       [17, 64, 69, 79, 37],\n",
       "       [38, 54, 52, 47, 11]])"
      ]
     },
     "execution_count": 95,
     "metadata": {},
     "output_type": "execute_result"
    },
    {
     "data": {
      "text/plain": [
       "array([0, 0, 3, 1], dtype=int64)"
      ]
     },
     "execution_count": 95,
     "metadata": {},
     "output_type": "execute_result"
    }
   ],
   "source": [
    "m2 = np.random.randint(100 , size = (4,5))\n",
    "\n",
    "m2\n",
    "\n",
    "m2.argmax(axis=1) # 눕혔다 "
   ]
  },
  {
   "cell_type": "markdown",
   "metadata": {},
   "source": [
    "### 실습 3 \n",
    "\n",
    "- matrix 를 만들고 일정한 열의 평균과 표준편차를 구하시오."
   ]
  },
  {
   "cell_type": "code",
   "execution_count": 101,
   "metadata": {},
   "outputs": [
    {
     "data": {
      "text/plain": [
       "array([[ 0,  1,  2,  3,  4,  5,  6,  7,  8],\n",
       "       [ 9, 10, 11, 12, 13, 14, 15, 16, 17],\n",
       "       [18, 19, 20, 21, 22, 23, 24, 25, 26],\n",
       "       [27, 28, 29, 30, 31, 32, 33, 34, 35]])"
      ]
     },
     "execution_count": 101,
     "metadata": {},
     "output_type": "execute_result"
    },
    {
     "data": {
      "text/plain": [
       "array([15.5, 18.5, 21.5])"
      ]
     },
     "execution_count": 101,
     "metadata": {},
     "output_type": "execute_result"
    },
    {
     "data": {
      "text/plain": [
       "array([10.0623059, 10.0623059, 10.0623059])"
      ]
     },
     "execution_count": 101,
     "metadata": {},
     "output_type": "execute_result"
    }
   ],
   "source": [
    "m3 = np.arange(36).reshape(4,9)\n",
    "\n",
    "m3\n",
    "m4 = m3[:,2::3] # 슬라이싱 \n",
    "m4.mean(axis = 0) # 평균 \n",
    "m4.std(axis = 0) # 표준편차"
   ]
  },
  {
   "cell_type": "markdown",
   "metadata": {},
   "source": [
    "### 실습 4\n",
    "\n",
    "- 0~99 까지의 정수 random array (3,4,5) 가 있다.\n",
    "- 1. 각 행 별 중앙값을 구하여 , 아래와 같은 (3,4) 를 구하시오 \n",
    "- 2. 1번의 random array 에서 각 장의 최대값을 구하시오 "
   ]
  },
  {
   "cell_type": "code",
   "execution_count": 110,
   "metadata": {},
   "outputs": [
    {
     "data": {
      "text/plain": [
       "array([[[86, 38, 94, 58, 17],\n",
       "        [32, 52, 28, 49, 83],\n",
       "        [78, 39,  6, 13, 99],\n",
       "        [46, 12,  8, 97, 10]],\n",
       "\n",
       "       [[96, 57, 65,  3, 76],\n",
       "        [41, 38, 88, 61, 47],\n",
       "        [14, 34, 45, 50, 74],\n",
       "        [74,  9,  0, 51,  7]],\n",
       "\n",
       "       [[19, 85, 75, 41, 74],\n",
       "        [44, 96, 69, 15, 27],\n",
       "        [38, 25, 75, 75, 86],\n",
       "        [47, 93, 15, 90,  2]]])"
      ]
     },
     "execution_count": 110,
     "metadata": {},
     "output_type": "execute_result"
    },
    {
     "data": {
      "text/plain": [
       "array([[58., 49., 39., 12.],\n",
       "       [65., 47., 45.,  9.],\n",
       "       [74., 44., 75., 47.]])"
      ]
     },
     "execution_count": 110,
     "metadata": {},
     "output_type": "execute_result"
    },
    {
     "data": {
      "text/plain": [
       "array([74., 49., 75., 47.])"
      ]
     },
     "execution_count": 110,
     "metadata": {},
     "output_type": "execute_result"
    }
   ],
   "source": [
    "ar1 = np.random.randint(100, size=(3,4,5))\n",
    "\n",
    "ar1\n",
    "\n",
    "np.median(ar1 , axis = 2 ) # 각 행별로 \n",
    "\n",
    "ar2 = np.median(ar1 , axis = 2 ) \n",
    "\n",
    "ar2.max(axis = 0)"
   ]
  },
  {
   "cell_type": "code",
   "execution_count": 114,
   "metadata": {},
   "outputs": [
    {
     "data": {
      "text/plain": [
       "array([[[64, 69, 81, 19, 26],\n",
       "        [95, 62,  8, 45, 85],\n",
       "        [ 8,  6, 51, 25,  5],\n",
       "        [99, 95, 26, 58, 29]],\n",
       "\n",
       "       [[63,  6, 35, 85, 80],\n",
       "        [85, 36, 92, 85, 96],\n",
       "        [98, 41, 40, 67, 11],\n",
       "        [28, 30, 51, 53, 81]],\n",
       "\n",
       "       [[88, 87, 43, 20, 64],\n",
       "        [52, 31, 19, 21, 12],\n",
       "        [27, 78, 81, 39,  4],\n",
       "        [34, 97, 20, 49, 11]]])"
      ]
     },
     "execution_count": 114,
     "metadata": {},
     "output_type": "execute_result"
    },
    {
     "data": {
      "text/plain": [
       "array([[64., 62.,  8., 58.],\n",
       "       [63., 85., 41., 51.],\n",
       "       [64., 21., 39., 34.]])"
      ]
     },
     "execution_count": 114,
     "metadata": {},
     "output_type": "execute_result"
    },
    {
     "data": {
      "text/plain": [
       "array([[99, 95, 81, 58, 85],\n",
       "       [98, 41, 92, 85, 96],\n",
       "       [88, 97, 81, 49, 64]])"
      ]
     },
     "execution_count": 114,
     "metadata": {},
     "output_type": "execute_result"
    }
   ],
   "source": [
    "ar1 = np.random.randint(100, size = ( 3 , 4, 5 ))\n",
    "\n",
    "ar1 \n",
    "\n",
    "m1 = np.median( ar1 , axis =2 )\n",
    "m1\n",
    "\n",
    "m2 = np.max(ar1 , axis=1)\n",
    "m2"
   ]
  },
  {
   "cell_type": "markdown",
   "metadata": {},
   "source": [
    "## 정규분포 "
   ]
  },
  {
   "cell_type": "code",
   "execution_count": 122,
   "metadata": {},
   "outputs": [
    {
     "data": {
      "text/plain": [
       "4.004105895083106"
      ]
     },
     "execution_count": 122,
     "metadata": {},
     "output_type": "execute_result"
    },
    {
     "name": "stderr",
     "output_type": "stream",
     "text": [
      "C:\\Users\\Hyobin An\\anaconda3\\lib\\site-packages\\ipykernel_launcher.py:7: UserWarning: Matplotlib is currently using module://ipykernel.pylab.backend_inline, which is a non-GUI backend, so cannot show the figure.\n",
      "  import sys\n"
     ]
    },
    {
     "data": {
      "image/png": "[encoded data removed]",
      "text/plain": [
       "<Figure size 432x288 with 1 Axes>"
      ]
     },
     "metadata": {
      "needs_background": "light"
     },
     "output_type": "display_data"
    }
   ],
   "source": [
    "ar1 = np.random.uniform(3,5 , size = 10000 )\n",
    "\n",
    "ar1.mean()\n",
    "\n",
    "fig , ax=plt.subplots()\n",
    "_ = ax.hist( ar1 , bins = 20 , edgecolor = 'r')\n",
    "fig.show()"
   ]
  },
  {
   "cell_type": "code",
   "execution_count": 127,
   "metadata": {},
   "outputs": [
    {
     "data": {
      "text/plain": [
       "array([4.34032179, 3.11681379, 3.1571853 , ..., 3.72352615, 3.50130505,\n",
       "       3.63700032])"
      ]
     },
     "execution_count": 127,
     "metadata": {},
     "output_type": "execute_result"
    },
    {
     "data": {
      "text/plain": [
       "3.997141848627378"
      ]
     },
     "execution_count": 127,
     "metadata": {},
     "output_type": "execute_result"
    },
    {
     "name": "stderr",
     "output_type": "stream",
     "text": [
      "C:\\Users\\Hyobin An\\anaconda3\\lib\\site-packages\\ipykernel_launcher.py:14: UserWarning: Matplotlib is currently using module://ipykernel.pylab.backend_inline, which is a non-GUI backend, so cannot show the figure.\n",
      "  \n"
     ]
    },
    {
     "data": {
      "image/png": "[encoded data removed]",
      "text/plain": [
       "<Figure size 432x288 with 1 Axes>"
      ]
     },
     "metadata": {
      "needs_background": "light"
     },
     "output_type": "display_data"
    }
   ],
   "source": [
    "ar1 = np.random.uniform(3,5 , size = 10000 )\n",
    "\n",
    "ar1\n",
    "ar1.mean()\n",
    "\n",
    "m1_list = [] # 평균의 정규분포 \n",
    "\n",
    "for ii in range(2000): # m1_list 에 ar1 값을 2천번 넣는다 \n",
    "    ar1 = np.random.uniform( 3, 5 , size=10000)\n",
    "    m1_list.append(ar1.mean())\n",
    "    \n",
    "fig , ax=plt.subplots()\n",
    "_ = ax.hist( m1_list , bins = 20 , edgecolor = 'r')\n",
    "fig.show()"
   ]
  },
  {
   "cell_type": "code",
   "execution_count": 133,
   "metadata": {},
   "outputs": [
    {
     "name": "stderr",
     "output_type": "stream",
     "text": [
      "C:\\Users\\Hyobin An\\anaconda3\\lib\\site-packages\\ipykernel_launcher.py:10: UserWarning: Matplotlib is currently using module://ipykernel.pylab.backend_inline, which is a non-GUI backend, so cannot show the figure.\n",
      "  # Remove the CWD from sys.path while we load stuff.\n"
     ]
    },
    {
     "data": {
      "image/png": "[encoded data removed]",
      "text/plain": [
       "<Figure size 432x288 with 1 Axes>"
      ]
     },
     "metadata": {
      "needs_background": "light"
     },
     "output_type": "display_data"
    }
   ],
   "source": [
    "# 표본평균의 분포 \n",
    "\n",
    "ar1 = np.random.uniform( 3 , 5 , size=(2000,10000))\n",
    "\n",
    "\n",
    "v1 = ar1.mean(axis = 1) # 랜덤 1~10000 평균 \n",
    "\n",
    "fig , ax=plt.subplots()\n",
    "_ = ax.hist( v1 , bins = 20 , edgecolor = 'r')\n",
    "fig.show()"
   ]
  },
  {
   "cell_type": "code",
   "execution_count": 134,
   "metadata": {},
   "outputs": [
    {
     "ename": "NameError",
     "evalue": "name 'draw_hist' is not defined",
     "output_type": "error",
     "traceback": [
      "\u001b[1;31m---------------------------------------------------------------------------\u001b[0m",
      "\u001b[1;31mNameError\u001b[0m                                 Traceback (most recent call last)",
      "\u001b[1;32m<ipython-input-134-00ab164e1b74>\u001b[0m in \u001b[0;36m<module>\u001b[1;34m\u001b[0m\n\u001b[0;32m      1\u001b[0m \u001b[1;31m### normal\u001b[0m\u001b[1;33m\u001b[0m\u001b[1;33m\u001b[0m\u001b[1;33m\u001b[0m\u001b[0m\n\u001b[0;32m      2\u001b[0m \u001b[0ms1\u001b[0m\u001b[1;33m=\u001b[0m\u001b[0mnp\u001b[0m\u001b[1;33m.\u001b[0m\u001b[0mrandom\u001b[0m\u001b[1;33m.\u001b[0m\u001b[0mnormal\u001b[0m\u001b[1;33m(\u001b[0m\u001b[1;36m3\u001b[0m\u001b[1;33m,\u001b[0m\u001b[1;36m2\u001b[0m\u001b[1;33m,\u001b[0m\u001b[0msize\u001b[0m\u001b[1;33m=\u001b[0m\u001b[1;36m10000\u001b[0m\u001b[1;33m)\u001b[0m\u001b[1;33m\u001b[0m\u001b[1;33m\u001b[0m\u001b[0m\n\u001b[1;32m----> 3\u001b[1;33m \u001b[0mdraw_hist\u001b[0m\u001b[1;33m(\u001b[0m\u001b[0ms1\u001b[0m\u001b[1;33m)\u001b[0m\u001b[1;33m\u001b[0m\u001b[1;33m\u001b[0m\u001b[0m\n\u001b[0m\u001b[0;32m      4\u001b[0m \u001b[0mprint\u001b[0m\u001b[1;33m(\u001b[0m\u001b[1;34m'normal dist> mean: {:.4f}, std: {:.4f}'\u001b[0m\u001b[1;33m.\u001b[0m\u001b[0mformat\u001b[0m\u001b[1;33m(\u001b[0m\u001b[0ms1\u001b[0m\u001b[1;33m.\u001b[0m\u001b[0mmean\u001b[0m\u001b[1;33m(\u001b[0m\u001b[1;33m)\u001b[0m\u001b[1;33m,\u001b[0m\u001b[0ms1\u001b[0m\u001b[1;33m.\u001b[0m\u001b[0mstd\u001b[0m\u001b[1;33m(\u001b[0m\u001b[1;33m)\u001b[0m\u001b[1;33m)\u001b[0m\u001b[1;33m)\u001b[0m\u001b[1;33m\u001b[0m\u001b[1;33m\u001b[0m\u001b[0m\n\u001b[0;32m      5\u001b[0m \u001b[1;33m\u001b[0m\u001b[0m\n",
      "\u001b[1;31mNameError\u001b[0m: name 'draw_hist' is not defined"
     ]
    }
   ],
   "source": [
    "### normal\n",
    "s1=np.random.normal(3,2,size=10000)\n",
    "draw_hist(s1)\n",
    "print('normal dist> mean: {:.4f}, std: {:.4f}'.format(s1.mean(),s1.std()))\n",
    "\n",
    "s2=np.random.normal(3,2, size=(2000,10000))\n",
    "m1=s2.mean(axis=1)\n",
    "draw_hist(m1)\n",
    "print('sample mean dist> mean: {:.4f}, std: {:.4f}'.format(m1.mean(),m1.std()))"
   ]
  },
  {
   "cell_type": "code",
   "execution_count": null,
   "metadata": {},
   "outputs": [],
   "source": []
  }
 ],
 "metadata": {
  "kernelspec": {
   "display_name": "Python 3",
   "language": "python",
   "name": "python3"
  },
  "language_info": {
   "codemirror_mode": {
    "name": "ipython",
    "version": 3
   },
   "file_extension": ".py",
   "mimetype": "text/x-python",
   "name": "python",
   "nbconvert_exporter": "python",
   "pygments_lexer": "ipython3",
   "version": "3.7.6"
  }
 },
 "nbformat": 4,
 "nbformat_minor": 4
}
