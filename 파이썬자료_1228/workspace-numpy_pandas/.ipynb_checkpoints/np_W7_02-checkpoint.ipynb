{
 "cells": [
  {
   "cell_type": "code",
   "execution_count": 1,
   "metadata": {},
   "outputs": [],
   "source": [
    "from IPython.core.interactiveshell import InteractiveShell\n",
    "InteractiveShell.ast_node_interactivity = \"all\""
   ]
  },
  {
   "cell_type": "code",
   "execution_count": 2,
   "metadata": {},
   "outputs": [],
   "source": [
    "import numpy as np"
   ]
  },
  {
   "cell_type": "markdown",
   "metadata": {},
   "source": [
    "## Boolean & fancy index\n",
    "\n",
    "### Boolean index\n",
    "\n",
    "    -Boolean array 를 index 로 사용하여 True 값들만 가져오는것.\n",
    "    - 보통 comparison 결과를 index 로 사용함\n",
    "    - 결과값은 항상 1차원 vector 이다\n",
    "    \n",
    "### m1[m1<=3] / ar[ar index+조건]"
   ]
  },
  {
   "cell_type": "code",
   "execution_count": 16,
   "metadata": {},
   "outputs": [
    {
     "data": {
      "text/plain": [
       "array([[ 9, 10,  6,  7],\n",
       "       [ 9,  1,  5,  1],\n",
       "       [10,  1,  5,  2]])"
      ]
     },
     "execution_count": 16,
     "metadata": {},
     "output_type": "execute_result"
    },
    {
     "name": "stdout",
     "output_type": "stream",
     "text": [
      "1 [1 1 1 2]\n",
      "2 [9, 5, 10, 2]\n"
     ]
    },
    {
     "data": {
      "text/plain": [
       "26"
      ]
     },
     "execution_count": 16,
     "metadata": {},
     "output_type": "execute_result"
    }
   ],
   "source": [
    "a1 = np.random.randint(1,11 , size=(3,4))\n",
    "\n",
    "a1\n",
    "\n",
    "print('1',a1[a1<=3])\n",
    "\n",
    "#2 \n",
    "\n",
    "b1 = a1<=3\n",
    "c1 = np.where(b1)\n",
    "\n",
    "li = []\n",
    "\n",
    "for i , j in zip(c1[0],c1[1]):\n",
    "    li.append(m1[i,j])\n",
    "    \n",
    "print('2',li)\n",
    "np.sum(li)"
   ]
  },
  {
   "cell_type": "code",
   "execution_count": 29,
   "metadata": {},
   "outputs": [
    {
     "data": {
      "text/plain": [
       "array([[ 5,  5,  1,  5],\n",
       "       [ 6,  2,  2, 10],\n",
       "       [ 5,  9,  6,  9]])"
      ]
     },
     "execution_count": 29,
     "metadata": {},
     "output_type": "execute_result"
    },
    {
     "data": {
      "text/plain": [
       "array([[ 9,  2, 10, 10],\n",
       "       [ 9,  7, 10,  2],\n",
       "       [ 8,  6,  7,  3]])"
      ]
     },
     "execution_count": 29,
     "metadata": {},
     "output_type": "execute_result"
    },
    {
     "data": {
      "text/plain": [
       "array([10,  9,  9])"
      ]
     },
     "execution_count": 29,
     "metadata": {},
     "output_type": "execute_result"
    },
    {
     "data": {
      "text/plain": [
       "array([2, 6, 3])"
      ]
     },
     "execution_count": 29,
     "metadata": {},
     "output_type": "execute_result"
    }
   ],
   "source": [
    "a1 = np.random.randint(1,11 , size=(3,4))\n",
    "a2 = np.random.randint(1,11 , size=(3,4))\n",
    "a1\n",
    "a2\n",
    "a1[a1>8]\n",
    "\n",
    "a2[a1>8]"
   ]
  },
  {
   "cell_type": "markdown",
   "metadata": {},
   "source": [
    "### Boolean index 와 슬라이싱 "
   ]
  },
  {
   "cell_type": "code",
   "execution_count": 35,
   "metadata": {},
   "outputs": [
    {
     "data": {
      "text/plain": [
       "array([[11, 82,  4, 72],\n",
       "       [28, 48, 42, 77],\n",
       "       [22,  6, 63, 69]])"
      ]
     },
     "execution_count": 35,
     "metadata": {},
     "output_type": "execute_result"
    },
    {
     "data": {
      "text/plain": [
       "array([[11, 82,  4, 72]])"
      ]
     },
     "execution_count": 35,
     "metadata": {},
     "output_type": "execute_result"
    },
    {
     "data": {
      "text/plain": [
       "array([[11, 72],\n",
       "       [28, 77],\n",
       "       [22, 69]])"
      ]
     },
     "execution_count": 35,
     "metadata": {},
     "output_type": "execute_result"
    },
    {
     "data": {
      "text/plain": [
       "array([11, 82,  4, 28, 77, 22])"
      ]
     },
     "execution_count": 35,
     "metadata": {},
     "output_type": "execute_result"
    }
   ],
   "source": [
    "a1 = np.random.randint(100 , size=(3,4))\n",
    "\n",
    "a1\n",
    "a1[[True,False,False],:] # 전체열 , 1행만 \n",
    "a1[:,[True,False,False,True]] # 전체행 1,4 열만\n",
    "\n",
    "a2 = a1[a1%3!=0]\n",
    "a2"
   ]
  },
  {
   "cell_type": "code",
   "execution_count": 51,
   "metadata": {},
   "outputs": [
    {
     "data": {
      "text/plain": [
       "array([[30, 89, 78, 35],\n",
       "       [53, 31, 78, 33],\n",
       "       [84, 83, 83, 92],\n",
       "       [12, 95, 15, 81]])"
      ]
     },
     "execution_count": 51,
     "metadata": {},
     "output_type": "execute_result"
    },
    {
     "data": {
      "text/plain": [
       "array([False,  True, False,  True])"
      ]
     },
     "execution_count": 51,
     "metadata": {},
     "output_type": "execute_result"
    },
    {
     "data": {
      "text/plain": [
       "array([[53, 31, 78, 33],\n",
       "       [12, 95, 15, 81]])"
      ]
     },
     "execution_count": 51,
     "metadata": {},
     "output_type": "execute_result"
    }
   ],
   "source": [
    "a1 = np.random.randint(100 , size=(4,4))\n",
    "a1\n",
    "\n",
    "b1=a1[:,3]%3==0\n",
    "b1\n",
    "\n",
    "a1[b1,:]"
   ]
  },
  {
   "cell_type": "markdown",
   "metadata": {},
   "source": [
    "### 실습 \n",
    "\n",
    "- 다음 행렬의 3번째 열 에서 3의 배수이거나 10보다 큰수의 합은?\n",
    "\n"
   ]
  },
  {
   "cell_type": "code",
   "execution_count": 63,
   "metadata": {},
   "outputs": [
    {
     "data": {
      "text/plain": [
       "array([[ 0,  1,  2,  3],\n",
       "       [ 4,  5,  6,  7],\n",
       "       [ 8,  9, 10, 11],\n",
       "       [12, 13, 14, 15],\n",
       "       [16, 17, 18, 19],\n",
       "       [20, 21, 22, 23]])"
      ]
     },
     "execution_count": 63,
     "metadata": {},
     "output_type": "execute_result"
    },
    {
     "data": {
      "text/plain": [
       "array([ 3,  7, 11, 15, 19, 23])"
      ]
     },
     "execution_count": 63,
     "metadata": {},
     "output_type": "execute_result"
    },
    {
     "data": {
      "text/plain": [
       "array([ True, False,  True,  True,  True,  True])"
      ]
     },
     "execution_count": 63,
     "metadata": {},
     "output_type": "execute_result"
    },
    {
     "data": {
      "text/plain": [
       "71"
      ]
     },
     "execution_count": 63,
     "metadata": {},
     "output_type": "execute_result"
    }
   ],
   "source": [
    "m1 = np.arange(24).reshape(-1,4)\n",
    "\n",
    "m1\n",
    "m2 = m1[:,-1]\n",
    "m2\n",
    "m3 = (m2%3==0)|(m2>10)\n",
    "m3\n",
    "\n",
    "m2[m3].sum()"
   ]
  },
  {
   "cell_type": "markdown",
   "metadata": {},
   "source": [
    "### 실습2\n",
    "\n",
    "- a1 = np.random.randint(10,size=(5,5))\n",
    "- a1 에서 마지막 열이 5보다 큰 행들의 각 행의 평균을 구하시오."
   ]
  },
  {
   "cell_type": "code",
   "execution_count": 76,
   "metadata": {},
   "outputs": [
    {
     "data": {
      "text/plain": [
       "array([[1, 1, 5, 0, 0],\n",
       "       [3, 4, 2, 8, 5],\n",
       "       [9, 8, 3, 2, 3],\n",
       "       [7, 3, 6, 2, 8],\n",
       "       [4, 2, 2, 1, 6]])"
      ]
     },
     "execution_count": 76,
     "metadata": {},
     "output_type": "execute_result"
    },
    {
     "data": {
      "text/plain": [
       "array([False, False, False,  True,  True])"
      ]
     },
     "execution_count": 76,
     "metadata": {},
     "output_type": "execute_result"
    },
    {
     "data": {
      "text/plain": [
       "array([5.2, 3. ])"
      ]
     },
     "execution_count": 76,
     "metadata": {},
     "output_type": "execute_result"
    }
   ],
   "source": [
    "a1 = np.random.randint(10, size=(5,5))\n",
    "\n",
    "a1\n",
    "\n",
    "a2 = a1[:,-1]>5\n",
    "a2\n",
    "\n",
    "\n",
    "a1[a2,:].mean(axis=1)"
   ]
  },
  {
   "cell_type": "markdown",
   "metadata": {},
   "source": [
    "### 실습3\n",
    "\n",
    "- math = np.random.randint(10,size=10)\n",
    "- engl = np.random.randint(10, size=10)\n",
    "\n",
    "- 1. 수학보다 영어를 잘 본 학생은 몇명인가?\n",
    "- 2. 수학보다 영어를 잘 본 학생의 수학 성적 평균은?"
   ]
  },
  {
   "cell_type": "code",
   "execution_count": 88,
   "metadata": {},
   "outputs": [
    {
     "name": "stdout",
     "output_type": "stream",
     "text": [
      "수학 [9 3 7 3 2 1 3 6 6 3]\n",
      "영어 [6 6 4 1 1 1 4 0 2 2]\n"
     ]
    },
    {
     "data": {
      "text/plain": [
       "array([False,  True, False, False, False, False,  True, False, False,\n",
       "       False])"
      ]
     },
     "execution_count": 88,
     "metadata": {},
     "output_type": "execute_result"
    },
    {
     "data": {
      "text/plain": [
       "2"
      ]
     },
     "execution_count": 88,
     "metadata": {},
     "output_type": "execute_result"
    },
    {
     "data": {
      "text/plain": [
       "array([3, 3])"
      ]
     },
     "execution_count": 88,
     "metadata": {},
     "output_type": "execute_result"
    },
    {
     "data": {
      "text/plain": [
       "3.0"
      ]
     },
     "execution_count": 88,
     "metadata": {},
     "output_type": "execute_result"
    }
   ],
   "source": [
    "m1 = np.random.randint(10 , size = 10)\n",
    "e1 = np.random.randint(10 , size = 10)\n",
    "\n",
    "print('수학',m1)\n",
    "print('영어',e1)\n",
    "\n",
    "b1 = m1<e1\n",
    "\n",
    "b1\n",
    "np.sum(b1)  # 1 번 \n",
    " \n",
    "m1[b1]      # 2번\n",
    "m1[b1].mean()"
   ]
  },
  {
   "cell_type": "code",
   "execution_count": null,
   "metadata": {},
   "outputs": [],
   "source": []
  }
 ],
 "metadata": {
  "kernelspec": {
   "display_name": "Python 3",
   "language": "python",
   "name": "python3"
  },
  "language_info": {
   "codemirror_mode": {
    "name": "ipython",
    "version": 3
   },
   "file_extension": ".py",
   "mimetype": "text/x-python",
   "name": "python",
   "nbconvert_exporter": "python",
   "pygments_lexer": "ipython3",
   "version": "3.7.6"
  }
 },
 "nbformat": 4,
 "nbformat_minor": 4
}
