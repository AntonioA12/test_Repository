{
 "cells": [
  {
   "cell_type": "code",
   "execution_count": 1,
   "metadata": {},
   "outputs": [],
   "source": [
    "from IPython.core.interactiveshell import InteractiveShell\n",
    "InteractiveShell.ast_node_interactivity = \"all\""
   ]
  },
  {
   "cell_type": "code",
   "execution_count": 2,
   "metadata": {},
   "outputs": [],
   "source": [
    "import pandas as pd\n",
    "import numpy as np"
   ]
  },
  {
   "cell_type": "markdown",
   "metadata": {},
   "source": [
    "### object type\n",
    "\n",
    "    - 데이터 배열 안에는 주소값이 있고, 주소값이 해당 데이터를 가져오는 방식이다. ( Object) \n",
    "    - [ object , 1 ,2.1  ] -> [ 오브젝트 , 1 , 2.1 ]  \n",
    "    \n",
    "    - Numpy 에서 문자열 , 정수 , 실수 가 섞여있을경우 디폴트 값은 Unicode 이다. ( 따로 dtype 지정으로 변경가능 )\n",
    "    - 하지만 Pandas 에서 문자열 정수 실수 가 섞여있을경우 디폴트 값은 object 이다. \n",
    "    \n",
    "    - 서로 디폴트값이 다르기 때문에 Numpy 에서 주소값(슬라이싱)을 불러오면 \n",
    "    - Numpy 에선 1 과 2.1 이 Unicode 로 출력된다.\n",
    "    \n",
    "    - 하지만 Pandas 에서는 디폴트값이 object 이기 때문에 \n",
    "    - 1 과 2.1 이 int 와 float 으로 변환되어 출력"
   ]
  },
  {
   "cell_type": "code",
   "execution_count": 12,
   "metadata": {},
   "outputs": [
    {
     "data": {
      "text/plain": [
       "0     aaa\n",
       "1     123\n",
       "2    12.3\n",
       "dtype: object"
      ]
     },
     "execution_count": 12,
     "metadata": {},
     "output_type": "execute_result"
    },
    {
     "data": {
      "text/plain": [
       "'aaa'"
      ]
     },
     "execution_count": 12,
     "metadata": {},
     "output_type": "execute_result"
    },
    {
     "data": {
      "text/plain": [
       "123"
      ]
     },
     "execution_count": 12,
     "metadata": {},
     "output_type": "execute_result"
    }
   ],
   "source": [
    "s1 = pd.Series(['aaa',123,12.3])\n",
    "\n",
    "s1\n",
    "s1[0] # str으로 나옴\n",
    "s1[1] # int 로 나옴 ( 디폴트가 object 이기 떄문 )"
   ]
  },
  {
   "cell_type": "code",
   "execution_count": 9,
   "metadata": {},
   "outputs": [
    {
     "data": {
      "text/plain": [
       "array(['aaa', '123', '12.3'], dtype='<U4')"
      ]
     },
     "execution_count": 9,
     "metadata": {},
     "output_type": "execute_result"
    },
    {
     "data": {
      "text/plain": [
       "'aaa'"
      ]
     },
     "execution_count": 9,
     "metadata": {},
     "output_type": "execute_result"
    },
    {
     "data": {
      "text/plain": [
       "'123'"
      ]
     },
     "execution_count": 9,
     "metadata": {},
     "output_type": "execute_result"
    }
   ],
   "source": [
    "s1 = np.array(['aaa',123,12.3])\n",
    "\n",
    "s1\n",
    "s1[0] # str 으로 나옴\n",
    "s1[1] # str으로 나옴 ( 디폴트가 유니코드 이기 떄문 )"
   ]
  },
  {
   "cell_type": "markdown",
   "metadata": {},
   "source": [
    "## 실습 1 \n",
    "\n",
    "    - 시리즈 sr1 을 만들어라, index = 1,2,3,4,5 data = 0~9 사이의 랜덤 5개 \n",
    "    \n",
    "    - values 를 활용하여 data 를 얻고 3이상읜 value 들의 평균을 구하시오 "
   ]
  },
  {
   "cell_type": "code",
   "execution_count": 35,
   "metadata": {},
   "outputs": [
    {
     "data": {
      "text/plain": [
       "array([8, 3, 7, 8, 7])"
      ]
     },
     "execution_count": 35,
     "metadata": {},
     "output_type": "execute_result"
    },
    {
     "data": {
      "text/plain": [
       "6.6"
      ]
     },
     "execution_count": 35,
     "metadata": {},
     "output_type": "execute_result"
    }
   ],
   "source": [
    "v1 = np.random.randint(10 ,size=5)\n",
    "sr1 = pd.Series(v1 , index=range(1,6))\n",
    "\n",
    "a1 = sr1.values\n",
    "\n",
    "a1\n",
    "a2 = a1[a1>=3]\n",
    "\n",
    "a2.mean()\n",
    "\n"
   ]
  },
  {
   "cell_type": "markdown",
   "metadata": {},
   "source": [
    "## Series index 이름 으로 호출 .loc\n",
    "\n",
    "    - 시리즈 의 index 이름으로 호출 하는 방법    \n",
    "    - sr1.loc['index이름']\n",
    "    - 굳이 .loc 안써도 된다. 하지만 index 와 data 값이 헷갈릴 수 있기 때문에 존재함.\n",
    "    \n",
    "    - 두 개 이상의 index 값을 가져올려면 [[]] fancy index 와 마찬가지로 사용\n",
    "    - 두개이상을 가져오면 데이터타입이 시리즈 형태로 return 된다 \n",
    "    \n",
    "    - [[]] 형태를 하나의 인덱스 만 호출함으로 새로운 시리즈 형태를 만들 수있다.( 시리즈 안의 시리즈 )\n",
    "    \n",
    " \n",
    "## Series index 로 호출 .iloc    \n",
    "\n",
    "    - .loc 는 생략해도 loc 지만, iloc 는 생략하면 loc 이기 때문에 필수로 지정해야 함.\n",
    "    - loc 에서 데이터 이름대신 정수  ( 1~99) 입력하면 자동으로 iloc 로 변환 된다."
   ]
  },
  {
   "cell_type": "code",
   "execution_count": 56,
   "metadata": {},
   "outputs": [
    {
     "data": {
      "text/plain": [
       "a    1.0\n",
       "b    2.0\n",
       "c    3.0\n",
       "d    4.0\n",
       "e    5.0\n",
       "Name: sr1, dtype: float64"
      ]
     },
     "execution_count": 56,
     "metadata": {},
     "output_type": "execute_result"
    },
    {
     "data": {
      "text/plain": [
       "2.0"
      ]
     },
     "execution_count": 56,
     "metadata": {},
     "output_type": "execute_result"
    },
    {
     "data": {
      "text/plain": [
       "3.0"
      ]
     },
     "execution_count": 56,
     "metadata": {},
     "output_type": "execute_result"
    },
    {
     "data": {
      "text/plain": [
       "a      1.0\n",
       "b      2.0\n",
       "c    100.0\n",
       "d      4.0\n",
       "e      5.0\n",
       "Name: sr1, dtype: float64"
      ]
     },
     "execution_count": 56,
     "metadata": {},
     "output_type": "execute_result"
    },
    {
     "data": {
      "text/plain": [
       "c    100.0\n",
       "a      1.0\n",
       "Name: sr1, dtype: float64"
      ]
     },
     "execution_count": 56,
     "metadata": {},
     "output_type": "execute_result"
    },
    {
     "data": {
      "text/plain": [
       "pandas.core.series.Series"
      ]
     },
     "execution_count": 56,
     "metadata": {},
     "output_type": "execute_result"
    },
    {
     "data": {
      "text/plain": [
       "a    1.0\n",
       "Name: sr1, dtype: float64"
      ]
     },
     "execution_count": 56,
     "metadata": {},
     "output_type": "execute_result"
    }
   ],
   "source": [
    "sr1 = pd.Series( data=[1,2,3,4,5] , index=list('abcde') , dtype=float , name='sr1')\n",
    "\n",
    "sr1\n",
    "sr1.loc['b']\n",
    "sr1['c'] # loc 대신 사용 가능 \n",
    "sr1['c']=100 # 데이터 교체가능 가능\n",
    "\n",
    "sr1\n",
    "\n",
    "sr1.loc[['c','a']] # 두개 이상 인덱스 가져오기\n",
    "type(sr1.loc[['b','d']]) # 두개이상을 가져오면 데이터타입이 시리즈 형태로 return 된다 \n",
    "\n",
    "sr2 = sr1.loc[['a']] # [[]] 형태를 하나의 인덱스 만 호출함으로 새로운 시리즈 형태를 만들 수있다.\n",
    "sr2"
   ]
  },
  {
   "cell_type": "code",
   "execution_count": 81,
   "metadata": {},
   "outputs": [
    {
     "data": {
      "text/plain": [
       "3    1\n",
       "7    2\n",
       "4    3\n",
       "5    4\n",
       "6    5\n",
       "Name: sr1, dtype: int64"
      ]
     },
     "execution_count": 81,
     "metadata": {},
     "output_type": "execute_result"
    },
    {
     "data": {
      "text/plain": [
       "5    4\n",
       "6    5\n",
       "Name: sr1, dtype: int64"
      ]
     },
     "execution_count": 81,
     "metadata": {},
     "output_type": "execute_result"
    },
    {
     "data": {
      "text/plain": [
       "3    1\n",
       "7    2\n",
       "4    3\n",
       "5    4\n",
       "Name: sr1, dtype: int64"
      ]
     },
     "execution_count": 81,
     "metadata": {},
     "output_type": "execute_result"
    },
    {
     "data": {
      "text/plain": [
       "3    1\n",
       "4    3\n",
       "Name: sr1, dtype: int64"
      ]
     },
     "execution_count": 81,
     "metadata": {},
     "output_type": "execute_result"
    }
   ],
   "source": [
    "# loc vs iloc \n",
    "\n",
    "sr2 = pd.Series( data=[1,2,3,4,5] , index=[3,7,4,5,6] , name='sr1')\n",
    "\n",
    "sr2\n",
    "sr2.iloc[3:5]\n",
    "sr2.loc[3:5]\n",
    "\n",
    "sr2.loc[3:4:2]"
   ]
  },
  {
   "cell_type": "markdown",
   "metadata": {},
   "source": [
    "## 실습 2\n",
    "\n",
    "    - loc 과 iloc 를 이용하여 각 각 아래의 결과를 출력하시오"
   ]
  },
  {
   "cell_type": "code",
   "execution_count": 85,
   "metadata": {},
   "outputs": [
    {
     "data": {
      "text/plain": [
       "e    0\n",
       "1    1\n",
       "d    2\n",
       "2    3\n",
       "c    4\n",
       "3    5\n",
       "b    6\n",
       "4    7\n",
       "a    8\n",
       "5    9\n",
       "dtype: int32"
      ]
     },
     "execution_count": 85,
     "metadata": {},
     "output_type": "execute_result"
    },
    {
     "data": {
      "text/plain": [
       "2"
      ]
     },
     "execution_count": 85,
     "metadata": {},
     "output_type": "execute_result"
    },
    {
     "data": {
      "text/plain": [
       "5    9\n",
       "dtype: int32"
      ]
     },
     "execution_count": 85,
     "metadata": {},
     "output_type": "execute_result"
    },
    {
     "data": {
      "text/plain": [
       "d    2\n",
       "c    4\n",
       "b    6\n",
       "dtype: int32"
      ]
     },
     "execution_count": 85,
     "metadata": {},
     "output_type": "execute_result"
    },
    {
     "data": {
      "text/plain": [
       "d    2\n",
       "c    4\n",
       "b    6\n",
       "dtype: int32"
      ]
     },
     "execution_count": 85,
     "metadata": {},
     "output_type": "execute_result"
    }
   ],
   "source": [
    "sr1 = pd.Series( data=range(0,10) , index=['e',1,'d',2,'c',3,'b', 4 ,'a',5] , dtype=int)\n",
    "\n",
    "sr1\n",
    "sr1['d']\n",
    "\n",
    "sr1.loc[[5]]\n",
    "\n",
    "sr1.loc['d':'b':2]\n",
    "sr1.iloc[2:7:2]"
   ]
  },
  {
   "cell_type": "code",
   "execution_count": null,
   "metadata": {},
   "outputs": [],
   "source": []
  }
 ],
 "metadata": {
  "kernelspec": {
   "display_name": "Python 3",
   "language": "python",
   "name": "python3"
  },
  "language_info": {
   "codemirror_mode": {
    "name": "ipython",
    "version": 3
   },
   "file_extension": ".py",
   "mimetype": "text/x-python",
   "name": "python",
   "nbconvert_exporter": "python",
   "pygments_lexer": "ipython3",
   "version": "3.7.6"
  }
 },
 "nbformat": 4,
 "nbformat_minor": 4
}
