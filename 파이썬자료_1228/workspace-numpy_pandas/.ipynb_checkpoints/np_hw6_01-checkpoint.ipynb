{
 "cells": [
  {
   "cell_type": "code",
   "execution_count": 2,
   "metadata": {},
   "outputs": [],
   "source": [
    "from IPython.core.interactiveshell import InteractiveShell\n",
    "InteractiveShell.ast_node_interactivity = \"all\""
   ]
  },
  {
   "cell_type": "code",
   "execution_count": 3,
   "metadata": {},
   "outputs": [],
   "source": [
    "import numpy as np\n",
    "import matplotlib.pyplot as plt\n",
    "import random "
   ]
  },
  {
   "cell_type": "markdown",
   "metadata": {},
   "source": [
    "## 과제 1\n",
    "\n",
    "- 1~10 정수에서 랜덤하게 뽑아 구성된 3x4 매트릭스를 만들고\n",
    "- 각 열 별로 평균을 구한뒤 \n",
    "- 각 열 별로 해당 평균보다 큰 element 의 개수를 구하시오"
   ]
  },
  {
   "cell_type": "code",
   "execution_count": 5,
   "metadata": {},
   "outputs": [
    {
     "data": {
      "text/plain": [
       "array([[10,  9,  3,  8],\n",
       "       [ 1,  5,  5,  8],\n",
       "       [ 6,  5,  6,  9]])"
      ]
     },
     "execution_count": 5,
     "metadata": {},
     "output_type": "execute_result"
    },
    {
     "data": {
      "text/plain": [
       "array([5.66666667, 6.33333333, 4.66666667, 8.33333333])"
      ]
     },
     "execution_count": 5,
     "metadata": {},
     "output_type": "execute_result"
    },
    {
     "data": {
      "text/plain": [
       "6"
      ]
     },
     "execution_count": 5,
     "metadata": {},
     "output_type": "execute_result"
    }
   ],
   "source": [
    "m1 = np.random.randint(1,11 , size =(3,4))\n",
    "\n",
    "m1\n",
    "\n",
    "m2  = m1.mean(axis = 0)\n",
    "m2\n",
    "m3 = m1 > m2\n",
    "\n",
    "m3.sum()"
   ]
  }
 ],
 "metadata": {
  "kernelspec": {
   "display_name": "Python 3",
   "language": "python",
   "name": "python3"
  },
  "language_info": {
   "codemirror_mode": {
    "name": "ipython",
    "version": 3
   },
   "file_extension": ".py",
   "mimetype": "text/x-python",
   "name": "python",
   "nbconvert_exporter": "python",
   "pygments_lexer": "ipython3",
   "version": "3.7.6"
  }
 },
 "nbformat": 4,
 "nbformat_minor": 4
}
