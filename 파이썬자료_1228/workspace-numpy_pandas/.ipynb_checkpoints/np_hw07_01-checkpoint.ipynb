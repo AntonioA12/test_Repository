{
 "cells": [
  {
   "cell_type": "code",
   "execution_count": 43,
   "metadata": {},
   "outputs": [],
   "source": [
    "from IPython.core.interactiveshell import InteractiveShell\n",
    "InteractiveShell.ast_node_interactivity = \"all\""
   ]
  },
  {
   "cell_type": "code",
   "execution_count": 44,
   "metadata": {},
   "outputs": [],
   "source": [
    "import numpy as np"
   ]
  },
  {
   "cell_type": "markdown",
   "metadata": {},
   "source": [
    "### nan 이 없는 열들의 각 열의 최소값을 구하시오"
   ]
  },
  {
   "cell_type": "code",
   "execution_count": 61,
   "metadata": {},
   "outputs": [
    {
     "data": {
      "text/plain": [
       "array([[ 7., nan,  2.,  2.],\n",
       "       [ 1.,  1.,  8.,  9.],\n",
       "       [ 5., nan,  7., nan],\n",
       "       [ 1.,  9.,  4.,  3.],\n",
       "       [ 1.,  0.,  7.,  1.],\n",
       "       [ 8.,  9.,  5., nan]])"
      ]
     },
     "execution_count": 61,
     "metadata": {},
     "output_type": "execute_result"
    },
    {
     "data": {
      "text/plain": [
       "array([1., 2.])"
      ]
     },
     "execution_count": 61,
     "metadata": {},
     "output_type": "execute_result"
    }
   ],
   "source": [
    "a1 = np.random.randint(10, size=(6,4))\n",
    "a1 = a1.astype(float)\n",
    "\n",
    "a1[[0,2,2,5],[1,1,3,3]]=np.nan # (0,1) ,(2,1) , (2,3) ( 5,3) 에 nan 을 넣는다 \n",
    "a1\n",
    "\n",
    "a2 = np.isnan(a1).sum(axis=0) # 각 열의 nan 의 갯수 \n",
    "b1 =(a2 ==0) # a2 가 0 이면 Ture, True = nan 이 없는 열 \n",
    "\n",
    "a1[:,b1].min(axis=0) # 전체행 , 난이 없는 열  + min()\n",
    "\n"
   ]
  }
 ],
 "metadata": {
  "kernelspec": {
   "display_name": "Python 3",
   "language": "python",
   "name": "python3"
  },
  "language_info": {
   "codemirror_mode": {
    "name": "ipython",
    "version": 3
   },
   "file_extension": ".py",
   "mimetype": "text/x-python",
   "name": "python",
   "nbconvert_exporter": "python",
   "pygments_lexer": "ipython3",
   "version": "3.7.6"
  }
 },
 "nbformat": 4,
 "nbformat_minor": 4
}
