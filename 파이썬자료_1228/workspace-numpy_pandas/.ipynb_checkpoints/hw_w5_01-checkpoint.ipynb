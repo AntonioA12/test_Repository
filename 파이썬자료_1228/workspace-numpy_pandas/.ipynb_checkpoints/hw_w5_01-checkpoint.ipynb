{
 "cells": [
  {
   "cell_type": "code",
   "execution_count": 1,
   "metadata": {},
   "outputs": [],
   "source": [
    "from IPython.core.interactiveshell import InteractiveShell\n",
    "InteractiveShell.ast_node_interactivity = \"all\""
   ]
  },
  {
   "cell_type": "code",
   "execution_count": 2,
   "metadata": {},
   "outputs": [],
   "source": [
    "import numpy as np\n",
    "import matplotlib.pyplot as plt\n",
    "import random "
   ]
  },
  {
   "cell_type": "markdown",
   "metadata": {},
   "source": [
    "### 과제 1"
   ]
  },
  {
   "cell_type": "code",
   "execution_count": 25,
   "metadata": {},
   "outputs": [
    {
     "data": {
      "text/plain": [
       "array([[[43, 46, 70, 53],\n",
       "        [38,  2, 79, 90],\n",
       "        [ 4, 33, 10, 21],\n",
       "        [69, 38, 20, 92]],\n",
       "\n",
       "       [[57, 85, 40, 16],\n",
       "        [30, 33, 26, 96],\n",
       "        [53, 53, 50,  6],\n",
       "        [68, 93, 74, 45]],\n",
       "\n",
       "       [[99, 45, 86, 17],\n",
       "        [73, 26, 58, 88],\n",
       "        [ 7, 65, 12, 58],\n",
       "        [49, 71, 55, 10]]])"
      ]
     },
     "execution_count": 25,
     "metadata": {},
     "output_type": "execute_result"
    },
    {
     "data": {
      "text/plain": [
       "array([ 4,  2, 10,  6])"
      ]
     },
     "execution_count": 25,
     "metadata": {},
     "output_type": "execute_result"
    }
   ],
   "source": [
    "t1 = np.random.randint(100, size = ( 3 , 4, 4 ))\n",
    "\n",
    "t1\n",
    "\n",
    "t2=t1.min(axis = 1)\n",
    "\n",
    "t2.min(axis = 0)\n"
   ]
  },
  {
   "cell_type": "code",
   "execution_count": null,
   "metadata": {},
   "outputs": [],
   "source": []
  }
 ],
 "metadata": {
  "kernelspec": {
   "display_name": "Python 3",
   "language": "python",
   "name": "python3"
  },
  "language_info": {
   "codemirror_mode": {
    "name": "ipython",
    "version": 3
   },
   "file_extension": ".py",
   "mimetype": "text/x-python",
   "name": "python",
   "nbconvert_exporter": "python",
   "pygments_lexer": "ipython3",
   "version": "3.7.6"
  }
 },
 "nbformat": 4,
 "nbformat_minor": 4
}
