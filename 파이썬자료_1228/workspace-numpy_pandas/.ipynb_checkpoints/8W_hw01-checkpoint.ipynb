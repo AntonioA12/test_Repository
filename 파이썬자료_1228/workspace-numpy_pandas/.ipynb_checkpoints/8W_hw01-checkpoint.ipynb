{
 "cells": [
  {
   "cell_type": "code",
   "execution_count": 1,
   "metadata": {},
   "outputs": [],
   "source": [
    "from IPython.core.interactiveshell import InteractiveShell\n",
    "InteractiveShell.ast_node_interactivity = \"all\""
   ]
  },
  {
   "cell_type": "code",
   "execution_count": 15,
   "metadata": {},
   "outputs": [],
   "source": [
    "import numpy as np\n"
   ]
  },
  {
   "cell_type": "code",
   "execution_count": 18,
   "metadata": {},
   "outputs": [
    {
     "data": {
      "text/plain": [
       "array([[-3.479,    nan, -0.892,  1.407, -3.779, -3.188,  5.818,  2.207],\n",
       "       [ 7.918,    nan,  0.114, -0.194,  3.017,  1.774,  1.074,  0.087],\n",
       "       [ 2.162,  2.501,  7.297,  1.402, -3.236, -2.566,  2.718,  1.323],\n",
       "       [ 2.721, -0.122,    nan, -3.45 ,  2.003,  2.442, -2.052,    nan],\n",
       "       [ 2.171,  0.264, -3.167, -0.543, -1.46 ,  1.232,  1.748, -0.661],\n",
       "       [-3.479,  3.42 , -0.892,  1.407, -3.779, -3.188,  5.818,  2.207],\n",
       "       [ 7.918,  1.12 ,  0.114, -0.194,  3.017,  1.774,  1.074,    nan],\n",
       "       [ 2.162,  2.501,  7.297,  1.402, -3.236,    nan,  2.718,  1.323],\n",
       "       [ 2.721, -0.122,    nan, -3.45 ,  2.003,  2.442, -2.052,  1.873],\n",
       "       [ 2.171,  0.264, -3.167, -0.543, -1.46 ,  1.232,  1.748, -0.661],\n",
       "       [ 2.162,  2.501,  7.297,  1.402, -3.236, -2.566,  2.718,  1.323],\n",
       "       [ 2.721, -0.122,    nan, -3.45 ,  2.003,  2.442, -2.052,    nan],\n",
       "       [ 2.171,  0.264, -3.167, -0.543, -1.46 ,  1.232,  1.748, -0.661],\n",
       "       [-3.479,    nan, -0.892,  1.407, -3.779, -3.188,  5.818,  2.207],\n",
       "       [ 7.918,    nan,  0.114, -0.194,  3.017,  1.774,  1.074,  0.087]])"
      ]
     },
     "execution_count": 18,
     "metadata": {},
     "output_type": "execute_result"
    },
    {
     "data": {
      "text/plain": [
       "array([[False,  True, False, False, False, False, False, False],\n",
       "       [False,  True, False, False, False, False, False, False],\n",
       "       [False, False, False, False, False, False, False, False],\n",
       "       [False, False,  True, False, False, False, False,  True],\n",
       "       [False, False, False, False, False, False, False, False],\n",
       "       [False, False, False, False, False, False, False, False],\n",
       "       [False, False, False, False, False, False, False,  True],\n",
       "       [False, False, False, False, False,  True, False, False],\n",
       "       [False, False,  True, False, False, False, False, False],\n",
       "       [False, False, False, False, False, False, False, False],\n",
       "       [False, False, False, False, False, False, False, False],\n",
       "       [False, False,  True, False, False, False, False,  True],\n",
       "       [False, False, False, False, False, False, False, False],\n",
       "       [False,  True, False, False, False, False, False, False],\n",
       "       [False,  True, False, False, False, False, False, False]])"
      ]
     },
     "execution_count": 18,
     "metadata": {},
     "output_type": "execute_result"
    },
    {
     "data": {
      "text/plain": [
       "array([1, 1, 0, 2, 0, 0, 1, 1, 1, 0, 0, 2, 0, 1, 1])"
      ]
     },
     "execution_count": 18,
     "metadata": {},
     "output_type": "execute_result"
    },
    {
     "data": {
      "text/plain": [
       "0.7589449541284403"
      ]
     },
     "execution_count": 18,
     "metadata": {},
     "output_type": "execute_result"
    }
   ],
   "source": [
    "a1 =np.genfromtxt(fname= 'proj1.txt', dtype=float , delimiter='\\t')\n",
    "a1\n",
    "\n",
    "b1 = np.isnan(a1)\n",
    "\n",
    "b1\n",
    "\n",
    "b1.sum(axis=1)\n",
    "b2 = (a1==a1)\n",
    "a1[b2].mean()"
   ]
  },
  {
   "cell_type": "code",
   "execution_count": null,
   "metadata": {},
   "outputs": [],
   "source": []
  }
 ],
 "metadata": {
  "kernelspec": {
   "display_name": "Python 3",
   "language": "python",
   "name": "python3"
  },
  "language_info": {
   "codemirror_mode": {
    "name": "ipython",
    "version": 3
   },
   "file_extension": ".py",
   "mimetype": "text/x-python",
   "name": "python",
   "nbconvert_exporter": "python",
   "pygments_lexer": "ipython3",
   "version": "3.7.6"
  }
 },
 "nbformat": 4,
 "nbformat_minor": 4
}
