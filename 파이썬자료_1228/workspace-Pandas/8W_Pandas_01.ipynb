{
 "cells": [
  {
   "cell_type": "code",
   "execution_count": 1,
   "metadata": {},
   "outputs": [],
   "source": [
    "from IPython.core.interactiveshell import InteractiveShell\n",
    "InteractiveShell.ast_node_interactivity = \"all\""
   ]
  },
  {
   "cell_type": "markdown",
   "metadata": {},
   "source": [
    "## Pandas\n",
    "\n",
    "    - 구조화 데이터의 처리를 지원하는 Python 라이브러리\n",
    "    - 고성능 Array 계산 라이브러리인 Numpy 와 통합하여\n",
    "    강력한 ' 스프레드 시트' 활용 가능\n",
    "    \n",
    "    - 인덱싱 , 연산용 함수 , 전처리 함수 등을 제공함\n",
    "    \n",
    "\n",
    "### Series  ( data , index , dtype, name ) \n",
    "    \n",
    "    -  하나의 특정 열 , 또는 하나의 행 만 포함하는 Object \n",
    "    -  1차원 벡터 \n",
    "    -  data = 데이터 , index = 인덱스 이름 ( 디폴트는 정수 )  , dtype = 데이터타입 ( 디폴트는 자동변형 ) ,name = 입력하지않으면 생성X \n",
    "    - numpy 와 다르게 index 를 지정할 수 있음 \n",
    "\n",
    "### DataFrame\n",
    "\n",
    "    - 행 과 열 테이블을 포함하는 object"
   ]
  },
  {
   "cell_type": "code",
   "execution_count": 2,
   "metadata": {},
   "outputs": [],
   "source": [
    "import pandas as pd\n",
    "import numpy as np\n",
    "import random"
   ]
  },
  {
   "cell_type": "code",
   "execution_count": 7,
   "metadata": {
    "scrolled": true
   },
   "outputs": [
    {
     "data": {
      "text/plain": [
       "a    0\n",
       "b    1\n",
       "c    2\n",
       "d    3\n",
       "e    4\n",
       "f    5\n",
       "Name: Series1, dtype: int32"
      ]
     },
     "execution_count": 7,
     "metadata": {},
     "output_type": "execute_result"
    }
   ],
   "source": [
    "sr1 = pd.Series(np.arange(6) , index = ['a','b','c','d','e','f'] , name='Series1' )\n",
    "\n",
    "sr1\n"
   ]
  },
  {
   "cell_type": "markdown",
   "metadata": {},
   "source": [
    "    - Pandas 는 str 타입이 없고 대신 object 타입이 존재한다\n",
    "    - object 타입은 str 타입을 포함한 혼합 데이터 타입이다. \n",
    "    - object 타입 덕분에 다양한 데이터 수용 가능하다"
   ]
  },
  {
   "cell_type": "code",
   "execution_count": 9,
   "metadata": {},
   "outputs": [
    {
     "data": {
      "text/plain": [
       "0    1\n",
       "1    2\n",
       "2    3\n",
       "3    4\n",
       "4    5\n",
       "dtype: int64"
      ]
     },
     "execution_count": 9,
     "metadata": {},
     "output_type": "execute_result"
    },
    {
     "data": {
      "text/plain": [
       "0    1\n",
       "1    2\n",
       "2    3\n",
       "3    4\n",
       "4    5\n",
       "dtype: int64"
      ]
     },
     "execution_count": 9,
     "metadata": {},
     "output_type": "execute_result"
    },
    {
     "data": {
      "text/plain": [
       "0    1\n",
       "1    2\n",
       "2    3\n",
       "3    4\n",
       "4    5\n",
       "dtype: int32"
      ]
     },
     "execution_count": 9,
     "metadata": {},
     "output_type": "execute_result"
    }
   ],
   "source": [
    "pd.Series(data =[1,2,3,4,5])\n",
    "pd.Series([1,2,3,4,5])\n",
    "pd.Series(np.arange(1,6))"
   ]
  },
  {
   "cell_type": "code",
   "execution_count": null,
   "metadata": {},
   "outputs": [],
   "source": []
  }
 ],
 "metadata": {
  "kernelspec": {
   "display_name": "Python 3",
   "language": "python",
   "name": "python3"
  },
  "language_info": {
   "codemirror_mode": {
    "name": "ipython",
    "version": 3
   },
   "file_extension": ".py",
   "mimetype": "text/x-python",
   "name": "python",
   "nbconvert_exporter": "python",
   "pygments_lexer": "ipython3",
   "version": "3.7.6"
  }
 },
 "nbformat": 4,
 "nbformat_minor": 4
}
