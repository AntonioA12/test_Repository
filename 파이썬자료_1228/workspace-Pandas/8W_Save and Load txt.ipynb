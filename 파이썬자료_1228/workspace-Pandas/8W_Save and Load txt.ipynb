{
 "cells": [
  {
   "cell_type": "code",
   "execution_count": 1,
   "metadata": {},
   "outputs": [],
   "source": [
    "from IPython.core.interactiveshell import InteractiveShell\n",
    "InteractiveShell.ast_node_interactivity = \"all\""
   ]
  },
  {
   "cell_type": "markdown",
   "metadata": {},
   "source": [
    "## save and load text \n",
    "\n",
    "    - 파일으로 부터 데이터를 가져오는 방법\n",
    "    - save ( fname = 파일명 , X= save 할 객체 , fmt = 정수or실수 , delimiter = 구분방법 ( '\\t , \\n ..) "
   ]
  },
  {
   "cell_type": "code",
   "execution_count": 4,
   "metadata": {},
   "outputs": [],
   "source": [
    "import numpy as np\n",
    "import random\n"
   ]
  },
  {
   "cell_type": "code",
   "execution_count": 15,
   "metadata": {},
   "outputs": [
    {
     "data": {
      "text/plain": [
       "array([[75, 48, 96, 10, 40, 48, 33, 45, 96, 11],\n",
       "       [74, 71, 83, 21, 25, 33, 16, 67, 97, 75],\n",
       "       [19, 29, 66, 40, 22, 64, 97, 63, 50, 78],\n",
       "       [99, 69, 36, 67, 36, 22, 36, 71, 66,  7],\n",
       "       [66, 57, 10, 86, 96, 58, 72, 74, 27, 69]])"
      ]
     },
     "execution_count": 15,
     "metadata": {},
     "output_type": "execute_result"
    },
    {
     "data": {
      "text/plain": [
       "array([[ 0.60423768,  0.89510812,  0.97104505, -0.79894857, -4.15427691,\n",
       "        -1.37714007, -0.31945034,  1.72560043,  0.45644334, -3.2265008 ],\n",
       "       [ 2.70580894, -1.36559217, -4.42442976, -0.97371072,  2.05556911,\n",
       "        -2.96827422, -2.52837267,  2.76842196, -1.53318703, -3.56945297],\n",
       "       [-1.2679149 , -4.02772548,  4.54721991,  0.02215269,  4.03451987,\n",
       "         2.07126646,  1.19125502,  2.24759311,  1.90015579,  3.09942314],\n",
       "       [ 1.28490162, -3.80501559,  0.04278956,  1.28459657, -0.42975225,\n",
       "         4.49215859, -3.53018329, -3.24167444,  0.74409524, -1.25268516],\n",
       "       [ 0.70740914, -3.55628917, -4.13947216, -1.70188355, -1.05620392,\n",
       "         0.36675825, -1.48033768,  1.75032986,  2.27532073,  0.56018398]])"
      ]
     },
     "execution_count": 15,
     "metadata": {},
     "output_type": "execute_result"
    }
   ],
   "source": [
    "a1 = np.random.randint(100 , size=(5,10))\n",
    "a2 = np.random.normal(0,3 , size=(5,10))\n",
    "a1\n",
    "a2\n",
    "\n",
    "\n",
    "np.savetxt( fname ='file1_int_v2.txt' , X=a1 , fmt='%d' , delimiter='\\t')\n",
    "np.savetxt( fname ='file2_float_v2.txt' , X=a1 , fmt='%.2f' , delimiter=',')"
   ]
  },
  {
   "cell_type": "markdown",
   "metadata": {},
   "source": [
    "#### nan 을 포함시켜서 save 하기\n",
    "\n",
    "    - nan 은 float 이기 때문에 astype 으로 int 을 float 으로 바꿔야한다\n",
    "    - astype 은 리턴이기때문에 같은 변수명으로 지명한다 "
   ]
  },
  {
   "cell_type": "code",
   "execution_count": 32,
   "metadata": {},
   "outputs": [
    {
     "data": {
      "text/plain": [
       "array([[37.,  9., 33., 39., 98., 67., 86., 29., 60., 67.],\n",
       "       [12., nan, 77., 56., 59., 21., 47., 52., 42.,  5.],\n",
       "       [32., 90., nan, 89., 91., 71., 68., 71., 69., 37.],\n",
       "       [32., 79., 55., 97., 49., 39., 71., 30., 20., 97.],\n",
       "       [32.,  0., 77., 74.,  1., 35., 75., 41., 45., 37.]])"
      ]
     },
     "execution_count": 32,
     "metadata": {},
     "output_type": "execute_result"
    }
   ],
   "source": [
    "a3 = np.random.randint(100 , size=(5,10))\n",
    "a3 =a3.astype(float) # nan 은 float 타입이기때문에 int 인 a3 를 float 으로 변형 \n",
    "a3[[1,2],[1,2]] = np.nan\n",
    "a3\n",
    "\n",
    "np.savetxt( fname = 'file3_nan.txt', X=a3 , fmt=\"%.2f\" , delimiter = ',')"
   ]
  },
  {
   "cell_type": "markdown",
   "metadata": {},
   "source": [
    "## load txt\n",
    "    - np.loadtxt( fname='파일명' , dtype= 데이터타입 , delimiter= ' 구분방법 ' , usecols= 따로가져오기 [ 행 ]\n",
    "    - 만약 불러올 파일이 손상되었거나 비어있는 상태로 load 를한다면 에러 발생\n",
    "    - 하지만 genfromtxt 로 불러온다면 비어있는 상태를 원하는 데이터로 변환할 수있다. ( filing_values = '' 파라미터 를 사용한다)"
   ]
  },
  {
   "cell_type": "code",
   "execution_count": 43,
   "metadata": {},
   "outputs": [
    {
     "data": {
      "text/plain": [
       "array([[37.,  9., 33.],\n",
       "       [12., nan, 77.],\n",
       "       [32., 90., nan],\n",
       "       [32., 79., 97.],\n",
       "       [32., 74.,  1.]])"
      ]
     },
     "execution_count": 43,
     "metadata": {},
     "output_type": "execute_result"
    },
    {
     "data": {
      "text/plain": [
       "array([[False, False, False],\n",
       "       [False,  True, False],\n",
       "       [False, False,  True],\n",
       "       [False, False, False],\n",
       "       [False, False, False]])"
      ]
     },
     "execution_count": 43,
     "metadata": {},
     "output_type": "execute_result"
    },
    {
     "data": {
      "text/plain": [
       "2"
      ]
     },
     "execution_count": 43,
     "metadata": {},
     "output_type": "execute_result"
    }
   ],
   "source": [
    "a4 = np.loadtxt( fname='file3_nan.txt' , dtype=float , delimiter = ',' , usecols=[0,1,2])\n",
    "\n",
    "a4\n",
    "np.isnan(a4)\n",
    "np.isnan(a4).sum()"
   ]
  },
  {
   "cell_type": "markdown",
   "metadata": {},
   "source": [
    "## 실습 1\n",
    "\n",
    "    - 파일을 읽고\n",
    "    - 1. 각 행 별 평균을 구하라\n",
    "    - 2. 50보다 큰 수들의 평균을 구하라"
   ]
  },
  {
   "cell_type": "code",
   "execution_count": 57,
   "metadata": {},
   "outputs": [
    {
     "data": {
      "text/plain": [
       "array([[75, 48, 96, 10, 40, 48, 33, 45, 96, 11],\n",
       "       [74, 71, 83, 21, 25, 33, 16, 67, 97, 75],\n",
       "       [19, 29, 66, 40, 22, 64, 97, 63, 50, 78],\n",
       "       [99, 69, 36, 67, 36, 22, 36, 71, 66,  7],\n",
       "       [66, 57, 10, 86, 96, 58, 72, 74, 27, 69]])"
      ]
     },
     "execution_count": 57,
     "metadata": {},
     "output_type": "execute_result"
    },
    {
     "data": {
      "text/plain": [
       "array([50.2, 56.2, 52.8, 50.9, 61.5])"
      ]
     },
     "execution_count": 57,
     "metadata": {},
     "output_type": "execute_result"
    },
    {
     "data": {
      "text/plain": [
       "76.0"
      ]
     },
     "execution_count": 57,
     "metadata": {},
     "output_type": "execute_result"
    },
    {
     "data": {
      "text/plain": [
       "array([75, 96, 96, 74, 71, 83, 67, 97, 75, 66, 64, 97, 63, 78, 99, 69, 67,\n",
       "       71, 66, 66, 57, 86, 96, 58, 72, 74, 69])"
      ]
     },
     "execution_count": 57,
     "metadata": {},
     "output_type": "execute_result"
    }
   ],
   "source": [
    "a1 = np.loadtxt( fname='file1_int_v2.txt' , dtype=int , delimiter='\\t')\n",
    "\n",
    "a1\n",
    "a1.mean(axis=1) # 각 행들의 평균 \n",
    "\n",
    "a1[a1>50].mean() # fancy index 를 사용한방법 \n",
    "\n",
    "t1 = np.where(a1>50) # np.where 를 사용한방법\n",
    "a1[t1]"
   ]
  },
  {
   "cell_type": "markdown",
   "metadata": {},
   "source": [
    "## 실습 2\n",
    "\n",
    "    - 파일을 읽고\n",
    "    - missing value 가 없는 행들의 , 각 행 별 최대값 과 그 index 를 구하여라"
   ]
  },
  {
   "cell_type": "code",
   "execution_count": 64,
   "metadata": {},
   "outputs": [
    {
     "data": {
      "text/plain": [
       "array([nan, nan, nan, nan, nan])"
      ]
     },
     "execution_count": 64,
     "metadata": {},
     "output_type": "execute_result"
    },
    {
     "ename": "AxisError",
     "evalue": "axis 1 is out of bounds for array of dimension 1",
     "output_type": "error",
     "traceback": [
      "\u001b[1;31m---------------------------------------------------------------------------\u001b[0m",
      "\u001b[1;31mAxisError\u001b[0m                                 Traceback (most recent call last)",
      "\u001b[1;32m<ipython-input-64-6af7af9ad78c>\u001b[0m in \u001b[0;36m<module>\u001b[1;34m\u001b[0m\n\u001b[0;32m      2\u001b[0m \u001b[1;33m\u001b[0m\u001b[0m\n\u001b[0;32m      3\u001b[0m \u001b[0ma1\u001b[0m\u001b[1;33m\u001b[0m\u001b[1;33m\u001b[0m\u001b[0m\n\u001b[1;32m----> 4\u001b[1;33m \u001b[0mnp\u001b[0m\u001b[1;33m.\u001b[0m\u001b[0misnan\u001b[0m\u001b[1;33m(\u001b[0m\u001b[0ma1\u001b[0m\u001b[1;33m)\u001b[0m\u001b[1;33m.\u001b[0m\u001b[0msum\u001b[0m\u001b[1;33m(\u001b[0m\u001b[0maxis\u001b[0m\u001b[1;33m=\u001b[0m\u001b[1;36m1\u001b[0m\u001b[1;33m)\u001b[0m\u001b[1;33m\u001b[0m\u001b[1;33m\u001b[0m\u001b[0m\n\u001b[0m",
      "\u001b[1;32m~\\anaconda3\\lib\\site-packages\\numpy\\core\\_methods.py\u001b[0m in \u001b[0;36m_sum\u001b[1;34m(a, axis, dtype, out, keepdims, initial, where)\u001b[0m\n\u001b[0;32m     36\u001b[0m def _sum(a, axis=None, dtype=None, out=None, keepdims=False,\n\u001b[0;32m     37\u001b[0m          initial=_NoValue, where=True):\n\u001b[1;32m---> 38\u001b[1;33m     \u001b[1;32mreturn\u001b[0m \u001b[0mumr_sum\u001b[0m\u001b[1;33m(\u001b[0m\u001b[0ma\u001b[0m\u001b[1;33m,\u001b[0m \u001b[0maxis\u001b[0m\u001b[1;33m,\u001b[0m \u001b[0mdtype\u001b[0m\u001b[1;33m,\u001b[0m \u001b[0mout\u001b[0m\u001b[1;33m,\u001b[0m \u001b[0mkeepdims\u001b[0m\u001b[1;33m,\u001b[0m \u001b[0minitial\u001b[0m\u001b[1;33m,\u001b[0m \u001b[0mwhere\u001b[0m\u001b[1;33m)\u001b[0m\u001b[1;33m\u001b[0m\u001b[1;33m\u001b[0m\u001b[0m\n\u001b[0m\u001b[0;32m     39\u001b[0m \u001b[1;33m\u001b[0m\u001b[0m\n\u001b[0;32m     40\u001b[0m def _prod(a, axis=None, dtype=None, out=None, keepdims=False,\n",
      "\u001b[1;31mAxisError\u001b[0m: axis 1 is out of bounds for array of dimension 1"
     ]
    }
   ],
   "source": [
    "a1 = np.genfromtxt( fname='file3_nan.txt' , dtype=float , delimiter='\\t')\n",
    "\n",
    "a1\n",
    "np.isnan(a1).sum(axis=1)"
   ]
  },
  {
   "cell_type": "code",
   "execution_count": null,
   "metadata": {},
   "outputs": [],
   "source": []
  }
 ],
 "metadata": {
  "kernelspec": {
   "display_name": "Python 3",
   "language": "python",
   "name": "python3"
  },
  "language_info": {
   "codemirror_mode": {
    "name": "ipython",
    "version": 3
   },
   "file_extension": ".py",
   "mimetype": "text/x-python",
   "name": "python",
   "nbconvert_exporter": "python",
   "pygments_lexer": "ipython3",
   "version": "3.7.6"
  }
 },
 "nbformat": 4,
 "nbformat_minor": 4
}
