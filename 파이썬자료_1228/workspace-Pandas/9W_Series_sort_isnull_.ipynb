{
 "cells": [
  {
   "cell_type": "code",
   "execution_count": 1,
   "metadata": {},
   "outputs": [],
   "source": [
    "from IPython.core.interactiveshell import InteractiveShell\n",
    "InteractiveShell.ast_node_interactivity = \"all\""
   ]
  },
  {
   "cell_type": "code",
   "execution_count": 2,
   "metadata": {},
   "outputs": [],
   "source": [
    "import pandas as pd\n",
    "import numpy as np"
   ]
  },
  {
   "cell_type": "markdown",
   "metadata": {},
   "source": [
    "## Series functions\n",
    "\n",
    "    - Series 도 Numpy 처럼 다양한 함수 사용가능 , 대신 시리즈는 1차원 배열이기 때문에 axis 가 없음"
   ]
  },
  {
   "cell_type": "code",
   "execution_count": 8,
   "metadata": {},
   "outputs": [
    {
     "data": {
      "text/plain": [
       "0    e\n",
       "1    r\n",
       "2    e\n",
       "3    e\n",
       "Name: sr1, dtype: object"
      ]
     },
     "execution_count": 8,
     "metadata": {},
     "output_type": "execute_result"
    }
   ],
   "source": [
    "# 무작위로 가져오기 random.choice\n",
    "sr1 = pd.Series(data = np.random.choice(list('erferwe'),size=(4)), name='sr1')\n",
    "\n",
    "sr1"
   ]
  },
  {
   "cell_type": "markdown",
   "metadata": {},
   "source": [
    "## 계산함수\n",
    "\n",
    "    - Pandas 에서도 Numpy 와 같이 \n",
    "    - sum() , var() , std() 함수가 내장되어 있다.\n",
    "    \n",
    "### 다만, Numpy 에선 var(변수명) 으로 변수명을 함수에 지정할 수 있지만,\n",
    "### Pandas 함수는 따로 제공하지 않기 때문에 해당작업을 하고 싶다면, np 함수를 사용해야함"
   ]
  },
  {
   "cell_type": "markdown",
   "metadata": {},
   "source": [
    "## Pandas 의 argmax , argmin , idxmax , idxmin"
   ]
  },
  {
   "cell_type": "code",
   "execution_count": 23,
   "metadata": {},
   "outputs": [
    {
     "data": {
      "text/plain": [
       "array([35, 94, 41, 61, 62])"
      ]
     },
     "execution_count": 23,
     "metadata": {},
     "output_type": "execute_result"
    },
    {
     "data": {
      "text/plain": [
       "1"
      ]
     },
     "execution_count": 23,
     "metadata": {},
     "output_type": "execute_result"
    },
    {
     "data": {
      "text/plain": [
       "0"
      ]
     },
     "execution_count": 23,
     "metadata": {},
     "output_type": "execute_result"
    },
    {
     "data": {
      "text/plain": [
       "2"
      ]
     },
     "execution_count": 23,
     "metadata": {},
     "output_type": "execute_result"
    },
    {
     "data": {
      "text/plain": [
       "'c'"
      ]
     },
     "execution_count": 23,
     "metadata": {},
     "output_type": "execute_result"
    }
   ],
   "source": [
    "sr1 = pd.Series(data=[3,2,6,4,5] , index=list('abcde'))\n",
    "\n",
    "\n",
    "a1 = np.random.randint(100, size=5)\n",
    "a1\n",
    "np.argmax(a1) # 최대값의 인덱스 위치 제공\n",
    "np.argmin(a1) # 최소값의 인덱스 위치 제공\n",
    "\n",
    "sr1.argmax() # 최대값의 인덱스 제공\n",
    "sr1.idxmax() # 최대값의 인덱스 이름 제공 "
   ]
  },
  {
   "cell_type": "markdown",
   "metadata": {},
   "source": [
    "### 하나의 Series 에서 comparison & boolean index\n",
    "    \n",
    "    - 결과값이 시리즈로 나온다"
   ]
  },
  {
   "cell_type": "code",
   "execution_count": 32,
   "metadata": {},
   "outputs": [
    {
     "data": {
      "text/plain": [
       "0    8\n",
       "1    7\n",
       "2    5\n",
       "3    5\n",
       "4    1\n",
       "5    8\n",
       "Name: sr2, dtype: int32"
      ]
     },
     "execution_count": 32,
     "metadata": {},
     "output_type": "execute_result"
    },
    {
     "data": {
      "text/plain": [
       "0     True\n",
       "1     True\n",
       "2     True\n",
       "3     True\n",
       "4    False\n",
       "5     True\n",
       "Name: sr2, dtype: bool"
      ]
     },
     "execution_count": 32,
     "metadata": {},
     "output_type": "execute_result"
    },
    {
     "data": {
      "text/plain": [
       "0    8\n",
       "1    7\n",
       "5    8\n",
       "Name: sr2, dtype: int32"
      ]
     },
     "execution_count": 32,
     "metadata": {},
     "output_type": "execute_result"
    }
   ],
   "source": [
    "sr2 = pd.Series( data = np.random.randint(10 , size=(6)) , name='sr2')\n",
    "\n",
    "sr2\n",
    "sr2>2 # 결과값이 시리즈로 나온다 \n",
    "sr2[sr2>5] # True 값만 출력 마찬가지로 시리즈로 나온다 "
   ]
  },
  {
   "cell_type": "markdown",
   "metadata": {},
   "source": [
    "## Series 의 sort\n",
    "\n",
    "    - 순서대로 정렬 sort를 한번했다고 해서 , return 되지않음 ( sort 값이 저장되지 않는다 )\n",
    "    \n",
    "    - data 만 정렬 = s1.sort_values()  \n",
    "    - index 만 정렬 = s1.sort_index()\n",
    "    \n",
    "    \n",
    "## sort_values(inplace = True )\n",
    "\n",
    "    -  s2 = s1.sort_values(inplacce=True) \n",
    "    -  return 을 하겠다는 뜻 , 당연히 index 의 위치나, data의 위치도 바뀐다."
   ]
  },
  {
   "cell_type": "code",
   "execution_count": 48,
   "metadata": {},
   "outputs": [
    {
     "data": {
      "text/plain": [
       "c    5\n",
       "d    2\n",
       "a    4\n",
       "b    1\n",
       "e    3\n",
       "dtype: int64"
      ]
     },
     "execution_count": 48,
     "metadata": {},
     "output_type": "execute_result"
    },
    {
     "data": {
      "text/plain": [
       "b    1\n",
       "d    2\n",
       "e    3\n",
       "a    4\n",
       "c    5\n",
       "dtype: int64"
      ]
     },
     "execution_count": 48,
     "metadata": {},
     "output_type": "execute_result"
    },
    {
     "data": {
      "text/plain": [
       "a    4\n",
       "b    1\n",
       "c    5\n",
       "d    2\n",
       "e    3\n",
       "dtype: int64"
      ]
     },
     "execution_count": 48,
     "metadata": {},
     "output_type": "execute_result"
    }
   ],
   "source": [
    "s1 = pd.Series(data=[5,2,4,1,3] , index=list('cdabe'))\n",
    "\n",
    "s1\n",
    "\n",
    "s1.sort_values(inplace=True)\n",
    "s1.sort_values()\n",
    "s1.sort_index()\n"
   ]
  },
  {
   "cell_type": "markdown",
   "metadata": {},
   "source": [
    "## Series 의 replace\n",
    "\n",
    "    - loc 이나 iloc 은 특정 '위치' 에 있는 data 를 바꿀 때 사용했지만,\n",
    "    \n",
    "    - replace 는 특정 data 를 바꿀 때 사용"
   ]
  },
  {
   "cell_type": "code",
   "execution_count": 56,
   "metadata": {},
   "outputs": [
    {
     "data": {
      "text/plain": [
       "c    5\n",
       "d    2\n",
       "a    4\n",
       "b    1\n",
       "e    3\n",
       "dtype: int64"
      ]
     },
     "execution_count": 56,
     "metadata": {},
     "output_type": "execute_result"
    },
    {
     "data": {
      "text/plain": [
       "c    100\n",
       "d      2\n",
       "a    100\n",
       "b    100\n",
       "e      3\n",
       "dtype: int64"
      ]
     },
     "execution_count": 56,
     "metadata": {},
     "output_type": "execute_result"
    }
   ],
   "source": [
    "s1 = pd.Series(data=[5,2,4,1,3] , index=list('cdabe'))\n",
    "s1\n",
    "\n",
    "s1 = s1.replace(5,100)\n",
    "s1 = s1.replace([5,4,1],100) # 5 4 1 를 전부 100으로 \n",
    "s1 = s1.replace([5,4,1],[10,20,30]) # 5 4 1 를 10 20 30 으로\n",
    "s1"
   ]
  },
  {
   "cell_type": "markdown",
   "metadata": {},
   "source": [
    "## Series 사이의 함수 ( index 공유 하는 경우)\n",
    "\n",
    "    - 그냥 하면된다. \n",
    "   \n",
    "## Series 사이의 함수 ( index 이름이 다른경우 )\n",
    "\n",
    "    - 서로 인덱스 가 달라도 일단 sr1 + sr2 합쳐서 데이터를 통합한다.     \n",
    "    - index 의 길이는 길어지고 , 데이터는 Nan 으로 생성 \n",
    "    - isnull , notnull 그리고 boolean 인덱스를 사용해서 Nan 이있는값만, Nan이 없는 값을 활용한다.\n",
    "    \n",
    "    \n",
    "### sr3.isnull() , notnull() / np.isnan() , ~np.isnan()\n",
    "\n",
    "    - 데이터 가 Nan 이면, True\n",
    "    - pd.notnull(sr3) 로도 사용가능"
   ]
  },
  {
   "cell_type": "code",
   "execution_count": 75,
   "metadata": {},
   "outputs": [
    {
     "data": {
      "text/plain": [
       "c    1\n",
       "d    2\n",
       "b    3\n",
       "e    4\n",
       "f    5\n",
       "dtype: int64"
      ]
     },
     "execution_count": 75,
     "metadata": {},
     "output_type": "execute_result"
    },
    {
     "data": {
      "text/plain": [
       "a    5\n",
       "b    2\n",
       "c    4\n",
       "d    3\n",
       "e    1\n",
       "dtype: int64"
      ]
     },
     "execution_count": 75,
     "metadata": {},
     "output_type": "execute_result"
    },
    {
     "data": {
      "text/plain": [
       "a    NaN\n",
       "b    5.0\n",
       "c    5.0\n",
       "d    5.0\n",
       "e    5.0\n",
       "f    NaN\n",
       "dtype: float64"
      ]
     },
     "execution_count": 75,
     "metadata": {},
     "output_type": "execute_result"
    },
    {
     "data": {
      "text/plain": [
       "a     True\n",
       "b    False\n",
       "c    False\n",
       "d    False\n",
       "e    False\n",
       "f     True\n",
       "dtype: bool"
      ]
     },
     "execution_count": 75,
     "metadata": {},
     "output_type": "execute_result"
    },
    {
     "data": {
      "text/plain": [
       "b    5.0\n",
       "c    5.0\n",
       "d    5.0\n",
       "e    5.0\n",
       "dtype: float64"
      ]
     },
     "execution_count": 75,
     "metadata": {},
     "output_type": "execute_result"
    }
   ],
   "source": [
    "sr1 = pd.Series( data = [1,2,3,4,5] , index=list('cdbef'))\n",
    "sr2 = pd.Series( data = [5,2,4,3,1] , index=list('abcde'))\n",
    "\n",
    "sr1\n",
    "sr2\n",
    "\n",
    "sr3 = sr1+sr2 # index 의 길이는 길어지고 , 데이터는 Nan 으로 생성 \n",
    "sr3\n",
    "sr3.isnull() \n",
    "#sr3.notnull()  둘이똑같형식임 \n",
    "#pd.notnull(sr3)\n",
    "\n",
    "sr3[sr3.notnull()] # boolean 인덱스를 활용하여 Nan 아닌 데이터들만 가져옴 "
   ]
  },
  {
   "cell_type": "markdown",
   "metadata": {},
   "source": [
    "## Series 의 수학함수 \n",
    "\n",
    "    - Series 는 딱히 수학함수가 없기 때문에 Numpy 수학함수를 인용한다."
   ]
  },
  {
   "cell_type": "code",
   "execution_count": 78,
   "metadata": {},
   "outputs": [
    {
     "data": {
      "text/plain": [
       "a    1\n",
       "b    2\n",
       "c    3\n",
       "d    4\n",
       "e    5\n",
       "Name: sr1, dtype: int64"
      ]
     },
     "execution_count": 78,
     "metadata": {},
     "output_type": "execute_result"
    },
    {
     "data": {
      "text/plain": [
       "a      2.718282\n",
       "b      7.389056\n",
       "c     20.085537\n",
       "d     54.598150\n",
       "e    148.413159\n",
       "Name: sr1, dtype: float64"
      ]
     },
     "execution_count": 78,
     "metadata": {},
     "output_type": "execute_result"
    },
    {
     "data": {
      "text/plain": [
       "a     1\n",
       "b     4\n",
       "c     9\n",
       "d    16\n",
       "e    25\n",
       "Name: sr1, dtype: int64"
      ]
     },
     "execution_count": 78,
     "metadata": {},
     "output_type": "execute_result"
    }
   ],
   "source": [
    "sr1 = pd.Series( data = [1,2,3,4,5] , index=list('abcde') , name='sr1')\n",
    "\n",
    "sr1\n",
    "np.exp(sr1) # 지수함수 \n",
    "np.power(sr1,2) # 제곱 "
   ]
  },
  {
   "cell_type": "markdown",
   "metadata": {},
   "source": [
    " ## 실습 3\n",
    " "
   ]
  },
  {
   "cell_type": "code",
   "execution_count": 141,
   "metadata": {},
   "outputs": [
    {
     "data": {
      "text/plain": [
       "0    19\n",
       "1     4\n",
       "2    13\n",
       "3    10\n",
       "4    19\n",
       "5    13\n",
       "6    22\n",
       "7    22\n",
       "8     4\n",
       "9    22\n",
       "dtype: int32"
      ]
     },
     "execution_count": 141,
     "metadata": {},
     "output_type": "execute_result"
    },
    {
     "data": {
      "text/plain": [
       "10"
      ]
     },
     "execution_count": 141,
     "metadata": {},
     "output_type": "execute_result"
    },
    {
     "data": {
      "text/plain": [
       "Int64Index([3], dtype='int64')"
      ]
     },
     "execution_count": 141,
     "metadata": {},
     "output_type": "execute_result"
    },
    {
     "data": {
      "text/plain": [
       "3"
      ]
     },
     "execution_count": 141,
     "metadata": {},
     "output_type": "execute_result"
    }
   ],
   "source": [
    "sr1 = pd.Series(data=np.random.randint(10 , size=10),index=range(0,10) )\n",
    "\n",
    "sr2 = sr1*3+1\n",
    "sr2 \n",
    "\n",
    "sr3 = sr2[sr2%5==0]\n",
    "\n",
    "sr3.sum() # vaules 의 합\n",
    "\n",
    "# index 의 합\n",
    "sr3.index # index 만 따로 호출 \n",
    "np.sum(sr3.index) # 따로 호출한 index 를 np.array 에 넣고 sum()"
   ]
  },
  {
   "cell_type": "markdown",
   "metadata": {},
   "source": [
    "## 실습 4\n",
    "\n",
    "    - ascending = False , 순서 거꾸로 "
   ]
  },
  {
   "cell_type": "code",
   "execution_count": 144,
   "metadata": {},
   "outputs": [
    {
     "data": {
      "text/plain": [
       "a    77\n",
       "b    34\n",
       "c    38\n",
       "d    67\n",
       "e    52\n",
       "f    13\n",
       "dtype: int32"
      ]
     },
     "execution_count": 144,
     "metadata": {},
     "output_type": "execute_result"
    },
    {
     "data": {
      "text/plain": [
       "f    13\n",
       "b    34\n",
       "c    38\n",
       "e    52\n",
       "d    67\n",
       "a    77\n",
       "dtype: int32"
      ]
     },
     "execution_count": 144,
     "metadata": {},
     "output_type": "execute_result"
    },
    {
     "data": {
      "text/plain": [
       "d    67\n",
       "dtype: int32"
      ]
     },
     "execution_count": 144,
     "metadata": {},
     "output_type": "execute_result"
    }
   ],
   "source": [
    "sr1 = pd.Series( data= np.random.randint(100 , size=6), index=list('abcdef') )\n",
    "sr1\n",
    "sr1.sort_values(ascending=True)\n",
    "sr2 = sr1.sort_values(ascending=False) \n",
    "sr2[[1]]"
   ]
  },
  {
   "cell_type": "markdown",
   "metadata": {},
   "source": [
    "## 실습 5"
   ]
  },
  {
   "cell_type": "code",
   "execution_count": 154,
   "metadata": {},
   "outputs": [
    {
     "data": {
      "text/plain": [
       "g    5\n",
       "e    6\n",
       "c    1\n",
       "d    9\n",
       "f    7\n",
       "dtype: int32"
      ]
     },
     "execution_count": 154,
     "metadata": {},
     "output_type": "execute_result"
    },
    {
     "data": {
      "text/plain": [
       "h    7\n",
       "a    4\n",
       "e    2\n",
       "g    8\n",
       "c    9\n",
       "dtype: int32"
      ]
     },
     "execution_count": 154,
     "metadata": {},
     "output_type": "execute_result"
    },
    {
     "data": {
      "text/plain": [
       "g    7\n",
       "h    6\n",
       "b    1\n",
       "a    8\n",
       "c    2\n",
       "dtype: int32"
      ]
     },
     "execution_count": 154,
     "metadata": {},
     "output_type": "execute_result"
    },
    {
     "data": {
      "text/plain": [
       "c    12.0\n",
       "g    20.0\n",
       "dtype: float64"
      ]
     },
     "execution_count": 154,
     "metadata": {},
     "output_type": "execute_result"
    }
   ],
   "source": [
    "\n",
    "\n",
    "sr1 =pd.Series( data=np.random.randint(10 , size=5) , index=np.random.choice(list('abcdefgh') , size=5, replace=False))\n",
    "sr2 =pd.Series( data=np.random.randint(10 , size=5) , index=np.random.choice(list('abcdefgh') , size=5, replace=False))\n",
    "sr3 =pd.Series( data=np.random.randint(10 , size=5) , index=np.random.choice(list('abcdefgh') , size=5, replace=False))\n",
    "\n",
    "sr1\n",
    "sr2\n",
    "sr3\n",
    "\n",
    "sr4 = sr1+sr2+sr3\n",
    "\n",
    "sr4[sr4.notnull()]"
   ]
  },
  {
   "cell_type": "code",
   "execution_count": null,
   "metadata": {},
   "outputs": [],
   "source": []
  }
 ],
 "metadata": {
  "kernelspec": {
   "display_name": "Python 3",
   "language": "python",
   "name": "python3"
  },
  "language_info": {
   "codemirror_mode": {
    "name": "ipython",
    "version": 3
   },
   "file_extension": ".py",
   "mimetype": "text/x-python",
   "name": "python",
   "nbconvert_exporter": "python",
   "pygments_lexer": "ipython3",
   "version": "3.7.6"
  }
 },
 "nbformat": 4,
 "nbformat_minor": 4
}
