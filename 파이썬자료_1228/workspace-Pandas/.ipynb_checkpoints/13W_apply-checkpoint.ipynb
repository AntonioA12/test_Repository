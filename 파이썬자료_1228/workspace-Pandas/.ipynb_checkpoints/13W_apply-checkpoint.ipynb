{
 "cells": [
  {
   "cell_type": "code",
   "execution_count": 1,
   "metadata": {},
   "outputs": [],
   "source": [
    "from IPython.core.interactiveshell import InteractiveShell\n",
    "InteractiveShell.ast_node_interactivity = 'all'\n",
    "\n",
    "import numpy as np\n",
    "import pandas as pd"
   ]
  },
  {
   "cell_type": "markdown",
   "metadata": {},
   "source": [
    "## apply \n",
    "#### df1.apply( 함수명 , axis= 0 or 1 and 'index' or 'columns' )\n",
    "\n",
    "    - DataFrame 에서 각 row , 또는 column 만 별도로 함수 사용하는 방법 \n",
    "    \n",
    "    - DataFrame 은 2차원 배열이기 때문에 axis 지정을 반드시 해야한다\n",
    "    \n",
    "    - apply 사용할때 함수에 들어가는 element 는 Series 로 입력된다.\n",
    "   "
   ]
  },
  {
   "cell_type": "code",
   "execution_count": 12,
   "metadata": {},
   "outputs": [
    {
     "data": {
      "text/html": [
       "<div>\n",
       "<style scoped>\n",
       "    .dataframe tbody tr th:only-of-type {\n",
       "        vertical-align: middle;\n",
       "    }\n",
       "\n",
       "    .dataframe tbody tr th {\n",
       "        vertical-align: top;\n",
       "    }\n",
       "\n",
       "    .dataframe thead th {\n",
       "        text-align: right;\n",
       "    }\n",
       "</style>\n",
       "<table border=\"1\" class=\"dataframe\">\n",
       "  <thead>\n",
       "    <tr style=\"text-align: right;\">\n",
       "      <th></th>\n",
       "      <th>year</th>\n",
       "      <th>mid</th>\n",
       "      <th>final</th>\n",
       "      <th>att</th>\n",
       "      <th>proj</th>\n",
       "    </tr>\n",
       "    <tr>\n",
       "      <th>name</th>\n",
       "      <th></th>\n",
       "      <th></th>\n",
       "      <th></th>\n",
       "      <th></th>\n",
       "      <th></th>\n",
       "    </tr>\n",
       "  </thead>\n",
       "  <tbody>\n",
       "    <tr>\n",
       "      <th>kim2</th>\n",
       "      <td>1</td>\n",
       "      <td>12</td>\n",
       "      <td>36</td>\n",
       "      <td>5</td>\n",
       "      <td>75</td>\n",
       "    </tr>\n",
       "    <tr>\n",
       "      <th>kim3</th>\n",
       "      <td>2</td>\n",
       "      <td>17</td>\n",
       "      <td>20</td>\n",
       "      <td>5</td>\n",
       "      <td>96</td>\n",
       "    </tr>\n",
       "    <tr>\n",
       "      <th>kim6</th>\n",
       "      <td>2</td>\n",
       "      <td>28</td>\n",
       "      <td>20</td>\n",
       "      <td>4</td>\n",
       "      <td>83</td>\n",
       "    </tr>\n",
       "  </tbody>\n",
       "</table>\n",
       "</div>"
      ],
      "text/plain": [
       "      year  mid  final  att  proj\n",
       "name                             \n",
       "kim2     1   12     36    5    75\n",
       "kim3     2   17     20    5    96\n",
       "kim6     2   28     20    4    83"
      ]
     },
     "execution_count": 12,
     "metadata": {},
     "output_type": "execute_result"
    },
    {
     "data": {
      "text/plain": [
       "year      1\n",
       "mid      16\n",
       "final    16\n",
       "att       1\n",
       "proj     21\n",
       "dtype: int64"
      ]
     },
     "execution_count": 12,
     "metadata": {},
     "output_type": "execute_result"
    },
    {
     "data": {
      "text/plain": [
       "year      1\n",
       "mid      16\n",
       "final    16\n",
       "att       1\n",
       "proj     21\n",
       "dtype: int64"
      ]
     },
     "execution_count": 12,
     "metadata": {},
     "output_type": "execute_result"
    },
    {
     "name": "stdout",
     "output_type": "stream",
     "text": [
      "##############################\n"
     ]
    },
    {
     "data": {
      "text/plain": [
       "name\n",
       "kim2    74\n",
       "kim3    94\n",
       "kim6    81\n",
       "dtype: int64"
      ]
     },
     "execution_count": 12,
     "metadata": {},
     "output_type": "execute_result"
    },
    {
     "data": {
      "text/plain": [
       "name\n",
       "kim2    74\n",
       "kim3    94\n",
       "kim6    81\n",
       "dtype: int64"
      ]
     },
     "execution_count": 12,
     "metadata": {},
     "output_type": "execute_result"
    }
   ],
   "source": [
    "d1 = pd.read_table('pandas_data3.txt' , index_col=0)\n",
    "d2 = d1.iloc[:3,1:]\n",
    "\n",
    "d2\n",
    "\n",
    "def f2(x):\n",
    "    return x.max() - x.min()\n",
    "\n",
    "d2.apply( f2 , axis=0)\n",
    "d2.apply( f2 , axis='index')\n",
    "print('#'*30)\n",
    "d2.apply( f2 , axis=1)\n",
    "d2.apply( f2 , axis='columns')"
   ]
  },
  {
   "cell_type": "markdown",
   "metadata": {},
   "source": [
    "## apply 와 lambda \n",
    "\n",
    "    - map 과 마찬가지로 간단한 함수라면 , lambda 의 사용이 가능하다."
   ]
  },
  {
   "cell_type": "code",
   "execution_count": 13,
   "metadata": {},
   "outputs": [
    {
     "data": {
      "text/plain": [
       "year      1\n",
       "mid      16\n",
       "final    16\n",
       "att       1\n",
       "proj     21\n",
       "dtype: int64"
      ]
     },
     "execution_count": 13,
     "metadata": {},
     "output_type": "execute_result"
    },
    {
     "data": {
      "text/plain": [
       "year      1\n",
       "mid      16\n",
       "final    16\n",
       "att       1\n",
       "proj     21\n",
       "dtype: int64"
      ]
     },
     "execution_count": 13,
     "metadata": {},
     "output_type": "execute_result"
    }
   ],
   "source": [
    "d2.apply(f2, axis=0)\n",
    "d2.apply( lambda x : x.max()-x.min() , axis=0)"
   ]
  },
  {
   "cell_type": "markdown",
   "metadata": {},
   "source": [
    "## 함수지정 X , apply 사용 \n",
    "\n",
    "    - np.mean() , std() , var() 등등 apply 와 함께 사용하여 특정 열만 변경할 수 있다."
   ]
  },
  {
   "cell_type": "code",
   "execution_count": 17,
   "metadata": {},
   "outputs": [
    {
     "data": {
      "text/plain": [
       "year      1.666667\n",
       "mid      19.000000\n",
       "final    25.333333\n",
       "att       4.666667\n",
       "proj     84.666667\n",
       "dtype: float64"
      ]
     },
     "execution_count": 17,
     "metadata": {},
     "output_type": "execute_result"
    },
    {
     "data": {
      "text/plain": [
       "year      1.666667\n",
       "mid      19.000000\n",
       "final    25.333333\n",
       "att       4.666667\n",
       "proj     84.666667\n",
       "dtype: float64"
      ]
     },
     "execution_count": 17,
     "metadata": {},
     "output_type": "execute_result"
    }
   ],
   "source": [
    "d2.apply( np.mean , axis=0)\n",
    "d2.mean(axis=0)\n"
   ]
  },
  {
   "cell_type": "markdown",
   "metadata": {},
   "source": [
    "## ( apply 사용 X ) DataFrame 에서 함수 사용 후 , Numpy 1차원 배열로 가져오기\n",
    "\n",
    "    - values 를 쓰지않고 np 의 수치함수 를 사용하는경우\n",
    "    - DF 에서 Series 로 변환된다.\n",
    "    \n",
    "    - 하지만 values 를 지정한 후 에 수치함수 를 사용하면 \n",
    "    - DF 에서 1차원배열 , 혹은 1개의 결과값으로 출력이 가능하다 "
   ]
  },
  {
   "cell_type": "code",
   "execution_count": 23,
   "metadata": {},
   "outputs": [
    {
     "data": {
      "text/plain": [
       "name\n",
       "kim2    25.8\n",
       "kim3    28.0\n",
       "kim6    27.4\n",
       "dtype: float64"
      ]
     },
     "execution_count": 23,
     "metadata": {},
     "output_type": "execute_result"
    },
    {
     "data": {
      "text/plain": [
       "array([25.8, 28. , 27.4])"
      ]
     },
     "execution_count": 23,
     "metadata": {},
     "output_type": "execute_result"
    },
    {
     "data": {
      "text/plain": [
       "27.066666666666666"
      ]
     },
     "execution_count": 23,
     "metadata": {},
     "output_type": "execute_result"
    }
   ],
   "source": [
    "d2.mean(axis=1)\n",
    "d2.values.mean(axis=1)\n",
    "d2.values.mean()"
   ]
  },
  {
   "cell_type": "markdown",
   "metadata": {},
   "source": [
    "## Numpy std() 와 Pandas std() 의 차이\n",
    "\n",
    "    - 결과 값이 다르다. \n",
    "    \n",
    "    - 분산 의 식 ( 데이터 values - 데이터의평균) / n - ( ddof ) \n",
    "    - 분산의식 분모가 n 일경우, n-1 일 경우가 있다.\n",
    "    \n",
    "    - Numpy 에서 디폴트값이 n 이고, Pandas 에서는 디폴트 값이 n-1 이다.\n",
    "    - ddof 의 수를 설정 할 수있다. \n",
    "    \n",
    "#### var() 에서도 마찬가지 "
   ]
  },
  {
   "cell_type": "code",
   "execution_count": 32,
   "metadata": {},
   "outputs": [
    {
     "data": {
      "text/plain": [
       "year      1\n",
       "mid      12\n",
       "final    36\n",
       "att       5\n",
       "proj     75\n",
       "Name: kim2, dtype: int64"
      ]
     },
     "execution_count": 32,
     "metadata": {},
     "output_type": "execute_result"
    },
    {
     "data": {
      "text/plain": [
       "30.670833050310193"
      ]
     },
     "execution_count": 32,
     "metadata": {},
     "output_type": "execute_result"
    },
    {
     "data": {
      "text/plain": [
       "27.43282705081633"
      ]
     },
     "execution_count": 32,
     "metadata": {},
     "output_type": "execute_result"
    },
    {
     "data": {
      "text/plain": [
       "27.43282705081633"
      ]
     },
     "execution_count": 32,
     "metadata": {},
     "output_type": "execute_result"
    },
    {
     "data": {
      "text/plain": [
       "27.43282705081633"
      ]
     },
     "execution_count": 32,
     "metadata": {},
     "output_type": "execute_result"
    }
   ],
   "source": [
    "s1 = d2.loc['kim2']\n",
    "\n",
    "s1\n",
    "s1.std()\n",
    "s1.values.std()\n",
    "np.std(s1)\n",
    "\n",
    "s1.std(ddof=0)"
   ]
  },
  {
   "cell_type": "code",
   "execution_count": 38,
   "metadata": {},
   "outputs": [
    {
     "data": {
      "text/plain": [
       "year     0.471405\n",
       "mid      6.683313\n",
       "final    7.542472\n",
       "att      0.471405\n",
       "proj     8.653837\n",
       "dtype: float64"
      ]
     },
     "execution_count": 38,
     "metadata": {},
     "output_type": "execute_result"
    },
    {
     "data": {
      "text/plain": [
       "year      0.577350\n",
       "mid       8.185353\n",
       "final     9.237604\n",
       "att       0.577350\n",
       "proj     10.598742\n",
       "dtype: float64"
      ]
     },
     "execution_count": 38,
     "metadata": {},
     "output_type": "execute_result"
    },
    {
     "data": {
      "text/plain": [
       "30.690860021981933"
      ]
     },
     "execution_count": 38,
     "metadata": {},
     "output_type": "execute_result"
    }
   ],
   "source": [
    "def func_std(x):\n",
    "    return np.std(x)\n",
    "\n",
    "d2.apply(func_std) # Numpy 라서 ddof = 0\n",
    "d2.std() # Pandas 이므로 ddof = 1\n",
    "d2.values.std()"
   ]
  },
  {
   "cell_type": "markdown",
   "metadata": {},
   "source": [
    "## map 과 apply \n",
    "\n",
    "### map \n",
    "\n",
    "    - Series 전용\n",
    "    - 함수의 x 는 1개 이고 , Series 의 각 element 가 들어간다\n",
    "    \n",
    "### apply \n",
    "    \n",
    "    - Dataframe 전용\n",
    "    - 함수의 x 는 1개 이나 , Dataframe 의 Series 이다.\n",
    "    - 결과타입은 Series"
   ]
  },
  {
   "cell_type": "code",
   "execution_count": null,
   "metadata": {},
   "outputs": [],
   "source": []
  }
 ],
 "metadata": {
  "kernelspec": {
   "display_name": "Python 3",
   "language": "python",
   "name": "python3"
  },
  "language_info": {
   "codemirror_mode": {
    "name": "ipython",
    "version": 3
   },
   "file_extension": ".py",
   "mimetype": "text/x-python",
   "name": "python",
   "nbconvert_exporter": "python",
   "pygments_lexer": "ipython3",
   "version": "3.7.6"
  }
 },
 "nbformat": 4,
 "nbformat_minor": 4
}
