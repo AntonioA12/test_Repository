{
 "cells": [
  {
   "cell_type": "code",
   "execution_count": 1,
   "metadata": {
    "ExecuteTime": {
     "end_time": "2019-09-03T15:10:03.561712Z",
     "start_time": "2019-09-03T15:10:03.552711Z"
    }
   },
   "outputs": [
    {
     "data": {
      "text/html": [
       "<style>.container { width:95% !important; }</style>"
      ],
      "text/plain": [
       "<IPython.core.display.HTML object>"
      ]
     },
     "metadata": {},
     "output_type": "display_data"
    },
    {
     "data": {
      "text/html": [
       "<style>.input_area pre {font-family: Consolas; font-size: 15pt; line-height: 140%; font-weight: bold}</style>"
      ],
      "text/plain": [
       "<IPython.core.display.HTML object>"
      ]
     },
     "metadata": {},
     "output_type": "display_data"
    },
    {
     "data": {
      "text/html": [
       "<style>.output_area pre {font-family: Consolas; font-size: 15pt; line-height: 140%;}</style>"
      ],
      "text/plain": [
       "<IPython.core.display.HTML object>"
      ]
     },
     "metadata": {},
     "output_type": "display_data"
    }
   ],
   "source": [
    "from IPython.core.display import display, HTML\n",
    "display(HTML(\"<style>.container { width:95% !important; }</style>\"))\n",
    "display(HTML(\"<style>.input_area pre {font-family: Consolas; font-size: 15pt; line-height: 140%; font-weight: bold}</style>\"))\n",
    "display(HTML(\"<style>.output_area pre {font-family: Consolas; font-size: 15pt; line-height: 140%;}</style>\"))\n"
   ]
  },
  {
   "cell_type": "markdown",
   "metadata": {},
   "source": [
    "# 파일 이름에서 '학번'을 자신의 학번으로, '이름'을 자신의 이름으로 고치시오."
   ]
  },
  {
   "cell_type": "code",
   "execution_count": 8,
   "metadata": {},
   "outputs": [],
   "source": [
    "# 이 셀을 실행시키세요.\n",
    "from __future__ import annotations\n",
    "from typing import Any, List, Tuple, Dict"
   ]
  },
  {
   "cell_type": "markdown",
   "metadata": {},
   "source": [
    "# 문제1\n",
    "\n",
    "LinkedListStack의 push와 pop 메소드를 완성하시오.\n",
    "\n",
    "***결과***\n",
    "```\n",
    "stack = LinkedListStack()\n",
    "stack.push(1)\n",
    "stack.push(2)\n",
    "stack.push(3)\n",
    "print(stack.pop()) # 3\n",
    "stack.push(4)\n",
    "print(stack.peek()) # 4\n",
    "stack.push(5)\n",
    "print(stack.pop()) # 5\n",
    "print(\"----\")\n",
    "stack.print()\n",
    "print(len(stack))\n",
    "print(\"----\")\n",
    "    \n",
    "stack.clear()\n",
    "stack.print()\n",
    "```"
   ]
  },
  {
   "cell_type": "code",
   "execution_count": 1,
   "metadata": {},
   "outputs": [
    {
     "name": "stdout",
     "output_type": "stream",
     "text": [
      "3\n",
      "4\n",
      "5\n",
      "----\n",
      "Top:4->2->1\n",
      "3\n",
      "----\n",
      "Top:"
     ]
    }
   ],
   "source": [
    "from __future__ import annotations\n",
    "from typing import Any, List, Tuple, Dict\n",
    "\n",
    "class Node:\n",
    "    \"\"\"연결 리스트용 노드 클래스\"\"\"\n",
    "\n",
    "    def __init__(self, data: Any = None, next: Node = None):\n",
    "        \"\"\"초기화\"\"\"\n",
    "        self.data = data  # 데이터\n",
    "        self.next = next  # 뒤쪽 포인터\n",
    "\n",
    "\n",
    "class LinkedListStack:\n",
    "    \"\"\"연결리스트를 이용한 스택 클래스\"\"\"\n",
    "\n",
    "    def __init__(self) -> None:\n",
    "        \"\"\"초기화\"\"\"\n",
    "        self.no = 0          # 노드의 개수\n",
    "        self.top = None     # 탑 노드\n",
    "\n",
    "    def __len__(self) -> int:\n",
    "        \"\"\"스택의 크기 반환\"\"\"\n",
    "        return self.no\n",
    "    \n",
    "    def is_empty(self) -> bool:\n",
    "        \"\"\"스택이 비어있는지 확인\"\"\"\n",
    "        return self.top is None\n",
    "\n",
    "    def push(self, data: Any) -> None:\n",
    "        \"\"\"스택에 데이터를 푸시\"\"\"\n",
    "        \n",
    "        ptr = self.top\n",
    "        self.top = Node (data , ptr)\n",
    "        self.no +=1 \n",
    "        \n",
    "    def pop(self) -> Any:\n",
    "        \"\"\"스택에서 탑에 있는 데이터를 꺼냄(삭제)\"\"\"\n",
    "        if self.top is not None:\n",
    "            data = self.top.data\n",
    "            self.top = self.top.next\n",
    "            self.no -=1 \n",
    "            return data \n",
    "        else:\n",
    "            raise IndexError( '스택이 비어있음 ')\n",
    "            \n",
    "    def peek(self) -> Any:\n",
    "        \"\"\"스택에서 탑에 있는 데이터를 반환\"\"\"\n",
    "        if not self.is_empty():\n",
    "            return self.top.data\n",
    "        else:\n",
    "            raise IndexError(\"Stack is empty.\")\n",
    "    \n",
    "    def print(self) -> None:\n",
    "        \"\"\"스택의 모든 데이터를 탑에서 부터 출력\"\"\"\n",
    "        ptr = self.top\n",
    "        print(\"Top:\", end='')\n",
    "        while ptr is not None:\n",
    "            print(ptr.data, end='')\n",
    "            if ptr.next is not None:\n",
    "                print('->', end='')\n",
    "            else:\n",
    "                print()\n",
    "            ptr = ptr.next\n",
    "\n",
    "    def clear(self) -> None:\n",
    "        \"\"\"전체 노드를 삭제\"\"\"\n",
    "        while not self.is_empty():  # 전체가 비어 있게 될 때까지\n",
    "            self.pop() # 팝 연산\n",
    "        self.no = 0\n",
    "        \n",
    "stack = LinkedListStack()\n",
    "stack.push(1)\n",
    "stack.push(2)\n",
    "stack.push(3)\n",
    "print(stack.pop()) # 3\n",
    "stack.push(4)\n",
    "print(stack.peek()) # 4\n",
    "stack.push(5)\n",
    "print(stack.pop()) # 5\n",
    "print(\"----\")\n",
    "stack.print()\n",
    "print(len(stack))\n",
    "print(\"----\")\n",
    "    \n",
    "stack.clear()\n",
    "stack.print()\n",
    "\n"
   ]
  },
  {
   "cell_type": "markdown",
   "metadata": {},
   "source": [
    "# 문제2\n",
    "\n",
    "check_paren(input_str) 함수를 완성하시오.\n",
    "\n",
    "* input_str: 여러가지 괄호들을 가지고 있는 스트링\n",
    "* return: 입력된 괄호들이 올바른 짝을 이루고 있다면 True를 리턴한다.\n",
    "\n",
    "***결과***\n",
    "```\n",
    "True\n",
    "False\n",
    "False\n",
    "True\n",
    "False\n",
    "```"
   ]
  },
  {
   "cell_type": "code",
   "execution_count": 8,
   "metadata": {
    "ExecuteTime": {
     "end_time": "2019-09-03T15:17:20.681860Z",
     "start_time": "2019-09-03T15:17:20.678869Z"
    },
    "scrolled": true
   },
   "outputs": [
    {
     "name": "stdout",
     "output_type": "stream",
     "text": [
      "True\n",
      "False\n",
      "False\n",
      "True\n",
      "False\n"
     ]
    }
   ],
   "source": [
    "def is_open_paren(char: str) -> bool:\n",
    "    return char in ['[','(','{']\n",
    "\n",
    "def is_close_paren(char: str) -> bool:\n",
    "    return char in [']','}',')']\n",
    "\n",
    "def is_matched_paren(left_paren: str, right_paren: str) -> bool:\n",
    "    matched_list = [('[',']'), ('{','}'), ('(',')')]\n",
    "    return (left_paren, right_paren) in matched_list\n",
    "        \n",
    "def check_parens(input_str: str) -> bool:\n",
    "    \"\"\"\n",
    "    왼쪽 괄호는 push 하고 \n",
    "    오른쪽 괄호는 pop 한다.\n",
    "        pop된 왼쪽 괄호와 바로 읽었던 오른쪽 괄호가 매치가 안 되면 False 리턴,\n",
    "        같은 종류이면 다음 괄호를 읽음 \n",
    "    모든 괄호를 읽은 뒤 스택이 비어 있으면 , True 리턴\n",
    "    \"\"\"\n",
    "    \n",
    "    \n",
    "    stack=[]\n",
    "    \n",
    "    for c in input_str:\n",
    "        if is_open_paren(c): # 만약 c가 왼쪽 괄호면\n",
    "            stack.append(c) # 푸시        \n",
    "        elif is_close_paren(c): # 만약 c 가 오른쪽 괄호면 \n",
    "            if len(stack) > 0: # 스택이 비어있지 않으면  ( 스택의 길이가 0 이상이면)\n",
    "                left_paran = stack.pop() # 왼쪽 괄호 하나를 pop\n",
    "                if not is_matched_paren( left_paran , c ):# 왼쪽과 오른쪽이 매치되는가? 매치되지 않으면 \n",
    "                    return False # False 리턴\n",
    "                \n",
    "            else:    # 스택이 비어있으면 \n",
    "                return False   # False 리턴 \n",
    "            \n",
    "    return len(stack) == 0  # stack이 비워있으면 True 아니면 False     \n",
    "    \n",
    "    \n",
    "    \n",
    "    \n",
    "    \n",
    "    \n",
    "\n",
    "\n",
    "#아래는 수정하지 마시오.\n",
    "print(check_parens('{}'))\n",
    "print(check_parens('{}[]]'))\n",
    "print(check_parens('{}([]'))\n",
    "print(check_parens('{}[[]({}()){()([])}]()'))\n",
    "print(check_parens('{}[[]({}()){()([])})()'))"
   ]
  },
  {
   "cell_type": "code",
   "execution_count": null,
   "metadata": {},
   "outputs": [],
   "source": []
  }
 ],
 "metadata": {
  "kernelspec": {
   "display_name": "Python 3",
   "language": "python",
   "name": "python3"
  },
  "language_info": {
   "codemirror_mode": {
    "name": "ipython",
    "version": 3
   },
   "file_extension": ".py",
   "mimetype": "text/x-python",
   "name": "python",
   "nbconvert_exporter": "python",
   "pygments_lexer": "ipython3",
   "version": "3.8.5"
  }
 },
 "nbformat": 4,
 "nbformat_minor": 4
}
