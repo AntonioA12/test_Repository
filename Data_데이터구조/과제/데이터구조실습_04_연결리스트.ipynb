{
 "cells": [
  {
   "cell_type": "code",
   "execution_count": 1,
   "metadata": {
    "ExecuteTime": {
     "end_time": "2019-09-03T15:10:03.561712Z",
     "start_time": "2019-09-03T15:10:03.552711Z"
    }
   },
   "outputs": [
    {
     "data": {
      "text/html": [
       "<style>.container { width:95% !important; }</style>"
      ],
      "text/plain": [
       "<IPython.core.display.HTML object>"
      ]
     },
     "metadata": {},
     "output_type": "display_data"
    },
    {
     "data": {
      "text/html": [
       "<style>.input_area pre {font-family: Consolas; font-size: 15pt; line-height: 140%; font-weight: bold}</style>"
      ],
      "text/plain": [
       "<IPython.core.display.HTML object>"
      ]
     },
     "metadata": {},
     "output_type": "display_data"
    },
    {
     "data": {
      "text/html": [
       "<style>.output_area pre {font-family: Consolas; font-size: 15pt; line-height: 140%;}</style>"
      ],
      "text/plain": [
       "<IPython.core.display.HTML object>"
      ]
     },
     "metadata": {},
     "output_type": "display_data"
    }
   ],
   "source": [
    "from IPython.core.display import display, HTML\n",
    "display(HTML(\"<style>.container { width:95% !important; }</style>\"))\n",
    "display(HTML(\"<style>.input_area pre {font-family: Consolas; font-size: 15pt; line-height: 140%; font-weight: bold}</style>\"))\n",
    "display(HTML(\"<style>.output_area pre {font-family: Consolas; font-size: 15pt; line-height: 140%;}</style>\"))\n"
   ]
  },
  {
   "cell_type": "markdown",
   "metadata": {},
   "source": [
    "# 파일 이름에서 '학번'을 자신의 학번으로, '이름'을 자신의 이름으로 고치시오."
   ]
  },
  {
   "cell_type": "code",
   "execution_count": 4,
   "metadata": {},
   "outputs": [],
   "source": [
    "# 이 셀을 실행시키세요.\n",
    "from __future__ import annotations\n",
    "from typing import Any, List, Tuple, Dict"
   ]
  },
  {
   "cell_type": "markdown",
   "metadata": {},
   "source": [
    "# 문제1\n",
    "\n",
    "재귀적 방법을 이용하여 word 가 회문(palindrome)인지를 판별하는 함수를 작성하시오.\n",
    "\n",
    "\n",
    "***결과***\n",
    "```\n",
    "True\n",
    "True\n",
    "False\n",
    "True\n",
    "False\n",
    "```"
   ]
  },
  {
   "cell_type": "code",
   "execution_count": 1,
   "metadata": {},
   "outputs": [
    {
     "name": "stdout",
     "output_type": "stream",
     "text": [
      "None\n",
      "None\n",
      "None\n",
      "None\n",
      "None\n"
     ]
    }
   ],
   "source": [
    "def is_palindrome(word: str) -> bool:\n",
    "    pass\n",
    "    \n",
    "\n",
    "# 아래는 수정하지 마시오.\n",
    "\n",
    "print(is_palindrome(''))\n",
    "print(is_palindrome('a'))\n",
    "print(is_palindrome('abc'))\n",
    "print(is_palindrome('aabcbaa'))\n",
    "print(is_palindrome('aabcbba'))\n",
    "            "
   ]
  },
  {
   "cell_type": "markdown",
   "metadata": {},
   "source": [
    "# 문제2\n",
    "\n",
    "파이썬의 range 클래스를 모방하여 for문에서 사용가능한 my_range 클래스를 작성하시오.\n",
    "\n",
    "start 에서 시작하여 stop 이전에 끝나게 되도록 구현하시오.\n",
    "\n",
    "***결과***\n",
    "```\n",
    "1\n",
    "2\n",
    "3\n",
    "-------\n",
    "0\n",
    "1\n",
    "2\n",
    "3\n",
    "4\n",
    "```"
   ]
  },
  {
   "cell_type": "code",
   "execution_count": 5,
   "metadata": {
    "ExecuteTime": {
     "end_time": "2019-09-03T15:17:20.681860Z",
     "start_time": "2019-09-03T15:17:20.678869Z"
    },
    "scrolled": true
   },
   "outputs": [
    {
     "ename": "TypeError",
     "evalue": "iter() returned non-iterator of type 'NoneType'",
     "output_type": "error",
     "traceback": [
      "\u001b[1;31m---------------------------------------------------------------------------\u001b[0m",
      "\u001b[1;31mTypeError\u001b[0m                                 Traceback (most recent call last)",
      "\u001b[1;32m<ipython-input-5-3918c902f331>\u001b[0m in \u001b[0;36m<module>\u001b[1;34m\u001b[0m\n\u001b[0;32m     12\u001b[0m \u001b[1;33m\u001b[0m\u001b[0m\n\u001b[0;32m     13\u001b[0m \u001b[1;31m# 아래는 수정하지 마시오.\u001b[0m\u001b[1;33m\u001b[0m\u001b[1;33m\u001b[0m\u001b[1;33m\u001b[0m\u001b[0m\n\u001b[1;32m---> 14\u001b[1;33m \u001b[1;32mfor\u001b[0m \u001b[0mi\u001b[0m \u001b[1;32min\u001b[0m \u001b[0mmy_range\u001b[0m\u001b[1;33m(\u001b[0m\u001b[1;36m1\u001b[0m\u001b[1;33m,\u001b[0m \u001b[1;36m4\u001b[0m\u001b[1;33m)\u001b[0m\u001b[1;33m:\u001b[0m\u001b[1;33m\u001b[0m\u001b[1;33m\u001b[0m\u001b[0m\n\u001b[0m\u001b[0;32m     15\u001b[0m     \u001b[0mprint\u001b[0m\u001b[1;33m(\u001b[0m\u001b[0mi\u001b[0m\u001b[1;33m)\u001b[0m\u001b[1;33m\u001b[0m\u001b[1;33m\u001b[0m\u001b[0m\n\u001b[0;32m     16\u001b[0m \u001b[1;33m\u001b[0m\u001b[0m\n",
      "\u001b[1;31mTypeError\u001b[0m: iter() returned non-iterator of type 'NoneType'"
     ]
    }
   ],
   "source": [
    "class my_range:\n",
    "    def __init__(self, start: int, stop: int):\n",
    "        self.start = start\n",
    "        self.current = start\n",
    "        self.stop = stop\n",
    "        \n",
    "    def __iter__(self) -> my_range: # __next__() 메소드를 가진 객체(반복자)를 리턴해야 한다.\n",
    "        pass\n",
    "    \n",
    "    def __next__(self) -> int:\n",
    "        pass\n",
    "        \n",
    "# 아래는 수정하지 마시오.\n",
    "for i in my_range(1, 4):\n",
    "    print(i)\n",
    "\n",
    "print('-------')    \n",
    "\n",
    "for i in my_range(0, 5):\n",
    "    print(i)\n",
    "    \n"
   ]
  },
  {
   "cell_type": "markdown",
   "metadata": {},
   "source": [
    "# 문제3\n",
    "\n",
    "LinkedList 안에 count() 메소드를 구현하시오.\n",
    "\n",
    "count() 메소드는 매개변수 data와 같은 값을 가지고 있는 노드의 개수를 리턴한다.\n",
    "\n",
    "***결과***\n",
    "```\n",
    "2\n",
    "0\n",
    "3\n",
    "1\n",
    "```"
   ]
  },
  {
   "cell_type": "code",
   "execution_count": 4,
   "metadata": {
    "ExecuteTime": {
     "end_time": "2021-09-07T06:01:24.443164Z",
     "start_time": "2021-09-07T06:01:24.430198Z"
    }
   },
   "outputs": [
    {
     "name": "stdout",
     "output_type": "stream",
     "text": [
      "2\n",
      "0\n",
      "3\n",
      "1\n"
     ]
    }
   ],
   "source": [
    "from __future__ import annotations\n",
    "from typing import Any, List, Tuple, Dict\n",
    "\n",
    "class Node:\n",
    "    \"\"\"연결 리스트용 노드 클래스\"\"\"\n",
    "\n",
    "    def __init__(self, data: Any = None, next: Node = None):\n",
    "        \"\"\"초기화\"\"\"\n",
    "        self.data = data  # 데이터\n",
    "        self.next = next  # 뒤쪽 포인터\n",
    "\n",
    "\n",
    "class LinkedList:\n",
    "    \"\"\"연결 리스트 클래스\"\"\"\n",
    "\n",
    "    def __init__(self) -> None:\n",
    "        \"\"\"초기화\"\"\"\n",
    "        self.no = 0          # 노드의 개수\n",
    "        self.head = None     # 머리 노드\n",
    "\n",
    "    def __len__(self) -> int:\n",
    "        \"\"\"연결 리스트의 노드 개수를 반환\"\"\"\n",
    "        return self.no\n",
    "\n",
    "    def add_first(self, data: Any) -> None:\n",
    "        \"\"\"맨 앞에 노드를 삽입\"\"\"\n",
    "        ptr = self.head  # 삽입 전의 머리 노드\n",
    "        self.head = Node(data, ptr)\n",
    "        self.no += 1\n",
    "\n",
    "    def add_last(self, data: Any):\n",
    "        \"\"\"맨 끝에 노드를 삽입\"\"\"\n",
    "        if self.head is None :    # 리스트가 비어 있으면\n",
    "            self.add_first(data)  # 맨앞에 노드 삽입\n",
    "        else:\n",
    "            ptr = self.head\n",
    "            while ptr.next is not None:\n",
    "                ptr = ptr.next  # while문을 종료할 때 ptr은 꼬리 노드를 참조\n",
    "            ptr.next = Node(data, None)\n",
    "            self.no += 1\n",
    "\n",
    "    def print(self) -> None:\n",
    "        \"\"\"모든 노드를 출력\"\"\"\n",
    "        ptr = self.head\n",
    "        \n",
    "        while ptr is not None:\n",
    "            print( ptr.data , end='')\n",
    "            if ptr.next is not None:\n",
    "                print('->', end='')\n",
    "            else:\n",
    "                print()\n",
    "            ptr = ptr.next\n",
    "    \n",
    "    def search(self, data: Any) -> int:\n",
    "        \"\"\"data와 값이 같은 노드를 검색\"\"\"\n",
    "        idx = 0\n",
    "        ptr = self.head\n",
    "        while ptr is not None:\n",
    "            if ptr.data == data:\n",
    "                return idx\n",
    "            idx += 1\n",
    "            ptr = ptr.next\n",
    "        return -1\n",
    "    \n",
    "    def __contains__(self, data: Any) -> bool:\n",
    "        \"\"\"연결 리스트에 data가 포함되어 있는가?\"\"\"\n",
    "        return self.search(data) >= 0\n",
    "\n",
    "    \n",
    "    def count(self, data: Any) -> int:\n",
    "        \"\"\"연결 리스트에 data가 포함되어 있는 노드의 개수\"\"\"\n",
    "        count = 0\n",
    "        ptr = self.head\n",
    "        \n",
    "        while ptr is not None:\n",
    "            if ptr.data == data:\n",
    "                count +=1 \n",
    "            ptr= ptr.next\n",
    "            \n",
    "        return count\n",
    "                \n",
    "\n",
    "        \n",
    "## 아래는 수정하지 마시오.\n",
    "my_list = LinkedList()\n",
    "my_list.add_last('A')\n",
    "my_list.add_last('A')\n",
    "my_list.add_last('C')\n",
    "my_list.add_last('D')\n",
    "my_list.add_last('C')\n",
    "my_list.add_last('C')\n",
    "\n",
    "print(my_list.count('A'))\n",
    "print(my_list.count('B'))\n",
    "print(my_list.count('C'))\n",
    "print(my_list.count('D'))\n"
   ]
  },
  {
   "cell_type": "markdown",
   "metadata": {},
   "source": [
    "# 문제4\n",
    "\n",
    "LinkedList 클래스의 remove_last 함수와 remove 함수를 구현하시오.\n",
    "\n",
    "***결과***\n",
    "```\n",
    "A\n",
    "B\n",
    "C\n",
    "D\n",
    "A->B->C->D\n",
    "A->B->C\n",
    "A->C\n",
    "```"
   ]
  },
  {
   "cell_type": "code",
   "execution_count": 3,
   "metadata": {
    "ExecuteTime": {
     "end_time": "2021-09-07T06:02:03.424884Z",
     "start_time": "2021-09-07T06:02:03.420895Z"
    }
   },
   "outputs": [
    {
     "name": "stdout",
     "output_type": "stream",
     "text": [
      "A\n",
      "B\n",
      "C\n",
      "D\n",
      "A->B->C->D\n",
      "A->B->C\n",
      "A->C\n"
     ]
    }
   ],
   "source": [
    "from __future__ import annotations\n",
    "from typing import Any, List, Tuple, Dict\n",
    "\n",
    "class Node:\n",
    "    \"\"\"연결 리스트용 노드 클래스\"\"\"\n",
    "\n",
    "    def __init__(self, data: Any = None, next: Node = None):\n",
    "        \"\"\"초기화\"\"\"\n",
    "        self.data = data  # 데이터\n",
    "        self.next = next  # 뒤쪽 포인터\n",
    "\n",
    "\n",
    "class LinkedList:\n",
    "    \"\"\"연결 리스트 클래스\"\"\"\n",
    "\n",
    "    def __init__(self) -> None:\n",
    "        \"\"\"초기화\"\"\"\n",
    "        self.no = 0          # 노드의 개수\n",
    "        self.head = None     # 머리 노드\n",
    "\n",
    "    def __len__(self) -> int:\n",
    "        \"\"\"연결 리스트의 노드 개수를 반환\"\"\"\n",
    "        return self.no\n",
    "\n",
    "    def add_first(self, data: Any) -> None:\n",
    "        \"\"\"맨 앞에 노드를 삽입\"\"\"\n",
    "        ptr = self.head  # 삽입 전의 머리 노드\n",
    "        self.head = Node(data, ptr)\n",
    "        self.no += 1\n",
    "\n",
    "    def add_last(self, data: Any):\n",
    "        \"\"\"맨 끝에 노드를 삽입\"\"\"\n",
    "        if self.head is None :    # 리스트가 비어 있으면\n",
    "            self.add_first(data)  # 맨앞에 노드 삽입\n",
    "        else:\n",
    "            ptr = self.head\n",
    "            while ptr.next is not None:\n",
    "                ptr = ptr.next  # while문을 종료할 때 ptr은 꼬리 노드를 참조\n",
    "            ptr.next = Node(data, None)\n",
    "            self.no += 1\n",
    "\n",
    "    def print(self) -> None:\n",
    "        \"\"\"모든 노드를 출력\"\"\"\n",
    "        ptr = self.head\n",
    "\n",
    "        while ptr is not None:\n",
    "            print(ptr.data, end='')\n",
    "            if ptr.next is not None:\n",
    "                print('->', end='')\n",
    "            else:\n",
    "                print()\n",
    "            ptr = ptr.next\n",
    "    \n",
    "    def search(self, data: Any) -> int:\n",
    "        \"\"\"data와 값이 같은 노드를 검색\"\"\"\n",
    "        idx = 0\n",
    "        ptr = self.head\n",
    "        while ptr is not None:\n",
    "            if ptr.data == data:\n",
    "                return idx\n",
    "            idx += 1\n",
    "            ptr = ptr.next\n",
    "        return -1\n",
    "    \n",
    "    def __contains__(self, data: Any) -> bool:\n",
    "        \"\"\"연결 리스트에 data가 포함되어 있는가?\"\"\"\n",
    "        return self.search(data) >= 0\n",
    "\n",
    "    def remove_first(self) -> None:\n",
    "        \"\"\"머리 노드를 삭제\"\"\"\n",
    "        if self.head is not None:  # 리스트가 비어 있지 않으면\n",
    "            self.head = self.head.next\n",
    "            self.no -= 1\n",
    "\n",
    "    def remove_last(self):\n",
    "        \"\"\"꼬리 노드 삭제\"\"\"\n",
    "        if self.head is not None:\n",
    "            if self.head.next is None:\n",
    "                self.remove_first()\n",
    "            else:\n",
    "                pre = self.head\n",
    "                ptr = self.head\n",
    "                \n",
    "                while ptr.next is not None:\n",
    "                    pre = ptr\n",
    "                    ptr = ptr.next\n",
    "                pre.next = None\n",
    "                self.no -= 1 \n",
    "                \n",
    "    def remove(self, p: Node) -> None:\n",
    "        \"\"\"노드 p를 삭제\"\"\"\n",
    "        if self.head is not None:\n",
    "            if p is self.head:\n",
    "                self.remove_first()\n",
    "            else:\n",
    "                ptr = self.head \n",
    "                \n",
    "                while ptr.next is not p:\n",
    "                    ptr = ptr.next\n",
    "                    if ptr is None:\n",
    "                        return\n",
    "                ptr.next = p.next\n",
    "                self.no -=1 \n",
    "                \n",
    "    def clear(self) -> None:\n",
    "        \"\"\"전체 노드를 삭제\"\"\"\n",
    "        while self.head is not None:  # 전체가 비어 있게 될 때까지\n",
    "            self.remove_first()       # 머리 노드를 삭제\n",
    "        self.no = 0\n",
    "\n",
    "    def __iter__(self) -> LinkedListIterator:\n",
    "        \"\"\"이터레이터(반복자)를 반환\"\"\"\n",
    "        return LinkedListIterator(self.head)\n",
    "\n",
    "\n",
    "class LinkedListIterator:\n",
    "    \"\"\"클래스 LinkedList의 이터레이터(반복자)용 클래스\"\"\"\n",
    "\n",
    "    def __init__(self, head: Node) -> None:\n",
    "        self.current = head\n",
    "\n",
    "    def __iter__(self) -> LinkedListIterator: # iter() 함수 호출시 자동 실행\n",
    "        return self\n",
    "\n",
    "    def __next__(self) -> Any: # next() 함수 호출시 자동 실행\n",
    "        if self.current is None:\n",
    "            raise StopIteration\n",
    "        else:\n",
    "            data = self.current.data\n",
    "            self.current = self.current.next\n",
    "            return data\n",
    "        \n",
    "## 아래는 수정하지 마시오.\n",
    "my_list = LinkedList()\n",
    "my_list.add_last('A')\n",
    "my_list.add_last('B')\n",
    "my_list.add_last('C')\n",
    "my_list.add_last('D')\n",
    "\n",
    "for i in my_list:\n",
    "    print(i)\n",
    "\n",
    "my_list.print()\n",
    "my_list.remove_last() # 마지막 노드 제거\n",
    "my_list.print()\n",
    "my_list.remove(my_list.head.next) # 머리노드 다음 노드 제거\n",
    "my_list.print()\n",
    "\n"
   ]
  },
  {
   "cell_type": "code",
   "execution_count": null,
   "metadata": {},
   "outputs": [],
   "source": []
  }
 ],
 "metadata": {
  "kernelspec": {
   "display_name": "Python 3",
   "language": "python",
   "name": "python3"
  },
  "language_info": {
   "codemirror_mode": {
    "name": "ipython",
    "version": 3
   },
   "file_extension": ".py",
   "mimetype": "text/x-python",
   "name": "python",
   "nbconvert_exporter": "python",
   "pygments_lexer": "ipython3",
   "version": "3.8.5"
  }
 },
 "nbformat": 4,
 "nbformat_minor": 4
}
