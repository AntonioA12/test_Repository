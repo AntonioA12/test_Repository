{
 "cells": [
  {
   "cell_type": "code",
   "execution_count": 1,
   "metadata": {},
   "outputs": [
    {
     "data": {
      "text/html": [
       "<style>.container { width:95% !important; }</style>"
      ],
      "text/plain": [
       "<IPython.core.display.HTML object>"
      ]
     },
     "metadata": {},
     "output_type": "display_data"
    },
    {
     "data": {
      "text/html": [
       "<style>.input_area pre {font-family: Consolas; font-size: 15pt; line-height: 140%; font-weight: bold}</style>"
      ],
      "text/plain": [
       "<IPython.core.display.HTML object>"
      ]
     },
     "metadata": {},
     "output_type": "display_data"
    },
    {
     "data": {
      "text/html": [
       "<style>.output_area pre {font-family: Consolas; font-size: 15pt; line-height: 140%;}</style>"
      ],
      "text/plain": [
       "<IPython.core.display.HTML object>"
      ]
     },
     "metadata": {},
     "output_type": "display_data"
    }
   ],
   "source": [
    "from IPython.core.display import display, HTML\n",
    "display(HTML(\"<style>.container { width:95% !important; }</style>\"))\n",
    "display(HTML(\"<style>.input_area pre {font-family: Consolas; font-size: 15pt; line-height: 140%; font-weight: bold}</style>\"))\n",
    "display(HTML(\"<style>.output_area pre {font-family: Consolas; font-size: 15pt; line-height: 140%;}</style>\"))\n",
    "\n",
    "from __future__ import annotations\n",
    "from typing import Any, List, Tuple, Dict"
   ]
  },
  {
   "cell_type": "code",
   "execution_count": 1,
   "metadata": {},
   "outputs": [
    {
     "name": "stdout",
     "output_type": "stream",
     "text": [
      "3\n",
      "4\n",
      "5\n",
      "----\n",
      "Top=4->2->1\n",
      "= Bottom\n",
      "3\n",
      "----\n",
      "Top== Bottom\n"
     ]
    }
   ],
   "source": [
    "from __future__ import annotations\n",
    "from typing import Any, List, Tuple, Dict\n",
    "\n",
    "class Node:\n",
    "    \"\"\"연결 리스트용 노드 클래스\"\"\"\n",
    "\n",
    "    def __init__(self, data: Any = None, next: Node = None):\n",
    "        \"\"\"초기화\"\"\"\n",
    "        self.data = data  # 데이터\n",
    "        self.next = next  # 뒤쪽 포인터\n",
    "\n",
    "\n",
    "class LinkedListStack:\n",
    "    \"\"\"연결리스트를 이용한 스택 클래스\"\"\"\n",
    "\n",
    "    def __init__(self) -> None:\n",
    "        \"\"\"초기화\"\"\"\n",
    "        self.no = 0          # 노드의 개수\n",
    "        self.top = None     # self.head = self.top \n",
    "\n",
    "    def __len__(self) -> int:\n",
    "        \"\"\"스택의 크기 반환\"\"\"\n",
    "        return self.no \n",
    "    \n",
    "    def is_empty(self) -> bool:\n",
    "        \"\"\"스택이 비어있는지 확인\"\"\"\n",
    "        return self.top is None\n",
    "\n",
    "\n",
    "    def push(self, data: Any) -> None:\n",
    "        \"\"\"스택에 데이터를 푸시\"\"\"\n",
    "        \n",
    "        ptr = self.top\n",
    "        self.top = Node (data, ptr)\n",
    "        self.no +=1 \n",
    "\n",
    "\n",
    "        \n",
    "    def pop(self) -> Any: # top을 삭제하고 리턴  \n",
    "        \"\"\"스택에서 탑에 있는 데이터를 꺼냄(삭제)\"\"\"\n",
    "    \n",
    "        if not self.is_empty():\n",
    "            data = self.top.data\n",
    "            self.top = self.top.next\n",
    "            self.no -= 1 \n",
    "            return data \n",
    "        else:\n",
    "            raise IndexError( ' 스택이 비어있습니다. ')\n",
    "    \n",
    "            \n",
    "    def peek(self) -> Any: # 삭제 안하고 top 을 리턴 \n",
    "        \"\"\"스택에서 탑에 있는 데이터를 반환\"\"\"\n",
    "        \n",
    "        if not self.is_empty():\n",
    "            return self.top.data \n",
    "        else:\n",
    "            raise IndexError( '스택이 비어있습니다 ')\n",
    "    \n",
    "    def print(self) -> None:\n",
    "        \"\"\"스택의 모든 데이터를 탑에서 부터 출력\"\"\"\n",
    "        \n",
    "        ptr = self.top\n",
    "        print('Top=' , end='')\n",
    "        \n",
    "        while ptr is not None:\n",
    "            print( ptr.data , end='')\n",
    "            if ptr.next is not None:\n",
    "                print( '->', end = '' )\n",
    "            else:\n",
    "                print()\n",
    "            ptr = ptr.next \n",
    "        print('= Bottom')\n",
    "\n",
    "        \n",
    "            \n",
    "    def clear(self) -> None:\n",
    "        \"\"\"전체 노드를 삭제\"\"\"\n",
    "        \n",
    "        while not self.is_empty():  # 전체가 비어 있게 될 때까지\n",
    "            self.pop() # 팝 연산\n",
    "        self.no = 0\n",
    "        \n",
    "stack = LinkedListStack()\n",
    "stack.push(1)\n",
    "stack.push(2)\n",
    "stack.push(3)\n",
    "print(stack.pop()) # 3\n",
    "stack.push(4)\n",
    "print(stack.peek()) # 4\n",
    "stack.push(5)\n",
    "print(stack.pop()) # 5\n",
    "print(\"----\")\n",
    "stack.print()\n",
    "print(len(stack))\n",
    "print(\"----\")\n",
    "    \n",
    "stack.clear()\n",
    "stack.print()\n",
    "\n"
   ]
  }
 ],
 "metadata": {
  "kernelspec": {
   "display_name": "Python 3",
   "language": "python",
   "name": "python3"
  },
  "language_info": {
   "codemirror_mode": {
    "name": "ipython",
    "version": 3
   },
   "file_extension": ".py",
   "mimetype": "text/x-python",
   "name": "python",
   "nbconvert_exporter": "python",
   "pygments_lexer": "ipython3",
   "version": "3.8.5"
  }
 },
 "nbformat": 4,
 "nbformat_minor": 4
}
