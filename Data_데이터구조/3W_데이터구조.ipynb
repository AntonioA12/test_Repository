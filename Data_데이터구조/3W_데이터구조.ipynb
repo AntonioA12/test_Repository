{
 "cells": [
  {
   "cell_type": "markdown",
   "metadata": {},
   "source": [
    "# 파이썬 클래스 , 재귀함수\n",
    "\n",
    "\n",
    "    "
   ]
  },
  {
   "cell_type": "markdown",
   "metadata": {},
   "source": [
    "## 클래스 \n",
    "\n",
    "    자료구조 구현을 위한 작업 \n",
    "    ( 데이터 + 연산or함수 ) 이 두가지가 묶여있는 구조  \n",
    "    \n",
    "    클래스 = 객체를 만드는데 필요한 설계도 \n",
    "    객체 = 구현해야 할 대상 그 자체, 실제 메모리에 구현한 것   \n",
    "            \n",
    "```python \n",
    "    \n",
    "    class 클래스 이름:\n",
    "        def __init__( self, [인자]1 ... ): # [ __init__ = 생성자] \n",
    "            self.[멤버변수] = 인자 1 \n",
    "            \n",
    "        def = 객체에 대한 [메소드]\n",
    "        def 객체명 ( 인자 ) : \n",
    "        \n",
    "\n",
    "\n",
    "```\n",
    "\n",
    "    멤버변수(속성) : 객체에 정보를 저장\n",
    "    메소드 : 멤버변수들을 연산 수행 \n",
    "    생성자 : 객체를 생성하는 특별한 메소드\n",
    "    self 파라미터 : 생성된 객체를 참조한다. \n",
    "    \n",
    "    self = 객체가 가지고"
   ]
  },
  {
   "cell_type": "code",
   "execution_count": 22,
   "metadata": {},
   "outputs": [],
   "source": [
    "class Student:\n",
    "    def __init__( self, name , id ):\n",
    "        self.name = name\n",
    "        self.id = id \n",
    "        \n",
    "    def get_name(self):\n",
    "        return self.name\n",
    "    \n",
    "    def get_id(self):\n",
    "        return self.id \n",
    "    \n",
    "    def get_all(self):\n",
    "        return self.name , self.id\n",
    " \n",
    "    \n",
    "s1 = Student('AN',15016033)\n",
    "s2 = Student('KIM' , 1702123)\n",
    "\n"
   ]
  },
  {
   "cell_type": "code",
   "execution_count": 27,
   "metadata": {},
   "outputs": [
    {
     "name": "stdout",
     "output_type": "stream",
     "text": [
      "0\n",
      "4\n"
     ]
    }
   ],
   "source": [
    "import random \n",
    "\n",
    "class Dice:\n",
    "    def __init__(self):\n",
    "        self.face = 0\n",
    "        \n",
    "    def get_face(self):\n",
    "        return self.face\n",
    "    \n",
    "    def roll(self):\n",
    "        self.face = random.randint(1,6)\n",
    "        \n",
    "def main():\n",
    "    d = Dice()\n",
    "    print(d.get_face())\n",
    "    d.roll()\n",
    "    print(d.get_face())\n",
    "    \n",
    "\n",
    "main()"
   ]
  },
  {
   "cell_type": "markdown",
   "metadata": {},
   "source": [
    "#### 클래스 추가설명 \n",
    "\n",
    "```python\n",
    "\n",
    "    a = list()\n",
    "    \n",
    "    a = 리스트의 객체\n",
    "    list = 클래스 \n",
    "    \n",
    "    list() = list클래스의 생성자를 호출 \n",
    "    \n",
    "    a.append(3) : list 클래스의 append 메소드를 호출 \n",
    "```\n"
   ]
  },
  {
   "cell_type": "markdown",
   "metadata": {},
   "source": [
    "## 재귀함수 = recursion = 순환 \n",
    "\n",
    "    반복 vs 재귀 ( 한방에 거울이 마주보는것처럼 같은 형태로 무한 반복 ) \n",
    "            전체와 비슷한 형태로 무한 반복 \n",
    "            \n",
    "    재귀 = 자신을 정의할 때, 자기 자신을 참조하는 방법 \n",
    "            재귀적 방법 ( 규칙 ) 을 이용해서 함수를 만들고 활용 \n",
    "            \n",
    "    재귀함수\n",
    "        어떤함수의 내부에서 자기자신을 호출하는 함수 \n",
    "        \n",
    "    재귀 호출 \n",
    "        어떤 함수 내부에서 자기 자신을 호출하는 것 \n",
    "      \n",
    "    \n",
    "```python\n",
    "\n",
    "    def recursive():\n",
    "        ...\n",
    "        recursive() # 재귀호출 \n",
    "        ...\n",
    "        \n",
    "    recursive() # \n",
    "    \n",
    "    ## \n",
    "    에러 : maximum recursion depth exceeded \n",
    "    = 재귀함수의 공간(=깊이) 가 초과되었다. \n",
    "```\n",
    "\n",
    "    재귀함수의 공간이 초과되는것을 막지위해\n",
    "    [ 종료조건 ] , [ 재귀호출 ] 기능이 있다. \n",
    "    \n",
    "    종료조건 =\n",
    "        종료조건에는 재귀호출이 있으면 안된다.\n",
    "        충분히 작아진 문제에 대해 호출하지않고 직접 해결 \n",
    "        \n",
    "    재귀호출 \n",
    "        재귀호출안에 재귀호출이 있어야함 \n",
    "        원래 문제보다 작아진 부분 문제를 대상으로 재귀호출을 한다. \n",
    "        \n",
    "    재귀함수의 장점\n",
    "        코드가 단순하고 직관적\n",
    "        큰 문제를 작은 문제들로 나누어 풀 수 있다. \n",
    "        \n",
    "        단점\n",
    "            이해하기 힘든 재귀함수들도 있다.\n",
    "            공간복잡도와 시간복잡도 측면에서 더 비효율적일 수 도 있다. \n",
    "            ( 너무 비효율적이면 재귀함수 사용 X ) \n",
    "            디버깅이 힘듣다. "
   ]
  },
  {
   "cell_type": "code",
   "execution_count": 11,
   "metadata": {},
   "outputs": [
    {
     "name": "stdout",
     "output_type": "stream",
     "text": [
      "5\n",
      "4\n",
      "3\n",
      "2\n",
      "1\n",
      "None\n"
     ]
    }
   ],
   "source": [
    "def hello(n):\n",
    "    if n==0 :  # 종료조건 \n",
    "        return  # None  \n",
    "    else:\n",
    "        print(n)\n",
    "        hello(n-1) # 재귀호출 \n",
    "        \n",
    "print(hello(5))"
   ]
  },
  {
   "cell_type": "code",
   "execution_count": 2,
   "metadata": {},
   "outputs": [
    {
     "name": "stdout",
     "output_type": "stream",
     "text": [
      "120\n"
     ]
    }
   ],
   "source": [
    "def factorial(n):\n",
    "    if n == 1 : # 종료조건 \n",
    "        return 1 \n",
    "    else: \n",
    "        return n * factorial(n-1) # 재귀호출 # n-1 = 원래문제보다 작아진 부분문제 \n",
    "    \n",
    "print(factorial(5))  # 5*4*3*2*1 "
   ]
  },
  {
   "cell_type": "code",
   "execution_count": 44,
   "metadata": {},
   "outputs": [
    {
     "name": "stdout",
     "output_type": "stream",
     "text": [
      "120\n"
     ]
    }
   ],
   "source": [
    "def factorial_iter(n):\n",
    "    result = 1\n",
    "    for i in range(1, n+1):\n",
    "        result *= i \n",
    "    return result\n",
    "\n",
    "\n",
    "print(factorial_iter(5))\n"
   ]
  },
  {
   "cell_type": "code",
   "execution_count": 7,
   "metadata": {},
   "outputs": [
    {
     "data": {
      "text/plain": [
       "8"
      ]
     },
     "execution_count": 7,
     "metadata": {},
     "output_type": "execute_result"
    }
   ],
   "source": [
    "def A(n):\n",
    "    if n == 0:\n",
    "        return 1\n",
    "    return A(n-1) * 2\n",
    "A(3)"
   ]
  },
  {
   "cell_type": "code",
   "execution_count": 10,
   "metadata": {},
   "outputs": [
    {
     "data": {
      "text/plain": [
       "8"
      ]
     },
     "execution_count": 10,
     "metadata": {},
     "output_type": "execute_result"
    }
   ],
   "source": [
    "(2*2)*(1)*2"
   ]
  },
  {
   "cell_type": "code",
   "execution_count": null,
   "metadata": {},
   "outputs": [],
   "source": []
  }
 ],
 "metadata": {
  "kernelspec": {
   "display_name": "Python 3",
   "language": "python",
   "name": "python3"
  },
  "language_info": {
   "codemirror_mode": {
    "name": "ipython",
    "version": 3
   },
   "file_extension": ".py",
   "mimetype": "text/x-python",
   "name": "python",
   "nbconvert_exporter": "python",
   "pygments_lexer": "ipython3",
   "version": "3.8.5"
  }
 },
 "nbformat": 4,
 "nbformat_minor": 4
}
