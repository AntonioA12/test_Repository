{
 "cells": [
  {
   "cell_type": "code",
   "execution_count": 1,
   "metadata": {
    "ExecuteTime": {
     "end_time": "2019-09-03T15:10:03.561712Z",
     "start_time": "2019-09-03T15:10:03.552711Z"
    }
   },
   "outputs": [
    {
     "data": {
      "text/html": [
       "<style>.container { width:95% !important; }</style>"
      ],
      "text/plain": [
       "<IPython.core.display.HTML object>"
      ]
     },
     "metadata": {},
     "output_type": "display_data"
    },
    {
     "data": {
      "text/html": [
       "<style>.input_area pre {font-family: Consolas; font-size: 15pt; line-height: 140%; font-weight: bold}</style>"
      ],
      "text/plain": [
       "<IPython.core.display.HTML object>"
      ]
     },
     "metadata": {},
     "output_type": "display_data"
    },
    {
     "data": {
      "text/html": [
       "<style>.output_area pre {font-family: Consolas; font-size: 15pt; line-height: 140%;}</style>"
      ],
      "text/plain": [
       "<IPython.core.display.HTML object>"
      ]
     },
     "metadata": {},
     "output_type": "display_data"
    }
   ],
   "source": [
    "from IPython.core.display import display, HTML\n",
    "display(HTML(\"<style>.container { width:95% !important; }</style>\"))\n",
    "display(HTML(\"<style>.input_area pre {font-family: Consolas; font-size: 15pt; line-height: 140%; font-weight: bold}</style>\"))\n",
    "display(HTML(\"<style>.output_area pre {font-family: Consolas; font-size: 15pt; line-height: 140%;}</style>\"))\n"
   ]
  },
  {
   "cell_type": "markdown",
   "metadata": {},
   "source": [
    "# 파일 이름에서 '학번'을 자신의 학번으로, '이름'을 자신의 이름으로 고치시오."
   ]
  },
  {
   "cell_type": "code",
   "execution_count": 1,
   "metadata": {},
   "outputs": [],
   "source": [
    "# 이 셀을 실행시키세요.\n",
    "from __future__ import annotations\n",
    "from typing import Any, Sequence, List, Tuple, Dict"
   ]
  },
  {
   "cell_type": "markdown",
   "metadata": {},
   "source": [
    "# 문제1\n",
    "\n",
    "중첩함수를 사용하지 않고 재귀적 이진탐색을 구현하시오.\n",
    "\n",
    "***결과***\n",
    "```\n",
    "1\n",
    "4\n",
    "```"
   ]
  },
  {
   "cell_type": "code",
   "execution_count": 4,
   "metadata": {},
   "outputs": [
    {
     "name": "stdout",
     "output_type": "stream",
     "text": [
      "1\n",
      "4\n"
     ]
    }
   ],
   "source": [
    "def binary_search_recursive2(seq: Sequence, target: Any, left: int, right: int) -> int:\n",
    "    if left > right: \n",
    "        return -1 # 검색 실패 \n",
    "    \n",
    "    mid = ( left + right) //2 \n",
    "    \n",
    "    if seq[mid] == target:\n",
    "        return mid\n",
    "    elif seq[mid] > target:\n",
    "        return binary_search_recursive2(seq , target , left , mid -1 ) \n",
    "    else:\n",
    "        return binary_search_recursive2( seq, target , mid + 1 , right )\n",
    "    \n",
    "    if left > right : # 만약 L 이 R 보다 크다면  \n",
    "        return -1  # 전체 리스트에서 타겟을 못찾은 것임으로 -1 리턴 \n",
    "     \n",
    "    mid = ( left + right) //2 \n",
    "    \n",
    "    # mid가 타겟인경우\n",
    "    if seq[mid] == target:\n",
    "        return mid\n",
    "    elif seq[mid] > target:\n",
    "        return binary_search_recursive2(seq, target , left, mid -1 )\n",
    "    # 타겟이 미드보다 작은경우\n",
    "    \n",
    "    # 타겟이 미드보다 큰 경우 \n",
    "\n",
    "nums = [1, 2, 3, 4, 5, 6, 8]\n",
    "print(binary_search_recursive2(nums, 2, 0, len(nums)-1))\n",
    "print(binary_search_recursive2(nums, 5, 0, len(nums)-1))"
   ]
  },
  {
   "cell_type": "markdown",
   "metadata": {},
   "source": [
    "# 문제2\n",
    "\n",
    "(숫자, 문자열) 의 튜플들이 저장되어 있는 리스트 arr이 있다.\n",
    "\n",
    "이때 arr에 들어 있는 튜플들은 숫자를 기준으로 오름차순으로 정렬되어 있다.\n",
    "\n",
    "반복적 이진 탐색을 이용하여 특정 숫자가 들어 있는 튜플의 위치를 리턴하는 함수를 작성하시오.\n",
    "\n",
    "***결과***\n",
    "```\n",
    "5\n",
    "1\n",
    "-1\n",
    "```"
   ]
  },
  {
   "cell_type": "code",
   "execution_count": 10,
   "metadata": {
    "ExecuteTime": {
     "end_time": "2019-09-03T15:17:20.681860Z",
     "start_time": "2019-09-03T15:17:20.678869Z"
    },
    "scrolled": true
   },
   "outputs": [
    {
     "name": "stdout",
     "output_type": "stream",
     "text": [
      "5\n",
      "1\n",
      "-1\n"
     ]
    }
   ],
   "source": [
    "def binary_search_iter(seq: Sequence, target: Any) -> int:\n",
    "    left = 0\n",
    "    right = len(seq) - 1 \n",
    "    \n",
    "    while left <= right :\n",
    "        mid = ( left + right ) // 2 \n",
    "        \n",
    "        key = seq[mid][0]\n",
    "        \n",
    "        if key == target:\n",
    "            return mid \n",
    "        \n",
    "        elif key > target:\n",
    "            right = mid - 1 \n",
    "            \n",
    "        else:\n",
    "            left = mid + 1 \n",
    "    return -1 \n",
    "\n",
    "\n",
    "# 아래는 수정하지 마시오.\n",
    "arr = [(2, 'A'), (5, 'D'), (6, 'B'), (8, 'G'), (9, 'E'), (11, 'F'), (12, 'I'), (17, 'H')]\n",
    "\n",
    "print(binary_search_iter(arr, 11))\n",
    "print(binary_search_iter(arr, 5))\n",
    "print(binary_search_iter(arr, 7))"
   ]
  },
  {
   "cell_type": "markdown",
   "metadata": {},
   "source": [
    "# 문제3\n",
    "\n",
    "```\n",
    "수많은 마라톤 선수들이 마라톤에 참여하였습니다. 단 한 명의 선수를 제외하고는 모든 선수가 마라톤을 완주하였습니다.\n",
    "\n",
    "마라톤에 참여한 선수들의 이름이 담긴 배열 participant와 완주한 선수들의 이름이 담긴 배열 completion이 주어질 때, 완주하지 못한 선수의 이름을 return 하도록 solution 함수를 작성해주세요.\n",
    "\n",
    "제한사항\n",
    "- 마라톤 경기에 참여한 선수의 수는 1명 이상 100,000명 이하입니다.\n",
    "- mpletion의 길이는 participant의 길이보다 1 작습니다.\n",
    "- 자의 이름은 1개 이상 20개 이하의 알파벳 소문자로 이루어져 있습니다.\n",
    "- 자 중에는 동명이인이 있을 수 있습니다.\n",
    "```\n",
    "\n",
    "### 결과\n",
    "```\n",
    "leo\n",
    "vinko\n",
    "mislav\n",
    "```"
   ]
  },
  {
   "cell_type": "code",
   "execution_count": 34,
   "metadata": {},
   "outputs": [
    {
     "name": "stdout",
     "output_type": "stream",
     "text": [
      "leo\n",
      "vinko\n",
      "mislav\n"
     ]
    }
   ],
   "source": [
    "def solution(participant, completion): # O(N) \n",
    "    \n",
    "    # 1. 참가자 수 이름별로 카운팅 하기 \n",
    "    \n",
    "    dict_count = {} # { 'park' , 3 }\n",
    "    \n",
    "    for p in participant: # 참가자 \n",
    "        if p in dict_count: # 검색속도 O(1) \n",
    "            dict_count[p] += 1\n",
    "        else: # 동명이인?\n",
    "            dict_count[p] = 1 \n",
    "    \n",
    "    # 2. 완주 하면 - 1 \n",
    "    # 0 이면 리스트에서 삭제하기 \n",
    "    \n",
    "    for c in completion:\n",
    "        if dict_count[c] == 1: \n",
    "            del dict_count[c] # 0이면 데이터 삭제 \n",
    "        else:    \n",
    "            dict_count[c] -= 1\n",
    "        \n",
    "    return list(dict_count.keys())[0]\n",
    " \n",
    "    \n",
    "print(solution([\"leo\", \"kiki\", \"eden\"], [\"eden\", \"kiki\"]))\n",
    "print(solution([\"marina\", \"josipa\", \"nikola\", \"vinko\", \"filipa\"], [\"josipa\", \"filipa\", \"marina\", \"nikola\"]))\n",
    "print(solution([\"mislav\", \"stanko\", \"mislav\", \"ana\"], [\"stanko\", \"ana\", \"mislav\"]))"
   ]
  },
  {
   "cell_type": "code",
   "execution_count": null,
   "metadata": {},
   "outputs": [],
   "source": []
  }
 ],
 "metadata": {
  "kernelspec": {
   "display_name": "Python 3",
   "language": "python",
   "name": "python3"
  },
  "language_info": {
   "codemirror_mode": {
    "name": "ipython",
    "version": 3
   },
   "file_extension": ".py",
   "mimetype": "text/x-python",
   "name": "python",
   "nbconvert_exporter": "python",
   "pygments_lexer": "ipython3",
   "version": "3.8.5"
  }
 },
 "nbformat": 4,
 "nbformat_minor": 4
}
