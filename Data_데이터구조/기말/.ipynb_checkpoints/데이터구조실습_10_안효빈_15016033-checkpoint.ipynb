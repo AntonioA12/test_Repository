{
 "cells": [
  {
   "cell_type": "code",
   "execution_count": 1,
   "metadata": {
    "ExecuteTime": {
     "end_time": "2019-09-03T15:10:03.561712Z",
     "start_time": "2019-09-03T15:10:03.552711Z"
    }
   },
   "outputs": [
    {
     "data": {
      "text/html": [
       "<style>.container { width:95% !important; }</style>"
      ],
      "text/plain": [
       "<IPython.core.display.HTML object>"
      ]
     },
     "metadata": {},
     "output_type": "display_data"
    },
    {
     "data": {
      "text/html": [
       "<style>.input_area pre {font-family: Consolas; font-size: 15pt; line-height: 140%; font-weight: bold}</style>"
      ],
      "text/plain": [
       "<IPython.core.display.HTML object>"
      ]
     },
     "metadata": {},
     "output_type": "display_data"
    },
    {
     "data": {
      "text/html": [
       "<style>.output_area pre {font-family: Consolas; font-size: 15pt; line-height: 140%;}</style>"
      ],
      "text/plain": [
       "<IPython.core.display.HTML object>"
      ]
     },
     "metadata": {},
     "output_type": "display_data"
    }
   ],
   "source": [
    "from IPython.core.display import display, HTML\n",
    "display(HTML(\"<style>.container { width:95% !important; }</style>\"))\n",
    "display(HTML(\"<style>.input_area pre {font-family: Consolas; font-size: 15pt; line-height: 140%; font-weight: bold}</style>\"))\n",
    "display(HTML(\"<style>.output_area pre {font-family: Consolas; font-size: 15pt; line-height: 140%;}</style>\"))\n"
   ]
  },
  {
   "cell_type": "markdown",
   "metadata": {},
   "source": [
    "# 파일 이름에서 '학번'을 자신의 학번으로, '이름'을 자신의 이름으로 고치시오."
   ]
  },
  {
   "cell_type": "markdown",
   "metadata": {},
   "source": [
    "# 문제1\n",
    "\n",
    "아래 셀을 실행시키시오.\n"
   ]
  },
  {
   "cell_type": "code",
   "execution_count": 2,
   "metadata": {},
   "outputs": [
    {
     "name": "stdout",
     "output_type": "stream",
     "text": [
      "[1, 2, 5, 6, 7, 3, 4]\n"
     ]
    }
   ],
   "source": [
    "from typing import List, Dict, Any\n",
    "\n",
    "def recursive_dfs(graph: Dict[Any, List], visited: List, start: Any) -> List:\n",
    "    def dfs(v: Any) -> None:\n",
    "        visited.append(v)\n",
    "        for w in graph[v]:\n",
    "            # w: v에 인접한 노드\n",
    "            if not w in visited:\n",
    "                dfs(w)\n",
    "    dfs(start)\n",
    "\n",
    "\n",
    "graph = {\n",
    "    1: [2, 3, 4],\n",
    "    2: [5],\n",
    "    3: [5],\n",
    "    4: [],\n",
    "    5: [6, 7],\n",
    "    6: [],\n",
    "    7: [3]\n",
    "}\n",
    "   \n",
    "visited = []\n",
    "\n",
    "# 깊이우선탐색을 이용하여 그래프 순회하는 방법\n",
    "for i in graph:\n",
    "    if not i in visited:\n",
    "        recursive_dfs(graph, visited, i)\n",
    "    \n",
    "print(visited)            "
   ]
  },
  {
   "cell_type": "markdown",
   "metadata": {},
   "source": [
    "# 문제2\n",
    "\n",
    "아래 셀을 실행시키시오.\n"
   ]
  },
  {
   "cell_type": "code",
   "execution_count": 3,
   "metadata": {
    "scrolled": true
   },
   "outputs": [
    {
     "name": "stdout",
     "output_type": "stream",
     "text": [
      "[1, 2, 3, 4, 5, 6, 7]\n"
     ]
    }
   ],
   "source": [
    "from typing import List, Dict, Any\n",
    "from collections import deque\n",
    "\n",
    "def iterative_bfs(graph: Dict[Any, List], visited: List, start: Any) -> List:\n",
    "    queue = deque()\n",
    "    visited.append(start) # 시작노드 방문\n",
    "    queue.append(start) # 시작노드를 인큐\n",
    "    while queue:\n",
    "        v = queue.popleft() # 디큐\n",
    "        for w in graph[v]:\n",
    "            # w: v에 인접한 노드\n",
    "            if not w in visited:\n",
    "                visited.append(w) # 노드 w 방문\n",
    "                queue.append(w) # 노드 w를 인큐\n",
    "    \n",
    "\n",
    "visited = []\n",
    "\n",
    "# 너비우선탐색을 이용하여 그래프 순회\n",
    "for i in graph:\n",
    "    if not i in visited:\n",
    "        iterative_bfs(graph, visited, i)\n",
    "    \n",
    "print(visited)            "
   ]
  },
  {
   "cell_type": "markdown",
   "metadata": {},
   "source": [
    "# 문제3\n",
    "\n",
    "아래 셀을 실행시키시오.\n"
   ]
  },
  {
   "cell_type": "code",
   "execution_count": 4,
   "metadata": {},
   "outputs": [
    {
     "name": "stdout",
     "output_type": "stream",
     "text": [
      "3\n"
     ]
    }
   ],
   "source": [
    "from typing import List, Dict, Any\n",
    "\n",
    "def counting_islands(grid: List[List[int]]) -> int:\n",
    "    n_rows = len(grid)\n",
    "    n_cols = len(grid[0])\n",
    "    visited = [[False]*n_cols for _ in range(n_rows)]\n",
    "    \n",
    "    def is_promising(row: int, col: int) -> bool:\n",
    "        \"\"\"grid[row][col]이 유망한지 확인\"\"\"\n",
    "        if 0 <= row < n_rows and 0 <= col < n_cols and \\\n",
    "            grid[row][col] == 1 and not visited[row][col]:\n",
    "            return True\n",
    "        else:\n",
    "            return False\n",
    "        \n",
    "    def dfs(row: int, col: int) -> None:\n",
    "        \"\"\"grid[row][col]을 깊이우선탐색\"\"\"\n",
    "        if is_promising(row, col):\n",
    "            visited[row][col] = True\n",
    "            dfs(row, col+1) # 동\n",
    "            dfs(row, col-1) # 서\n",
    "            dfs(row+1, col) # 남\n",
    "            dfs(row-1, col) # 북\n",
    "            \n",
    "    count = 0\n",
    "    # 모든 노드를 깊이우선탐색\n",
    "    for i in range(n_rows):\n",
    "        for j in range(n_cols):\n",
    "            if is_promising(i, j):\n",
    "                dfs(i, j)\n",
    "                count += 1\n",
    "    return count\n",
    "\n",
    "grid = [\n",
    "    [1,1,0,0,0],\n",
    "    [1,1,0,0,0],\n",
    "    [0,0,1,0,0],\n",
    "    [0,0,0,1,1],\n",
    "]\n",
    "\n",
    "print(counting_islands(grid))"
   ]
  },
  {
   "cell_type": "markdown",
   "metadata": {},
   "source": [
    "# 문제4\n",
    "\n",
    "아래 셀을 실행시키시오.\n"
   ]
  },
  {
   "cell_type": "code",
   "execution_count": 5,
   "metadata": {},
   "outputs": [
    {
     "name": "stdout",
     "output_type": "stream",
     "text": [
      "3\n"
     ]
    }
   ],
   "source": [
    "from typing import List, Dict, Any\n",
    "from collections import deque\n",
    "\n",
    "def counting_islands_bfs(grid: List[List[int]]) -> int:\n",
    "    n_rows = len(grid)\n",
    "    n_cols = len(grid[0])\n",
    "    visited = [[False]*n_cols for _ in range(n_rows)]\n",
    "    \n",
    "    def is_promising(row: int, col: int) -> bool:\n",
    "        \"\"\"grid[row][col]이 유망한지 확인\"\"\"\n",
    "        if 0 <= row < n_rows and 0 <= col < n_cols and \\\n",
    "            grid[row][col] == 1 and not visited[row][col]:\n",
    "            return True\n",
    "        else:\n",
    "            return False\n",
    "        \n",
    "    def bfs(row: int, col: int) -> None:\n",
    "        \"\"\"grid[row][col]을 너비우선탐색\"\"\"\n",
    "        queue = deque()\n",
    "        queue.append((row, col))\n",
    "        \n",
    "        while queue:\n",
    "            i, j = queue.popleft()\n",
    "            if is_promising(i, j):\n",
    "                visited[i][j] = True\n",
    "                queue.append((i, j+1)) # 동\n",
    "                queue.append((i, j-1)) # 서\n",
    "                queue.append((i+1, j)) # 남\n",
    "                queue.append((i-1, j)) # 북\n",
    "            \n",
    "    count = 0\n",
    "    # 모든 노드를 너비우선탐색\n",
    "    for i in range(n_rows):\n",
    "        for j in range(n_cols):\n",
    "            if is_promising(i, j):\n",
    "                bfs(i, j)\n",
    "                count += 1\n",
    "    return count\n",
    "\n",
    "grid = [\n",
    "    [1,1,0,0,0],\n",
    "    [1,1,0,0,0],\n",
    "    [0,0,1,0,0],\n",
    "    [0,0,0,1,1],\n",
    "]\n",
    "\n",
    "print(counting_islands_bfs(grid))"
   ]
  },
  {
   "cell_type": "markdown",
   "metadata": {},
   "source": [
    "# 문제5\n",
    "\n",
    "아래 셀을 실행시키시오.\n"
   ]
  },
  {
   "cell_type": "code",
   "execution_count": 6,
   "metadata": {},
   "outputs": [
    {
     "name": "stdout",
     "output_type": "stream",
     "text": [
      "[1, 2, 3]\n",
      "[1, 3, 2]\n",
      "[2, 1, 3]\n",
      "[2, 3, 1]\n",
      "[3, 1, 2]\n",
      "[3, 2, 1]\n"
     ]
    }
   ],
   "source": [
    "from typing import List, Any\n",
    "\n",
    "def permute(items: List[int]) -> List[List[int]]:\n",
    "    \"\"\"순열 만들기\"\"\"\n",
    "    results = []\n",
    "    def dfs(items, done):\n",
    "        \"\"\"순열 그래프에서 리프노드를 results에 저장하는 깊이우선탐색\"\"\"\n",
    "        if len(items) == 0:\n",
    "            # items의 모든 원소를 처리한 경우\n",
    "            results.append(done)\n",
    "        else:\n",
    "            for i in range(len(items)):\n",
    "                dfs(items[:i]+items[i+1:], done+[items[i]])\n",
    "    \n",
    "    dfs(items, [])\n",
    "    return results\n",
    "                \n",
    "for i in permute([1,2,3]):\n",
    "    print(i)\n",
    "                \n",
    "    "
   ]
  }
 ],
 "metadata": {
  "kernelspec": {
   "display_name": "Python 3",
   "language": "python",
   "name": "python3"
  },
  "language_info": {
   "codemirror_mode": {
    "name": "ipython",
    "version": 3
   },
   "file_extension": ".py",
   "mimetype": "text/x-python",
   "name": "python",
   "nbconvert_exporter": "python",
   "pygments_lexer": "ipython3",
   "version": "3.8.5"
  }
 },
 "nbformat": 4,
 "nbformat_minor": 4
}
