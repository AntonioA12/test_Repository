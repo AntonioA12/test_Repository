{
 "cells": [
  {
   "cell_type": "code",
   "execution_count": 1,
   "metadata": {},
   "outputs": [
    {
     "data": {
      "text/html": [
       "<style>.container { width:95% !important; }</style>"
      ],
      "text/plain": [
       "<IPython.core.display.HTML object>"
      ]
     },
     "metadata": {},
     "output_type": "display_data"
    },
    {
     "data": {
      "text/html": [
       "<style>.input_area pre {font-family: Consolas; font-size: 15pt; line-height: 140%; font-weight: bold}</style>"
      ],
      "text/plain": [
       "<IPython.core.display.HTML object>"
      ]
     },
     "metadata": {},
     "output_type": "display_data"
    },
    {
     "data": {
      "text/html": [
       "<style>.output_area pre {font-family: Consolas; font-size: 15pt; line-height: 140%;}</style>"
      ],
      "text/plain": [
       "<IPython.core.display.HTML object>"
      ]
     },
     "metadata": {},
     "output_type": "display_data"
    }
   ],
   "source": [
    "from IPython.core.display import display, HTML\n",
    "display(HTML(\"<style>.container { width:95% !important; }</style>\"))\n",
    "display(HTML(\"<style>.input_area pre {font-family: Consolas; font-size: 15pt; line-height: 140%; font-weight: bold}</style>\"))\n",
    "display(HTML(\"<style>.output_area pre {font-family: Consolas; font-size: 15pt; line-height: 140%;}</style>\"))\n",
    "\n",
    "from __future__ import annotations\n",
    "from typing import Any, List, Tuple, Dict"
   ]
  },
  {
   "cell_type": "code",
   "execution_count": 3,
   "metadata": {},
   "outputs": [
    {
     "name": "stdout",
     "output_type": "stream",
     "text": [
      "1\n",
      "2\n",
      "------\n",
      "앞= deque([3, 4, 5]) = 뒤\n",
      "peek(): 3\n",
      "__len__(): 3\n",
      "------\n",
      "3\n",
      "앞= deque([]) = 뒤\n"
     ]
    }
   ],
   "source": [
    "from __future__ import annotations\n",
    "from typing import Any, List, Tuple, Dict\n",
    "from collections import deque\n",
    "\n",
    "class Queue:\n",
    "    def __init__(self) -> None:\n",
    "        \"\"\"큐 생성자\"\"\"\n",
    "        self.queue = deque() # self.head , self.top , self.front , self.rear  self.queue \n",
    "        \n",
    "    def is_empty(self) -> bool:\n",
    "        \"\"\"큐가 비어있는지 확인\"\"\"\n",
    "        return len(self.queue) == 0\n",
    "        \n",
    "    def enqueue(self, data: Any):\n",
    "        \"\"\"큐에 데이터를 삽입\"\"\"\n",
    "\n",
    "        \n",
    "    def dequeue(self) -> Any:\n",
    "        \"\"\"큐에서 프런트에 있는 데이터를 꺼냄\"\"\"\n",
    "        \n",
    "\n",
    "        else:\n",
    "            raise IndexError('데크가 비어있습니다.')\n",
    "        \n",
    "    def peek(self) -> Any:\n",
    "        \"\"\"큐에서 프런트에 있는 데이터를 리턴\"\"\"\n",
    "\n",
    "        else:\n",
    "            raise IndexError('큐가 비어있습니다')\n",
    "            \n",
    "    def print(self) -> None:\n",
    "        \"\"\"큐의 모든 데이터들을 출력\"\"\"\n",
    "        print(f\"앞= {self.queue} = 뒤\")\n",
    "  \n",
    "    def clear(self) -> None:\n",
    "        \"\"\"큐의 모든 데이터를 삭제\"\"\"\n",
    "        while not self.is_empty():  \n",
    "            self.dequeue()\n",
    "        \n",
    "    def __len__(self) -> int:\n",
    "        \"\"\"큐의 크기 리턴\"\"\"\n",
    "        return len(self.queue)\n",
    "\n",
    "# 아래는 수정하지 마시오.\n",
    "queue = Queue()\n",
    "\n",
    "queue.enqueue(1)\n",
    "queue.enqueue(2)\n",
    "print(queue.dequeue())\n",
    "queue.enqueue(3)\n",
    "print(queue.dequeue())\n",
    "queue.enqueue(4)\n",
    "queue.enqueue(5)\n",
    "\n",
    "print(\"------\")\n",
    "queue.print()\n",
    "print(\"peek():\", queue.peek())\n",
    "print(\"__len__():\", len(queue))\n",
    "\n",
    "print(\"------\")\n",
    "print(queue.dequeue())\n",
    "\n",
    "queue.clear()\n",
    "queue.print()"
   ]
  },
  {
   "cell_type": "code",
   "execution_count": null,
   "metadata": {},
   "outputs": [],
   "source": []
  }
 ],
 "metadata": {
  "kernelspec": {
   "display_name": "Python 3",
   "language": "python",
   "name": "python3"
  },
  "language_info": {
   "codemirror_mode": {
    "name": "ipython",
    "version": 3
   },
   "file_extension": ".py",
   "mimetype": "text/x-python",
   "name": "python",
   "nbconvert_exporter": "python",
   "pygments_lexer": "ipython3",
   "version": "3.8.5"
  }
 },
 "nbformat": 4,
 "nbformat_minor": 4
}
