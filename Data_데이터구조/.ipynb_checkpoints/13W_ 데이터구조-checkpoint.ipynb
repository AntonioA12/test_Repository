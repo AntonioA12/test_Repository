{
 "cells": [
  {
   "cell_type": "markdown",
   "metadata": {},
   "source": [
    "## 그래프 이론 \n",
    "\n",
    "    그래프 이론이 사용되는 곳\n",
    "    \n",
    "    인테낫 망\n",
    "    코로나 감염 경로 조사\n",
    "    SNS ( 사람이 점 , 관계 선 ) \n",
    "    도로\n",
    "    단백질 상호작용\n",
    "    신경망 \n",
    "    \n",
    "## 그래프\n",
    "\n",
    "    노드 와 엣지의 집합 \n",
    "    \n",
    "    노드 Dot\n",
    "        객체\n",
    "        V : 노드의 집합 \n",
    "    엣지 Line\n",
    "        노드들의 관계를 개념적으로 나타냇것\n",
    "        E : 엣지의 집합\n",
    "        방향 O\n",
    "        가중치 O \n",
    "        \n",
    "    방향 그래프\n",
    "        화살표 방향으로만 이동가능\n",
    "    무방향 그래프\n",
    "        양 방향 모두 이동 가능 \n",
    "    인접노드\n",
    "        노드A 에서 한칸만에 갈수있는 노드\n",
    "    차수 ( degree ) \n",
    "        in 무방향 그래프 : 노드에 연결된 엣지의 수 \n",
    "            진입 차수 : 노드로 들어오는 엣지의 수 \n",
    "            진출 차수 : 노드엣거 밖으로 나가는 엣지의 수 \n",
    "     경로 \n",
    "         시작 노드 부터 도착 노드까지 모든 노드들을 나열한 것 \n",
    "         ex ) A 출발 ~ e 도착까지 거치는 모든 노드를 나열함 \n",
    "     단순경로\n",
    "         경로 중에서 \n",
    "         중복이 없어야함 \n",
    "     사이클 경로\n",
    "         경로 중 하나\n",
    "         시작 노드와 도착 노드가 똑같아야함\n",
    "         도착 노드를 제외한 모든 노드들은 [단순 경로] 이여야한다.\n",
    "              ( 시작 , 끝노드 제외 중복 있으면 안된다. ) \n",
    "      트리 \n",
    "          사이클 없이 모든 노드들이 연결되어 있는 그래프 \n",
    "      \n",
    "      인정행렬\n",
    "          행렬 형태로 그래프 표현\n",
    "          \n",
    "          행 + 열이 노드의 가는 도중 \n",
    "          엣지가 있으면 1, 없다면 0\n",
    "          ex) 노드1 에서 노드 3 으로 가는 엣지가 있다면 1행3열은 = 1\n",
    "      \n",
    "      인접 리스트 \n",
    "          각 노드마다 연결리스트를 이용하여 인정노드들을 저장 ( 딕셔너리 , 리스트 이용 ) \n",
    "          \n",
    "       "
   ]
  },
  {
   "cell_type": "markdown",
   "metadata": {},
   "source": [
    "## 그래프 탐색 ( 깊이우선탐색 , 너비우선 탐색 ) \n",
    "\n",
    "    그래프 탐색\n",
    "        그래프에 있는 모든 노드를 방문 + 탐색 \n",
    "    목적 \n",
    "        모든 노드의 번호를 찾고 저장하기 위함.\n",
    "        \n",
    "    깊이우선탐색 DFS\n",
    "       재귀함수 or 스택\n",
    "        장점 - 빠르고 쉽게 구현가능 \n",
    "    너비우선탐색 BFS \n",
    "        Queue \n",
    "        장점 - 최단거리, 최소값 , 최적화된 경로를 찾는데 유리 \n",
    "        그외에은 깊이우선탐색을 사용한다. \n",
    "        \n",
    "## 깊이우선 탐색 DFS \n",
    "\n",
    "    1. 시작노드 -> 아래 -> 위 -> 아래 -> 위 아래 "
   ]
  },
  {
   "cell_type": "code",
   "execution_count": 1,
   "metadata": {
    "collapsed": true,
    "jupyter": {
     "outputs_hidden": true
    }
   },
   "outputs": [
    {
     "ename": "NameError",
     "evalue": "name 'graph' is not defined",
     "output_type": "error",
     "traceback": [
      "\u001b[1;31m---------------------------------------------------------------------------\u001b[0m",
      "\u001b[1;31mNameError\u001b[0m                                 Traceback (most recent call last)",
      "\u001b[1;32m<ipython-input-1-1249829b5024>\u001b[0m in \u001b[0;36m<module>\u001b[1;34m\u001b[0m\n\u001b[0;32m     12\u001b[0m \u001b[0mvisited\u001b[0m \u001b[1;33m=\u001b[0m \u001b[1;33m[\u001b[0m\u001b[1;33m]\u001b[0m\u001b[1;33m\u001b[0m\u001b[1;33m\u001b[0m\u001b[0m\n\u001b[0;32m     13\u001b[0m \u001b[1;33m\u001b[0m\u001b[0m\n\u001b[1;32m---> 14\u001b[1;33m \u001b[1;32mfor\u001b[0m \u001b[0mi\u001b[0m \u001b[1;32min\u001b[0m \u001b[0mgraph\u001b[0m\u001b[1;33m:\u001b[0m\u001b[1;33m\u001b[0m\u001b[1;33m\u001b[0m\u001b[0m\n\u001b[0m\u001b[0;32m     15\u001b[0m     \u001b[1;32mif\u001b[0m \u001b[1;32mnot\u001b[0m \u001b[0mi\u001b[0m \u001b[1;32min\u001b[0m \u001b[0mvisited\u001b[0m\u001b[1;33m:\u001b[0m\u001b[1;33m\u001b[0m\u001b[1;33m\u001b[0m\u001b[0m\n\u001b[0;32m     16\u001b[0m         \u001b[0mrecursive_dfs\u001b[0m\u001b[1;33m(\u001b[0m\u001b[0mgraph\u001b[0m\u001b[1;33m,\u001b[0m\u001b[0mvisited\u001b[0m\u001b[1;33m,\u001b[0m\u001b[0mi\u001b[0m\u001b[1;33m)\u001b[0m\u001b[1;33m\u001b[0m\u001b[1;33m\u001b[0m\u001b[0m\n",
      "\u001b[1;31mNameError\u001b[0m: name 'graph' is not defined"
     ]
    }
   ],
   "source": [
    "from typing import List, Dict, Any\n",
    "\n",
    "# graph = 그래프\n",
    "# visited = 방문한 노드를 순서대로 저장한 리스트\n",
    "# start = 시작노드  \n",
    "\n",
    "def recursive_dfs( graph : Dict[Any,List] , visted: List , start: Any) -> List:\n",
    "    def dfs (v: Any)-> None:\n",
    "        visted.append(v)\n",
    "        for w in graph[v]:\n",
    "            # W = v에 인접한 노드\n",
    "            if not w in visited:\n",
    "                dfs(w)\n",
    "    dfs(start)\n",
    "    \n",
    "visited = [] \n",
    "\n",
    "for i in graph:\n",
    "    if not i in visited:\n",
    "        recursive_dfs(graph,visited,i)\n",
    "\n",
    "print(visited)\n",
    "            "
   ]
  },
  {
   "cell_type": "markdown",
   "metadata": {},
   "source": [
    "## 너비우선탐색 BFS \n",
    "\n",
    "    시작노드 -> 왼 -> 오 -> 왼 -> 오 "
   ]
  },
  {
   "cell_type": "code",
   "execution_count": 2,
   "metadata": {},
   "outputs": [
    {
     "ename": "NameError",
     "evalue": "name 'graph' is not defined",
     "output_type": "error",
     "traceback": [
      "\u001b[1;31m---------------------------------------------------------------------------\u001b[0m",
      "\u001b[1;31mNameError\u001b[0m                                 Traceback (most recent call last)",
      "\u001b[1;32m<ipython-input-2-b6991a1f4f5c>\u001b[0m in \u001b[0;36m<module>\u001b[1;34m\u001b[0m\n\u001b[0;32m     15\u001b[0m \u001b[0mvisited\u001b[0m \u001b[1;33m=\u001b[0m \u001b[1;33m[\u001b[0m\u001b[1;33m]\u001b[0m\u001b[1;33m\u001b[0m\u001b[1;33m\u001b[0m\u001b[0m\n\u001b[0;32m     16\u001b[0m \u001b[1;33m\u001b[0m\u001b[0m\n\u001b[1;32m---> 17\u001b[1;33m \u001b[1;32mfor\u001b[0m \u001b[0mi\u001b[0m \u001b[1;32min\u001b[0m \u001b[0mgraph\u001b[0m\u001b[1;33m:\u001b[0m\u001b[1;33m\u001b[0m\u001b[1;33m\u001b[0m\u001b[0m\n\u001b[0m\u001b[0;32m     18\u001b[0m     \u001b[1;32mif\u001b[0m \u001b[1;32mnot\u001b[0m \u001b[0mi\u001b[0m \u001b[1;32min\u001b[0m \u001b[0mvisited\u001b[0m\u001b[1;33m:\u001b[0m\u001b[1;33m\u001b[0m\u001b[1;33m\u001b[0m\u001b[0m\n\u001b[0;32m     19\u001b[0m         \u001b[0miterative_bfs\u001b[0m\u001b[1;33m(\u001b[0m\u001b[0mgraph\u001b[0m\u001b[1;33m,\u001b[0m\u001b[0mvisited\u001b[0m\u001b[1;33m,\u001b[0m\u001b[0mi\u001b[0m\u001b[1;33m)\u001b[0m\u001b[1;33m\u001b[0m\u001b[1;33m\u001b[0m\u001b[0m\n",
      "\u001b[1;31mNameError\u001b[0m: name 'graph' is not defined"
     ]
    }
   ],
   "source": [
    "from typing import List, Dict, Any\n",
    "from collections import deque\n",
    "\n",
    "# graph = 그래프\n",
    "# visited = 방문한 노드를 순서대로 저장한 리스트\n",
    "# start = 시작노드  \n",
    "\n",
    "# 큐에 삽입되는 순서 - 너비우선탐색 순서 # 큐 선입선출 \n",
    "# 1. 시작노드 방문 \n",
    "# 2. 큐가 비어있지 않다면\n",
    "#    디큐하여 노드 v를 꺼낸다 => visited 에 넣는다 \n",
    "#    v 에 인정합 노드 w에 대해 , w 를 방문하지 않았다면 w를 방문하고 w를 큐에 삽입 \n",
    "\n",
    "def iterative_bfs( graph : Dict[Any, List] , visited : List, start: Any) -> List:\n",
    "    \n",
    "    queue = deque()\n",
    "    visited.append(start)\n",
    "    queue.append(start)\n",
    "    \n",
    "    while queue:\n",
    "        v = queue.popleft()\n",
    "        for w in graph[v]:\n",
    "            if not w in visited:\n",
    "                visited.append(w)\n",
    "                queue.append(w)\n",
    "visited = []\n",
    "\n",
    "for i in graph:\n",
    "    if not i in visited:\n",
    "        iterative_bfs(graph,visited,i)\n",
    "print(visited)"
   ]
  },
  {
   "cell_type": "markdown",
   "metadata": {},
   "source": [
    "## 백트래킹 알고리즘 \n",
    "\n",
    "    그래프 or 트리를 탐색할 때, 경우의 수를 줄이기 위해 사용하는 방법\n",
    "    특정 노드가 갈 필요가 없으면 그 쪽은 탐색 X ( 특정 노드를 탐색해봤자 도움이 안된다면 back ) \n",
    "    \n",
    "    1.  v = 유망한지 아닌지 모른 상태에서 시작하는 방법 \n",
    "            \n",
    "    2. v = 확실히 유망할 때 \n",
    "        solution 이라면 답, 아니라면 v에 연관된 노드 중에서 promsing만 입력"
   ]
  },
  {
   "cell_type": "markdown",
   "metadata": {},
   "source": [
    "## 실전문제 1\n",
    "\n",
    "    1를 육지로 0 은 물로 가정한 2D 맵이 있을때,\n",
    "    섬의 개수를 계산하라 \n",
    "    \n",
    "    1 = 육지\n",
    "    0 = 물 \n",
    "    \n",
    "    육지의 갯수는?\n",
    "    물의 갯수는 ? "
   ]
  },
  {
   "cell_type": "code",
   "execution_count": null,
   "metadata": {},
   "outputs": [],
   "source": []
  }
 ],
 "metadata": {
  "kernelspec": {
   "display_name": "Python 3",
   "language": "python",
   "name": "python3"
  },
  "language_info": {
   "codemirror_mode": {
    "name": "ipython",
    "version": 3
   },
   "file_extension": ".py",
   "mimetype": "text/x-python",
   "name": "python",
   "nbconvert_exporter": "python",
   "pygments_lexer": "ipython3",
   "version": "3.8.5"
  }
 },
 "nbformat": 4,
 "nbformat_minor": 4
}
