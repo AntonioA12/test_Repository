{
 "cells": [
  {
   "cell_type": "markdown",
   "metadata": {},
   "source": [
    "# 파이썬 클래스 , 재귀함수\n",
    "\n",
    "\n",
    "    "
   ]
  },
  {
   "cell_type": "markdown",
   "metadata": {},
   "source": [
    "## 클래스 \n",
    "\n",
    "    자료구조 구현을 위한 작업 \n",
    "    ( 데이터 + 연산or함수 ) 이 두가지가 묶여있는 구조  \n",
    "    \n",
    "    클래스 = 객체를 만드는데 필요한 설계도 \n",
    "    객체 = 구현해야 할 대상 그 자체, 실제 메모리에 구현한 것   \n",
    "            \n",
    "```python \n",
    "    \n",
    "    class 클래스 이름:\n",
    "        def __init__( self, [인자]1 ... ): # [ __init__ = 생성자] \n",
    "            self.[멤버변수] = 인자 1 \n",
    "            \n",
    "        def = 객체에 대한 [메소드]\n",
    "        def 객체명 ( 인자 ) : \n",
    "        \n",
    "\n",
    "\n",
    "```\n",
    "\n",
    "    멤버변수(속성) : 객체에 정보를 저장\n",
    "    메소드 : 멤버변수들을 연산 수행 \n",
    "    생성자 : 객체를 생성하는 특별한 메소드\n",
    "    self 파라미터 : 생성된 객체를 참조한다. \n",
    "    \n",
    "    self = 객체가 가지고"
   ]
  },
  {
   "cell_type": "code",
   "execution_count": 22,
   "metadata": {},
   "outputs": [],
   "source": [
    "class Student:\n",
    "    def __init__( self, name , id ):\n",
    "        self.name = name\n",
    "        self.id = id \n",
    "        \n",
    "    def get_name(self):\n",
    "        return self.name\n",
    "    \n",
    "    def get_id(self):\n",
    "        return self.id \n",
    "    \n",
    "    def get_all(self):\n",
    "        return self.name , self.id\n",
    " \n",
    "    \n",
    "s1 = Student('AN',15016033)\n",
    "s2 = Student('KIM' , 1702123)\n",
    "\n"
   ]
  },
  {
   "cell_type": "code",
   "execution_count": 27,
   "metadata": {},
   "outputs": [
    {
     "name": "stdout",
     "output_type": "stream",
     "text": [
      "0\n",
      "4\n"
     ]
    }
   ],
   "source": [
    "import random \n",
    "\n",
    "class Dice:\n",
    "    def __init__(self):\n",
    "        self.face = 0\n",
    "        \n",
    "    def get_face(self):\n",
    "        return self.face\n",
    "    \n",
    "    def roll(self):\n",
    "        self.face = random.randint(1,6)\n",
    "        \n",
    "def main():\n",
    "    d = Dice()\n",
    "    print(d.get_face())\n",
    "    d.roll()\n",
    "    print(d.get_face())\n",
    "    \n",
    "\n",
    "main()"
   ]
  },
  {
   "cell_type": "markdown",
   "metadata": {},
   "source": [
    "#### 클래스 추가설명 \n",
    "\n",
    "```python\n",
    "\n",
    "    a = list()\n",
    "    \n",
    "    a = 리스트의 객체\n",
    "    list = 클래스 \n",
    "    \n",
    "    list() = list클래스의 생성자를 호출 \n",
    "    \n",
    "    a.append(3) : list 클래스의 append 메소드를 호출 \n",
    "```\n"
   ]
  },
  {
   "cell_type": "markdown",
   "metadata": {},
   "source": [
    "## 재귀함수 \n",
    "\n",
    "    반복 vs 재귀 ( 한방에 거울이 마주보는것처럼 같은 형태로 무한 반복 ) \n",
    "    \n",
    "    "
   ]
  },
  {
   "cell_type": "code",
   "execution_count": null,
   "metadata": {},
   "outputs": [],
   "source": []
  }
 ],
 "metadata": {
  "kernelspec": {
   "display_name": "Python 3",
   "language": "python",
   "name": "python3"
  },
  "language_info": {
   "codemirror_mode": {
    "name": "ipython",
    "version": 3
   },
   "file_extension": ".py",
   "mimetype": "text/x-python",
   "name": "python",
   "nbconvert_exporter": "python",
   "pygments_lexer": "ipython3",
   "version": "3.8.5"
  }
 },
 "nbformat": 4,
 "nbformat_minor": 4
}
