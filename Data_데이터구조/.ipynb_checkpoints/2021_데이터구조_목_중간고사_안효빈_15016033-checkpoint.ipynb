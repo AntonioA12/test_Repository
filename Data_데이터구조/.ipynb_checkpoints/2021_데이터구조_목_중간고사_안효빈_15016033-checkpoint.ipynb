{
 "cells": [
  {
   "cell_type": "code",
   "execution_count": 1,
   "metadata": {
    "ExecuteTime": {
     "end_time": "2021-10-28T04:01:13.312096Z",
     "start_time": "2021-10-28T04:01:13.294144Z"
    }
   },
   "outputs": [
    {
     "data": {
      "text/html": [
       "<style>.container { width:95% !important; }</style>"
      ],
      "text/plain": [
       "<IPython.core.display.HTML object>"
      ]
     },
     "metadata": {},
     "output_type": "display_data"
    },
    {
     "data": {
      "text/html": [
       "<style>.input_area pre {font-family: Consolas; font-size: 15pt; line-height: 140%; font-weight: bold}</style>"
      ],
      "text/plain": [
       "<IPython.core.display.HTML object>"
      ]
     },
     "metadata": {},
     "output_type": "display_data"
    },
    {
     "data": {
      "text/html": [
       "<style>.output_area pre {font-family: Consolas; font-size: 15pt; line-height: 140%;}</style>"
      ],
      "text/plain": [
       "<IPython.core.display.HTML object>"
      ]
     },
     "metadata": {},
     "output_type": "display_data"
    }
   ],
   "source": [
    "from IPython.core.display import display, HTML\n",
    "display(HTML(\"<style>.container { width:95% !important; }</style>\"))\n",
    "display(HTML(\"<style>.input_area pre {font-family: Consolas; font-size: 15pt; line-height: 140%; font-weight: bold}</style>\"))\n",
    "display(HTML(\"<style>.output_area pre {font-family: Consolas; font-size: 15pt; line-height: 140%;}</style>\"))\n"
   ]
  },
  {
   "cell_type": "markdown",
   "metadata": {},
   "source": [
    "# << 2021 데이터구조 (목) 중간고사 >>\n",
    "\n",
    "- 주의 사항\n",
    "    1. 시험시간 14:40 ~ 16:00\n",
    "    1. 부분점수는 없습니다.\n",
    "    1. 휴대폰의 전원을 끄세요.\n",
    "    1. 개인 전자기기를 사용할 수 없습니다.\n",
    "    1. closed book\n",
    "        1. 모든 인터넷을 사용할 수 없습니다.\n",
    "        1. 모든 자료를 볼 수 없습니다.\n",
    "    1. 수시로 저장하세요.\n",
    "    1. 셀을 실행시켰을 때, 멈추지 않는다면, 주피터노트북 메뉴에 있는 정지버튼을 누르거나 Kernel 메뉴에서 restart를 누르세요.\n",
    "        - 그래도 동작하지 않는 경우에는 주피터노트북을 다시 시작하세요.\n",
    "- 제출 방법\n",
    "    1. `잘못된 파일을 제출했을 경우 기본 점수로 채점됩니다.`\n",
    "    1. 파일 이름에서 '학번'을 자신의 학번으로, '이름'을 자신의 이름으로 고치시오.\n",
    "    1. 캔버스에 주피터노트북 파일(.ipynb)을 제출하세요.\n",
    "        1. 캔버스 사용이 불가능한 경우, 이메일로 아래 주소로 제출 하세요.\n",
    "            - ydhwang@suwon.ac.kr\n",
    "            - 메일제목: `[데이터구조] 홍길동`\n",
    "    1. 제출후 모든 파일을 반드시 삭제하세요.\n"
   ]
  },
  {
   "cell_type": "markdown",
   "metadata": {},
   "source": [
    "## 아래 두 셀을 실행시키시오."
   ]
  },
  {
   "cell_type": "code",
   "execution_count": 2,
   "metadata": {
    "ExecuteTime": {
     "end_time": "2021-10-28T03:52:08.524676Z",
     "start_time": "2021-10-28T03:52:08.509716Z"
    }
   },
   "outputs": [],
   "source": [
    "# 이 셀을 실행시키세요.\n",
    "from __future__ import annotations"
   ]
  },
  {
   "cell_type": "code",
   "execution_count": 3,
   "metadata": {
    "ExecuteTime": {
     "end_time": "2021-10-28T03:52:09.661636Z",
     "start_time": "2021-10-28T03:52:09.646705Z"
    }
   },
   "outputs": [
    {
     "name": "stdout",
     "output_type": "stream",
     "text": [
      "IP Address(Internal) :  10.111.14.66\n"
     ]
    }
   ],
   "source": [
    "# 이 셀을 실행시키세요.\n",
    "from typing import Any, List, Tuple, Dict\n",
    "from collections import deque\n",
    "import socket\n",
    "print(\"IP Address(Internal) : \",socket.gethostbyname(socket.gethostname()))\n",
    "class Node:\n",
    "    pass"
   ]
  },
  {
   "cell_type": "markdown",
   "metadata": {
    "ExecuteTime": {
     "end_time": "2019-10-22T07:55:36.236793Z",
     "start_time": "2019-10-22T07:55:36.231780Z"
    }
   },
   "source": [
    "---\n",
    "# 주관식 문제\n",
    "\n",
    "- 문제당 6점"
   ]
  },
  {
   "cell_type": "markdown",
   "metadata": {},
   "source": [
    "---\n",
    "### 문제1\n",
    "\n",
    "문제를 해결하기 위한 단계적인 절차를 무엇이라고 하는가?"
   ]
  },
  {
   "cell_type": "code",
   "execution_count": 4,
   "metadata": {
    "ExecuteTime": {
     "end_time": "2021-10-28T03:51:04.600606Z",
     "start_time": "2021-10-28T03:51:04.590602Z"
    }
   },
   "outputs": [
    {
     "name": "stdout",
     "output_type": "stream",
     "text": [
      "알고리즘\n"
     ]
    }
   ],
   "source": [
    "print(\"알고리즘\")"
   ]
  },
  {
   "cell_type": "markdown",
   "metadata": {},
   "source": [
    "---\n",
    "### 문제2\n",
    "\n",
    "이것은 구현해야 할 대상으로, 클래스에서 정의된 것을 실제 메모리에서 구현 한 것이다. 이것을 무엇이라고 하는가?"
   ]
  },
  {
   "cell_type": "code",
   "execution_count": 80,
   "metadata": {
    "ExecuteTime": {
     "end_time": "2021-10-28T03:51:12.065636Z",
     "start_time": "2021-10-28T03:51:12.054649Z"
    },
    "scrolled": true
   },
   "outputs": [
    {
     "name": "stdout",
     "output_type": "stream",
     "text": [
      "자료구조\n"
     ]
    }
   ],
   "source": [
    "print(\"자료구조\")"
   ]
  },
  {
   "cell_type": "markdown",
   "metadata": {},
   "source": [
    "---\n",
    "### 문제3\n",
    "\n",
    "이것은 알고리즘의 수행시간을 표기하는 방법으로 이것의 종류에는 빅오표기법, 빅오메가표기법, 세타표기법 등이 있다. 이런 표기법을 무엇이라고 하는가?"
   ]
  },
  {
   "cell_type": "code",
   "execution_count": 33,
   "metadata": {
    "ExecuteTime": {
     "end_time": "2021-10-28T03:51:16.344178Z",
     "start_time": "2021-10-28T03:51:16.334205Z"
    },
    "scrolled": false
   },
   "outputs": [
    {
     "name": "stdout",
     "output_type": "stream",
     "text": [
      "시간복잡도 표기법\n"
     ]
    }
   ],
   "source": [
    "print(\"시간복잡도 표기법\")"
   ]
  },
  {
   "cell_type": "markdown",
   "metadata": {},
   "source": [
    "---\n",
    "### 문제4\n",
    "\n",
    "가장 최근에 넣은 값이 가장 먼저 나오는 데이터 입출력 방식의 자료구조를 무엇이라고 하는가?\n"
   ]
  },
  {
   "cell_type": "code",
   "execution_count": 32,
   "metadata": {
    "ExecuteTime": {
     "end_time": "2021-10-28T03:51:21.206180Z",
     "start_time": "2021-10-28T03:51:21.190224Z"
    }
   },
   "outputs": [
    {
     "name": "stdout",
     "output_type": "stream",
     "text": [
      "스택\n"
     ]
    }
   ],
   "source": [
    "print(\"스택\")"
   ]
  },
  {
   "cell_type": "markdown",
   "metadata": {},
   "source": [
    "---\n",
    "### 문제5\n",
    "\n",
    "이것은 노드들이 2중으로 연결되어있는 리스트로 구성되어 있고, 양쪽 방향 모두에서 삽입 또는 삭제하는데 O(1) 만큼의 시간복잡도를 가진다.\n",
    "\n",
    "이 자료구조를 무엇이라고 하는가?"
   ]
  },
  {
   "cell_type": "code",
   "execution_count": 8,
   "metadata": {
    "ExecuteTime": {
     "end_time": "2021-10-28T03:51:24.452501Z",
     "start_time": "2021-10-28T03:51:24.439536Z"
    },
    "scrolled": true
   },
   "outputs": [
    {
     "name": "stdout",
     "output_type": "stream",
     "text": [
      "데크\n"
     ]
    }
   ],
   "source": [
    "print(\"데크\")"
   ]
  },
  {
   "cell_type": "markdown",
   "metadata": {},
   "source": [
    "----\n",
    "# O,X 문제\n",
    "1. 맞으면 `O`, 틀리면 `X`를 `print()`를 이용하여 출력하시오.\n",
    "1. 배점: 문제를 맞추면 6점, 비워두면 3점, 틀리면 0점"
   ]
  },
  {
   "cell_type": "markdown",
   "metadata": {},
   "source": [
    "---\n",
    "### 문제1\n",
    "\n",
    "모든 $N {\\leq} N_0$에 대해서 $f(N) {\\geq} cg(N)$이 성립하는 양의 상수 $c$와 $N_0$이 존재하지 않으면, $f(N) = O(g(N))$이다.\n",
    "\n"
   ]
  },
  {
   "cell_type": "code",
   "execution_count": 9,
   "metadata": {
    "ExecuteTime": {
     "end_time": "2021-10-28T03:51:30.242024Z",
     "start_time": "2021-10-28T03:51:30.239059Z"
    },
    "scrolled": true
   },
   "outputs": [
    {
     "name": "stdout",
     "output_type": "stream",
     "text": [
      "\n"
     ]
    }
   ],
   "source": [
    "print(\"\")"
   ]
  },
  {
   "cell_type": "markdown",
   "metadata": {},
   "source": [
    "---\n",
    "### 문제2\n",
    "\n",
    "알고리즘을 평가할 때, 빅오표기법은 최선의 경우에는 사용할 수 없다.\n",
    "\n"
   ]
  },
  {
   "cell_type": "code",
   "execution_count": 10,
   "metadata": {
    "ExecuteTime": {
     "end_time": "2021-10-28T03:51:33.563166Z",
     "start_time": "2021-10-28T03:51:33.551204Z"
    }
   },
   "outputs": [
    {
     "name": "stdout",
     "output_type": "stream",
     "text": [
      "O\n"
     ]
    }
   ],
   "source": [
    "print(\"O\")"
   ]
  },
  {
   "cell_type": "markdown",
   "metadata": {},
   "source": [
    "---\n",
    "### 문제3\n",
    "\n",
    "다음 함수의 시간복잡도는 O(N) 이다.\n",
    "\n",
    "```python\n",
    "def my_func(N):\n",
    "    r = 0\n",
    "    for i in range(N):\n",
    "        r += 1\n",
    "    \n",
    "    for i in range(N):\n",
    "        if r >= 10:\n",
    "            break\n",
    "        r += 1\n",
    "    return r\n",
    "```\n",
    "\n"
   ]
  },
  {
   "cell_type": "code",
   "execution_count": 84,
   "metadata": {
    "ExecuteTime": {
     "end_time": "2021-10-28T03:51:40.340026Z",
     "start_time": "2021-10-28T03:51:40.334067Z"
    }
   },
   "outputs": [
    {
     "name": "stdout",
     "output_type": "stream",
     "text": [
      "O\n"
     ]
    }
   ],
   "source": [
    "print(\"O\")"
   ]
  },
  {
   "cell_type": "markdown",
   "metadata": {},
   "source": [
    "---\n",
    "### 문제4\n",
    "\n",
    "디큐 연산을 하면 큐에 들어 있는 데이터 중에서 가장 예전에 큐에 들어온 데이터가 삭제된다."
   ]
  },
  {
   "cell_type": "code",
   "execution_count": 85,
   "metadata": {
    "ExecuteTime": {
     "end_time": "2021-10-28T03:51:44.573736Z",
     "start_time": "2021-10-28T03:51:44.566753Z"
    },
    "scrolled": true
   },
   "outputs": [
    {
     "name": "stdout",
     "output_type": "stream",
     "text": [
      "O\n"
     ]
    }
   ],
   "source": [
    "print(\"O\")"
   ]
  },
  {
   "cell_type": "markdown",
   "metadata": {},
   "source": [
    "---\n",
    "### 문제5\n",
    "\n",
    "스택을 이용하여 아래 괄호들이 짝이 맞는지 확일 할때, pop 연산을 2번 수행한다.\n",
    "```\n",
    "[ [ ] ( { ( ) )\n",
    "```"
   ]
  },
  {
   "cell_type": "code",
   "execution_count": null,
   "metadata": {
    "ExecuteTime": {
     "end_time": "2021-10-28T03:51:47.894829Z",
     "start_time": "2021-10-28T03:51:47.885853Z"
    },
    "scrolled": true
   },
   "outputs": [],
   "source": [
    "print(\"O\")"
   ]
  },
  {
   "cell_type": "markdown",
   "metadata": {},
   "source": [
    "---\n",
    "\n",
    "# 코딩 문제\n",
    "\n",
    "- 문제당 13점\n"
   ]
  },
  {
   "cell_type": "markdown",
   "metadata": {},
   "source": [
    "---\n",
    "### 문제1\n",
    "\n",
    "leave_nums() 함수는 input_list의 원소들 중에서 2의 배수거나 3의 배수인 수들만 리스트로 만들어서 리턴하는 함수이다.\n",
    "\n",
    "이 함수가 리턴하는 리스트에는 2 또는 3의 배수만 남게된다.\n",
    "\n",
    "이 함수를 작성하시오.\n",
    "\n",
    "***결과***\n",
    "```\n",
    "[2, 3, 6]\n",
    "[22, 33, 44, 66]\n",
    "```"
   ]
  },
  {
   "cell_type": "code",
   "execution_count": 89,
   "metadata": {
    "ExecuteTime": {
     "end_time": "2021-10-28T03:52:26.641240Z",
     "start_time": "2021-10-28T03:52:26.627278Z"
    }
   },
   "outputs": [
    {
     "name": "stdout",
     "output_type": "stream",
     "text": [
      "None\n",
      "None\n"
     ]
    }
   ],
   "source": [
    "def leave_nums(input_list: List[int]) -> List[int]:\n",
    "    pass\n",
    "    \n",
    "## 아래는 수정하지 마시오.\n",
    "print(leave_nums([1,2,3,5,6,7]))\n",
    "print(leave_nums([11, 22, 33, 44, 55, 66]))"
   ]
  },
  {
   "cell_type": "markdown",
   "metadata": {},
   "source": [
    "---\n",
    "### 문제2\n",
    "\n",
    "아래는 주사위를 구현한 Dice 클래스이다.\n",
    "\n",
    "주어진 Dice 클래스를 이용하여, Bottle 클래스를 만드시오.\n",
    "\n",
    "Bottle 클래스는 속성으로 d1과 d2를 가진다. d1과 d2는 모두 Dice 클래스의 객체이다.\n",
    "\n",
    "Bottle 클래스의 shake() 메소드는 Bottle이 가지고 있는 두개의 주사위를 모두 굴린다.\n",
    "\n",
    "Bottle 클래스의 get_faces() 메소드는 Bottle이 가지고 있는 두개의 주사위 눈의 각각의 개수를 리스트 형태로 리턴한다.\n",
    "(길이가 2인 리스트를 리턴)\n",
    "\n",
    "\n",
    "- 주의\n",
    "    1. 실행 결과는 실행할 때마다 매번 달라진다.\n",
    "    1. 결과의 첫번째 줄은 반드시 같은 리스트가 2번 반복되게 나와야 한다.\n",
    "\n",
    "***결과***\n",
    "```\n",
    "[1, 6] [1, 6]\n",
    "[2, 1]\n",
    "```"
   ]
  },
  {
   "cell_type": "code",
   "execution_count": 46,
   "metadata": {
    "ExecuteTime": {
     "end_time": "2021-10-28T03:53:10.310105Z",
     "start_time": "2021-10-28T03:53:10.295144Z"
    }
   },
   "outputs": [
    {
     "ename": "IndentationError",
     "evalue": "expected an indented block (Temp/ipykernel_4744/3954105410.py, line 51)",
     "output_type": "error",
     "traceback": [
      "\u001b[1;36m  File \u001b[1;32m\"C:\\Users\\DS314-21\\AppData\\Local\\Temp/ipykernel_4744/3954105410.py\"\u001b[1;36m, line \u001b[1;32m51\u001b[0m\n\u001b[1;33m    b =  Bottle()\u001b[0m\n\u001b[1;37m    ^\u001b[0m\n\u001b[1;31mIndentationError\u001b[0m\u001b[1;31m:\u001b[0m expected an indented block\n"
     ]
    }
   ],
   "source": [
    "import random\n",
    "\n",
    "## Dice 클래스는 수정하지 마시오.\n",
    "class Dice:\n",
    "    def __init__(self):\n",
    "        self.face = 0\n",
    "    \n",
    "    def get_face(self): \n",
    "        \"\"\"주사위의 윗면의 눈의 개수를 리턴한다.\"\"\"\n",
    "        return self.face\n",
    "    \n",
    "    def roll(self): \n",
    "        \"\"\"주사위를 굴린다.\"\"\"\n",
    "        self.face =  random.randint(1,6) # 1~6 사이의 랜덤한 정수값으로 face 속성을 갱신한다.\n",
    "        \n",
    "## Bottle 클래스를 완성하시오.\n",
    "class Bottle:\n",
    "    \n",
    "\n",
    "    \n",
    "\n",
    "    \n",
    "#     def __init__(self):\n",
    "#         self.face = 0\n",
    "#         d1 = 0\n",
    "#         d2 = 0\n",
    "        \n",
    "#     def get_face(self): \n",
    "#         \"\"\"주사위의 윗면의 눈의 개수를 리턴한다.\"\"\"\n",
    "#         return self.face\n",
    "    \n",
    "#     def roll(self): \n",
    "#         \"\"\"주사위를 굴린다.\"\"\"\n",
    "#         self.face =  random.randint(1,6) # 1~6 사이의 랜덤한 정수값으로 face 속성을 갱신한다.\n",
    "        \n",
    "#     def shake (self ):\n",
    "#         # 두개 의 주사위를 굴리시오 \n",
    "\n",
    "        \n",
    "#         d1 = self.roll()\n",
    "#         d2 = self.roll()\n",
    "        \n",
    "#     def get_faces(self):\n",
    "#         # 두개 의 주사위 결과를 리턴하시오\n",
    "#         # 길이가 2 인 리스트를 리턴 \n",
    "        \n",
    "#         return d1 and d2\n",
    "        \n",
    "    \n",
    "# 아래는 수정하지 마시오.\n",
    "b =  Bottle()\n",
    "b.shake()\n",
    "print(b.get_faces(), b.get_faces()) # 같은 리스트 두개가 출력된다.\n",
    "b.shake()\n",
    "print(b.get_faces())"
   ]
  },
  {
   "cell_type": "markdown",
   "metadata": {},
   "source": [
    "---\n",
    "### 문제3\n",
    "\n",
    "재귀적 방법을 이용하여 nums 원소들 중에서 짝수의 개수를 리턴하는 함수 even_count()를 작성하시오.\n",
    "\n",
    "- 주의) \n",
    "    - 반드시 재귀적 방법으로 작성\n",
    "    - 반복문 사용 불가\n",
    "\n",
    "***결과***\n",
    "```\n",
    "0\n",
    "1\n",
    "2\n",
    "3\n",
    "4\n",
    "```"
   ]
  },
  {
   "cell_type": "code",
   "execution_count": 92,
   "metadata": {
    "ExecuteTime": {
     "end_time": "2021-10-28T03:53:27.349577Z",
     "start_time": "2021-10-28T03:53:27.342568Z"
    },
    "scrolled": true
   },
   "outputs": [
    {
     "name": "stdout",
     "output_type": "stream",
     "text": [
      "None\n",
      "None\n",
      "None\n",
      "None\n",
      "None\n"
     ]
    }
   ],
   "source": [
    "def even_count(nums: List[int]) -> int:\n",
    "    pass\n",
    "\n",
    "# 아래는 수정하지 마시오.\n",
    "print(even_count([]))\n",
    "print(even_count([1,2,3,5]))\n",
    "print(even_count([1,3,3,4,5,6,7,5]))\n",
    "print(even_count([4,3,5,1,5,2,6]))\n",
    "print(even_count([10,11,15,7,5,8,2,4]))\n"
   ]
  },
  {
   "cell_type": "markdown",
   "metadata": {},
   "source": [
    "---\n",
    "### 문제4\n",
    "\n",
    "연결리스트 클래스에서 마지막에 노드를 추가하는 add_last() 메소드를 작성하시오.\n",
    "\n",
    "***결과***\n",
    "```\n",
    "A->B->C\n",
    "A->B->C->D->E->F\n",
    "```"
   ]
  },
  {
   "cell_type": "code",
   "execution_count": 15,
   "metadata": {
    "ExecuteTime": {
     "end_time": "2021-10-28T03:53:43.386773Z",
     "start_time": "2021-10-28T03:53:43.374805Z"
    },
    "scrolled": false
   },
   "outputs": [
    {
     "name": "stdout",
     "output_type": "stream",
     "text": [
      "A->B->C\n",
      "A->B->C->D->E->F\n"
     ]
    }
   ],
   "source": [
    "class Node:\n",
    "    \"\"\"연결 리스트용 노드 클래스\"\"\"\n",
    "\n",
    "    def __init__(self, data: Any = None, next: Node = None):\n",
    "        \"\"\"초기화\"\"\"\n",
    "        self.data = data  # 데이터\n",
    "        self.next = next  # 뒤쪽 포인터\n",
    "\n",
    "\n",
    "class LinkedList:\n",
    "    \"\"\"연결 리스트 클래스\"\"\"\n",
    "\n",
    "    def __init__(self) -> None:\n",
    "        \"\"\"초기화\"\"\"\n",
    "        self.no = 0          # 노드의 개수\n",
    "        self.head = None     # 머리 노드\n",
    "\n",
    "    def __len__(self) -> int:\n",
    "        \"\"\"연결 리스트의 노드 개수를 반환\"\"\"\n",
    "        return self.no\n",
    "\n",
    "    def add_first(self, data: Any) -> None:\n",
    "        \"\"\"맨 앞에 노드를 삽입\"\"\"\n",
    "        ptr = self.head  # 삽입 전의 머리 노드\n",
    "        self.head = Node(data, ptr)\n",
    "        self.no += 1\n",
    "\n",
    "    ## 이 메소드를 수정하시오.\n",
    "    def add_last(self, data: Any):\n",
    "        \"\"\"맨 끝에 노드를 삽입\"\"\"\n",
    "        \n",
    "        if self.head is None:\n",
    "            self.add_first(data)\n",
    "        else:\n",
    "            ptr = self.head\n",
    "            while ptr.next is not None:\n",
    "                ptr = ptr.next\n",
    "            ptr.next = Node(data , None)\n",
    "            self.no +=1 \n",
    "        \n",
    "    def print(self) -> None:\n",
    "        \"\"\"모든 노드를 출력\"\"\"\n",
    "        ptr = self.head\n",
    "\n",
    "        while ptr is not None:\n",
    "            print(ptr.data, end='')\n",
    "            if ptr.next is not None:\n",
    "                print('->', end='')\n",
    "            else:\n",
    "                print()\n",
    "            ptr = ptr.next\n",
    "\n",
    "        \n",
    "## 아래는 수정하지 마시오.\n",
    "my_list = LinkedList()\n",
    "my_list.add_last('A')\n",
    "my_list.add_last('B')\n",
    "my_list.add_last('C')\n",
    "my_list.print()\n",
    "my_list.add_last('D')\n",
    "my_list.add_last('E')\n",
    "my_list.add_last('F')\n",
    "my_list.print()\n",
    "\n",
    "\n"
   ]
  },
  {
   "cell_type": "markdown",
   "metadata": {},
   "source": [
    "---\n",
    "### 문제5\n",
    "\n",
    "LinkedListStack 클래스에서 pop_second() 메소드를 작성하시오.\n",
    "\n",
    "pop_second() 메소드는 스택에서 탑 바로 다음에 있는 노드를 삭제하고 데이터를 리턴하는 메소드이다.(삭제되는 노드의 데이터는 리턴된다.)\n",
    "\n",
    "만약 스택이 비어있거나 탑 바로 다음에 노드가 없다면 삭제는 일어나지 않고 None을 리턴한다.\n",
    " \n",
    "***결과***\n",
    "```\n",
    "Top:3->2->1\n",
    "pop_second(): 2\n",
    "Top:3->1\n",
    "pop_second(): 1\n",
    "Top:3\n",
    "pop_second(): None\n",
    "```"
   ]
  },
  {
   "cell_type": "code",
   "execution_count": 79,
   "metadata": {
    "ExecuteTime": {
     "end_time": "2021-10-28T03:54:59.518239Z",
     "start_time": "2021-10-28T03:54:59.508255Z"
    }
   },
   "outputs": [
    {
     "name": "stdout",
     "output_type": "stream",
     "text": [
      "Top:3->2->1\n",
      "pop_second(): 2\n",
      "Top:3->1\n",
      "pop_second(): 1\n",
      "Top:3\n"
     ]
    },
    {
     "ename": "AttributeError",
     "evalue": "'NoneType' object has no attribute 'data'",
     "output_type": "error",
     "traceback": [
      "\u001b[1;31m---------------------------------------------------------------------------\u001b[0m",
      "\u001b[1;31mAttributeError\u001b[0m                            Traceback (most recent call last)",
      "\u001b[1;32m~\\AppData\\Local\\Temp/ipykernel_4744/4056691278.py\u001b[0m in \u001b[0;36m<module>\u001b[1;34m\u001b[0m\n\u001b[0;32m     78\u001b[0m \u001b[0mprint\u001b[0m\u001b[1;33m(\u001b[0m\u001b[1;34m\"pop_second():\"\u001b[0m\u001b[1;33m,\u001b[0m\u001b[0mstack\u001b[0m\u001b[1;33m.\u001b[0m\u001b[0mpop_second\u001b[0m\u001b[1;33m(\u001b[0m\u001b[1;33m)\u001b[0m\u001b[1;33m)\u001b[0m \u001b[1;31m# 1 제거\u001b[0m\u001b[1;33m\u001b[0m\u001b[1;33m\u001b[0m\u001b[0m\n\u001b[0;32m     79\u001b[0m \u001b[0mstack\u001b[0m\u001b[1;33m.\u001b[0m\u001b[0mprint\u001b[0m\u001b[1;33m(\u001b[0m\u001b[1;33m)\u001b[0m\u001b[1;33m\u001b[0m\u001b[1;33m\u001b[0m\u001b[0m\n\u001b[1;32m---> 80\u001b[1;33m \u001b[0mprint\u001b[0m\u001b[1;33m(\u001b[0m\u001b[1;34m\"pop_second():\"\u001b[0m\u001b[1;33m,\u001b[0m\u001b[0mstack\u001b[0m\u001b[1;33m.\u001b[0m\u001b[0mpop_second\u001b[0m\u001b[1;33m(\u001b[0m\u001b[1;33m)\u001b[0m\u001b[1;33m)\u001b[0m \u001b[1;31m# IndexError 발생\u001b[0m\u001b[1;33m\u001b[0m\u001b[1;33m\u001b[0m\u001b[0m\n\u001b[0m\u001b[0;32m     81\u001b[0m \u001b[1;33m\u001b[0m\u001b[0m\n",
      "\u001b[1;32m~\\AppData\\Local\\Temp/ipykernel_4744/4056691278.py\u001b[0m in \u001b[0;36mpop_second\u001b[1;34m(self)\u001b[0m\n\u001b[0;32m     36\u001b[0m \u001b[1;33m\u001b[0m\u001b[0m\n\u001b[0;32m     37\u001b[0m         \u001b[1;32mif\u001b[0m \u001b[1;32mnot\u001b[0m \u001b[0mself\u001b[0m\u001b[1;33m.\u001b[0m\u001b[0mis_empty\u001b[0m\u001b[1;33m(\u001b[0m\u001b[1;33m)\u001b[0m \u001b[1;33m:\u001b[0m\u001b[1;33m\u001b[0m\u001b[1;33m\u001b[0m\u001b[0m\n\u001b[1;32m---> 38\u001b[1;33m             \u001b[0mdata\u001b[0m \u001b[1;33m=\u001b[0m \u001b[0mself\u001b[0m\u001b[1;33m.\u001b[0m\u001b[0mtop\u001b[0m\u001b[1;33m.\u001b[0m\u001b[0mnext\u001b[0m\u001b[1;33m.\u001b[0m\u001b[0mdata\u001b[0m \u001b[1;31m# 2 리턴 / 3 1 - 1 리턴 / 3\u001b[0m\u001b[1;33m\u001b[0m\u001b[1;33m\u001b[0m\u001b[0m\n\u001b[0m\u001b[0;32m     39\u001b[0m             \u001b[0mself\u001b[0m\u001b[1;33m.\u001b[0m\u001b[0mtop\u001b[0m\u001b[1;33m.\u001b[0m\u001b[0mnext\u001b[0m \u001b[1;33m=\u001b[0m \u001b[0mself\u001b[0m\u001b[1;33m.\u001b[0m\u001b[0mtop\u001b[0m\u001b[1;33m.\u001b[0m\u001b[0mnext\u001b[0m\u001b[1;33m.\u001b[0m\u001b[0mnext\u001b[0m \u001b[1;31m# 2 제거 /  3 1  / 1 제거\u001b[0m\u001b[1;33m\u001b[0m\u001b[1;33m\u001b[0m\u001b[0m\n\u001b[0;32m     40\u001b[0m             \u001b[0mself\u001b[0m\u001b[1;33m.\u001b[0m\u001b[0mno\u001b[0m \u001b[1;33m-=\u001b[0m \u001b[1;36m1\u001b[0m\u001b[1;33m\u001b[0m\u001b[1;33m\u001b[0m\u001b[0m\n",
      "\u001b[1;31mAttributeError\u001b[0m: 'NoneType' object has no attribute 'data'"
     ]
    }
   ],
   "source": [
    "class Node:\n",
    "    \"\"\"연결 리스트용 노드 클래스\"\"\"\n",
    "\n",
    "    def __init__(self, data: Any = None, next: Node = None):\n",
    "        \"\"\"초기화\"\"\"\n",
    "        self.data = data  # 데이터\n",
    "        self.next = next  # 뒤쪽 포인터\n",
    "\n",
    "\n",
    "class LinkedListStack:\n",
    "    \"\"\"연결리스트를 이용한 스택 클래스\"\"\"\n",
    "\n",
    "    def __init__(self) -> None:\n",
    "        \"\"\"초기화\"\"\"\n",
    "        self.no = 0          # 노드의 개수\n",
    "        self.top = None     # 탑 노드\n",
    "\n",
    "    def __len__(self) -> int:\n",
    "        \"\"\"스택의 크기 반환\"\"\"\n",
    "        return self.no\n",
    "    \n",
    "    def is_empty(self) -> bool:\n",
    "        \"\"\"스택이 비어있는지 확인\"\"\"\n",
    "        return self.top is None\n",
    "\n",
    "    def push(self, data: Any) -> None:\n",
    "        \"\"\"스택에 데이터를 푸시\"\"\"\n",
    "        ptr = self.top  # 푸시 전의 탑 노드\n",
    "        self.top = Node(data, ptr)\n",
    "        self.no += 1\n",
    "            \n",
    "    ### 이 메소드를 완성하시오.\n",
    "    def pop_second(self) -> Any:\n",
    "        \"\"\"스택에서 탑 뒤에 있는 데이터를 꺼냄(삭제)\"\"\"\n",
    "        \n",
    "\n",
    "        if not self.is_empty() :\n",
    "            data = self.top.next.data # 2 리턴 / 3 1 - 1 리턴 / 3 \n",
    "            self.top.next = self.top.next.next # 2 제거 /  3 1  / 1 제거  \n",
    "            self.no -= 1\n",
    "#             return dat        \n",
    "            if self.no == 0 : \n",
    "                data = self.top.data\n",
    "                self.top = self.top.next\n",
    "                return data\n",
    "            else:\n",
    "                return data\n",
    "\n",
    "        \n",
    "        \n",
    "        \n",
    "        \n",
    "        \n",
    "        else:\n",
    "            raise IndexError('스택이 비어있습니다.')\n",
    "            \n",
    "    \n",
    "    def print(self) -> None:\n",
    "        \"\"\"스택의 모든 데이터를 탑에서 부터 출력\"\"\"\n",
    "        ptr = self.top\n",
    "        print(\"Top:\", end='')\n",
    "        while ptr is not None:\n",
    "            print(ptr.data, end='')\n",
    "            if ptr.next is not None:\n",
    "                print('->', end='')\n",
    "            else:\n",
    "                print()\n",
    "            ptr = ptr.next\n",
    "\n",
    "# 아래는 수정하지 마시오.\n",
    "stack = LinkedListStack()\n",
    "stack.push(1)\n",
    "stack.push(2)\n",
    "stack.push(3)\n",
    "stack.print()\n",
    "print(\"pop_second():\",stack.pop_second()) # 2 제거\n",
    "stack.print()\n",
    "print(\"pop_second():\",stack.pop_second()) # 1 제거\n",
    "stack.print()\n",
    "print(\"pop_second():\",stack.pop_second()) # IndexError 발생\n",
    "\n"
   ]
  },
  {
   "cell_type": "markdown",
   "metadata": {},
   "source": [
    "---\n",
    "### 문제6\n",
    "\n",
    "LinkedListQueue 클래스의 dequeue() 메소드를 작성하시오.\n",
    "\n",
    "***결과***\n",
    "```\n",
    "1\n",
    "2\n",
    "Front: 3->4->5 :Rear\n",
    "```"
   ]
  },
  {
   "cell_type": "code",
   "execution_count": 17,
   "metadata": {
    "ExecuteTime": {
     "end_time": "2021-10-28T03:57:02.579730Z",
     "start_time": "2021-10-28T03:57:02.566763Z"
    }
   },
   "outputs": [
    {
     "name": "stdout",
     "output_type": "stream",
     "text": [
      "1\n",
      "2\n",
      "Front: 3->4->5 :Rear\n"
     ]
    }
   ],
   "source": [
    "class Node:\n",
    "    \"\"\"연결 리스트용 노드 클래스\"\"\"\n",
    "\n",
    "    def __init__(self, data: Any = None, next: Node = None):\n",
    "        \"\"\"초기화\"\"\"\n",
    "        self.data = data  # 데이터\n",
    "        self.next = next  # 뒤쪽 포인터\n",
    "\n",
    "\n",
    "class LinkedListQueue:\n",
    "    \"\"\"연결리스트를 이용한 큐 클래스\"\"\"\n",
    "\n",
    "    def __init__(self) -> None:\n",
    "        \"\"\"초기화\"\"\"\n",
    "        self.no = 0 # 노드의 개수\n",
    "        self.front = None # 프런트 노드\n",
    "        self.rear = None # 리어 노드     \n",
    "\n",
    "    def __len__(self) -> int:\n",
    "        \"\"\"큐의 크기 반환\"\"\"\n",
    "        return self.no\n",
    "    \n",
    "    def is_empty(self) -> bool:\n",
    "        \"\"\"큐가 비어있는지 확인\"\"\"\n",
    "        return self.front is None\n",
    "\n",
    "    def enqueue(self, data: Any) -> None:\n",
    "        \"\"\"큐의 리어에 데이터를 삽입\"\"\"\n",
    "        node = Node(data)\n",
    "        if self.is_empty():\n",
    "            self.front = node\n",
    "            self.rear = node\n",
    "        else:\n",
    "            self.rear.next = node\n",
    "            self.rear = self.rear.next\n",
    "        self.no += 1\n",
    "    \n",
    "    ### 이 메소드를 완성하시오.\n",
    "    def dequeue(self) -> Any:\n",
    "        \"\"\"큐에서 프런트에 있는 데이터를 꺼냄(삭제)\"\"\"\n",
    "        if not self.is_empty():\n",
    "            data = self.front.data\n",
    "            self.front = self.front.next\n",
    "            self.no -= 1 \n",
    "            return data \n",
    "        \n",
    "        raise IndexError(\"Queue is empty.\")\n",
    "            \n",
    "    def print(self) -> None:\n",
    "        \"\"\"큐의 모든 데이터를 프런트에서부터 출력\"\"\"\n",
    "        ptr = self.front\n",
    "        print(\"Front: \", end='')\n",
    "        while ptr is not None:\n",
    "            print(ptr.data, end='')\n",
    "            if ptr.next is not None:\n",
    "                print('->', end='')\n",
    "            ptr = ptr.next\n",
    "        print(' :Rear')\n",
    "        \n",
    "# 아래는 수정하지 마시오.\n",
    "queue = LinkedListQueue()\n",
    "\n",
    "queue.enqueue(1)\n",
    "queue.enqueue(2)\n",
    "queue.enqueue(3)\n",
    "print(queue.dequeue())\n",
    "queue.enqueue(4)\n",
    "print(queue.dequeue())\n",
    "queue.enqueue(5)\n",
    "queue.print()\n",
    "\n"
   ]
  },
  {
   "cell_type": "markdown",
   "metadata": {},
   "source": [
    "---\n",
    "### 문제7\n",
    "\n",
    "```\n",
    "이번 계절학기에 심리학 개론을 수강 중인 평석이는 오늘 자정까지 보고서를 제출해야 한다. 보고서 작성이 너무 지루했던 평석이는 노트북에 엎드려서 꾸벅꾸벅 졸다가 제출 마감 1시간 전에 깨고 말았다. 안타깝게도 자는 동안 키보드가 잘못 눌려서 보고서의 모든 글자가 A와 B로 바뀌어 버렸다! 그래서 평석이는 보고서 작성을 때려치우고 보고서에서 '좋은 단어'를 찾아보기로 하였다.\n",
    "\n",
    "평석이는 단어 위로 아치형 곡선을 그어 같은 글자끼리(A는 A끼리, B는 B끼리) 쌍을 짓기로 하였다. 만약 선끼리 교차하지 않으면서 각 글자를 정확히 한 개의 다른 위치에 있는 같은 글자와 짝 지을수 있다면, 그 단어는 '좋은 단어'이다. 평석이가 '좋은 단어' 찾을 수 있도록 도와 주자.\n",
    "```\n",
    "\n",
    "***입력***\n",
    "```\n",
    "word:\n",
    "    A와 B로만 이루어진 문자열\n",
    "```\n",
    "\n",
    "\n",
    "***리턴***\n",
    "```\n",
    "word가 '좋은 단어'이면 True를 리턴하고 아니면 False를 리턴한다.\n",
    "```\n",
    "\n",
    "***결과***\n",
    "```\n",
    "True\n",
    "True\n",
    "True\n",
    "True\n",
    "False\n",
    "False\n",
    "False\n",
    "False\n",
    "```"
   ]
  },
  {
   "cell_type": "code",
   "execution_count": null,
   "metadata": {
    "ExecuteTime": {
     "end_time": "2021-10-28T03:57:28.669950Z",
     "start_time": "2021-10-28T03:57:28.662969Z"
    },
    "scrolled": true
   },
   "outputs": [],
   "source": [
    "def good_word(word: str) -> bool:\n",
    "    \n",
    "    # \n",
    "    \n",
    "#     while good_word is not None:\n",
    "        \n",
    "#         if word ==  \n",
    "        \n",
    "#             return True\n",
    "#         else: \n",
    "#             return False\n",
    "    pass\n",
    "# 아래는 수정하지 마시오.\n",
    "print(good_word(\"BB\"))\n",
    "print(good_word(\"ABBA\"))\n",
    "print(good_word(\"BBAA\"))\n",
    "print(good_word(\"ABBAAA\"))\n",
    "\n",
    "print(good_word(\"B\"))\n",
    "print(good_word(\"AB\"))\n",
    "print(good_word(\"ABBB\"))\n",
    "print(good_word(\"BAABAB\"))\n",
    "\n",
    "\n",
    "\n"
   ]
  },
  {
   "cell_type": "markdown",
   "metadata": {},
   "source": [
    "### 수고하셨습니다.\n",
    "제출후 모든 파일을 반드시 삭제하세요."
   ]
  }
 ],
 "metadata": {
  "kernelspec": {
   "display_name": "Python 3 (ipykernel)",
   "language": "python",
   "name": "python3"
  },
  "language_info": {
   "codemirror_mode": {
    "name": "ipython",
    "version": 3
   },
   "file_extension": ".py",
   "mimetype": "text/x-python",
   "name": "python",
   "nbconvert_exporter": "python",
   "pygments_lexer": "ipython3",
   "version": "3.8.11"
  },
  "toc": {
   "base_numbering": 1,
   "nav_menu": {},
   "number_sections": true,
   "sideBar": true,
   "skip_h1_title": false,
   "title_cell": "Table of Contents",
   "title_sidebar": "Contents",
   "toc_cell": false,
   "toc_position": {},
   "toc_section_display": true,
   "toc_window_display": false
  }
 },
 "nbformat": 4,
 "nbformat_minor": 2
}
