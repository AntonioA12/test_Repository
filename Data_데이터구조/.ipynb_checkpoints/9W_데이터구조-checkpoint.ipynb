{
 "cells": [
  {
   "cell_type": "markdown",
   "metadata": {},
   "source": [
    "## 탐색 알고리즘\n",
    "\n",
    "    탐색 방법 3가지\n",
    "        선형 탐색\n",
    "        이진 탐색 \n",
    "        해시 탐색 \n",
    "        \n",
    "    탐색 알고리즘\n",
    "        저장된 데이터에서 [ 특정 조건 ] 을 만족하는 데이터를 찾는 알고리즘 \n",
    "            ex) key 국적 , 나이 , 이름 , \n",
    "    Key \n",
    "        탐색 조건에서 주목하는 항목\n",
    "        데이터 값이 그대로 키값이 될 수 있음 ( 특별한 경우 )\n",
    "        \n",
    "### 선형탐색 O(N) \n",
    "\n",
    "    직선으로 늘어난 데이터에서 \n",
    "    A 부터 Z 까지 순서대로 특정조건을 찾는 방법 ( 검색 성공 까지 ) \n",
    "    \n",
    "    종료조건 \n",
    "        1. Z 까지 도달함에도 불구하고 검색 실패\n",
    "        2. 검색 성공 \n",
    "        \n",
    "    Sequence = 리스트 , 문자열 , 튜플을 모두 포함하는 자료형 "
   ]
  },
  {
   "cell_type": "code",
   "execution_count": 11,
   "metadata": {},
   "outputs": [
    {
     "name": "stdout",
     "output_type": "stream",
     "text": [
      "3\n",
      "-1\n"
     ]
    }
   ],
   "source": [
    "from typing import Any, Sequence\n",
    "\n",
    "# 선형 탐색 \n",
    "def linear_search( seq: Sequence , target : Any) -> int :\n",
    "    # target = key \n",
    "    for i in range(len(seq)):\n",
    "        if seq[i] == target: # seq 인덱스 값과 타겟 값이 값으면 인덱스 값을 리턴 \n",
    "            return i # 검색 성공 \n",
    "    return -1 # 검색 실패\n",
    "\n",
    "print( linear_search([6,4,3,2,1,2,8],2))\n",
    "print( linear_search([6,4,3,2,1,2,8],5))"
   ]
  },
  {
   "cell_type": "markdown",
   "metadata": {},
   "source": [
    "### 이진탐색 O(logN) \n",
    "\n",
    "    데이터가 정렬이 되어있다면\n",
    "    가운데 데이터 부터 검색 시작\n",
    "    \n",
    "    예를 들어 10 의 배수 로 정렬되어있는 데이터 구조에서\n",
    "        10 20 30 40 50 60 70 80 90 \n",
    "                    -> -> -> -> -> -> \n",
    "    55를 찾는다면\n",
    "    50 부터 시작하여 오른쪽에서 부터 검색 ( 왼쪽은 검색조차 안함 ) \n",
    "    검색 횟수와 검색 시간이 매우 단축 \n",
    "    \n",
    "    단 , 반드시 Key 가 [ 정렬된 상태 ] 이어야 한다. \n",
    "    선형 탐색 보다 빠르게 탐색가능 \n",
    "    \n",
    "    속도 순위 : O(1) > O(logN) > O(N) \n",
    "    \n",
    "### 탐색방법\n",
    "\n",
    "    L , M , R 위치 지정\n",
    "    L = 맨 왼쪽\n",
    "    M = 중앙\n",
    "    R = 맨 끝 \n",
    "    \n",
    "    찾고하는 키 값에 따라 L,M,R 의 위치가 다르다. \n",
    "    L M R \n",
    "    1 50 100 일 떄,\n",
    "    \n",
    "    ( L M R 위치를 계속하여 변경함으로써 검색 횟수를 낮춤 ) \n",
    "    t 타겟값이 M보다 크다면 L 은 M+1 이 새로운 L 의 위치\n",
    "    t 타겟값이 M보다 작다면  R은 M-1 이 새로운 R 의 위치 \n",
    "    동일한 LMR 위치가 t 값 \n",
    "    \n",
    "    t 를 찾았다면 M의 위치를 리턴 \n",
    "    t를 찾지 못하면 LR 만 남고 M 이 없게 됨 ( - 1 리턴 ) "
   ]
  },
  {
   "cell_type": "code",
   "execution_count": 19,
   "metadata": {},
   "outputs": [
    {
     "name": "stdout",
     "output_type": "stream",
     "text": [
      "2\n",
      "-1\n"
     ]
    }
   ],
   "source": [
    "from typing import Any, Sequence\n",
    "def binary_search_iter( seq: Sequence , target : Any) -> int:\n",
    "    \n",
    "    left = 0  # 맨 왼쪽\n",
    "    right = len(seq) -1 # 맨 오른쪽 \n",
    "    \n",
    "    while left <= right: # 검색 성공 조건 L R 까지 while 문 반복 \n",
    "        \n",
    "        mid = ( left + right) //2 # 중앙위치 \n",
    "        \n",
    "        if seq[mid] == target: \n",
    "            return mid # 검색 성공 \n",
    "        elif seq[mid] > target: # M 보다 t 가 작으면 오른쪽 범위 삭제 ( M -1 )\n",
    "            right = mid - 1 \n",
    "        else: # t 가 M 보다 크기 떄문에 왼쪽 범위 삭제 ( M + 1 )\n",
    "            left = mid + 1 \n",
    "            \n",
    "    return -1 # 검색 실패 시 -1 \n",
    "\n",
    "nums = sorted([6,4,3,2,1,7,8])\n",
    "print( binary_search_iter( nums , 3))\n",
    "print( binary_search_iter( nums , 5))"
   ]
  },
  {
   "cell_type": "markdown",
   "metadata": {},
   "source": [
    "## 재귀적 이진탐색\n",
    "\n",
    "    중첩함수 ( nested Function ) \n",
    "        함수 내부에 정의된 또다른 함수\n",
    "        중첩 함수는 해당 함수가 선언된 함수 내에서 호출 가능 \n",
    "        \n",
    "        A 함수 안에서 B 함수를 정의\n",
    "        B 함수는 오직 A 함수 안에서만 호출이 가능하다. "
   ]
  },
  {
   "cell_type": "code",
   "execution_count": 20,
   "metadata": {},
   "outputs": [
    {
     "name": "stdout",
     "output_type": "stream",
     "text": [
      "2\n",
      "-1\n"
     ]
    }
   ],
   "source": [
    "from typing import Any, Sequence\n",
    "def binary_search_recursive( seq: Sequence , target : Any) -> int:\n",
    "    def recur(left, right):\n",
    "        nonlocal seq, target # 오직 여기서만 호출 가능한 \n",
    "        if left > right :\n",
    "            return -1 \n",
    "        mid = ( left + right ) // 2\n",
    "        \n",
    "        if seq[mid] == target: \n",
    "            return mid # 검색 성공 \n",
    "        elif seq[mid] > target: # M 보다 t 가 작으면 오른쪽 범위 삭제 ( M -1 )\n",
    "            return recur( left, mid-1) \n",
    "        else: # t 가 M 보다 크기 떄문에 왼쪽 범위 삭제 ( M + 1 )\n",
    "            return recur( mid +1 , right )\n",
    "            \n",
    "    return recur(0 , len(seq)-1 ) # recur( L 위치, R 위치 )\n",
    "\n",
    "nums = sorted([6,4,3,2,1,7,8])\n",
    "print( binary_search_iter( nums , 3))\n",
    "print( binary_search_iter( nums , 5))"
   ]
  },
  {
   "cell_type": "markdown",
   "metadata": {},
   "source": [
    "## 해시탐색 O(1) \n",
    "\n",
    "    \n",
    "    해싱을 이용하여 가장 빠르다 \n",
    "    아주 특별한 경우에만 O(N) 이나, 매우 드문 경우이다. \n",
    "    \n",
    "    해싱 \n",
    "        키를 해시 함수를 이용하여 배열의 인덱스로 변환 \n",
    "    해시 함수\n",
    "        키를 변환 시켜주는 함수 \n",
    "    해시 값 \n",
    "        해시 함수가 계산한 값 \n",
    "    해시 텐이블 \n",
    "        데이터를 해시 값에 따라 저장한 배열 "
   ]
  },
  {
   "cell_type": "code",
   "execution_count": null,
   "metadata": {},
   "outputs": [],
   "source": []
  }
 ],
 "metadata": {
  "kernelspec": {
   "display_name": "Python 3",
   "language": "python",
   "name": "python3"
  },
  "language_info": {
   "codemirror_mode": {
    "name": "ipython",
    "version": 3
   },
   "file_extension": ".py",
   "mimetype": "text/x-python",
   "name": "python",
   "nbconvert_exporter": "python",
   "pygments_lexer": "ipython3",
   "version": "3.8.5"
  }
 },
 "nbformat": 4,
 "nbformat_minor": 4
}
