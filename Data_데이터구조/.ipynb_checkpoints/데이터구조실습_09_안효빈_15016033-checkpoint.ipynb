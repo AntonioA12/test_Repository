{
 "cells": [
  {
   "cell_type": "code",
   "execution_count": null,
   "metadata": {
    "ExecuteTime": {
     "end_time": "2019-09-03T15:10:03.561712Z",
     "start_time": "2019-09-03T15:10:03.552711Z"
    }
   },
   "outputs": [],
   "source": [
    "from IPython.core.display import display, HTML\n",
    "display(HTML(\"<style>.container { width:95% !important; }</style>\"))\n",
    "display(HTML(\"<style>.input_area pre {font-family: Consolas; font-size: 15pt; line-height: 140%; font-weight: bold}</style>\"))\n",
    "display(HTML(\"<style>.output_area pre {font-family: Consolas; font-size: 15pt; line-height: 140%;}</style>\"))\n"
   ]
  },
  {
   "cell_type": "markdown",
   "metadata": {},
   "source": [
    "# 파일 이름에서 '학번'을 자신의 학번으로, '이름'을 자신의 이름으로 고치시오."
   ]
  },
  {
   "cell_type": "markdown",
   "metadata": {},
   "source": [
    "# 문제1\n",
    "\n",
    "아래 셀을 실행시키시오.\n"
   ]
  },
  {
   "cell_type": "code",
   "execution_count": 1,
   "metadata": {},
   "outputs": [
    {
     "name": "stdout",
     "output_type": "stream",
     "text": [
      "[1, 2, 2, 4, 5, 5, 6, 7, 8, 9]\n"
     ]
    }
   ],
   "source": [
    "def selection_sort(seq: list) -> None:\n",
    "    \"\"\"선택 정렬\"\"\"\n",
    "    n = len(seq)\n",
    "    for i in range(n - 1):\n",
    "        # i: 정렬 안된 부분에서 맨 앞 원소의 인덱스\n",
    "        # min_idx: 정렬 안된 부분에서 가장 작은 원소의 인덱스\n",
    "        min_idx = i\n",
    "        for j in range(i + 1, n): \n",
    "            if seq[j] < seq[min_idx]:\n",
    "                min_idx = j # min_idx 업데이트\n",
    "        \n",
    "        # i와 min_idx의 원소를 교환 \n",
    "        seq[i], seq[min_idx] = seq[min_idx], seq[i]\n",
    "        \n",
    "arr = [4,5,2,1,9,6,7,8,2,5]\n",
    "selection_sort(arr)\n",
    "print(arr)\n",
    "        "
   ]
  },
  {
   "cell_type": "markdown",
   "metadata": {},
   "source": [
    "# 문제2\n",
    "\n",
    "아래 셀을 실행시키시오.\n"
   ]
  },
  {
   "cell_type": "code",
   "execution_count": 2,
   "metadata": {
    "scrolled": true
   },
   "outputs": [
    {
     "name": "stdout",
     "output_type": "stream",
     "text": [
      "[1, 2, 2, 4, 5, 5, 6, 7, 8, 9]\n"
     ]
    }
   ],
   "source": [
    "def insertion_sort(seq: list) -> None:\n",
    "    \"\"\"삽입 정렬\"\"\"\n",
    "    n = len(seq)\n",
    "    for i in range(1, n):\n",
    "        # i: 정렬 안된 부분에서 맨 앞 원소의 인덱스(삽입할 데이터의 인덱스)\n",
    "        for j in range(i, 0, -1):\n",
    "            # j: 삽입할 데이터의 현재 인덱스\n",
    "            if seq[j - 1] > seq[j]:\n",
    "                seq[j - 1], seq[j] = seq[j], seq[j - 1]\n",
    "            else:\n",
    "                break\n",
    "        \n",
    "arr = [4,5,2,1,9,6,7,8,2,5]\n",
    "insertion_sort(arr)\n",
    "print(arr)\n",
    "        "
   ]
  },
  {
   "cell_type": "markdown",
   "metadata": {},
   "source": [
    "# 문제3\n",
    "\n",
    "아래 셀을 실행시키시오.\n"
   ]
  },
  {
   "cell_type": "code",
   "execution_count": 3,
   "metadata": {},
   "outputs": [
    {
     "name": "stdout",
     "output_type": "stream",
     "text": [
      "[1, 2, 4, 5, 6, 7]\n"
     ]
    }
   ],
   "source": [
    "def merge(left: list, right: list) -> list:\n",
    "    \"\"\"합병\"\"\"\n",
    "    result = [None] * (len(left) + len(right))\n",
    "    i = 0\n",
    "    j = 0\n",
    "    for k in range(len(result)):\n",
    "        if i < len(left) and j < len(right):\n",
    "            # 왼쪽리스트와 오른쪽리스트 모두 처리해야 할 데이터가 있는 경우\n",
    "            if left[i] < right[j]: # left[i]가 작은 경우\n",
    "                result[k] = left[i]\n",
    "                i += 1\n",
    "            else:\n",
    "                result[k] = right[j] # right[j]가 작은 경우\n",
    "                j += 1\n",
    "        elif i >= len(left): # 왼쪽리스트 소진\n",
    "            result[k] = right[j]\n",
    "            j += 1\n",
    "        elif j >= len(right): # 오른쪽리스트 소진\n",
    "            result[k] = left[i]\n",
    "            i += 1\n",
    "    return result\n",
    "\n",
    "print(merge([1,4,6], [2,5,7]))"
   ]
  },
  {
   "cell_type": "code",
   "execution_count": 4,
   "metadata": {},
   "outputs": [
    {
     "name": "stdout",
     "output_type": "stream",
     "text": [
      "[1, 1, 2, 2, 3, 4, 4, 5, 5, 6, 7, 8, 9]\n"
     ]
    }
   ],
   "source": [
    "def merge_sort(seq: list) -> None:\n",
    "    \"\"\"합병 정렬\"\"\"\n",
    "    if len(seq) <= 1:\n",
    "        return seq\n",
    "    \n",
    "    ## 분할\n",
    "    mid = len(seq) // 2\n",
    "    left = seq[:mid]\n",
    "    right = seq[mid:]\n",
    "    \n",
    "    ## 정복(재귀적 합병정렬)\n",
    "    merge_sort(left)\n",
    "    merge_sort(right)\n",
    "    \n",
    "    ## 합병\n",
    "    merged = merge(left, right)\n",
    "    for i in range(len(seq)):\n",
    "        seq[i] = merged[i]\n",
    "\n",
    "arr = [1,5,2,6,7,2,4,8,9,4,5,3,1]\n",
    "merge_sort(arr)\n",
    "print(arr)"
   ]
  },
  {
   "cell_type": "markdown",
   "metadata": {},
   "source": [
    "# 문제4\n",
    "\n",
    "아래 셀을 실행시키시오.\n"
   ]
  },
  {
   "cell_type": "code",
   "execution_count": 5,
   "metadata": {},
   "outputs": [
    {
     "name": "stdout",
     "output_type": "stream",
     "text": [
      "[1, 2, 3, 3, 3, 4, 4, 4, 4, 5, 5, 5, 5, 6, 6, 6, 7, 7, 8, 9, 9]\n"
     ]
    }
   ],
   "source": [
    "def quick_sort(seq: list) -> None:\n",
    "    \"\"\"퀵 정렬\"\"\"\n",
    "    def partition(left: int, right: int) -> int:\n",
    "        i = left + 1\n",
    "        j = right\n",
    "        pivot = left\n",
    "        while True:\n",
    "            while i <= j and seq[i] < seq[pivot]:\n",
    "                i += 1\n",
    "            while i <= j and seq[j] > seq[pivot]:\n",
    "                j -= 1\n",
    "            if i <= j:\n",
    "                seq[i], seq[j] = seq[j], seq[i]\n",
    "                i += 1\n",
    "                j -= 1\n",
    "            else:\n",
    "                break\n",
    "        seq[pivot], seq[j] = seq[j], seq[pivot]\n",
    "        return j\n",
    "    \n",
    "    def sort(left: int, right: int) -> None:\n",
    "        if left < right:\n",
    "            pivot = partition(left, right)\n",
    "            sort(left, pivot - 1)\n",
    "            sort(pivot + 1, right)\n",
    "\n",
    "    sort(0, len(seq) - 1)\n",
    "\n",
    "arr = [1,8,7,4,5,2,6,3,9, 6, 4, 5, 6,7, 4, 3, 5, 3, 4, 5,9]\n",
    "quick_sort(arr)\n",
    "print(arr)\n"
   ]
  },
  {
   "cell_type": "code",
   "execution_count": null,
   "metadata": {},
   "outputs": [],
   "source": []
  }
 ],
 "metadata": {
  "kernelspec": {
   "display_name": "Python 3",
   "language": "python",
   "name": "python3"
  },
  "language_info": {
   "codemirror_mode": {
    "name": "ipython",
    "version": 3
   },
   "file_extension": ".py",
   "mimetype": "text/x-python",
   "name": "python",
   "nbconvert_exporter": "python",
   "pygments_lexer": "ipython3",
   "version": "3.8.5"
  }
 },
 "nbformat": 4,
 "nbformat_minor": 4
}
