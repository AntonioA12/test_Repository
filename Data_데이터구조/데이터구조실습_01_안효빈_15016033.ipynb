{
 "cells": [
  {
   "cell_type": "code",
   "execution_count": 1,
   "metadata": {
    "ExecuteTime": {
     "end_time": "2019-09-03T15:10:03.561712Z",
     "start_time": "2019-09-03T15:10:03.552711Z"
    }
   },
   "outputs": [
    {
     "data": {
      "text/html": [
       "<style>.container { width:95% !important; }</style>"
      ],
      "text/plain": [
       "<IPython.core.display.HTML object>"
      ]
     },
     "metadata": {},
     "output_type": "display_data"
    },
    {
     "data": {
      "text/html": [
       "<style>.input_area pre {font-family: Consolas; font-size: 15pt; line-height: 140%;}</style>"
      ],
      "text/plain": [
       "<IPython.core.display.HTML object>"
      ]
     },
     "metadata": {},
     "output_type": "display_data"
    },
    {
     "data": {
      "text/html": [
       "<style>.output_area pre {font-family: Consolas; font-size: 15pt; line-height: 140%;}</style>"
      ],
      "text/plain": [
       "<IPython.core.display.HTML object>"
      ]
     },
     "metadata": {},
     "output_type": "display_data"
    }
   ],
   "source": [
    "from IPython.core.display import display, HTML\n",
    "display(HTML(\"<style>.container { width:95% !important; }</style>\"))\n",
    "display(HTML(\"<style>.input_area pre {font-family: Consolas; font-size: 15pt; line-height: 140%;}</style>\"))\n",
    "display(HTML(\"<style>.output_area pre {font-family: Consolas; font-size: 15pt; line-height: 140%;}</style>\"))"
   ]
  },
  {
   "cell_type": "markdown",
   "metadata": {},
   "source": [
    "# 파일 이름에서 '학번'을 자신의 학번으로, '이름'을 자신의 이름으로 고치시오."
   ]
  },
  {
   "cell_type": "markdown",
   "metadata": {},
   "source": [
    "# 문제1\n",
    "변수 a에 1을 대입하고, 변수 b에 2을 대입한 후, 변수 c 에 a와 b를 더한 값을 대입하시오.\n",
    "변수 c의 값을 출력하시오.\n",
    "\n",
    "***결과***\n",
    "```\n",
    "3\n",
    "```"
   ]
  },
  {
   "cell_type": "code",
   "execution_count": 1,
   "metadata": {},
   "outputs": [
    {
     "name": "stdout",
     "output_type": "stream",
     "text": [
      "3\n"
     ]
    }
   ],
   "source": [
    "a = 1 \n",
    "b = 2 \n",
    "\n",
    "# O(1) \n",
    "# 입력이 따로 없음 \n",
    "\n",
    "c = a + b \n",
    "print(c)"
   ]
  },
  {
   "cell_type": "markdown",
   "metadata": {},
   "source": [
    "# 문제2\n",
    "1부터 10까지의 수를 화면에 한 줄씩 출력하시오.\n",
    "\n",
    "***결과***\n",
    "```\n",
    "1\n",
    "2\n",
    "3\n",
    "4\n",
    "5\n",
    "6\n",
    "7\n",
    "8\n",
    "9\n",
    "10\n",
    "```"
   ]
  },
  {
   "cell_type": "code",
   "execution_count": 23,
   "metadata": {
    "ExecuteTime": {
     "end_time": "2019-09-03T15:17:20.681860Z",
     "start_time": "2019-09-03T15:17:20.678869Z"
    }
   },
   "outputs": [
    {
     "name": "stdout",
     "output_type": "stream",
     "text": [
      "1\n",
      "2\n",
      "3\n",
      "4\n",
      "5\n",
      "6\n",
      "7\n",
      "8\n",
      "9\n",
      "10\n",
      "******************************\n",
      "O(N)\n",
      "1\n",
      "2\n",
      "3\n",
      "4\n",
      "5\n",
      "6\n",
      "7\n",
      "8\n",
      "9\n",
      "10\n"
     ]
    }
   ],
   "source": [
    "# O(1)\n",
    "# 횟수가 10으로 고정되어있기 때문에 \n",
    "# 입력에 상관없이 수행이 일정함 \n",
    "\n",
    "for i in range(1,11):\n",
    "    print(i)\n",
    "    \n",
    "print('*'*30)\n",
    "\n",
    "print('O(N)')    \n",
    "N = 10 \n",
    "for i in (range(1, N+1)):\n",
    "    print(i)"
   ]
  },
  {
   "cell_type": "markdown",
   "metadata": {},
   "source": [
    "# 문제3\n",
    "숫자 두개를 인수로 받아서 합을 리턴하는 함수를 구현하시오.\n",
    "\n",
    "***결과***\n",
    "```\n",
    "7\n",
    "3\n",
    "```"
   ]
  },
  {
   "cell_type": "code",
   "execution_count": 24,
   "metadata": {
    "ExecuteTime": {
     "end_time": "2021-09-07T06:01:24.443164Z",
     "start_time": "2021-09-07T06:01:24.430198Z"
    }
   },
   "outputs": [
    {
     "name": "stdout",
     "output_type": "stream",
     "text": [
      "7\n",
      "3\n"
     ]
    }
   ],
   "source": [
    "def my_fun1(a, b): \n",
    "    return a+b  \n",
    "    pass\n",
    "\n",
    "# 시간복잡도는 ? \n",
    "# 1 ) O(N) , 2 ) O(1) \n",
    "# 정답은 2번  \n",
    "\n",
    "# a + b 가 무슨값이 오든 영향이 없다 = O(1)\n",
    "# 무슨값이 오든 덧셈 한번하니까 \n",
    "\n",
    "## 아래는 수정하지 마시오.\n",
    "print(my_fun1(3, 4)) # 1초 \n",
    "print(my_fun1(1, 2)) # 1초 "
   ]
  },
  {
   "cell_type": "markdown",
   "metadata": {},
   "source": [
    "# 문제4\n",
    "숫자 두개를 인수로 받아서 큰 수를 리턴하는 함수를 구현하시오.\n",
    "\n",
    "***결과***\n",
    "```\n",
    "4\n",
    "2\n",
    "```"
   ]
  },
  {
   "cell_type": "code",
   "execution_count": 27,
   "metadata": {
    "ExecuteTime": {
     "end_time": "2021-09-07T06:02:03.424884Z",
     "start_time": "2021-09-07T06:02:03.420895Z"
    }
   },
   "outputs": [
    {
     "name": "stdout",
     "output_type": "stream",
     "text": [
      "4\n",
      "2\n"
     ]
    }
   ],
   "source": [
    "def my_fun2(a, b):\n",
    "    if a > b : \n",
    "        return a \n",
    "    else : \n",
    "        return b \n",
    "    pass\n",
    "\n",
    "# O(1) , O(N) 중 정답은 ? \n",
    "# a,b 가 어떤값이든, 1 이든 1억이든  if 비교 1번, 리턴 1번\n",
    "# a,b 크기가 if문에 영향을 주지않음 = 따라서 O(1)\n",
    "\n",
    "\n",
    "\n",
    "\n",
    "## 아래는 수정하지 마시오.\n",
    "print(my_fun2(4, 3))\n",
    "print(my_fun2(1, 2))"
   ]
  },
  {
   "cell_type": "markdown",
   "metadata": {},
   "source": [
    "# 문제5\n",
    "\n",
    "구구단 중에서 입력으로 받은 단을 다음과 같이 출력하는 함수를 만드시오..\n",
    "\n",
    "***결과***\n",
    "```\n",
    "3단\n",
    "3 * 1 = 3\n",
    "3 * 2 = 6\n",
    "3 * 3 = 9\n",
    "3 * 4 = 12\n",
    "3 * 5 = 15\n",
    "3 * 6 = 18\n",
    "3 * 7 = 21\n",
    "3 * 8 = 24\n",
    "3 * 9 = 27\n",
    "\n",
    "5단\n",
    "5 * 1 = 5\n",
    "5 * 2 = 10\n",
    "5 * 3 = 15\n",
    "5 * 4 = 20\n",
    "5 * 5 = 25\n",
    "5 * 6 = 30\n",
    "5 * 7 = 35\n",
    "5 * 8 = 40\n",
    "5 * 9 = 45\n",
    "```"
   ]
  },
  {
   "cell_type": "code",
   "execution_count": 29,
   "metadata": {
    "ExecuteTime": {
     "end_time": "2021-09-07T06:02:00.994377Z",
     "start_time": "2021-09-07T06:02:00.981371Z"
    },
    "scrolled": true
   },
   "outputs": [
    {
     "name": "stdout",
     "output_type": "stream",
     "text": [
      "3단\n",
      "3 * 1 = 3\n",
      "3 * 2 = 6\n",
      "3 * 3 = 9\n",
      "3 * 4 = 12\n",
      "3 * 5 = 15\n",
      "3 * 6 = 18\n",
      "3 * 7 = 21\n",
      "3 * 8 = 24\n",
      "3 * 9 = 27\n",
      "5단\n",
      "5 * 1 = 5\n",
      "5 * 2 = 10\n",
      "5 * 3 = 15\n",
      "5 * 4 = 20\n",
      "5 * 5 = 25\n",
      "5 * 6 = 30\n",
      "5 * 7 = 35\n",
      "5 * 8 = 40\n",
      "5 * 9 = 45\n"
     ]
    }
   ],
   "source": [
    "def my_fun3(n):\n",
    "    print(f'{n}단')\n",
    "    for i in range(1,10):\n",
    "        print(f'{n} * {i} = {n*i}')\n",
    "        \n",
    "    pass\n",
    "\n",
    "\n",
    "# O(1) vs O(N) ?\n",
    "# 횟수가 고정 ( rane(10))\n",
    "# n 이 어떤값을 가지더라도, 횟수가 고정이기 때문 ( n 값은 무관 )\n",
    "\n",
    "\n",
    "\n",
    "## 아래는 수정하지 마시오.\n",
    "my_fun3(3)\n",
    "my_fun3(5)\n",
    "    "
   ]
  },
  {
   "cell_type": "markdown",
   "metadata": {},
   "source": [
    "# 문제6\n",
    "\n",
    "1부터 n까지의 자연수 중에서 짝수들만 리스트 형태로 리턴하는 함수를 만드시오.\n",
    "\n",
    "***결과***\n",
    "```\n",
    "[2, 4, 6, 8, 10, 12, 14, 16, 18, 20]\n",
    "[2, 4, 6, 8, 10, 12, 14]\n",
    "```"
   ]
  },
  {
   "cell_type": "code",
   "execution_count": 44,
   "metadata": {
    "ExecuteTime": {
     "end_time": "2021-09-07T06:01:48.521393Z",
     "start_time": "2021-09-07T06:01:48.509426Z"
    },
    "scrolled": true
   },
   "outputs": [
    {
     "name": "stdout",
     "output_type": "stream",
     "text": [
      "[2, 4, 6, 8, 10, 12, 14, 16, 18, 20]\n",
      "[2, 4, 6, 8, 10, 12, 14]\n"
     ]
    }
   ],
   "source": [
    "def my_fun4(n):\n",
    "    \n",
    "    \n",
    "    \n",
    "    return [ x for x in range(1,n+1) if x%2 ==0 ] # if true 면 리턴 , if x%2== 0 라면 리턴 \n",
    "    pass\n",
    "\n",
    "\n",
    "# O(1) vs O(N) ?\n",
    "# n 의 값의 변화에 따라 반복 횟수 ( 실행횟수 ) 에 영향을 준다 \n",
    "# 수행시간이 영향을 받는다 \n",
    "# 따라서 O(N) \n",
    "\n",
    "\n",
    "\n",
    "\n",
    "## 아래는 수정하지 마시오.\n",
    "print(my_fun4(20))\n",
    "print(my_fun4(15))"
   ]
  },
  {
   "cell_type": "code",
   "execution_count": 53,
   "metadata": {},
   "outputs": [
    {
     "name": "stdout",
     "output_type": "stream",
     "text": [
      "[2, 4, 6, 8, 10, 12, 14, 16, 18, 20]\n",
      "[2, 4, 6, 8, 10, 12, 14]\n"
     ]
    }
   ],
   "source": [
    "def my_fun4(n):\n",
    "    r = [] \n",
    "    \n",
    "    for i in range(1, n+1):\n",
    "        if i%2 == 0:\n",
    "            r.append(i)\n",
    "            \n",
    "    return r \n",
    "    pass\n",
    "    \n",
    "print(my_fun4(20))\n",
    "print(my_fun4(15))"
   ]
  },
  {
   "cell_type": "code",
   "execution_count": null,
   "metadata": {},
   "outputs": [],
   "source": []
  }
 ],
 "metadata": {
  "kernelspec": {
   "display_name": "Python 3",
   "language": "python",
   "name": "python3"
  },
  "language_info": {
   "codemirror_mode": {
    "name": "ipython",
    "version": 3
   },
   "file_extension": ".py",
   "mimetype": "text/x-python",
   "name": "python",
   "nbconvert_exporter": "python",
   "pygments_lexer": "ipython3",
   "version": "3.8.5"
  }
 },
 "nbformat": 4,
 "nbformat_minor": 4
}
