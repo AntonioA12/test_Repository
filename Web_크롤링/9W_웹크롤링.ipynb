{
 "cells": [
  {
   "cell_type": "markdown",
   "metadata": {},
   "source": [
    "## 로그인\n",
    "\n",
    "    웹 크롤링의 목적은 데이터 추출 , 그리고 인터넷 구조를 이해하는 것이다. \n",
    "    \n",
    "    로그인 전 후 의 HTML 의 변화는 ? \n",
    "    \n",
    "    로그인방법\n",
    "    ID 와 패스워드를 클라이언트가  -> 서버 에게 편지를 보냄 ( 요청 )\n",
    "    서버 -> 클라이언트 가 응답함 "
   ]
  },
  {
   "cell_type": "markdown",
   "metadata": {},
   "source": [
    "## HTML form 태그\n",
    "\n",
    "    (클라이언트) <form> 태그에는 로그인 page 가 존재. ( 클라이 언트의 로그인 정보가 저장되어 있는 ) \n",
    "    내용 ( ID, 패스워드 ) 입력후 <form> 태그를 to 서버 에게 전달 \n",
    "    \n",
    "    (서버) <폼> 태그 서버가 html 받고 -> 웹 프로그램 -> 웹 서버 -> 브라우저 \n",
    "    \n",
    "    (클라이언트) 브라우저가 받은 html 페이지를 받음 "
   ]
  },
  {
   "cell_type": "markdown",
   "metadata": {},
   "source": [
    "## 폼태그 , form 태그\n",
    "\n",
    "    폼 태그 속성\n",
    "#### action : 폼을 전송할 서버 쪽 스크립트 파일을 지정합니다.  # 폼 고유 속성 # 가장 중요 # 서버 DB 에 있는 ( 로그인 정보코드 )\n",
    "#### method : 폼을 서버에 전송할 http 메소드를 정합니다. (GET 또는 POST) # 폼 고유 속성 # 어떻게 서버에게 전달할 것인가 ? \n",
    "\n",
    "    name : 폼을 식별하기 위한 이름을 지정합니다.\n",
    "    accept-charset : 폼 전송에 사용할 문자 인코딩을 지정합니다.\n",
    "    target : action에서 지정한 스크립트 파일을 현재 창이 아닌 다른 위치에 열도록 지정합니다."
   ]
  },
  {
   "cell_type": "markdown",
   "metadata": {},
   "source": [
    "## 폼태그 ( 서버에게 로그인 정보를 전달하기 위해 존재 )  \n",
    "\n",
    "    <form action=\"/action_page.php\">\n",
    "      <label for=\"username\">Username:</label><br>\n",
    "      <input type=\"text\" id=\"username\" name=\"username\"><br>\n",
    "      <label for=\"pwd\">Password:</label><br>\n",
    "      <input type=\"password\" id=\"pwd\" name=\"pwd\"><br><br>\n",
    "      <input type=\"submit\" value=\"Submit\">\n",
    "    </form>"
   ]
  },
  {
   "cell_type": "markdown",
   "metadata": {},
   "source": [
    "### 입력태그 속성\n",
    "    \n",
    "    type: 입력 태그의 유형 # \n",
    "    value: 입력 태그의 초기값\n",
    "    name: 서버로 전달되는 변수명 # ID 와 패스워드 의 정보를 입력하는 속성\n",
    "\n",
    "<form action=\"/action_page.php\" method=\"post\">\n",
    "    <label for=\"username\">Username:</label><br>\n",
    "    <input type=\"text\" id=\"username\" name=\"username\"><br>\n",
    "    <label for=\"pwd\">Password:</label><br>\n",
    "    <input type=\"password\" id=\"pwd\" name=\"pwd\"><br><br>\n",
    "    <input type=\"submit\" value=\"Submit\">\n",
    "</form>\n"
   ]
  },
  {
   "cell_type": "markdown",
   "metadata": {},
   "source": [
    "## 로그인 보안\n",
    "\n",
    "    user id와 password 확인 \n",
    "        # 로그인정보 (ID,패스워드) 가 정확한가?\n",
    "    session id 확인\n",
    "        사용자가 가지고 있는 session id 값과 서버에 저장하고 있는 session id 값을 비교 # 로그인의 세션정보가 서버와 클라이언트 둘다 일치한가?\n",
    "    user-agent 확인\n",
    "        확인 되지 않은 브라우저에서 요청오면 거부 # 어떤 브라우저인가? # 신뢰할 수 있는 브라우저인가?\n",
    "    referrer 확인\n",
    "        어떤 사이트에서 요청이 왔는지 확인 # 신뢰할 수 있는 사이트 인가?\n",
    "    CSRF 토큰 확인\n",
    "        브라우저가 저장하고 있는 CSRF 토큰 값과 서버에 있는 값이 같은 지 확인 # hidden input, 브라우저만 확인가능한 정보가 알맞은가?\n",
    "    CAPTCHA 확인\n",
    "        예) 화면에 보이는 숫자를 입력하시오. # 사람인지 프로그램인지 확인하는 테스트\n"
   ]
  },
  {
   "cell_type": "markdown",
   "metadata": {},
   "source": [
    "## 쿠키 = 장치, 개인설정, 과거 이용내역을 저장하는 텍스트 파일 , 나의 기록 \n",
    "\n",
    "    쿠키는 웹사이트 접속시 접속자의 개인장치에 다운로드 되고 브라우저에 저장되는 [작은 텍스트 파일 ]\n",
    "        딕셔너리 형태로 key, value 값이 존재함. \n",
    "        클라이언트 요청을 받은 후 , 서버는 Set-Cookie 를 포함하여 응답함.\n",
    "        클라이언트는 이 쿠키를 저장하고 또 다시 로그인할 때\n",
    "        받았던 쿠키를 다시 서버에게 전달. \n",
    "        \n",
    "    웹사이트는 쿠키를 통해 접속자의 장치를 인식하고, 접속자의 설정과 과거 이용내역에 대한 일부 데이터를 저장\n",
    "        쿠키 "
   ]
  },
  {
   "cell_type": "markdown",
   "metadata": {},
   "source": [
    "## 세션\n",
    "\n",
    "    세션은 [쿠키] 를 이용하여 서버가 클라이언트를 식별하는 방법\n",
    "    서버에서는 클라이언트를 구분하기 위해 session-id 를 부여하며 웹 브라우저가 서버에 접속해서 브라우저를 종료할 때까지 인증상태를 유지\n",
    "    \n",
    "    - 서버는 session-id 와 cookie 기록을 통해 인증상태를 유지 ( 웹 브라우저를 종료할 때 까지 로그인을 유지 )  \n",
    "    \n",
    "## 세션 특징\n",
    "\n",
    "    각 클라이언트에게 [고유 ID] 를 부여 # 브라우저마다 세션은 각각 다르다. \n",
    "    session-id 로 클라이언트를 구분해서 클라이언트의 요구에 맞는 서비스를 제공\n",
    "    보안 면에서 쿠키보다 우수 # 세션은 아이디 패스워드 정보가 없기때문에 쿠키보다 보안이 우수. 또한 세션은 일정시간이 지나면 로그인이 강제 해제됨 \n",
    "    사용자가 많아질수록 서버 메모리를 많이 차지하게 됨\n",
    "    로그인과 같이 보안상 중요한 작업을 수행할 때 사용\n",
    "\n",
    "## User-agnet\n",
    "\n",
    "    클라이언트가 어떤 웹 브라우저를 이용하고 있는지 웹 서버에게 전달\n",
    "    파이썬은 브라우저가 아니기 때문에 몇몇 브라우저는 거부할 수 있음.\n",
    "    python fake-useragnet 라이브러리를 이용하여 파이썬으로 서버와 소통"
   ]
  },
  {
   "cell_type": "code",
   "execution_count": 1,
   "metadata": {},
   "outputs": [
    {
     "name": "stdout",
     "output_type": "stream",
     "text": [
      "Collecting fake-useragent\n",
      "  Downloading fake-useragent-0.1.11.tar.gz (13 kB)\n",
      "Building wheels for collected packages: fake-useragent\n",
      "  Building wheel for fake-useragent (setup.py): started\n",
      "  Building wheel for fake-useragent (setup.py): finished with status 'done'\n",
      "  Created wheel for fake-useragent: filename=fake_useragent-0.1.11-py3-none-any.whl size=13489 sha256=880013a550927cccb2fa888272532b197b7caa4df705e1c2e90fb54bb8fff500\n",
      "  Stored in directory: c:\\users\\gyqls\\appdata\\local\\pip\\cache\\wheels\\a0\\b8\\b7\\8c942b2c5be5158b874a88195116b05ad124bac795f6665e65\n",
      "Successfully built fake-useragent\n",
      "Installing collected packages: fake-useragent\n",
      "Successfully installed fake-useragent-0.1.11\n"
     ]
    }
   ],
   "source": [
    "!pip install fake-useragent"
   ]
  },
  {
   "cell_type": "code",
   "execution_count": 11,
   "metadata": {},
   "outputs": [
    {
     "name": "stdout",
     "output_type": "stream",
     "text": [
      "Mozilla/5.0 (Macintosh; Intel Mac OS X 10_10_1) AppleWebKit/537.36 (KHTML, like Gecko) Chrome/37.0.2062.124 Safari/537.36\n",
      "Mozilla/5.0 (Windows NT 6.1; WOW64; rv:54.0) Gecko/20100101 Firefox/58.0\n",
      "Mozilla/5.0 (Windows; U; Windows NT 6.1; de-DE) AppleWebKit/533.20.25 (KHTML, like Gecko) Version/5.0.3 Safari/533.19.4\n",
      "Mozilla/5.0 (Windows NT 6.1; WOW64) AppleWebKit/537.36 (KHTML, like Gecko) Chrome/31.0.1623.0 Safari/537.36\n"
     ]
    }
   ],
   "source": [
    "from fake_useragent import UserAgent\n",
    "\n",
    "ua = UserAgent()\n",
    "\n",
    "print(ua.chrome) # 크롬브라우저\n",
    "print(ua.firefox) # 파이어폭스\n",
    "print(ua.safari) # 사파리\n",
    "print(ua.random) # 램덤한 user agent\n"
   ]
  },
  {
   "cell_type": "markdown",
   "metadata": {},
   "source": [
    "## CSRF ( Cross Site Request Forgery) 해킹\n",
    "\n",
    "    인터넷 사용자(희생자)가 자신의 의지와는 무관하게 공격자가 의도한 행위(수정, 삭제, 등록 등)를 특정 웹사이트에 요청하게 만드는 공격\n",
    "    \n",
    "    예)\n",
    "    어떤 사이트(피싱사이트)에서 쿠폰을 준다는 버튼을 눌렀더니, 내 트위터 계정에 내가 올리지 않은 광고가 올라온 경우\n"
   ]
  },
  {
   "cell_type": "markdown",
   "metadata": {},
   "source": [
    "## CSRF 방어 방법 \n",
    "\n",
    "    1. Referrer 확인\n",
    "    \n",
    "        사용자가 Request 할 때 어떤 사이트에 있었는지 확인\n",
    "        만약 승인된 사이트에서 요청하지 않은 경우 사용자의 요청을 \n",
    "        \n",
    "        = 요청은 같지만, 정상적인 사이트 요청인지, 해커가 만든 사이트 요청인지 구분가능 \n",
    "        \n",
    "    2. CSRF Token 사용\n",
    "    \n",
    "        사용자의 세션에 히든 값을 저장하고 사용자의 요청 마다 해당 난수 값을 포함 시켜 전송\n",
    "        이후 서버는 요청을 받을 때마다 세션에 저장된 토큰 값과 요청 파라미터에 전달되는 토큰 값이 일치하는 지 검증\n",
    "        일반적으로 쿠키에 저장"
   ]
  },
  {
   "cell_type": "code",
   "execution_count": null,
   "metadata": {},
   "outputs": [],
   "source": []
  }
 ],
 "metadata": {
  "kernelspec": {
   "display_name": "Python 3",
   "language": "python",
   "name": "python3"
  },
  "language_info": {
   "codemirror_mode": {
    "name": "ipython",
    "version": 3
   },
   "file_extension": ".py",
   "mimetype": "text/x-python",
   "name": "python",
   "nbconvert_exporter": "python",
   "pygments_lexer": "ipython3",
   "version": "3.8.5"
  }
 },
 "nbformat": 4,
 "nbformat_minor": 4
}
