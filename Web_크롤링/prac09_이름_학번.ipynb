{
 "cells": [
  {
   "cell_type": "code",
   "execution_count": 1,
   "metadata": {},
   "outputs": [
    {
     "data": {
      "text/html": [
       "<style>.container { width:95% !important; }</style>"
      ],
      "text/plain": [
       "<IPython.core.display.HTML object>"
      ]
     },
     "metadata": {},
     "output_type": "display_data"
    },
    {
     "data": {
      "text/html": [
       "<style>.input_area pre {font-family: Consolas; font-size: 15pt; line-height: 140%;}</style>"
      ],
      "text/plain": [
       "<IPython.core.display.HTML object>"
      ]
     },
     "metadata": {},
     "output_type": "display_data"
    },
    {
     "data": {
      "text/html": [
       "<style>.output_area pre {font-family: Consolas; font-size: 15pt; line-height: 140%;}</style>"
      ],
      "text/plain": [
       "<IPython.core.display.HTML object>"
      ]
     },
     "metadata": {},
     "output_type": "display_data"
    }
   ],
   "source": [
    "from IPython.core.display import display, HTML\n",
    "display(HTML(\"<style>.container { width:95% !important; }</style>\"))\n",
    "display(HTML(\"<style>.input_area pre {font-family: Consolas; font-size: 15pt; line-height: 140%;}</style>\"))\n",
    "display(HTML(\"<style>.output_area pre {font-family: Consolas; font-size: 15pt; line-height: 140%;}</style>\"))"
   ]
  },
  {
   "cell_type": "markdown",
   "metadata": {},
   "source": [
    "# 제출 방법\n",
    "1. 파일 이름에서 '학번'을 자신의 학번으로, '이름'을 자신의 이름으로 고치시오.\n"
   ]
  },
  {
   "cell_type": "markdown",
   "metadata": {},
   "source": [
    "# 실습1\n",
    "\n",
    "셀레니움을 이용하여 구글에서 selenium을 검색하라.\n",
    "\n",
    "셀레니움 특수키 목록\n",
    "\n",
    "https://www.selenium.dev/selenium/docs/api/py/webdriver/selenium.webdriver.common.keys.html\n"
   ]
  },
  {
   "cell_type": "code",
   "execution_count": 2,
   "metadata": {},
   "outputs": [],
   "source": [
    "from selenium import webdriver\n",
    "from selenium.webdriver.common.keys import Keys\n",
    "import time\n",
    "\n",
    "# webdriver 생성\n",
    "chromedirver_path = './chromedriver.exe'\n",
    "driver = webdriver.Chrome(chromedirver_path)\n",
    "\n",
    "# 홈페이지 접속\n",
    "driver.get(\"http://www.google.com\")\n",
    "\n",
    "# 5초 기다리기\n",
    "time.sleep(5)\n",
    "\n",
    "# name 이 q인 태그 찾기\n",
    "tag = driver.find_element_by_css_selector('[name=q]')\n",
    "\n",
    "# 텍스트창에서 모든 내용 비우기\n",
    "tag.clear()\n",
    "\n",
    "# 5초 기다리기\n",
    "time.sleep(5)\n",
    "\n",
    "# selenium 입력하기\n",
    "tag.send_keys('selenium')\n",
    "\n",
    "# 5초 기다리기\n",
    "time.sleep(5)\n",
    "\n",
    "# 엔터키 입력하기\n",
    "tag.send_keys(Keys.RETURN)\n",
    "\n",
    "# 5초 기다리기\n",
    "time.sleep(5)\n",
    "\n",
    "# webdriver 닫기\n",
    "driver.close()\n"
   ]
  },
  {
   "cell_type": "markdown",
   "metadata": {},
   "source": [
    "# 실습2\n",
    "\n",
    "css 선택자 실습\n",
    "```\n",
    "'포켓몬고' 상륙 1주일.. 대한민국 곳곳이 들썩\n",
    "'포켓몬고' 상륙 1주일.. 대한민국 곳곳이 들썩\n",
    "많이본 뉴스\n",
    "포토&TV\n",
    "이 시각 추천뉴스\n",
    "실시간 주요이슈\n",
    "```"
   ]
  },
  {
   "cell_type": "code",
   "execution_count": 16,
   "metadata": {},
   "outputs": [
    {
     "name": "stdout",
     "output_type": "stream",
     "text": [
      "'포켓몬고' 상륙 1주일.. 대한민국 곳곳이 들썩\n",
      "'포켓몬고' 상륙 1주일.. 대한민국 곳곳이 들썩\n",
      "파이낸셜뉴스 주요 뉴스\n",
      "많이본 뉴스\n",
      "포토&TV\n",
      "이 시각 추천뉴스\n"
     ]
    }
   ],
   "source": [
    "from selenium import webdriver\n",
    "import time\n",
    "\n",
    "chromdirver_path = '../chromedriver/chromedriver.exe'\n",
    "driver = webdriver.Chrome(chromdirver_path)\n",
    "\n",
    "driver.get('http://v.media.daum.net/v/20170202185812986')\n",
    "time.sleep(5)\n",
    "\n",
    "# 최초 발견한 태그만 검색\n",
    "# tag = driver.find_element_by_tag_name('h3') \n",
    "tag = driver.find_element_by_css_selector('h3') #태그를 리턴\n",
    "print(tag.text) # 태그의 텍스트 출력\n",
    "\n",
    "# 모든 태그 검색\n",
    "#h3s = driver.find_elements_by_tag_name('h3') #리스트를 리턴 elements와 element의 차이\n",
    "h3s = driver.find_elements_by_css_selector('h3') #리스트로 리턴 = soup.select()\n",
    "for i in h3s:\n",
    "    print(i.text)\n",
    "driver.close()"
   ]
  },
  {
   "cell_type": "markdown",
   "metadata": {},
   "source": [
    "# 실습 3\n",
    "\n",
    "다음 실시간 댓글 가져오기\n"
   ]
  },
  {
   "cell_type": "code",
   "execution_count": null,
   "metadata": {},
   "outputs": [],
   "source": [
    "chromedriver_path_\n",
    "driver = webdriver.Chrome(chromedirver_path) \n",
    "driver.get(url)\n",
    "time.sleep(5)"
   ]
  },
  {
   "cell_type": "code",
   "execution_count": 17,
   "metadata": {
    "scrolled": true
   },
   "outputs": [
    {
     "name": "stdout",
     "output_type": "stream",
     "text": [
      "[0]\n",
      "공룡 보다는 악어 같은데?\n",
      "[1]\n",
      "악어같이생겼는데\n",
      "[2]\n",
      "고길동은 세계 4대 성자다\n",
      "둘리 나쁜\n",
      "[3]\n",
      "화석을 온전히 떼어내기 위해 몇달을 밤을 지샛을 연구진들에게 경의와 박수를~~\n",
      "[4]\n",
      "6500만년전 유카탄 반도에 소행성이 충돌하기 전까지\n",
      "지구의 육지와 바다를 지배했던 공룡이 무려 2억년이나 생존을 유지했지만\n",
      "우리 인간은 이제 고작 10만년 밖에 안됐는데 지독한 환경파괴(대기중 탄소증가)로\n",
      "스스로 멸종을 길로 나아가고 있다.\n",
      "[5]\n",
      "바다 아래 땅 속에는 얼마나 많은 유물들이 있을까\n",
      "\n",
      "육지도 다 탐색하지 못하는 걸 생각하면 언감생심이지만\n",
      "\n",
      "지구만 해도 엄청난 양의 탐사 자료가 있을 걸 생각하면 정말 숙연해진다\n",
      "[6]\n",
      "멋있다\n",
      "[7]\n",
      "이 기사를 교회에서 싫어합니다.\n",
      "[8]\n",
      "예수쟁이들은\n",
      "안믿어요\n",
      "[9]\n",
      "야훼 화석은 안놔왔냐? 개독들아? ㅋㅋㅋ\n",
      "[10]\n",
      "잘 보존해준 자연의 신비도 감탄할만 하지만, 작은 붓으로 조그만 끌로 하나하나 정성들여 발굴했을 분들에게 경의를 표한다. 가치있는 물건을 가치있게 잘 보존해서 다음 세대에게 잘 물려주자.\n"
     ]
    }
   ],
   "source": [
    "import time\n",
    "from bs4 import BeautifulSoup\n",
    "from selenium import webdriver\n",
    "\n",
    "# 해당 url\n",
    "target_url = 'https://news.v.daum.net/v/20200525162102411'\n",
    "\n",
    "# path, 웹드라이버(브라우저) , get , time sleep 5초 기본세트 \n",
    "chromdirver_path = '../chromedriver/chromedriver.exe'\n",
    "driver = webdriver.Chrome(chromdirver_path)\n",
    "\n",
    "driver.get(target_url)\n",
    "time.sleep(5)\n",
    "\n",
    "# 버튼입력 = more_button \n",
    "more_button = driver.find_element_by_css_selector('div.alex_more')\n",
    "more_button.click()\n",
    "time.sleep(3)\n",
    "\n",
    "# html = 버튼 입력 후인 html 전체 저장 (res)\n",
    "html = driver.page_source # 페이지의 HTML 전체를 가져오기\n",
    "soup = BeautifulSoup(html, 'lxml') # BeautifulSoup사용하기\n",
    "\n",
    "\n",
    "comments = soup.select('.desc_txt')\n",
    "\n",
    "for i, tag in enumerate(comments):\n",
    "    print(f\"[{i}]\")\n",
    "    print(tag.text.strip())\n",
    "\n",
    "time.sleep(5)\n",
    "driver.close()"
   ]
  }
 ],
 "metadata": {
  "kernelspec": {
   "display_name": "Python 3",
   "language": "python",
   "name": "python3"
  },
  "language_info": {
   "codemirror_mode": {
    "name": "ipython",
    "version": 3
   },
   "file_extension": ".py",
   "mimetype": "text/x-python",
   "name": "python",
   "nbconvert_exporter": "python",
   "pygments_lexer": "ipython3",
   "version": "3.8.5"
  }
 },
 "nbformat": 4,
 "nbformat_minor": 4
}
