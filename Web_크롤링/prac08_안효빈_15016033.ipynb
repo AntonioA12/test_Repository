{
 "cells": [
  {
   "cell_type": "code",
   "execution_count": 1,
   "metadata": {},
   "outputs": [
    {
     "data": {
      "text/html": [
       "<style>.container { width:95% !important; }</style>"
      ],
      "text/plain": [
       "<IPython.core.display.HTML object>"
      ]
     },
     "metadata": {},
     "output_type": "display_data"
    },
    {
     "data": {
      "text/html": [
       "<style>.input_area pre {font-family: Consolas; font-size: 15pt; line-height: 140%;}</style>"
      ],
      "text/plain": [
       "<IPython.core.display.HTML object>"
      ]
     },
     "metadata": {},
     "output_type": "display_data"
    },
    {
     "data": {
      "text/html": [
       "<style>.output_area pre {font-family: Consolas; font-size: 15pt; line-height: 140%;}</style>"
      ],
      "text/plain": [
       "<IPython.core.display.HTML object>"
      ]
     },
     "metadata": {},
     "output_type": "display_data"
    }
   ],
   "source": [
    "from IPython.core.display import display, HTML\n",
    "display(HTML(\"<style>.container { width:95% !important; }</style>\"))\n",
    "display(HTML(\"<style>.input_area pre {font-family: Consolas; font-size: 15pt; line-height: 140%;}</style>\"))\n",
    "display(HTML(\"<style>.output_area pre {font-family: Consolas; font-size: 15pt; line-height: 140%;}</style>\"))"
   ]
  },
  {
   "cell_type": "markdown",
   "metadata": {},
   "source": [
    "# 제출 방법\n",
    "1. 파일 이름에서 '학번'을 자신의 학번으로, '이름'을 자신의 이름으로 고치시오.\n"
   ]
  },
  {
   "cell_type": "markdown",
   "metadata": {},
   "source": [
    "# 실습1\n",
    "\n",
    "http://dowellcomputer.com/member/memberLoginForm.jsp 에 로그인하고 사용자 정보에서 email 주소를 추출하여 출력한다.\n",
    "\n",
    "- 아이디: dsdsds\n",
    "- 비밀번호: dsdsds\n",
    "\n",
    "\n",
    "***결과***\n",
    "```\n",
    "Action URL: http://dowellcomputer.com/member/memberLoginAction.jsp\n",
    "Cookies: {'JSESSIONID': '2DAC157995E6FF56897B9B8DA75B60FB'}\n",
    "Email: dsdsds@dsdsds.com\n",
    "```"
   ]
  },
  {
   "cell_type": "code",
   "execution_count": 17,
   "metadata": {},
   "outputs": [
    {
     "name": "stdout",
     "output_type": "stream",
     "text": [
      "http://dowellcomputer.com/member/memberLoginAction.jsp\n",
      "{'JSESSIONID': 'A4F5AE8A1C8988A13620C4C37DF735C5'}\n",
      "E-mail: dsdsds@dsdsds.com\n"
     ]
    }
   ],
   "source": [
    "import json\n",
    "import requests as rq\n",
    "from urllib.parse import urljoin\n",
    "from bs4 import BeautifulSoup\n",
    "\n",
    "login_page_url = \"http://dowellcomputer.com/member/memberLoginForm.jsp\"\n",
    "test_url = \"http://dowellcomputer.com/member/memberUpdateForm.jsp?ID=dsdsds\"\n",
    "\n",
    "## 로그인 정보 \n",
    "# F12 , input태그의 name 를 가져온다. \n",
    "'memberID' # input 태그 text \n",
    "\n",
    "action_url = urljoin( login_page_url , './memberLoginAction.jsp' )  # form 태그 action \n",
    "print(action_url)\n",
    "\n",
    "login_info = { \n",
    "    'memberID' : 'dsdsds',\n",
    "    'memberPassword' : 'dsdsds'\n",
    "} # key 가 input 태그, value 가 ID 정보 \n",
    "\n",
    "\n",
    "## 세션 만들기 \n",
    "with rq.Session() as s:\n",
    "    # 세션을 이용해서 post 요청\n",
    "    \n",
    "    login_res = s.post( action_url , data=login_info ) # 요청할 url(서버 url) , 로그인 정보  \n",
    "    login_soup = BeautifulSoup(login_res.text , 'lxml') # soup 을 통해 Parsing \n",
    "#     print(login_soup)\n",
    "    # 쿠키 \n",
    "    print(dict(s.cookies))\n",
    "    \n",
    "    # 로그인 이후 \n",
    "    res = s.get(test_url)\n",
    "    soup = BeautifulSoup( res.text , 'lxml')\n",
    "    email = soup.select_one('input[name=memberEmail]').get('value') # input 태그의 속성갑이 memberEmail 인것을 전부 리스트로 리턴 ( select 은 전부, select_one 은 하나)\n",
    "    print('E-mail:' ,  email)\n",
    "    pass"
   ]
  },
  {
   "cell_type": "markdown",
   "metadata": {},
   "source": [
    "# 실습2\n",
    "\n",
    "https://www.wishket.com/ 에 로그인하고 프로젝트 건 수 크롤링 하기\n",
    "\n",
    "https://www.wishket.com/partners/manage/interest/ 여기에서 관심 프로젝트의 제목과 가격을 출력한다.\n",
    "\n",
    "아이디: crawler070\n",
    "\n",
    "패스워드: 123123123!\n",
    "\n",
    "***결과***\n",
    "```\n",
    "옵션 합성 자동매매 프로그램 개발: 2,000,000원\n",
    "웹 프런트엔드 매물 선택보기 필터 기능 구현: 1,000,000원\n",
    "쿠팡 특정제품 아이템 위너 및 2순위 제품 가격 추적: 2,000,000원\n",
    "```"
   ]
  },
  {
   "cell_type": "code",
   "execution_count": 19,
   "metadata": {},
   "outputs": [
    {
     "name": "stdout",
     "output_type": "stream",
     "text": [
      "옵션 합성 자동매매 프로그램 개발: 2,000,000원\n",
      "웹 프런트엔드 매물 선택보기 필터 기능 구현: 1,000,000원\n",
      "쿠팡 특정제품 아이템 위너 및 2순위 제품 가격 추적: 2,000,000원\n"
     ]
    }
   ],
   "source": [
    "import sys\n",
    "import io\n",
    "from bs4 import BeautifulSoup\n",
    "import requests as rq\n",
    "from urllib.parse import urljoin\n",
    "from fake_useragent import UserAgent\n",
    "\n",
    "ua = UserAgent()\n",
    "\n",
    "###############################################################################################################################################################\n",
    "\n",
    "def get_wishket_csrftoken(s, login_url):\n",
    "    login_res = s.get(login_url)\n",
    "    login_soup = BeautifulSoup(login_res.text, 'lxml')\n",
    "    csrftoken = login_soup.select_one('input[name=csrfmiddlewaretoken]').get('value') # form 태그안의 hidden 타입의 name 과 value 를 담아야 함.\n",
    "    return csrftoken\n",
    "\n",
    "def wishket_login(s):\n",
    "    login_url = 'https://www.wishket.com/accounts/login/'\n",
    "    action_url = urljoin(login_url, '/accounts/login/')\n",
    "    \n",
    "    csrftoken = get_wishket_csrftoken(s, login_url)\n",
    "    login_info = {\n",
    "        'identification':'crawler070',\n",
    "        'password':'123123123!',\n",
    "        'csrfmiddlewaretoken':csrftoken\n",
    "    } \n",
    "    \n",
    "    header = {\n",
    "        'User-Agent':str(ua.chrome),\n",
    "        'Referer':login_url,\n",
    "    } # str(ua.chrome) 을 통해 크롬인척 속인다. \n",
    "    # Referer : 로그인 폼이 있는 url을 알려준다. 에러시 서버는 응답 X , 실패시 에러코드 없이 아무것도 출력되지 않는다. \n",
    "    \n",
    "    action_res = s.post(action_url,data=login_info, headers=header) # 최종 로그인 요청 \n",
    "\n",
    "###############################################################################################################################################################\n",
    "    \n",
    "with rq.Session() as s:\n",
    "    wishket_login(s)\n",
    "    \n",
    "    interest_url = 'https://www.wishket.com/partners/manage/interest/'\n",
    "    res = s.get(interest_url)\n",
    "    soup = BeautifulSoup(res.text,'lxml')\n",
    "    project_list = soup.select(\".interest-card\")\n",
    "\n",
    "    for i in project_list:\n",
    "        title = i.select_one('.card-title').get_text()\n",
    "        pay = i.select_one('.card-expectation-money-content').get_text()\n",
    "        print(f\"{title}: {pay}\")"
   ]
  },
  {
   "cell_type": "code",
   "execution_count": null,
   "metadata": {},
   "outputs": [],
   "source": []
  }
 ],
 "metadata": {
  "kernelspec": {
   "display_name": "Python 3",
   "language": "python",
   "name": "python3"
  },
  "language_info": {
   "codemirror_mode": {
    "name": "ipython",
    "version": 3
   },
   "file_extension": ".py",
   "mimetype": "text/x-python",
   "name": "python",
   "nbconvert_exporter": "python",
   "pygments_lexer": "ipython3",
   "version": "3.8.5"
  }
 },
 "nbformat": 4,
 "nbformat_minor": 4
}
