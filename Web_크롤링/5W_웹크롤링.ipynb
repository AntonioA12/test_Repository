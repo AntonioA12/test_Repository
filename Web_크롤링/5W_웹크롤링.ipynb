{
 "cells": [
  {
   "cell_type": "code",
   "execution_count": 5,
   "metadata": {},
   "outputs": [],
   "source": [
    "from bs4 import BeautifulSoup"
   ]
  },
  {
   "cell_type": "markdown",
   "metadata": {},
   "source": [
    "## .find() / .find_all()\n",
    "\n",
    "    .find() \n",
    "        조건에 맞는 첫 번째태그 탐색\n",
    "    .find_all()\n",
    "        조건에 맞는 모든 태그 탐색\n",
    "        결과는 [리스트]로 출력 "
   ]
  },
  {
   "cell_type": "code",
   "execution_count": 6,
   "metadata": {},
   "outputs": [],
   "source": [
    "html = \"\"\"\n",
    "<html>\n",
    "    <head><title class=\"c\">test site</title></head>\n",
    "    <body>\n",
    "        <p>test1</p>\n",
    "        <p class=\"c\" id=\"pp\">test2</p>\n",
    "        <p class=\"d\">test3</p></p>\n",
    "        <p class=\"e\">test4</p></p>\n",
    "        <a>a tag</a>\n",
    "        <b>b tag</b>\n",
    "    </body>\n",
    "</html>\"\"\"\n",
    "soup = BeautifulSoup(html, 'lxml')\n"
   ]
  },
  {
   "cell_type": "code",
   "execution_count": 7,
   "metadata": {},
   "outputs": [
    {
     "name": "stdout",
     "output_type": "stream",
     "text": [
      "<p>test1</p>\n",
      "None\n",
      "<p>test1</p>\n"
     ]
    }
   ],
   "source": [
    "print(soup.find(\"p\")) # p 태그 찾기\n",
    "print(soup.find(\"q\")) # q 태그 찾기\n",
    "print(soup.find([\"p\", \"a\"])) # p 또는 a 태그 찾기\n"
   ]
  },
  {
   "cell_type": "code",
   "execution_count": 8,
   "metadata": {},
   "outputs": [
    {
     "name": "stdout",
     "output_type": "stream",
     "text": [
      "<p class=\"c\" id=\"pp\">test2</p>\n",
      "<p class=\"c\" id=\"pp\">test2</p>\n",
      "<title class=\"c\">test site</title>\n",
      "<p class=\"c\" id=\"pp\">test2</p>\n"
     ]
    }
   ],
   "source": [
    "# class 태그속성 값이 \"c\"인 p 태그 찾기\n",
    "print(soup.find(\"p\", class_=\"c\")) # 주의)class 대신 class_ 를 이용한다.\n",
    "print(soup.find(\"p\", {\"class\":\"c\"}))\n",
    "\n",
    "# class 태그속성 값이 \"c\"인 태그 찾기\n",
    "print(soup.find(class_=\"c\"))\n",
    "\n",
    "# id 태그속성 값이 \"pp\"인 p 태그 찾기\n",
    "print(soup.find(\"p\", id=\"pp\"))\n"
   ]
  },
  {
   "cell_type": "code",
   "execution_count": 9,
   "metadata": {},
   "outputs": [
    {
     "name": "stdout",
     "output_type": "stream",
     "text": [
      "[<p>test1</p>, <p class=\"c\" id=\"pp\">test2</p>, <p class=\"d\">test3</p>, <p class=\"e\">test4</p>]\n",
      "[<title class=\"c\">test site</title>]\n",
      "[]\n"
     ]
    }
   ],
   "source": [
    "print(soup.find_all(\"p\"))\n",
    "print(soup.find_all(\"title\"))\n",
    "print(soup.find_all(\"xxx\"))\n"
   ]
  },
  {
   "cell_type": "markdown",
   "metadata": {},
   "source": [
    "### .find_all(찾을 태그, 조건) / 리스트로 출력됨 \n",
    "    \n",
    "    ex) find_all( 'p' , 조건 = '') \n",
    "\n"
   ]
  },
  {
   "cell_type": "code",
   "execution_count": 26,
   "metadata": {},
   "outputs": [
    {
     "name": "stdout",
     "output_type": "stream",
     "text": [
      "[<p>test1</p>, <p class=\"c\" id=\"pp\">test2</p>, <p class=\"d\">test3</p>, <p class=\"e\">test4</p>]\n",
      "<p class=\"c\" id=\"pp\">test2</p>\n",
      "<p class=\"d\">test3</p>\n"
     ]
    }
   ],
   "source": [
    "p_tags = soup.find_all('p')\n",
    "\n",
    "print(p_tags)\n",
    "\n",
    "# for i in p_tags:\n",
    "#     print(i)\n",
    "    \n",
    "for i in soup.find_all('p', class_=['c','d']):\n",
    "    print(i)"
   ]
  },
  {
   "cell_type": "markdown",
   "metadata": {},
   "source": [
    "## soup.find_all('p', class=['c','d']) \n",
    "\n",
    "    조건은 [or 조건] 임\n",
    "    \n",
    "    p 태그 이면서 클래스가 c 인 태그,\n",
    "    p 태그 이면서 클래스가 d 인 태그,\n",
    "    p 태그 이면서 클래스가 c d 인 태그\n",
    "    p 태그 이면서 클래스가 c 또는 d 가 있는 모든 태그 ( ex. ce , ch 도 호출함 ) "
   ]
  },
  {
   "cell_type": "code",
   "execution_count": 13,
   "metadata": {},
   "outputs": [
    {
     "name": "stdout",
     "output_type": "stream",
     "text": [
      "<p class=\"c\" id=\"pp\">test2</p>\n",
      "<p class=\"d\">test3</p>\n"
     ]
    }
   ],
   "source": [
    "for tag in soup.find_all(\"p\", class_=[\"c\",\"d\"]):\n",
    "    print(tag)\n"
   ]
  },
  {
   "cell_type": "markdown",
   "metadata": {},
   "source": [
    "## id 태그속성이 있는지 없는지"
   ]
  },
  {
   "cell_type": "code",
   "execution_count": 12,
   "metadata": {},
   "outputs": [
    {
     "name": "stdout",
     "output_type": "stream",
     "text": [
      "[<p class=\"c\" id=\"pp\">test2</p>]\n",
      "[<p>test1</p>, <p class=\"d\">test3</p>, <p class=\"e\">test4</p>, <a>a tag</a>, <b>b tag</b>]\n"
     ]
    }
   ],
   "source": [
    "# id 태그속성을 가진 태그들 찾기\n",
    "print(soup.body.find_all(id = True)) # body 자식중에서 id 가 있는 모든 태그 출력 \n",
    "\n",
    "# id 태그속성을 가지지 않은 태그들 찾기 \n",
    "print(soup.body.find_all(id = False)) # body 자식중에서 id 가 없는 모든 태그 출력 \n"
   ]
  },
  {
   "cell_type": "code",
   "execution_count": 14,
   "metadata": {},
   "outputs": [
    {
     "name": "stdout",
     "output_type": "stream",
     "text": [
      "[<p>test1</p>]\n",
      "[]\n"
     ]
    }
   ],
   "source": [
    "print(soup.find_all('p', text=\"test1\"))\n",
    "print(soup.find_all('p', text=\"t\"))\n"
   ]
  },
  {
   "cell_type": "code",
   "execution_count": 15,
   "metadata": {},
   "outputs": [
    {
     "name": "stdout",
     "output_type": "stream",
     "text": [
      "[<p>test1</p>]\n",
      "[<p>test1</p>, <p class=\"c\" id=\"pp\">test2</p>]\n",
      "[<p>test1</p>, <p class=\"c\" id=\"pp\">test2</p>, <p class=\"d\">test3</p>]\n",
      "[<p>test1</p>, <p class=\"c\" id=\"pp\">test2</p>, <p class=\"d\">test3</p>, <p class=\"e\">test4</p>]\n"
     ]
    }
   ],
   "source": [
    "print(soup.find_all('p', limit=1))\n",
    "print(soup.find_all('p', limit=2))\n",
    "print(soup.find_all('p', limit=3))\n",
    "print(soup.find_all('p', limit=4))\n"
   ]
  },
  {
   "cell_type": "code",
   "execution_count": 16,
   "metadata": {},
   "outputs": [
    {
     "name": "stdout",
     "output_type": "stream",
     "text": [
      "[<p>test1</p>, <p class=\"c\" id=\"pp\">test2</p>, <p class=\"d\">test3</p>, <p class=\"e\">test4</p>]\n",
      "<class 'bs4.element.ResultSet'>\n"
     ]
    }
   ],
   "source": [
    "p_tags = soup.find_all('p')\n",
    "print(p_tags)\n",
    "print(type(p_tags))\n"
   ]
  },
  {
   "cell_type": "code",
   "execution_count": null,
   "metadata": {},
   "outputs": [],
   "source": []
  }
 ],
 "metadata": {
  "kernelspec": {
   "display_name": "Python 3",
   "language": "python",
   "name": "python3"
  },
  "language_info": {
   "codemirror_mode": {
    "name": "ipython",
    "version": 3
   },
   "file_extension": ".py",
   "mimetype": "text/x-python",
   "name": "python",
   "nbconvert_exporter": "python",
   "pygments_lexer": "ipython3",
   "version": "3.8.5"
  }
 },
 "nbformat": 4,
 "nbformat_minor": 4
}
