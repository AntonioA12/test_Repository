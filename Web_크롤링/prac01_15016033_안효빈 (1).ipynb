{
 "cells": [
  {
   "cell_type": "code",
   "execution_count": 28,
   "metadata": {},
   "outputs": [
    {
     "data": {
      "text/html": [
       "<style>.container { width:95% !important; }</style>"
      ],
      "text/plain": [
       "<IPython.core.display.HTML object>"
      ]
     },
     "metadata": {},
     "output_type": "display_data"
    },
    {
     "data": {
      "text/html": [
       "<style>.input_area pre {font-family: Consolas; font-size: 15pt; line-height: 140%;}</style>"
      ],
      "text/plain": [
       "<IPython.core.display.HTML object>"
      ]
     },
     "metadata": {},
     "output_type": "display_data"
    },
    {
     "data": {
      "text/html": [
       "<style>.output_area pre {font-family: Consolas; font-size: 15pt; line-height: 140%;}</style>"
      ],
      "text/plain": [
       "<IPython.core.display.HTML object>"
      ]
     },
     "metadata": {},
     "output_type": "display_data"
    }
   ],
   "source": [
    "from IPython.core.display import display, HTML\n",
    "display(HTML(\"<style>.container { width:95% !important; }</style>\"))\n",
    "display(HTML(\"<style>.input_area pre {font-family: Consolas; font-size: 15pt; line-height: 140%;}</style>\"))\n",
    "display(HTML(\"<style>.output_area pre {font-family: Consolas; font-size: 15pt; line-height: 140%;}</style>\"))"
   ]
  },
  {
   "cell_type": "markdown",
   "metadata": {},
   "source": [
    "---"
   ]
  },
  {
   "cell_type": "markdown",
   "metadata": {},
   "source": [
    "# 제출 방법\n",
    "1. 파일 이름에서 '학번'을 자신의 학번으로, '이름'을 자신의 이름으로 고치시오.\n",
    "2. lms.suwon.ac.kr 수업 과제에 jupyter notebook 파일을 제출한다.\n"
   ]
  },
  {
   "cell_type": "markdown",
   "metadata": {},
   "source": [
    "# 문제1\n",
    "두 수를 파라미터로 받아서 합을 리턴하는 함수를 만드시오.\n",
    "\n",
    "**실행결과**\n",
    "```\n",
    "3\n",
    "```"
   ]
  },
  {
   "cell_type": "code",
   "execution_count": 29,
   "metadata": {},
   "outputs": [
    {
     "name": "stdout",
     "output_type": "stream",
     "text": [
      "3\n"
     ]
    }
   ],
   "source": [
    "def my_f1(a, b): # a, b 파라미터 parameter 변수\n",
    "    return a+b\n",
    "\n",
    "print(my_f1(1,2)) # 1,2 아규먼트 (arguments), 인수, 인자"
   ]
  },
  {
   "cell_type": "markdown",
   "metadata": {},
   "source": [
    "# 문제2\n",
    "세 수를 파라미터로 받아서 가장 큰 수를 리턴하는 함수를 만드시오.\n",
    "\n",
    "\n",
    "**실행결과**\n",
    "```\n",
    "3\n",
    "3\n",
    "3\n",
    "```"
   ]
  },
  {
   "cell_type": "code",
   "execution_count": 51,
   "metadata": {},
   "outputs": [
    {
     "name": "stdout",
     "output_type": "stream",
     "text": [
      "3\n",
      "3\n",
      "3\n"
     ]
    }
   ],
   "source": [
    "def my_f2(a, b, c):\n",
    "    if a > b :\n",
    "        if a > c :\n",
    "            return a\n",
    "        else:\n",
    "            return c\n",
    "    else : \n",
    "        if b > c :\n",
    "            return b\n",
    "        else:\n",
    "            return c\n",
    "    \n",
    "#return max(a,b,c)\n",
    "\n",
    "print(my_f2(1, 2, 3))\n",
    "print(my_f2(2, 3, 1))\n",
    "print(my_f2(3, 1, 2))"
   ]
  },
  {
   "cell_type": "markdown",
   "metadata": {},
   "source": [
    "# 문제3\n",
    "1부터 10까지의 수를 출력하는 함수를 만드시오.\n",
    "\n",
    "**실행결과**\n",
    "```\n",
    "1\n",
    "2\n",
    "3\n",
    "4\n",
    "5\n",
    "6\n",
    "7\n",
    "8\n",
    "9\n",
    "10\n",
    "```"
   ]
  },
  {
   "cell_type": "code",
   "execution_count": 58,
   "metadata": {},
   "outputs": [
    {
     "name": "stdout",
     "output_type": "stream",
     "text": [
      "0\n",
      "1\n",
      "2\n",
      "3\n",
      "4\n",
      "5\n",
      "6\n",
      "7\n",
      "8\n",
      "9\n",
      "10\n"
     ]
    }
   ],
   "source": [
    "def my_f3():\n",
    "    for i in range(0,11):\n",
    "        print(i)\n",
    "    return\n",
    "\n",
    "my_f3()"
   ]
  },
  {
   "cell_type": "markdown",
   "metadata": {},
   "source": [
    "# 문제4\n",
    "구구단 중에서 입력으로 받은 단을 다음과 같이 출력하시오.\n",
    "```\n",
    "5 * 1 = 5\n",
    "5 * 2 = 10\n",
    "5 * 3 = 15\n",
    "5 * 4 = 20\n",
    "5 * 5 = 25\n",
    "5 * 6 = 30\n",
    "5 * 7 = 35\n",
    "5 * 8 = 40\n",
    "5 * 9 = 45\n",
    "```"
   ]
  },
  {
   "cell_type": "code",
   "execution_count": 35,
   "metadata": {},
   "outputs": [
    {
     "name": "stdout",
     "output_type": "stream",
     "text": [
      "5 * 1 =  5\n",
      "5 * 2 = 10\n",
      "5 * 3 = 15\n",
      "5 * 4 = 20\n",
      "5 * 5 = 25\n",
      "5 * 6 = 30\n",
      "5 * 7 = 35\n",
      "5 * 8 = 40\n",
      "5 * 9 = 45\n"
     ]
    }
   ],
   "source": [
    "def my_f4(a):\n",
    "    for n in range(1, 10):\n",
    "        print(f'{a} * {n} = {a*n:2d}')\n",
    "        \n",
    "        \n",
    "# 아래는 수정하지 마시오.\n",
    "my_f4(5)"
   ]
  },
  {
   "cell_type": "markdown",
   "metadata": {},
   "source": [
    "# 문제5\n",
    "1부터 n까지의 자연수가 들어 있는 리스트를 리턴하는 함수를 만드시오.\n",
    "\n",
    "**실행결과**\n",
    "```\n",
    "[1, 2, 3, 4, 5, 6, 7, 8, 9, 10, 11, 12, 13, 14, 15, 16, 17, 18, 19, 20, 21, 22, 23, 24, 25, 26, 27, 28, 29, 30, 31, 32, 33, 34, 35, 36, 37, 38, 39, 40, 41, 42, 43, 44, 45, 46, 47, 48, 49, 50]\n",
    "```"
   ]
  },
  {
   "cell_type": "code",
   "execution_count": 81,
   "metadata": {
    "scrolled": true
   },
   "outputs": [
    {
     "name": "stdout",
     "output_type": "stream",
     "text": [
      "[0, 1, 2, 3, 4, 5, 6, 7, 8, 9, 10, 11, 12, 13, 14, 15, 16, 17, 18, 19, 20, 21, 22, 23, 24, 25, 26, 27, 28, 29, 30, 31, 32, 33, 34, 35, 36, 37, 38, 39, 40, 41, 42, 43, 44, 45, 46, 47, 48, 49, 50]\n"
     ]
    }
   ],
   "source": [
    "def my_f5(n):\n",
    "    list_a = []\n",
    "    for i in range(0,n+1):\n",
    "        list_a.append(i)\n",
    "        \n",
    "    return list_a\n",
    "\n",
    "# comprehension 방법\n",
    "# return [i for i in rangee(1, n+1) ]\n",
    "\n",
    "print(my_f5(50))"
   ]
  },
  {
   "cell_type": "markdown",
   "metadata": {},
   "source": [
    "# 문제6\n",
    "1부터 n까지의 자연수 중에서 짝수들만 리스트 형태로 리턴하는 함수를 만드시오.\n",
    "\n",
    "**실행결과**\n",
    "```\n",
    "[2, 4, 6, 8, 10, 12, 14, 16, 18, 20, 22, 24, 26, 28, 30, 32, 34, 36, 38, 40, 42, 44, 46, 48, 50]\n",
    "```"
   ]
  },
  {
   "cell_type": "code",
   "execution_count": 72,
   "metadata": {},
   "outputs": [
    {
     "name": "stdout",
     "output_type": "stream",
     "text": [
      "[0, 2, 4, 6, 8, 10, 12, 14, 16, 18, 20, 22, 24, 26, 28, 30, 32, 34, 36, 38, 40, 42, 44, 46, 48, 50]\n"
     ]
    }
   ],
   "source": [
    "def my_f6(n):\n",
    "    list_b = []\n",
    "    \n",
    "    for i in range(0, n+1):  \n",
    "        if i % 2 ==0:\n",
    "            list_b.append(i)\n",
    "    return list_b\n",
    "        \n",
    "## comprehension \n",
    "\n",
    "    #return [ i for i in range(1,n+1) if i % 2 == 0]\n",
    "    # [ 변수 for 변수 (범위) / if 문 ]\n",
    "    \n",
    "    \n",
    "print(my_f6(50))"
   ]
  },
  {
   "cell_type": "markdown",
   "metadata": {},
   "source": [
    "# 문제7\n",
    "\n",
    "for문을 이용하여 아래와 같이 출력되는 함수를 작성하시오.\n",
    "n은 출력되는 줄의 수이다.\n",
    "\n",
    "**실행결과**\n",
    "```\n",
    "      *\n",
    "     ###\n",
    "    *****\n",
    "   #######\n",
    "  *********\n",
    " ###########\n",
    "*************\n",
    "\n",
    "   *\n",
    "  ###\n",
    " *****\n",
    "#######\n",
    "```"
   ]
  },
  {
   "cell_type": "code",
   "execution_count": 84,
   "metadata": {},
   "outputs": [
    {
     "data": {
      "text/plain": [
       "'**********'"
      ]
     },
     "execution_count": 84,
     "metadata": {},
     "output_type": "execute_result"
    }
   ],
   "source": [
    "'*' *10 "
   ]
  },
  {
   "cell_type": "code",
   "execution_count": 90,
   "metadata": {},
   "outputs": [
    {
     "name": "stdout",
     "output_type": "stream",
     "text": [
      "\n",
      "      *\n",
      "     ###\n",
      "    *****\n",
      "   #######\n",
      "  *********\n",
      " ###########\n",
      "*************\n",
      "\n",
      "   *\n",
      "  ###\n",
      " *****\n",
      "#######\n"
     ]
    }
   ],
   "source": [
    "def my_f7(n):\n",
    "    # 층이 추가될 때 마다 (i*2 -1) 라는 법칙이 있다. \n",
    "    \n",
    "    # 빈칸\n",
    "    # n 층은 빈칸이 ( n-1 ) 라는 법칙 \n",
    " \n",
    "    # if i == 짝수 면 #, 홀수면 * \n",
    "    \n",
    "    for i in range(1, n+1):\n",
    "        if i % 2==0:\n",
    "            c=\"#\"\n",
    "        else:\n",
    "            c='*'\n",
    "        print(f\"{' '*(n-i)}{c*(i*2-1)}\")\n",
    "\n",
    "# 아래는 수정하지 마시오.\n",
    "print()\n",
    "my_f7(7)\n",
    "print()\n",
    "my_f7(4)"
   ]
  }
 ],
 "metadata": {
  "kernelspec": {
   "display_name": "Python 3",
   "language": "python",
   "name": "python3"
  },
  "language_info": {
   "codemirror_mode": {
    "name": "ipython",
    "version": 3
   },
   "file_extension": ".py",
   "mimetype": "text/x-python",
   "name": "python",
   "nbconvert_exporter": "python",
   "pygments_lexer": "ipython3",
   "version": "3.8.5"
  },
  "toc": {
   "base_numbering": 1,
   "nav_menu": {},
   "number_sections": true,
   "sideBar": true,
   "skip_h1_title": false,
   "title_cell": "Table of Contents",
   "title_sidebar": "Contents",
   "toc_cell": false,
   "toc_position": {},
   "toc_section_display": true,
   "toc_window_display": false
  }
 },
 "nbformat": 4,
 "nbformat_minor": 4
}
