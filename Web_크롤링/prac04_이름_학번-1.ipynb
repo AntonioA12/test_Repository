{
 "cells": [
  {
   "cell_type": "code",
   "execution_count": 59,
   "metadata": {},
   "outputs": [
    {
     "data": {
      "text/html": [
       "<style>.container { width:95% !important; }</style>"
      ],
      "text/plain": [
       "<IPython.core.display.HTML object>"
      ]
     },
     "metadata": {},
     "output_type": "display_data"
    },
    {
     "data": {
      "text/html": [
       "<style>.input_area pre {font-family: Consolas; font-size: 20pt; line-height: 140%;}</style>"
      ],
      "text/plain": [
       "<IPython.core.display.HTML object>"
      ]
     },
     "metadata": {},
     "output_type": "display_data"
    },
    {
     "data": {
      "text/html": [
       "<style>.output_area pre {font-family: Consolas; font-size: 20pt; line-height: 140%;}</style>"
      ],
      "text/plain": [
       "<IPython.core.display.HTML object>"
      ]
     },
     "metadata": {},
     "output_type": "display_data"
    }
   ],
   "source": [
    "from IPython.core.display import display, HTML\n",
    "display(HTML(\"<style>.container { width:95% !important; }</style>\"))\n",
    "display(HTML(\"<style>.input_area pre {font-family: Consolas; font-size: 20pt; line-height: 140%;}</style>\"))\n",
    "display(HTML(\"<style>.output_area pre {font-family: Consolas; font-size: 20pt; line-height: 140%;}</style>\"))"
   ]
  },
  {
   "cell_type": "markdown",
   "metadata": {},
   "source": [
    "# 제출 방법\n",
    "1. 파일 이름에서 '학번'을 자신의 학번으로, '이름'을 자신의 이름으로 고쳐서 제출하시오.\n"
   ]
  },
  {
   "cell_type": "code",
   "execution_count": 60,
   "metadata": {},
   "outputs": [
    {
     "ename": "TypeError",
     "evalue": "'list_iterator' object is not callable",
     "output_type": "error",
     "traceback": [
      "\u001b[1;31m---------------------------------------------------------------------------\u001b[0m",
      "\u001b[1;31mTypeError\u001b[0m                                 Traceback (most recent call last)",
      "\u001b[1;32m<ipython-input-60-5e5f8e47142f>\u001b[0m in \u001b[0;36m<module>\u001b[1;34m\u001b[0m\n\u001b[0;32m     17\u001b[0m \u001b[0msoup\u001b[0m \u001b[1;33m=\u001b[0m \u001b[0mBeautifulSoup\u001b[0m\u001b[1;33m(\u001b[0m\u001b[0mhtml\u001b[0m\u001b[1;33m,\u001b[0m \u001b[1;34m'lxml'\u001b[0m\u001b[1;33m)\u001b[0m\u001b[1;33m\u001b[0m\u001b[1;33m\u001b[0m\u001b[0m\n\u001b[0;32m     18\u001b[0m \u001b[1;33m\u001b[0m\u001b[0m\n\u001b[1;32m---> 19\u001b[1;33m \u001b[1;32mfor\u001b[0m \u001b[0mi\u001b[0m \u001b[1;32min\u001b[0m \u001b[0msoup\u001b[0m\u001b[1;33m.\u001b[0m\u001b[0mbody\u001b[0m\u001b[1;33m.\u001b[0m\u001b[0mchildren\u001b[0m\u001b[1;33m(\u001b[0m\u001b[1;33m)\u001b[0m\u001b[1;33m:\u001b[0m\u001b[1;33m\u001b[0m\u001b[1;33m\u001b[0m\u001b[0m\n\u001b[0m\u001b[0;32m     20\u001b[0m     \u001b[0mprint\u001b[0m\u001b[1;33m(\u001b[0m\u001b[0mi\u001b[0m\u001b[1;33m)\u001b[0m\u001b[1;33m\u001b[0m\u001b[1;33m\u001b[0m\u001b[0m\n",
      "\u001b[1;31mTypeError\u001b[0m: 'list_iterator' object is not callable"
     ]
    }
   ],
   "source": [
    "# 이 셀을 실행시키세요.\n",
    "from bs4 import BeautifulSoup\n",
    "\n",
    "html = \"\"\"\n",
    "<html>\n",
    "    <head><title class=\"c\">test site</title></head>\n",
    "    <body>\n",
    "        <p>test1</p>\n",
    "        <p class=\"c\" id=\"pp\">test2</p>\n",
    "        <p class=\"d\">test3</p></p>\n",
    "        <p class=\"e\">test4</p></p>\n",
    "        <a>a tag</a>\n",
    "        <b class=\"e\">b tag</b>\n",
    "    </body>\n",
    "</html>\"\"\"\n",
    "\n",
    "soup = BeautifulSoup(html, 'lxml')\n",
    "\n",
    "for i in soup.body.children():\n",
    "    print(i)\n"
   ]
  },
  {
   "cell_type": "markdown",
   "metadata": {},
   "source": [
    "# 문제1\n",
    "BeautifulSoup 객체를 이용하여 `<p>` 태그를 찾아서 출력하시오.\n",
    "\n",
    "(.find() 함수 이용)\n",
    "\n",
    "***출력***\n",
    "```\n",
    "<p>test1</p>\n",
    "```"
   ]
  },
  {
   "cell_type": "code",
   "execution_count": 61,
   "metadata": {},
   "outputs": [
    {
     "name": "stdout",
     "output_type": "stream",
     "text": [
      "<p>test1</p>\n"
     ]
    }
   ],
   "source": [
    "print(soup.find('p'))"
   ]
  },
  {
   "cell_type": "markdown",
   "metadata": {},
   "source": [
    "# 문제2\n",
    "BeautifulSoup 객체를 이용하여 `<p>` 태그중에서 `class` 태그 속성이 `'d'` 인 태그를 찾아서 출력하시오.\n",
    "\n",
    "(.find() 함수 이용)\n",
    "\n",
    "***출력***\n",
    "```\n",
    "<p class=\"d\">test3</p>\n",
    "```"
   ]
  },
  {
   "cell_type": "code",
   "execution_count": 62,
   "metadata": {},
   "outputs": [
    {
     "name": "stdout",
     "output_type": "stream",
     "text": [
      "<p class=\"d\">test3</p>\n"
     ]
    }
   ],
   "source": [
    "print(soup.find('p',class_='d'))"
   ]
  },
  {
   "cell_type": "markdown",
   "metadata": {},
   "source": [
    "# 문제3\n",
    "BeautifulSoup 객체를 이용하여 `id` 태그 속성값이 `'pp'` 인 태그를 찾아서 출력하시오.\n",
    "\n",
    "(.find() 함수 이용)\n",
    "\n",
    "***출력***\n",
    "```\n",
    "<p class=\"c\" id=\"pp\">test2</p>\n",
    "```"
   ]
  },
  {
   "cell_type": "code",
   "execution_count": 67,
   "metadata": {},
   "outputs": [
    {
     "name": "stdout",
     "output_type": "stream",
     "text": [
      "<p class=\"c\" id=\"pp\">test2</p>\n"
     ]
    }
   ],
   "source": [
    "print(soup.find(True , id='pp'))"
   ]
  },
  {
   "cell_type": "markdown",
   "metadata": {},
   "source": [
    "# 문제4\n",
    "BeautifulSoup 객체를 이용하여 모든 `<p>` 태그를 찾아서 리스트 형태로 출력하시오.\n",
    "\n",
    "(.find_all() 함수 이용)\n",
    "\n",
    "***출력***\n",
    "```\n",
    "[<p>test1</p>, <p class=\"c\" id=\"pp\">test2</p>, <p class=\"d\">test3</p>, <p class=\"e\">test4</p>]\n",
    "```"
   ]
  },
  {
   "cell_type": "code",
   "execution_count": 69,
   "metadata": {
    "scrolled": true
   },
   "outputs": [
    {
     "name": "stdout",
     "output_type": "stream",
     "text": [
      "[<p>test1</p>, <p class=\"c\" id=\"pp\">test2</p>, <p class=\"d\">test3</p>, <p class=\"e\">test4</p>]\n"
     ]
    }
   ],
   "source": [
    "\n",
    "print(soup.body.find_all('p'))"
   ]
  },
  {
   "cell_type": "markdown",
   "metadata": {},
   "source": [
    "# 문제5\n",
    "BeautifulSoup 객체를 이용하여 `<p>` 태그 이면서 `class` 태그 속성 값이 `'e'`인 모든 태그를 찾아서 리스트 형태로 출력하시오.\n",
    "\n",
    "(.find_all() 함수 이용)\n",
    "\n",
    "***출력***\n",
    "```\n",
    "[<p class=\"e\">test4</p>]\n",
    "```"
   ]
  },
  {
   "cell_type": "code",
   "execution_count": 70,
   "metadata": {
    "scrolled": true
   },
   "outputs": [
    {
     "name": "stdout",
     "output_type": "stream",
     "text": [
      "[<p class=\"e\">test4</p>]\n"
     ]
    }
   ],
   "source": [
    "print(soup.find_all('p', class_='e'))"
   ]
  },
  {
   "cell_type": "markdown",
   "metadata": {},
   "source": [
    "# 문제6\n",
    "BeautifulSoup 객체를 이용하여 모든 `<p>` 태그들의 text를 한줄에 하나씩 출력하시오.\n",
    "\n",
    "(.find_all() 함수 이용)\n",
    "\n",
    "***출력***\n",
    "```\n",
    "test1\n",
    "test2\n",
    "test3\n",
    "test4\n",
    "```"
   ]
  },
  {
   "cell_type": "code",
   "execution_count": 72,
   "metadata": {
    "scrolled": true
   },
   "outputs": [
    {
     "name": "stdout",
     "output_type": "stream",
     "text": [
      "[<p>test1</p>, <p class=\"c\" id=\"pp\">test2</p>, <p class=\"d\">test3</p>, <p class=\"e\">test4</p>]\n",
      "test1\n",
      "test2\n",
      "test3\n",
      "test4\n"
     ]
    }
   ],
   "source": [
    "print(soup.find_all('p'))\n",
    "\n",
    "for i in soup.find_all('p'):\n",
    "    print(i.text)"
   ]
  },
  {
   "cell_type": "markdown",
   "metadata": {},
   "source": [
    "# 문제7\n",
    "BeautifulSoup 객체를 이용하여 `class` 태그속성 값이 `'e'`인 모든 태그들을 한줄에 하나씩 출력하시오.\n",
    "\n",
    "(.find_all() 함수 이용)\n",
    "\n",
    "***출력***\n",
    "```\n",
    "<p class=\"e\">test4</p>\n",
    "<b class=\"e\">b tag</b>\n",
    "```"
   ]
  },
  {
   "cell_type": "code",
   "execution_count": 74,
   "metadata": {},
   "outputs": [
    {
     "name": "stdout",
     "output_type": "stream",
     "text": [
      "[<p class=\"e\">test4</p>, <b class=\"e\">b tag</b>]\n",
      "<p class=\"e\">test4</p>\n",
      "<b class=\"e\">b tag</b>\n"
     ]
    }
   ],
   "source": [
    "print(soup.find_all(class_='e'))\n",
    "\n",
    "for i in soup.find_all(class_='e'):\n",
    "    print(i)"
   ]
  },
  {
   "cell_type": "markdown",
   "metadata": {},
   "source": [
    "# 문제8\n",
    "BeautifulSoup 객체를 이용하여 `class` 태그속성이 있는 모든 태그를 한줄에 하나씩 출력하시오.\n",
    "\n",
    "(.find_all() 함수 이용)\n",
    "\n",
    "***출력***\n",
    "```\n",
    "<title class=\"c\">test site</title>\n",
    "<p class=\"c\" id=\"pp\">test2</p>\n",
    "<p class=\"d\">test3</p>\n",
    "<p class=\"e\">test4</p>\n",
    "<b class=\"e\">b tag</b>\n",
    "```"
   ]
  },
  {
   "cell_type": "code",
   "execution_count": 76,
   "metadata": {},
   "outputs": [
    {
     "name": "stdout",
     "output_type": "stream",
     "text": [
      "<title class=\"c\">test site</title>\n",
      "<p class=\"c\" id=\"pp\">test2</p>\n",
      "<p class=\"d\">test3</p>\n",
      "<p class=\"e\">test4</p>\n",
      "<b class=\"e\">b tag</b>\n"
     ]
    }
   ],
   "source": [
    "for i in soup.find_all(class_=True):\n",
    "    print(i)"
   ]
  },
  {
   "cell_type": "markdown",
   "metadata": {},
   "source": [
    "# 문제9\n",
    "https://www.python.org/\n",
    "\n",
    "위 홈페이지에 있는 첫 번째 `<img>` 태그의 모든 속성 값을 한줄에 하나씩 출력하시오.\n",
    "\n",
    "단 태그 속성은 대괄호(`[,]`)로 둘러 싸이게 출력한다.\n",
    "\n",
    "(Tag 객체의 .attrs 속성 이용)\n",
    "\n",
    "\n",
    "***출력***\n",
    "```\n",
    "[class]:['python-logo']\n",
    "[src]:/static/img/python-logo.png\n",
    "[alt]:python™\n",
    "```"
   ]
  },
  {
   "cell_type": "code",
   "execution_count": 82,
   "metadata": {},
   "outputs": [
    {
     "name": "stdout",
     "output_type": "stream",
     "text": [
      "class ['python-logo']\n",
      "src /static/img/python-logo.png\n",
      "alt python™\n"
     ]
    }
   ],
   "source": [
    "import requests as rq\n",
    "from bs4 import BeautifulSoup\n",
    "\n",
    "res = rq.get('https://www.python.org/')\n",
    "soup = BeautifulSoup( res.text , 'lxml')\n",
    "\n",
    "attrs = soup.find('img').attrs\n",
    "\n",
    "for k,v in attrs.items():\n",
    "    print(k,v)"
   ]
  },
  {
   "cell_type": "markdown",
   "metadata": {},
   "source": [
    "# 문제10 - 보너스 문제\n",
    "\n",
    "https://news.daum.net/ranking/popular\n",
    "\n",
    "위 홈페이지에 있는 모든 기사 제목과 링크를 아래와 같이 출력하시오.\n",
    "\n",
    "(힌트: class 태그속성이 tit_thumb 인 태그들을 이용한다.)\n",
    "\n",
    "***출력***\n",
    "```\n",
    "[1]:익산 대형 식자재마트 개점 한달만에 폐업..100억원대 피해 [https://v.daum.net/v/20210412111619572]\n",
    "[2]:[단독]\"짜장면 먹고 싶어\" 112 신고에 기지 발휘한 경찰, 성폭력 피해자 구출 [https://v.daum.net/v/20210412105637560]\n",
    "[3]:'성매매 했나' 6인병실 치료중인 여성 조사..\"인권침해\" [https://v.daum.net/v/20210412120040493]\n",
    "[4]:국민의당 최고위원 \"범죄자 신분에 건방지게\" 김종인 원색비난 [https://v.daum.net/v/20210412120833779]\n",
    "[5]:[단독]\"정치 한심한꼴 부끄럽다\" 떠난 이철희, 靑정무수석 내정 [https://v.daum.net/v/20210412112421959]\n",
    "[6]:[궁금하軍] 미국산 전투기 사면 되는데.. KF-21은 왜 '무모한 도전'을 했나 [https://v.daum.net/v/20210412120008434]\n",
    "[7]:오세훈표 서울 방역.. \"노래방 등 입장때 코로나 진단 키트 쓰자\" [https://v.daum.net/v/20210412111434468]\n",
    "[8]:\"장기가 사라졌다\"..미얀마 군경, 시신 돌려주는 대가로 10만원 요구 [https://v.daum.net/v/20210412102607242]\n",
    "```"
   ]
  },
  {
   "cell_type": "code",
   "execution_count": 58,
   "metadata": {},
   "outputs": [
    {
     "name": "stdout",
     "output_type": "stream",
     "text": [
      "[1]:\"난 개가 아냐\" 윤여정 입담에 홀딱 반한 영국 언론..\"연설 챔피언, 최고 연설\"[https://v.daum.net/v/20210426234602088]\n",
      "[2]:덮죽 이어 로제떡볶이..표절 논란에 소비자들 '불매 단죄'[https://v.daum.net/v/20210426214209051]\n",
      "[3]:'커피 중단' 필요성 알리는 7가지 신호[https://v.daum.net/v/20210426203016209]\n",
      "[4]:인도 교민 \"버림받았다\" 격앙..코로나에 귀국 항공편 중단까지(종합)[https://v.daum.net/v/20210426210149563]\n",
      "[5]:먼저 뚫어지게 쳐다봐놓고..'눈 마주쳤다'던 CCTV 보니[https://v.daum.net/v/20210426203607263]\n",
      "[6]:AZ 접종 후 사지마비 40대 간호조무사..당국, 백신 인과관계 재심의[https://v.daum.net/v/20210426220151371]\n",
      "[7]:코로나 확진 변정수, 박세리 \"극복하여 돌아오겠다\"[https://v.daum.net/v/20210426221602511]\n",
      "[8]:반말 보도자료로 끝?..벨기에서도 '시끌시끌'[https://v.daum.net/v/20210426203114220]\n",
      "[9]:서울 오후 9시 109명 확진..한달여만에 최소 기록 전망(종합)[https://v.daum.net/v/20210426213258969]\n",
      "[10]:강화도 숨진채 발견된 30대女, 가족과 살다가 살해당해[https://v.daum.net/v/20210426175348431]\n",
      "[11]:코로나19로 중학생 '학력 양극화' 뚜렷..고교생은 '학력 저하'[https://v.daum.net/v/20210426215213219]\n",
      "[12]:\"몰랐을 리 없어\" 고발당한 정인이 양외할머니..방조 혐의 수사[https://v.daum.net/v/20210426210415605]\n",
      "[13]:[영상] 경찰, '옷가게 직원 폭행' 주한 벨기에 대사 부인 출석 요구..대사 \"협조할 것\"(종합)[https://v.daum.net/v/20210426200641918]\n",
      "[14]:새치기로 중국 백신 접종했던 페루 전 대통령, 코로나19 확진[https://v.daum.net/v/20210427000025183]\n",
      "[15]:점심시간 혼자 일하다..후진하던 트럭에 노동자 참변[https://v.daum.net/v/20210426204013299]\n",
      "[16]:확진자 없는 시골마을, '5인 해제' 시범운영 해보니[https://v.daum.net/v/20210426210419606]\n",
      "[17]:'내로남불' 사천 비행단장, 노마스크 축구·부부골프·회식까지(종합)[https://v.daum.net/v/20210426210650635]\n",
      "[18]:벨기에 대사 부인 계속 버티면 어쩌나..\"강제추방도 가능\"[https://v.daum.net/v/20210426200015817]\n",
      "[19]:\"보라빛 아이폰12 아니면 어때\"..아이폰XS 10만원대 '헐값' 떨이 [IT선빵!][https://v.daum.net/v/20210426205252421]\n",
      "[20]:\"97만원 자전거가 단돈 100원대\"..역대급 할인 축포 쏜다[https://v.daum.net/v/20210426172307308]\n",
      "[21]:\"우린 사생활도 없냐\" 공무원들 사적모임 금지에 뿔났다[https://v.daum.net/v/20210427000418262]\n",
      "[22]:日언론, 윤여정 수상에 '씁쓸'..\"한국영화에 완전히 추월\"[https://v.daum.net/v/20210426190359857]\n",
      "[23]:중국 첫 4만t급 강습상륙함 하이난 실전배치..\"대만침공 염두\"[https://v.daum.net/v/20210426220206376]\n",
      "[24]:주택규제에 대출 잘 나오는 주거지역 상가건물로 돈몰린다 [현장르포][https://v.daum.net/v/20210426182456212]\n",
      "[25]:[날씨] 흐리고 오후부터 곳곳 비..미세먼지 양호[https://v.daum.net/v/20210426200008814]\n",
      "[26]:[제보는 MBC] 동네서 자취한다는 여성과 영상통화 했다가..[https://v.daum.net/v/20210426202813182]\n",
      "[27]:엄지발가락에 피 안 통한다는 이시영의 샤넬 샌들, 화제의 고준희 샤넬 볼 캡?[https://v.daum.net/v/20210426125958433]\n",
      "[28]:열흘간 샤워 금지, 잘 때도 마스크.. 훈련병 도 넘은 '방역 군기'[https://v.daum.net/v/20210426231607894]\n",
      "[29]:\"오빠도 맞았다, 자궁경부암 백신\".. 남녀 같이 접종 때 효과↑[https://v.daum.net/v/20210426203158224]\n",
      "[30]:유령선에 갇혀 나홀로 4년..배와 함께 버려진 선원의 기구한 사연[https://v.daum.net/v/20210426133109248]\n",
      "[31]:\"목줄 안 한 대형견에게 물려간 말티푸를 찾습니다\"[https://v.daum.net/v/20210427000647296]\n",
      "[32]:70대 마구 때린 '키 190cm' 20대..경찰 \"살인미수 검토\"[https://v.daum.net/v/20210426120122215]\n",
      "[33]:[뉴스업]\"임은정·한동훈이 檢총장 후보? 서프라이즈냐 컷오프냐\"[https://v.daum.net/v/20210426204201309]\n",
      "[34]:중국 최고명문 칭화대 여학생의 어설픈 '섹시 댄스' 논란[https://v.daum.net/v/20210426214101044]\n",
      "[35]:아카데미 휩쓴 중국계 클로이 자오..중 언론·SNS '의도적 침묵' 왜?[https://v.daum.net/v/20210426144606310]\n",
      "[36]:코로나19에도 세계 국방비는 늘어..'1위' 美 39%· 한국 10위[https://v.daum.net/v/20210426203359239]\n",
      "[37]:'노매드랜드' 오스카 3관왕에도 중국이 조용한 이유[https://v.daum.net/v/20210426230203830]\n",
      "[38]:'귀농귀촌, 이젠 살아보고 결정'..6달까지 체험 가능[https://v.daum.net/v/20210426220424419]\n",
      "[39]:군대, 이번엔 '케이크 비리' 터졌다..'황당 답변'[https://v.daum.net/v/20210426211918797]\n",
      "[40]:소변 색이 보내는 건강 신호.. 투명한 무색이면?[https://v.daum.net/v/20210426134215561]\n",
      "[41]:러 \"스푸트니크V 세계 최고\".. 정부는 '도입 불필요' 가닥[https://v.daum.net/v/20210426210145561]\n",
      "[42]:해저 838미터에서 세 동강 난 채..\"53명 전원 사망\"[https://v.daum.net/v/20210426203713277]\n",
      "[43]:\"살 빠지니 예뻐졌네\"..칭찬 아닌 압박 된다[https://v.daum.net/v/20210426210009535]\n",
      "[44]:이젠 목재값까지 폭등..WSJ \"대공황 전 광란의 1920년대 비슷\"[https://v.daum.net/v/20210427000846336]\n",
      "[45]:[현장K] '기름 넣는 척 빼돌리기'..건설장비 주유 조작 기승[https://v.daum.net/v/20210426215148210]\n",
      "[46]:[탄소제로]\"승용차 20만 대분 탄소 흡수\"..떠오르는 '블루카본'[https://v.daum.net/v/20210426205110403]\n",
      "[47]:배달음식·혼밥 때문에..고혈압·당뇨병 환자 1590만명[https://v.daum.net/v/20210427000311244]\n",
      "[48]:'반도체 초격차' 삼성전자, NXP 인수하나..M&A 가능성 수면 위로[https://v.daum.net/v/20210427000004167]\n",
      "[49]:마스크 벗고 축구한 공군 준장..'방역 해이'가 불러온 집단감염?[https://v.daum.net/v/20210426224155715]\n",
      "[50]:코인 광풍에 공직사회도 혼란.. 금융위, 암호화폐 부서 직원들 투자 현황 점검[https://v.daum.net/v/20210426231602890]\n",
      "[51]: 비혼모·비혼부 가족이 비정상? \"아이 행복이 판단 기준돼야\"[https://v.daum.net/v/20210427003446550]\n",
      "[52]: 21세기 편자의 못을 쥐고 있어야 대한민국이 생존한다[https://v.daum.net/v/20210427003247542]\n"
     ]
    }
   ],
   "source": [
    "import requests as rq\n",
    "\n",
    "\n",
    "res = rq.get(\"https://news.daum.net/ranking/popular\")\n",
    "soup = BeautifulSoup(res.text, 'lxml')\n",
    "\n"
   ]
  },
  {
   "cell_type": "code",
   "execution_count": null,
   "metadata": {},
   "outputs": [],
   "source": []
  }
 ],
 "metadata": {
  "kernelspec": {
   "display_name": "Python 3",
   "language": "python",
   "name": "python3"
  },
  "language_info": {
   "codemirror_mode": {
    "name": "ipython",
    "version": 3
   },
   "file_extension": ".py",
   "mimetype": "text/x-python",
   "name": "python",
   "nbconvert_exporter": "python",
   "pygments_lexer": "ipython3",
   "version": "3.8.5"
  }
 },
 "nbformat": 4,
 "nbformat_minor": 4
}
