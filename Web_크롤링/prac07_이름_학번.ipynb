{
 "cells": [
  {
   "cell_type": "code",
   "execution_count": 25,
   "metadata": {},
   "outputs": [
    {
     "data": {
      "text/html": [
       "<style>.container { width:95% !important; }</style>"
      ],
      "text/plain": [
       "<IPython.core.display.HTML object>"
      ]
     },
     "metadata": {},
     "output_type": "display_data"
    },
    {
     "data": {
      "text/html": [
       "<style>.input_area pre {font-family: Consolas; font-size: 15pt; line-height: 140%;}</style>"
      ],
      "text/plain": [
       "<IPython.core.display.HTML object>"
      ]
     },
     "metadata": {},
     "output_type": "display_data"
    },
    {
     "data": {
      "text/html": [
       "<style>.output_area pre {font-family: Consolas; font-size: 15pt; line-height: 140%;}</style>"
      ],
      "text/plain": [
       "<IPython.core.display.HTML object>"
      ]
     },
     "metadata": {},
     "output_type": "display_data"
    }
   ],
   "source": [
    "from IPython.core.display import display, HTML\n",
    "display(HTML(\"<style>.container { width:95% !important; }</style>\"))\n",
    "display(HTML(\"<style>.input_area pre {font-family: Consolas; font-size: 15pt; line-height: 140%;}</style>\"))\n",
    "display(HTML(\"<style>.output_area pre {font-family: Consolas; font-size: 15pt; line-height: 140%;}</style>\"))"
   ]
  },
  {
   "cell_type": "markdown",
   "metadata": {},
   "source": [
    "# 제출 방법\n",
    "1. 파일 이름에서 '학번'을 자신의 학번으로, '이름'을 자신의 이름으로 고치시오.\n"
   ]
  },
  {
   "cell_type": "markdown",
   "metadata": {},
   "source": [
    "# 문제1\n",
    "\n",
    "아래 url에서 keyword를 검색하여 나온 결과를 아래와 같이 출력해 주는 함수를 구현하시오.\n",
    "\n",
    "https://kr.indeed.com/\n",
    "\n",
    "참고) indeed.com 은 글로벌한 온라인 채용 사이트이다.\n",
    "\n",
    "- parameter:\n",
    "    - keyword: 검색하고 싶은 문자열\n",
    "- return: 없음\n",
    "\n",
    "결과는 서버 상황에 따라 달라 질 수 있음.\n",
    "\n",
    "***결과*** \n",
    "\n",
    "```\n",
    "Indeed 검색: 파이썬\n",
    "1 - [서울][LG유플러스]: 데이터사업 경력사원\n",
    "2 - [대전 동구][우송대학교산학협력단]: 2021년 이공계 전문기술 연수사업 취업연계 무료 교육생\n",
    "3 - [충청남도 계룡][심네트]: (충남 계룡시) 국방 M&S 연구분석관 (박사)\n",
    "4 - [광주 광산구][대한상공회의소 광주인력개발원]: (광주취업맛집1위)2021년도 국비 기술교육생\n",
    "5 - [서울 금천구][서큘러스]: 교육콘텐츠 개발(신입/경력)\n",
    "6 - [서울 강남구][하이서울기업협회]: [서울시 뉴딜일자리/하이서울기업협회] 데이터 리터러시 & 파이썬 과정 취업연계 참여자\n",
    "7 - [서울 성동구][파인헬스케어]: [신입/경력] 파이썬 백엔드 웹 개발자\n",
    "8 - [서울 구로구][한국직업전문학교]: [넥슨·엔씨소프트등] 자바·파이썬 응용SW 개발자 양성교육 · 동종업계 신입 초봉5천1\n",
    "9 - [서울 광진구][전국렌터카공제조합]: IT부문 신입직원\n",
    "10 - [서울 강남구][넷아이디]: AI 개발자\n",
    "11 - [서울 서초구][데이터앤솔루션]: 파이썬 개발자 초중급 이상\n",
    "12 - [대한민국][KIS채권평가]: 신입 및 경력직원 수시 (IT본부, 금융컨설팅본부)\n",
    "13 - [고양 일산동구][플레이소프트일산백마센터영재코딩학원]: 코딩강사 경력 프리랜서, 위촉직, 알바\n",
    "14 - [서울 강남구][한섬]: 고객케어팀(CRM분석) 경력 (5년 이상)\n",
    "15 - [서울 금천구][한국산업기술협회]: IoT 전문가 양성 과정 훈련생\n",
    "\n",
    "Indeed 검색: nexon\n",
    "1 - [성남 분당구][Nexon]: 자산관리 업무담당자\n",
    "2 - [성남 분당구][Nexon]: 사내 복지시설, 업무지원 담당자 (경력)\n",
    "3 - [성남 분당구][Nexon]: 게임이상탐지 분석/개발\n",
    "4 - [성남 분당구][Nexon]: IDC 엔지니어링 및 클라우드 거버넌스, 기술지원 업무 담당자\n",
    "5 - [성남 분당구][Nexon]: 담당자(경력)\n",
    "6 - [성남 분당구][Nexon]: 개인정보보호 교육 및 보호조치 운영업무\n",
    "7 - [성남 분당구][Nexon]: 경험최적화 - 데이터 사이언티스트/분석가\n",
    "8 - [성남 분당구][Nexon]: 모바일 프로젝트 일본 사업PM\n",
    "9 - [성남 분당구][Nexon]: 테크니컬 라이터(Technical Writer)\n",
    "10 - [성남 분당구][Nexon]: 글로벌성장전략실\n",
    "11 - [성남 분당구][게임하이]: [수시채용] 웹프로그래머\n",
    "12 - [성남 분당구][Nexon]: 사내IT팀 IT(VPN,방화벽, 보안솔루션) 및 인프라 구축/운영 관리 업무\n",
    "13 - [성남 분당구][Nexon]: 21년 전문연구요원 (AI엔지니어)\n",
    "14 - [성남 분당구][게임하이]: [수시채용] 사운드 제작\n",
    "15 - [성남 분당구][Nexon]: 투자전략그룹 Associate\n",
    "\n",
    "Indeed 검색: 크롤링\n",
    "1 - [성남 분당구][Nexon]: 데이터 분석 / 모델링\n",
    "2 - [성남 분당구][Nexon]: 콘텐츠서비스개발- 데이터엔지니어\n",
    "3 - [대전 유성구][유펜솔루션]: [유펜솔루션]백엔드/웹크롤링개발자\n",
    "4 - [제주도 제주][쏘카]: 비즈니스 분석가\n",
    "5 - [서울][버즈니]: [AI/Lab] AI 백엔드 엔지니어 (마케팅 분야)\n",
    "6 - [서울 송파구][웹비즈크리에이티브]: 웹/앱 프로그래머, 디자이너, 퍼블리셔, 기획자\n",
    "7 - [서울 회현동][우리은행]: [진행중] 우리은행 MyDataACT 전문직(데이터 관리(웹 크롤러)) 채용공고\n",
    "8 - [서울][일삼헤르츠]: 일삼헤르츠(주) 웹개발 서비스 개발자 경력직\n",
    "9 - [서울 북가좌동][다겸]: 빅데이터분석가\n",
    "10 - [서울 성동구][유펜솔루션]: 유펜솔루션 프론트엔드 개발자\n",
    "11 - [광주 북구][광주과학기술원]: 한국문화기술연구소 연구직\n",
    "12 - [인천 서구][지구타켓]: 웹 개발자(웹 엔지니어·웹 프로그래머)\n",
    "13 - [인천 서구][지구타켓]: 안드로이드 IOS 앱 개발자\n",
    "14 - [서울 구로구][Success Korea]: 빅데이터 시스템 구축/분석/컨설팅\n",
    "```"
   ]
  },
  {
   "cell_type": "code",
   "execution_count": 1,
   "metadata": {},
   "outputs": [
    {
     "name": "stdout",
     "output_type": "stream",
     "text": [
      "Indeed 검색 : 파이썬\n",
      "https://kr.indeed.com/jobs?q=%ED%8C%8C%EC%9D%B4%EC%8D%AC\n",
      "1 -  [경기도][전국렌터카공제조합]:[전국렌터카공제조합] 신입 및 경력직\n",
      "2 -  [서울 구로구][큰사람커넥트]:웹개발 및 서버개발자 신입/경력 정규직\n",
      "3 -  [대한민국][모두의연구소]:기업 인공지능(AI) 강사\n",
      "4 -  [서울 금천구][한국산업기술협회]:[취업연계] 파이썬 활용 빅데이터 분석 전문가 양성과정 훈련생\n",
      "5 -  [광주 광산구][대한상공회의소 광주인력개발원]:(광주취업맛집1위)2021년도 국비 기술교육생\n",
      "6 -  [서울 성동구][노르마]:(주)노르마 기업연구소 병역특례(전문연구요원) 인재영입\n",
      "7 -  [서울 용산구][꾼]:주식회사 꾼 웹/앱 개발자\n",
      "8 -  [서울 성동구][모디엠]:차량 및 IT/SW 개발자\n",
      "9 -  [세종특별자치시][국토연구원]:사무보조 신입/경력 알바\n",
      "10 -  [서울 충정로역][파운트]:파이썬SW 금융분야 특화 챗봇 개발 함께 할 엔지니어\n",
      "11 -  [서울][머니브레인]:[인공지능기업] 머신러닝/딥러닝 엔지니어 경력\n",
      "12 -  [서울][머니브레인]:[인공지능기업] 머신러닝 병역특례 전문연구요원\n",
      "13 -  [서울 서초구][데이터앤솔루션]:파이썬 개발자 초중급 이상\n",
      "14 -  [서울 강남구][넷아이디]:(주)넷아이디 AI 개발자\n",
      "15 -  [서울][패스트캠퍼스]:[신입/경력] 콘텐츠 상품 기획자_FC1\n",
      "\n",
      "Indeed 검색 : nexon\n",
      "https://kr.indeed.com/jobs?q=nexon\n",
      "\n",
      "Indeed 검색 : 크롤링\n",
      "https://kr.indeed.com/jobs?q=%ED%81%AC%EB%A1%A4%EB%A7%81\n",
      "1 -  [성남 분당구][Nexon]:데이터 분석 / 모델링\n",
      "2 -  [서울 영등포구][LG전자]:Data Scientist\n",
      "3 -  [서울 서초구][시니어앤파트너즈]:[서초구] Node 서버 개발자 (경력)\n",
      "4 -  [성남 분당구][Nexon]:콘텐츠서비스개발- 데이터엔지니어\n",
      "5 -  [서울 성동구][유펜솔루션]:유펜솔루션 프론트엔드 개발자\n",
      "6 -  [서울][버즈니]:[AI/Lab] AI 백엔드 엔지니어 (마케팅 분야)\n",
      "7 -  [서울][일삼헤르츠]:일삼헤르츠(주) 웹개발 서비스 개발자 경력직\n",
      "8 -  [서울 송파구][웹비즈크리에이티브]:[주식회사웹비즈크리에이티브]웹/앱 프로그래머, 디자이너, 퍼블리셔, 기획자\n",
      "9 -  [제주도 제주][쏘카]:비즈니스 분석가\n",
      "10 -  [서울 구로구][Success Korea]:빅데이터 시스템 구축/분석/컨설팅\n",
      "11 -  [서울 역삼동][Success Korea]:Data Scientist\n",
      "12 -  [광주 북구][광주과학기술원]:한국문화기술연구소 연구직\n",
      "\n"
     ]
    }
   ],
   "source": [
    "import requests as rq\n",
    "from bs4 import BeautifulSoup\n",
    "from urllib.parse import urljoin\n",
    "from urllib.parse import quote\n",
    "\n",
    "def indeed_crawling(keyword):\n",
    "    print(f'Indeed 검색 : {keyword}')\n",
    "    \n",
    "    # 쿼리스트링 값을 바꿈으로써 검색결과를 다르게할 수 있음 \n",
    "    # 기존 쿼리스트링 값을 바꾸고, url 변수를 쿼리스트링으로 수정함으로써 1개의 url으로 다수의 url 주소 설정가능\n",
    "    encoded_keyword = quote(keyword)\n",
    "    url = f'https://kr.indeed.com/jobs?q={encoded_keyword}' #  기존 url 주소 https://kr.indeed.com/jobs?q=%EB%84%A4%EC%9D%B4%EB%B2%84&l=\n",
    "    print(url)\n",
    "    \n",
    "    res = rq.get(url)\n",
    "    soup = BeautifulSoup(res.text , 'lxml')\n",
    "    \n",
    "    #class=\"jobsearch-SerpJobCard unifiedRow row result clickcard\"\n",
    "    \n",
    "    for i , t in enumerate(soup.select('.jobsearch-SerpJobCard'), 1):\n",
    "        title = t.select_one('.jobtitle').get('title').strip() # t 태그의 자식 a 태그의 클래스가 jobtitle 중에서, title 을 가져오겠다 # strip() = 앞뒤 공백을 제거\n",
    "        company = t.select_one('.company').text.strip()\n",
    "        location = t.select_one('.location').text.strip()\n",
    "        \n",
    "        print( f'{i} -  [{location}][{company}]:{title}')\n",
    "    #print(soup)\n",
    "    pass \n",
    "        \n",
    "indeed_crawling('파이썬')\n",
    "print()\n",
    "indeed_crawling('nexon')\n",
    "print()\n",
    "indeed_crawling('크롤링')\n",
    "print()"
   ]
  },
  {
   "cell_type": "markdown",
   "metadata": {},
   "source": [
    "# 문제2\n",
    "\n",
    "csv 파일로 indeed 의 검색 결과를 저장하는 함수를 작성하시오.\n",
    "\n",
    "1. csv 형식으로 검색결과를 저장하는 함수를 만드시오.\n",
    "1. csv 파일은 헤더를 가지고 있다.(```'번호', '위치', '회사', '제목'```)\n",
    "\n",
    "```\n",
    "Indeed 검색: 파이썬\n",
    "1 - [서울][LG유플러스]: 데이터사업 경력사원\n",
    "2 - [대전 동구][우송대학교산학협력단]: 2021년 이공계 전문기술 연수사업 취업연계 무료 교육생\n",
    "3 - [충청남도 계룡][심네트]: (충남 계룡시) 국방 M&S 연구분석관 (박사)\n",
    "4 - [광주 광산구][대한상공회의소 광주인력개발원]: (광주취업맛집1위)2021년도 국비 기술교육생\n",
    "5 - [서울 금천구][서큘러스]: 교육콘텐츠 개발(신입/경력)\n",
    "6 - [서울 강남구][하이서울기업협회]: [서울시 뉴딜일자리/하이서울기업협회] 데이터 리터러시 & 파이썬 과정 취업연계 참여자\n",
    "7 - [서울 성동구][파인헬스케어]: [신입/경력] 파이썬 백엔드 웹 개발자\n",
    "8 - [서울 구로구][한국직업전문학교]: [넥슨·엔씨소프트등] 자바·파이썬 응용SW 개발자 양성교육 · 동종업계 신입 초봉5천1\n",
    "9 - [서울 광진구][전국렌터카공제조합]: IT부문 신입직원\n",
    "10 - [서울 강남구][넷아이디]: AI 개발자\n",
    "```"
   ]
  },
  {
   "cell_type": "code",
   "execution_count": 16,
   "metadata": {},
   "outputs": [
    {
     "name": "stdout",
     "output_type": "stream",
     "text": [
      "Indeed 검색: 파이썬\n",
      "1 - [경기도][전국렌터카공제조합] : [전국렌터카공제조합] 신입 및 경력직\n",
      "2 - [서울 구로구][큰사람커넥트] : 웹개발 및 서버개발자 신입/경력 정규직\n",
      "3 - [대한민국][모두의연구소] : 기업 인공지능(AI) 강사\n",
      "4 - [서울 금천구][한국산업기술협회] : [취업연계] 파이썬 활용 빅데이터 분석 전문가 양성과정 훈련생\n",
      "5 - [광주 광산구][대한상공회의소 광주인력개발원] : (광주취업맛집1위)2021년도 국비 기술교육생\n",
      "6 - [세종특별자치시][국토연구원] : 사무보조 신입/경력 알바\n",
      "7 - [성남 판교역][엔씨소프트] : 부정사용자 탐지 기술 상용화를 위한 AI/Data Engineer 모집\n",
      "8 - [서울 용산구][꾼] : 주식회사 꾼 웹/앱 개발자\n",
      "9 - [서울 충정로역][파운트] : 파이썬SW 금융분야 특화 챗봇 개발 함께 할 엔지니어\n",
      "10 - [서울 강남구][넷아이디] : (주)넷아이디 AI 개발자\n",
      "11 - [서울][머니브레인] : [인공지능기업] 머신러닝 병역특례 전문연구요원\n",
      "12 - [서울 서초구][데이터앤솔루션] : 파이썬 개발자 초중급 이상\n",
      "13 - [서울][머니브레인] : [인공지능기업] 머신러닝/딥러닝 엔지니어 경력\n",
      "14 - [인천][슬레이트미디어] : (주)슬레이트미디어 웹개발자 정규직\n",
      "15 - [경기도 시흥][나사록코팅] : 협동로봇 프로젝트, PLC, 기계설계 외 신입/경력 정규직\n"
     ]
    }
   ],
   "source": [
    "import requests as rq\n",
    "from bs4 import BeautifulSoup\n",
    "from urllib.parse import urljoin\n",
    "from urllib.parse import quote\n",
    "import csv\n",
    "\n",
    "def indeed_crawling_csv(keyword, csv_file):\n",
    "    \n",
    "    encoded_keyword = keyword\n",
    "    url = f'https://kr.indeed.com/jobs?q={keyword}'\n",
    "    res = rq.get(url)\n",
    "    soup = BeautifulSoup( res.text, 'lxml')\n",
    "    \n",
    "    # 번호 # 지역 # 회사명 # 직무 \n",
    "    \n",
    "    f = open( csv_file , 'w' , newline='' , encoding='utf-8')\n",
    "    \n",
    "    wr = csv.writer(f)\n",
    "    \n",
    "    headers = ['번호','지역','회사명','직무']\n",
    "    \n",
    "    wr.writerow(headers)\n",
    "    \n",
    "    print('Indeed 검색:', keyword )\n",
    "    for i,t in enumerate(soup.select('div.jobsearch-SerpJobCard'),1):\n",
    "        location = t.select_one('span.location').text.strip()\n",
    "        company = t.select_one('span.company').text.strip()\n",
    "        title = t.select_one('a.jobtitle').get('title').strip()\n",
    "        \n",
    "        print(f'{i} - [{location}][{company}] : {title}')\n",
    "        \n",
    "        row = [i, location, company , title]\n",
    "        wr.writerow(headers)\n",
    "        \n",
    "    f.close()\n",
    "    pass     \n",
    "\n",
    "\n",
    "# 아래는 수정하지 마시오.\n",
    "indeed_crawling_csv(\"파이썬\", 'indeed_jobs.csv')"
   ]
  },
  {
   "cell_type": "markdown",
   "metadata": {},
   "source": [
    "# 문제 3\n",
    "\n",
    "indeed 검색결과를 엑셀파일로 저장하는 함수를 작성하시오.\n",
    "\n",
    "1. 엑셀 형식으로 검색결과를 저장하는 함수를 만드시오.\n",
    "1. 엑셀 파일은 헤더를 가지고 있다.(```'번호', '위치', '회사', '제목'```)\n",
    "\n",
    "***결과***\n",
    "```\n",
    "Indeed 검색: 파이썬\n",
    "1 - [서울][LG유플러스]: 데이터사업 경력사원\n",
    "2 - [대전 동구][우송대학교산학협력단]: 2021년 이공계 전문기술 연수사업 취업연계 무료 교육생\n",
    "3 - [충청남도 계룡][심네트]: (충남 계룡시) 국방 M&S 연구분석관 (박사)\n",
    "4 - [광주 광산구][대한상공회의소 광주인력개발원]: (광주취업맛집1위)2021년도 국비 기술교육생\n",
    "5 - [서울 금천구][서큘러스]: 교육콘텐츠 개발(신입/경력)\n",
    "6 - [서울 강남구][하이서울기업협회]: [서울시 뉴딜일자리/하이서울기업협회] 데이터 리터러시 & 파이썬 과정 취업연계 참여자\n",
    "7 - [서울 성동구][파인헬스케어]: [신입/경력] 파이썬 백엔드 웹 개발자\n",
    "8 - [서울 구로구][한국직업전문학교]: [넥슨·엔씨소프트등] 자바·파이썬 응용SW 개발자 양성교육 · 동종업계 신입 초봉5천1\n",
    "9 - [서울 광진구][전국렌터카공제조합]: IT부문 신입직원\n",
    "10 - [서울 강남구][넷아이디]: AI 개발자\n",
    "```\n"
   ]
  },
  {
   "cell_type": "code",
   "execution_count": 22,
   "metadata": {},
   "outputs": [
    {
     "name": "stdout",
     "output_type": "stream",
     "text": [
      "Indeed 검색: 파이썬\n"
     ]
    }
   ],
   "source": [
    "import requests as rq\n",
    "from bs4 import BeautifulSoup\n",
    "from urllib.parse import urljoin\n",
    "from urllib.parse import quote\n",
    "import openpyxl\n",
    "\n",
    "def indeed_crawling_xlsx(keyword, xlsx_file):\n",
    "    \n",
    "    encoded_keyword = keyword\n",
    "    url = f'https://kr.indeed.com/jobs?q={keyword}'\n",
    "    res = rq.get(url)\n",
    "    soup = BeautifulSoup( res.text, 'lxml')\n",
    "    \n",
    "    # 번호 # 지역 # 회사명 # 직무 \n",
    "    \n",
    "    wb = openpyxl.Workbook()\n",
    "    sheet = wb.active\n",
    "    \n",
    "    \n",
    "    \n",
    "    headers = ['번호','지역','회사명','직무']\n",
    "    \n",
    "    sheet.append(headers)\n",
    "    \n",
    "    print('Indeed 검색:', keyword )\n",
    "    for i,t in enumerate(soup.select('div.jobsearch-SerpJobCard'),1):\n",
    "        location = t.select_one('span.location').text.strip()\n",
    "        company = t.select_one('span.company').text.strip()\n",
    "        title = t.select_one('a.jobtitle').get('title').strip()\n",
    "        \n",
    "        print(f'{i} - [{location}][{company}] : {title}')\n",
    "        \n",
    "        row = [i, location, company , title]    \n",
    "        sheet.append(row)\n",
    "        \n",
    "    wb.save(xlsx_file)    \n",
    "    pass\n",
    "\n",
    "# 아래는 수정하지 마시오.\n",
    "indeed_crawling_xlsx(\"파이썬\", 'indeed_jobs.xlsx')\n"
   ]
  },
  {
   "cell_type": "code",
   "execution_count": null,
   "metadata": {},
   "outputs": [],
   "source": []
  },
  {
   "cell_type": "code",
   "execution_count": null,
   "metadata": {},
   "outputs": [],
   "source": []
  },
  {
   "cell_type": "code",
   "execution_count": null,
   "metadata": {},
   "outputs": [],
   "source": []
  }
 ],
 "metadata": {
  "kernelspec": {
   "display_name": "Python 3",
   "language": "python",
   "name": "python3"
  },
  "language_info": {
   "codemirror_mode": {
    "name": "ipython",
    "version": 3
   },
   "file_extension": ".py",
   "mimetype": "text/x-python",
   "name": "python",
   "nbconvert_exporter": "python",
   "pygments_lexer": "ipython3",
   "version": "3.8.5"
  }
 },
 "nbformat": 4,
 "nbformat_minor": 4
}
