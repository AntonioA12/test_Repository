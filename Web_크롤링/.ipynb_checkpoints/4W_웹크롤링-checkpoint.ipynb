{
 "cells": [
  {
   "cell_type": "code",
   "execution_count": 2,
   "metadata": {},
   "outputs": [],
   "source": [
    "from bs4 import BeautifulSoup"
   ]
  },
  {
   "cell_type": "code",
   "execution_count": 4,
   "metadata": {},
   "outputs": [
    {
     "name": "stdout",
     "output_type": "stream",
     "text": [
      "<html><body><p>test</p></body></html>\n",
      "<class 'bs4.BeautifulSoup'>\n"
     ]
    }
   ],
   "source": [
    "html = \"\"\"<p>test</p>\"\"\"\n",
    "\n",
    "soup = BeautifulSoup(html, 'lxml')\n",
    "print(soup)\n",
    "print(type(soup))"
   ]
  },
  {
   "cell_type": "code",
   "execution_count": 11,
   "metadata": {},
   "outputs": [
    {
     "name": "stdout",
     "output_type": "stream",
     "text": [
      "<html>\n",
      "<head>\n",
      "<title>test site</title>\n",
      "</head>\n",
      "<body>\n",
      "<p>test1</p><p>test2</p>\n",
      "</body>\n",
      "</html>\n",
      "<class 'bs4.BeautifulSoup'>\n"
     ]
    }
   ],
   "source": [
    "html = \"\"\"\n",
    "    <html>\n",
    "        <head>\n",
    "            <title>test site</title>\n",
    "        </head>\n",
    "        <body>\n",
    "            <p>test1</p><p>test2</p>\n",
    "        </body>\n",
    "    </html>\"\"\"\n",
    "soup = BeautifulSoup(html, 'lxml')\n",
    "print(soup)\n",
    "print(type(soup))\n"
   ]
  },
  {
   "cell_type": "markdown",
   "metadata": {},
   "source": [
    "## .prettify()\n",
    "\n",
    "    Soup 를 보기 좋게 출력하는 함수 "
   ]
  },
  {
   "cell_type": "code",
   "execution_count": 16,
   "metadata": {},
   "outputs": [
    {
     "name": "stdout",
     "output_type": "stream",
     "text": [
      "<html>\n",
      " <head>\n",
      "  <title>\n",
      "   test site\n",
      "  </title>\n",
      " </head>\n",
      " <body>\n",
      "  <p>\n",
      "   test1\n",
      "  </p>\n",
      "  <p>\n",
      "   test2\n",
      "  </p>\n",
      " </body>\n",
      "</html>\n"
     ]
    }
   ],
   "source": [
    "print(soup.prettify())"
   ]
  },
  {
   "cell_type": "markdown",
   "metadata": {},
   "source": [
    "## .title , .head , .body \n",
    "\n",
    "    Soup.태그이름 \n",
    "    지정시, 지정한 태그 부분만 가져올 수 있다."
   ]
  },
  {
   "cell_type": "code",
   "execution_count": 20,
   "metadata": {},
   "outputs": [
    {
     "name": "stdout",
     "output_type": "stream",
     "text": [
      "<title>test site</title>\n",
      "<head>\n",
      "<title>test site</title>\n",
      "</head>\n",
      "<body>\n",
      "<p>test1</p><p>test2</p>\n",
      "</body>\n"
     ]
    }
   ],
   "source": [
    "tag_title = soup.title\n",
    "head_title = soup.head\n",
    "body_title = soup.body\n",
    "print(tag_title)\n",
    "print(head_title)\n",
    "print(body_title)"
   ]
  },
  {
   "cell_type": "code",
   "execution_count": 21,
   "metadata": {},
   "outputs": [
    {
     "name": "stdout",
     "output_type": "stream",
     "text": [
      "test site\n",
      "test site\n",
      "title\n"
     ]
    }
   ],
   "source": [
    "print(tag_title.text) # 태그에 포함되어 있는 모든 텍스트 = <> </> 사이의 내용 전부 나온다. (<> </> 제외하고 )\n",
    "print(tag_title.string) # 태그의 스트링 = <> </>  \n",
    "print(tag_title.name) # <>태그의 이름 호출 \n"
   ]
  },
  {
   "cell_type": "code",
   "execution_count": 25,
   "metadata": {},
   "outputs": [
    {
     "name": "stdout",
     "output_type": "stream",
     "text": [
      "<title>test site</title>\n",
      "\n",
      "test site\n",
      "\n",
      "test site\n",
      "\n",
      "title\n"
     ]
    }
   ],
   "source": [
    "tag_title = soup.title\n",
    "\n",
    "print(tag_title)\n",
    "print()\n",
    "print(tag_title.text) # 모든 태그들의 텍스트 반환 \n",
    "print()\n",
    "print(tag_title.string) # tag 가 1개일 경우 반환 ok , 2 개 이상의 tag 라면 반환 X \n",
    "print()\n",
    "print(tag_title.name)"
   ]
  },
  {
   "cell_type": "markdown",
   "metadata": {},
   "source": [
    "## tag 속성, class, id 접근하기 /  .attrs = 모든 태그속성 dic{} 형태로 "
   ]
  },
  {
   "cell_type": "code",
   "execution_count": 34,
   "metadata": {},
   "outputs": [
    {
     "name": "stdout",
     "output_type": "stream",
     "text": [
      "{'class': ['t', 's'], 'id': 'ti'}\n",
      "['t', 's']\n",
      "['t', 's']\n",
      "just ok\n"
     ]
    }
   ],
   "source": [
    "html = \"\"\"\n",
    "<html>\n",
    "    <head>\n",
    "        <title class=\"t s\" id=\"ti\">\n",
    "            test site\n",
    "        </title>\n",
    "    </head>\n",
    "        <body>\n",
    "            <p>test1</p><p>test2</p>\n",
    "        </body>\n",
    "</html>\"\"\"\n",
    "soup = BeautifulSoup(html, 'lxml')\n",
    "\n",
    "tag_title = soup.title\n",
    "print(tag_title.attrs) # 모든 태그속성을 딕셔너리 형태로 반환\n",
    "print(tag_title.attrs['class']) # ['class'] 형태로도 변환가능 \n",
    "print(tag_title['class']) # attrs 생략 가능 \n",
    "\n",
    "print(tag_title.get('size','just ok')) # 'size' 찾고 있으면 호출 ( 찾을 대상 , 없을 경우 출력 대상 ) "
   ]
  },
  {
   "cell_type": "markdown",
   "metadata": {},
   "source": [
    "### class[] 와 dic{} 형태의 차이?\n",
    "\n",
    "    - 일반적으로 호출시 dic{} 형태로 출력\n",
    "    - class[] 호출시 list() 형태로 출력되고, [속성값]을 가져올 수 있다. \n",
    "    - 뿐만 아니라, class 형태의 HTML 구조가 많다"
   ]
  },
  {
   "cell_type": "code",
   "execution_count": 41,
   "metadata": {},
   "outputs": [
    {
     "name": "stdout",
     "output_type": "stream",
     "text": [
      "<span>test1</span>\n",
      "test1\n",
      "[<span>test1</span>, <span>test2</span>]\n",
      "<list_iterator object at 0x000001620E288400>\n",
      "<span>test1</span>\n",
      "<span>test2</span>\n"
     ]
    }
   ],
   "source": [
    "html = \"\"\"<html><head><title class=\"t\" id=\"ti\">test site</title></head><body><p><span>test1</span><span>test2</span></p></body></html>\"\"\"\n",
    "soup = BeautifulSoup(html, 'lxml')\n",
    "\n",
    "print(soup.p.span) # 전체 HTML 중에서 첫 p 태그를 찾고, 찾은 태그 안에서 첫 span 태그를 리턴 \n",
    "print(soup.p.span.string) # span 태그 (1개) 의 내용을 반환 \n"
   ]
  },
  {
   "cell_type": "markdown",
   "metadata": {},
   "source": [
    "## 자식 태그 가져오기 / .contents / .children"
   ]
  },
  {
   "cell_type": "code",
   "execution_count": 42,
   "metadata": {},
   "outputs": [
    {
     "name": "stdout",
     "output_type": "stream",
     "text": [
      "[<span>test1</span>, <span>test2</span>]\n",
      "<list_iterator object at 0x000001620F6134F0>\n",
      "<span>test1</span>\n",
      "<span>test2</span>\n"
     ]
    }
   ],
   "source": [
    "print(soup.p.contents) # p 태그의 자식태그 소환 \n",
    "print(soup.p.children)  # for 문 전용 , 용도 자식태그 소환 \n",
    "\n",
    "for i in soup.p.children:\n",
    "    print(i)"
   ]
  },
  {
   "cell_type": "markdown",
   "metadata": {},
   "source": [
    "## 부모 태그 가져오기  / .parent"
   ]
  },
  {
   "cell_type": "code",
   "execution_count": 43,
   "metadata": {},
   "outputs": [
    {
     "name": "stdout",
     "output_type": "stream",
     "text": [
      "span 태그\n",
      "<span>test1</span>\n",
      "<p><span>test1</span><span>test2</span></p>\n",
      "title 태그\n",
      "<title class=\"t\" id=\"ti\">test site</title>\n",
      "<head><title class=\"t\" id=\"ti\">test site</title></head>\n"
     ]
    }
   ],
   "source": [
    "tag_span = soup.span\n",
    "tag_title = soup.title\n",
    "span_parent = tag_span.parent\n",
    "title_parent = tag_title.parent\n",
    "\n",
    "print('span 태그')\n",
    "print(tag_span)\n",
    "print(span_parent)\n",
    "\n",
    "print('title 태그')\n",
    "print(tag_title)\n",
    "print(title_parent)\n"
   ]
  },
  {
   "cell_type": "markdown",
   "metadata": {},
   "source": [
    "## 형제 태그 가져오기 / .find_next_sibling()\n",
    "\n",
    "    - 형제 태그 ?\n",
    "    - 부모태그가 같은 태그를 말한다\n",
    "    ex ) <html>  <head> < boay>  </body></head>  </html> 라면\n",
    "        head 와 body 는 태그는 형제 \n",
    "        여기서 head 는 형 , body 는 동생 격이다. "
   ]
  },
  {
   "cell_type": "code",
   "execution_count": 55,
   "metadata": {},
   "outputs": [
    {
     "name": "stdout",
     "output_type": "stream",
     "text": [
      "<html>\n",
      " <head>\n",
      "  <title>\n",
      "   test site\n",
      "  </title>\n",
      " </head>\n",
      " <body>\n",
      "  <p>\n",
      "   <a>\n",
      "    test1\n",
      "   </a>\n",
      "   <b>\n",
      "    test2\n",
      "   </b>\n",
      "   <c>\n",
      "    test3\n",
      "   </c>\n",
      "  </p>\n",
      " </body>\n",
      "</html>\n",
      "\n",
      "<b>test2</b>\n",
      "<c>test3</c>\n",
      "None\n"
     ]
    }
   ],
   "source": [
    "html = \"\"\"\n",
    "<html> \n",
    "    <head><title>test site</title></head>\n",
    "    <body><p><a>test1</a><b>test2</b><c>test3</c></p></body>\n",
    "</html>\n",
    "\"\"\"\n",
    "soup = BeautifulSoup(html, 'lxml')\n",
    "print(soup.prettify())\n",
    "tag_a = soup.a\n",
    "tag_b = soup.b\n",
    "tag_c = soup.c\n",
    "\n",
    "print(tag_a.find_next_sibling()) # a 의 동생은  ? = b \n",
    "print(tag_a.find_next_sibling().find_next_sibling()) # a 의 동생의 동생은 ? = c\n",
    "print(tag_c.find_next_sibling()) # c 의 동생은 ? \n"
   ]
  },
  {
   "cell_type": "code",
   "execution_count": 49,
   "metadata": {},
   "outputs": [
    {
     "name": "stdout",
     "output_type": "stream",
     "text": [
      "<class 'bs4.element.Tag'>\n",
      "None\n"
     ]
    }
   ],
   "source": [
    "tag_a_next = tag_a.find_next_sibling()\n",
    "tag_a_prev = tag_a.find_previous_sibling()\n",
    "print(type(tag_a_next))\n",
    "print(tag_a_prev)\n"
   ]
  },
  {
   "cell_type": "code",
   "execution_count": null,
   "metadata": {},
   "outputs": [],
   "source": []
  }
 ],
 "metadata": {
  "kernelspec": {
   "display_name": "Python 3",
   "language": "python",
   "name": "python3"
  },
  "language_info": {
   "codemirror_mode": {
    "name": "ipython",
    "version": 3
   },
   "file_extension": ".py",
   "mimetype": "text/x-python",
   "name": "python",
   "nbconvert_exporter": "python",
   "pygments_lexer": "ipython3",
   "version": "3.8.5"
  }
 },
 "nbformat": 4,
 "nbformat_minor": 4
}
