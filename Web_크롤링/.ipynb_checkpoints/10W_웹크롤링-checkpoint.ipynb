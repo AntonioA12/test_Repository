{
 "cells": [
  {
   "cell_type": "markdown",
   "metadata": {},
   "source": [
    "## JAVA Script\n",
    "\n",
    "    html, css , java script 중 유일한 프로그래밍 언어 \n",
    "    html - 구조 , css - 스타일 , java script - 기능 역할 in 크롤링\n",
    "    \n",
    "    html 의 기능, 변화를 담당함 \n",
    "    \n",
    "## HTTP 요청\n",
    "\n",
    "    클라이언트 <----------> 서버 \n",
    "    (요청)  <- html , css , java -> (응답)"
   ]
  },
  {
   "cell_type": "markdown",
   "metadata": {},
   "source": [
    "## Selenum\n",
    "\n",
    "    Java Script 를 사용하는 홈페이지 크롤링 ( JS 지원 )\n",
    "    java 사용하는 홈페이지에서 java 없이 요청시 \n",
    "    응답이 없음. java 요구하는 홈페이지엔 반드시 java 포함하여 요청해야함. \n",
    "\n",
    "## 프론트 엔드 vs 백 엔드 \n",
    "\n",
    "    프론트 엔드 : html, css, JS 작업 \n",
    "                글꼴 및 색상 , 메뉴 및 슬라이더, 사용자 상호작용부분 제작\n",
    "                (보여지는 분야 )\n",
    "    백 엔드 : 웹사이트의 서버, 응용프로그램, 데이터베이스 관리 , 보안 , 인증 , 해킹 \n",
    "                (보여지지않는것)\n",
    "                \n",
    "## Ajax \n",
    "\n",
    "    비동기식 JS + xml \n",
    "    전체 페이지를 새로고침 하지 않고도 페이지의 일부만 바꾸기 위한 데이터 로드하는 기법 \n",
    "    \n",
    "    ex) 실시간 댓글, 채팅 \n",
    "    \n",
    "    JS 가 실시간 데이터를 홈페이지에 요청을 받으면 \n",
    "    JS 가 응답하여 html 을 업데이트 하는 방식 \n",
    "    \n",
    "    기존 클라이언트 <-> 서버 요청응답 관계에서\n",
    "    JS 가 추가되어 클라이언트 <-> JS <-> 서버 로 총 3개의 구조로 응답 요청하는 구조 ( = 비동기 방식 ) "
   ]
  },
  {
   "cell_type": "markdown",
   "metadata": {},
   "source": [
    "## Selenium 2\n",
    "\n",
    "    프로그래밍으로 웹 브라이주럴 컨트롤하는 자동화 프레임워크 ( 컨트롤러 ) \n",
    "    \n",
    "    Web driver 를 통해 Chrome 컨트롤 ( 브라우저 마다 Web driver 가 다르다 ) "
   ]
  },
  {
   "cell_type": "code",
   "execution_count": 1,
   "metadata": {},
   "outputs": [
    {
     "name": "stdout",
     "output_type": "stream",
     "text": [
      "Collecting selenium\n",
      "  Downloading selenium-3.141.0-py2.py3-none-any.whl (904 kB)\n",
      "Requirement already satisfied: urllib3 in c:\\users\\gyqls\\anaconda3\\lib\\site-packages (from selenium) (1.25.11)\n",
      "Installing collected packages: selenium\n",
      "Successfully installed selenium-3.141.0\n"
     ]
    }
   ],
   "source": [
    "!pip install selenium"
   ]
  },
  {
   "cell_type": "code",
   "execution_count": null,
   "metadata": {},
   "outputs": [],
   "source": []
  }
 ],
 "metadata": {
  "kernelspec": {
   "display_name": "Python 3",
   "language": "python",
   "name": "python3"
  },
  "language_info": {
   "codemirror_mode": {
    "name": "ipython",
    "version": 3
   },
   "file_extension": ".py",
   "mimetype": "text/x-python",
   "name": "python",
   "nbconvert_exporter": "python",
   "pygments_lexer": "ipython3",
   "version": "3.8.5"
  }
 },
 "nbformat": 4,
 "nbformat_minor": 4
}
