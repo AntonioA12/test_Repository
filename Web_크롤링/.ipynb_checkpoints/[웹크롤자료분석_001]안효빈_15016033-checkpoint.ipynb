{
 "cells": [
  {
   "cell_type": "code",
   "execution_count": 3,
   "metadata": {
    "ExecuteTime": {
     "end_time": "2021-04-22T05:03:19.793083Z",
     "start_time": "2021-04-22T05:03:19.771114Z"
    }
   },
   "outputs": [
    {
     "data": {
      "text/html": [
       "<style>.container { width:95% !important; }</style>"
      ],
      "text/plain": [
       "<IPython.core.display.HTML object>"
      ]
     },
     "metadata": {},
     "output_type": "display_data"
    },
    {
     "data": {
      "text/html": [
       "<style>.input_area pre {font-family: Consolas; font-size: 15pt; line-height: 140%; font-weight: bold}</style>"
      ],
      "text/plain": [
       "<IPython.core.display.HTML object>"
      ]
     },
     "metadata": {},
     "output_type": "display_data"
    },
    {
     "data": {
      "text/html": [
       "<style>.output_area pre {font-family: Consolas; font-size: 15pt; line-height: 140%;}</style>"
      ],
      "text/plain": [
       "<IPython.core.display.HTML object>"
      ]
     },
     "metadata": {},
     "output_type": "display_data"
    }
   ],
   "source": [
    "from IPython.core.display import display, HTML\n",
    "display(HTML(\"<style>.container { width:95% !important; }</style>\"))\n",
    "display(HTML(\"<style>.input_area pre {font-family: Consolas; font-size: 15pt; line-height: 140%; font-weight: bold}</style>\"))\n",
    "display(HTML(\"<style>.output_area pre {font-family: Consolas; font-size: 15pt; line-height: 140%;}</style>\"))\n"
   ]
  },
  {
   "cell_type": "code",
   "execution_count": 4,
   "metadata": {},
   "outputs": [],
   "source": [
    "import requests as rq\n",
    "from bs4 import BeautifulSoup\n",
    "\n",
    "from urllib.parse import urljoin\n",
    "from urllib.parse import quote\n",
    "from urllib.request import urlretrieve\n",
    "import time\n",
    "import os "
   ]
  },
  {
   "cell_type": "markdown",
   "metadata": {},
   "source": [
    "# 웹크롤자료분석 001 중간고사\n",
    "- 주의 사항\n",
    "    1. 종료시간\n",
    "        - 11시 40분\n",
    "    1. 부분점수는 없습니다.\n",
    "    1. 휴대폰의 전원을 끄세요.\n",
    "    1. Closed book\n",
    "        - 모든 참고자료를 사용할 수 없습니다.\n",
    "    1. 수시로 저장하세요.\n",
    "    1. 셀을 실행시켰을 때, 멈추지 않는다면, 주피터노트북 메뉴에 있는 정지버튼을 누르거나 Kernel 메뉴에서 restart를 누르세요.\n",
    "        - 그래도 동작하지 않는 경우에는 주피터노트북을 다시 시작하세요.\n",
    "- 제출 방법\n",
    "    1. 파일 이름에서 '학번'을 자신의 학번으로, '이름'을 자신의 이름으로 고치시오.\n",
    "    1. LMS에 주피터노트북 파일(.ipynb)을 제출하세요.\n",
    "        1. LMS 사용이 불가능한 경우, 이메일로 아래 주소로 제출 하세요.\n",
    "            - ydhwang@suwon.ac.kr\n",
    "            - 메일제목: `[웹크롤자료분석] <이름> <본인학번>`\n",
    "    1. 제출후: 주피터노트북 파일을 삭제하세요.\n"
   ]
  },
  {
   "cell_type": "markdown",
   "metadata": {},
   "source": [
    "# ----- 주관식 문제 -----\n",
    "- 문제당 5점"
   ]
  },
  {
   "cell_type": "markdown",
   "metadata": {},
   "source": [
    "## 문제 1\n",
    "\n",
    "컴퓨터나 원거리 통신 장비 사이에서 메시지를 주고 받는 양식과 규칙의 체계를 무엇이라고 하는가?"
   ]
  },
  {
   "cell_type": "code",
   "execution_count": 5,
   "metadata": {
    "ExecuteTime": {
     "end_time": "2021-04-26T13:37:02.182258Z",
     "start_time": "2021-04-26T13:37:02.173290Z"
    }
   },
   "outputs": [
    {
     "name": "stdout",
     "output_type": "stream",
     "text": [
      "HTML\n"
     ]
    }
   ],
   "source": [
    "print(\"HTML\")"
   ]
  },
  {
   "cell_type": "markdown",
   "metadata": {},
   "source": [
    "## 문제 2\n",
    "\n",
    "HTTP의 기본 포트번호는 몇번인가?\n"
   ]
  },
  {
   "cell_type": "code",
   "execution_count": 6,
   "metadata": {
    "ExecuteTime": {
     "end_time": "2021-04-26T13:37:05.666138Z",
     "start_time": "2021-04-26T13:37:05.662148Z"
    }
   },
   "outputs": [
    {
     "name": "stdout",
     "output_type": "stream",
     "text": [
      "80\n"
     ]
    }
   ],
   "source": [
    "print(\"80\")"
   ]
  },
  {
   "cell_type": "markdown",
   "metadata": {},
   "source": [
    "## 문제 3\n",
    "\n",
    "서버가 클라이언트의 요청을 처리한 후, 클라이언트에 처리 결과를 알려주는 코드를 무엇이라고 하는가?"
   ]
  },
  {
   "cell_type": "code",
   "execution_count": 151,
   "metadata": {
    "ExecuteTime": {
     "end_time": "2021-04-26T13:37:09.286644Z",
     "start_time": "2021-04-26T13:37:09.270758Z"
    }
   },
   "outputs": [
    {
     "name": "stdout",
     "output_type": "stream",
     "text": [
      "status_code\n"
     ]
    }
   ],
   "source": [
    "print(\"status_code\")"
   ]
  },
  {
   "cell_type": "markdown",
   "metadata": {},
   "source": [
    "## 문제 4\n",
    "URL의 쿼리스트링에서 여러개의 변수들은 이 문자를 이용하여 구분한다. 이 문자는 무엇인가?"
   ]
  },
  {
   "cell_type": "code",
   "execution_count": 8,
   "metadata": {
    "ExecuteTime": {
     "end_time": "2021-04-26T13:37:12.701019Z",
     "start_time": "2021-04-26T13:37:12.695064Z"
    }
   },
   "outputs": [
    {
     "name": "stdout",
     "output_type": "stream",
     "text": [
      "&\n"
     ]
    }
   ],
   "source": [
    "print(\"&\")"
   ]
  },
  {
   "cell_type": "markdown",
   "metadata": {},
   "source": [
    "## 문제 5\n",
    "이 태그는 HTML에서 실질적인 웹페이지 내용이 가지고 있는 태그로, 이 태그 안의 내용이 화면에 출력되게 된다.\n",
    "이 태그의 이름은 무엇인가?\n"
   ]
  },
  {
   "cell_type": "code",
   "execution_count": 9,
   "metadata": {
    "ExecuteTime": {
     "end_time": "2021-04-26T13:37:15.948914Z",
     "start_time": "2021-04-26T13:37:15.935948Z"
    }
   },
   "outputs": [
    {
     "name": "stdout",
     "output_type": "stream",
     "text": [
      "<body>\n"
     ]
    }
   ],
   "source": [
    "print(\"<body>\")"
   ]
  },
  {
   "cell_type": "markdown",
   "metadata": {},
   "source": [
    "## 문제 6\n",
    "현재 디렉토리가 `/A/B/C/` 일 때, \n",
    "\n",
    "상대경로 `E/../D` 를 절대 경로로 바꾸시오.\n",
    "\n"
   ]
  },
  {
   "cell_type": "code",
   "execution_count": 19,
   "metadata": {
    "ExecuteTime": {
     "end_time": "2021-04-26T13:37:20.528043Z",
     "start_time": "2021-04-26T13:37:20.519097Z"
    }
   },
   "outputs": [
    {
     "name": "stdout",
     "output_type": "stream",
     "text": [
      " urljoin(\"/A/B/C\" , \"E/../D\")\n"
     ]
    }
   ],
   "source": [
    "print(' urljoin(\"/A/B/C\" , \"E/../D\")')"
   ]
  },
  {
   "cell_type": "markdown",
   "metadata": {},
   "source": [
    "# ----- O, X 문제 -----\n",
    "- 맞추면 6점, 틀리면 0점, 비워두면 3점\n",
    "- O 와 X 를 선택하여 출력하세요."
   ]
  },
  {
   "cell_type": "markdown",
   "metadata": {},
   "source": [
    "## 문제 1\n",
    "HTML은 제목, 단락, 목록을 표현 할 수 없다."
   ]
  },
  {
   "cell_type": "code",
   "execution_count": 13,
   "metadata": {
    "ExecuteTime": {
     "end_time": "2021-04-26T13:37:42.021463Z",
     "start_time": "2021-04-26T13:37:42.006503Z"
    }
   },
   "outputs": [
    {
     "name": "stdout",
     "output_type": "stream",
     "text": [
      "X\n"
     ]
    }
   ],
   "source": [
    "print(\"X\")"
   ]
  },
  {
   "cell_type": "markdown",
   "metadata": {},
   "source": [
    "## 문제 2\n",
    "\n",
    "URL은 웹사이트의 주소는 표현 할 수 있지만, 네트워크상의 다른 자원들은 표현 할 수 없다.\n"
   ]
  },
  {
   "cell_type": "code",
   "execution_count": 14,
   "metadata": {
    "ExecuteTime": {
     "end_time": "2021-04-26T13:37:44.943729Z",
     "start_time": "2021-04-26T13:37:44.933778Z"
    }
   },
   "outputs": [
    {
     "name": "stdout",
     "output_type": "stream",
     "text": [
      "O\n"
     ]
    }
   ],
   "source": [
    "print(\"O\")"
   ]
  },
  {
   "cell_type": "markdown",
   "metadata": {},
   "source": [
    "## 문제 3\n",
    "HTML 태그들 중에서 종료태그가 없는 경우도 있다."
   ]
  },
  {
   "cell_type": "code",
   "execution_count": 15,
   "metadata": {
    "ExecuteTime": {
     "end_time": "2021-04-26T13:37:47.287388Z",
     "start_time": "2021-04-26T13:37:47.278410Z"
    }
   },
   "outputs": [
    {
     "name": "stdout",
     "output_type": "stream",
     "text": [
      "X\n"
     ]
    }
   ],
   "source": [
    "print(\"X\")"
   ]
  },
  {
   "cell_type": "markdown",
   "metadata": {},
   "source": [
    "## 문제 4\n",
    "아래 경로는 상대경로이다.\n",
    "\n",
    "`//A.net/B/C`"
   ]
  },
  {
   "cell_type": "code",
   "execution_count": 16,
   "metadata": {
    "ExecuteTime": {
     "end_time": "2021-04-26T13:37:49.589600Z",
     "start_time": "2021-04-26T13:37:49.573674Z"
    }
   },
   "outputs": [
    {
     "name": "stdout",
     "output_type": "stream",
     "text": [
      "X\n"
     ]
    }
   ],
   "source": [
    "print(\"X\")"
   ]
  },
  {
   "cell_type": "markdown",
   "metadata": {},
   "source": [
    "## 문제 5\n",
    "클라이언트의 요청에 문제가 없더라도, 웹서버가 응답코드를 200이 아닌 값으로 보내는 경우가 존재한다.\n"
   ]
  },
  {
   "cell_type": "code",
   "execution_count": 152,
   "metadata": {
    "ExecuteTime": {
     "end_time": "2021-04-26T13:37:52.534478Z",
     "start_time": "2021-04-26T13:37:52.526472Z"
    }
   },
   "outputs": [
    {
     "name": "stdout",
     "output_type": "stream",
     "text": [
      "O\n"
     ]
    }
   ],
   "source": [
    "print(\"O\")"
   ]
  },
  {
   "cell_type": "markdown",
   "metadata": {},
   "source": [
    "## 문제 6\n",
    "올바른 URL에서 리소스경로는 절대경로이다."
   ]
  },
  {
   "cell_type": "code",
   "execution_count": 18,
   "metadata": {
    "ExecuteTime": {
     "end_time": "2021-04-26T13:37:54.810862Z",
     "start_time": "2021-04-26T13:37:54.797897Z"
    },
    "scrolled": false
   },
   "outputs": [
    {
     "name": "stdout",
     "output_type": "stream",
     "text": [
      "O\n"
     ]
    }
   ],
   "source": [
    "print(\"O\")"
   ]
  },
  {
   "cell_type": "markdown",
   "metadata": {},
   "source": [
    "# ----- 코딩 문제 -----\n",
    "- 문제당 8점"
   ]
  },
  {
   "cell_type": "markdown",
   "metadata": {},
   "source": [
    "## 문제 1\n",
    "\n",
    "화면에 n층의 탑을 아래와 같이 출력하는 함수를 작성하시오.\n",
    "\n",
    "- 파라미터:\n",
    "    - n: 출력하는 탑의 높이\n",
    "- return: 없음\n",
    "\n",
    "***결과***\n",
    "```\n",
    "*\n",
    "**\n",
    "***\n",
    "\n",
    "*\n",
    "**\n",
    "***\n",
    "****\n",
    "*****\n",
    "******\n",
    "```"
   ]
  },
  {
   "cell_type": "code",
   "execution_count": 13,
   "metadata": {
    "ExecuteTime": {
     "end_time": "2021-04-26T13:38:14.940478Z",
     "start_time": "2021-04-26T13:38:14.926544Z"
    }
   },
   "outputs": [
    {
     "name": "stdout",
     "output_type": "stream",
     "text": [
      "\n"
     ]
    }
   ],
   "source": [
    "def my_tree(n):\n",
    "    pass\n",
    "\n",
    "# 아래는 수정하지 마시오.\n",
    "my_tree(3)\n",
    "print()\n",
    "my_tree(6)\n"
   ]
  },
  {
   "cell_type": "markdown",
   "metadata": {},
   "source": [
    "## 문제 2\n",
    "\n",
    "URL이 올바른지 확인하는 함수를 작성하시오.\n",
    "\n",
    "- 파라미터: \n",
    "    - url: URL의 정보가 담겨있는 문자열\n",
    "- return: url에 대해 HTTP GET 요청을 했을 때, 서버에서 문제없이 처리되었다면 True를 리턴하고 아니면 False를 리턴하시오.\n",
    "\n",
    "***결과***\n",
    "```\n",
    "True\n",
    "False\n",
    "```"
   ]
  },
  {
   "cell_type": "code",
   "execution_count": 124,
   "metadata": {
    "ExecuteTime": {
     "end_time": "2021-04-26T13:38:58.674487Z",
     "start_time": "2021-04-26T13:38:58.534500Z"
    }
   },
   "outputs": [
    {
     "name": "stdout",
     "output_type": "stream",
     "text": [
      "True\n",
      "False\n"
     ]
    }
   ],
   "source": [
    "import requests as rq\n",
    "\n",
    "def check_url(url):\n",
    "    res = rq.get(url)\n",
    "    if res.status_code == 200:\n",
    "        return True\n",
    "    else: \n",
    "        return False\n",
    "        \n",
    "## 아래는 수정하지 마시오.\n",
    "print(check_url('https://www.naver.com/'))\n",
    "print(check_url('https://www.naver.com/a'))\n"
   ]
  },
  {
   "cell_type": "markdown",
   "metadata": {},
   "source": [
    "## 문제 3\n",
    "\n",
    "BeautifulSoup 객체를 이용하여 아래 html에서 모든 `<a>` 태그들의 text를 한줄에 하나씩 출력하는 코드를 완성하시오.\n",
    "\n",
    "***결과***\n",
    "```\n",
    "Elsie\n",
    "Lacie\n",
    "Tillie\n",
    "```"
   ]
  },
  {
   "cell_type": "code",
   "execution_count": 31,
   "metadata": {
    "ExecuteTime": {
     "end_time": "2021-04-26T13:39:16.709220Z",
     "start_time": "2021-04-26T13:39:16.549873Z"
    }
   },
   "outputs": [
    {
     "name": "stdout",
     "output_type": "stream",
     "text": [
      "Elsie\n",
      "Lacie\n",
      "Tillie\n"
     ]
    }
   ],
   "source": [
    "from bs4 import BeautifulSoup\n",
    "\n",
    "html = \"\"\"\n",
    "<html><head><title>The Dormouse's story</title></head>\n",
    "<body>\n",
    "<p class=\"title\"><b>The Dormouse's story</b></p>\n",
    "\n",
    "<p class=\"story\">Once upon a time there were three little sisters; and their names were\n",
    "<a href=\"http://example.com/elsie\" class=\"sister\" id=\"link1\">Elsie</a>,\n",
    "<a href=\"http://example.com/lacie\" class=\"sister\" id=\"link2\">Lacie</a> and\n",
    "<a href=\"http://example.com/tillie\" class=\"sister\" id=\"link3\">Tillie</a>;\n",
    "and they lived at the bottom of a well.</p>\n",
    "\n",
    "<p class=\"story\">...</p>\n",
    "\"\"\"\n",
    "\n",
    "\n",
    "\n",
    "soup = BeautifulSoup(html, 'lxml')\n",
    "for t in soup.find_all('a'):\n",
    "    print(t.text)"
   ]
  },
  {
   "cell_type": "markdown",
   "metadata": {},
   "source": [
    "## 문제 4\n",
    "\n",
    "BeautifulSoup 객체를 이용하여 아래 url에서 `<img>` 태그이면서 `class` 태그속성값이 `thumbborder`인 모든 태그들을 찾으시오. \n",
    "이 태그들의 `alt` 태그속성값을 for문을 이용하여 아래와 같이 출력하시오.\n",
    "\n",
    "\n",
    "***결과***\n",
    "```\n",
    "미국의 기\n",
    "미국의 기\n",
    "아르헨티나의 기\n",
    "중화민국의 기\n",
    "세네갈의 기\n",
    "모잠비크의 기\n",
    "대한민국의 기\n",
    "조선민주주의인민공화국의 기\n",
    "시리아의 기\n",
    "베네수엘라의 기\n",
    "니제르의 기\n",
    "오스트레일리아의 기\n",
    "뉴질랜드의 기\n",
    "통가의 기\n",
    "포르투갈의 기\n",
    "시에라리온의 기\n",
    "남아프리카 공화국의 기\n",
    "네덜란드의 기\n",
    "토고의 기\n",
    "아프가니스탄의 기\n",
    "바베이도스의 기\n",
    "일본의 기\n",
    "베트남의 기\n",
    "```\n"
   ]
  },
  {
   "cell_type": "code",
   "execution_count": 173,
   "metadata": {
    "ExecuteTime": {
     "end_time": "2021-04-26T13:39:49.477803Z",
     "start_time": "2021-04-26T13:39:49.461824Z"
    }
   },
   "outputs": [
    {
     "name": "stdout",
     "output_type": "stream",
     "text": [
      "[<img alt=\"미국의 기\" class=\"thumbborder\" data-file-height=\"650\" data-file-width=\"1235\" decoding=\"async\" height=\"12\" src=\"//upload.wikimedia.org/wikipedia/commons/thumb/a/a4/Flag_of_the_United_States.svg/22px-Flag_of_the_United_States.svg.png\" srcset=\"//upload.wikimedia.org/wikipedia/commons/thumb/a/a4/Flag_of_the_United_States.svg/33px-Flag_of_the_United_States.svg.png 1.5x, //upload.wikimedia.org/wikipedia/commons/thumb/a/a4/Flag_of_the_United_States.svg/44px-Flag_of_the_United_States.svg.png 2x\" width=\"22\"/>, <img alt=\"미국의 기\" class=\"thumbborder\" data-file-height=\"650\" data-file-width=\"1235\" decoding=\"async\" height=\"12\" src=\"//upload.wikimedia.org/wikipedia/commons/thumb/a/a4/Flag_of_the_United_States.svg/22px-Flag_of_the_United_States.svg.png\" srcset=\"//upload.wikimedia.org/wikipedia/commons/thumb/a/a4/Flag_of_the_United_States.svg/33px-Flag_of_the_United_States.svg.png 1.5x, //upload.wikimedia.org/wikipedia/commons/thumb/a/a4/Flag_of_the_United_States.svg/44px-Flag_of_the_United_States.svg.png 2x\" width=\"22\"/>, <img alt=\"아르헨티나의 기\" class=\"thumbborder\" data-file-height=\"500\" data-file-width=\"800\" decoding=\"async\" height=\"14\" src=\"//upload.wikimedia.org/wikipedia/commons/thumb/1/1a/Flag_of_Argentina.svg/22px-Flag_of_Argentina.svg.png\" srcset=\"//upload.wikimedia.org/wikipedia/commons/thumb/1/1a/Flag_of_Argentina.svg/33px-Flag_of_Argentina.svg.png 1.5x, //upload.wikimedia.org/wikipedia/commons/thumb/1/1a/Flag_of_Argentina.svg/44px-Flag_of_Argentina.svg.png 2x\" width=\"22\"/>, <img alt=\"중화민국의 기\" class=\"thumbborder\" data-file-height=\"600\" data-file-width=\"900\" decoding=\"async\" height=\"15\" src=\"//upload.wikimedia.org/wikipedia/commons/thumb/7/72/Flag_of_the_Republic_of_China.svg/22px-Flag_of_the_Republic_of_China.svg.png\" srcset=\"//upload.wikimedia.org/wikipedia/commons/thumb/7/72/Flag_of_the_Republic_of_China.svg/33px-Flag_of_the_Republic_of_China.svg.png 1.5x, //upload.wikimedia.org/wikipedia/commons/thumb/7/72/Flag_of_the_Republic_of_China.svg/44px-Flag_of_the_Republic_of_China.svg.png 2x\" width=\"22\"/>, <img alt=\"세네갈의 기\" class=\"thumbborder\" data-file-height=\"600\" data-file-width=\"900\" decoding=\"async\" height=\"15\" src=\"//upload.wikimedia.org/wikipedia/commons/thumb/f/fd/Flag_of_Senegal.svg/22px-Flag_of_Senegal.svg.png\" srcset=\"//upload.wikimedia.org/wikipedia/commons/thumb/f/fd/Flag_of_Senegal.svg/33px-Flag_of_Senegal.svg.png 1.5x, //upload.wikimedia.org/wikipedia/commons/thumb/f/fd/Flag_of_Senegal.svg/44px-Flag_of_Senegal.svg.png 2x\" width=\"22\"/>, <img alt=\"모잠비크의 기\" class=\"thumbborder\" data-file-height=\"600\" data-file-width=\"900\" decoding=\"async\" height=\"15\" src=\"//upload.wikimedia.org/wikipedia/commons/thumb/d/d0/Flag_of_Mozambique.svg/22px-Flag_of_Mozambique.svg.png\" srcset=\"//upload.wikimedia.org/wikipedia/commons/thumb/d/d0/Flag_of_Mozambique.svg/33px-Flag_of_Mozambique.svg.png 1.5x, //upload.wikimedia.org/wikipedia/commons/thumb/d/d0/Flag_of_Mozambique.svg/44px-Flag_of_Mozambique.svg.png 2x\" width=\"22\"/>, <img alt=\"대한민국의 기\" class=\"thumbborder\" data-file-height=\"600\" data-file-width=\"900\" decoding=\"async\" height=\"15\" src=\"//upload.wikimedia.org/wikipedia/commons/thumb/0/09/Flag_of_South_Korea.svg/22px-Flag_of_South_Korea.svg.png\" srcset=\"//upload.wikimedia.org/wikipedia/commons/thumb/0/09/Flag_of_South_Korea.svg/33px-Flag_of_South_Korea.svg.png 1.5x, //upload.wikimedia.org/wikipedia/commons/thumb/0/09/Flag_of_South_Korea.svg/44px-Flag_of_South_Korea.svg.png 2x\" width=\"22\"/>, <img alt=\"조선민주주의인민공화국의 기\" class=\"thumbborder\" data-file-height=\"800\" data-file-width=\"1600\" decoding=\"async\" height=\"11\" src=\"//upload.wikimedia.org/wikipedia/commons/thumb/5/51/Flag_of_North_Korea.svg/22px-Flag_of_North_Korea.svg.png\" srcset=\"//upload.wikimedia.org/wikipedia/commons/thumb/5/51/Flag_of_North_Korea.svg/33px-Flag_of_North_Korea.svg.png 1.5x, //upload.wikimedia.org/wikipedia/commons/thumb/5/51/Flag_of_North_Korea.svg/44px-Flag_of_North_Korea.svg.png 2x\" width=\"22\"/>, <img alt=\"시리아의 기\" class=\"thumbborder\" data-file-height=\"600\" data-file-width=\"900\" decoding=\"async\" height=\"15\" src=\"//upload.wikimedia.org/wikipedia/commons/thumb/5/53/Flag_of_Syria.svg/22px-Flag_of_Syria.svg.png\" srcset=\"//upload.wikimedia.org/wikipedia/commons/thumb/5/53/Flag_of_Syria.svg/33px-Flag_of_Syria.svg.png 1.5x, //upload.wikimedia.org/wikipedia/commons/thumb/5/53/Flag_of_Syria.svg/44px-Flag_of_Syria.svg.png 2x\" width=\"22\"/>, <img alt=\"베네수엘라의 기\" class=\"thumbborder\" data-file-height=\"600\" data-file-width=\"900\" decoding=\"async\" height=\"15\" src=\"//upload.wikimedia.org/wikipedia/commons/thumb/0/06/Flag_of_Venezuela.svg/22px-Flag_of_Venezuela.svg.png\" srcset=\"//upload.wikimedia.org/wikipedia/commons/thumb/0/06/Flag_of_Venezuela.svg/33px-Flag_of_Venezuela.svg.png 1.5x, //upload.wikimedia.org/wikipedia/commons/thumb/0/06/Flag_of_Venezuela.svg/44px-Flag_of_Venezuela.svg.png 2x\" width=\"22\"/>, <img alt=\"니제르의 기\" class=\"thumbborder\" data-file-height=\"600\" data-file-width=\"700\" decoding=\"async\" height=\"19\" src=\"//upload.wikimedia.org/wikipedia/commons/thumb/f/f4/Flag_of_Niger.svg/22px-Flag_of_Niger.svg.png\" srcset=\"//upload.wikimedia.org/wikipedia/commons/thumb/f/f4/Flag_of_Niger.svg/33px-Flag_of_Niger.svg.png 1.5x, //upload.wikimedia.org/wikipedia/commons/thumb/f/f4/Flag_of_Niger.svg/44px-Flag_of_Niger.svg.png 2x\" width=\"22\"/>, <img alt=\"오스트레일리아의 기\" class=\"thumbborder\" data-file-height=\"640\" data-file-width=\"1280\" decoding=\"async\" height=\"11\" src=\"//upload.wikimedia.org/wikipedia/commons/thumb/b/b9/Flag_of_Australia.svg/22px-Flag_of_Australia.svg.png\" srcset=\"//upload.wikimedia.org/wikipedia/commons/thumb/b/b9/Flag_of_Australia.svg/33px-Flag_of_Australia.svg.png 1.5x, //upload.wikimedia.org/wikipedia/commons/thumb/b/b9/Flag_of_Australia.svg/44px-Flag_of_Australia.svg.png 2x\" width=\"22\"/>, <img alt=\"뉴질랜드의 기\" class=\"thumbborder\" data-file-height=\"600\" data-file-width=\"1200\" decoding=\"async\" height=\"11\" src=\"//upload.wikimedia.org/wikipedia/commons/thumb/3/3e/Flag_of_New_Zealand.svg/22px-Flag_of_New_Zealand.svg.png\" srcset=\"//upload.wikimedia.org/wikipedia/commons/thumb/3/3e/Flag_of_New_Zealand.svg/33px-Flag_of_New_Zealand.svg.png 1.5x, //upload.wikimedia.org/wikipedia/commons/thumb/3/3e/Flag_of_New_Zealand.svg/44px-Flag_of_New_Zealand.svg.png 2x\" width=\"22\"/>, <img alt=\"통가의 기\" class=\"thumbborder\" data-file-height=\"480\" data-file-width=\"960\" decoding=\"async\" height=\"11\" src=\"//upload.wikimedia.org/wikipedia/commons/thumb/9/9a/Flag_of_Tonga.svg/22px-Flag_of_Tonga.svg.png\" srcset=\"//upload.wikimedia.org/wikipedia/commons/thumb/9/9a/Flag_of_Tonga.svg/33px-Flag_of_Tonga.svg.png 1.5x, //upload.wikimedia.org/wikipedia/commons/thumb/9/9a/Flag_of_Tonga.svg/44px-Flag_of_Tonga.svg.png 2x\" width=\"22\"/>, <img alt=\"포르투갈의 기\" class=\"thumbborder\" data-file-height=\"400\" data-file-width=\"600\" decoding=\"async\" height=\"15\" src=\"//upload.wikimedia.org/wikipedia/commons/thumb/5/5c/Flag_of_Portugal.svg/22px-Flag_of_Portugal.svg.png\" srcset=\"//upload.wikimedia.org/wikipedia/commons/thumb/5/5c/Flag_of_Portugal.svg/33px-Flag_of_Portugal.svg.png 1.5x, //upload.wikimedia.org/wikipedia/commons/thumb/5/5c/Flag_of_Portugal.svg/44px-Flag_of_Portugal.svg.png 2x\" width=\"22\"/>, <img alt=\"시에라리온의 기\" class=\"thumbborder\" data-file-height=\"600\" data-file-width=\"900\" decoding=\"async\" height=\"15\" src=\"//upload.wikimedia.org/wikipedia/commons/thumb/1/17/Flag_of_Sierra_Leone.svg/22px-Flag_of_Sierra_Leone.svg.png\" srcset=\"//upload.wikimedia.org/wikipedia/commons/thumb/1/17/Flag_of_Sierra_Leone.svg/33px-Flag_of_Sierra_Leone.svg.png 1.5x, //upload.wikimedia.org/wikipedia/commons/thumb/1/17/Flag_of_Sierra_Leone.svg/44px-Flag_of_Sierra_Leone.svg.png 2x\" width=\"22\"/>, <img alt=\"남아프리카 공화국의 기\" class=\"thumbborder\" data-file-height=\"267\" data-file-width=\"400\" decoding=\"async\" height=\"15\" src=\"//upload.wikimedia.org/wikipedia/commons/thumb/a/af/Flag_of_South_Africa.svg/22px-Flag_of_South_Africa.svg.png\" srcset=\"//upload.wikimedia.org/wikipedia/commons/thumb/a/af/Flag_of_South_Africa.svg/33px-Flag_of_South_Africa.svg.png 1.5x, //upload.wikimedia.org/wikipedia/commons/thumb/a/af/Flag_of_South_Africa.svg/44px-Flag_of_South_Africa.svg.png 2x\" width=\"22\"/>, <img alt=\"네덜란드의 기\" class=\"thumbborder\" data-file-height=\"600\" data-file-width=\"900\" decoding=\"async\" height=\"15\" src=\"//upload.wikimedia.org/wikipedia/commons/thumb/2/20/Flag_of_the_Netherlands.svg/22px-Flag_of_the_Netherlands.svg.png\" srcset=\"//upload.wikimedia.org/wikipedia/commons/thumb/2/20/Flag_of_the_Netherlands.svg/33px-Flag_of_the_Netherlands.svg.png 1.5x, //upload.wikimedia.org/wikipedia/commons/thumb/2/20/Flag_of_the_Netherlands.svg/44px-Flag_of_the_Netherlands.svg.png 2x\" width=\"22\"/>, <img alt=\"토고의 기\" class=\"thumbborder\" data-file-height=\"500\" data-file-width=\"809\" decoding=\"async\" height=\"14\" src=\"//upload.wikimedia.org/wikipedia/commons/thumb/6/68/Flag_of_Togo.svg/22px-Flag_of_Togo.svg.png\" srcset=\"//upload.wikimedia.org/wikipedia/commons/thumb/6/68/Flag_of_Togo.svg/33px-Flag_of_Togo.svg.png 1.5x, //upload.wikimedia.org/wikipedia/commons/thumb/6/68/Flag_of_Togo.svg/44px-Flag_of_Togo.svg.png 2x\" width=\"22\"/>, <img alt=\"아프가니스탄의 기\" class=\"thumbborder\" data-file-height=\"600\" data-file-width=\"900\" decoding=\"async\" height=\"15\" src=\"//upload.wikimedia.org/wikipedia/commons/thumb/9/9a/Flag_of_Afghanistan.svg/22px-Flag_of_Afghanistan.svg.png\" srcset=\"//upload.wikimedia.org/wikipedia/commons/thumb/9/9a/Flag_of_Afghanistan.svg/33px-Flag_of_Afghanistan.svg.png 1.5x, //upload.wikimedia.org/wikipedia/commons/thumb/9/9a/Flag_of_Afghanistan.svg/44px-Flag_of_Afghanistan.svg.png 2x\" width=\"22\"/>, <img alt=\"바베이도스의 기\" class=\"thumbborder\" data-file-height=\"1000\" data-file-width=\"1500\" decoding=\"async\" height=\"15\" src=\"//upload.wikimedia.org/wikipedia/commons/thumb/e/ef/Flag_of_Barbados.svg/22px-Flag_of_Barbados.svg.png\" srcset=\"//upload.wikimedia.org/wikipedia/commons/thumb/e/ef/Flag_of_Barbados.svg/33px-Flag_of_Barbados.svg.png 1.5x, //upload.wikimedia.org/wikipedia/commons/thumb/e/ef/Flag_of_Barbados.svg/44px-Flag_of_Barbados.svg.png 2x\" width=\"22\"/>, <img alt=\"일본의 기\" class=\"thumbborder\" data-file-height=\"600\" data-file-width=\"900\" decoding=\"async\" height=\"15\" src=\"//upload.wikimedia.org/wikipedia/commons/thumb/9/9e/Flag_of_Japan.svg/22px-Flag_of_Japan.svg.png\" srcset=\"//upload.wikimedia.org/wikipedia/commons/thumb/9/9e/Flag_of_Japan.svg/33px-Flag_of_Japan.svg.png 1.5x, //upload.wikimedia.org/wikipedia/commons/thumb/9/9e/Flag_of_Japan.svg/44px-Flag_of_Japan.svg.png 2x\" width=\"22\"/>, <img alt=\"베트남의 기\" class=\"thumbborder\" data-file-height=\"600\" data-file-width=\"900\" decoding=\"async\" height=\"15\" src=\"//upload.wikimedia.org/wikipedia/commons/thumb/2/21/Flag_of_Vietnam.svg/22px-Flag_of_Vietnam.svg.png\" srcset=\"//upload.wikimedia.org/wikipedia/commons/thumb/2/21/Flag_of_Vietnam.svg/33px-Flag_of_Vietnam.svg.png 1.5x, //upload.wikimedia.org/wikipedia/commons/thumb/2/21/Flag_of_Vietnam.svg/44px-Flag_of_Vietnam.svg.png 2x\" width=\"22\"/>]\n"
     ]
    }
   ],
   "source": [
    "import requests as rq\n",
    "from bs4 import BeautifulSoup\n",
    "\n",
    "url = 'https://ko.wikipedia.org/wiki/4%EC%9B%94'\n",
    "\n",
    "res = rq.get(url)\n",
    "soup = BeautifulSoup( res.text , 'lxml')\n",
    "img_soup = soup.find_all('img', class_='thumbborder' , alt=True )\n",
    "\n",
    "print(img_soup) # get('alt') ? "
   ]
  },
  {
   "cell_type": "markdown",
   "metadata": {},
   "source": [
    "## 문제 5\n",
    "\n",
    "http://www.pythonscraping.com/pages/page3.html\n",
    "\n",
    "1. 위의 사이트에서 첫 번째 상품(바구니) 이미지 파일을 `<자신의이름>.jpg` 파일로 현재 디렉토리에 저장하시오.\n",
    "2. 저장한 이미지 파일의 URL를 출력하시오.\n",
    "\n",
    "\n",
    "예) 이름이 `홍길동`인경우 `홍길동.jpg` 파일로 저장한다.\n",
    "\n",
    "주의) 반드시 BeautifulSoup 객체를 이용하여 이미지 파일의 경로를 추출하시오.\n",
    "\n",
    "***결과***\n",
    "```\n",
    "http://www.pythonscraping.com/img/gifts/img1.jpg\n",
    "```\n",
    "\n",
    "\n"
   ]
  },
  {
   "cell_type": "code",
   "execution_count": 56,
   "metadata": {
    "ExecuteTime": {
     "end_time": "2021-04-26T13:40:12.737685Z",
     "start_time": "2021-04-26T13:40:12.730727Z"
    }
   },
   "outputs": [],
   "source": [
    "import requests as rq\n",
    "from bs4 import BeautifulSoup\n",
    "from urllib.parse import urljoin\n",
    "from urllib.request import urlretrieve\n",
    "\n",
    "def img_down():\n",
    "    url = 'http://www.pythonscraping.com/pages/page3.html'\n",
    "    \n",
    "#     res = rq.get(url)\n",
    "#     soup = BeautifulSoup( res.text , 'lxml')\n",
    "# #     url_join = urljoin( soup )\n",
    "   \n",
    "#     urlretrieve ( soup , './<안효빈>')\n",
    "\n",
    "# 아래는 수정하지 마시오.\n",
    "img_down()"
   ]
  },
  {
   "cell_type": "markdown",
   "metadata": {},
   "source": [
    "## 문제 6\n",
    "\n",
    "https://news.daum.net/ranking/popular/entertain\n",
    "\n",
    "- 위 사이트에서 인기 기사 1위부터 5위까지를 아래와 같은 형식으로 출력하시오.\n",
    "    - 기사 랭킹, 기사 제목, 미디어(신문사이름)가 모두 출력되어야 한다.\n",
    "       \n",
    "\n",
    "주의) 출력결과는 서버 상황에 따라 실시간으로 바뀔수 있음.\n",
    "\n",
    "***출력*** \n",
    "\n",
    "```\n",
    "1위\n",
    "기사제목:[아카데미] 윤여정에 브래드 피트 냄새 질문..\"부적절하고 창피\" 해외서도 구설\n",
    "미디어:뉴스1 \n",
    "\n",
    "2위\n",
    "기사제목:이하늘, 김창열 언급 \"준비하고 있어..나한테 그러면 큰일나\" [종합]\n",
    "미디어:OSEN \n",
    "\n",
    "3위\n",
    "기사제목:'내일의 기억' 감독 \"서예지, 외적 부분 너무 아름다워..고치는 사람이 문제\"[종합]\n",
    "미디어:스포티비뉴스 \n",
    "\n",
    "4위\n",
    "기사제목:박군 \"특전사 연금 30억 포기..중대장 놀라더라\"('2시 만세')\n",
    "미디어:스타투데이 \n",
    "\n",
    "5위\n",
    "기사제목:박세리, 코로나19 확진 심경 \"당황스럽고 속상..두려움과 걱정 앞섰다\"[전문]\n",
    "미디어:스포츠조선 \n",
    "```\n"
   ]
  },
  {
   "cell_type": "code",
   "execution_count": 112,
   "metadata": {
    "ExecuteTime": {
     "end_time": "2021-04-26T13:40:29.582852Z",
     "start_time": "2021-04-26T13:40:29.565897Z"
    },
    "scrolled": false
   },
   "outputs": [
    {
     "name": "stdout",
     "output_type": "stream",
     "text": [
      "이광수 '런닝맨' 하차 [공식입장]\n"
     ]
    }
   ],
   "source": [
    "import requests as rq\n",
    "from bs4 import BeautifulSoup\n",
    "\n",
    "def gisa():\n",
    "    url = 'https://news.daum.net/ranking/popular/entertain'\n",
    "    \n",
    "    res = rq.get(url)\n",
    "    soup = BeautifulSoup( res.text , 'lxml')\n",
    "    img_soup = soup.find('img') \n",
    "    img_alt = img_soup.get('alt')\n",
    "    \n",
    "#     for i in img_soup.get('alt'):\n",
    "    print(img_alt)\n",
    "\n",
    "\n",
    "    \n",
    "    \n",
    "        \n",
    "gisa()"
   ]
  },
  {
   "cell_type": "markdown",
   "metadata": {},
   "source": [
    "# 수고하셨습니다.\n",
    "# 저장하고 제출하세요.\n",
    "# 생성한 모든 파일을 삭제하세요."
   ]
  },
  {
   "cell_type": "code",
   "execution_count": null,
   "metadata": {},
   "outputs": [],
   "source": []
  }
 ],
 "metadata": {
  "kernelspec": {
   "display_name": "Python 3",
   "language": "python",
   "name": "python3"
  },
  "language_info": {
   "codemirror_mode": {
    "name": "ipython",
    "version": 3
   },
   "file_extension": ".py",
   "mimetype": "text/x-python",
   "name": "python",
   "nbconvert_exporter": "python",
   "pygments_lexer": "ipython3",
   "version": "3.8.3"
  },
  "toc": {
   "base_numbering": 1,
   "nav_menu": {},
   "number_sections": true,
   "sideBar": true,
   "skip_h1_title": false,
   "title_cell": "Table of Contents",
   "title_sidebar": "Contents",
   "toc_cell": false,
   "toc_position": {},
   "toc_section_display": true,
   "toc_window_display": false
  }
 },
 "nbformat": 4,
 "nbformat_minor": 2
}
