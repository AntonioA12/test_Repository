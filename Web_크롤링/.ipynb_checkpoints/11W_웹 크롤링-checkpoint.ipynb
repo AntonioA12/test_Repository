{
 "cells": [
  {
   "cell_type": "markdown",
   "metadata": {},
   "source": [
    "## API \n",
    "\n",
    "    - Application Programming Interface \n",
    "    어플리케이션 프로그래밍  응용프로그램 개발&코딩 도구(접근법)  \n",
    "    \n",
    "    - Open API\n",
    "    API 의 일종\n",
    "    오픈소스, 데이터, 비지니스 등 다양한 정보를 제공받을 수 있고 \n",
    "    다른사람의 API를 내가 응용&활용 가능\n",
    "    \n",
    "    - Rest API \n",
    "    Open API 의 일종, \n",
    "    HTTP 프로토콜을 사용한 API 라고 보면된다. ( HTML , CSS , JS 외 파일 , 그림 , 서비스, 데이터 요청&응답 가능)\n",
    "    \n",
    "    DB , File , <--요청--> Rest API < --응답--> 모바일 , 웹 , 앱  구조이다.\n",
    "    "
   ]
  },
  {
   "cell_type": "markdown",
   "metadata": {},
   "source": [
    "## JSON \n",
    "\n",
    "    JS Object Notation \n",
    "    딕셔너리 의 Key , value 과 매우 유사하게 구성되어 있는 데이터 파일(오브젝트) \n",
    "    인간이 읽을 수 있는 데이터 오브젝트 \n",
    "    인터넷에서 자료 주고 받을 때 가장 많이 쓰이는 파일유형\n",
    "    \n",
    "    클라이언트 <-- Json형식 요청&응답 --> 서버"
   ]
  },
  {
   "cell_type": "markdown",
   "metadata": {},
   "source": [
    "## Open API 만들기\n",
    "\n",
    "    http://localhost = 개인 PC 에서만 열람가능한 주소 , SuperX_hb\n",
    "    \n",
    "    내 클라이언트 ID, PW \n",
    "    \n",
    "    AOQj_nTrjKrXqDTgfWfX\n",
    "    PXg6pfrep9"
   ]
  },
  {
   "cell_type": "markdown",
   "metadata": {},
   "source": [
    "## \n",
    "\n",
    "    선택자\n",
    "    저장\n",
    "    폼 과 로그인\n",
    "    셀레니움\n",
    "    Open API \n",
    "    "
   ]
  },
  {
   "cell_type": "code",
   "execution_count": null,
   "metadata": {},
   "outputs": [],
   "source": []
  }
 ],
 "metadata": {
  "kernelspec": {
   "display_name": "Python 3",
   "language": "python",
   "name": "python3"
  },
  "language_info": {
   "codemirror_mode": {
    "name": "ipython",
    "version": 3
   },
   "file_extension": ".py",
   "mimetype": "text/x-python",
   "name": "python",
   "nbconvert_exporter": "python",
   "pygments_lexer": "ipython3",
   "version": "3.8.5"
  }
 },
 "nbformat": 4,
 "nbformat_minor": 4
}
