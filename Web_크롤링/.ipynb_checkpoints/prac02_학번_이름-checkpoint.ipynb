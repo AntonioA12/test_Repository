{
 "cells": [
  {
   "cell_type": "code",
   "execution_count": 1,
   "metadata": {},
   "outputs": [
    {
     "data": {
      "text/html": [
       "<style>.container { width:95% !important; }</style>"
      ],
      "text/plain": [
       "<IPython.core.display.HTML object>"
      ]
     },
     "metadata": {},
     "output_type": "display_data"
    },
    {
     "data": {
      "text/html": [
       "<style>.input_area pre {font-family: Consolas; font-size: 15pt; line-height: 140%;}</style>"
      ],
      "text/plain": [
       "<IPython.core.display.HTML object>"
      ]
     },
     "metadata": {},
     "output_type": "display_data"
    },
    {
     "data": {
      "text/html": [
       "<style>.output_area pre {font-family: Consolas; font-size: 15pt; line-height: 140%;}</style>"
      ],
      "text/plain": [
       "<IPython.core.display.HTML object>"
      ]
     },
     "metadata": {},
     "output_type": "display_data"
    }
   ],
   "source": [
    "from IPython.core.display import display, HTML\n",
    "display(HTML(\"<style>.container { width:95% !important; }</style>\"))\n",
    "display(HTML(\"<style>.input_area pre {font-family: Consolas; font-size: 15pt; line-height: 140%;}</style>\"))\n",
    "display(HTML(\"<style>.output_area pre {font-family: Consolas; font-size: 15pt; line-height: 140%;}</style>\"))"
   ]
  },
  {
   "cell_type": "markdown",
   "metadata": {},
   "source": [
    "# 제출 방법\n",
    "1. 파일 이름에서 '학번'을 자신의 학번으로, '이름'을 자신의 이름으로 고치시오.\n",
    "1. LMS 과제에 제출하시오.\n"
   ]
  },
  {
   "cell_type": "markdown",
   "metadata": {},
   "source": [
    "# 문제 0 \n",
    "requests package를 import 하시오"
   ]
  },
  {
   "cell_type": "code",
   "execution_count": null,
   "metadata": {},
   "outputs": [],
   "source": []
  },
  {
   "cell_type": "markdown",
   "metadata": {},
   "source": [
    "# 문제 1\n",
    "\n",
    "www.google.com 의 HTML 문서를 출력하시오."
   ]
  },
  {
   "cell_type": "code",
   "execution_count": null,
   "metadata": {},
   "outputs": [],
   "source": []
  },
  {
   "cell_type": "markdown",
   "metadata": {},
   "source": [
    "# 문제 2\n",
    "\n",
    "www.daum.net 홈페이지를 요청하고 HTTP status code를 출력하시오."
   ]
  },
  {
   "cell_type": "code",
   "execution_count": null,
   "metadata": {},
   "outputs": [],
   "source": []
  },
  {
   "cell_type": "markdown",
   "metadata": {},
   "source": [
    "# 문제 3\n",
    "\n",
    "url의 적합성을 체크하는 함수를 만드시오.\n",
    "1. url 요청이 성공 했다면, 'success', url, status code를 출력하시오.\n",
    "1. url 요청이 실패하면 'fail'과 url, status code를 출력하시오.\n",
    "\n",
    "***실행결과***\n",
    "```\n",
    "success: https://www.naver.com/, 200\n",
    "failed: https://www.naver.com/a, 404\n",
    "```"
   ]
  },
  {
   "cell_type": "code",
   "execution_count": 1,
   "metadata": {},
   "outputs": [
    {
     "ename": "NameError",
     "evalue": "name 'check_url' is not defined",
     "output_type": "error",
     "traceback": [
      "\u001b[1;31m---------------------------------------------------------------------------\u001b[0m",
      "\u001b[1;31mNameError\u001b[0m                                 Traceback (most recent call last)",
      "\u001b[1;32m<ipython-input-1-83978c5c81e7>\u001b[0m in \u001b[0;36m<module>\u001b[1;34m()\u001b[0m\n\u001b[0;32m      2\u001b[0m \u001b[1;33m\u001b[0m\u001b[0m\n\u001b[0;32m      3\u001b[0m \u001b[1;31m## 아래는 수정하지 마시오.\u001b[0m\u001b[1;33m\u001b[0m\u001b[1;33m\u001b[0m\u001b[0m\n\u001b[1;32m----> 4\u001b[1;33m \u001b[0mcheck_url\u001b[0m\u001b[1;33m(\u001b[0m\u001b[1;34m'https://www.naver.com/'\u001b[0m\u001b[1;33m)\u001b[0m\u001b[1;33m\u001b[0m\u001b[0m\n\u001b[0m\u001b[0;32m      5\u001b[0m \u001b[0mcheck_url\u001b[0m\u001b[1;33m(\u001b[0m\u001b[1;34m'https://www.naver.com/a'\u001b[0m\u001b[1;33m)\u001b[0m\u001b[1;33m\u001b[0m\u001b[0m\n",
      "\u001b[1;31mNameError\u001b[0m: name 'check_url' is not defined"
     ]
    }
   ],
   "source": [
    "# do something\n",
    "\n",
    "## 아래는 수정하지 마시오.\n",
    "check_url('https://www.naver.com/')\n",
    "check_url('https://www.naver.com/a')\n"
   ]
  },
  {
   "cell_type": "markdown",
   "metadata": {},
   "source": [
    "# 문제 4\n",
    "아래와 같이 url의 응답 헤더의 내용을 출력하는 함수를 만드시오.(일부 내용이 아래와 다르게 출력될 수 있음)\n",
    "```\n",
    "[구글 헤더]\n",
    "Date:Mon, 22 Mar 2021 17:17:54 GMT\n",
    "Expires:-1\n",
    "Cache-Control:private, max-age=0\n",
    "Content-Type:text/html; charset=ISO-8859-1\n",
    "P3P:CP=\"This is not a P3P policy! See g.co/p3phelp for more info.\"\n",
    "Content-Encoding:gzip\n",
    "Server:gws\n",
    "Content-Length:6094\n",
    "X-XSS-Protection:0\n",
    "X-Frame-Options:SAMEORIGIN\n",
    "Set-Cookie:1P_JAR=2021-03-22-17; expires=Wed, 21-Apr-2021 17:17:54 GMT; path=/; domain=.google.com; Secure, NID=211=rUG2cfqFhtvC8E-GwEFo7wfrnzu9PPMO-wzNn0IBcJkormozalIyz8tq994AgTzQeyl9cUxHeI-GbBy1quyaInwE0TE4I3Fbo6Bli-kd70fwwKXCw3mvMqL7PsLZ2KAqxWKLEgGXHDRAroZq8ANaL-_-8-EPqukDg3MinrEqVBg; expires=Tue, 21-Sep-2021 17:17:54 GMT; path=/; domain=.google.com; HttpOnly\n",
    "\n",
    "[다음 헤더]\n",
    "Date:Mon, 22 Mar 2021 17:17:54 GMT\n",
    "X-Frame-Options:SAMEORIGIN\n",
    "X-UA-Compatible:IE=10\n",
    "Expires:Sat, 01, Jan 1970 22:00:00 GMT\n",
    "Pragma:no-cache\n",
    "Cache-Control:no-cache, no-store, must-revalidate\n",
    "P3P:CP=\"ALL DSP COR MON LAW IVDi HIS IVAi DELi SAMi OUR LEG PHY UNI ONL DEM STA INT NAV PUR FIN OTC GOV\"\n",
    "Content-Type:text/html;charset=UTF-8\n",
    "Content-Language:en-US\n",
    "Vary:Accept-Encoding\n",
    "Content-Encoding:gzip\n",
    "X-UA-Device-Type:pc\n",
    "Content-Length:48636\n",
    "Connection:close\n",
    "```"
   ]
  },
  {
   "cell_type": "code",
   "execution_count": 2,
   "metadata": {
    "scrolled": true
   },
   "outputs": [
    {
     "name": "stdout",
     "output_type": "stream",
     "text": [
      "[구글 헤더]\n"
     ]
    },
    {
     "ename": "NameError",
     "evalue": "name 'print_header' is not defined",
     "output_type": "error",
     "traceback": [
      "\u001b[1;31m---------------------------------------------------------------------------\u001b[0m",
      "\u001b[1;31mNameError\u001b[0m                                 Traceback (most recent call last)",
      "\u001b[1;32m<ipython-input-2-b64754ff46be>\u001b[0m in \u001b[0;36m<module>\u001b[1;34m()\u001b[0m\n\u001b[0;32m      3\u001b[0m \u001b[1;31m#아래는 수정하지 마시오.\u001b[0m\u001b[1;33m\u001b[0m\u001b[1;33m\u001b[0m\u001b[0m\n\u001b[0;32m      4\u001b[0m \u001b[0mprint\u001b[0m\u001b[1;33m(\u001b[0m\u001b[1;34m\"[구글 헤더]\"\u001b[0m\u001b[1;33m)\u001b[0m\u001b[1;33m\u001b[0m\u001b[0m\n\u001b[1;32m----> 5\u001b[1;33m \u001b[0mprint_header\u001b[0m\u001b[1;33m(\u001b[0m\u001b[1;34m'http://www.google.com'\u001b[0m\u001b[1;33m)\u001b[0m\u001b[1;33m\u001b[0m\u001b[0m\n\u001b[0m\u001b[0;32m      6\u001b[0m \u001b[0mprint\u001b[0m\u001b[1;33m(\u001b[0m\u001b[1;33m)\u001b[0m\u001b[1;33m\u001b[0m\u001b[0m\n\u001b[0;32m      7\u001b[0m \u001b[0mprint\u001b[0m\u001b[1;33m(\u001b[0m\u001b[1;34m\"[다음 헤더]\"\u001b[0m\u001b[1;33m)\u001b[0m\u001b[1;33m\u001b[0m\u001b[0m\n",
      "\u001b[1;31mNameError\u001b[0m: name 'print_header' is not defined"
     ]
    }
   ],
   "source": [
    "# do something\n",
    "\n",
    "#아래는 수정하지 마시오.\n",
    "print(\"[구글 헤더]\")\n",
    "print_header('http://www.google.com')\n",
    "print()\n",
    "print(\"[다음 헤더]\")\n",
    "print_header('http://www.daum.net')\n"
   ]
  },
  {
   "cell_type": "code",
   "execution_count": null,
   "metadata": {},
   "outputs": [],
   "source": []
  }
 ],
 "metadata": {
  "kernelspec": {
   "display_name": "Python 3",
   "language": "python",
   "name": "python3"
  },
  "language_info": {
   "codemirror_mode": {
    "name": "ipython",
    "version": 3
   },
   "file_extension": ".py",
   "mimetype": "text/x-python",
   "name": "python",
   "nbconvert_exporter": "python",
   "pygments_lexer": "ipython3",
   "version": "3.6.5"
  },
  "toc": {
   "base_numbering": 1,
   "nav_menu": {},
   "number_sections": true,
   "sideBar": true,
   "skip_h1_title": false,
   "title_cell": "Table of Contents",
   "title_sidebar": "Contents",
   "toc_cell": false,
   "toc_position": {},
   "toc_section_display": true,
   "toc_window_display": false
  }
 },
 "nbformat": 4,
 "nbformat_minor": 2
}
