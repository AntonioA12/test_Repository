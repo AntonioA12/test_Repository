{
 "cells": [
  {
   "cell_type": "code",
   "execution_count": 1,
   "metadata": {},
   "outputs": [
    {
     "data": {
      "text/html": [
       "<style>.container { width:95% !important; }</style>"
      ],
      "text/plain": [
       "<IPython.core.display.HTML object>"
      ]
     },
     "metadata": {},
     "output_type": "display_data"
    },
    {
     "data": {
      "text/html": [
       "<style>.input_area pre {font-family: Consolas; font-size: 15pt; line-height: 140%;}</style>"
      ],
      "text/plain": [
       "<IPython.core.display.HTML object>"
      ]
     },
     "metadata": {},
     "output_type": "display_data"
    },
    {
     "data": {
      "text/html": [
       "<style>.output_area pre {font-family: Consolas; font-size: 15pt; line-height: 140%;}</style>"
      ],
      "text/plain": [
       "<IPython.core.display.HTML object>"
      ]
     },
     "metadata": {},
     "output_type": "display_data"
    }
   ],
   "source": [
    "from IPython.core.display import display, HTML\n",
    "display(HTML(\"<style>.container { width:95% !important; }</style>\"))\n",
    "display(HTML(\"<style>.input_area pre {font-family: Consolas; font-size: 15pt; line-height: 140%;}</style>\"))\n",
    "display(HTML(\"<style>.output_area pre {font-family: Consolas; font-size: 15pt; line-height: 140%;}</style>\"))"
   ]
  },
  {
   "cell_type": "markdown",
   "metadata": {},
   "source": [
    "# 이 파일의 이름과 학번을 수정하시오."
   ]
  },
  {
   "cell_type": "markdown",
   "metadata": {},
   "source": [
    "\n",
    "# 문제1 \n",
    "\n",
    "선택자를 이용하여 모든 h1 태그를 리스트 형태로 출력하시오.\n",
    "\n",
    "***출력결과***\n",
    "```\n",
    "[<h1>기초강의목록</h1>, <h1>심화강의목록</h1>]\n",
    "```"
   ]
  },
  {
   "cell_type": "code",
   "execution_count": 6,
   "metadata": {},
   "outputs": [
    {
     "name": "stdout",
     "output_type": "stream",
     "text": [
      "[<h1>기초강의목록</h1>, <h1>심화강의목록</h1>]\n"
     ]
    }
   ],
   "source": [
    "from bs4 import BeautifulSoup\n",
    "\n",
    "html = \"\"\"\n",
    "<html><body>\n",
    "<div id=\"main\">\n",
    "  <h1>기초강의목록</h1>\n",
    "  <ul class=\"lecs\">\n",
    "    <li>Java 초고수 되기</li>\n",
    "    <li>파이썬 기초 프로그래밍</li>\n",
    "  </ul>\n",
    "</div>\n",
    "<div id=\"adv\">\n",
    "  <h1>심화강의목록</h1>\n",
    "  <ul class=\"lecs\">\n",
    "    <li>파이썬 머신러닝 프로그래밍</li>\n",
    "    <li>안드로이드 블루투스 프로그래밍</li>\n",
    "  </ul>\n",
    "</div>\n",
    "</body></html>\n",
    "\"\"\"\n",
    "soup = BeautifulSoup(html, 'lxml')\n",
    "\n",
    "print(soup.select('h1'))"
   ]
  },
  {
   "cell_type": "markdown",
   "metadata": {},
   "source": [
    "# 문제 2 \n",
    "\n",
    "선택자를 이용해서 부모 태그의 클래스 태그속성 값이 lecs 인 모든 li 태그를 아래와 같이 출력하시오.\n",
    "\n",
    "***출력결과***\n",
    "```\n",
    "<li>Java 초고수 되기</li>\n",
    "<li>파이썬 기초 프로그래밍</li>\n",
    "<li>파이썬 머신러닝 프로그래밍</li>\n",
    "<li>안드로이드 블루투스 프로그래밍</li>\n",
    "```"
   ]
  },
  {
   "cell_type": "code",
   "execution_count": 17,
   "metadata": {},
   "outputs": [
    {
     "name": "stdout",
     "output_type": "stream",
     "text": [
      "[<li>Java 초고수 되기</li>, <li>파이썬 기초 프로그래밍</li>, <li>파이썬 머신러닝 프로그래밍</li>, <li>안드로이드 블루투스 프로그래밍</li>]\n",
      "<li>Java 초고수 되기</li>\n",
      "<li>파이썬 기초 프로그래밍</li>\n",
      "<li>파이썬 머신러닝 프로그래밍</li>\n",
      "<li>안드로이드 블루투스 프로그래밍</li>\n"
     ]
    }
   ],
   "source": [
    "from bs4 import BeautifulSoup\n",
    "\n",
    "html = \"\"\"\n",
    "<html><body>\n",
    "<div id=\"main\">\n",
    "  <h1>기초강의목록</h1>\n",
    "  <ul class=\"lecs\">\n",
    "    <li>Java 초고수 되기</li>\n",
    "    <li>파이썬 기초 프로그래밍</li>\n",
    "  </ul>\n",
    "</div>\n",
    "<div id=\"adv\">\n",
    "  <h1>심화강의목록</h1>\n",
    "  <ul class=\"lecs\">\n",
    "    <li>파이썬 머신러닝 프로그래밍</li>\n",
    "    <li>안드로이드 블루투스 프로그래밍</li>\n",
    "  </ul>\n",
    "</div>\n",
    "</body></html>\n",
    "\"\"\"\n",
    "soup = BeautifulSoup(html, 'lxml')\n",
    "\n",
    "print(soup.select(' .lecs > li' ))\n",
    "\n",
    "# 리스트가 아니게 출력할려면? \n",
    "for t in soup.select( '.lecs > li'):\n",
    "    print(t)"
   ]
  },
  {
   "cell_type": "markdown",
   "metadata": {},
   "source": [
    "# 문제 3 \n",
    "\n",
    "기초강의 목록에 있는 모든 li 태그를 리스트 형태로 출력하시오.\n",
    "\n",
    "***출력결과***\n",
    "```\n",
    "[<li>Java 초고수 되기</li>, <li>파이썬 기초 프로그래밍</li>]\n",
    "```"
   ]
  },
  {
   "cell_type": "code",
   "execution_count": 37,
   "metadata": {},
   "outputs": [
    {
     "name": "stdout",
     "output_type": "stream",
     "text": [
      "[<li>Java 초고수 되기</li>, <li>파이썬 기초 프로그래밍</li>]\n"
     ]
    }
   ],
   "source": [
    "from bs4 import BeautifulSoup\n",
    "\n",
    "html = \"\"\"\n",
    "<html><body>\n",
    "<div id=\"main\">\n",
    "  <h1>기초강의목록</h1>\n",
    "  <ul class=\"lecs\">\n",
    "    <li>Java 초고수 되기</li>\n",
    "    <li>파이썬 기초 프로그래밍</li>\n",
    "  </ul>\n",
    "</div>\n",
    "<div id=\"adv\">\n",
    "  <h1>심화강의목록</h1>\n",
    "  <ul class=\"lecs\">\n",
    "    <li>파이썬 머신러닝 프로그래밍</li>\n",
    "    <li>안드로이드 블루투스 프로그래밍</li>\n",
    "  </ul>\n",
    "</div>\n",
    "</body></html>\n",
    "\"\"\"\n",
    "soup = BeautifulSoup(html, 'lxml')\n",
    "\n",
    "# 만약 둘다 부모가 똑같다면 ? 조상으로 구분하라 \n",
    "\n",
    "print(soup.select(' div#main li'))"
   ]
  },
  {
   "cell_type": "markdown",
   "metadata": {},
   "source": [
    "# 문제 4 \n",
    "\n",
    "심화강의 목록에 있는 모든 li 태그를 리스트 형태로 출력하시오.\n",
    "\n",
    "***출력결과***\n",
    "```\n",
    "[<li>파이썬 머신러닝 프로그래밍</li>, <li>안드로이드 블루투스 프로그래밍</li>]\n",
    "```"
   ]
  },
  {
   "cell_type": "code",
   "execution_count": 38,
   "metadata": {},
   "outputs": [
    {
     "name": "stdout",
     "output_type": "stream",
     "text": [
      "[<li>파이썬 머신러닝 프로그래밍</li>, <li>안드로이드 블루투스 프로그래밍</li>]\n"
     ]
    }
   ],
   "source": [
    "from bs4 import BeautifulSoup\n",
    "\n",
    "html = \"\"\"\n",
    "<html><body>\n",
    "<div id=\"main\">\n",
    "  <h1>기초강의목록</h1>\n",
    "  <ul class=\"lecs\">\n",
    "    <li>Java 초고수 되기</li>\n",
    "    <li>파이썬 기초 프로그래밍</li>\n",
    "  </ul>\n",
    "</div>\n",
    "<div id=\"adv\">\n",
    "  <h1>심화강의목록</h1>\n",
    "  <ul class=\"lecs\">\n",
    "    <li>파이썬 머신러닝 프로그래밍</li>\n",
    "    <li>안드로이드 블루투스 프로그래밍</li>\n",
    "  </ul>\n",
    "</div>\n",
    "</body></html>\n",
    "\"\"\"\n",
    "soup = BeautifulSoup(html, 'lxml')\n",
    "\n",
    "print(soup.select( 'div#adv li'))"
   ]
  },
  {
   "cell_type": "markdown",
   "metadata": {},
   "source": [
    "---\n",
    "# 문제 5 \n",
    "\n",
    "아래 코드를 수정하여 다음 결과가 나오도록 하시오.\n",
    "\n",
    "***출력결과***\n",
    "```\n",
    "Java 초고수 되기\n",
    "파이썬 기초 프로그래밍\n",
    "파이썬 머신러닝 프로그래밍\n",
    "안드로이드 블루투스 프로그래밍\n",
    "```"
   ]
  },
  {
   "cell_type": "code",
   "execution_count": 63,
   "metadata": {},
   "outputs": [
    {
     "name": "stdout",
     "output_type": "stream",
     "text": [
      "Java 초고수 되기\n",
      "파이썬 기초 프로그래밍\n",
      "파이썬 기초 프로그래밍\n",
      "파이썬 머신러닝 프로그래밍\n",
      "안드로이드 블루투스 프로그래밍\n"
     ]
    }
   ],
   "source": [
    "from bs4 import BeautifulSoup\n",
    "\n",
    "html = \"\"\"\n",
    "<html><body>\n",
    "<div id=\"main\">\n",
    "  <h1>기초강의목록</h1>\n",
    "  <ul class=\"lecs\">\n",
    "    <li>Java 초고수 되기</li>\n",
    "    <li>파이썬 기초 프로그래밍</li>\n",
    "  </ul>\n",
    "</div>\n",
    "<div id=\"adv\">\n",
    "  <h1>심화강의목록</h1>\n",
    "  <ul class=\"lecs\">\n",
    "    <li>파이썬 머신러닝 프로그래밍</li>\n",
    "    <li>안드로이드 블루투스 프로그래밍</li>\n",
    "  </ul>\n",
    "</div>\n",
    "</body></html>\n",
    "\"\"\"\n",
    "soup = BeautifulSoup(html, 'lxml')\n",
    "\n",
    "#### 아래코드에서 선택자를 수정하여 ```Java 초고수 되기``` 를 출력하시오\n",
    "print(soup.select_one(\"li\").text)\n",
    "\n",
    "# #### 아래코드에서 선택자를 수정하여 ```파이썬 기초 프로그래밍``` 를 출력하시오\n",
    "print(soup.select_one(\"li + li\").text)\n",
    "print(soup.select_one(\"li:nth-of-type(2)\").text) # 요것도 된다 \n",
    "\n",
    "# #### 아래코드에서 선택자를 수정하여 ```파이썬 머신러닝 프로그래밍``` 를 출력하시오\n",
    "print(soup.select_one(\"div#adv .lecs li\").text)\n",
    "\n",
    "# #### 아래코드에서 선택자를 수정하여 ```안드로이드 블루투스 프로그래밍``` 를 출력하시오\n",
    "print(soup.select_one(\"div#adv .lecs li + li\").text)\n",
    "\n"
   ]
  },
  {
   "cell_type": "markdown",
   "metadata": {},
   "source": [
    "---\n",
    "# 문제6\n",
    "아래 사이트에서 시가총액 Top10 회사들의 이름을 아래와 같이 출력하시오.\n",
    "\n",
    "http://finance.naver.com/sise/\n",
    "\n",
    "***출력결과***\n",
    "```\n",
    "===시가총액 Top10===\n",
    "1위: 삼성전자\n",
    "2위: SK하이닉스\n",
    "3위: LG화학\n",
    "4위: 삼성전자우\n",
    "5위: NAVER\n",
    "6위: 삼성바이오로직스\n",
    "7위: 카카오\n",
    "8위: 현대차\n",
    "9위: 삼성SDI\n",
    "10위: 셀트리온\n",
    "```"
   ]
  },
  {
   "cell_type": "code",
   "execution_count": 80,
   "metadata": {},
   "outputs": [
    {
     "name": "stdout",
     "output_type": "stream",
     "text": [
      "===시가총액 Top10===\n",
      "1위 : 삼성전자\n",
      "2위 : SK하이닉스\n",
      "3위 : LG화학\n",
      "4위 : 삼성전자우\n",
      "5위 : NAVER\n",
      "6위 : 삼성바이오로직스\n",
      "7위 : 카카오\n",
      "8위 : 현대차\n",
      "9위 : 삼성SDI\n",
      "10위 : 셀트리온\n"
     ]
    }
   ],
   "source": [
    "from bs4 import BeautifulSoup\n",
    "import requests as rq\n",
    "\n",
    "url = \"http://finance.naver.com/sise/\"\n",
    "html = rq.get(url).text\n",
    "\n",
    "soup = BeautifulSoup(html, \"lxml\")\n",
    "\n",
    "print('===시가총액 Top10===')\n",
    "\n",
    "for i,t in enumerate(soup.select('#siselist_tab_7 a.tltle'), 1):\n",
    "    print(f'{i}위 : {t.text}')"
   ]
  },
  {
   "cell_type": "code",
   "execution_count": null,
   "metadata": {},
   "outputs": [],
   "source": []
  }
 ],
 "metadata": {
  "kernelspec": {
   "display_name": "Python 3",
   "language": "python",
   "name": "python3"
  },
  "language_info": {
   "codemirror_mode": {
    "name": "ipython",
    "version": 3
   },
   "file_extension": ".py",
   "mimetype": "text/x-python",
   "name": "python",
   "nbconvert_exporter": "python",
   "pygments_lexer": "ipython3",
   "version": "3.8.5"
  }
 },
 "nbformat": 4,
 "nbformat_minor": 4
}
