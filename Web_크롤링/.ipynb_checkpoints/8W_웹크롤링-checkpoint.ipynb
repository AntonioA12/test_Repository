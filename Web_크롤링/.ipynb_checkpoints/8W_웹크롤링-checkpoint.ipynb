{
 "cells": [
  {
   "cell_type": "markdown",
   "metadata": {},
   "source": [
    "## 웹 데이터 저장\n",
    "\n",
    "    web(데이터) ->(요청) ->  HTML (웹 언어) -> (parsing) ->  data (정제된) -> csv or xlsx 저장\n",
    "    \n",
    "    \n",
    "## CSV \n",
    "\n",
    "    Comma-Separated Values \n",
    "    2차원 행렬 ( 매트릭스 ) \n",
    "    (,) 로 구분한 텍스트 데이터 , 텍스트 파일 \n",
    "    \n",
    "    읽기보단 어떻게 저장하는지 중요하다"
   ]
  },
  {
   "cell_type": "markdown",
   "metadata": {},
   "source": [
    "## csv 파일 읽기 / csv.reader()"
   ]
  },
  {
   "cell_type": "code",
   "execution_count": 1,
   "metadata": {
    "collapsed": true,
    "jupyter": {
     "outputs_hidden": true
    }
   },
   "outputs": [
    {
     "ename": "FileNotFoundError",
     "evalue": "[Errno 2] No such file or directory: 'test.csv'",
     "output_type": "error",
     "traceback": [
      "\u001b[1;31m---------------------------------------------------------------------------\u001b[0m",
      "\u001b[1;31mFileNotFoundError\u001b[0m                         Traceback (most recent call last)",
      "\u001b[1;32m<ipython-input-1-87f27897181c>\u001b[0m in \u001b[0;36m<module>\u001b[1;34m\u001b[0m\n\u001b[0;32m      1\u001b[0m \u001b[1;32mimport\u001b[0m \u001b[0mcsv\u001b[0m\u001b[1;33m\u001b[0m\u001b[1;33m\u001b[0m\u001b[0m\n\u001b[0;32m      2\u001b[0m \u001b[1;33m\u001b[0m\u001b[0m\n\u001b[1;32m----> 3\u001b[1;33m \u001b[0mf\u001b[0m \u001b[1;33m=\u001b[0m \u001b[0mopen\u001b[0m\u001b[1;33m(\u001b[0m\u001b[1;34m'test.csv'\u001b[0m\u001b[1;33m,\u001b[0m \u001b[1;34m'r'\u001b[0m\u001b[1;33m)\u001b[0m\u001b[1;33m\u001b[0m\u001b[1;33m\u001b[0m\u001b[0m\n\u001b[0m\u001b[0;32m      4\u001b[0m \u001b[0mrdr\u001b[0m \u001b[1;33m=\u001b[0m \u001b[0mcsv\u001b[0m\u001b[1;33m.\u001b[0m\u001b[0mreader\u001b[0m\u001b[1;33m(\u001b[0m\u001b[0mf\u001b[0m\u001b[1;33m)\u001b[0m\u001b[1;33m\u001b[0m\u001b[1;33m\u001b[0m\u001b[0m\n\u001b[0;32m      5\u001b[0m \u001b[1;32mfor\u001b[0m \u001b[0mline\u001b[0m \u001b[1;32min\u001b[0m \u001b[0mrdr\u001b[0m\u001b[1;33m:\u001b[0m\u001b[1;33m\u001b[0m\u001b[1;33m\u001b[0m\u001b[0m\n",
      "\u001b[1;31mFileNotFoundError\u001b[0m: [Errno 2] No such file or directory: 'test.csv'"
     ]
    }
   ],
   "source": [
    "import csv\n",
    "\n",
    "f = open('test.csv', 'r') # 반드시 open 으로 시작하여 close 로 끝내야함  \n",
    "rdr = csv.reader(f) # rdr = 읽거나 쓰기 \n",
    "\n",
    "for line in rdr:\n",
    "    print(line)\n",
    "f.close() # close 로 끝 \n",
    "\n",
    "## with 방식 , close 없음 \n",
    "# import csv\n",
    "\n",
    "# with open('test.csv', 'r') as f:\n",
    "#     rdr = csv.reader(f)\n",
    "#     for line in rdr:\n",
    "#         print(line)"
   ]
  },
  {
   "cell_type": "markdown",
   "metadata": {},
   "source": [
    "## csv 파일 쓰기 / csv.writer() , csv.writerow()"
   ]
  },
  {
   "cell_type": "code",
   "execution_count": 2,
   "metadata": {},
   "outputs": [],
   "source": [
    "import csv\n",
    "\n",
    "f = open('output.csv', 'w', newline='', encoding='utf-8') # 'w' 생성, 만약 파일이름이 동일이름일 경우 덮어씌움 , 추가는 'a' 임 \n",
    "# newline='' 빈문자열을 자동으로 넣어줘야 csv.writer()가 원활히 쓰기가능\n",
    "# encoding='utf-8' , OS 환경에 따라 다름 \n",
    "\n",
    "wr = csv.writer(f)\n",
    "wr.writerow([1, \"Alice\", True]) # csv 내용물\n",
    "wr.writerow([2, \"Bob\", False]) # csv 내용물 \n",
    "\n",
    "f.close()\n",
    "\n",
    "## with 방식 \n",
    "\n",
    "# import csv\n",
    "# with open('output.csv', 'w', newline='', encoding='utf-8') as f:\n",
    "#     wr = csv.writer(f)\n",
    "#     wr.writerow([1, \"Alice\", True])\n",
    "#     wr.writerow([2, \"Bob\", False])\n"
   ]
  },
  {
   "cell_type": "code",
   "execution_count": null,
   "metadata": {},
   "outputs": [],
   "source": []
  }
 ],
 "metadata": {
  "kernelspec": {
   "display_name": "Python 3",
   "language": "python",
   "name": "python3"
  },
  "language_info": {
   "codemirror_mode": {
    "name": "ipython",
    "version": 3
   },
   "file_extension": ".py",
   "mimetype": "text/x-python",
   "name": "python",
   "nbconvert_exporter": "python",
   "pygments_lexer": "ipython3",
   "version": "3.8.5"
  }
 },
 "nbformat": 4,
 "nbformat_minor": 4
}
