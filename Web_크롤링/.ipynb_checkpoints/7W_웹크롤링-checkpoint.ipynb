{
 "cells": [
  {
   "cell_type": "code",
   "execution_count": 2,
   "metadata": {},
   "outputs": [
    {
     "data": {
      "text/html": [
       "<style>.container { width:95% !important; }</style>"
      ],
      "text/plain": [
       "<IPython.core.display.HTML object>"
      ]
     },
     "metadata": {},
     "output_type": "display_data"
    },
    {
     "data": {
      "text/html": [
       "<style>.input_area pre {font-family: Consolas; font-size: 15pt; line-height: 140%;}</style>"
      ],
      "text/plain": [
       "<IPython.core.display.HTML object>"
      ]
     },
     "metadata": {},
     "output_type": "display_data"
    },
    {
     "data": {
      "text/html": [
       "<style>.output_area pre {font-family: Consolas; font-size: 15pt; line-height: 140%;}</style>"
      ],
      "text/plain": [
       "<IPython.core.display.HTML object>"
      ]
     },
     "metadata": {},
     "output_type": "display_data"
    }
   ],
   "source": [
    "from IPython.core.display import display, HTML\n",
    "display(HTML(\"<style>.container { width:95% !important; }</style>\"))\n",
    "display(HTML(\"<style>.input_area pre {font-family: Consolas; font-size: 15pt; line-height: 140%;}</style>\"))\n",
    "display(HTML(\"<style>.output_area pre {font-family: Consolas; font-size: 15pt; line-height: 140%;}</style>\"))\n",
    "\n",
    "import requests as rq\n",
    "from bs4 import BeautifulSoup\n",
    "from urllib.request import urlretrieve\n",
    "from urllib.parse import urljoin\n",
    "from IPython.display import Image"
   ]
  },
  {
   "cell_type": "markdown",
   "metadata": {},
   "source": [
    "## Web 크롤링 = HMTL + CSS + JavaScript 총 3가지를 통해 데이터 수집하는 것\n",
    "\n",
    "    - 오늘은 CSS 를 배울 것.\n",
    "    - 배우는 이유 : \n",
    "    1. 데이터 수집을 쉽게 하기위해\n",
    "    2. 여러가지 소프트웨어 ( 웹, 앱 , 등 ) 개발의 필수언어  \n"
   ]
  },
  {
   "cell_type": "markdown",
   "metadata": {},
   "source": [
    "## CSS ( Casting Style Sheets ) 란?\n",
    "\n",
    "    - HTML 문서의 레이아웃과 스타일을 정의하는 것.\n",
    "        겉모습(디자인) 을 바꾸어 주는 것 ( CSS = 외모 , HTML = 내용 ) \n",
    "        \n",
    "    - 같은 HTML 문서의 다양한 CSS를 적용하여 웹문서 스타일을 바꿀수 있다. ( HTML 은 똑같은데, CSS (디자인)만 바뀜 ) \n",
    "    - 같은 <body> 태그도 다양한 디자인으로 수집 가능 \n",
    "    \n",
    "    - 과거 HTML + 디자인요소 와 함께 있었다가\n",
    "    - 불필요한 데이터 구조, 온갖 레이아웃, 전문가들조차 알아보기 힘든 이유로\n",
    "    - HTML / CSS 분리하여 모든 디자인요소는 CSS 가 담당."
   ]
  },
  {
   "cell_type": "markdown",
   "metadata": {},
   "source": [
    "## CSS 형식 / 문법 / 선택자  ( ; ,{ } ) \n",
    " \n",
    "    선택자 p{} = CSS 를 적용하고하는 HTML 요소\n",
    "    선언부 ; = ; 으로 구분, {} 사용하요 태그활용 \n",
    "        color, font-size 등 디자인요소 담당\n",
    "        \n",
    "    중요한 것은 선택자 앞에 어떻게 되어있는지 파악하는 것"
   ]
  },
  {
   "cell_type": "markdown",
   "metadata": {},
   "source": [
    "## CSS 선택자 문법 / ''{} 앞에 위치\n",
    "    \n",
    "    하나의 선택자 선택으로 모든 동일 선택자 선택가능 ( 다중선택 )\n",
    "    \n",
    "    HTML 요소 선택자\n",
    "        h2{ color: teal; .... } \n",
    "        \n",
    "    아이디(id) 선택자\n",
    "        #heading { color: ..... }\n",
    "        # id는 1개밖에 없음 , # 뒤에 id \n",
    "        \n",
    "        ex )  #heading = id가 heading인 모든 태그(선택자)를 선택하겠다. \n",
    "        \n",
    "    클래스(class) 선택자\n",
    "        .headings {.... }\n",
    "        . = class\n",
    "        \n",
    "        ex ) .headings = class 가 heading 인 모든 태그(선택자)를 선택하겠다. \n",
    "        \n",
    "    그룹(group) 선택자\n",
    "        h1, h2, p { ...} \n",
    "        , = or \n",
    "        \n",
    "        ex ) h1, h2, p 셋 중 하나라도 T 면 선택 \n",
    "        \n",
    "    조건 선택자\n",
    "        '' , > , + , ~ , ','  \n",
    "        \n",
    "        ex ) div p = 조상 이 div 인 p 태그  선택\n",
    "        ex ) div > p = 부모 가 div인 p 태그 선택 \n",
    "        ex ) ul + p = 붙어있는 형제 가 ul인 p 태그 선택 = 붙어있는 형제 \n",
    "        ex ) ul ~ table = ul 이 형제인 table 태그 선택  = 형제 "
   ]
  },
  {
   "cell_type": "code",
   "execution_count": null,
   "metadata": {},
   "outputs": [],
   "source": []
  }
 ],
 "metadata": {
  "kernelspec": {
   "display_name": "Python 3",
   "language": "python",
   "name": "python3"
  },
  "language_info": {
   "codemirror_mode": {
    "name": "ipython",
    "version": 3
   },
   "file_extension": ".py",
   "mimetype": "text/x-python",
   "name": "python",
   "nbconvert_exporter": "python",
   "pygments_lexer": "ipython3",
   "version": "3.8.5"
  }
 },
 "nbformat": 4,
 "nbformat_minor": 4
}
