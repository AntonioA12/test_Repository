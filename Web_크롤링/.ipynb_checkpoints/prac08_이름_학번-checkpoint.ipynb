{
 "cells": [
  {
   "cell_type": "code",
   "execution_count": 1,
   "metadata": {},
   "outputs": [
    {
     "data": {
      "text/html": [
       "<style>.container { width:95% !important; }</style>"
      ],
      "text/plain": [
       "<IPython.core.display.HTML object>"
      ]
     },
     "metadata": {},
     "output_type": "display_data"
    },
    {
     "data": {
      "text/html": [
       "<style>.input_area pre {font-family: Consolas; font-size: 15pt; line-height: 140%;}</style>"
      ],
      "text/plain": [
       "<IPython.core.display.HTML object>"
      ]
     },
     "metadata": {},
     "output_type": "display_data"
    },
    {
     "data": {
      "text/html": [
       "<style>.output_area pre {font-family: Consolas; font-size: 15pt; line-height: 140%;}</style>"
      ],
      "text/plain": [
       "<IPython.core.display.HTML object>"
      ]
     },
     "metadata": {},
     "output_type": "display_data"
    }
   ],
   "source": [
    "from IPython.core.display import display, HTML\n",
    "display(HTML(\"<style>.container { width:95% !important; }</style>\"))\n",
    "display(HTML(\"<style>.input_area pre {font-family: Consolas; font-size: 15pt; line-height: 140%;}</style>\"))\n",
    "display(HTML(\"<style>.output_area pre {font-family: Consolas; font-size: 15pt; line-height: 140%;}</style>\"))"
   ]
  },
  {
   "cell_type": "markdown",
   "metadata": {},
   "source": [
    "# 제출 방법\n",
    "1. 파일 이름에서 '학번'을 자신의 학번으로, '이름'을 자신의 이름으로 고치시오.\n"
   ]
  },
  {
   "cell_type": "markdown",
   "metadata": {},
   "source": [
    "# 실습1\n",
    "\n",
    "http://dowellcomputer.com/member/memberLoginForm.jsp 에 로그인하고 사용자 정보에서 email 주소를 추출하여 출력한다.\n",
    "\n",
    "- 아이디: dsdsds\n",
    "- 비밀번호: dsdsds\n",
    "\n",
    "\n",
    "***결과***\n",
    "```\n",
    "Action URL: http://dowellcomputer.com/member/memberLoginAction.jsp\n",
    "Cookies: {'JSESSIONID': '2DAC157995E6FF56897B9B8DA75B60FB'}\n",
    "Email: dsdsds@dsdsds.com\n",
    "```"
   ]
  },
  {
   "cell_type": "code",
   "execution_count": 15,
   "metadata": {},
   "outputs": [
    {
     "name": "stdout",
     "output_type": "stream",
     "text": [
      "Action URL: http://dowellcomputer.com/member/memberLoginAction.jsp\n",
      "Cookies: {'JSESSIONID': '6B1EB7EF5E3F22BFA7A4C74F74926389'}\n",
      "Email: <input name=\"memberEmail\" type=\"text\" value=\"dsdsds@dsdsds.com\"/>\n"
     ]
    }
   ],
   "source": [
    "import json\n",
    "import requests as rq\n",
    "from urllib.parse import urljoin\n",
    "from bs4 import BeautifulSoup\n",
    "\n",
    "login_page_url = \"http://dowellcomputer.com/member/memberLoginForm.jsp\"\n",
    "test_url = \"http://dowellcomputer.com/member/memberUpdateForm.jsp?ID=dsdsds\"\n",
    "\n",
    "'memberID' # ID input 태그 \n",
    "\n",
    "    # action URL 출력\n",
    "    \n",
    "action_url = urljoin( login_page_url , './memberLoginAction.jsp' )  # action_url \n",
    "print('Action URL:', action_url)\n",
    "    \n",
    "login_info = {\n",
    "    'memberID':'dsdsds',\n",
    "    'memberPassword' : 'dsdsds'\n",
    "}\n",
    "    \n",
    "# Cookies 출력\n",
    "    \n",
    "with rq.Session() as s:\n",
    "        \n",
    "    login_res = s.post( action_url , data = login_info) # post \n",
    "    login_soup = BeautifulSoup( login_res.text , 'lxml')\n",
    "        \n",
    "    print('Cookies:', dict(s.cookies) )\n",
    "    # Email 정보 출력 \n",
    "    res = s.get(test_url)\n",
    "    soup = BeautifulSoup( res.text , 'lxml')\n",
    "    \n",
    "    email = soup.select_one('input[name=memberEmail]')\n",
    "    print('Email:', email)\n",
    "    \n",
    "    pass\n",
    "\n",
    "\n",
    "\n",
    "\n"
   ]
  },
  {
   "cell_type": "markdown",
   "metadata": {},
   "source": [
    "# 실습2\n",
    "\n",
    "https://www.wishket.com/ 에 로그인하고 프로젝트 건 수 크롤링 하기\n",
    "\n",
    "https://www.wishket.com/partners/manage/interest/ 여기에서 관심 프로젝트의 제목과 가격을 출력한다.\n",
    "\n",
    "아이디: crawler070\n",
    "\n",
    "패스워드: 123123123!\n",
    "\n",
    "***결과***\n",
    "```\n",
    "옵션 합성 자동매매 프로그램 개발: 2,000,000원\n",
    "웹 프런트엔드 매물 선택보기 필터 기능 구현: 1,000,000원\n",
    "쿠팡 특정제품 아이템 위너 및 2순위 제품 가격 추적: 2,000,000원\n",
    "```"
   ]
  },
  {
   "cell_type": "code",
   "execution_count": 2,
   "metadata": {},
   "outputs": [
    {
     "name": "stderr",
     "output_type": "stream",
     "text": [
      "Error occurred during loading data. Trying to use cache server https://fake-useragent.herokuapp.com/browsers/0.1.11\n",
      "Traceback (most recent call last):\n",
      "  File \"C:\\Users\\gyqls\\anaconda3\\lib\\site-packages\\fake_useragent\\utils.py\", line 64, in get\n",
      "    with contextlib.closing(urlopen(\n",
      "  File \"C:\\Users\\gyqls\\anaconda3\\lib\\urllib\\request.py\", line 222, in urlopen\n",
      "    return opener.open(url, data, timeout)\n",
      "  File \"C:\\Users\\gyqls\\anaconda3\\lib\\urllib\\request.py\", line 525, in open\n",
      "    response = self._open(req, data)\n",
      "  File \"C:\\Users\\gyqls\\anaconda3\\lib\\urllib\\request.py\", line 542, in _open\n",
      "    result = self._call_chain(self.handle_open, protocol, protocol +\n",
      "  File \"C:\\Users\\gyqls\\anaconda3\\lib\\urllib\\request.py\", line 502, in _call_chain\n",
      "    result = func(*args)\n",
      "  File \"C:\\Users\\gyqls\\anaconda3\\lib\\urllib\\request.py\", line 1379, in http_open\n",
      "    return self.do_open(http.client.HTTPConnection, req)\n",
      "  File \"C:\\Users\\gyqls\\anaconda3\\lib\\urllib\\request.py\", line 1354, in do_open\n",
      "    r = h.getresponse()\n",
      "  File \"C:\\Users\\gyqls\\anaconda3\\lib\\http\\client.py\", line 1347, in getresponse\n",
      "    response.begin()\n",
      "  File \"C:\\Users\\gyqls\\anaconda3\\lib\\http\\client.py\", line 307, in begin\n",
      "    version, status, reason = self._read_status()\n",
      "  File \"C:\\Users\\gyqls\\anaconda3\\lib\\http\\client.py\", line 268, in _read_status\n",
      "    line = str(self.fp.readline(_MAXLINE + 1), \"iso-8859-1\")\n",
      "  File \"C:\\Users\\gyqls\\anaconda3\\lib\\socket.py\", line 669, in readinto\n",
      "    return self._sock.recv_into(b)\n",
      "socket.timeout: timed out\n",
      "\n",
      "During handling of the above exception, another exception occurred:\n",
      "\n",
      "Traceback (most recent call last):\n",
      "  File \"C:\\Users\\gyqls\\anaconda3\\lib\\site-packages\\fake_useragent\\utils.py\", line 164, in load\n",
      "    browsers_dict[browser_key] = get_browser_versions(\n",
      "  File \"C:\\Users\\gyqls\\anaconda3\\lib\\site-packages\\fake_useragent\\utils.py\", line 120, in get_browser_versions\n",
      "    html = get(\n",
      "  File \"C:\\Users\\gyqls\\anaconda3\\lib\\site-packages\\fake_useragent\\utils.py\", line 84, in get\n",
      "    raise FakeUserAgentError('Maximum amount of retries reached')\n",
      "fake_useragent.errors.FakeUserAgentError: Maximum amount of retries reached\n"
     ]
    },
    {
     "name": "stdout",
     "output_type": "stream",
     "text": [
      "옵션 합성 자동매매 프로그램 개발: 2,000,000원\n",
      "웹 프런트엔드 매물 선택보기 필터 기능 구현: 1,000,000원\n",
      "쿠팡 특정제품 아이템 위너 및 2순위 제품 가격 추적: 2,000,000원\n"
     ]
    }
   ],
   "source": [
    "import sys\n",
    "import io\n",
    "from bs4 import BeautifulSoup\n",
    "import requests as rq\n",
    "from urllib.parse import urljoin\n",
    "from fake_useragent import UserAgent\n",
    "\n",
    "ua = UserAgent()\n",
    "\n",
    "def get_wishket_csrftoken(s, login_url):\n",
    "    login_res = s.get(login_url)\n",
    "    login_soup = BeautifulSoup(login_res.text, 'lxml')\n",
    "    csrftoken = login_soup.select_one('input[name=csrfmiddlewaretoken]').get('value')\n",
    "    return csrftoken\n",
    "\n",
    "def wishket_login(s):\n",
    "    login_url = 'https://www.wishket.com/accounts/login/'\n",
    "    action_url = urljoin(login_url, '/accounts/login/')\n",
    "    \n",
    "    csrftoken = get_wishket_csrftoken(s, login_url)\n",
    "    login_info = {\n",
    "        'identification':'crawler070',\n",
    "        'password':'123123123!',\n",
    "        'csrfmiddlewaretoken':csrftoken\n",
    "    }\n",
    "    \n",
    "    header = {\n",
    "        'User-Agent':str(ua.chrome),\n",
    "        'Referer':login_url,\n",
    "    }\n",
    "    \n",
    "    action_res = s.post(action_url,data=login_info, headers=header)\n",
    "\n",
    "\n",
    "with rq.Session() as s:\n",
    "    wishket_login(s)\n",
    "    \n",
    "    interest_url = 'https://www.wishket.com/partners/manage/interest/'\n",
    "    res = s.get(interest_url)\n",
    "    soup = BeautifulSoup(res.text,'lxml')\n",
    "    project_list = soup.select(\".interest-card\")\n",
    "\n",
    "    for i in project_list:\n",
    "        title = i.select_one('.card-title').get_text()\n",
    "        pay = i.select_one('.card-expectation-money-content').get_text()\n",
    "        print(f\"{title}: {pay}\")"
   ]
  },
  {
   "cell_type": "code",
   "execution_count": null,
   "metadata": {},
   "outputs": [],
   "source": []
  }
 ],
 "metadata": {
  "kernelspec": {
   "display_name": "Python 3",
   "language": "python",
   "name": "python3"
  },
  "language_info": {
   "codemirror_mode": {
    "name": "ipython",
    "version": 3
   },
   "file_extension": ".py",
   "mimetype": "text/x-python",
   "name": "python",
   "nbconvert_exporter": "python",
   "pygments_lexer": "ipython3",
   "version": "3.8.5"
  }
 },
 "nbformat": 4,
 "nbformat_minor": 4
}
