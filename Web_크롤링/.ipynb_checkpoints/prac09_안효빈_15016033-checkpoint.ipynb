{
 "cells": [
  {
   "cell_type": "code",
   "execution_count": 1,
   "metadata": {},
   "outputs": [
    {
     "data": {
      "text/html": [
       "<style>.container { width:95% !important; }</style>"
      ],
      "text/plain": [
       "<IPython.core.display.HTML object>"
      ]
     },
     "metadata": {},
     "output_type": "display_data"
    },
    {
     "data": {
      "text/html": [
       "<style>.input_area pre {font-family: Consolas; font-size: 15pt; line-height: 140%;}</style>"
      ],
      "text/plain": [
       "<IPython.core.display.HTML object>"
      ]
     },
     "metadata": {},
     "output_type": "display_data"
    },
    {
     "data": {
      "text/html": [
       "<style>.output_area pre {font-family: Consolas; font-size: 15pt; line-height: 140%;}</style>"
      ],
      "text/plain": [
       "<IPython.core.display.HTML object>"
      ]
     },
     "metadata": {},
     "output_type": "display_data"
    }
   ],
   "source": [
    "from IPython.core.display import display, HTML\n",
    "display(HTML(\"<style>.container { width:95% !important; }</style>\"))\n",
    "display(HTML(\"<style>.input_area pre {font-family: Consolas; font-size: 15pt; line-height: 140%;}</style>\"))\n",
    "display(HTML(\"<style>.output_area pre {font-family: Consolas; font-size: 15pt; line-height: 140%;}</style>\"))"
   ]
  },
  {
   "cell_type": "markdown",
   "metadata": {},
   "source": [
    "# 제출 방법\n",
    "1. 파일 이름에서 '학번'을 자신의 학번으로, '이름'을 자신의 이름으로 고치시오.\n"
   ]
  },
  {
   "cell_type": "markdown",
   "metadata": {},
   "source": [
    "# 실습1\n",
    "\n",
    "셀레니움을 이용하여 구글에서 selenium을 검색하라.\n",
    "\n",
    "셀레니움 특수키 목록\n",
    "\n",
    "https://www.selenium.dev/selenium/docs/api/py/webdriver/selenium.webdriver.common.keys.html\n"
   ]
  },
  {
   "cell_type": "code",
   "execution_count": 1,
   "metadata": {},
   "outputs": [],
   "source": [
    "from selenium import webdriver\n",
    "from selenium.webdriver.common.keys import Keys # 엔터키 \n",
    "import time\n",
    "\n",
    "# webdriver 생성\n",
    "chromdirver_path = './chromedriver.exe'\n",
    "# C:\\Users\\gyqls\\anaconda3\\Web_/chromedriver.exe\n",
    "driver = webdriver.Chrome(chromdirver_path)\n",
    "\n",
    "# 홈페이지 접속\n",
    "driver.get(\"http://www.google.com\")\n",
    "\n",
    "# 5초 기다리기\n",
    "time.sleep(5)\n",
    "\n",
    "# name 이 q인 태그 찾기\n",
    "tag = driver.find_element_by_css_selector('[name=q]')\n",
    "\n",
    "# 텍스트창에서 모든 내용 비우기\n",
    "tag.clear()\n",
    "\n",
    "# 5초 기다리기\n",
    "time.sleep(5)\n",
    "\n",
    "# selenium 입력하기\n",
    "tag.send_keys('selenium') # 셀레니움 입력 \n",
    "\n",
    "# 5초 기다리기\n",
    "time.sleep(5)\n",
    "\n",
    "# 엔터키 입력하기\n",
    "tag.send_keys(Keys.RETURN) # 엔터키누르기 # keys.RETURN = 유니코드 같은 특수키 자세한 항목 url 참조 \n",
    "\n",
    "# 5초 기다리기\n",
    "time.sleep(5)\n",
    "\n",
    "# webdriver 닫기\n",
    "driver.close()\n"
   ]
  },
  {
   "cell_type": "markdown",
   "metadata": {},
   "source": [
    "# 실습2\n",
    "\n",
    "css 선택자 실습\n",
    "```\n",
    "'포켓몬고' 상륙 1주일.. 대한민국 곳곳이 들썩\n",
    "'포켓몬고' 상륙 1주일.. 대한민국 곳곳이 들썩\n",
    "많이본 뉴스\n",
    "포토&TV\n",
    "이 시각 추천뉴스\n",
    "실시간 주요이슈\n",
    "```"
   ]
  },
  {
   "cell_type": "code",
   "execution_count": 2,
   "metadata": {},
   "outputs": [
    {
     "name": "stdout",
     "output_type": "stream",
     "text": [
      "'포켓몬고' 상륙 1주일.. 대한민국 곳곳이 들썩\n",
      "'포켓몬고' 상륙 1주일.. 대한민국 곳곳이 들썩\n",
      "파이낸셜뉴스 주요 뉴스\n",
      "많이본 뉴스\n",
      "포토&TV\n",
      "이 시각 추천뉴스\n"
     ]
    }
   ],
   "source": [
    "from selenium import webdriver\n",
    "import time\n",
    "\n",
    "chromdirver_path = './chromedriver.exe'\n",
    "driver = webdriver.Chrome(chromdirver_path)\n",
    "\n",
    "driver.get('http://v.media.daum.net/v/20170202185812986') # 해당 홈페이지 get \n",
    "time.sleep(5)\n",
    "\n",
    "# 최초 발견한 태그만 검색 # select_one() \n",
    "# tag = driver.find_element_by_tag_name('h3') \n",
    "tag = driver.find_element_by_css_selector('h3') #태그를 리턴 # h3태그 선택\n",
    "print(tag.text) # 태그의 텍스트 출력 # h3 태그의 text print \n",
    "\n",
    "# 모든 태그 검색 # select()\n",
    "#h3s = driver.find_elements_by_tag_name('h3') #리스트를 리턴 elements와 element의 차이\n",
    "h3s = driver.find_elements_by_css_selector('h3') #리스트로 리턴 = soup.select()\n",
    "for i in h3s:\n",
    "    print(i.text) # h3의 text 를  모두 출력 \n",
    "driver.close()"
   ]
  },
  {
   "cell_type": "code",
   "execution_count": 12,
   "metadata": {
    "collapsed": true,
    "jupyter": {
     "outputs_hidden": true
    }
   },
   "outputs": [
    {
     "data": {
      "text/plain": [
       "['__class__',\n",
       " '__delattr__',\n",
       " '__dict__',\n",
       " '__dir__',\n",
       " '__doc__',\n",
       " '__enter__',\n",
       " '__eq__',\n",
       " '__exit__',\n",
       " '__format__',\n",
       " '__ge__',\n",
       " '__getattribute__',\n",
       " '__gt__',\n",
       " '__hash__',\n",
       " '__init__',\n",
       " '__init_subclass__',\n",
       " '__le__',\n",
       " '__lt__',\n",
       " '__module__',\n",
       " '__ne__',\n",
       " '__new__',\n",
       " '__reduce__',\n",
       " '__reduce_ex__',\n",
       " '__repr__',\n",
       " '__setattr__',\n",
       " '__sizeof__',\n",
       " '__str__',\n",
       " '__subclasshook__',\n",
       " '__weakref__',\n",
       " '_file_detector',\n",
       " '_is_remote',\n",
       " '_mobile',\n",
       " '_switch_to',\n",
       " '_unwrap_value',\n",
       " '_web_element_cls',\n",
       " '_wrap_value',\n",
       " 'add_cookie',\n",
       " 'application_cache',\n",
       " 'back',\n",
       " 'capabilities',\n",
       " 'close',\n",
       " 'command_executor',\n",
       " 'create_options',\n",
       " 'create_web_element',\n",
       " 'current_url',\n",
       " 'current_window_handle',\n",
       " 'delete_all_cookies',\n",
       " 'delete_cookie',\n",
       " 'desired_capabilities',\n",
       " 'error_handler',\n",
       " 'execute',\n",
       " 'execute_async_script',\n",
       " 'execute_cdp_cmd',\n",
       " 'execute_script',\n",
       " 'file_detector',\n",
       " 'file_detector_context',\n",
       " 'find_element',\n",
       " 'find_element_by_class_name',\n",
       " 'find_element_by_css_selector',\n",
       " 'find_element_by_id',\n",
       " 'find_element_by_link_text',\n",
       " 'find_element_by_name',\n",
       " 'find_element_by_partial_link_text',\n",
       " 'find_element_by_tag_name',\n",
       " 'find_element_by_xpath',\n",
       " 'find_elements',\n",
       " 'find_elements_by_class_name',\n",
       " 'find_elements_by_css_selector',\n",
       " 'find_elements_by_id',\n",
       " 'find_elements_by_link_text',\n",
       " 'find_elements_by_name',\n",
       " 'find_elements_by_partial_link_text',\n",
       " 'find_elements_by_tag_name',\n",
       " 'find_elements_by_xpath',\n",
       " 'forward',\n",
       " 'fullscreen_window',\n",
       " 'get',\n",
       " 'get_cookie',\n",
       " 'get_cookies',\n",
       " 'get_log',\n",
       " 'get_network_conditions',\n",
       " 'get_screenshot_as_base64',\n",
       " 'get_screenshot_as_file',\n",
       " 'get_screenshot_as_png',\n",
       " 'get_window_position',\n",
       " 'get_window_rect',\n",
       " 'get_window_size',\n",
       " 'implicitly_wait',\n",
       " 'launch_app',\n",
       " 'log_types',\n",
       " 'maximize_window',\n",
       " 'minimize_window',\n",
       " 'mobile',\n",
       " 'name',\n",
       " 'orientation',\n",
       " 'page_source',\n",
       " 'quit',\n",
       " 'refresh',\n",
       " 'save_screenshot',\n",
       " 'service',\n",
       " 'session_id',\n",
       " 'set_network_conditions',\n",
       " 'set_page_load_timeout',\n",
       " 'set_script_timeout',\n",
       " 'set_window_position',\n",
       " 'set_window_rect',\n",
       " 'set_window_size',\n",
       " 'start_client',\n",
       " 'start_session',\n",
       " 'stop_client',\n",
       " 'switch_to',\n",
       " 'switch_to_active_element',\n",
       " 'switch_to_alert',\n",
       " 'switch_to_default_content',\n",
       " 'switch_to_frame',\n",
       " 'switch_to_window',\n",
       " 'title',\n",
       " 'w3c',\n",
       " 'window_handles']"
      ]
     },
     "execution_count": 12,
     "metadata": {},
     "output_type": "execute_result"
    }
   ],
   "source": [
    "dir(driver) # driver 의 모든 메소드 찾기 # shift+tab 해당 파라미터 찾기 "
   ]
  },
  {
   "cell_type": "markdown",
   "metadata": {},
   "source": [
    "# 실습 3\n",
    "\n",
    "다음 실시간 댓글 가져오기\n"
   ]
  },
  {
   "cell_type": "code",
   "execution_count": 26,
   "metadata": {
    "scrolled": true
   },
   "outputs": [
    {
     "name": "stdout",
     "output_type": "stream",
     "text": [
      "[0]\n",
      "야훼 화석은 안놔왔냐? 개독들아? ㅋㅋㅋ\n",
      "[1]\n",
      "멋있다\n",
      "[2]\n",
      "6500만년전 유카탄 반도에 소행성이 충돌하기 전까지\n",
      "지구의 육지와 바다를 지배했던 공룡이 무려 2억년이나 생존을 유지했지만\n",
      "우리 인간은 이제 고작 10만년 밖에 안됐는데 지독한 환경파괴(대기중 탄소증가)로\n",
      "스스로 멸종을 길로 나아가고 있다.\n",
      "[3]\n",
      "잘 보존해준 자연의 신비도 감탄할만 하지만, 작은 붓으로 조그만 끌로 하나하나 정성들여 발굴했을 분들에게 경의를 표한다. 가치있는 물건을 가치있게 잘 보존해서 다음 세대에게 잘 물려주자.\n",
      "[4]\n",
      "공룡 보다는 악어 같은데?\n",
      "[5]\n",
      "예수쟁이들은\n",
      "안믿어요\n",
      "[6]\n",
      "화석을 온전히 떼어내기 위해 몇달을 밤을 지샛을 연구진들에게 경의와 박수를~~\n",
      "[7]\n",
      "이 기사를 교회에서 싫어합니다.\n",
      "[8]\n",
      "고길동은 세계 4대 성자다\n",
      "둘리 나쁜\n",
      "[9]\n",
      "악어같이생겼는데\n",
      "[10]\n",
      "바다 아래 땅 속에는 얼마나 많은 유물들이 있을까\n",
      "\n",
      "육지도 다 탐색하지 못하는 걸 생각하면 언감생심이지만\n",
      "\n",
      "지구만 해도 엄청난 양의 탐사 자료가 있을 걸 생각하면 정말 숙연해진다\n"
     ]
    }
   ],
   "source": [
    "import time\n",
    "from bs4 import BeautifulSoup\n",
    "from selenium import webdriver\n",
    "\n",
    "target_url = 'https://news.v.daum.net/v/20200525162102411' # url변수 \n",
    "\n",
    "chromdirver_path = './chromedriver.exe'\n",
    "driver = webdriver.Chrome(chromdirver_path)\n",
    "\n",
    "driver.get(target_url)\n",
    "time.sleep(5)\n",
    "\n",
    "more_button = driver.find_element_by_css_selector('div.alex_more') # <더보기 > 버튼 button 태그 의 부모 div 태그에서 클래스가 alex_more 인 태그  \n",
    "more_button.click() # <더보기> 클릭해라 \n",
    "time.sleep(3) \n",
    "\n",
    "html = driver.page_source # 페이지의 HTML 전체를 가져오기 # page_source # 즉, taget_url -> more_button 이 후 url 이다. \n",
    "soup = BeautifulSoup(html, 'lxml') # BeautifulSoup사용하기\n",
    "\n",
    "comments = soup.select('.desc_txt')  # 댓글을 가지고 있는 모든 태그 class = .desc_ . # 검사시 desc_txt font_size_17 인데 font_size는 지워도 좋다. \n",
    "\n",
    "for i, tag in enumerate(comments): # for 문을 이용해 commnets 태그의 모든 리스트 데이터 출력 \n",
    "    print(f\"[{i}]\")\n",
    "    print(tag.text.strip())\n",
    "\n",
    "time.sleep(5)\n",
    "driver.close()\n",
    "\n",
    "# <더보기> 버튼을 통해 데이터가 추가된다면 어떻게 추출할까 "
   ]
  },
  {
   "cell_type": "code",
   "execution_count": null,
   "metadata": {},
   "outputs": [],
   "source": []
  }
 ],
 "metadata": {
  "kernelspec": {
   "display_name": "Python 3",
   "language": "python",
   "name": "python3"
  },
  "language_info": {
   "codemirror_mode": {
    "name": "ipython",
    "version": 3
   },
   "file_extension": ".py",
   "mimetype": "text/x-python",
   "name": "python",
   "nbconvert_exporter": "python",
   "pygments_lexer": "ipython3",
   "version": "3.8.5"
  }
 },
 "nbformat": 4,
 "nbformat_minor": 4
}
