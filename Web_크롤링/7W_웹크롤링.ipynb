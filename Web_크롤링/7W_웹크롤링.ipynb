{
 "cells": [
  {
   "cell_type": "code",
   "execution_count": 2,
   "metadata": {},
   "outputs": [
    {
     "data": {
      "text/html": [
       "<style>.container { width:95% !important; }</style>"
      ],
      "text/plain": [
       "<IPython.core.display.HTML object>"
      ]
     },
     "metadata": {},
     "output_type": "display_data"
    },
    {
     "data": {
      "text/html": [
       "<style>.input_area pre {font-family: Consolas; font-size: 15pt; line-height: 140%;}</style>"
      ],
      "text/plain": [
       "<IPython.core.display.HTML object>"
      ]
     },
     "metadata": {},
     "output_type": "display_data"
    },
    {
     "data": {
      "text/html": [
       "<style>.output_area pre {font-family: Consolas; font-size: 15pt; line-height: 140%;}</style>"
      ],
      "text/plain": [
       "<IPython.core.display.HTML object>"
      ]
     },
     "metadata": {},
     "output_type": "display_data"
    }
   ],
   "source": [
    "from IPython.core.display import display, HTML\n",
    "display(HTML(\"<style>.container { width:95% !important; }</style>\"))\n",
    "display(HTML(\"<style>.input_area pre {font-family: Consolas; font-size: 15pt; line-height: 140%;}</style>\"))\n",
    "display(HTML(\"<style>.output_area pre {font-family: Consolas; font-size: 15pt; line-height: 140%;}</style>\"))\n",
    "\n",
    "import requests as rq\n",
    "from bs4 import BeautifulSoup\n",
    "from urllib.request import urlretrieve\n",
    "from urllib.parse import urljoin\n",
    "from IPython.display import Image"
   ]
  },
  {
   "cell_type": "markdown",
   "metadata": {},
   "source": [
    "## Web 크롤링 = HMTL + CSS + JavaScript 총 3가지를 통해 데이터 수집하는 것\n",
    "\n",
    "    - 오늘은 CSS 를 배울 것.\n",
    "    - 배우는 이유 : \n",
    "    1. 데이터 수집을 쉽게 하기위해\n",
    "    2. 여러가지 소프트웨어 ( 웹, 앱 , 등 ) 개발의 필수언어  \n"
   ]
  },
  {
   "cell_type": "markdown",
   "metadata": {},
   "source": [
    "## CSS ( Casting Style Sheets ) 란?\n",
    "\n",
    "    - HTML 문서의 레이아웃과 스타일을 정의하는 것.\n",
    "        겉모습(디자인) 을 바꾸어 주는 것 ( CSS = 외모 , HTML = 내용 ) \n",
    "        \n",
    "    - 같은 HTML 문서의 다양한 CSS를 적용하여 웹문서 스타일을 바꿀수 있다. ( HTML 은 똑같은데, CSS (디자인)만 바뀜 ) \n",
    "    - 같은 <body> 태그도 다양한 디자인으로 수집 가능 \n",
    "    \n",
    "    - 과거 HTML + 디자인요소 와 함께 있었다가\n",
    "    - 불필요한 데이터 구조, 온갖 레이아웃, 전문가들조차 알아보기 힘든 이유로\n",
    "    - HTML / CSS 분리하여 모든 디자인요소는 CSS 가 담당."
   ]
  },
  {
   "cell_type": "markdown",
   "metadata": {},
   "source": [
    "## CSS 형식 / 문법 / 선택자  ( ; ,{ } ) \n",
    " \n",
    "    선택자 p{} = CSS 를 적용하고하는 HTML 요소\n",
    "    선언부 ; = ; 으로 구분, {} 사용하요 태그활용 \n",
    "        color, font-size 등 디자인요소 담당\n",
    "        \n",
    "    중요한 것은 선택자 앞에 어떻게 되어있는지 파악하는 것"
   ]
  },
  {
   "cell_type": "markdown",
   "metadata": {},
   "source": [
    "## CSS 선택자 문법 / ''{} 앞에 위치\n",
    "    \n",
    "    도움주는 사이트 : https://www.w3schools.com/cssref/trysel.asp\n",
    "    \n",
    "    하나의 선택자 선택으로 모든 동일 선택자 선택가능 ( 다중선택 )\n",
    "    \n",
    "    HTML 요소 선택자\n",
    "        h2{ color: teal; .... } \n",
    "        \n",
    "    아이디(id) 선택자\n",
    "        #heading { color: ..... }\n",
    "        # id는 1개밖에 없음 , # 뒤에 id \n",
    "        \n",
    "        ex )  #heading = id가 heading인 모든 태그(선택자)를 선택하겠다. \n",
    "        \n",
    "    클래스(class) 선택자\n",
    "        .headings {.... }\n",
    "        . = class\n",
    "        \n",
    "        ex ) .headings = class 가 heading 인 모든 태그(선택자)를 선택하겠다. \n",
    "        \n",
    "    그룹(group) 선택자\n",
    "        h1, h2, p { ...} \n",
    "        , = or \n",
    "        \n",
    "        ex ) h1, h2, p 셋 중 하나라도 T 면 선택 \n",
    "        \n",
    "    조건 선택자\n",
    "        '' , > , + , ~ , ','  \n",
    "        \n",
    "        ex ) div p = 조상 이 div 인 p 태그  선택\n",
    "        ex ) div > p = 부모 가 div인 p 태그 선택 \n",
    "        ex ) ul + p = 붙어있는 형제 가 ul인 p 태그 선택 = 붙어있는 형제 \n",
    "        ex ) ul ~ table = ul 이 형제인 table 태그 선택  = 형제 "
   ]
  },
  {
   "cell_type": "markdown",
   "metadata": {},
   "source": [
    "## CSS 파일 적용법 \n",
    "\n",
    "    1. < head > 태그안의 <style> 태그에서 css 넣기\n",
    "    \n",
    "    2. css 파일에 css내용을 넣고 <link> 태그를 이용하여 .css 파일을 읽는다. \n",
    "        file = ./css.example.css \n",
    "        \n",
    "        < link rel = 'stylesheet' href ='./css.example.css'> \n",
    "        \n",
    "        ./css.example.css 에 맞는 디자인이 적용됨 "
   ]
  },
  {
   "cell_type": "markdown",
   "metadata": {},
   "source": [
    "#### CSS 장점 \n",
    "\n",
    "    1. 쉽고 빠른 태그호출가능\n",
    "    2. 유지보수 용이"
   ]
  },
  {
   "cell_type": "markdown",
   "metadata": {},
   "source": [
    "## BeautifulSoup.select()  = () 안의 태그를 리스트 형식으로 리턴하여 선택자 사용하기\n",
    "\n",
    "    # find_all() 와 매우 유사 \n",
    "    \n",
    "    soup.select('p')  = 모든 p 태그 선택\n",
    "    soup.select('#yes')  = id 가 yes 인 모든 태그\n",
    "    soup.select('.myclass') = class가 myclass인 모든 태그\n",
    "    soup.select('A > B > C') = A 가 조상, B가 부모인 C 태그 \n",
    "    soup.select('A B') = A가 조상인 모든 B 태그 \n",
    "    soup.select('A[id=ok]') = id=ok 인 모든 A 태그 \n",
    "    "
   ]
  },
  {
   "cell_type": "code",
   "execution_count": 3,
   "metadata": {},
   "outputs": [
    {
     "name": "stdout",
     "output_type": "stream",
     "text": [
      "[<a>1</a>, <a class=\"cc\">2</a>, <a><b>4</b></a>, <a class=\"cc\"><b class=\"ccc\">4.1</b></a>, <a><b><c>5</c></b></a>, <a id=\"ii\"> 6 </a>]\n",
      "[<a class=\"cc\">2</a>, <a class=\"cc\"><b class=\"ccc\">4.1</b></a>]\n",
      "[<a class=\"cc\">2</a>, <b class=\"cc\">3</b>, <a class=\"cc\"><b class=\"ccc\">4.1</b></a>]\n",
      "[<b>4</b>, <b class=\"ccc\">4.1</b>, <b><c>5</c></b>]\n",
      "[]\n",
      "[<c>5</c>]\n",
      "[<c>5</c>]\n",
      "[<a id=\"ii\"> 6 </a>]\n",
      "[<a id=\"ii\"> 6 </a>, <b id=\"ii\"> 7 </b>]\n",
      "[<b class=\"ccc\">4.1</b>]\n",
      "[<c href=\"hh\"> 8 </c>]\n",
      "[<c href=\"hh\"> 8 </c>, <d href=\"hh\"> 10 </d>]\n"
     ]
    }
   ],
   "source": [
    "import requests as rq\n",
    "from bs4 import BeautifulSoup\n",
    "\n",
    "html = '''\n",
    "<a>1</a>\n",
    "<a class='cc'>2</a>\n",
    "<b class='cc'>3</b>\n",
    "<a><b>4</b></a>\n",
    "<a class='cc'><b class='ccc'>4.1</b></a>\n",
    "<a><b><c>5</c></b></a>\n",
    "<a id='ii'> 6 </a>\n",
    "<b id='ii'> 7 </b>\n",
    "<c href='hh'> 8 </c>\n",
    "<c href='kk'> 9 </c>\n",
    "<d href='hh'> 10 </d>\n",
    "\n",
    "'''\n",
    "\n",
    "soup = BeautifulSoup(html , 'lxml')\n",
    "print(soup.select('a')) # a 태그\n",
    "print(soup.select('a.cc')) # cc 클래스를 가지는 a 태그\n",
    "print(soup.select('.cc')) # cc 클래스를 가지는 태그\n",
    "print(soup.select('a > b')) # a 태그의 자식인 b 태그\n",
    "print(soup.select('a > c')) # a 태그의 자식인 c 태그\n",
    "print(soup.select('a > b > c')) # a 태그의 자식인 b 태그인 자식인 c 태그\n",
    "print(soup.select('a c')) # a 태그의 후손이 c 태그\n",
    "print(soup.select('a#ii')) # id가 ii인 a 태그\n",
    "print(soup.select('#ii')) # id가 ii인 태그\n",
    "print(soup.select('a.cc > b.ccc')) # cc 클래스인 a태그의 자식인 ccc 클래스인 b 태그\n",
    "print(soup.select('c[href=hh]')) # href속성값이 hh인 c 태그\n",
    "print(soup.select('[href=hh]')) # href 속성값이 hh인 태그\n"
   ]
  },
  {
   "cell_type": "markdown",
   "metadata": {},
   "source": [
    "## soup.select(nth-of-type()) \n",
    "\n",
    "    n번쨰 태그를 선택 "
   ]
  },
  {
   "cell_type": "code",
   "execution_count": 7,
   "metadata": {},
   "outputs": [
    {
     "name": "stdout",
     "output_type": "stream",
     "text": [
      "[<a class=\"cc\">2</a>]\n"
     ]
    }
   ],
   "source": [
    "print(soup.select('a:nth-of-type(2)'))  # 2번째 a 태그를 선택 "
   ]
  },
  {
   "cell_type": "markdown",
   "metadata": {},
   "source": [
    "## soup.selct.one() \n",
    "\n",
    "    selct() 와 동일\n",
    "    단, 1개의 데이터만 가져온다."
   ]
  }
 ],
 "metadata": {
  "kernelspec": {
   "display_name": "Python 3",
   "language": "python",
   "name": "python3"
  },
  "language_info": {
   "codemirror_mode": {
    "name": "ipython",
    "version": 3
   },
   "file_extension": ".py",
   "mimetype": "text/x-python",
   "name": "python",
   "nbconvert_exporter": "python",
   "pygments_lexer": "ipython3",
   "version": "3.8.5"
  }
 },
 "nbformat": 4,
 "nbformat_minor": 4
}
