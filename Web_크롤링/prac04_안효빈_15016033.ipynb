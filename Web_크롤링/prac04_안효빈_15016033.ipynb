{
 "cells": [
  {
   "cell_type": "code",
   "execution_count": 1,
   "metadata": {},
   "outputs": [
    {
     "data": {
      "text/html": [
       "<style>.container { width:95% !important; }</style>"
      ],
      "text/plain": [
       "<IPython.core.display.HTML object>"
      ]
     },
     "metadata": {},
     "output_type": "display_data"
    },
    {
     "data": {
      "text/html": [
       "<style>.input_area pre {font-family: Consolas; font-size: 20pt; line-height: 140%;}</style>"
      ],
      "text/plain": [
       "<IPython.core.display.HTML object>"
      ]
     },
     "metadata": {},
     "output_type": "display_data"
    },
    {
     "data": {
      "text/html": [
       "<style>.output_area pre {font-family: Consolas; font-size: 20pt; line-height: 140%;}</style>"
      ],
      "text/plain": [
       "<IPython.core.display.HTML object>"
      ]
     },
     "metadata": {},
     "output_type": "display_data"
    }
   ],
   "source": [
    "from IPython.core.display import display, HTML\n",
    "display(HTML(\"<style>.container { width:95% !important; }</style>\"))\n",
    "display(HTML(\"<style>.input_area pre {font-family: Consolas; font-size: 20pt; line-height: 140%;}</style>\"))\n",
    "display(HTML(\"<style>.output_area pre {font-family: Consolas; font-size: 20pt; line-height: 140%;}</style>\"))"
   ]
  },
  {
   "cell_type": "markdown",
   "metadata": {},
   "source": [
    "# 제출 방법\n",
    "1. 파일 이름에서 '학번'을 자신의 학번으로, '이름'을 자신의 이름으로 고쳐서 제출하시오.\n"
   ]
  },
  {
   "cell_type": "code",
   "execution_count": 2,
   "metadata": {},
   "outputs": [
    {
     "ename": "TypeError",
     "evalue": "'list_iterator' object is not callable",
     "output_type": "error",
     "traceback": [
      "\u001b[1;31m---------------------------------------------------------------------------\u001b[0m",
      "\u001b[1;31mTypeError\u001b[0m                                 Traceback (most recent call last)",
      "\u001b[1;32m<ipython-input-2-5e5f8e47142f>\u001b[0m in \u001b[0;36m<module>\u001b[1;34m\u001b[0m\n\u001b[0;32m     17\u001b[0m \u001b[0msoup\u001b[0m \u001b[1;33m=\u001b[0m \u001b[0mBeautifulSoup\u001b[0m\u001b[1;33m(\u001b[0m\u001b[0mhtml\u001b[0m\u001b[1;33m,\u001b[0m \u001b[1;34m'lxml'\u001b[0m\u001b[1;33m)\u001b[0m\u001b[1;33m\u001b[0m\u001b[1;33m\u001b[0m\u001b[0m\n\u001b[0;32m     18\u001b[0m \u001b[1;33m\u001b[0m\u001b[0m\n\u001b[1;32m---> 19\u001b[1;33m \u001b[1;32mfor\u001b[0m \u001b[0mi\u001b[0m \u001b[1;32min\u001b[0m \u001b[0msoup\u001b[0m\u001b[1;33m.\u001b[0m\u001b[0mbody\u001b[0m\u001b[1;33m.\u001b[0m\u001b[0mchildren\u001b[0m\u001b[1;33m(\u001b[0m\u001b[1;33m)\u001b[0m\u001b[1;33m:\u001b[0m\u001b[1;33m\u001b[0m\u001b[1;33m\u001b[0m\u001b[0m\n\u001b[0m\u001b[0;32m     20\u001b[0m     \u001b[0mprint\u001b[0m\u001b[1;33m(\u001b[0m\u001b[0mi\u001b[0m\u001b[1;33m)\u001b[0m\u001b[1;33m\u001b[0m\u001b[1;33m\u001b[0m\u001b[0m\n",
      "\u001b[1;31mTypeError\u001b[0m: 'list_iterator' object is not callable"
     ]
    }
   ],
   "source": [
    "# 이 셀을 실행시키세요.\n",
    "from bs4 import BeautifulSoup\n",
    "\n",
    "html = \"\"\"\n",
    "<html>\n",
    "    <head><title class=\"c\">test site</title></head>\n",
    "    <body>\n",
    "        <p>test1</p>\n",
    "        <p class=\"c\" id=\"pp\">test2</p>\n",
    "        <p class=\"d\">test3</p></p>\n",
    "        <p class=\"e\">test4</p></p>\n",
    "        <a>a tag</a>\n",
    "        <b class=\"e\">b tag</b>\n",
    "    </body>\n",
    "</html>\"\"\"\n",
    "\n",
    "soup = BeautifulSoup(html, 'lxml')\n",
    "\n",
    "for i in soup.body.children():\n",
    "    print(i)\n"
   ]
  },
  {
   "cell_type": "markdown",
   "metadata": {},
   "source": [
    "# 문제1\n",
    "BeautifulSoup 객체를 이용하여 `<p>` 태그를 찾아서 출력하시오.\n",
    "\n",
    "(.find() 함수 이용)\n",
    "\n",
    "***출력***\n",
    "```\n",
    "<p>test1</p>\n",
    "```"
   ]
  },
  {
   "cell_type": "code",
   "execution_count": 6,
   "metadata": {},
   "outputs": [
    {
     "name": "stdout",
     "output_type": "stream",
     "text": [
      "<p>test1</p>\n"
     ]
    }
   ],
   "source": [
    "print(soup.find('p'))"
   ]
  },
  {
   "cell_type": "markdown",
   "metadata": {},
   "source": [
    "# 문제2\n",
    "BeautifulSoup 객체를 이용하여 `<p>` 태그중에서 `class` 태그 속성이 `'d'` 인 태그를 찾아서 출력하시오.\n",
    "\n",
    "(.find() 함수 이용)\n",
    "\n",
    "***출력***\n",
    "```\n",
    "<p class=\"d\">test3</p>\n",
    "```"
   ]
  },
  {
   "cell_type": "code",
   "execution_count": 3,
   "metadata": {},
   "outputs": [
    {
     "name": "stdout",
     "output_type": "stream",
     "text": [
      "<p class=\"d\">test3</p>\n"
     ]
    }
   ],
   "source": [
    "print(soup.find('p',{'class':'d'}))"
   ]
  },
  {
   "cell_type": "markdown",
   "metadata": {},
   "source": [
    "# 문제3\n",
    "BeautifulSoup 객체를 이용하여 `id` 태그 속성값이 `'pp'` 인 태그를 찾아서 출력하시오.\n",
    "\n",
    "(.find() 함수 이용)\n",
    "\n",
    "***출력***\n",
    "```\n",
    "<p class=\"c\" id=\"pp\">test2</p>\n",
    "```"
   ]
  },
  {
   "cell_type": "code",
   "execution_count": 5,
   "metadata": {},
   "outputs": [
    {
     "name": "stdout",
     "output_type": "stream",
     "text": [
      "<p class=\"c\" id=\"pp\">test2</p>\n",
      "<p class=\"c\" id=\"pp\">test2</p>\n",
      "<p class=\"c\" id=\"pp\">test2</p>\n",
      "None\n"
     ]
    }
   ],
   "source": [
    "print(soup.find(id='pp'))\n",
    "print(soup.find(True,id='pp'))\n",
    "print(soup.find(True,{'id':'pp'}))\n",
    "print(soup.find({'id':'pp'})) # 잘못된방법, '{id:pp}'를 태그이름 으로 인식한다"
   ]
  },
  {
   "cell_type": "markdown",
   "metadata": {},
   "source": [
    "# 문제4\n",
    "BeautifulSoup 객체를 이용하여 모든 `<p>` 태그를 찾아서 리스트 형태로 출력하시오.\n",
    "\n",
    "(.find_all() 함수 이용)\n",
    "\n",
    "***출력***\n",
    "```\n",
    "[<p>test1</p>, <p class=\"c\" id=\"pp\">test2</p>, <p class=\"d\">test3</p>, <p class=\"e\">test4</p>]\n",
    "```"
   ]
  },
  {
   "cell_type": "code",
   "execution_count": 14,
   "metadata": {
    "scrolled": true
   },
   "outputs": [
    {
     "name": "stdout",
     "output_type": "stream",
     "text": [
      "[<p>test1</p>, <p class=\"c\" id=\"pp\">test2</p>, <p class=\"d\">test3</p>, <p class=\"e\">test4</p>]\n",
      "[<p>test1</p>, <p class=\"c\" id=\"pp\">test2</p>, <p class=\"d\">test3</p>, <p class=\"e\">test4</p>]\n",
      "<p>test1</p>\n"
     ]
    }
   ],
   "source": [
    "print(soup.find_all('p'))\n",
    "\n",
    "# 그외 방법들\n",
    "\n",
    "print(soup.body.find_all('p'))\n",
    "print(soup.find('body').p)\n",
    "#print(soup.find_all('body').p) # 에러 \n",
    "\n",
    "# for tags in soup.find_all('p'):\n",
    "#     print(tags)"
   ]
  },
  {
   "cell_type": "markdown",
   "metadata": {},
   "source": [
    "# 문제5\n",
    "BeautifulSoup 객체를 이용하여 `<p>` 태그 이면서 `class` 태그 속성 값이 `'e'`인 모든 태그를 찾아서 리스트 형태로 출력하시오.\n",
    "\n",
    "(.find_all() 함수 이용)\n",
    "\n",
    "***출력***\n",
    "```\n",
    "[<p class=\"e\">test4</p>]\n",
    "```"
   ]
  },
  {
   "cell_type": "code",
   "execution_count": 17,
   "metadata": {
    "scrolled": true
   },
   "outputs": [
    {
     "data": {
      "text/plain": [
       "[<p class=\"e\">test4</p>]"
      ]
     },
     "execution_count": 17,
     "metadata": {},
     "output_type": "execute_result"
    }
   ],
   "source": [
    "soup.find_all('p', class_='e')"
   ]
  },
  {
   "cell_type": "markdown",
   "metadata": {},
   "source": [
    "# 문제6\n",
    "BeautifulSoup 객체를 이용하여 모든 `<p>` 태그들의 text를 한줄에 하나씩 출력하시오.\n",
    "\n",
    "(.find_all() 함수 이용)\n",
    "\n",
    "***출력***\n",
    "```\n",
    "test1\n",
    "test2\n",
    "test3\n",
    "test4\n",
    "```"
   ]
  },
  {
   "cell_type": "code",
   "execution_count": 19,
   "metadata": {
    "scrolled": true
   },
   "outputs": [
    {
     "name": "stdout",
     "output_type": "stream",
     "text": [
      "test1\n",
      "test2\n",
      "test3\n",
      "test4\n"
     ]
    }
   ],
   "source": [
    "for tags in soup.find_all('p'):\n",
    "    print(tags.text)"
   ]
  },
  {
   "cell_type": "markdown",
   "metadata": {},
   "source": [
    "# 문제7\n",
    "BeautifulSoup 객체를 이용하여 `class` 태그속성 값이 `'e'`인 모든 태그들을 한줄에 하나씩 출력하시오.\n",
    "\n",
    "(.find_all() 함수 이용)\n",
    "\n",
    "***출력***\n",
    "```\n",
    "<p class=\"e\">test4</p>\n",
    "<b class=\"e\">b tag</b>\n",
    "```"
   ]
  },
  {
   "cell_type": "code",
   "execution_count": 20,
   "metadata": {},
   "outputs": [
    {
     "name": "stdout",
     "output_type": "stream",
     "text": [
      "<p class=\"e\">test4</p>\n",
      "<b class=\"e\">b tag</b>\n"
     ]
    }
   ],
   "source": [
    "for tags in soup.find_all(class_='e'):\n",
    "    print(tags)"
   ]
  },
  {
   "cell_type": "markdown",
   "metadata": {},
   "source": [
    "# 문제8\n",
    "BeautifulSoup 객체를 이용하여 `class` 태그속성이 있는 모든 태그를 한줄에 하나씩 출력하시오.\n",
    "\n",
    "(.find_all() 함수 이용)\n",
    "\n",
    "***출력***\n",
    "```\n",
    "<title class=\"c\">test site</title>\n",
    "<p class=\"c\" id=\"pp\">test2</p>\n",
    "<p class=\"d\">test3</p>\n",
    "<p class=\"e\">test4</p>\n",
    "<b class=\"e\">b tag</b>\n",
    "```"
   ]
  },
  {
   "cell_type": "code",
   "execution_count": 23,
   "metadata": {},
   "outputs": [
    {
     "name": "stdout",
     "output_type": "stream",
     "text": [
      "<title class=\"c\">test site</title>\n",
      "<p class=\"c\" id=\"pp\">test2</p>\n",
      "<p class=\"d\">test3</p>\n",
      "<p class=\"e\">test4</p>\n",
      "<b class=\"e\">b tag</b>\n"
     ]
    }
   ],
   "source": [
    "for tags in soup.find_all(class_=True): # class 가 있기만 하면 모두 출력\n",
    "    print(tags)"
   ]
  },
  {
   "cell_type": "markdown",
   "metadata": {},
   "source": [
    "# 문제9\n",
    "https://www.python.org/\n",
    "\n",
    "위 홈페이지에 있는 첫 번째 `<img>` 태그의 모든 속성 값을 한줄에 하나씩 출력하시오.\n",
    "\n",
    "단 태그 속성은 대괄호(`[,]`)로 둘러 싸이게 출력한다.\n",
    "\n",
    "(Tag 객체의 .attrs 속성 이용)\n",
    "\n",
    "\n",
    "***출력***\n",
    "```\n",
    "[class]:['python-logo']\n",
    "[src]:/static/img/python-logo.png\n",
    "[alt]:python™\n",
    "```"
   ]
  },
  {
   "cell_type": "code",
   "execution_count": 3,
   "metadata": {},
   "outputs": [
    {
     "name": "stdout",
     "output_type": "stream",
     "text": [
      "True\n",
      "<img alt=\"python™\" class=\"python-logo\" src=\"/static/img/python-logo.png\"/>\n",
      "{'class': ['python-logo'], 'src': '/static/img/python-logo.png', 'alt': 'python™'}\n",
      "[class:['python-logo']]\n",
      "[src:/static/img/python-logo.png]\n",
      "[alt:python™]\n"
     ]
    }
   ],
   "source": [
    "# img 태그 가져오기 \n",
    "# html 가져오기 \n",
    "\n",
    "import requests as rq\n",
    "from bs4 import BeautifulSoup\n",
    "\n",
    "res = rq.get('https://www.python.org/') # python 주소 \n",
    "print(res.ok) # 호출 확인 \n",
    "\n",
    "soup = BeautifulSoup(res.text, 'lxml') # BeautifulSoup \n",
    "print(soup.find('img'))\n",
    "\n",
    "attrs = soup.find('img').attrs # img 태그 생성 \n",
    "print(attrs)\n",
    "\n",
    "for k,v in attrs.items():\n",
    "    print(f'[{k}:{v}]')\n",
    "    "
   ]
  },
  {
   "cell_type": "markdown",
   "metadata": {},
   "source": [
    "# 문제10 - 보너스 문제\n",
    "\n",
    "https://news.daum.net/ranking/popular\n",
    "\n",
    "위 홈페이지에 있는 모든 기사 제목과 링크를 아래와 같이 출력하시오.\n",
    "\n",
    "(힌트: class 태그속성이 tit_thumb 인 태그들을 이용한다.)\n",
    "\n",
    "***출력***\n",
    "```\n",
    "[1]:익산 대형 식자재마트 개점 한달만에 폐업..100억원대 피해 [https://v.daum.net/v/20210412111619572]\n",
    "[2]:[단독]\"짜장면 먹고 싶어\" 112 신고에 기지 발휘한 경찰, 성폭력 피해자 구출 [https://v.daum.net/v/20210412105637560]\n",
    "[3]:'성매매 했나' 6인병실 치료중인 여성 조사..\"인권침해\" [https://v.daum.net/v/20210412120040493]\n",
    "[4]:국민의당 최고위원 \"범죄자 신분에 건방지게\" 김종인 원색비난 [https://v.daum.net/v/20210412120833779]\n",
    "[5]:[단독]\"정치 한심한꼴 부끄럽다\" 떠난 이철희, 靑정무수석 내정 [https://v.daum.net/v/20210412112421959]\n",
    "[6]:[궁금하軍] 미국산 전투기 사면 되는데.. KF-21은 왜 '무모한 도전'을 했나 [https://v.daum.net/v/20210412120008434]\n",
    "[7]:오세훈표 서울 방역.. \"노래방 등 입장때 코로나 진단 키트 쓰자\" [https://v.daum.net/v/20210412111434468]\n",
    "[8]:\"장기가 사라졌다\"..미얀마 군경, 시신 돌려주는 대가로 10만원 요구 [https://v.daum.net/v/20210412102607242]\n",
    "```"
   ]
  },
  {
   "cell_type": "code",
   "execution_count": 63,
   "metadata": {},
   "outputs": [
    {
     "name": "stdout",
     "output_type": "stream",
     "text": [
      "[1]:[사건후] 결혼 한 달 만에..'비극'으로 끝난 50대 부부[https://v.daum.net/v/20210413101051242]\n",
      "[2]:\"만취한 상태에서 성관계. 바닥 기어가는 술주정해 나중에 보여주려고 사진 찍었다\"[https://v.daum.net/v/20210413070152813]\n",
      "[3]:\"1억 수표 없어졌다\" 80대 노인 신고..폐지 더미에서 발견[https://v.daum.net/v/20210413101426444]\n",
      "[4]:주호영 \"문 대통령, 임상 중인 백신으로 온 국민을 실험대상\"[https://v.daum.net/v/20210413100526917]\n",
      "[5]:자전거 쳐 70대 사망..제한속도 넘긴 BMW 무죄, 왜?[https://v.daum.net/v/20210413110103988]\n",
      "[6]:[시선집중] 민주당 소속 강남구청장 \"吳 부동산 정책, 옳은 방향.. 강남 특수성 인정해야 정책 성공\"[https://v.daum.net/v/20210413093952688]\n",
      "[7]:음식 사오려..도로 한가운데 트렁크 열고 정차한 SUV '황당'[https://v.daum.net/v/20210413104417157]\n",
      "[8]:일본 후쿠시마 오염수 방류 결정.. \"2년 뒤부터 약 30년간 바다에\"[https://v.daum.net/v/20210413081922974]\n",
      "[9]:\"윤석열, 청년 비정규직이면 어찌 결혼·출산할 수 있나 강조..4시간 토론했다\"[https://v.daum.net/v/20210413103219457]\n",
      "[10]:\"가방에서 숙박업소 영수증 나와도 참았고, 신발장에서 임신테스트기 30개 발견했을 때도 용서했다\"[https://v.daum.net/v/20210413070441866]\n",
      "[11]:오늘 오후부터 기온 뚝..\"밤 10시 경기북부 등 한파주의보\"(종합)[https://v.daum.net/v/20210413104806362]\n",
      "[12]:[최강시사] 이준석 \"최고위원은 많이 해봐서 나가려면 무조건 당 대표다\"[https://v.daum.net/v/20210413093344403]\n",
      "[13]:[차이나통통] \"전기는 모두 우리것\" 대륙 뒤흔든 부패 형제들[https://v.daum.net/v/20210413073309224]\n",
      "[14]:백악관에 삼성전자 호출한 바이든..결국은 '투자' 압박[https://v.daum.net/v/20210413093644530]\n",
      "[15]:[AS뉴스]\"3500cc 피 흐르는데 사라진 의사..성형외과는 공장이었나\"[https://v.daum.net/v/20210413101802647]\n",
      "[16]:세계에서 가장 큰 129cm '기네스북 토끼' 도둑맞아[https://v.daum.net/v/20210413101750625]\n",
      "[17]:'채동욱 혼외자 수사' 장영수 고검장 사의..\"가장 중요한 건 법·원칙\"(종합)[https://v.daum.net/v/20210413104823381]\n",
      "[18]:\"데이트하자\"..산책하는 10대에게 손등 뽀뽀한 70대[https://v.daum.net/v/20210413094820026]\n",
      "[19]:땡땡이 치고 주꾸미.. 공무원들 '쪼개앉기' 회식 물의[https://v.daum.net/v/20210413101201311]\n",
      "[20]:'정치방송인 김어준 퇴출' 靑 국민청원 20만명 넘어..정부 답변기준 달성[https://v.daum.net/v/20210413080308640]\n",
      "[21]:'신경섬유종' 故 심현희 씨 후원금 8억 원은 어디로?[https://v.daum.net/v/20210413080039583]\n",
      "[22]:7억대 아파트 단숨 17억 됐다..부산 재건축단지 '박형준 파장'[https://v.daum.net/v/20210413093643529]\n",
      "[23]:카리브해 섬 화산 폭발..마을은 화산재로 뒤덮였다[포착][https://v.daum.net/v/20210413100449886]\n",
      "[24]:인천 모텔서 생후 2개월 여아 심정지..아버지 긴급체포[https://v.daum.net/v/20210413085812938]\n",
      "[25]:\"남편은 돈 빼앗고 연인 오나시스는 성 착취\"..'세기의 디바' 칼라스, 참혹했던 무대 뒤의 삶[https://v.daum.net/v/20210413050728598]\n",
      "[26]:\"살기 위해 성전환 수술받았는데\"..변희수, 사망 전 남긴 말[https://v.daum.net/v/20210413102331958]\n",
      "[27]:첫 국무회의 오세훈에 文대통령 \"당선축하..어디 계시죠?\"[https://v.daum.net/v/20210413113855832]\n",
      "[28]:吳 \"노래방 신속항원검사 도입\"에 업주들 \"키트 비용은 누가\"[촉!][https://v.daum.net/v/20210413102220922]\n",
      "[29]:[황출새]김어준 퇴출청원 20만, 김남국\"아픈 주제 다뤄서\" 박수영\"편향적이라서\"[https://v.daum.net/v/20210413104200035]\n",
      "[30]:류호정 \"대통령 지키려 꼰대질 계속하면 청년들 완전히 외면\"[https://v.daum.net/v/20210413110411174]\n",
      "[31]:美국무부, '오염수' 대신 '처리수'..\"日방류 결정, 투명·국제표준 부합\"[https://v.daum.net/v/20210413110740379]\n",
      "[32]:\"몸길이 129cm 나가는 토끼 훔쳐간 분, 돌려주면 155만원\"[https://v.daum.net/v/20210413071602021]\n",
      "[33]:김치 하루동안 실온 보관하면?..유해세균 줄고 맛은 더 좋아지고[https://v.daum.net/v/20210413092755106]\n",
      "[34]:\"김종인, 안철수 수십번 만났지만 지도자감 아니라 해\"[https://v.daum.net/v/20210413102602049]\n",
      "[35]:미, 日 후쿠시마 오염수 방류 지지..\"국제 안전기준 부합\"[https://v.daum.net/v/20210413103255493]\n",
      "[36]:김명수 출근길 대법원간 주호영 \"金, 이러다 말겠지 착각 말라\"[https://v.daum.net/v/20210413101849699]\n",
      "[37]:오세훈 '서울형 독자방역'..K방역 불신 오죽하면 이러겠나[https://v.daum.net/v/20210413094500895]\n",
      "[38]:광주 '가족모임' 감염 일파만파..골프·여행 접촉자 등 14명 확진[https://v.daum.net/v/20210413091024458]\n",
      "[39]:\"김치, 실온서 하룻밤 숙성 후 냉장 보관하면 더 안전\"[https://v.daum.net/v/20210413085938968]\n",
      "[40]:[단독] 서울시 행정망에서 사라진 'I.SEOUL.U'..공직자 내부에서 시작된 朴 흔적 지우기[https://v.daum.net/v/20210413095420266]\n",
      "[41]:美 경고 나오자 中전투기 대만 방공식별구역 가득 메웠다[https://v.daum.net/v/20210413095115153]\n",
      "[42]:[여기는 남미] \"국민들 다 죽어간다\" 관에서 선거운동 시작한 후보[https://v.daum.net/v/20210413092605044]\n",
      "[43]:'4차 유행 문턱'..공항은 여행객들로 북적북적 [TF사진관][https://v.daum.net/v/20210413112004044]\n",
      "[44]:잘못 입금된 13억 안 돌려준 흑인, 결국 체포당했다[https://v.daum.net/v/20210413065307668]\n",
      "[45]:김지은, 안희정 상대 3억 손배소..오는 6월 첫 재판[https://v.daum.net/v/20210413095140171]\n",
      "[46]:택배노조 \"입주민, 대화 요청 거절\"..갈등 격화되는 고덕 아파트단지[촉!][https://v.daum.net/v/20210413104422167]\n",
      "[47]:알약과 요구르트 한번에? 어디서 본 것 같은데..[https://v.daum.net/v/20210413110341144]\n",
      "[48]:'5·18 심장부' 옛 전남도청에 탄흔 수백개..탄두 10개 발견[https://v.daum.net/v/20210413094619945]\n",
      "[49]:피트니스센터 샤워실 환풍기 사이로 불법 촬영 고교생 경찰 조사[https://v.daum.net/v/20210413103105365]\n",
      "[50]:문대통령, 오세훈과 첫 화상대면..\"당선 축하드리고 환영한다\"[https://v.daum.net/v/20210413110815408]\n",
      "[51]:수십 년만의 가뭄에 굶주린 농민, 동포 말고 누가 도우랴[https://v.daum.net/v/20210413114010915]\n",
      "[52]:화웨이 \"올해 스마트카에 1조원 이상 투자\" [https://v.daum.net/v/20210413114002908]\n"
     ]
    }
   ],
   "source": [
    "import requests as rq\n",
    "\n",
    "res = rq.get(\"https://news.daum.net/ranking/popular\")\n",
    "soup = BeautifulSoup(res.text, 'lxml')\n",
    "\n",
    "# for i in soup.find_all(class_='tit_thumb'):\n",
    "#     print(i)\n",
    "\n",
    "#num = 0 \n",
    "# <a class=\"link_txt\" href=\"https://v.daum.net/v/20210413101051242\">[사건후] 결혼 한 달 만에..'비극'으로 끝난 50대 부부</a>\n",
    "\n",
    "\n",
    "for i,v in enumerate(soup.body.find_all(class_='tit_thumb')):\n",
    "#     num +=1\n",
    "#     print(i,v)\n",
    "\n",
    "    title = v.a.text # value 의 text \n",
    "    link = v.a.get('href') # value. 'href'\n",
    "    print(f'[{i+1}]:{title}[{link}]')"
   ]
  },
  {
   "cell_type": "code",
   "execution_count": null,
   "metadata": {},
   "outputs": [],
   "source": []
  }
 ],
 "metadata": {
  "kernelspec": {
   "display_name": "Python 3",
   "language": "python",
   "name": "python3"
  },
  "language_info": {
   "codemirror_mode": {
    "name": "ipython",
    "version": 3
   },
   "file_extension": ".py",
   "mimetype": "text/x-python",
   "name": "python",
   "nbconvert_exporter": "python",
   "pygments_lexer": "ipython3",
   "version": "3.8.5"
  }
 },
 "nbformat": 4,
 "nbformat_minor": 4
}
