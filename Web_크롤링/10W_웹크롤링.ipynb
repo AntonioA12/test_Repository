{
 "cells": [
  {
   "cell_type": "markdown",
   "metadata": {},
   "source": [
    "## JAVA Script\n",
    "\n",
    "    html, css , java script 중 유일한 프로그래밍 언어 \n",
    "    html - 구조 , css - 스타일 , java script - 기능 역할 in 크롤링\n",
    "    \n",
    "    html 의 기능, 변화를 담당함 \n",
    "    \n",
    "## HTTP 요청\n",
    "\n",
    "    클라이언트 <----------> 서버 \n",
    "    (요청)  <- html , css , java -> (응답)"
   ]
  },
  {
   "cell_type": "markdown",
   "metadata": {},
   "source": [
    "## Selenum\n",
    "\n",
    "    Java Script 를 사용하는 홈페이지 크롤링 ( JS 지원 )\n",
    "    java 사용하는 홈페이지에서 java 없이 요청시 \n",
    "    응답이 없음. java 요구하는 홈페이지엔 반드시 java 포함하여 요청해야함. \n",
    "\n",
    "## 프론트 엔드 vs 백 엔드 \n",
    "\n",
    "    프론트 엔드 : html, css, JS 작업 \n",
    "                글꼴 및 색상 , 메뉴 및 슬라이더, 사용자 상호작용부분 제작\n",
    "                (보여지는 분야 )\n",
    "    백 엔드 : 웹사이트의 서버, 응용프로그램, 데이터베이스 관리 , 보안 , 인증 , 해킹 \n",
    "                (보여지지않는것)\n",
    "                \n",
    "## Ajax \n",
    "\n",
    "    비동기식 JS + xml \n",
    "    전체 페이지를 새로고침 하지 않고도 페이지의 일부만 바꾸기 위한 데이터 로드하는 기법 \n",
    "    \n",
    "    ex) 실시간 댓글, 채팅 \n",
    "    \n",
    "    JS 가 실시간 데이터를 홈페이지에 요청을 받으면 \n",
    "    JS 가 응답하여 html 을 업데이트 하는 방식 \n",
    "    \n",
    "    기존 클라이언트 <-> 서버 요청응답 관계에서\n",
    "    JS 가 추가되어 클라이언트 <-> JS <-> 서버 로 총 3개의 구조로 응답 요청하는 구조 ( = 비동기 방식 ) "
   ]
  },
  {
   "cell_type": "markdown",
   "metadata": {},
   "source": [
    "## Selenium 2\n",
    "\n",
    "    프로그래밍으로 웹 브라이주럴 컨트롤하는 자동화 프레임워크 ( 컨트롤러 ) \n",
    "    \n",
    "#### 셀레니움 -  Web driver \n",
    "\n",
    "    Web driver 를 통해 Chrome 컨트롤 ( 브라우저 마다 Web driver 가 다르다 ) \n",
    "    \n",
    "    사용목적\n",
    "    - 웹페이지 테스트\n",
    "    - 크롤링\n",
    "    \n",
    "    Selenium 을 사용하면\n",
    "    1개의 API 를 통해\n",
    "    모든 브라우저에서 테스트를 가능하다. \n",
    "    \n",
    "    handdle error = 커널 재시작 해야함 "
   ]
  },
  {
   "cell_type": "code",
   "execution_count": 1,
   "metadata": {},
   "outputs": [
    {
     "name": "stdout",
     "output_type": "stream",
     "text": [
      "Collecting selenium\n",
      "  Downloading selenium-3.141.0-py2.py3-none-any.whl (904 kB)\n",
      "Requirement already satisfied: urllib3 in c:\\users\\gyqls\\anaconda3\\lib\\site-packages (from selenium) (1.25.11)\n",
      "Installing collected packages: selenium\n",
      "Successfully installed selenium-3.141.0\n"
     ]
    }
   ],
   "source": [
    "!pip install selenium"
   ]
  },
  {
   "cell_type": "code",
   "execution_count": 10,
   "metadata": {},
   "outputs": [],
   "source": [
    "from selenium import webdriver\n",
    "import time\n",
    "\n",
    "chromedriver_path = './chromedriver.exe' # 드라이버 위치 , 경로가 정확한지 체크 팔수 \n",
    "driver = webdriver.Chrome(chromedriver_path) # 운전자 , 크롬 , 드라이버 위치 \n",
    "\n",
    "driver.get('https://python.org/') # get 요청 ()로 가자 \n",
    "time.sleep(5) # sleep 반드시 필요함 왜? 요청 및 응답 하는데 시간이 걸리기 때문 복잡한 주소일수록 긴 시간이 필요함. \n",
    "\n",
    "driver.close() # 종료 "
   ]
  },
  {
   "cell_type": "markdown",
   "metadata": {},
   "source": [
    "## 셀레니움 parsing ( 선택자 ) / driver.find_element_by_css_selecor() /  driver.find_elements_by_css_selecor() \n",
    "\n",
    "    driver.find_element_by_css_selecor(선택자)\n",
    "    = find() , select_one() 와 유사한 기능\n",
    "   \n",
    "    driver.find_elements_by_css_selecor(선택자)\n",
    "    = find_all() , select() 와 유사한 기능 \n",
    "\n",
    "    return은 리스트형태 \n",
    "\n",
    "\n",
    "    "
   ]
  },
  {
   "cell_type": "markdown",
   "metadata": {},
   "source": [
    "## 스크린샷 찍기 , save_screenshot(저장할이름과 타입)"
   ]
  },
  {
   "cell_type": "code",
   "execution_count": 11,
   "metadata": {},
   "outputs": [],
   "source": [
    "\n",
    "chromedriver_path = './chromedriver.exe'\n",
    "driver = webdriver.Chrome(chromedriver_path)\n",
    "\n",
    "driver.get('https://python.org/')\n",
    "time.sleep(3)\n",
    "\n",
    "driver.save_screenshot('./python.org.png') # 스크린샷 + 저장할 이름 과 타입 \n",
    "\n",
    "driver.close()"
   ]
  },
  {
   "cell_type": "markdown",
   "metadata": {},
   "source": [
    "## 키 입력하기 , .send_keys() / 검색창에 내가 원하는 정보 검색하기"
   ]
  },
  {
   "cell_type": "code",
   "execution_count": 15,
   "metadata": {},
   "outputs": [
    {
     "name": "stdout",
     "output_type": "stream",
     "text": [
      "q\n"
     ]
    }
   ],
   "source": [
    "# name= q 인 input 태그를 찾아라 \n",
    "\n",
    "\n",
    "chromedriver_path = './chromedriver.exe'\n",
    "driver = webdriver.Chrome(chromedriver_path)\n",
    "\n",
    "driver.get('https://www.google.com/') # 접속할 홈페이지 \n",
    "time.sleep(3)\n",
    "\n",
    "tag = driver.find_element_by_css_selector('input[name=q]') # name= q 인 input 태그를 찾아라 \n",
    "print(tag.get_attribute('name')) # tag 변수의 특성값을 확인 \n",
    "\n",
    "tag.send_keys('고양이') # 고양이 검색할게 \n",
    "tag.submit()\n",
    "time.sleep(5)\n",
    "\n",
    "\n",
    "driver.close()"
   ]
  }
 ],
 "metadata": {
  "kernelspec": {
   "display_name": "Python 3",
   "language": "python",
   "name": "python3"
  },
  "language_info": {
   "codemirror_mode": {
    "name": "ipython",
    "version": 3
   },
   "file_extension": ".py",
   "mimetype": "text/x-python",
   "name": "python",
   "nbconvert_exporter": "python",
   "pygments_lexer": "ipython3",
   "version": "3.8.5"
  }
 },
 "nbformat": 4,
 "nbformat_minor": 4
}
