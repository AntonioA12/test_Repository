{
 "cells": [
  {
   "cell_type": "code",
   "execution_count": 1,
   "metadata": {},
   "outputs": [],
   "source": [
    "from bs4 import BeautifulSoup"
   ]
  },
  {
   "cell_type": "markdown",
   "metadata": {},
   "source": [
    "# 경로 \n",
    "    - 태그를 주소,url,경로 로 바꾼 후 가져와야한다.\n",
    "    - 절대경로 와 상대경로 둘다 url 로 변경해야 가져올 수 있다.\n",
    "\n",
    "\n",
    "### 절대경로\n",
    "\n",
    "    '/' , '//' , 'c:/' 으로 시작한다.\n",
    "    서버 or 컴퓨상의 절대적인 물리적 경로이다.\n",
    "    \n",
    "    /data/test/a.txt \n",
    "    = data 아래의 test 의 a.txt \n",
    "    \n",
    "    \n",
    "### 절대경로 -> url 로 변경하기\n",
    "\n",
    "    base url ( 현재 디렉토리 ) \n",
    "    = http://example.com/data/img/a.jpg\n",
    "    \n",
    "    1. / 로 시작하는 절대경로\n",
    "        프로토콜 + 도메인 이후 그대로 바로 절대경로 생성\n",
    "        http://example.com/abc.jpg\n",
    "    2. // 로 시작하는 절대경로\n",
    "        도메인까지 바꾼다. ( 프로토콜 배고 다 바꾼다 ) \n",
    "        https:// 빼고 다 바꾼다. \n",
    "    3. 프로토콜까지 바꾸는 절대경로 \n",
    "\n",
    "### 상대경로\n",
    "\n",
    "    './' , '..'' , 'a.txt' , 'abc/a.txt' \n",
    "    파일 or 디렉토리 이름으로 시작한다.\n",
    "    . , .. 부모인지 자식인지 후손인지 파악가능 (. = 현재 , .. = 부모 ) \n",
    "    ex) a.txt = 현재 txt 안에 있음\n",
    "    abc/a.txt abc = 태그 믿에 현재 txt 가 있음 \n",
    "    ./test.txt = 현재 태그 밑에 test.txt \n",
    "    ./ok/.a.jpg = 현재 ok 태그 밑에 a.jpg \n",
    "    ../next/index.html next 부모태그 에 index.html 이있음 ( 둘다 부모급 ) \n",
    "    \n",
    "### 상대경로 -> url 로 변경하기 \n",
    "\n",
    "    base url ( 현재 디렉토리 ) \n",
    "    = http://example.com/data/img/a.jpg\n",
    "    에서 /data/img 가 현재 디렉토리 \n",
    "    data 태그 아래에서 어떤것을 원하냐에 따라 형식이 달라짐 \n",
    "    ex) \n",
    "    = data/img/abc.jpg\n",
    "    = data/text/a.txt\n",
    "    = data/img/user.doc\n",
    "    \n",
    "    \n",
    "### url \n",
    "\n",
    "    프로토콜 : 주소 or IP : 포트 번호 / 리소스 경로 ? 쿼리스트링 \n",
    "                ( 도메인 )               ( 절대경로 ) "
   ]
  },
  {
   "cell_type": "markdown",
   "metadata": {},
   "source": [
    "## url 절대경로 만들기 \n",
    "\n",
    "    urljoin\n",
    "    = 상대경로 든 절대경로든 무조건 url로 변환해주는 라이브러리 "
   ]
  },
  {
   "cell_type": "code",
   "execution_count": 2,
   "metadata": {},
   "outputs": [],
   "source": [
    "from urllib.parse import urljoin"
   ]
  },
  {
   "cell_type": "code",
   "execution_count": 15,
   "metadata": {},
   "outputs": [
    {
     "name": "stdout",
     "output_type": "stream",
     "text": [
      "http://test.com/data/html/b.html\n",
      "http://test.com/data/html/sub/c.html\n",
      "http://test.com/data/html/img/hoge.png\n",
      "http://test.com/data/index.html\n",
      "http://test.com/index.html\n",
      "http://test.com/css/hoge.css\n",
      "http://myhome.com/css/hoge.css\n",
      "https://myhome.com/css/hoge.css\n"
     ]
    }
   ],
   "source": [
    "base_url = \"http://test.com/data/html/a.html\"\n",
    "print( urljoin(base_url, \"b.html\") ) # / 가 없어서 상대경로 \n",
    "print( urljoin(base_url, \"sub/c.html\") ) # / 가 있어서 절대경로 \n",
    "print( urljoin(base_url, \"./img/hoge.png\") ) # . 현재위치에 /img/hoge.png 가져오기  \n",
    "print( urljoin(base_url, \"../index.html\") )  # .. 부모 위치에 있는 /index.html 가져오기 \n",
    "print( urljoin(base_url, \"../../index.html\") ) # .. + .. = 조부모 / \n",
    "print( urljoin(base_url, \"/css/hoge.css\") ) # 절대경로 이기떄문에 도메인 뒤에 바로 url 작성 \n",
    "print( urljoin(base_url, \"//myhome.com/css/hoge.css\") ) # 프로토콜 빼고 다 바꾼다 ( 도메인 변경 )\n",
    "print( urljoin(base_url, \"https://myhome.com/css/hoge.css\") ) # 프로토콜 마저 바꾼다 ( 내가 지정하겠다 )\n"
   ]
  },
  {
   "cell_type": "markdown",
   "metadata": {},
   "source": [
    "## url 인코딩\n",
    "\n",
    "    한글의 경우 컴퓨터가 읽지 못할경우 가  있다.\n",
    "    따라서 한글을 유니코드 화 시킨후 url에 포함시켜야\n",
    "    컴퓨터가 읽을 수 있다. "
   ]
  },
  {
   "cell_type": "code",
   "execution_count": 10,
   "metadata": {},
   "outputs": [
    {
     "name": "stdout",
     "output_type": "stream",
     "text": [
      "https://example.com/a.html?q=%EA%B3%A0%EC%96%91%EC%9D%B4\n"
     ]
    }
   ],
   "source": [
    "from urllib.parse import quote\n",
    "\n",
    "#base_url = \"https://example.com/a.html?q=고양이\"\n",
    "base_url = \"https://example.com/a.html?q=\" # 쿼리스트링 경로 str \n",
    "\n",
    "quote_str = quote(\"고양이\")\n",
    "url = base_url + quote_str\n",
    "print(url)\n"
   ]
  },
  {
   "cell_type": "markdown",
   "metadata": {},
   "source": [
    "## 디렉토리 생성 "
   ]
  },
  {
   "cell_type": "code",
   "execution_count": 11,
   "metadata": {},
   "outputs": [],
   "source": [
    "import os\n",
    "\n",
    "save_path =\"./test_dir\"\n",
    "try:\n",
    "    if not(os.path.isdir(save_path)): # 디렉토리가 만들어져 있지 않으면\n",
    "        os.makedirs(os.path.join(save_path)) # 디렉토리를 생성한다.\n",
    "except OSError as e:\n",
    "    print(\"Failed to create directory!!!!!\")\n",
    "    raise # OS에 에러를 전달해 준다.\n"
   ]
  },
  {
   "cell_type": "markdown",
   "metadata": {},
   "source": [
    "\n",
    "    파일다운로드방법\n",
    "    urllib.request 패키지의 urlretrieve()함수를 이용해서 쉽게 url로 표현되는 파일을 받을 수 있다.\n",
    "    \n",
    "    urlretrieve(<url>( 다운받고싶은 url 주소 , <path> 내 저장위치, 저장할 이름) ( 가져오기 ) \n",
    "    첫 번째 파라미터는 다운로드 하고 싶은 url 주소가 온다.\n",
    "    두 번째 파라미터는 저장하고 싶은 파일명 또는 path가 온다.\n",
    "    \n",
    "    예시\n",
    "    http://pythonscraping.com/ 에서 책 표지 그림 파일 받기\n"
   ]
  },
  {
   "cell_type": "code",
   "execution_count": 14,
   "metadata": {},
   "outputs": [
    {
     "data": {
      "text/plain": [
       "('./a.jpg', <http.client.HTTPMessage at 0x20e8d30e220>)"
      ]
     },
     "execution_count": 14,
     "metadata": {},
     "output_type": "execute_result"
    }
   ],
   "source": [
    "from urllib.request import urlretrieve\n",
    "\n",
    "url = \"http://pythonscraping.com/img/lrg%20(1).jpg\"\n",
    "urlretrieve(url, \"./a.jpg\") # 가져올 url , 저장위치 및 이름 \n"
   ]
  },
  {
   "cell_type": "code",
   "execution_count": null,
   "metadata": {},
   "outputs": [],
   "source": []
  }
 ],
 "metadata": {
  "kernelspec": {
   "display_name": "Python 3",
   "language": "python",
   "name": "python3"
  },
  "language_info": {
   "codemirror_mode": {
    "name": "ipython",
    "version": 3
   },
   "file_extension": ".py",
   "mimetype": "text/x-python",
   "name": "python",
   "nbconvert_exporter": "python",
   "pygments_lexer": "ipython3",
   "version": "3.8.5"
  }
 },
 "nbformat": 4,
 "nbformat_minor": 4
}
